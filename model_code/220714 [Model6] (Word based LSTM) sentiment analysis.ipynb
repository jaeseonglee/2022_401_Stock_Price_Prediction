{
 "cells": [
  {
   "cell_type": "code",
   "execution_count": null,
   "metadata": {
    "id": "vXnh6vW14i0E"
   },
   "outputs": [],
   "source": [
    "!fusermount -u drive"
   ]
  },
  {
   "cell_type": "markdown",
   "metadata": {
    "id": "AUqb7eldR4WX"
   },
   "source": [
    "## 드라이브 마운팅 & 워킹 디렉토리 변경"
   ]
  },
  {
   "cell_type": "code",
   "execution_count": null,
   "metadata": {
    "colab": {
     "base_uri": "https://localhost:8080/"
    },
    "id": "GWDlANokPjvm",
    "outputId": "211d8758-4a1d-4bb3-d384-1094ed431566"
   },
   "outputs": [
    {
     "name": "stdout",
     "output_type": "stream",
     "text": [
      "Mounted at /content/drive/MyDrive\n"
     ]
    }
   ],
   "source": [
    "from google.colab import drive\n",
    "drive.mount('/content/drive/MyDrive')"
   ]
  },
  {
   "cell_type": "code",
   "execution_count": null,
   "metadata": {
    "id": "3ZmRIPgQRwg5"
   },
   "outputs": [],
   "source": [
    "import os\n",
    "\n",
    "path = '/content/drive/MyDrive/MyDrive/NLP-StockMarket'\n",
    "os.chdir(path)"
   ]
  },
  {
   "cell_type": "markdown",
   "metadata": {
    "id": "H_Ot9wtKSI9X"
   },
   "source": [
    "## 필요 모듈 import"
   ]
  },
  {
   "cell_type": "code",
   "execution_count": null,
   "metadata": {
    "colab": {
     "base_uri": "https://localhost:8080/"
    },
    "id": "s4EvqZPmTnXc",
    "outputId": "0789b536-396e-4efd-9713-94bd847693f8"
   },
   "outputs": [
    {
     "name": "stdout",
     "output_type": "stream",
     "text": [
      "Looking in indexes: https://pypi.org/simple, https://us-python.pkg.dev/colab-wheels/public/simple/\n",
      "Collecting konlpy\n",
      "  Downloading konlpy-0.6.0-py2.py3-none-any.whl (19.4 MB)\n",
      "\u001b[K     |████████████████████████████████| 19.4 MB 5.4 MB/s \n",
      "\u001b[?25hRequirement already satisfied: lxml>=4.1.0 in /usr/local/lib/python3.7/dist-packages (from konlpy) (4.2.6)\n",
      "Collecting JPype1>=0.7.0\n",
      "  Downloading JPype1-1.4.0-cp37-cp37m-manylinux_2_5_x86_64.manylinux1_x86_64.whl (453 kB)\n",
      "\u001b[K     |████████████████████████████████| 453 kB 54.4 MB/s \n",
      "\u001b[?25hRequirement already satisfied: numpy>=1.6 in /usr/local/lib/python3.7/dist-packages (from konlpy) (1.21.6)\n",
      "Requirement already satisfied: typing-extensions in /usr/local/lib/python3.7/dist-packages (from JPype1>=0.7.0->konlpy) (4.1.1)\n",
      "Installing collected packages: JPype1, konlpy\n",
      "Successfully installed JPype1-1.4.0 konlpy-0.6.0\n"
     ]
    }
   ],
   "source": [
    "!pip install konlpy   # 코랩에서만 실행"
   ]
  },
  {
   "cell_type": "code",
   "execution_count": null,
   "metadata": {
    "id": "J1GYGxB1R3AY"
   },
   "outputs": [],
   "source": [
    "import pandas as pd\n",
    "from tqdm import tqdm\n",
    "from konlpy.tag import *\n",
    "import matplotlib.pyplot as plt\n",
    "from sklearn.metrics import accuracy_score\n",
    "import re\n",
    "from datetime import datetime, timedelta\n",
    "from keras.preprocessing.text import Tokenizer\n",
    "from tensorflow.keras.preprocessing.sequence import pad_sequences\n",
    "from sklearn.model_selection import train_test_split\n",
    "\n",
    "# 한글 깨짐 방지\n",
    "import matplotlib.font_manager as fm\n",
    "plt.rc('font', family='NanumGothic')\n",
    "\n",
    "# - 기호 깨짐 방지\n",
    "import matplotlib as mpl\n",
    "mpl.rcParams['axes.unicode_minus'] = False\n",
    "\n",
    "# 경고 무시\n",
    "import warnings\n",
    "warnings.filterwarnings('ignore')"
   ]
  },
  {
   "cell_type": "code",
   "execution_count": null,
   "metadata": {
    "id": "CdhNlBseo37R"
   },
   "outputs": [],
   "source": [
    "okt = Okt()"
   ]
  },
  {
   "cell_type": "markdown",
   "metadata": {
    "id": "IgQTHcKjVYGA"
   },
   "source": [
    "## 종목 선택, 뉴스 & 토론방 & 유튜브 데이터 통합"
   ]
  },
  {
   "cell_type": "code",
   "execution_count": null,
   "metadata": {
    "id": "x_Znbo9ZS9As"
   },
   "outputs": [],
   "source": [
    "# LG화학, 삼성SDI, SK이노베이션, 고려아연, 포스코케미칼\n",
    "stock_name = '삼성SDI'"
   ]
  },
  {
   "cell_type": "code",
   "execution_count": null,
   "metadata": {
    "id": "96PzeJsSS9X9"
   },
   "outputs": [],
   "source": [
    "naver_news = pd.read_csv('./data/refined_naver_news.csv', index_col=0)\n",
    "daum_news = pd.read_csv('./data/refined_daum_news.csv', index_col=0)\n",
    "naver_talks = pd.read_csv(f'./data/refined_naver_talks_{stock_name}.csv', index_col=0)\n",
    "daum_talks = pd.read_csv(f'./data/refined_daum_talks_{stock_name}.csv', index_col=0)\n",
    "youtube = pd.read_csv(f'./data/refined_youtube_{stock_name}.csv', index_col=0)"
   ]
  },
  {
   "cell_type": "code",
   "execution_count": null,
   "metadata": {
    "id": "QpmuPxKwS9cc"
   },
   "outputs": [],
   "source": [
    "naver_talks['Date'] = pd.to_datetime(naver_talks['Date'])\n",
    "daum_talks['Date'] = pd.to_datetime(daum_talks['Date'])"
   ]
  },
  {
   "cell_type": "code",
   "execution_count": null,
   "metadata": {
    "colab": {
     "base_uri": "https://localhost:8080/",
     "height": 424
    },
    "id": "8TObGBbDS-Bd",
    "outputId": "33f2d5eb-1004-4334-e7d0-bc0cfd66a4a8"
   },
   "outputs": [
    {
     "data": {
      "text/html": [
       "\n",
       "  <div id=\"df-36b8499b-3c0e-4d12-90dc-8a31ef2532a7\">\n",
       "    <div class=\"colab-df-container\">\n",
       "      <div>\n",
       "<style scoped>\n",
       "    .dataframe tbody tr th:only-of-type {\n",
       "        vertical-align: middle;\n",
       "    }\n",
       "\n",
       "    .dataframe tbody tr th {\n",
       "        vertical-align: top;\n",
       "    }\n",
       "\n",
       "    .dataframe thead th {\n",
       "        text-align: right;\n",
       "    }\n",
       "</style>\n",
       "<table border=\"1\" class=\"dataframe\">\n",
       "  <thead>\n",
       "    <tr style=\"text-align: right;\">\n",
       "      <th></th>\n",
       "      <th>Date</th>\n",
       "      <th>Title</th>\n",
       "    </tr>\n",
       "  </thead>\n",
       "  <tbody>\n",
       "    <tr>\n",
       "      <th>0</th>\n",
       "      <td>2021-01-01</td>\n",
       "      <td>서학개미 사로잡은 美 ESG ETF  올해도 高高할까</td>\n",
       "    </tr>\n",
       "    <tr>\n",
       "      <th>1</th>\n",
       "      <td>2021-01-01</td>\n",
       "      <td>신기록 쏟아낸 개미  순매수 63兆 예탁금 65兆 빚투 19兆</td>\n",
       "    </tr>\n",
       "    <tr>\n",
       "      <th>2</th>\n",
       "      <td>2021-01-01</td>\n",
       "      <td>2020년 재테크 성적표 1위는 주식  달러는  마이너스</td>\n",
       "    </tr>\n",
       "    <tr>\n",
       "      <th>3</th>\n",
       "      <td>2021-01-01</td>\n",
       "      <td>반도체 장비기업 ASML홀딩 급등  지금 매수해도 괜찮을까</td>\n",
       "    </tr>\n",
       "    <tr>\n",
       "      <th>4</th>\n",
       "      <td>2021-01-01</td>\n",
       "      <td>그래픽  GDP대비 코스피 시가총액 비율</td>\n",
       "    </tr>\n",
       "    <tr>\n",
       "      <th>...</th>\n",
       "      <td>...</td>\n",
       "      <td>...</td>\n",
       "    </tr>\n",
       "    <tr>\n",
       "      <th>679641</th>\n",
       "      <td>2022-07-05</td>\n",
       "      <td>노터스  주가전망 노터스 주가 노터스 주식 노터스 주식전망 노터스 주가전망 노터스...</td>\n",
       "    </tr>\n",
       "    <tr>\n",
       "      <th>679642</th>\n",
       "      <td>2022-07-05</td>\n",
       "      <td>한국비엔씨주가  한국비엔씨주가분석  한국비엔씨주식  한국비엔씨신주인수권  한국비엔...</td>\n",
       "    </tr>\n",
       "    <tr>\n",
       "      <th>679643</th>\n",
       "      <td>2022-07-05</td>\n",
       "      <td>씨아이에스 호재 떴다기사나오면 늦어요 삼성sdi 씨아이에스 전망 씨아이에스 주가 전...</td>\n",
       "    </tr>\n",
       "    <tr>\n",
       "      <th>679644</th>\n",
       "      <td>2022-07-05</td>\n",
       "      <td>버킷스튜디오  슈팅 나올 신호   그게 뭔데</td>\n",
       "    </tr>\n",
       "    <tr>\n",
       "      <th>679645</th>\n",
       "      <td>2022-07-05</td>\n",
       "      <td>주식챔피언쇼  7월 4일 방송 감소 파인테크닉스  삼부토건  이월드</td>\n",
       "    </tr>\n",
       "  </tbody>\n",
       "</table>\n",
       "<p>679646 rows × 2 columns</p>\n",
       "</div>\n",
       "      <button class=\"colab-df-convert\" onclick=\"convertToInteractive('df-36b8499b-3c0e-4d12-90dc-8a31ef2532a7')\"\n",
       "              title=\"Convert this dataframe to an interactive table.\"\n",
       "              style=\"display:none;\">\n",
       "        \n",
       "  <svg xmlns=\"http://www.w3.org/2000/svg\" height=\"24px\"viewBox=\"0 0 24 24\"\n",
       "       width=\"24px\">\n",
       "    <path d=\"M0 0h24v24H0V0z\" fill=\"none\"/>\n",
       "    <path d=\"M18.56 5.44l.94 2.06.94-2.06 2.06-.94-2.06-.94-.94-2.06-.94 2.06-2.06.94zm-11 1L8.5 8.5l.94-2.06 2.06-.94-2.06-.94L8.5 2.5l-.94 2.06-2.06.94zm10 10l.94 2.06.94-2.06 2.06-.94-2.06-.94-.94-2.06-.94 2.06-2.06.94z\"/><path d=\"M17.41 7.96l-1.37-1.37c-.4-.4-.92-.59-1.43-.59-.52 0-1.04.2-1.43.59L10.3 9.45l-7.72 7.72c-.78.78-.78 2.05 0 2.83L4 21.41c.39.39.9.59 1.41.59.51 0 1.02-.2 1.41-.59l7.78-7.78 2.81-2.81c.8-.78.8-2.07 0-2.86zM5.41 20L4 18.59l7.72-7.72 1.47 1.35L5.41 20z\"/>\n",
       "  </svg>\n",
       "      </button>\n",
       "      \n",
       "  <style>\n",
       "    .colab-df-container {\n",
       "      display:flex;\n",
       "      flex-wrap:wrap;\n",
       "      gap: 12px;\n",
       "    }\n",
       "\n",
       "    .colab-df-convert {\n",
       "      background-color: #E8F0FE;\n",
       "      border: none;\n",
       "      border-radius: 50%;\n",
       "      cursor: pointer;\n",
       "      display: none;\n",
       "      fill: #1967D2;\n",
       "      height: 32px;\n",
       "      padding: 0 0 0 0;\n",
       "      width: 32px;\n",
       "    }\n",
       "\n",
       "    .colab-df-convert:hover {\n",
       "      background-color: #E2EBFA;\n",
       "      box-shadow: 0px 1px 2px rgba(60, 64, 67, 0.3), 0px 1px 3px 1px rgba(60, 64, 67, 0.15);\n",
       "      fill: #174EA6;\n",
       "    }\n",
       "\n",
       "    [theme=dark] .colab-df-convert {\n",
       "      background-color: #3B4455;\n",
       "      fill: #D2E3FC;\n",
       "    }\n",
       "\n",
       "    [theme=dark] .colab-df-convert:hover {\n",
       "      background-color: #434B5C;\n",
       "      box-shadow: 0px 1px 3px 1px rgba(0, 0, 0, 0.15);\n",
       "      filter: drop-shadow(0px 1px 2px rgba(0, 0, 0, 0.3));\n",
       "      fill: #FFFFFF;\n",
       "    }\n",
       "  </style>\n",
       "\n",
       "      <script>\n",
       "        const buttonEl =\n",
       "          document.querySelector('#df-36b8499b-3c0e-4d12-90dc-8a31ef2532a7 button.colab-df-convert');\n",
       "        buttonEl.style.display =\n",
       "          google.colab.kernel.accessAllowed ? 'block' : 'none';\n",
       "\n",
       "        async function convertToInteractive(key) {\n",
       "          const element = document.querySelector('#df-36b8499b-3c0e-4d12-90dc-8a31ef2532a7');\n",
       "          const dataTable =\n",
       "            await google.colab.kernel.invokeFunction('convertToInteractive',\n",
       "                                                     [key], {});\n",
       "          if (!dataTable) return;\n",
       "\n",
       "          const docLinkHtml = 'Like what you see? Visit the ' +\n",
       "            '<a target=\"_blank\" href=https://colab.research.google.com/notebooks/data_table.ipynb>data table notebook</a>'\n",
       "            + ' to learn more about interactive tables.';\n",
       "          element.innerHTML = '';\n",
       "          dataTable['output_type'] = 'display_data';\n",
       "          await google.colab.output.renderOutput(dataTable, element);\n",
       "          const docLink = document.createElement('div');\n",
       "          docLink.innerHTML = docLinkHtml;\n",
       "          element.appendChild(docLink);\n",
       "        }\n",
       "      </script>\n",
       "    </div>\n",
       "  </div>\n",
       "  "
      ],
      "text/plain": [
       "             Date                                              Title\n",
       "0      2021-01-01                      서학개미 사로잡은 美 ESG ETF  올해도 高高할까\n",
       "1      2021-01-01                 신기록 쏟아낸 개미  순매수 63兆 예탁금 65兆 빚투 19兆\n",
       "2      2021-01-01                   2020년 재테크 성적표 1위는 주식  달러는  마이너스 \n",
       "3      2021-01-01                   반도체 장비기업 ASML홀딩 급등  지금 매수해도 괜찮을까\n",
       "4      2021-01-01                             그래픽  GDP대비 코스피 시가총액 비율\n",
       "...           ...                                                ...\n",
       "679641 2022-07-05   노터스  주가전망 노터스 주가 노터스 주식 노터스 주식전망 노터스 주가전망 노터스...\n",
       "679642 2022-07-05   한국비엔씨주가  한국비엔씨주가분석  한국비엔씨주식  한국비엔씨신주인수권  한국비엔...\n",
       "679643 2022-07-05  씨아이에스 호재 떴다기사나오면 늦어요 삼성sdi 씨아이에스 전망 씨아이에스 주가 전...\n",
       "679644 2022-07-05                         버킷스튜디오  슈팅 나올 신호   그게 뭔데  \n",
       "679645 2022-07-05              주식챔피언쇼  7월 4일 방송 감소 파인테크닉스  삼부토건  이월드\n",
       "\n",
       "[679646 rows x 2 columns]"
      ]
     },
     "execution_count": 11,
     "metadata": {},
     "output_type": "execute_result"
    }
   ],
   "source": [
    "# 데이터 통합\n",
    "news_df = pd.concat([naver_news, daum_news, naver_talks, daum_talks, youtube])\n",
    "\n",
    "# 'Date'열의 데이터 타입이 int여서 datetime으로 변환\n",
    "news_df['Date'] = pd.to_datetime(news_df['Date'].astype(str))     # str(변수) 는 자체 내장함수, 변수 하나씩밖에 적용 안됨.\n",
    "\n",
    "# 합쳐진 데이터의 인덱스 재설정\n",
    "news_df.sort_values('Date', ignore_index=True, inplace=True)\n",
    "\n",
    "news_df"
   ]
  },
  {
   "cell_type": "code",
   "execution_count": null,
   "metadata": {
    "colab": {
     "base_uri": "https://localhost:8080/",
     "height": 112
    },
    "id": "MoWWCKA3g1Dk",
    "outputId": "f8528129-6b2b-4b4a-c1dd-98324b3bcc1d"
   },
   "outputs": [
    {
     "data": {
      "text/html": [
       "\n",
       "  <div id=\"df-96734dba-7b4f-45d4-96b4-03b424ae9b89\">\n",
       "    <div class=\"colab-df-container\">\n",
       "      <div>\n",
       "<style scoped>\n",
       "    .dataframe tbody tr th:only-of-type {\n",
       "        vertical-align: middle;\n",
       "    }\n",
       "\n",
       "    .dataframe tbody tr th {\n",
       "        vertical-align: top;\n",
       "    }\n",
       "\n",
       "    .dataframe thead th {\n",
       "        text-align: right;\n",
       "    }\n",
       "</style>\n",
       "<table border=\"1\" class=\"dataframe\">\n",
       "  <thead>\n",
       "    <tr style=\"text-align: right;\">\n",
       "      <th></th>\n",
       "      <th>Date</th>\n",
       "      <th>Title</th>\n",
       "    </tr>\n",
       "  </thead>\n",
       "  <tbody>\n",
       "    <tr>\n",
       "      <th>639</th>\n",
       "      <td>2021-01-04</td>\n",
       "      <td>속보  새해 첫 거래일  코스피  0 04  오른 2874 50 출발</td>\n",
       "    </tr>\n",
       "    <tr>\n",
       "      <th>640</th>\n",
       "      <td>2021-01-04</td>\n",
       "      <td>대웅제약  코로나 치료제 임상3상 시험 시작  주가 상승</td>\n",
       "    </tr>\n",
       "  </tbody>\n",
       "</table>\n",
       "</div>\n",
       "      <button class=\"colab-df-convert\" onclick=\"convertToInteractive('df-96734dba-7b4f-45d4-96b4-03b424ae9b89')\"\n",
       "              title=\"Convert this dataframe to an interactive table.\"\n",
       "              style=\"display:none;\">\n",
       "        \n",
       "  <svg xmlns=\"http://www.w3.org/2000/svg\" height=\"24px\"viewBox=\"0 0 24 24\"\n",
       "       width=\"24px\">\n",
       "    <path d=\"M0 0h24v24H0V0z\" fill=\"none\"/>\n",
       "    <path d=\"M18.56 5.44l.94 2.06.94-2.06 2.06-.94-2.06-.94-.94-2.06-.94 2.06-2.06.94zm-11 1L8.5 8.5l.94-2.06 2.06-.94-2.06-.94L8.5 2.5l-.94 2.06-2.06.94zm10 10l.94 2.06.94-2.06 2.06-.94-2.06-.94-.94-2.06-.94 2.06-2.06.94z\"/><path d=\"M17.41 7.96l-1.37-1.37c-.4-.4-.92-.59-1.43-.59-.52 0-1.04.2-1.43.59L10.3 9.45l-7.72 7.72c-.78.78-.78 2.05 0 2.83L4 21.41c.39.39.9.59 1.41.59.51 0 1.02-.2 1.41-.59l7.78-7.78 2.81-2.81c.8-.78.8-2.07 0-2.86zM5.41 20L4 18.59l7.72-7.72 1.47 1.35L5.41 20z\"/>\n",
       "  </svg>\n",
       "      </button>\n",
       "      \n",
       "  <style>\n",
       "    .colab-df-container {\n",
       "      display:flex;\n",
       "      flex-wrap:wrap;\n",
       "      gap: 12px;\n",
       "    }\n",
       "\n",
       "    .colab-df-convert {\n",
       "      background-color: #E8F0FE;\n",
       "      border: none;\n",
       "      border-radius: 50%;\n",
       "      cursor: pointer;\n",
       "      display: none;\n",
       "      fill: #1967D2;\n",
       "      height: 32px;\n",
       "      padding: 0 0 0 0;\n",
       "      width: 32px;\n",
       "    }\n",
       "\n",
       "    .colab-df-convert:hover {\n",
       "      background-color: #E2EBFA;\n",
       "      box-shadow: 0px 1px 2px rgba(60, 64, 67, 0.3), 0px 1px 3px 1px rgba(60, 64, 67, 0.15);\n",
       "      fill: #174EA6;\n",
       "    }\n",
       "\n",
       "    [theme=dark] .colab-df-convert {\n",
       "      background-color: #3B4455;\n",
       "      fill: #D2E3FC;\n",
       "    }\n",
       "\n",
       "    [theme=dark] .colab-df-convert:hover {\n",
       "      background-color: #434B5C;\n",
       "      box-shadow: 0px 1px 3px 1px rgba(0, 0, 0, 0.15);\n",
       "      filter: drop-shadow(0px 1px 2px rgba(0, 0, 0, 0.3));\n",
       "      fill: #FFFFFF;\n",
       "    }\n",
       "  </style>\n",
       "\n",
       "      <script>\n",
       "        const buttonEl =\n",
       "          document.querySelector('#df-96734dba-7b4f-45d4-96b4-03b424ae9b89 button.colab-df-convert');\n",
       "        buttonEl.style.display =\n",
       "          google.colab.kernel.accessAllowed ? 'block' : 'none';\n",
       "\n",
       "        async function convertToInteractive(key) {\n",
       "          const element = document.querySelector('#df-96734dba-7b4f-45d4-96b4-03b424ae9b89');\n",
       "          const dataTable =\n",
       "            await google.colab.kernel.invokeFunction('convertToInteractive',\n",
       "                                                     [key], {});\n",
       "          if (!dataTable) return;\n",
       "\n",
       "          const docLinkHtml = 'Like what you see? Visit the ' +\n",
       "            '<a target=\"_blank\" href=https://colab.research.google.com/notebooks/data_table.ipynb>data table notebook</a>'\n",
       "            + ' to learn more about interactive tables.';\n",
       "          element.innerHTML = '';\n",
       "          dataTable['output_type'] = 'display_data';\n",
       "          await google.colab.output.renderOutput(dataTable, element);\n",
       "          const docLink = document.createElement('div');\n",
       "          docLink.innerHTML = docLinkHtml;\n",
       "          element.appendChild(docLink);\n",
       "        }\n",
       "      </script>\n",
       "    </div>\n",
       "  </div>\n",
       "  "
      ],
      "text/plain": [
       "          Date                                    Title\n",
       "639 2021-01-04   속보  새해 첫 거래일  코스피  0 04  오른 2874 50 출발\n",
       "640 2021-01-04          대웅제약  코로나 치료제 임상3상 시험 시작  주가 상승"
      ]
     },
     "execution_count": 12,
     "metadata": {},
     "output_type": "execute_result"
    }
   ],
   "source": [
    "# 주가 데이터 시작이 1월 4일 부터여서 뉴스도 1월 4일 이전은 슬라이싱으로 없애기\n",
    "news_df = news_df[news_df[news_df['Date'] == '2021-01-04'].index[0] : ]\n",
    "news_df.head(2)"
   ]
  },
  {
   "cell_type": "markdown",
   "metadata": {
    "id": "8NfF4kgHYN39"
   },
   "source": [
    "## KRX에서 받은 csv로 가져오기"
   ]
  },
  {
   "cell_type": "code",
   "execution_count": null,
   "metadata": {
    "colab": {
     "base_uri": "https://localhost:8080/",
     "height": 143
    },
    "id": "b5vPQ2W2YBhm",
    "outputId": "be0caa95-b1ad-46ac-97ac-7b96adef7381"
   },
   "outputs": [
    {
     "data": {
      "text/html": [
       "\n",
       "  <div id=\"df-fc4f49b9-2701-4478-b3bf-934622edba9a\">\n",
       "    <div class=\"colab-df-container\">\n",
       "      <div>\n",
       "<style scoped>\n",
       "    .dataframe tbody tr th:only-of-type {\n",
       "        vertical-align: middle;\n",
       "    }\n",
       "\n",
       "    .dataframe tbody tr th {\n",
       "        vertical-align: top;\n",
       "    }\n",
       "\n",
       "    .dataframe thead th {\n",
       "        text-align: right;\n",
       "    }\n",
       "</style>\n",
       "<table border=\"1\" class=\"dataframe\">\n",
       "  <thead>\n",
       "    <tr style=\"text-align: right;\">\n",
       "      <th></th>\n",
       "      <th>일자</th>\n",
       "      <th>등락률</th>\n",
       "    </tr>\n",
       "  </thead>\n",
       "  <tbody>\n",
       "    <tr>\n",
       "      <th>0</th>\n",
       "      <td>2021-01-04</td>\n",
       "      <td>6.85</td>\n",
       "    </tr>\n",
       "    <tr>\n",
       "      <th>1</th>\n",
       "      <td>2021-01-05</td>\n",
       "      <td>2.24</td>\n",
       "    </tr>\n",
       "    <tr>\n",
       "      <th>2</th>\n",
       "      <td>2021-01-06</td>\n",
       "      <td>-0.87</td>\n",
       "    </tr>\n",
       "  </tbody>\n",
       "</table>\n",
       "</div>\n",
       "      <button class=\"colab-df-convert\" onclick=\"convertToInteractive('df-fc4f49b9-2701-4478-b3bf-934622edba9a')\"\n",
       "              title=\"Convert this dataframe to an interactive table.\"\n",
       "              style=\"display:none;\">\n",
       "        \n",
       "  <svg xmlns=\"http://www.w3.org/2000/svg\" height=\"24px\"viewBox=\"0 0 24 24\"\n",
       "       width=\"24px\">\n",
       "    <path d=\"M0 0h24v24H0V0z\" fill=\"none\"/>\n",
       "    <path d=\"M18.56 5.44l.94 2.06.94-2.06 2.06-.94-2.06-.94-.94-2.06-.94 2.06-2.06.94zm-11 1L8.5 8.5l.94-2.06 2.06-.94-2.06-.94L8.5 2.5l-.94 2.06-2.06.94zm10 10l.94 2.06.94-2.06 2.06-.94-2.06-.94-.94-2.06-.94 2.06-2.06.94z\"/><path d=\"M17.41 7.96l-1.37-1.37c-.4-.4-.92-.59-1.43-.59-.52 0-1.04.2-1.43.59L10.3 9.45l-7.72 7.72c-.78.78-.78 2.05 0 2.83L4 21.41c.39.39.9.59 1.41.59.51 0 1.02-.2 1.41-.59l7.78-7.78 2.81-2.81c.8-.78.8-2.07 0-2.86zM5.41 20L4 18.59l7.72-7.72 1.47 1.35L5.41 20z\"/>\n",
       "  </svg>\n",
       "      </button>\n",
       "      \n",
       "  <style>\n",
       "    .colab-df-container {\n",
       "      display:flex;\n",
       "      flex-wrap:wrap;\n",
       "      gap: 12px;\n",
       "    }\n",
       "\n",
       "    .colab-df-convert {\n",
       "      background-color: #E8F0FE;\n",
       "      border: none;\n",
       "      border-radius: 50%;\n",
       "      cursor: pointer;\n",
       "      display: none;\n",
       "      fill: #1967D2;\n",
       "      height: 32px;\n",
       "      padding: 0 0 0 0;\n",
       "      width: 32px;\n",
       "    }\n",
       "\n",
       "    .colab-df-convert:hover {\n",
       "      background-color: #E2EBFA;\n",
       "      box-shadow: 0px 1px 2px rgba(60, 64, 67, 0.3), 0px 1px 3px 1px rgba(60, 64, 67, 0.15);\n",
       "      fill: #174EA6;\n",
       "    }\n",
       "\n",
       "    [theme=dark] .colab-df-convert {\n",
       "      background-color: #3B4455;\n",
       "      fill: #D2E3FC;\n",
       "    }\n",
       "\n",
       "    [theme=dark] .colab-df-convert:hover {\n",
       "      background-color: #434B5C;\n",
       "      box-shadow: 0px 1px 3px 1px rgba(0, 0, 0, 0.15);\n",
       "      filter: drop-shadow(0px 1px 2px rgba(0, 0, 0, 0.3));\n",
       "      fill: #FFFFFF;\n",
       "    }\n",
       "  </style>\n",
       "\n",
       "      <script>\n",
       "        const buttonEl =\n",
       "          document.querySelector('#df-fc4f49b9-2701-4478-b3bf-934622edba9a button.colab-df-convert');\n",
       "        buttonEl.style.display =\n",
       "          google.colab.kernel.accessAllowed ? 'block' : 'none';\n",
       "\n",
       "        async function convertToInteractive(key) {\n",
       "          const element = document.querySelector('#df-fc4f49b9-2701-4478-b3bf-934622edba9a');\n",
       "          const dataTable =\n",
       "            await google.colab.kernel.invokeFunction('convertToInteractive',\n",
       "                                                     [key], {});\n",
       "          if (!dataTable) return;\n",
       "\n",
       "          const docLinkHtml = 'Like what you see? Visit the ' +\n",
       "            '<a target=\"_blank\" href=https://colab.research.google.com/notebooks/data_table.ipynb>data table notebook</a>'\n",
       "            + ' to learn more about interactive tables.';\n",
       "          element.innerHTML = '';\n",
       "          dataTable['output_type'] = 'display_data';\n",
       "          await google.colab.output.renderOutput(dataTable, element);\n",
       "          const docLink = document.createElement('div');\n",
       "          docLink.innerHTML = docLinkHtml;\n",
       "          element.appendChild(docLink);\n",
       "        }\n",
       "      </script>\n",
       "    </div>\n",
       "  </div>\n",
       "  "
      ],
      "text/plain": [
       "          일자   등락률\n",
       "0 2021-01-04  6.85\n",
       "1 2021-01-05  2.24\n",
       "2 2021-01-06 -0.87"
      ]
     },
     "execution_count": 13,
     "metadata": {},
     "output_type": "execute_result"
    }
   ],
   "source": [
    "stock_df = pd.read_csv(f'./data/{stock_name}_주가_데이터.csv', usecols = ['일자', '등락률'])\n",
    "stock_df['일자'] = pd.to_datetime(stock_df['일자'])\n",
    "stock_df.head(3)"
   ]
  },
  {
   "cell_type": "markdown",
   "metadata": {
    "id": "WEv3YZrFYvjP"
   },
   "source": [
    "## 주가 데이터"
   ]
  },
  {
   "cell_type": "code",
   "execution_count": null,
   "metadata": {
    "colab": {
     "base_uri": "https://localhost:8080/"
    },
    "id": "u3N0ofo2Yr_l",
    "outputId": "58a696d2-aaa4-4c4a-ee34-d3b1cfae6fbe"
   },
   "outputs": [
    {
     "name": "stdout",
     "output_type": "stream",
     "text": [
      "start :  2021-01-04 00:00:00\n",
      "end :  2022-06-30 00:00:00\n"
     ]
    }
   ],
   "source": [
    "start = str(stock_df.iloc[0, 0])\n",
    "end = str(stock_df.iloc[-1, 0])\n",
    "print('start : ', start)\n",
    "print('end : ', end)"
   ]
  },
  {
   "cell_type": "code",
   "execution_count": null,
   "metadata": {
    "colab": {
     "base_uri": "https://localhost:8080/"
    },
    "id": "jhQjthV5kkMm",
    "outputId": "29c8568f-d2fc-42f7-8fcd-69a6d3a875e7"
   },
   "outputs": [
    {
     "data": {
      "text/plain": [
       " 0    149\n",
       " 1    111\n",
       "-1    109\n",
       "Name: updown, dtype: int64"
      ]
     },
     "execution_count": 15,
     "metadata": {},
     "output_type": "execute_result"
    }
   ],
   "source": [
    "# multi 분류\n",
    "stock_df['updown'] = 0\n",
    "\n",
    "stock_df.loc[stock_df.query('등락률 > 1').index, 'updown'] = 1\n",
    "stock_df.loc[stock_df.query('등락률 < -1').index, 'updown'] = -1\n",
    "\n",
    "stock_df['updown'].value_counts()"
   ]
  },
  {
   "cell_type": "code",
   "execution_count": null,
   "metadata": {
    "colab": {
     "base_uri": "https://localhost:8080/",
     "height": 143
    },
    "id": "1OLRe5urY9rq",
    "outputId": "246fa9c3-2174-4b05-9ae0-d79ce43a0c36"
   },
   "outputs": [
    {
     "data": {
      "text/html": [
       "\n",
       "  <div id=\"df-b5782bbb-464c-4f1f-826d-c035ce139f72\">\n",
       "    <div class=\"colab-df-container\">\n",
       "      <div>\n",
       "<style scoped>\n",
       "    .dataframe tbody tr th:only-of-type {\n",
       "        vertical-align: middle;\n",
       "    }\n",
       "\n",
       "    .dataframe tbody tr th {\n",
       "        vertical-align: top;\n",
       "    }\n",
       "\n",
       "    .dataframe thead th {\n",
       "        text-align: right;\n",
       "    }\n",
       "</style>\n",
       "<table border=\"1\" class=\"dataframe\">\n",
       "  <thead>\n",
       "    <tr style=\"text-align: right;\">\n",
       "      <th></th>\n",
       "      <th>Date</th>\n",
       "      <th>Title</th>\n",
       "      <th>일자</th>\n",
       "    </tr>\n",
       "  </thead>\n",
       "  <tbody>\n",
       "    <tr>\n",
       "      <th>639</th>\n",
       "      <td>2021-01-04</td>\n",
       "      <td>속보  새해 첫 거래일  코스피  0 04  오른 2874 50 출발</td>\n",
       "      <td>2021-01-05</td>\n",
       "    </tr>\n",
       "    <tr>\n",
       "      <th>640</th>\n",
       "      <td>2021-01-04</td>\n",
       "      <td>대웅제약  코로나 치료제 임상3상 시험 시작  주가 상승</td>\n",
       "      <td>2021-01-05</td>\n",
       "    </tr>\n",
       "    <tr>\n",
       "      <th>641</th>\n",
       "      <td>2021-01-04</td>\n",
       "      <td>환율 하락 전환  1086 2 감소0 1원</td>\n",
       "      <td>2021-01-05</td>\n",
       "    </tr>\n",
       "  </tbody>\n",
       "</table>\n",
       "</div>\n",
       "      <button class=\"colab-df-convert\" onclick=\"convertToInteractive('df-b5782bbb-464c-4f1f-826d-c035ce139f72')\"\n",
       "              title=\"Convert this dataframe to an interactive table.\"\n",
       "              style=\"display:none;\">\n",
       "        \n",
       "  <svg xmlns=\"http://www.w3.org/2000/svg\" height=\"24px\"viewBox=\"0 0 24 24\"\n",
       "       width=\"24px\">\n",
       "    <path d=\"M0 0h24v24H0V0z\" fill=\"none\"/>\n",
       "    <path d=\"M18.56 5.44l.94 2.06.94-2.06 2.06-.94-2.06-.94-.94-2.06-.94 2.06-2.06.94zm-11 1L8.5 8.5l.94-2.06 2.06-.94-2.06-.94L8.5 2.5l-.94 2.06-2.06.94zm10 10l.94 2.06.94-2.06 2.06-.94-2.06-.94-.94-2.06-.94 2.06-2.06.94z\"/><path d=\"M17.41 7.96l-1.37-1.37c-.4-.4-.92-.59-1.43-.59-.52 0-1.04.2-1.43.59L10.3 9.45l-7.72 7.72c-.78.78-.78 2.05 0 2.83L4 21.41c.39.39.9.59 1.41.59.51 0 1.02-.2 1.41-.59l7.78-7.78 2.81-2.81c.8-.78.8-2.07 0-2.86zM5.41 20L4 18.59l7.72-7.72 1.47 1.35L5.41 20z\"/>\n",
       "  </svg>\n",
       "      </button>\n",
       "      \n",
       "  <style>\n",
       "    .colab-df-container {\n",
       "      display:flex;\n",
       "      flex-wrap:wrap;\n",
       "      gap: 12px;\n",
       "    }\n",
       "\n",
       "    .colab-df-convert {\n",
       "      background-color: #E8F0FE;\n",
       "      border: none;\n",
       "      border-radius: 50%;\n",
       "      cursor: pointer;\n",
       "      display: none;\n",
       "      fill: #1967D2;\n",
       "      height: 32px;\n",
       "      padding: 0 0 0 0;\n",
       "      width: 32px;\n",
       "    }\n",
       "\n",
       "    .colab-df-convert:hover {\n",
       "      background-color: #E2EBFA;\n",
       "      box-shadow: 0px 1px 2px rgba(60, 64, 67, 0.3), 0px 1px 3px 1px rgba(60, 64, 67, 0.15);\n",
       "      fill: #174EA6;\n",
       "    }\n",
       "\n",
       "    [theme=dark] .colab-df-convert {\n",
       "      background-color: #3B4455;\n",
       "      fill: #D2E3FC;\n",
       "    }\n",
       "\n",
       "    [theme=dark] .colab-df-convert:hover {\n",
       "      background-color: #434B5C;\n",
       "      box-shadow: 0px 1px 3px 1px rgba(0, 0, 0, 0.15);\n",
       "      filter: drop-shadow(0px 1px 2px rgba(0, 0, 0, 0.3));\n",
       "      fill: #FFFFFF;\n",
       "    }\n",
       "  </style>\n",
       "\n",
       "      <script>\n",
       "        const buttonEl =\n",
       "          document.querySelector('#df-b5782bbb-464c-4f1f-826d-c035ce139f72 button.colab-df-convert');\n",
       "        buttonEl.style.display =\n",
       "          google.colab.kernel.accessAllowed ? 'block' : 'none';\n",
       "\n",
       "        async function convertToInteractive(key) {\n",
       "          const element = document.querySelector('#df-b5782bbb-464c-4f1f-826d-c035ce139f72');\n",
       "          const dataTable =\n",
       "            await google.colab.kernel.invokeFunction('convertToInteractive',\n",
       "                                                     [key], {});\n",
       "          if (!dataTable) return;\n",
       "\n",
       "          const docLinkHtml = 'Like what you see? Visit the ' +\n",
       "            '<a target=\"_blank\" href=https://colab.research.google.com/notebooks/data_table.ipynb>data table notebook</a>'\n",
       "            + ' to learn more about interactive tables.';\n",
       "          element.innerHTML = '';\n",
       "          dataTable['output_type'] = 'display_data';\n",
       "          await google.colab.output.renderOutput(dataTable, element);\n",
       "          const docLink = document.createElement('div');\n",
       "          docLink.innerHTML = docLinkHtml;\n",
       "          element.appendChild(docLink);\n",
       "        }\n",
       "      </script>\n",
       "    </div>\n",
       "  </div>\n",
       "  "
      ],
      "text/plain": [
       "          Date                                    Title         일자\n",
       "639 2021-01-04   속보  새해 첫 거래일  코스피  0 04  오른 2874 50 출발 2021-01-05\n",
       "640 2021-01-04          대웅제약  코로나 치료제 임상3상 시험 시작  주가 상승 2021-01-05\n",
       "641 2021-01-04                 환율 하락 전환  1086 2 감소0 1원  2021-01-05"
      ]
     },
     "execution_count": 16,
     "metadata": {},
     "output_type": "execute_result"
    }
   ],
   "source": [
    "# 뉴스 일자 열 추가 : 예측대상(= 익일의 주가)의 일자와 맞추기 위함\n",
    "\n",
    "news_df['일자'] = news_df['Date'] + timedelta(days = 1)\n",
    "news_df.head(3)"
   ]
  },
  {
   "cell_type": "markdown",
   "metadata": {
    "id": "Y3NgT94LmV1t"
   },
   "source": [
    "# 뉴스 데이터 & 주가 데이터 합치기"
   ]
  },
  {
   "cell_type": "code",
   "execution_count": null,
   "metadata": {
    "colab": {
     "base_uri": "https://localhost:8080/"
    },
    "id": "TfrzgUo2lKtO",
    "outputId": "3eedd3ef-5f82-4264-fd4f-c4b415337a33"
   },
   "outputs": [
    {
     "name": "stdout",
     "output_type": "stream",
     "text": [
      "431484\n"
     ]
    },
    {
     "data": {
      "text/plain": [
       " 0    171003\n",
       " 1    142256\n",
       "-1    118225\n",
       "Name: updown, dtype: int64"
      ]
     },
     "execution_count": 17,
     "metadata": {},
     "output_type": "execute_result"
    }
   ],
   "source": [
    "df = news_df.merge(stock_df)\n",
    "\n",
    "# df 칼럼명 : Date, Title, 주가의 날짜(구 : 일자), 등락률(y), updown\n",
    "df.columns = [df.columns[0], df.columns[1], '주가의 날짜', '등락률(y)', 'updown']\n",
    "\n",
    "# 기사 제목 중복 제거\n",
    "df.drop_duplicates('Title', inplace = True, ignore_index = True)\n",
    "\n",
    "print(len(df))\n",
    "df['updown'].value_counts()"
   ]
  },
  {
   "cell_type": "code",
   "execution_count": null,
   "metadata": {
    "colab": {
     "base_uri": "https://localhost:8080/"
    },
    "id": "cCF8ZbeuFNma",
    "outputId": "1bf4d932-1a83-4cb6-9898-742f4dc7c1f9"
   },
   "outputs": [
    {
     "data": {
      "text/plain": [
       " 0    171003\n",
       " 1    142256\n",
       "-1    118225\n",
       "Name: updown, dtype: int64"
      ]
     },
     "execution_count": 18,
     "metadata": {},
     "output_type": "execute_result"
    }
   ],
   "source": [
    "df.to_csv('./data/[Model6]merged_df.csv', encoding = 'utf-8-sig')\n",
    "\n",
    "df = pd.read_csv('./data/[Model6]merged_df.csv', index_col = 0)\n",
    "df['updown'].value_counts()"
   ]
  },
  {
   "cell_type": "markdown",
   "metadata": {
    "id": "yMjo76IJnxBK"
   },
   "source": [
    "# 감성사전 불러오기"
   ]
  },
  {
   "cell_type": "code",
   "execution_count": null,
   "metadata": {
    "colab": {
     "base_uri": "https://localhost:8080/",
     "height": 206
    },
    "id": "IWp8L0bhnLy_",
    "outputId": "3e4d3c61-1ae8-4651-e6a8-9170015be4bf"
   },
   "outputs": [
    {
     "data": {
      "text/html": [
       "\n",
       "  <div id=\"df-04050359-b6e9-469a-b782-eb1b8e897229\">\n",
       "    <div class=\"colab-df-container\">\n",
       "      <div>\n",
       "<style scoped>\n",
       "    .dataframe tbody tr th:only-of-type {\n",
       "        vertical-align: middle;\n",
       "    }\n",
       "\n",
       "    .dataframe tbody tr th {\n",
       "        vertical-align: top;\n",
       "    }\n",
       "\n",
       "    .dataframe thead th {\n",
       "        text-align: right;\n",
       "    }\n",
       "</style>\n",
       "<table border=\"1\" class=\"dataframe\">\n",
       "  <thead>\n",
       "    <tr style=\"text-align: right;\">\n",
       "      <th></th>\n",
       "      <th>pos</th>\n",
       "      <th>mid</th>\n",
       "      <th>neg</th>\n",
       "    </tr>\n",
       "  </thead>\n",
       "  <tbody>\n",
       "    <tr>\n",
       "      <th>0</th>\n",
       "      <td>방긋</td>\n",
       "      <td>아직</td>\n",
       "      <td>회의적</td>\n",
       "    </tr>\n",
       "    <tr>\n",
       "      <th>1</th>\n",
       "      <td>상회</td>\n",
       "      <td>보통</td>\n",
       "      <td>바닥</td>\n",
       "    </tr>\n",
       "    <tr>\n",
       "      <th>2</th>\n",
       "      <td>신선</td>\n",
       "      <td>vs</td>\n",
       "      <td>이탈</td>\n",
       "    </tr>\n",
       "    <tr>\n",
       "      <th>3</th>\n",
       "      <td>신박</td>\n",
       "      <td>중립</td>\n",
       "      <td>떨어지</td>\n",
       "    </tr>\n",
       "    <tr>\n",
       "      <th>4</th>\n",
       "      <td>투혼</td>\n",
       "      <td>관망</td>\n",
       "      <td>안좋게</td>\n",
       "    </tr>\n",
       "  </tbody>\n",
       "</table>\n",
       "</div>\n",
       "      <button class=\"colab-df-convert\" onclick=\"convertToInteractive('df-04050359-b6e9-469a-b782-eb1b8e897229')\"\n",
       "              title=\"Convert this dataframe to an interactive table.\"\n",
       "              style=\"display:none;\">\n",
       "        \n",
       "  <svg xmlns=\"http://www.w3.org/2000/svg\" height=\"24px\"viewBox=\"0 0 24 24\"\n",
       "       width=\"24px\">\n",
       "    <path d=\"M0 0h24v24H0V0z\" fill=\"none\"/>\n",
       "    <path d=\"M18.56 5.44l.94 2.06.94-2.06 2.06-.94-2.06-.94-.94-2.06-.94 2.06-2.06.94zm-11 1L8.5 8.5l.94-2.06 2.06-.94-2.06-.94L8.5 2.5l-.94 2.06-2.06.94zm10 10l.94 2.06.94-2.06 2.06-.94-2.06-.94-.94-2.06-.94 2.06-2.06.94z\"/><path d=\"M17.41 7.96l-1.37-1.37c-.4-.4-.92-.59-1.43-.59-.52 0-1.04.2-1.43.59L10.3 9.45l-7.72 7.72c-.78.78-.78 2.05 0 2.83L4 21.41c.39.39.9.59 1.41.59.51 0 1.02-.2 1.41-.59l7.78-7.78 2.81-2.81c.8-.78.8-2.07 0-2.86zM5.41 20L4 18.59l7.72-7.72 1.47 1.35L5.41 20z\"/>\n",
       "  </svg>\n",
       "      </button>\n",
       "      \n",
       "  <style>\n",
       "    .colab-df-container {\n",
       "      display:flex;\n",
       "      flex-wrap:wrap;\n",
       "      gap: 12px;\n",
       "    }\n",
       "\n",
       "    .colab-df-convert {\n",
       "      background-color: #E8F0FE;\n",
       "      border: none;\n",
       "      border-radius: 50%;\n",
       "      cursor: pointer;\n",
       "      display: none;\n",
       "      fill: #1967D2;\n",
       "      height: 32px;\n",
       "      padding: 0 0 0 0;\n",
       "      width: 32px;\n",
       "    }\n",
       "\n",
       "    .colab-df-convert:hover {\n",
       "      background-color: #E2EBFA;\n",
       "      box-shadow: 0px 1px 2px rgba(60, 64, 67, 0.3), 0px 1px 3px 1px rgba(60, 64, 67, 0.15);\n",
       "      fill: #174EA6;\n",
       "    }\n",
       "\n",
       "    [theme=dark] .colab-df-convert {\n",
       "      background-color: #3B4455;\n",
       "      fill: #D2E3FC;\n",
       "    }\n",
       "\n",
       "    [theme=dark] .colab-df-convert:hover {\n",
       "      background-color: #434B5C;\n",
       "      box-shadow: 0px 1px 3px 1px rgba(0, 0, 0, 0.15);\n",
       "      filter: drop-shadow(0px 1px 2px rgba(0, 0, 0, 0.3));\n",
       "      fill: #FFFFFF;\n",
       "    }\n",
       "  </style>\n",
       "\n",
       "      <script>\n",
       "        const buttonEl =\n",
       "          document.querySelector('#df-04050359-b6e9-469a-b782-eb1b8e897229 button.colab-df-convert');\n",
       "        buttonEl.style.display =\n",
       "          google.colab.kernel.accessAllowed ? 'block' : 'none';\n",
       "\n",
       "        async function convertToInteractive(key) {\n",
       "          const element = document.querySelector('#df-04050359-b6e9-469a-b782-eb1b8e897229');\n",
       "          const dataTable =\n",
       "            await google.colab.kernel.invokeFunction('convertToInteractive',\n",
       "                                                     [key], {});\n",
       "          if (!dataTable) return;\n",
       "\n",
       "          const docLinkHtml = 'Like what you see? Visit the ' +\n",
       "            '<a target=\"_blank\" href=https://colab.research.google.com/notebooks/data_table.ipynb>data table notebook</a>'\n",
       "            + ' to learn more about interactive tables.';\n",
       "          element.innerHTML = '';\n",
       "          dataTable['output_type'] = 'display_data';\n",
       "          await google.colab.output.renderOutput(dataTable, element);\n",
       "          const docLink = document.createElement('div');\n",
       "          docLink.innerHTML = docLinkHtml;\n",
       "          element.appendChild(docLink);\n",
       "        }\n",
       "      </script>\n",
       "    </div>\n",
       "  </div>\n",
       "  "
      ],
      "text/plain": [
       "  pos mid  neg\n",
       "0  방긋  아직  회의적\n",
       "1  상회  보통   바닥\n",
       "2  신선  vs   이탈\n",
       "3  신박  중립  떨어지\n",
       "4  투혼  관망  안좋게"
      ]
     },
     "execution_count": 19,
     "metadata": {},
     "output_type": "execute_result"
    }
   ],
   "source": [
    "sentiment_csv = pd.read_csv('./data/sentiment dictionary.csv', index_col = 0)\n",
    "sentiment_csv.head()"
   ]
  },
  {
   "cell_type": "code",
   "execution_count": null,
   "metadata": {
    "colab": {
     "base_uri": "https://localhost:8080/"
    },
    "id": "KJkI5IO4xsjM",
    "outputId": "32e7572d-cab7-45b4-874e-1b21e2adf9e7"
   },
   "outputs": [
    {
     "name": "stdout",
     "output_type": "stream",
     "text": [
      "pos_li : 641 개\n",
      "mid_li : 53 개\n",
      "neg_li : 959 개\n"
     ]
    }
   ],
   "source": [
    "pos_li = sentiment_csv['pos'].dropna().values\n",
    "mid_li = sentiment_csv['mid'].dropna().values\n",
    "neg_li = sentiment_csv['neg'].dropna().values\n",
    "\n",
    "print(f'pos_li : {len(pos_li)} 개')\n",
    "print(f'mid_li : {len(mid_li)} 개')\n",
    "print(f'neg_li : {len(neg_li)} 개')"
   ]
  },
  {
   "cell_type": "markdown",
   "metadata": {
    "id": "Wy_apLIrRDl2"
   },
   "source": [
    "# 감성지수 계산하는 함수 : sentimental_score()"
   ]
  },
  {
   "cell_type": "code",
   "execution_count": null,
   "metadata": {
    "id": "X9rnu-YVM3nf"
   },
   "outputs": [],
   "source": [
    "def sentimental_score(df):\n",
    "    # 입력받은 데이터프레임 복사 및 컬럼 추가\n",
    "    df_result = df.copy()\n",
    "    df_result['Pos'] = 0\n",
    "    df_result['Neg'] = 0\n",
    "    df_result['Mid'] = 0\n",
    "    \n",
    "    # 감성 지수는 긍정 : 1, 중립 : 0, 부정 : -1, 해당 데이터 제외 : 999\n",
    "    df_result['감성지수'] = 999    \n",
    "    \n",
    "    # 감성 사전에 따른 텍스트 검출\n",
    "    print('긍정 단어 검색중')\n",
    "    for pos in tqdm(pos_li) :\n",
    "        df_result.loc[df_result[df_result['Title'].str.contains(pos) == True].index, 'Pos'] = 1\n",
    "    \n",
    "    print('부정 단어 검색중')\n",
    "    for neg in tqdm(neg_li) :\n",
    "        df_result.loc[df_result[df_result['Title'].str.contains(neg) == True].index, 'Neg'] = 1\n",
    "    \n",
    "    print('중립 단어 검색중')\n",
    "    for mid in tqdm(mid_li) :\n",
    "        df_result.loc[df_result[df_result['Title'].str.contains(mid) == True].index, 'Mid'] = 1\n",
    "    \n",
    "    df_result.to_csv('./data/[Model6]pos_neg_mid_added_df_result.csv', encoding = 'utf-8-sig')\n",
    "\n",
    "\n",
    "\n",
    "    # 모든 종류의 단어가 검출 되면 제외\n",
    "    df_result.loc[df_result[(df_result['Pos'] == 1) & (df_result['Neg'] == 1) & (df_result['Mid'] == 1)].index, '감성지수'] = 999\n",
    "    \n",
    "    # 중립 단어가 검출되면 중립\n",
    "    df_result.loc[df_result[(df_result['Pos'] == 1) & (df_result['Neg'] == 0) & (df_result['Mid'] == 1)].index, '감성지수'] = 0\n",
    "    df_result.loc[df_result[(df_result['Pos'] == 0) & (df_result['Neg'] == 1) & (df_result['Mid'] == 1)].index, '감성지수'] = 0\n",
    "    df_result.loc[df_result[(df_result['Pos'] == 0) & (df_result['Neg'] == 0) & (df_result['Mid'] == 1)].index, '감성지수'] = 0\n",
    "\n",
    "    # 긍 부 중립 모두 검출 안될 경우는 일단 0이라고 했음\n",
    "    df_result.loc[df_result[(df_result['Pos'] == 0) & (df_result['Neg'] == 0) & (df_result['Mid'] == 0)].index, '감성지수'] = 0\n",
    "\n",
    "    # 긍정 단어만이 검출되면 긍정\n",
    "    df_result.loc[df_result[(df_result['Pos'] == 1) & (df_result['Neg'] == 0) & (df_result['Mid'] == 0)].index, '감성지수'] = 1\n",
    "    \n",
    "    # 부정 단어만이 검출되면 부정\n",
    "    df_result.loc[df_result[(df_result['Pos'] == 0) & (df_result['Neg'] == 1) & (df_result['Mid'] == 0)].index, '감성지수'] = -1\n",
    "    \n",
    "    # 긍정, 부정 단어가 둘 다 있으면 전 날 또는 당일 주가의 등락률을 보고 결정\n",
    "    print('긍정 부정 둘 다 있는 경우 처리중')\n",
    "    for i in tqdm(df_result.loc[df_result[(df_result['Pos'] == 1) & (df_result['Neg'] == 1) & (df_result['Mid'] == 0)].index].index) : \n",
    "        updown = 999 # 등락률을 뜻하는 updown\n",
    "        \n",
    "        # 해당 Title의 어제 주가가 있으면 선택\n",
    "        # if sum((df_result.loc[i,'Date'] - timedelta(days = 1)) == stock_df['일자']) == 1 :  \n",
    "        if sum(pd.to_datetime(df_result.loc[i, 'Date']) - timedelta(days = 1) == stock_df['일자']) == 1 :\n",
    "            updown = stock_df[stock_df['일자'] == (pd.to_datetime(df_result.loc[i,'Date']) - timedelta(days = 1))]['등락률'].values[0]\n",
    "        \n",
    "        # 어제 주가는 없지만 당일이 있으면 당일을 선택\n",
    "        # elif sum(df_result.loc[i,'Date'] == stock_df['일자']) == 1 : \n",
    "        elif sum(pd.to_datetime(df_result.loc[i,'Date']) == stock_df['일자']) == 1 :\n",
    "            updown = stock_df[stock_df['일자'] == pd.to_datetime(df_result.loc[i,'Date'])]['등락률'].values[0]\n",
    "\n",
    "        # 어제와 오늘의 주가도 없다면 이전의 주가를 찾아 탐색\n",
    "        else :\n",
    "            j = 2 \n",
    "            while True :\n",
    "                # if sum((df_result.loc[i,'Date'] - timedelta(days = j)) == stock_df['일자']) == 1 :\n",
    "                if sum((pd.to_datetime(df_result.loc[i, 'Date']) - timedelta(days = j)) == stock_df['일자']) == 1 :\n",
    "                    updown = stock_df[stock_df['일자'] == (pd.to_datetime(df_result.loc[i,'Date']) - timedelta(days = j))]['등락률'].values[0]\n",
    "                    break\n",
    "                j += 1\n",
    "        \n",
    "        # 절댓값이 0보다 낮은 등락률은 변화가 없다고 판단\n",
    "        if updown > 1 :\n",
    "            # df_result['감성지수'][i] = 1\n",
    "            df_result.loc[i, '감성지수'] = 1\n",
    "        elif updown < 1 :\n",
    "            # df_result['감성지수'][i] = -1\n",
    "            df_result.loc[i, '감성지수'] = -1\n",
    "        else :\n",
    "            # df_result['감성지수'][i] = 0\n",
    "            df_result.loc[i, '감성지수'] = 0\n",
    "    print('df_result[\"감성지수\"] : \\n',  df_result['감성지수'].value_counts())\n",
    "\n",
    "    return df_result"
   ]
  },
  {
   "cell_type": "code",
   "execution_count": null,
   "metadata": {
    "colab": {
     "base_uri": "https://localhost:8080/"
    },
    "id": "knFat9ChM93s",
    "outputId": "22142e8f-a6c3-4537-9a12-b3fd1f77fc7e"
   },
   "outputs": [
    {
     "name": "stdout",
     "output_type": "stream",
     "text": [
      "긍정 단어 검색중\n"
     ]
    },
    {
     "name": "stderr",
     "output_type": "stream",
     "text": [
      "100%|██████████| 641/641 [02:41<00:00,  3.98it/s]\n"
     ]
    },
    {
     "name": "stdout",
     "output_type": "stream",
     "text": [
      "부정 단어 검색중\n"
     ]
    },
    {
     "name": "stderr",
     "output_type": "stream",
     "text": [
      "100%|██████████| 959/959 [04:03<00:00,  3.94it/s]\n"
     ]
    },
    {
     "name": "stdout",
     "output_type": "stream",
     "text": [
      "중립 단어 검색중\n"
     ]
    },
    {
     "name": "stderr",
     "output_type": "stream",
     "text": [
      "100%|██████████| 53/53 [00:13<00:00,  4.00it/s]\n"
     ]
    },
    {
     "name": "stdout",
     "output_type": "stream",
     "text": [
      "긍정 부정 둘 다 있는 경우 처리중\n"
     ]
    },
    {
     "name": "stderr",
     "output_type": "stream",
     "text": [
      "100%|██████████| 93069/93069 [07:50<00:00, 197.84it/s]"
     ]
    },
    {
     "name": "stdout",
     "output_type": "stream",
     "text": [
      "df_result[\"감성지수\"] : \n",
      "  1      215562\n",
      "-1      130745\n",
      " 0       79152\n",
      " 999      6025\n",
      "Name: 감성지수, dtype: int64\n"
     ]
    },
    {
     "name": "stderr",
     "output_type": "stream",
     "text": [
      "\n"
     ]
    }
   ],
   "source": [
    "df_result = sentimental_score(df)"
   ]
  },
  {
   "cell_type": "code",
   "execution_count": null,
   "metadata": {
    "colab": {
     "base_uri": "https://localhost:8080/"
    },
    "id": "cXlPK9hYkMxi",
    "outputId": "2100cef4-b14a-4adc-f3ae-79ed93982cbd"
   },
   "outputs": [
    {
     "data": {
      "text/plain": [
       " 1      215562\n",
       "-1      130745\n",
       " 0       79152\n",
       " 999      6025\n",
       "Name: 감성지수, dtype: int64"
      ]
     },
     "execution_count": 23,
     "metadata": {},
     "output_type": "execute_result"
    }
   ],
   "source": [
    "df_result['감성지수'].value_counts()"
   ]
  },
  {
   "cell_type": "code",
   "execution_count": null,
   "metadata": {
    "id": "ZjR1YEl6Ff76"
   },
   "outputs": [],
   "source": [
    "df_result = pd.read_csv('./data/[Model6]감성지수_added_df_result.csv', index_col = 0)\n",
    "df_result"
   ]
  },
  {
   "cell_type": "code",
   "execution_count": null,
   "metadata": {
    "colab": {
     "base_uri": "https://localhost:8080/"
    },
    "id": "6xNz4pHFsPym",
    "outputId": "727ce6de-4d59-454b-d050-95cd17d359c3"
   },
   "outputs": [
    {
     "data": {
      "text/plain": [
       "431484"
      ]
     },
     "execution_count": 29,
     "metadata": {},
     "output_type": "execute_result"
    }
   ],
   "source": [
    "len(df_result)"
   ]
  },
  {
   "cell_type": "code",
   "execution_count": null,
   "metadata": {
    "colab": {
     "base_uri": "https://localhost:8080/"
    },
    "id": "8FbeCAz0rKe6",
    "outputId": "b01e3529-ab8e-4298-9aac-c9581e6b7665"
   },
   "outputs": [
    {
     "data": {
      "text/plain": [
       "425459"
      ]
     },
     "execution_count": 27,
     "metadata": {},
     "output_type": "execute_result"
    }
   ],
   "source": [
    "df_result = df_result.drop(df_result[df_result['감성지수'] == 999].index)\n",
    "len(df_result)"
   ]
  },
  {
   "cell_type": "code",
   "execution_count": null,
   "metadata": {
    "id": "GRJdwAQgsgGl"
   },
   "outputs": [],
   "source": [
    "df_result.to_csv('./data/[Model6]감성지수_added_df_result.csv', encoding = 'utf-8-sig')"
   ]
  },
  {
   "cell_type": "markdown",
   "metadata": {
    "id": "k0HwiCo-RM6c"
   },
   "source": [
    "# 예측 모델 적용"
   ]
  },
  {
   "cell_type": "code",
   "execution_count": null,
   "metadata": {
    "id": "A9ZdZ7Af9_wS"
   },
   "outputs": [],
   "source": [
    "df_result['tokenized'] = 0\n",
    "df_result.dropna(how='any',inplace= True)\n",
    "df_result['tokenized'] = df_result['Title'].apply(okt.morphs)   # 또는 자유롭게 라이브러리 사용"
   ]
  },
  {
   "cell_type": "code",
   "execution_count": null,
   "metadata": {
    "id": "t4DsBmwjHy1I"
   },
   "outputs": [],
   "source": [
    "# tokenized 열이 추가된 df_result를 csv로.\n",
    "df_result.to_csv('./data/[Model6]tokenized_added_df_result.csv', encoding = 'utf-8-sig')"
   ]
  },
  {
   "cell_type": "markdown",
   "metadata": {
    "id": "M1Sh1W4RShxz"
   },
   "source": [
    "## 모델 테스트 용 : 여기서부터 시작~"
   ]
  },
  {
   "cell_type": "code",
   "execution_count": null,
   "metadata": {
    "colab": {
     "base_uri": "https://localhost:8080/",
     "height": 659
    },
    "id": "Uky0zZofFt5Z",
    "outputId": "06ca1b70-c347-442c-b6f6-c4b8b388e6b9"
   },
   "outputs": [
    {
     "data": {
      "text/html": [
       "\n",
       "  <div id=\"df-8f86446a-c790-4884-8f64-376a30075bce\">\n",
       "    <div class=\"colab-df-container\">\n",
       "      <div>\n",
       "<style scoped>\n",
       "    .dataframe tbody tr th:only-of-type {\n",
       "        vertical-align: middle;\n",
       "    }\n",
       "\n",
       "    .dataframe tbody tr th {\n",
       "        vertical-align: top;\n",
       "    }\n",
       "\n",
       "    .dataframe thead th {\n",
       "        text-align: right;\n",
       "    }\n",
       "</style>\n",
       "<table border=\"1\" class=\"dataframe\">\n",
       "  <thead>\n",
       "    <tr style=\"text-align: right;\">\n",
       "      <th></th>\n",
       "      <th>Date</th>\n",
       "      <th>Title</th>\n",
       "      <th>주가의 날짜</th>\n",
       "      <th>등락률(y)</th>\n",
       "      <th>updown</th>\n",
       "      <th>Pos</th>\n",
       "      <th>Neg</th>\n",
       "      <th>Mid</th>\n",
       "      <th>감성지수</th>\n",
       "      <th>tokenized</th>\n",
       "    </tr>\n",
       "  </thead>\n",
       "  <tbody>\n",
       "    <tr>\n",
       "      <th>0</th>\n",
       "      <td>2021-01-04</td>\n",
       "      <td>속보  새해 첫 거래일  코스피  0 04  오른 2874 50 출발</td>\n",
       "      <td>2021-01-05</td>\n",
       "      <td>2.24</td>\n",
       "      <td>1</td>\n",
       "      <td>1</td>\n",
       "      <td>0</td>\n",
       "      <td>0</td>\n",
       "      <td>1</td>\n",
       "      <td>['속보', '새해', '첫', '거래', '일', '코스피', '0', '04',...</td>\n",
       "    </tr>\n",
       "    <tr>\n",
       "      <th>1</th>\n",
       "      <td>2021-01-04</td>\n",
       "      <td>대웅제약  코로나 치료제 임상3상 시험 시작  주가 상승</td>\n",
       "      <td>2021-01-05</td>\n",
       "      <td>2.24</td>\n",
       "      <td>1</td>\n",
       "      <td>1</td>\n",
       "      <td>0</td>\n",
       "      <td>0</td>\n",
       "      <td>1</td>\n",
       "      <td>['대웅제약', '코로나', '치료', '제', '임', '상', '3', '상',...</td>\n",
       "    </tr>\n",
       "    <tr>\n",
       "      <th>2</th>\n",
       "      <td>2021-01-04</td>\n",
       "      <td>환율 하락 전환  1086 2 감소0 1원</td>\n",
       "      <td>2021-01-05</td>\n",
       "      <td>2.24</td>\n",
       "      <td>1</td>\n",
       "      <td>0</td>\n",
       "      <td>1</td>\n",
       "      <td>0</td>\n",
       "      <td>-1</td>\n",
       "      <td>['환율', '하락', '전환', '1086', '2', '감소', '0', '1원']</td>\n",
       "    </tr>\n",
       "    <tr>\n",
       "      <th>3</th>\n",
       "      <td>2021-01-04</td>\n",
       "      <td>비올  일본 최대 병원체인과 실펌엑스 총판계약 체결</td>\n",
       "      <td>2021-01-05</td>\n",
       "      <td>2.24</td>\n",
       "      <td>1</td>\n",
       "      <td>1</td>\n",
       "      <td>0</td>\n",
       "      <td>0</td>\n",
       "      <td>1</td>\n",
       "      <td>['비올', '일본', '최대', '병원체', '인과', '실펌', '엑스', '총...</td>\n",
       "    </tr>\n",
       "    <tr>\n",
       "      <th>4</th>\n",
       "      <td>2021-01-04</td>\n",
       "      <td>코스닥 하락 전환  968 31 감소0 01</td>\n",
       "      <td>2021-01-05</td>\n",
       "      <td>2.24</td>\n",
       "      <td>1</td>\n",
       "      <td>0</td>\n",
       "      <td>1</td>\n",
       "      <td>0</td>\n",
       "      <td>-1</td>\n",
       "      <td>['코스닥', '하락', '전환', '968', '31', '감소', '0', '01']</td>\n",
       "    </tr>\n",
       "    <tr>\n",
       "      <th>...</th>\n",
       "      <td>...</td>\n",
       "      <td>...</td>\n",
       "      <td>...</td>\n",
       "      <td>...</td>\n",
       "      <td>...</td>\n",
       "      <td>...</td>\n",
       "      <td>...</td>\n",
       "      <td>...</td>\n",
       "      <td>...</td>\n",
       "      <td>...</td>\n",
       "    </tr>\n",
       "    <tr>\n",
       "      <th>431479</th>\n",
       "      <td>2022-06-29</td>\n",
       "      <td>폭락장에 홀로 웃은 OCI 中 신장산 수입규제 반사이익</td>\n",
       "      <td>2022-06-30</td>\n",
       "      <td>-6.67</td>\n",
       "      <td>-1</td>\n",
       "      <td>1</td>\n",
       "      <td>1</td>\n",
       "      <td>0</td>\n",
       "      <td>1</td>\n",
       "      <td>['폭락', '장', '에', '홀로', '웃은', 'OCI', '中', '신', ...</td>\n",
       "    </tr>\n",
       "    <tr>\n",
       "      <th>431480</th>\n",
       "      <td>2022-06-29</td>\n",
       "      <td>LS 주가 하락장서 역주행  모든 사업부가 호황</td>\n",
       "      <td>2022-06-30</td>\n",
       "      <td>-6.67</td>\n",
       "      <td>-1</td>\n",
       "      <td>1</td>\n",
       "      <td>1</td>\n",
       "      <td>0</td>\n",
       "      <td>1</td>\n",
       "      <td>['LS', '주가', '하락', '장서', '역주행', '모든', '사업', '부...</td>\n",
       "    </tr>\n",
       "    <tr>\n",
       "      <th>431481</th>\n",
       "      <td>2022-06-29</td>\n",
       "      <td>SK바사  토종 백신 1호  식약처 승인 소식에 3 대 강세</td>\n",
       "      <td>2022-06-30</td>\n",
       "      <td>-6.67</td>\n",
       "      <td>-1</td>\n",
       "      <td>1</td>\n",
       "      <td>0</td>\n",
       "      <td>0</td>\n",
       "      <td>1</td>\n",
       "      <td>['SK', '바사', '토종', '백신', '1', '호', '식약처', '승인'...</td>\n",
       "    </tr>\n",
       "    <tr>\n",
       "      <th>431482</th>\n",
       "      <td>2022-06-29</td>\n",
       "      <td>장중시황  코스피  1 4  내린 2389선 경기 침체 우려에 약세</td>\n",
       "      <td>2022-06-30</td>\n",
       "      <td>-6.67</td>\n",
       "      <td>-1</td>\n",
       "      <td>0</td>\n",
       "      <td>1</td>\n",
       "      <td>0</td>\n",
       "      <td>-1</td>\n",
       "      <td>['장', '중', '시', '황', '코스피', '1', '4', '내린', '2...</td>\n",
       "    </tr>\n",
       "    <tr>\n",
       "      <th>431483</th>\n",
       "      <td>2022-06-29</td>\n",
       "      <td>새빗켐  증권신고서 제출 코스닥 상장 본격화</td>\n",
       "      <td>2022-06-30</td>\n",
       "      <td>-6.67</td>\n",
       "      <td>-1</td>\n",
       "      <td>1</td>\n",
       "      <td>0</td>\n",
       "      <td>0</td>\n",
       "      <td>1</td>\n",
       "      <td>['새빗켐', '증권', '신고', '서', '제출', '코스닥', '상장', '본...</td>\n",
       "    </tr>\n",
       "  </tbody>\n",
       "</table>\n",
       "<p>425459 rows × 10 columns</p>\n",
       "</div>\n",
       "      <button class=\"colab-df-convert\" onclick=\"convertToInteractive('df-8f86446a-c790-4884-8f64-376a30075bce')\"\n",
       "              title=\"Convert this dataframe to an interactive table.\"\n",
       "              style=\"display:none;\">\n",
       "        \n",
       "  <svg xmlns=\"http://www.w3.org/2000/svg\" height=\"24px\"viewBox=\"0 0 24 24\"\n",
       "       width=\"24px\">\n",
       "    <path d=\"M0 0h24v24H0V0z\" fill=\"none\"/>\n",
       "    <path d=\"M18.56 5.44l.94 2.06.94-2.06 2.06-.94-2.06-.94-.94-2.06-.94 2.06-2.06.94zm-11 1L8.5 8.5l.94-2.06 2.06-.94-2.06-.94L8.5 2.5l-.94 2.06-2.06.94zm10 10l.94 2.06.94-2.06 2.06-.94-2.06-.94-.94-2.06-.94 2.06-2.06.94z\"/><path d=\"M17.41 7.96l-1.37-1.37c-.4-.4-.92-.59-1.43-.59-.52 0-1.04.2-1.43.59L10.3 9.45l-7.72 7.72c-.78.78-.78 2.05 0 2.83L4 21.41c.39.39.9.59 1.41.59.51 0 1.02-.2 1.41-.59l7.78-7.78 2.81-2.81c.8-.78.8-2.07 0-2.86zM5.41 20L4 18.59l7.72-7.72 1.47 1.35L5.41 20z\"/>\n",
       "  </svg>\n",
       "      </button>\n",
       "      \n",
       "  <style>\n",
       "    .colab-df-container {\n",
       "      display:flex;\n",
       "      flex-wrap:wrap;\n",
       "      gap: 12px;\n",
       "    }\n",
       "\n",
       "    .colab-df-convert {\n",
       "      background-color: #E8F0FE;\n",
       "      border: none;\n",
       "      border-radius: 50%;\n",
       "      cursor: pointer;\n",
       "      display: none;\n",
       "      fill: #1967D2;\n",
       "      height: 32px;\n",
       "      padding: 0 0 0 0;\n",
       "      width: 32px;\n",
       "    }\n",
       "\n",
       "    .colab-df-convert:hover {\n",
       "      background-color: #E2EBFA;\n",
       "      box-shadow: 0px 1px 2px rgba(60, 64, 67, 0.3), 0px 1px 3px 1px rgba(60, 64, 67, 0.15);\n",
       "      fill: #174EA6;\n",
       "    }\n",
       "\n",
       "    [theme=dark] .colab-df-convert {\n",
       "      background-color: #3B4455;\n",
       "      fill: #D2E3FC;\n",
       "    }\n",
       "\n",
       "    [theme=dark] .colab-df-convert:hover {\n",
       "      background-color: #434B5C;\n",
       "      box-shadow: 0px 1px 3px 1px rgba(0, 0, 0, 0.15);\n",
       "      filter: drop-shadow(0px 1px 2px rgba(0, 0, 0, 0.3));\n",
       "      fill: #FFFFFF;\n",
       "    }\n",
       "  </style>\n",
       "\n",
       "      <script>\n",
       "        const buttonEl =\n",
       "          document.querySelector('#df-8f86446a-c790-4884-8f64-376a30075bce button.colab-df-convert');\n",
       "        buttonEl.style.display =\n",
       "          google.colab.kernel.accessAllowed ? 'block' : 'none';\n",
       "\n",
       "        async function convertToInteractive(key) {\n",
       "          const element = document.querySelector('#df-8f86446a-c790-4884-8f64-376a30075bce');\n",
       "          const dataTable =\n",
       "            await google.colab.kernel.invokeFunction('convertToInteractive',\n",
       "                                                     [key], {});\n",
       "          if (!dataTable) return;\n",
       "\n",
       "          const docLinkHtml = 'Like what you see? Visit the ' +\n",
       "            '<a target=\"_blank\" href=https://colab.research.google.com/notebooks/data_table.ipynb>data table notebook</a>'\n",
       "            + ' to learn more about interactive tables.';\n",
       "          element.innerHTML = '';\n",
       "          dataTable['output_type'] = 'display_data';\n",
       "          await google.colab.output.renderOutput(dataTable, element);\n",
       "          const docLink = document.createElement('div');\n",
       "          docLink.innerHTML = docLinkHtml;\n",
       "          element.appendChild(docLink);\n",
       "        }\n",
       "      </script>\n",
       "    </div>\n",
       "  </div>\n",
       "  "
      ],
      "text/plain": [
       "              Date                                    Title      주가의 날짜  \\\n",
       "0       2021-01-04   속보  새해 첫 거래일  코스피  0 04  오른 2874 50 출발  2021-01-05   \n",
       "1       2021-01-04          대웅제약  코로나 치료제 임상3상 시험 시작  주가 상승  2021-01-05   \n",
       "2       2021-01-04                 환율 하락 전환  1086 2 감소0 1원   2021-01-05   \n",
       "3       2021-01-04             비올  일본 최대 병원체인과 실펌엑스 총판계약 체결  2021-01-05   \n",
       "4       2021-01-04               코스닥 하락 전환  968 31 감소0 01    2021-01-05   \n",
       "...            ...                                      ...         ...   \n",
       "431479  2022-06-29           폭락장에 홀로 웃은 OCI 中 신장산 수입규제 반사이익  2022-06-30   \n",
       "431480  2022-06-29              LS 주가 하락장서 역주행  모든 사업부가 호황   2022-06-30   \n",
       "431481  2022-06-29        SK바사  토종 백신 1호  식약처 승인 소식에 3 대 강세  2022-06-30   \n",
       "431482  2022-06-29    장중시황  코스피  1 4  내린 2389선 경기 침체 우려에 약세  2022-06-30   \n",
       "431483  2022-06-29                 새빗켐  증권신고서 제출 코스닥 상장 본격화  2022-06-30   \n",
       "\n",
       "        등락률(y)  updown  Pos  Neg  Mid  감성지수  \\\n",
       "0         2.24       1    1    0    0     1   \n",
       "1         2.24       1    1    0    0     1   \n",
       "2         2.24       1    0    1    0    -1   \n",
       "3         2.24       1    1    0    0     1   \n",
       "4         2.24       1    0    1    0    -1   \n",
       "...        ...     ...  ...  ...  ...   ...   \n",
       "431479   -6.67      -1    1    1    0     1   \n",
       "431480   -6.67      -1    1    1    0     1   \n",
       "431481   -6.67      -1    1    0    0     1   \n",
       "431482   -6.67      -1    0    1    0    -1   \n",
       "431483   -6.67      -1    1    0    0     1   \n",
       "\n",
       "                                                tokenized  \n",
       "0       ['속보', '새해', '첫', '거래', '일', '코스피', '0', '04',...  \n",
       "1       ['대웅제약', '코로나', '치료', '제', '임', '상', '3', '상',...  \n",
       "2        ['환율', '하락', '전환', '1086', '2', '감소', '0', '1원']  \n",
       "3       ['비올', '일본', '최대', '병원체', '인과', '실펌', '엑스', '총...  \n",
       "4       ['코스닥', '하락', '전환', '968', '31', '감소', '0', '01']  \n",
       "...                                                   ...  \n",
       "431479  ['폭락', '장', '에', '홀로', '웃은', 'OCI', '中', '신', ...  \n",
       "431480  ['LS', '주가', '하락', '장서', '역주행', '모든', '사업', '부...  \n",
       "431481  ['SK', '바사', '토종', '백신', '1', '호', '식약처', '승인'...  \n",
       "431482  ['장', '중', '시', '황', '코스피', '1', '4', '내린', '2...  \n",
       "431483  ['새빗켐', '증권', '신고', '서', '제출', '코스닥', '상장', '본...  \n",
       "\n",
       "[425459 rows x 10 columns]"
      ]
     },
     "execution_count": 10,
     "metadata": {},
     "output_type": "execute_result"
    }
   ],
   "source": [
    "df_result = pd.read_csv('./data/[Model6]tokenized_added_df_result.csv', index_col = 0)\n",
    "df_result"
   ]
  },
  {
   "cell_type": "code",
   "execution_count": null,
   "metadata": {
    "colab": {
     "base_uri": "https://localhost:8080/"
    },
    "id": "LjtL7aPXPt1v",
    "outputId": "382b6dd4-2132-4912-f299-970bee5fbc6b"
   },
   "outputs": [
    {
     "data": {
      "text/plain": [
       "array([\"['속보', '새해', '첫', '거래', '일', '코스피', '0', '04', '오른', '2874', '50', '출발']\",\n",
       "       \"['대웅제약', '코로나', '치료', '제', '임', '상', '3', '상', '시험', '시작', '주가', '상승']\",\n",
       "       \"['환율', '하락', '전환', '1086', '2', '감소', '0', '1원']\", ...,\n",
       "       \"['SK', '바사', '토종', '백신', '1', '호', '식약처', '승인', '소식', '에', '3', '대', '강세']\",\n",
       "       \"['장', '중', '시', '황', '코스피', '1', '4', '내린', '2389', '선', '경기', '침체', '우려', '에', '약세']\",\n",
       "       \"['새빗켐', '증권', '신고', '서', '제출', '코스닥', '상장', '본격', '화']\"],\n",
       "      dtype=object)"
      ]
     },
     "execution_count": 11,
     "metadata": {},
     "output_type": "execute_result"
    }
   ],
   "source": [
    "X_train = df_result['tokenized'].values\n",
    "y_train = df_result['감성지수'].values\n",
    "X_train"
   ]
  },
  {
   "cell_type": "code",
   "execution_count": null,
   "metadata": {
    "id": "aMpJOD6kbTEg"
   },
   "outputs": [],
   "source": [
    "tokenizer = Tokenizer(len(df_result['tokenized']), oov_token = 'OOV')\n",
    "tokenizer.fit_on_texts(X_train)\n",
    "X_train = tokenizer.texts_to_sequences(X_train)"
   ]
  },
  {
   "cell_type": "code",
   "execution_count": null,
   "metadata": {
    "colab": {
     "base_uri": "https://localhost:8080/"
    },
    "id": "cAS-63YHb03_",
    "outputId": "e000e45d-3361-42c9-baff-aeced483d968"
   },
   "outputs": [
    {
     "name": "stdout",
     "output_type": "stream",
     "text": [
      "리뷰 최대 길이 : 42\n"
     ]
    }
   ],
   "source": [
    "max_len = max(len(i) for i in X_train)\n",
    "print('리뷰 최대 길이 :', max_len)"
   ]
  },
  {
   "cell_type": "code",
   "execution_count": null,
   "metadata": {
    "id": "CErW2IiUgyGU"
   },
   "outputs": [],
   "source": [
    "from tensorflow.keras.preprocessing.sequence import pad_sequences\n",
    "\n",
    "# 패딩\n",
    "X_train = pad_sequences(X_train, maxlen = max_len)"
   ]
  },
  {
   "cell_type": "code",
   "execution_count": null,
   "metadata": {
    "id": "3vs7HFY9SAzY"
   },
   "outputs": [],
   "source": [
    "# y label shape 맞춰주기\n",
    "from tensorflow.keras.utils import to_categorical\n",
    "\n",
    "y_train = to_categorical(y_train, 3)"
   ]
  },
  {
   "cell_type": "markdown",
   "metadata": {
    "id": "WjgJIwFOOF63"
   },
   "source": [
    "# LSTM 모델링"
   ]
  },
  {
   "cell_type": "code",
   "execution_count": null,
   "metadata": {
    "id": "uo8xVm0RwW2Q"
   },
   "outputs": [],
   "source": [
    "from tensorflow.keras.layers import Embedding, Dense, LSTM, Bidirectional\n",
    "from tensorflow.keras.models import Sequential, load_model\n",
    "from tensorflow.keras.callbacks import EarlyStopping, ModelCheckpoint"
   ]
  },
  {
   "cell_type": "code",
   "execution_count": null,
   "metadata": {
    "colab": {
     "base_uri": "https://localhost:8080/"
    },
    "id": "Vt3AzFeJOBxu",
    "outputId": "dc481c3a-fade-413d-cb96-5524b6fcd814"
   },
   "outputs": [
    {
     "name": "stdout",
     "output_type": "stream",
     "text": [
      "Epoch 1/15\n",
      "1326/1330 [============================>.] - ETA: 0s - loss: 0.0420 - acc: 0.8172\n",
      "Epoch 1: acc improved from -inf to 0.81736, saving model to real_model6_lstm.h5\n",
      "1330/1330 [==============================] - 27s 18ms/step - loss: 0.0419 - acc: 0.8174 - val_loss: 0.0379 - val_acc: 0.8493\n",
      "Epoch 2/15\n",
      "1329/1330 [============================>.] - ETA: 0s - loss: 0.0225 - acc: 0.9104\n",
      "Epoch 2: acc improved from 0.81736 to 0.91038, saving model to real_model6_lstm.h5\n",
      "1330/1330 [==============================] - 22s 17ms/step - loss: 0.0225 - acc: 0.9104 - val_loss: 0.0313 - val_acc: 0.8712\n",
      "Epoch 3/15\n",
      "1327/1330 [============================>.] - ETA: 0s - loss: 0.0186 - acc: 0.9247\n",
      "Epoch 3: acc improved from 0.91038 to 0.92474, saving model to real_model6_lstm.h5\n",
      "1330/1330 [==============================] - 23s 17ms/step - loss: 0.0186 - acc: 0.9247 - val_loss: 0.0293 - val_acc: 0.8785\n",
      "Epoch 4/15\n",
      "1330/1330 [==============================] - ETA: 0s - loss: 0.0169 - acc: 0.9316\n",
      "Epoch 4: acc improved from 0.92474 to 0.93156, saving model to real_model6_lstm.h5\n",
      "1330/1330 [==============================] - 24s 18ms/step - loss: 0.0169 - acc: 0.9316 - val_loss: 0.0286 - val_acc: 0.8822\n",
      "Epoch 5/15\n",
      "1330/1330 [==============================] - ETA: 0s - loss: 0.0157 - acc: 0.9360\n",
      "Epoch 5: acc improved from 0.93156 to 0.93603, saving model to real_model6_lstm.h5\n",
      "1330/1330 [==============================] - 22s 16ms/step - loss: 0.0157 - acc: 0.9360 - val_loss: 0.0281 - val_acc: 0.8831\n",
      "Epoch 6/15\n",
      "1327/1330 [============================>.] - ETA: 0s - loss: 0.0147 - acc: 0.9398\n",
      "Epoch 6: acc improved from 0.93603 to 0.93985, saving model to real_model6_lstm.h5\n",
      "1330/1330 [==============================] - 22s 16ms/step - loss: 0.0147 - acc: 0.9399 - val_loss: 0.0284 - val_acc: 0.8820\n",
      "Epoch 7/15\n",
      "1329/1330 [============================>.] - ETA: 0s - loss: 0.0140 - acc: 0.9427\n",
      "Epoch 7: acc improved from 0.93985 to 0.94269, saving model to real_model6_lstm.h5\n",
      "1330/1330 [==============================] - 22s 17ms/step - loss: 0.0140 - acc: 0.9427 - val_loss: 0.0281 - val_acc: 0.8830\n",
      "Epoch 8/15\n",
      "1330/1330 [==============================] - ETA: 0s - loss: 0.0133 - acc: 0.9454\n",
      "Epoch 8: acc improved from 0.94269 to 0.94536, saving model to real_model6_lstm.h5\n",
      "1330/1330 [==============================] - 22s 17ms/step - loss: 0.0133 - acc: 0.9454 - val_loss: 0.0279 - val_acc: 0.8828\n",
      "Epoch 9/15\n",
      "1330/1330 [==============================] - ETA: 0s - loss: 0.0127 - acc: 0.9479\n",
      "Epoch 9: acc improved from 0.94536 to 0.94792, saving model to real_model6_lstm.h5\n",
      "1330/1330 [==============================] - 22s 17ms/step - loss: 0.0127 - acc: 0.9479 - val_loss: 0.0280 - val_acc: 0.8843\n",
      "Epoch 10/15\n",
      "1326/1330 [============================>.] - ETA: 0s - loss: 0.0122 - acc: 0.9498\n",
      "Epoch 10: acc improved from 0.94792 to 0.94980, saving model to real_model6_lstm.h5\n"
     ]
    }
   ],
   "source": [
    "model = Sequential()\n",
    "model.add(Embedding(len(X_train), 100))\n",
    "model.add(Bidirectional(LSTM(100)))\n",
    "model.add(Dense(3, activation = 'softmax'))\n",
    "\n",
    "# val_loss를 관찰값으로 설정, 그 값이 감소하는 걸 멈출 때 학습 종료\n",
    "es = EarlyStopping(monitor = 'val_loss', mode = 'min', verbose=1, patience=10)\n",
    "\n",
    "# mc = ModelCheckpoint('real_model6_lstm.h5', monitor = 'val_acc', mode = 'max', verbose = 1, save_best_only=True)\n",
    "mc = ModelCheckpoint('real_model6_lstm.h5', monitor = 'acc', mode = 'max', verbose = 1, save_best_only=True)\n",
    "\n",
    "\n",
    "# optimizer 및 loss function 테스트 : 전부 inference 결과가 좋지 않음\n",
    "# model.compile(optimizer='rmsprop', loss='mse', metrics=['acc'])\n",
    "# model.compile(optimizer='rmsprop', loss='mae', metrics = ['acc'])\n",
    "# model.compile(optimizer='rmsprop', loss='categorical_crossentropy', metrics = ['acc'])\n",
    "# model.compile(optimizer='rmsprop', loss='categorical_hinge', metrics = ['acc'])\n",
    "# model.compile(optimizer='sgd', loss='categorical_hinge', metrics = ['acc'])\n",
    "# model.compile(optimizer='rmsprop', loss='hinge', metrics = ['acc'])\n",
    "# model.compile(optimizer='rmsprop', loss='KLDivergence', metrics = ['acc'])\n",
    "# model.compile(optimizer='rmsprop', loss='LogCosh', metrics = ['acc'])\n",
    "# model.compile(optimizer='rmsprop', loss='CosineSimilarity', metrics = ['acc'])\n",
    "# model.compile(optimizer='rmsprop', loss='SquaredHinge', metrics = ['acc'])\n",
    "# model.compile(optimizer='rmsprop', loss='MeanSquaredLogarithmicError', metrics = ['acc'])\n",
    "# model.compile(optimizer='rmsprop', loss='huber', metrics = ['acc'])\n",
    "# model.compile(optimizer='adam', loss='LogCosh', metrics = ['acc'])\n",
    "# model.compile(optimizer='nadam', loss='LogCosh', metrics = ['acc'])\n",
    "model.compile(optimizer='adamax', loss='LogCosh', metrics = ['acc'])\n",
    "\n",
    "history = model.fit(X_train, y_train, epochs=15, callbacks=[es, mc], batch_size=256, validation_split=0.2)\n",
    "\n",
    "model.summary()"
   ]
  },
  {
   "cell_type": "code",
   "execution_count": null,
   "metadata": {
    "id": "bwUKIhkG-MZi"
   },
   "outputs": [],
   "source": [
    "# 저장된 모델 불러오기, 평가\n",
    "# loaded_model = load_model('real_model6_lstm.h5')\n",
    "# loaded_model.evaluate(X_train, y_train)"
   ]
  },
  {
   "cell_type": "code",
   "execution_count": null,
   "metadata": {
    "colab": {
     "base_uri": "https://localhost:8080/"
    },
    "id": "nSEsXqkacfEh",
    "outputId": "0b061c8e-6030-44e5-bbf0-e5f354d227b4"
   },
   "outputs": [
    {
     "name": "stdout",
     "output_type": "stream",
     "text": [
      "13296/13296 [==============================] - 330s 25ms/step - loss: 0.1871 - acc: 0.3250\n"
     ]
    },
    {
     "data": {
      "text/plain": [
       "[0.18706531822681427, 0.32497137784957886]"
      ]
     },
     "execution_count": 16,
     "metadata": {},
     "output_type": "execute_result"
    }
   ],
   "source": [
    "y_result = df_result['updown'].values\n",
    "y_result = to_categorical(y_result, 3)\n",
    "\n",
    "# 저장된 모델 불러오기, 평가\n",
    "loaded_model = load_model('real_model6_lstm.h5')\n",
    "loaded_model.evaluate(X_train, y_result)"
   ]
  },
  {
   "cell_type": "markdown",
   "metadata": {
    "id": "s1VbFsXdOLpN"
   },
   "source": [
    "## 시각화"
   ]
  },
  {
   "cell_type": "code",
   "execution_count": null,
   "metadata": {
    "colab": {
     "base_uri": "https://localhost:8080/",
     "height": 248
    },
    "id": "rVDEPxo1N_C5",
    "outputId": "90a98345-0a8b-4add-8789-ed26b628ca20"
   },
   "outputs": [
    {
     "ename": "NameError",
     "evalue": "ignored",
     "output_type": "error",
     "traceback": [
      "\u001b[0;31m---------------------------------------------------------------------------\u001b[0m",
      "\u001b[0;31mNameError\u001b[0m                                 Traceback (most recent call last)",
      "\u001b[0;32m<ipython-input-17-5ea994311148>\u001b[0m in \u001b[0;36m<module>\u001b[0;34m()\u001b[0m\n\u001b[1;32m      1\u001b[0m \u001b[0;31m# 시각화\u001b[0m\u001b[0;34m\u001b[0m\u001b[0;34m\u001b[0m\u001b[0;34m\u001b[0m\u001b[0m\n\u001b[0;32m----> 2\u001b[0;31m \u001b[0mhist_dict\u001b[0m \u001b[0;34m=\u001b[0m \u001b[0mhistory\u001b[0m\u001b[0;34m.\u001b[0m\u001b[0mhistory\u001b[0m\u001b[0;34m\u001b[0m\u001b[0;34m\u001b[0m\u001b[0m\n\u001b[0m\u001b[1;32m      3\u001b[0m \u001b[0mloss\u001b[0m \u001b[0;34m=\u001b[0m \u001b[0mhist_dict\u001b[0m\u001b[0;34m[\u001b[0m\u001b[0;34m'loss'\u001b[0m\u001b[0;34m]\u001b[0m\u001b[0;34m\u001b[0m\u001b[0;34m\u001b[0m\u001b[0m\n\u001b[1;32m      4\u001b[0m \u001b[0mval_loss\u001b[0m \u001b[0;34m=\u001b[0m \u001b[0mhist_dict\u001b[0m\u001b[0;34m[\u001b[0m\u001b[0;34m'val_loss'\u001b[0m\u001b[0;34m]\u001b[0m\u001b[0;34m\u001b[0m\u001b[0;34m\u001b[0m\u001b[0m\n\u001b[1;32m      5\u001b[0m \u001b[0macc\u001b[0m \u001b[0;34m=\u001b[0m \u001b[0mhist_dict\u001b[0m\u001b[0;34m[\u001b[0m\u001b[0;34m'acc'\u001b[0m\u001b[0;34m]\u001b[0m\u001b[0;34m\u001b[0m\u001b[0;34m\u001b[0m\u001b[0m\n",
      "\u001b[0;31mNameError\u001b[0m: name 'history' is not defined"
     ]
    }
   ],
   "source": [
    "# 시각화\n",
    "hist_dict = history.history\n",
    "loss = hist_dict['loss']\n",
    "val_loss = hist_dict['val_loss']\n",
    "acc = hist_dict['acc']\n",
    "val_acc = hist_dict['val_acc']\n",
    "\n",
    "plt.plot(loss, 'b--', label = 'training loss')\n",
    "plt.plot(val_loss, 'r--', label = 'validation loss')\n",
    "plt.legend()\n",
    "plt.grid()\n",
    "\n",
    "plt.figure()\n",
    "plt.plot(acc, 'b--', label = 'training accuracy')\n",
    "plt.plot(val_acc, 'r--', label = 'validation accuracy')\n",
    "plt.legend()\n",
    "plt.grid()\n",
    "\n",
    "plt.show()"
   ]
  },
  {
   "cell_type": "code",
   "execution_count": null,
   "metadata": {
    "id": "KboUPnfLN-4o"
   },
   "outputs": [],
   "source": [
    "import numpy as np\n",
    "\n",
    "# 임의 불용어\n",
    "stopwords1 = ['의','가','이','은','들','는','좀','잘','걍','과','도','를','으로','자','에','와','한','하다']\n",
    "stopwords2 = ['도', '는', '다', '의', '가', '이', '은', '한', '에', '하', '고', '을', '를', '인', '듯', '과', '와', '네', '들', '듯', '지', '임', '게']\n",
    "stopwords = list(set(stopwords1 + stopwords2))\n",
    "\n",
    "def sentiment_predict(new_sentence):\n",
    "    new_token = [word for word in okt.morphs(new_sentence) if not word in stopwords]\n",
    "    new_sequences = tokenizer.texts_to_sequences([new_token])\n",
    "    new_pad = pad_sequences(new_sequences, maxlen = max_len)\n",
    "    # score = float(loaded_model.predict(new_pad))\n",
    "    score = loaded_model.predict(new_pad)\n",
    "    # print(score)\n",
    "\n",
    "    # print(np.argmax(score))\n",
    "\n",
    "    if np.argmax(score) == 0 :\n",
    "        print(\"{} -> 상승 ({:.2f}%)\\n\".format(new_sentence, score.max() * 100))\n",
    "    elif np.argmax(score) == 1 :\n",
    "        print(\"{} -> 유지 ({:.2f}%)\\n\".format(new_sentence, score.max() * 100))\n",
    "    elif np.argmax(score) == 2 :\n",
    "        print(\"{} -> 하락 ({:.2f}%)\\n\".format(new_sentence, score.max() * 100))"
   ]
  },
  {
   "cell_type": "code",
   "execution_count": null,
   "metadata": {
    "colab": {
     "base_uri": "https://localhost:8080/"
    },
    "id": "KT9dKSWdKp6Q",
    "outputId": "bd51afea-9514-421d-ce83-e164594de3c8"
   },
   "outputs": [
    {
     "name": "stdout",
     "output_type": "stream",
     "text": [
      "[유럽개장] 장초반 상승세…英 1.03%↑ -> 하락 (55.22%)\n",
      "\n",
      "[시황종합] 코스피, '침체우려'에 장중 연저점 경신…2300선 턱걸이 마감 -> 하락 (99.02%)\n",
      "\n",
      "[이번주 증시] 경기침체 우려 지속…반등시 포트폴리오 재정비 -> 하락 (80.61%)\n",
      "\n",
      "'2차전지 너마저'…인플레·경기침체에 장사 없나 [한경우의 케이스스터디] -> 하락 (84.17%)\n",
      "\n",
      "기관 매도... 연일 증시 폭락 -> 상승 (84.67%)\n",
      "\n",
      "코로나 확진자 3만명에 '비상'…여행-항공주 저가 -> 하락 (82.86%)\n",
      "\n",
      "[특징주]지노믹트리, 핵산 증폭방법 특허 취득·미국 시장 진출 등 소식에 '강세' -> 하락 (98.38%)\n",
      "\n",
      "러시아 임플란트 수출 반토막에 주가급락한 덴티움…“피크아웃 판단은 시기상조” -> 하락 (75.17%)\n",
      "\n"
     ]
    }
   ],
   "source": [
    "sentiment_predict(\"[유럽개장] 장초반 상승세…英 1.03%↑\")\n",
    "sentiment_predict(\"[시황종합] 코스피, '침체우려'에 장중 연저점 경신…2300선 턱걸이 마감\")\n",
    "sentiment_predict(\"[이번주 증시] 경기침체 우려 지속…반등시 포트폴리오 재정비\")\n",
    "sentiment_predict(\"'2차전지 너마저'…인플레·경기침체에 장사 없나 [한경우의 케이스스터디]\")\n",
    "sentiment_predict(\"기관 매도... 연일 증시 폭락\")\n",
    "sentiment_predict(\"코로나 확진자 3만명에 '비상'…여행-항공주 저가\")\n",
    "sentiment_predict(\"[특징주]지노믹트리, 핵산 증폭방법 특허 취득·미국 시장 진출 등 소식에 '강세'\")\n",
    "sentiment_predict(\"러시아 임플란트 수출 반토막에 주가급락한 덴티움…“피크아웃 판단은 시기상조”\")"
   ]
  },
  {
   "cell_type": "code",
   "execution_count": null,
   "metadata": {
    "id": "pY8jcuqiK08g"
   },
   "outputs": [],
   "source": []
  }
 ],
 "metadata": {
  "colab": {
   "collapsed_sections": [],
   "name": "220714 [Model6] (Word based LSTM) sentiment analysis.ipynb",
   "provenance": []
  },
  "gpuClass": "standard",
  "kernelspec": {
   "display_name": "Python 3 (ipykernel)",
   "language": "python",
   "name": "python3"
  },
  "language_info": {
   "codemirror_mode": {
    "name": "ipython",
    "version": 3
   },
   "file_extension": ".py",
   "mimetype": "text/x-python",
   "name": "python",
   "nbconvert_exporter": "python",
   "pygments_lexer": "ipython3",
   "version": "3.8.8"
  },
  "toc": {
   "base_numbering": 1,
   "nav_menu": {},
   "number_sections": true,
   "sideBar": true,
   "skip_h1_title": false,
   "title_cell": "Table of Contents",
   "title_sidebar": "Contents",
   "toc_cell": false,
   "toc_position": {},
   "toc_section_display": true,
   "toc_window_display": false
  }
 },
 "nbformat": 4,
 "nbformat_minor": 1
}
