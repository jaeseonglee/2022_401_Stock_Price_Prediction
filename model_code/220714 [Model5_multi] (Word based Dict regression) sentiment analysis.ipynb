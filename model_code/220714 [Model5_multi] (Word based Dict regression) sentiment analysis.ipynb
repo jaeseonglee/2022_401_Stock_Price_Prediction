{
 "cells": [
  {
   "cell_type": "markdown",
   "id": "8ced423c-df70-48d4-8c5e-6af898aaee97",
   "metadata": {},
   "source": [
    "# 라이브러리"
   ]
  },
  {
   "cell_type": "code",
   "execution_count": 1,
   "id": "9c1142d5",
   "metadata": {
    "ExecuteTime": {
     "end_time": "2022-07-10T02:27:31.264532Z",
     "start_time": "2022-07-10T02:27:28.123831Z"
    }
   },
   "outputs": [],
   "source": [
    "import pickle\n",
    "import numpy as np\n",
    "import pandas as pd\n",
    "import matplotlib.pyplot as plt\n",
    "\n",
    "from math import sqrt\n",
    "from tqdm import tqdm\n",
    "from datetime import timedelta\n",
    "from konlpy.tag import *\n",
    "\n",
    "\n",
    "from sklearn.metrics import accuracy_score, f1_score, mean_squared_error, r2_score, confusion_matrix, classification_report, log_loss\n",
    "from sklearn.pipeline import Pipeline \n",
    "from sklearn.linear_model import LogisticRegression\n",
    "from sklearn.model_selection import train_test_split, cross_val_score, GridSearchCV, KFold\n",
    "from sklearn.feature_extraction.text import TfidfVectorizer "
   ]
  },
  {
   "cell_type": "code",
   "execution_count": 2,
   "id": "ada11b93",
   "metadata": {
    "ExecuteTime": {
     "end_time": "2022-07-10T02:27:31.264532Z",
     "start_time": "2022-07-10T02:27:28.123831Z"
    }
   },
   "outputs": [],
   "source": [
    "# 경고 무시\n",
    "import warnings\n",
    "warnings.filterwarnings('ignore')"
   ]
  },
  {
   "cell_type": "markdown",
   "id": "29075937-ad9d-4d92-a48b-200413e34726",
   "metadata": {},
   "source": [
    "# 종목명 선택 및 뉴스,토론방, 유튜브 데이터 통합"
   ]
  },
  {
   "cell_type": "code",
   "execution_count": 3,
   "id": "c631f315",
   "metadata": {
    "ExecuteTime": {
     "end_time": "2022-07-10T02:27:31.296108Z",
     "start_time": "2022-07-10T02:27:31.285115Z"
    }
   },
   "outputs": [],
   "source": [
    "# LG화학, 삼성SDI, SK이노베이션, 고려아연, 포스코케미칼\n",
    "stock_name = '삼성SDI'"
   ]
  },
  {
   "cell_type": "code",
   "execution_count": 4,
   "id": "6ce7b6d9",
   "metadata": {
    "ExecuteTime": {
     "end_time": "2022-07-10T02:27:33.166468Z",
     "start_time": "2022-07-10T02:27:31.301106Z"
    }
   },
   "outputs": [],
   "source": [
    "naver_news = pd.read_csv('./data/refined_naver_news.csv', index_col = 0)\n",
    "daum_news = pd.read_csv('./data/refined_daum_news.csv', index_col = 0)\n",
    "naver_talks = pd.read_csv(f'./data/refined_naver_talks_{stock_name}.csv', index_col = 0)\n",
    "daum_talks = pd.read_csv(f'./data/refined_daum_talks_{stock_name}.csv', index_col = 0)\n",
    "youtube = pd.read_csv(f'./data/refined_youtube_{stock_name}.csv', index_col = 0)"
   ]
  },
  {
   "cell_type": "code",
   "execution_count": 5,
   "id": "94f7497a",
   "metadata": {
    "ExecuteTime": {
     "end_time": "2022-07-10T02:27:33.626573Z",
     "start_time": "2022-07-10T02:27:33.166468Z"
    }
   },
   "outputs": [],
   "source": [
    "# 데이터 통합\n",
    "news_df = pd.concat([naver_news, daum_news, naver_talks, daum_talks ,youtube])\n",
    "\n",
    "# 'Date' 타입이 int 이므로 datetime으로 변환\n",
    "news_df['Date'] = pd.to_datetime(news_df['Date'].astype(str))\n",
    "\n",
    "# 합쳐진 데이터들의 인덱스 재설정\n",
    "news_df.sort_values('Date', ignore_index=True, inplace=True)"
   ]
  },
  {
   "cell_type": "code",
   "execution_count": 6,
   "id": "4dd504c3",
   "metadata": {
    "ExecuteTime": {
     "end_time": "2022-07-10T02:27:33.658556Z",
     "start_time": "2022-07-10T02:27:33.630573Z"
    }
   },
   "outputs": [
    {
     "data": {
      "text/html": [
       "<div>\n",
       "<style scoped>\n",
       "    .dataframe tbody tr th:only-of-type {\n",
       "        vertical-align: middle;\n",
       "    }\n",
       "\n",
       "    .dataframe tbody tr th {\n",
       "        vertical-align: top;\n",
       "    }\n",
       "\n",
       "    .dataframe thead th {\n",
       "        text-align: right;\n",
       "    }\n",
       "</style>\n",
       "<table border=\"1\" class=\"dataframe\">\n",
       "  <thead>\n",
       "    <tr style=\"text-align: right;\">\n",
       "      <th></th>\n",
       "      <th>Date</th>\n",
       "      <th>Title</th>\n",
       "    </tr>\n",
       "  </thead>\n",
       "  <tbody>\n",
       "    <tr>\n",
       "      <th>639</th>\n",
       "      <td>2021-01-04</td>\n",
       "      <td>비올  일본 최대 병원체인과 실펌엑스 총판계약 체결</td>\n",
       "    </tr>\n",
       "    <tr>\n",
       "      <th>640</th>\n",
       "      <td>2021-01-04</td>\n",
       "      <td>환율 하락 전환  1086 2 감소0 1원</td>\n",
       "    </tr>\n",
       "  </tbody>\n",
       "</table>\n",
       "</div>"
      ],
      "text/plain": [
       "          Date                         Title\n",
       "639 2021-01-04  비올  일본 최대 병원체인과 실펌엑스 총판계약 체결\n",
       "640 2021-01-04      환율 하락 전환  1086 2 감소0 1원 "
      ]
     },
     "execution_count": 6,
     "metadata": {},
     "output_type": "execute_result"
    }
   ],
   "source": [
    "# 2021년 주식 데이터가 1월 4일부터 있어서 슬라이싱\n",
    "news_df = news_df[news_df[news_df['Date']== '2021-01-04'].index[0] : ]\n",
    "news_df.head(2)"
   ]
  },
  {
   "cell_type": "code",
   "execution_count": null,
   "id": "d71d8147",
   "metadata": {},
   "outputs": [],
   "source": []
  },
  {
   "cell_type": "markdown",
   "id": "77019b3d-5b79-4115-a2ca-0f4b55b48b77",
   "metadata": {},
   "source": [
    "# 주가 데이터"
   ]
  },
  {
   "cell_type": "code",
   "execution_count": 7,
   "id": "963cb2bd",
   "metadata": {
    "ExecuteTime": {
     "end_time": "2022-07-10T02:27:33.706528Z",
     "start_time": "2022-07-10T02:27:33.662553Z"
    }
   },
   "outputs": [
    {
     "data": {
      "text/html": [
       "<div>\n",
       "<style scoped>\n",
       "    .dataframe tbody tr th:only-of-type {\n",
       "        vertical-align: middle;\n",
       "    }\n",
       "\n",
       "    .dataframe tbody tr th {\n",
       "        vertical-align: top;\n",
       "    }\n",
       "\n",
       "    .dataframe thead th {\n",
       "        text-align: right;\n",
       "    }\n",
       "</style>\n",
       "<table border=\"1\" class=\"dataframe\">\n",
       "  <thead>\n",
       "    <tr style=\"text-align: right;\">\n",
       "      <th></th>\n",
       "      <th>일자</th>\n",
       "      <th>등락률</th>\n",
       "    </tr>\n",
       "  </thead>\n",
       "  <tbody>\n",
       "    <tr>\n",
       "      <th>0</th>\n",
       "      <td>2021-01-04</td>\n",
       "      <td>6.85</td>\n",
       "    </tr>\n",
       "    <tr>\n",
       "      <th>1</th>\n",
       "      <td>2021-01-05</td>\n",
       "      <td>2.24</td>\n",
       "    </tr>\n",
       "  </tbody>\n",
       "</table>\n",
       "</div>"
      ],
      "text/plain": [
       "          일자   등락률\n",
       "0 2021-01-04  6.85\n",
       "1 2021-01-05  2.24"
      ]
     },
     "execution_count": 7,
     "metadata": {},
     "output_type": "execute_result"
    }
   ],
   "source": [
    "stock_df = pd.read_csv(f'./data/{stock_name}_주가_데이터.csv', usecols = ['일자','등락률'])\n",
    "stock_df['일자'] = pd.to_datetime(stock_df['일자'])\n",
    "stock_df.head(2)"
   ]
  },
  {
   "cell_type": "code",
   "execution_count": 8,
   "id": "9db5b903-ee8a-4dbd-9428-857b8758c86a",
   "metadata": {
    "ExecuteTime": {
     "end_time": "2022-07-10T02:27:33.722520Z",
     "start_time": "2022-07-10T02:27:33.710526Z"
    }
   },
   "outputs": [
    {
     "name": "stdout",
     "output_type": "stream",
     "text": [
      "2021-01-04 00:00:00\n",
      "2022-06-30 00:00:00\n"
     ]
    }
   ],
   "source": [
    "start = str(stock_df.iloc[0, 0])\n",
    "end = str(stock_df.iloc[-1, 0])\n",
    "print(start)\n",
    "print(end)"
   ]
  },
  {
   "cell_type": "code",
   "execution_count": null,
   "id": "a90d9b8e-63cb-44a6-aca6-12caf8366bc1",
   "metadata": {
    "ExecuteTime": {
     "end_time": "2022-07-10T02:27:33.784483Z",
     "start_time": "2022-07-10T02:27:33.727515Z"
    }
   },
   "outputs": [],
   "source": []
  },
  {
   "cell_type": "markdown",
   "id": "df69aa70-2261-4f3d-b796-a35ba82279f9",
   "metadata": {},
   "source": [
    "# 데이터 프레임 합치기"
   ]
  },
  {
   "cell_type": "code",
   "execution_count": 9,
   "id": "8c3caf4a-d309-4847-8d88-f37bf5452559",
   "metadata": {
    "ExecuteTime": {
     "end_time": "2022-07-10T02:27:33.816466Z",
     "start_time": "2022-07-10T02:27:33.791481Z"
    }
   },
   "outputs": [],
   "source": [
    "## 뉴스일자 조정(예측대상(주가)의 일자와 맞추기 위해)\n",
    "news_df['일자'] = news_df['Date'] + timedelta(days=1)"
   ]
  },
  {
   "cell_type": "code",
   "execution_count": 10,
   "id": "053a09b7-b1ec-4cfc-9768-e16200a91bca",
   "metadata": {
    "ExecuteTime": {
     "end_time": "2022-07-10T02:27:34.446114Z",
     "start_time": "2022-07-10T02:27:33.821467Z"
    }
   },
   "outputs": [
    {
     "name": "stdout",
     "output_type": "stream",
     "text": [
      "429241\n"
     ]
    },
    {
     "data": {
      "text/html": [
       "<div>\n",
       "<style scoped>\n",
       "    .dataframe tbody tr th:only-of-type {\n",
       "        vertical-align: middle;\n",
       "    }\n",
       "\n",
       "    .dataframe tbody tr th {\n",
       "        vertical-align: top;\n",
       "    }\n",
       "\n",
       "    .dataframe thead th {\n",
       "        text-align: right;\n",
       "    }\n",
       "</style>\n",
       "<table border=\"1\" class=\"dataframe\">\n",
       "  <thead>\n",
       "    <tr style=\"text-align: right;\">\n",
       "      <th></th>\n",
       "      <th>Date</th>\n",
       "      <th>Title</th>\n",
       "      <th>주가의 날짜</th>\n",
       "      <th>등락률</th>\n",
       "    </tr>\n",
       "  </thead>\n",
       "  <tbody>\n",
       "    <tr>\n",
       "      <th>0</th>\n",
       "      <td>2021-01-04</td>\n",
       "      <td>비올  일본 최대 병원체인과 실펌엑스 총판계약 체결</td>\n",
       "      <td>2021-01-05</td>\n",
       "      <td>2.24</td>\n",
       "    </tr>\n",
       "    <tr>\n",
       "      <th>1</th>\n",
       "      <td>2021-01-04</td>\n",
       "      <td>환율 하락 전환  1086 2 감소0 1원</td>\n",
       "      <td>2021-01-05</td>\n",
       "      <td>2.24</td>\n",
       "    </tr>\n",
       "    <tr>\n",
       "      <th>2</th>\n",
       "      <td>2021-01-04</td>\n",
       "      <td>코스피  1 03p 0 04   오른 2874 50 출발  원 달러 환율 1 2원 ...</td>\n",
       "      <td>2021-01-05</td>\n",
       "      <td>2.24</td>\n",
       "    </tr>\n",
       "    <tr>\n",
       "      <th>3</th>\n",
       "      <td>2021-01-04</td>\n",
       "      <td>韓증시 사상최고치 시작  개장식선 안정적 시장운영에 방점</td>\n",
       "      <td>2021-01-05</td>\n",
       "      <td>2.24</td>\n",
       "    </tr>\n",
       "    <tr>\n",
       "      <th>4</th>\n",
       "      <td>2021-01-04</td>\n",
       "      <td>SK바이오팜  아벨 지분 매각으로 5천500만 달러 자본이득</td>\n",
       "      <td>2021-01-05</td>\n",
       "      <td>2.24</td>\n",
       "    </tr>\n",
       "  </tbody>\n",
       "</table>\n",
       "</div>"
      ],
      "text/plain": [
       "        Date                                              Title     주가의 날짜  \\\n",
       "0 2021-01-04                       비올  일본 최대 병원체인과 실펌엑스 총판계약 체결 2021-01-05   \n",
       "1 2021-01-04                           환율 하락 전환  1086 2 감소0 1원  2021-01-05   \n",
       "2 2021-01-04  코스피  1 03p 0 04   오른 2874 50 출발  원 달러 환율 1 2원 ... 2021-01-05   \n",
       "3 2021-01-04                    韓증시 사상최고치 시작  개장식선 안정적 시장운영에 방점 2021-01-05   \n",
       "4 2021-01-04                  SK바이오팜  아벨 지분 매각으로 5천500만 달러 자본이득 2021-01-05   \n",
       "\n",
       "    등락률  \n",
       "0  2.24  \n",
       "1  2.24  \n",
       "2  2.24  \n",
       "3  2.24  \n",
       "4  2.24  "
      ]
     },
     "execution_count": 10,
     "metadata": {},
     "output_type": "execute_result"
    }
   ],
   "source": [
    "df = news_df.merge(stock_df)\n",
    "df.columns = [df.columns[0], df.columns[1], '주가의 날짜', '등락률' ]\n",
    "df.drop_duplicates('Title', inplace = True, ignore_index = True)  # 기사제목 중복 제거\n",
    "df['Title'] = df['Title'].astype(str)\n",
    "print(len(df))\n",
    "df.head()"
   ]
  },
  {
   "cell_type": "code",
   "execution_count": null,
   "id": "3b249b6f-2d46-4612-914a-e9e3b803a75d",
   "metadata": {
    "ExecuteTime": {
     "end_time": "2022-07-10T02:01:40.126265Z",
     "start_time": "2022-07-10T02:01:40.118267Z"
    }
   },
   "outputs": [],
   "source": []
  },
  {
   "cell_type": "markdown",
   "id": "7af88f06-fa6e-43f8-ad86-2ba3ee7b1334",
   "metadata": {},
   "source": [
    "# 감성사전 load"
   ]
  },
  {
   "cell_type": "code",
   "execution_count": 11,
   "id": "a15eddb8-8cee-45c0-8d8b-55a19c15ce04",
   "metadata": {
    "ExecuteTime": {
     "end_time": "2022-07-10T02:27:34.495084Z",
     "start_time": "2022-07-10T02:27:34.451109Z"
    }
   },
   "outputs": [
    {
     "data": {
      "text/html": [
       "<div>\n",
       "<style scoped>\n",
       "    .dataframe tbody tr th:only-of-type {\n",
       "        vertical-align: middle;\n",
       "    }\n",
       "\n",
       "    .dataframe tbody tr th {\n",
       "        vertical-align: top;\n",
       "    }\n",
       "\n",
       "    .dataframe thead th {\n",
       "        text-align: right;\n",
       "    }\n",
       "</style>\n",
       "<table border=\"1\" class=\"dataframe\">\n",
       "  <thead>\n",
       "    <tr style=\"text-align: right;\">\n",
       "      <th></th>\n",
       "      <th>pos</th>\n",
       "      <th>mid</th>\n",
       "      <th>neg</th>\n",
       "    </tr>\n",
       "  </thead>\n",
       "  <tbody>\n",
       "    <tr>\n",
       "      <th>0</th>\n",
       "      <td>방긋</td>\n",
       "      <td>아직</td>\n",
       "      <td>회의적</td>\n",
       "    </tr>\n",
       "    <tr>\n",
       "      <th>1</th>\n",
       "      <td>상회</td>\n",
       "      <td>보통</td>\n",
       "      <td>바닥</td>\n",
       "    </tr>\n",
       "    <tr>\n",
       "      <th>2</th>\n",
       "      <td>신선</td>\n",
       "      <td>vs</td>\n",
       "      <td>이탈</td>\n",
       "    </tr>\n",
       "  </tbody>\n",
       "</table>\n",
       "</div>"
      ],
      "text/plain": [
       "  pos mid  neg\n",
       "0  방긋  아직  회의적\n",
       "1  상회  보통   바닥\n",
       "2  신선  vs   이탈"
      ]
     },
     "execution_count": 11,
     "metadata": {},
     "output_type": "execute_result"
    }
   ],
   "source": [
    "sentiment_csv = pd.read_csv('./sentiment dictionary.csv', index_col = 0)\n",
    "sentiment_csv.head(3)"
   ]
  },
  {
   "cell_type": "code",
   "execution_count": 12,
   "id": "0e3e47b4-44ff-43cc-9ae9-5dcc7d685d1c",
   "metadata": {
    "ExecuteTime": {
     "end_time": "2022-07-10T02:27:34.511076Z",
     "start_time": "2022-07-10T02:27:34.498082Z"
    }
   },
   "outputs": [],
   "source": [
    "pos_li = sentiment_csv['pos'].dropna().values\n",
    "mid_li = sentiment_csv['mid'].dropna().values\n",
    "neg_li = sentiment_csv['neg'].dropna().values"
   ]
  },
  {
   "cell_type": "code",
   "execution_count": null,
   "id": "9793615c",
   "metadata": {},
   "outputs": [],
   "source": []
  },
  {
   "cell_type": "markdown",
   "id": "3b1efe5f-9994-464b-af75-34f3dbf1684a",
   "metadata": {},
   "source": [
    "# 감성 지수 계산하는 multi_sentimental_score() "
   ]
  },
  {
   "cell_type": "code",
   "execution_count": 13,
   "id": "02f869e1",
   "metadata": {},
   "outputs": [],
   "source": [
    "def multi_sentimental_score(df):\n",
    "    # 입력받은 데이터프레임 복사 및 컬럼 추가\n",
    "    df_result = df.copy()\n",
    "    \n",
    "    df_result['Pos'] = 0\n",
    "    df_result['Neg'] = 0\n",
    "    df_result['Mid'] = 0\n",
    "    \n",
    "    # 감성 지수는 긍정 : 1, 부정 : -1, 중립 : 0, 해당 데이터 제외 : 999\n",
    "    df_result['감성지수'] = 999 \n",
    "    \n",
    "    # 등락률에 의해 결정되는 updown    \n",
    "    df_result['updown'] = 0\n",
    "    df_result.loc[df_result.query('등락률 >= 1').index, 'updown'] = 1\n",
    "    df_result.loc[df_result.query('등락률 <= -1').index, 'updown'] = -1\n",
    "    \n",
    "################################################################################################\n",
    "    # 0  : 없음, 1: 있음\n",
    "    # 감성 사전에 따른 텍스트 검출\n",
    "    print('긍정 단어 검색중')\n",
    "    for pos in tqdm(pos_li) :\n",
    "        str_expr = f\"Title.str.contains('{pos}')\"\n",
    "        df_result.loc[df_result.query(str_expr).index, 'Pos'] = 1\n",
    "    \n",
    "    print('부정 단어 검색중')\n",
    "    for neg in tqdm(neg_li) :\n",
    "        str_expr = f\"Title.str.contains('{neg}')\"\n",
    "        df_result.loc[df_result.query(str_expr).index, 'Neg'] = 1\n",
    "        \n",
    "    print('중립 단어 검색중')\n",
    "    for mid in tqdm(mid_li) :\n",
    "        str_expr = f\"Title.str.contains('{mid}')\"\n",
    "        df_result.loc[df_result.query(str_expr).index, 'Mid'] = 1\n",
    "    \n",
    "################################################################################################\n",
    "    \n",
    "    # 모든 종류의 단어가 검출 되면 제외\n",
    "    df_result.loc[df_result.query('Pos == 1 and Neg == 1 and Mid == 1').index, '감성지수'] = 999\n",
    "    \n",
    "    # 중립 단어가 검출되면 중립\n",
    "    df_result.loc[df_result.query('Mid == 1').index, '감성지수'] = 0\n",
    "    \n",
    "    # 긍정 단어만이 검출되면 긍정\n",
    "    df_result.loc[df_result.query('Pos == 1 and Neg == 0 and Mid == 0').index, '감성지수'] = 1\n",
    "    \n",
    "    # 부정 단어만이 검출되면 부정\n",
    "    df_result.loc[df_result.query('Pos == 0 and Neg == 1 and Mid == 0').index, '감성지수'] = -1\n",
    "    \n",
    "    # 긍정, 부정 단어가 둘 다 있으면 전 날 또는 당일 주가의 등락률을 보고 결정\n",
    "    print('긍정 부정 둘 다 있는 경우 처리중')\n",
    "    for i in tqdm(df_result.loc[df_result.query('Pos == 1 and Neg == 1 and Mid == 0').index].index) : \n",
    "        # 등락률에 따라 감성지수를  정하는 check\n",
    "        check = 999\n",
    "        \n",
    "        # 해당 Title의 어제 주가가 있으면 선택\n",
    "        if sum(df_result.loc[i,'Date'] - timedelta(days = 1) == stock_df['일자']) == 1 :  \n",
    "            check = stock_df[stock_df['일자'] == df_result.loc[i,'Date'] - timedelta(days = 1)]['등락률'].values[0]\n",
    "        \n",
    "        # 어제 주가는 없지만 당일이 있으면 당일을 선택\n",
    "        elif sum(df_result.loc[i,'Date'] == stock_df['일자']) == 1 :  \n",
    "            check = stock_df[stock_df['일자'] == df_result.loc[i,'Date']]['등락률'].values[0]\n",
    "\n",
    "        # 어제와 오늘의 주가도 없다면 이전의 주가를 찾아 탐색\n",
    "        else :\n",
    "            j = 2 \n",
    "            while True :\n",
    "                if sum(df_result.loc[i,'Date'] - timedelta(days = j) == stock_df['일자']) == 1 :\n",
    "                    check = stock_df[stock_df['일자'] == df_result.loc[i,'Date'] - timedelta(days = j)]['등락률'].values[0]\n",
    "                    break\n",
    "                j += 1\n",
    "        \n",
    "        if check >= 1 :\n",
    "            df_result.loc[i,'감성지수'] = 1\n",
    "        elif check <= -1 :\n",
    "            df_result.loc[i,'감성지수'] = -1\n",
    "        else :\n",
    "            df_result.loc[i,'감성지수'] = 0\n",
    "    \n",
    "################################################################################################    \n",
    "    # 감성지수가 긍정 부정 둘 다 아니면 삭제\n",
    "    df_result = pd.concat([df_result.loc[df_result.query('감성지수 != 999').index]], ignore_index = True)\n",
    "    \n",
    "    return df_result"
   ]
  },
  {
   "cell_type": "code",
   "execution_count": 14,
   "id": "e013eb45",
   "metadata": {},
   "outputs": [
    {
     "name": "stdout",
     "output_type": "stream",
     "text": [
      "긍정 단어 검색중\n"
     ]
    },
    {
     "name": "stderr",
     "output_type": "stream",
     "text": [
      "100%|████████████████████████████████████████████████████████████████████████████████| 648/648 [01:45<00:00,  6.16it/s]\n"
     ]
    },
    {
     "name": "stdout",
     "output_type": "stream",
     "text": [
      "부정 단어 검색중\n"
     ]
    },
    {
     "name": "stderr",
     "output_type": "stream",
     "text": [
      "100%|██████████████████████████████████████████████████████████████████████████████| 1001/1001 [02:58<00:00,  5.61it/s]\n"
     ]
    },
    {
     "name": "stdout",
     "output_type": "stream",
     "text": [
      "중립 단어 검색중\n"
     ]
    },
    {
     "name": "stderr",
     "output_type": "stream",
     "text": [
      "100%|██████████████████████████████████████████████████████████████████████████████████| 53/53 [00:09<00:00,  5.67it/s]\n"
     ]
    },
    {
     "name": "stdout",
     "output_type": "stream",
     "text": [
      "긍정 부정 둘 다 있는 경우 처리중\n"
     ]
    },
    {
     "name": "stderr",
     "output_type": "stream",
     "text": [
      "100%|██████████████████████████████████████████████████████████████████████████| 93455/93455 [00:57<00:00, 1638.94it/s]\n"
     ]
    }
   ],
   "source": [
    "updown_abs_1 = multi_sentimental_score(df)"
   ]
  },
  {
   "cell_type": "code",
   "execution_count": 17,
   "id": "b68d4614",
   "metadata": {},
   "outputs": [],
   "source": [
    "#updown_abs_1.to_csv('./model5_updown_abs_1.csv', encoding = 'utf-8-sig')"
   ]
  },
  {
   "cell_type": "code",
   "execution_count": 15,
   "id": "9d7a39db",
   "metadata": {},
   "outputs": [
    {
     "data": {
      "text/html": [
       "<div>\n",
       "<style scoped>\n",
       "    .dataframe tbody tr th:only-of-type {\n",
       "        vertical-align: middle;\n",
       "    }\n",
       "\n",
       "    .dataframe tbody tr th {\n",
       "        vertical-align: top;\n",
       "    }\n",
       "\n",
       "    .dataframe thead th {\n",
       "        text-align: right;\n",
       "    }\n",
       "</style>\n",
       "<table border=\"1\" class=\"dataframe\">\n",
       "  <thead>\n",
       "    <tr style=\"text-align: right;\">\n",
       "      <th></th>\n",
       "      <th>Date</th>\n",
       "      <th>Title</th>\n",
       "      <th>주가의 날짜</th>\n",
       "      <th>등락률</th>\n",
       "      <th>Pos</th>\n",
       "      <th>Neg</th>\n",
       "      <th>Mid</th>\n",
       "      <th>감성지수</th>\n",
       "      <th>updown</th>\n",
       "    </tr>\n",
       "  </thead>\n",
       "  <tbody>\n",
       "    <tr>\n",
       "      <th>0</th>\n",
       "      <td>2021-01-04</td>\n",
       "      <td>비올  일본 최대 병원체인과 실펌엑스 총판계약 체결</td>\n",
       "      <td>2021-01-05</td>\n",
       "      <td>2.24</td>\n",
       "      <td>1</td>\n",
       "      <td>0</td>\n",
       "      <td>0</td>\n",
       "      <td>1</td>\n",
       "      <td>1</td>\n",
       "    </tr>\n",
       "    <tr>\n",
       "      <th>1</th>\n",
       "      <td>2021-01-04</td>\n",
       "      <td>환율 하락 전환  1086 2 감소0 1원</td>\n",
       "      <td>2021-01-05</td>\n",
       "      <td>2.24</td>\n",
       "      <td>0</td>\n",
       "      <td>1</td>\n",
       "      <td>0</td>\n",
       "      <td>-1</td>\n",
       "      <td>1</td>\n",
       "    </tr>\n",
       "    <tr>\n",
       "      <th>2</th>\n",
       "      <td>2021-01-04</td>\n",
       "      <td>코스피  1 03p 0 04   오른 2874 50 출발  원 달러 환율 1 2원 ...</td>\n",
       "      <td>2021-01-05</td>\n",
       "      <td>2.24</td>\n",
       "      <td>1</td>\n",
       "      <td>0</td>\n",
       "      <td>0</td>\n",
       "      <td>1</td>\n",
       "      <td>1</td>\n",
       "    </tr>\n",
       "    <tr>\n",
       "      <th>3</th>\n",
       "      <td>2021-01-04</td>\n",
       "      <td>韓증시 사상최고치 시작  개장식선 안정적 시장운영에 방점</td>\n",
       "      <td>2021-01-05</td>\n",
       "      <td>2.24</td>\n",
       "      <td>1</td>\n",
       "      <td>1</td>\n",
       "      <td>0</td>\n",
       "      <td>1</td>\n",
       "      <td>1</td>\n",
       "    </tr>\n",
       "    <tr>\n",
       "      <th>4</th>\n",
       "      <td>2021-01-04</td>\n",
       "      <td>SK바이오팜  아벨 지분 매각으로 5천500만 달러 자본이득</td>\n",
       "      <td>2021-01-05</td>\n",
       "      <td>2.24</td>\n",
       "      <td>1</td>\n",
       "      <td>1</td>\n",
       "      <td>0</td>\n",
       "      <td>1</td>\n",
       "      <td>1</td>\n",
       "    </tr>\n",
       "    <tr>\n",
       "      <th>...</th>\n",
       "      <td>...</td>\n",
       "      <td>...</td>\n",
       "      <td>...</td>\n",
       "      <td>...</td>\n",
       "      <td>...</td>\n",
       "      <td>...</td>\n",
       "      <td>...</td>\n",
       "      <td>...</td>\n",
       "      <td>...</td>\n",
       "    </tr>\n",
       "    <tr>\n",
       "      <th>376992</th>\n",
       "      <td>2022-06-29</td>\n",
       "      <td>새빗켐  증권신고서 제출 코스닥 상장 본격화</td>\n",
       "      <td>2022-06-30</td>\n",
       "      <td>-6.67</td>\n",
       "      <td>1</td>\n",
       "      <td>0</td>\n",
       "      <td>0</td>\n",
       "      <td>1</td>\n",
       "      <td>-1</td>\n",
       "    </tr>\n",
       "    <tr>\n",
       "      <th>376993</th>\n",
       "      <td>2022-06-29</td>\n",
       "      <td>SK바사  토종 백신 1호  식약처 승인 소식에 3 대 강세</td>\n",
       "      <td>2022-06-30</td>\n",
       "      <td>-6.67</td>\n",
       "      <td>1</td>\n",
       "      <td>0</td>\n",
       "      <td>0</td>\n",
       "      <td>1</td>\n",
       "      <td>-1</td>\n",
       "    </tr>\n",
       "    <tr>\n",
       "      <th>376994</th>\n",
       "      <td>2022-06-29</td>\n",
       "      <td>장중시황  코스피  1 4  내린 2389선 경기 침체 우려에 약세</td>\n",
       "      <td>2022-06-30</td>\n",
       "      <td>-6.67</td>\n",
       "      <td>0</td>\n",
       "      <td>1</td>\n",
       "      <td>0</td>\n",
       "      <td>-1</td>\n",
       "      <td>-1</td>\n",
       "    </tr>\n",
       "    <tr>\n",
       "      <th>376995</th>\n",
       "      <td>2022-06-29</td>\n",
       "      <td>코스피  외인 기관 매도세 확대 코스닥 낙폭 축소</td>\n",
       "      <td>2022-06-30</td>\n",
       "      <td>-6.67</td>\n",
       "      <td>1</td>\n",
       "      <td>1</td>\n",
       "      <td>0</td>\n",
       "      <td>1</td>\n",
       "      <td>-1</td>\n",
       "    </tr>\n",
       "    <tr>\n",
       "      <th>376996</th>\n",
       "      <td>2022-06-29</td>\n",
       "      <td>금리 급등에 보험사 건전성 악화    1분기 지급여력비율  뚝</td>\n",
       "      <td>2022-06-30</td>\n",
       "      <td>-6.67</td>\n",
       "      <td>1</td>\n",
       "      <td>1</td>\n",
       "      <td>0</td>\n",
       "      <td>1</td>\n",
       "      <td>-1</td>\n",
       "    </tr>\n",
       "  </tbody>\n",
       "</table>\n",
       "<p>376997 rows × 9 columns</p>\n",
       "</div>"
      ],
      "text/plain": [
       "             Date                                              Title  \\\n",
       "0      2021-01-04                       비올  일본 최대 병원체인과 실펌엑스 총판계약 체결   \n",
       "1      2021-01-04                           환율 하락 전환  1086 2 감소0 1원    \n",
       "2      2021-01-04  코스피  1 03p 0 04   오른 2874 50 출발  원 달러 환율 1 2원 ...   \n",
       "3      2021-01-04                    韓증시 사상최고치 시작  개장식선 안정적 시장운영에 방점   \n",
       "4      2021-01-04                  SK바이오팜  아벨 지분 매각으로 5천500만 달러 자본이득   \n",
       "...           ...                                                ...   \n",
       "376992 2022-06-29                           새빗켐  증권신고서 제출 코스닥 상장 본격화   \n",
       "376993 2022-06-29                  SK바사  토종 백신 1호  식약처 승인 소식에 3 대 강세   \n",
       "376994 2022-06-29              장중시황  코스피  1 4  내린 2389선 경기 침체 우려에 약세   \n",
       "376995 2022-06-29                        코스피  외인 기관 매도세 확대 코스닥 낙폭 축소   \n",
       "376996 2022-06-29                금리 급등에 보험사 건전성 악화    1분기 지급여력비율  뚝    \n",
       "\n",
       "           주가의 날짜   등락률  Pos  Neg  Mid  감성지수  updown  \n",
       "0      2021-01-05  2.24    1    0    0     1       1  \n",
       "1      2021-01-05  2.24    0    1    0    -1       1  \n",
       "2      2021-01-05  2.24    1    0    0     1       1  \n",
       "3      2021-01-05  2.24    1    1    0     1       1  \n",
       "4      2021-01-05  2.24    1    1    0     1       1  \n",
       "...           ...   ...  ...  ...  ...   ...     ...  \n",
       "376992 2022-06-30 -6.67    1    0    0     1      -1  \n",
       "376993 2022-06-30 -6.67    1    0    0     1      -1  \n",
       "376994 2022-06-30 -6.67    0    1    0    -1      -1  \n",
       "376995 2022-06-30 -6.67    1    1    0     1      -1  \n",
       "376996 2022-06-30 -6.67    1    1    0     1      -1  \n",
       "\n",
       "[376997 rows x 9 columns]"
      ]
     },
     "execution_count": 15,
     "metadata": {},
     "output_type": "execute_result"
    }
   ],
   "source": [
    "#updown_abs_1 = pd.read_csv('./model5_updown_abs_1.csv', encoding='utf-8-sig', index_col=0)\n",
    "updown_abs_1"
   ]
  },
  {
   "cell_type": "code",
   "execution_count": 16,
   "id": "0571c7b6",
   "metadata": {},
   "outputs": [
    {
     "data": {
      "text/plain": [
       " 0    147934\n",
       " 1    124255\n",
       "-1    104808\n",
       "Name: updown, dtype: int64"
      ]
     },
     "execution_count": 16,
     "metadata": {},
     "output_type": "execute_result"
    }
   ],
   "source": [
    "updown_abs_1['updown'].value_counts()"
   ]
  },
  {
   "cell_type": "code",
   "execution_count": 17,
   "id": "e474be9a",
   "metadata": {},
   "outputs": [
    {
     "data": {
      "text/plain": [
       " 1    213462\n",
       "-1     92936\n",
       " 0     70599\n",
       "Name: 감성지수, dtype: int64"
      ]
     },
     "execution_count": 17,
     "metadata": {},
     "output_type": "execute_result"
    }
   ],
   "source": [
    "updown_abs_1['감성지수'].value_counts()"
   ]
  },
  {
   "cell_type": "code",
   "execution_count": 18,
   "id": "c8f13d91",
   "metadata": {},
   "outputs": [
    {
     "name": "stdout",
     "output_type": "stream",
     "text": [
      "0.331121998318289\n"
     ]
    }
   ],
   "source": [
    "print(accuracy_score(updown_abs_1['updown'], updown_abs_1[ '감성지수']))\n",
    "\n",
    "#print(accuracy_score(updown_abs_1.loc[updown_abs_1.query('감성지수 == 1').index, 'updown'],\n",
    "#               updown_abs_1.loc[updown_abs_1.query('감성지수 == 1').index, '감성지수']))\n",
    "\n",
    "#print(accuracy_score(updown_abs_1.loc[updown_abs_1.query('감성지수 == -1').index, 'updown'],\n",
    "#               updown_abs_1.loc[updown_abs_1.query('감성지수 == -1').index, '감성지수']))"
   ]
  },
  {
   "cell_type": "code",
   "execution_count": null,
   "id": "bfe30467",
   "metadata": {},
   "outputs": [],
   "source": []
  },
  {
   "cell_type": "code",
   "execution_count": null,
   "id": "bdf23ddd",
   "metadata": {},
   "outputs": [],
   "source": []
  },
  {
   "cell_type": "code",
   "execution_count": 19,
   "id": "445d4b5e",
   "metadata": {},
   "outputs": [],
   "source": [
    "df_result = updown_abs_1.copy()\n",
    "#df_result = updown_abs_0[:5000]"
   ]
  },
  {
   "cell_type": "code",
   "execution_count": 20,
   "id": "76444eca",
   "metadata": {},
   "outputs": [
    {
     "data": {
      "text/html": [
       "<div>\n",
       "<style scoped>\n",
       "    .dataframe tbody tr th:only-of-type {\n",
       "        vertical-align: middle;\n",
       "    }\n",
       "\n",
       "    .dataframe tbody tr th {\n",
       "        vertical-align: top;\n",
       "    }\n",
       "\n",
       "    .dataframe thead th {\n",
       "        text-align: right;\n",
       "    }\n",
       "</style>\n",
       "<table border=\"1\" class=\"dataframe\">\n",
       "  <thead>\n",
       "    <tr style=\"text-align: right;\">\n",
       "      <th></th>\n",
       "      <th>Date</th>\n",
       "      <th>Title</th>\n",
       "      <th>주가의 날짜</th>\n",
       "      <th>등락률</th>\n",
       "      <th>Pos</th>\n",
       "      <th>Neg</th>\n",
       "      <th>Mid</th>\n",
       "      <th>감성지수</th>\n",
       "      <th>updown</th>\n",
       "    </tr>\n",
       "  </thead>\n",
       "  <tbody>\n",
       "    <tr>\n",
       "      <th>0</th>\n",
       "      <td>2021-01-04</td>\n",
       "      <td>비올  일본 최대 병원체인과 실펌엑스 총판계약 체결</td>\n",
       "      <td>2021-01-05</td>\n",
       "      <td>2.24</td>\n",
       "      <td>1</td>\n",
       "      <td>0</td>\n",
       "      <td>0</td>\n",
       "      <td>1</td>\n",
       "      <td>1</td>\n",
       "    </tr>\n",
       "    <tr>\n",
       "      <th>1</th>\n",
       "      <td>2021-01-04</td>\n",
       "      <td>환율 하락 전환  1086 2 감소0 1원</td>\n",
       "      <td>2021-01-05</td>\n",
       "      <td>2.24</td>\n",
       "      <td>0</td>\n",
       "      <td>1</td>\n",
       "      <td>0</td>\n",
       "      <td>-1</td>\n",
       "      <td>1</td>\n",
       "    </tr>\n",
       "    <tr>\n",
       "      <th>2</th>\n",
       "      <td>2021-01-04</td>\n",
       "      <td>코스피  1 03p 0 04   오른 2874 50 출발  원 달러 환율 1 2원 ...</td>\n",
       "      <td>2021-01-05</td>\n",
       "      <td>2.24</td>\n",
       "      <td>1</td>\n",
       "      <td>0</td>\n",
       "      <td>0</td>\n",
       "      <td>1</td>\n",
       "      <td>1</td>\n",
       "    </tr>\n",
       "    <tr>\n",
       "      <th>3</th>\n",
       "      <td>2021-01-04</td>\n",
       "      <td>韓증시 사상최고치 시작  개장식선 안정적 시장운영에 방점</td>\n",
       "      <td>2021-01-05</td>\n",
       "      <td>2.24</td>\n",
       "      <td>1</td>\n",
       "      <td>1</td>\n",
       "      <td>0</td>\n",
       "      <td>1</td>\n",
       "      <td>1</td>\n",
       "    </tr>\n",
       "    <tr>\n",
       "      <th>4</th>\n",
       "      <td>2021-01-04</td>\n",
       "      <td>SK바이오팜  아벨 지분 매각으로 5천500만 달러 자본이득</td>\n",
       "      <td>2021-01-05</td>\n",
       "      <td>2.24</td>\n",
       "      <td>1</td>\n",
       "      <td>1</td>\n",
       "      <td>0</td>\n",
       "      <td>1</td>\n",
       "      <td>1</td>\n",
       "    </tr>\n",
       "    <tr>\n",
       "      <th>...</th>\n",
       "      <td>...</td>\n",
       "      <td>...</td>\n",
       "      <td>...</td>\n",
       "      <td>...</td>\n",
       "      <td>...</td>\n",
       "      <td>...</td>\n",
       "      <td>...</td>\n",
       "      <td>...</td>\n",
       "      <td>...</td>\n",
       "    </tr>\n",
       "    <tr>\n",
       "      <th>376992</th>\n",
       "      <td>2022-06-29</td>\n",
       "      <td>새빗켐  증권신고서 제출 코스닥 상장 본격화</td>\n",
       "      <td>2022-06-30</td>\n",
       "      <td>-6.67</td>\n",
       "      <td>1</td>\n",
       "      <td>0</td>\n",
       "      <td>0</td>\n",
       "      <td>1</td>\n",
       "      <td>-1</td>\n",
       "    </tr>\n",
       "    <tr>\n",
       "      <th>376993</th>\n",
       "      <td>2022-06-29</td>\n",
       "      <td>SK바사  토종 백신 1호  식약처 승인 소식에 3 대 강세</td>\n",
       "      <td>2022-06-30</td>\n",
       "      <td>-6.67</td>\n",
       "      <td>1</td>\n",
       "      <td>0</td>\n",
       "      <td>0</td>\n",
       "      <td>1</td>\n",
       "      <td>-1</td>\n",
       "    </tr>\n",
       "    <tr>\n",
       "      <th>376994</th>\n",
       "      <td>2022-06-29</td>\n",
       "      <td>장중시황  코스피  1 4  내린 2389선 경기 침체 우려에 약세</td>\n",
       "      <td>2022-06-30</td>\n",
       "      <td>-6.67</td>\n",
       "      <td>0</td>\n",
       "      <td>1</td>\n",
       "      <td>0</td>\n",
       "      <td>-1</td>\n",
       "      <td>-1</td>\n",
       "    </tr>\n",
       "    <tr>\n",
       "      <th>376995</th>\n",
       "      <td>2022-06-29</td>\n",
       "      <td>코스피  외인 기관 매도세 확대 코스닥 낙폭 축소</td>\n",
       "      <td>2022-06-30</td>\n",
       "      <td>-6.67</td>\n",
       "      <td>1</td>\n",
       "      <td>1</td>\n",
       "      <td>0</td>\n",
       "      <td>1</td>\n",
       "      <td>-1</td>\n",
       "    </tr>\n",
       "    <tr>\n",
       "      <th>376996</th>\n",
       "      <td>2022-06-29</td>\n",
       "      <td>금리 급등에 보험사 건전성 악화    1분기 지급여력비율  뚝</td>\n",
       "      <td>2022-06-30</td>\n",
       "      <td>-6.67</td>\n",
       "      <td>1</td>\n",
       "      <td>1</td>\n",
       "      <td>0</td>\n",
       "      <td>1</td>\n",
       "      <td>-1</td>\n",
       "    </tr>\n",
       "  </tbody>\n",
       "</table>\n",
       "<p>376997 rows × 9 columns</p>\n",
       "</div>"
      ],
      "text/plain": [
       "             Date                                              Title  \\\n",
       "0      2021-01-04                       비올  일본 최대 병원체인과 실펌엑스 총판계약 체결   \n",
       "1      2021-01-04                           환율 하락 전환  1086 2 감소0 1원    \n",
       "2      2021-01-04  코스피  1 03p 0 04   오른 2874 50 출발  원 달러 환율 1 2원 ...   \n",
       "3      2021-01-04                    韓증시 사상최고치 시작  개장식선 안정적 시장운영에 방점   \n",
       "4      2021-01-04                  SK바이오팜  아벨 지분 매각으로 5천500만 달러 자본이득   \n",
       "...           ...                                                ...   \n",
       "376992 2022-06-29                           새빗켐  증권신고서 제출 코스닥 상장 본격화   \n",
       "376993 2022-06-29                  SK바사  토종 백신 1호  식약처 승인 소식에 3 대 강세   \n",
       "376994 2022-06-29              장중시황  코스피  1 4  내린 2389선 경기 침체 우려에 약세   \n",
       "376995 2022-06-29                        코스피  외인 기관 매도세 확대 코스닥 낙폭 축소   \n",
       "376996 2022-06-29                금리 급등에 보험사 건전성 악화    1분기 지급여력비율  뚝    \n",
       "\n",
       "           주가의 날짜   등락률  Pos  Neg  Mid  감성지수  updown  \n",
       "0      2021-01-05  2.24    1    0    0     1       1  \n",
       "1      2021-01-05  2.24    0    1    0    -1       1  \n",
       "2      2021-01-05  2.24    1    0    0     1       1  \n",
       "3      2021-01-05  2.24    1    1    0     1       1  \n",
       "4      2021-01-05  2.24    1    1    0     1       1  \n",
       "...           ...   ...  ...  ...  ...   ...     ...  \n",
       "376992 2022-06-30 -6.67    1    0    0     1      -1  \n",
       "376993 2022-06-30 -6.67    1    0    0     1      -1  \n",
       "376994 2022-06-30 -6.67    0    1    0    -1      -1  \n",
       "376995 2022-06-30 -6.67    1    1    0     1      -1  \n",
       "376996 2022-06-30 -6.67    1    1    0     1      -1  \n",
       "\n",
       "[376997 rows x 9 columns]"
      ]
     },
     "execution_count": 20,
     "metadata": {},
     "output_type": "execute_result"
    }
   ],
   "source": [
    "df_result"
   ]
  },
  {
   "cell_type": "code",
   "execution_count": null,
   "id": "ed20afbf",
   "metadata": {},
   "outputs": [],
   "source": []
  },
  {
   "cell_type": "markdown",
   "id": "6982deaa-3c8f-4129-ad72-49efd8a78371",
   "metadata": {},
   "source": [
    "# 트레인 테스트 분리"
   ]
  },
  {
   "cell_type": "code",
   "execution_count": 21,
   "id": "2b7fd49f-126c-4d48-9f3c-cbfcb60a0b5d",
   "metadata": {
    "ExecuteTime": {
     "end_time": "2022-07-10T04:06:26.836959Z",
     "start_time": "2022-07-10T04:06:26.814968Z"
    }
   },
   "outputs": [],
   "source": [
    "# X : title, y : price\n",
    "def data_split(X, y) :\n",
    "    \n",
    "    # 학습셋, 테스트셋 분리\n",
    "    X_list = X.tolist()\n",
    "    y_list = y.tolist()\n",
    "    \n",
    "    X_train, X_test, y_train, y_test = train_test_split(X_list, y_list, shuffle = True, test_size = 0.2)\n",
    "    \n",
    "    return X_train, X_test, y_train, y_test"
   ]
  },
  {
   "cell_type": "code",
   "execution_count": 22,
   "id": "9a1adb0d-8f65-4c7a-bc86-e5a22c309132",
   "metadata": {
    "ExecuteTime": {
     "end_time": "2022-07-10T04:06:27.295557Z",
     "start_time": "2022-07-10T04:06:27.069658Z"
    }
   },
   "outputs": [],
   "source": [
    "X_train, X_test, y_train, y_test = data_split(df_result['Title'], df_result['감성지수'])"
   ]
  },
  {
   "cell_type": "code",
   "execution_count": 23,
   "id": "b6d959a6-a65a-4688-87c0-209779e9d1f5",
   "metadata": {
    "ExecuteTime": {
     "end_time": "2022-07-10T04:06:50.009973Z",
     "start_time": "2022-07-10T04:06:49.988986Z"
    }
   },
   "outputs": [
    {
     "name": "stdout",
     "output_type": "stream",
     "text": [
      "301597\n",
      "75400\n"
     ]
    }
   ],
   "source": [
    "print(len(X_train))\n",
    "print(len(X_test))"
   ]
  },
  {
   "cell_type": "code",
   "execution_count": null,
   "id": "eaf3df29",
   "metadata": {},
   "outputs": [],
   "source": []
  },
  {
   "cell_type": "markdown",
   "id": "53d6c151",
   "metadata": {},
   "source": [
    "# 모델"
   ]
  },
  {
   "cell_type": "markdown",
   "id": "667efbcb",
   "metadata": {},
   "source": [
    "### tokenizer\n",
    "- TF-IDF는 단어의 빈도와 역 문서 빈도를 사용하여 DTM 내의 각 단어들마다 중요한 정도를 가중치로 주는 기법이다. \n",
    "- TF-IDF : CountVectorizer 와 TfidfTransformer를 합쳐 놓은 TfidfVectorizer를 사용"
   ]
  },
  {
   "cell_type": "markdown",
   "id": "0b43c3ce",
   "metadata": {},
   "source": [
    "### LogisticRegression\n",
    "\n",
    "> parameters 구성\n",
    "\n",
    "1. penalty\n",
    "    - `['l1','l2','elasticnet','none']`\n",
    "    - 기본값 : l2\n",
    "    - L2: Ridge, 일반적으로 사용 (default)\n",
    "    - L1: LASSO, 변수가 많아서 줄여야할 때 사용, 모델의 단순화 및 해석에 용이\n",
    "    - L2는 L1 보다 가중치 규제에 좀 더 효과적\n",
    "\n",
    "2. C \n",
    "    - 규제의 강도를 조절하는 파라미터\n",
    "    - 값이 클수록 규제가 약해지고, 값이 작을수록 규제가 강해진다.\n",
    "    - 로그스케일로 적절히 조절하여 최상의 성능을 내는 값을 찾도록한다.\n",
    "    "
   ]
  },
  {
   "cell_type": "markdown",
   "id": "f67f9c3f",
   "metadata": {},
   "source": [
    "   \n",
    "3. solver\n",
    "    - 최적화 문제를 풀기 위한 알고리즘을 선택하는 파라미터\n",
    "    - `['newton-cg', 'lbfgs', 'liblinear', 'sag', 'saga']`\n",
    "    - 기본값 : lbfgs\n",
    "    - 작은 데이터셋 -> liblinear\n",
    "    - 큰 데이터셋 -> sag 또는 saga\n",
    "    - 다중 클래스 문제의 경우 'newton-cg', 'sag', 'saga' 및 'lbfgs'만 다항 손실을 처리\n",
    "    - liblinear는 일대일 방식\n",
    "    - 최적화문제 -> 비용 또는 손실 함수를 최소화하는 최상의 가중치/모형함수를 찾는 것\n",
    "    - solver마다 지원하는 패널티가 달라 조정해야함.\n",
    "        \n",
    "    - newton-cg : [‘l2’, ‘none’]\n",
    "    - lbfgs : [‘l2’, ‘none’]\n",
    "    - liblinear : [‘l1’, ‘l2’]\n",
    "    - sag : [‘l2’, ‘none’]\n",
    "    - saga : [‘elasticnet’, ‘l1’, ‘l2’, ‘none’]\n",
    "    \n",
    "    \n",
    "__기본 Logistic Regression__\n",
    "    \n",
    "    solver : 최적화 문제에 사용할 알고리즘\n",
    "    \n",
    "    iblinear : L1, L2 모두 지원, 작은 데이터에 적합한 알고리즘\n",
    "    \n",
    "    sag : L2만 지원, 확률적경사하강법을 기반으로 대용량 데이터에 적합한 알고리즘\n",
    "    saga : L1, L2 모두 지원, 확률적경사하강법을 기반으로 대용량 데이터에 적합한 알고리즘\n",
    "    \n",
    "    \n",
    "    newton-cg : L2만 지원, 멀티클래스의 분류 모델에 쓰이는 알고리즘\n",
    "    lbfgs : L2만 지원, 멀티클래스의 분류 모델에 쓰이는 알고리즘\n",
    "    L1, L2에 대한 설명 : L1, L2"
   ]
  },
  {
   "cell_type": "markdown",
   "id": "a2f4e1c4",
   "metadata": {},
   "source": [
    "4. max_iter\n",
    "    - solver에 의해 진행되는 수렴을 위한 반복의 최대 횟수를 지정한다.\n",
    "    - 데이터에 따라, solver에 따라 수렴이 오래걸리는 경우가 있어 조절 필요\n",
    "    - 기본값 : 100\n",
    "   \n",
    "5. multi_class\n",
    "    - 다중클래스분류 문제의 상황에서 어떤 접근방식을 취할지 결정한다.\n",
    "    - ovr : one vs rest 방식으로 각 클래스 레이블에 대해 이진 분류 문제를 푼다.\n",
    "    - multinomial : 각 클래스에 대한 softmax 확률값, 크로스엔트로피 계산을 통해 one hot 타겟 벡터를 생성\n",
    "    - 기본값 : auto"
   ]
  },
  {
   "cell_type": "markdown",
   "id": "95f2b754",
   "metadata": {},
   "source": [
    "### GridSearchCV\n",
    "\n",
    "fit(X, y): 학습\n",
    "\n",
    "- predict(X): 분류-추론한 class, 회귀-추론한 값\n",
    "\n",
    "- predict_proba(X): 분류문제에서 class별 확률을 반환 \n",
    "\n",
    "- best_params_: 가장 좋은 성능을 낸 parameter 조합을 반환\n",
    "\n",
    "- best_estimator_: 가장 좋은 성능을 낸 모델 반환 \n",
    "\n",
    "- best_score_: 가장 좋은 점수 반환 \n"
   ]
  },
  {
   "cell_type": "code",
   "execution_count": null,
   "id": "b85ed351",
   "metadata": {},
   "outputs": [],
   "source": []
  },
  {
   "cell_type": "markdown",
   "id": "234160d2",
   "metadata": {},
   "source": [
    "# 토큰화 및 로지스틱 회귀 적용\n",
    "\n",
    "- 먼저 로지스틱 회귀의 그리드 서치를 위해 데이터에 토큰화 적용"
   ]
  },
  {
   "cell_type": "code",
   "execution_count": 24,
   "id": "ede61583-d132-4b44-adfd-43c456a11ff1",
   "metadata": {
    "ExecuteTime": {
     "end_time": "2022-07-10T04:20:52.537228Z",
     "start_time": "2022-07-10T04:20:52.524238Z"
    }
   },
   "outputs": [],
   "source": [
    "# 형태소 분석을 위한 함수\n",
    "def tokenizer(text):\n",
    "    okt = Okt()\n",
    "    return okt.morphs(text)"
   ]
  },
  {
   "cell_type": "code",
   "execution_count": 25,
   "id": "4eec545c",
   "metadata": {},
   "outputs": [],
   "source": [
    "tokenize_X_train = TfidfVectorizer(tokenizer = tokenizer).fit_transform(X_train)\n",
    "tokenize_X_test = TfidfVectorizer(tokenizer = tokenizer).fit_transform(X_test)"
   ]
  },
  {
   "cell_type": "code",
   "execution_count": null,
   "id": "1f429006",
   "metadata": {},
   "outputs": [],
   "source": []
  },
  {
   "cell_type": "markdown",
   "id": "4c4daec3",
   "metadata": {},
   "source": [
    "# 로지스틱 회귀 그리드 서치"
   ]
  },
  {
   "cell_type": "code",
   "execution_count": 26,
   "id": "d942de4c",
   "metadata": {},
   "outputs": [],
   "source": [
    "def parameter_serach(penalty, solvers) :\n",
    "    best_score = 0\n",
    "    Cs = [0.001, 0.01, 0.1, 1, 10, 100]\n",
    "        \n",
    "    kfold = KFold(3, shuffle = True)\n",
    "\n",
    "    for s in solvers :\n",
    "        scores_mean = []\n",
    "        for C in tqdm(Cs) :\n",
    "            lm = LogisticRegression(penalty = penalty, C = C, solver = s, multi_class = 'multinomial')\n",
    "            scores = cross_val_score(lm, tokenize_X_train, y_train, cv = kfold)\n",
    "\n",
    "            score = np.mean(scores)\n",
    "            scores_mean.append(score)\n",
    "\n",
    "            if score > best_score:\n",
    "                best_score = score\n",
    "                best_parameters = {'penalty' : penalty, 'C': C, 'solver': s, 'best_score' : best_score}\n",
    "\n",
    "    return best_parameters "
   ]
  },
  {
   "cell_type": "code",
   "execution_count": 27,
   "id": "560c96f8",
   "metadata": {},
   "outputs": [],
   "source": [
    "# saga : 쓸 수 있지만 C값이 1 이상부터 시간이 너무 오래 걸림(몇분 단위)\n",
    "#l1_best_parameters = parameter_serach('l1', ['saga'])"
   ]
  },
  {
   "cell_type": "code",
   "execution_count": 28,
   "id": "5fad5d69",
   "metadata": {},
   "outputs": [
    {
     "name": "stderr",
     "output_type": "stream",
     "text": [
      "100%|████████████████████████████████████████████████████████████████████████████████████| 6/6 [03:02<00:00, 30.34s/it]\n",
      "100%|████████████████████████████████████████████████████████████████████████████████████| 6/6 [08:06<00:00, 81.15s/it]\n",
      "100%|████████████████████████████████████████████████████████████████████████████████████| 6/6 [02:09<00:00, 21.66s/it]\n",
      "100%|████████████████████████████████████████████████████████████████████████████████████| 6/6 [02:19<00:00, 23.21s/it]\n"
     ]
    }
   ],
   "source": [
    "l2_best_parameters = parameter_serach('l2', ['lbfgs', 'newton-cg',  'sag', 'saga'])"
   ]
  },
  {
   "cell_type": "code",
   "execution_count": null,
   "id": "b63c8b1d",
   "metadata": {},
   "outputs": [],
   "source": []
  },
  {
   "cell_type": "markdown",
   "id": "c5d8ef4f",
   "metadata": {},
   "source": [
    "#### 로지스틱 회귀의 최적 파라미터 확인"
   ]
  },
  {
   "cell_type": "code",
   "execution_count": 29,
   "id": "4eb5a4b7",
   "metadata": {},
   "outputs": [],
   "source": [
    "# print(f\"penalty\\t\\t:\\t{l1_best_parameters['penalty']}\")\n",
    "# print(f\"C\\t\\t:\\t{l1_best_parameters['C']}\")\n",
    "# print(f\"solver\\t\\t:\\t{l1_best_parameters['solver']}\")\n",
    "# print(f\"best_score\\t:\\t{l1_best_parameters['best_score']}\")"
   ]
  },
  {
   "cell_type": "code",
   "execution_count": 30,
   "id": "ab53d23e",
   "metadata": {},
   "outputs": [
    {
     "name": "stdout",
     "output_type": "stream",
     "text": [
      "penalty\t\t:\tl2\n",
      "C\t\t:\t10\n",
      "solver\t\t:\tnewton-cg\n",
      "best_score\t:\t0.8456450165683815\n"
     ]
    }
   ],
   "source": [
    "print(f\"penalty\\t\\t:\\t{l2_best_parameters['penalty']}\")\n",
    "print(f\"C\\t\\t:\\t{l2_best_parameters['C']}\")\n",
    "print(f\"solver\\t\\t:\\t{l2_best_parameters['solver']}\")\n",
    "print(f\"best_score\\t:\\t{l2_best_parameters['best_score']}\")"
   ]
  },
  {
   "cell_type": "code",
   "execution_count": 31,
   "id": "05312228",
   "metadata": {},
   "outputs": [],
   "source": [
    "# if l1_best_parameters['best_score'] > l2_best_parameters['best_score'] :\n",
    "#     best_param = l1_best_parameters\n",
    "# else :\n",
    "#     best_param = l2_best_parameters"
   ]
  },
  {
   "cell_type": "code",
   "execution_count": 32,
   "id": "28e4a772",
   "metadata": {},
   "outputs": [
    {
     "data": {
      "text/plain": [
       "{'penalty': 'l2',\n",
       " 'C': 10,\n",
       " 'solver': 'newton-cg',\n",
       " 'best_score': 0.8456450165683815}"
      ]
     },
     "execution_count": 32,
     "metadata": {},
     "output_type": "execute_result"
    }
   ],
   "source": [
    "best_param = l2_best_parameters\n",
    "best_param "
   ]
  },
  {
   "cell_type": "code",
   "execution_count": null,
   "id": "06767d2a",
   "metadata": {},
   "outputs": [],
   "source": []
  },
  {
   "cell_type": "markdown",
   "id": "bd9b8f10",
   "metadata": {},
   "source": [
    "# 파이프 라인 \n",
    "\n",
    "- 위쪽부터 진행한 토큰화, 벡터화, 로지스틱 회귀를 파이프라인으로 구성\n",
    "- 로지스틱 회귀는 그리드 서치를 통한 최적의 파라미터를 갖고 진행"
   ]
  },
  {
   "cell_type": "code",
   "execution_count": 33,
   "id": "174976d4",
   "metadata": {},
   "outputs": [],
   "source": [
    "# lowercase : 소문자로 반환 여부 lowercase = False, \n",
    "# tokenizer : 토크나이저 지정\n",
    "tfidf = TfidfVectorizer(tokenizer = tokenizer)"
   ]
  },
  {
   "cell_type": "code",
   "execution_count": 34,
   "id": "5a94a876",
   "metadata": {},
   "outputs": [],
   "source": [
    "logistic = LogisticRegression(penalty = best_param['penalty'],\n",
    "                              C = best_param['C'],\n",
    "                              solver = best_param['solver'],\n",
    "                              multi_class = 'multinomial')"
   ]
  },
  {
   "cell_type": "code",
   "execution_count": 35,
   "id": "fe72792d-3d52-4980-aa9e-68d010703b4f",
   "metadata": {
    "ExecuteTime": {
     "end_time": "2022-07-10T04:59:44.287384Z",
     "start_time": "2022-07-10T04:59:44.272414Z"
    }
   },
   "outputs": [],
   "source": [
    "pipeline = Pipeline([('tfidf',tfidf), ('classfier', logistic)], verbose = True) "
   ]
  },
  {
   "cell_type": "code",
   "execution_count": 36,
   "id": "8a574ca1-4a9c-49ee-b9c2-753fec1d92c2",
   "metadata": {
    "ExecuteTime": {
     "end_time": "2022-07-10T05:16:47.484767Z",
     "start_time": "2022-07-10T04:59:45.922004Z"
    }
   },
   "outputs": [
    {
     "name": "stdout",
     "output_type": "stream",
     "text": [
      "[Pipeline] ............. (step 1 of 2) Processing tfidf, total= 5.8min\n",
      "[Pipeline] ......... (step 2 of 2) Processing classfier, total= 1.2min\n"
     ]
    },
    {
     "data": {
      "text/plain": [
       "Pipeline(steps=[('tfidf',\n",
       "                 TfidfVectorizer(tokenizer=<function tokenizer at 0x000002425AF93820>)),\n",
       "                ('classfier',\n",
       "                 LogisticRegression(C=10, multi_class='multinomial',\n",
       "                                    solver='newton-cg'))],\n",
       "         verbose=True)"
      ]
     },
     "execution_count": 36,
     "metadata": {},
     "output_type": "execute_result"
    }
   ],
   "source": [
    "pipeline.fit(X_train, y_train)"
   ]
  },
  {
   "cell_type": "code",
   "execution_count": null,
   "id": "39ffd7c2",
   "metadata": {},
   "outputs": [],
   "source": []
  },
  {
   "cell_type": "markdown",
   "id": "6ed037fc",
   "metadata": {},
   "source": [
    "#### 교차검증"
   ]
  },
  {
   "cell_type": "code",
   "execution_count": 37,
   "id": "41556afd",
   "metadata": {},
   "outputs": [
    {
     "name": "stdout",
     "output_type": "stream",
     "text": [
      "[Pipeline] ............. (step 1 of 2) Processing tfidf, total= 7.2min\n",
      "[Pipeline] ......... (step 2 of 2) Processing classfier, total=  37.3s\n",
      "[Pipeline] ............. (step 1 of 2) Processing tfidf, total= 4.9min\n",
      "[Pipeline] ......... (step 2 of 2) Processing classfier, total=  30.8s\n",
      "[Pipeline] ............. (step 1 of 2) Processing tfidf, total= 4.3min\n",
      "[Pipeline] ......... (step 2 of 2) Processing classfier, total=  29.1s\n"
     ]
    }
   ],
   "source": [
    "score = cross_val_score(pipeline, X_train, y_train, cv = KFold(3, shuffle = True), scoring='f1_micro')"
   ]
  },
  {
   "cell_type": "code",
   "execution_count": 38,
   "id": "98fc0555",
   "metadata": {},
   "outputs": [
    {
     "name": "stdout",
     "output_type": "stream",
     "text": [
      "[0.84636885 0.84548204 0.84530299]\n",
      "모델의 정확도\t:\t0.845717959227397\n"
     ]
    }
   ],
   "source": [
    "print(score)\n",
    "print(f\"모델의 정확도\\t:\\t{score.mean()}\")"
   ]
  },
  {
   "cell_type": "code",
   "execution_count": null,
   "id": "3d13d9cf",
   "metadata": {},
   "outputs": [],
   "source": []
  },
  {
   "cell_type": "code",
   "execution_count": 39,
   "id": "85b99936",
   "metadata": {
    "ExecuteTime": {
     "end_time": "2022-07-10T05:31:31.434310Z",
     "start_time": "2022-07-10T05:31:31.427313Z"
    }
   },
   "outputs": [],
   "source": [
    "y_df = df_result.loc[df_result.query(f'Title == {X_test}').index, 'updown'].values"
   ]
  },
  {
   "cell_type": "code",
   "execution_count": 42,
   "id": "695dc64f",
   "metadata": {},
   "outputs": [],
   "source": [
    "y_pred = pipeline.predict(X_test)"
   ]
  },
  {
   "cell_type": "code",
   "execution_count": 41,
   "id": "d8c83457",
   "metadata": {},
   "outputs": [],
   "source": [
    "y_proba = pipeline.predict_proba(X_test)"
   ]
  },
  {
   "cell_type": "code",
   "execution_count": null,
   "id": "ebe18ade",
   "metadata": {},
   "outputs": [],
   "source": []
  },
  {
   "cell_type": "markdown",
   "id": "84eff276-19c4-4ab0-8a2d-ccd7759ec04a",
   "metadata": {},
   "source": [
    "#  평가"
   ]
  },
  {
   "cell_type": "code",
   "execution_count": 46,
   "id": "164b08d6-ced9-4bd5-b822-fed147ebf30b",
   "metadata": {
    "ExecuteTime": {
     "end_time": "2022-07-10T05:31:31.904961Z",
     "start_time": "2022-07-10T05:31:31.790950Z"
    }
   },
   "outputs": [
    {
     "name": "stdout",
     "output_type": "stream",
     "text": [
      "accuracy \t:\t 0.3270954907161804\n",
      "f1_score\t:\t 0.3270954907161804\n",
      "f1_score\t:\t 0.3053784314120483\n",
      "f1_score\t:\t 0.30206882765602544\n",
      "R2 \t\t:\t -1.3339960883826585\n",
      "mse \t\t:\t 1.4090981432360743\n",
      "rmse \t\t:\t 1.1870543977577752\n",
      "log_loss\t:\t 2.9290084342937814\n"
     ]
    }
   ],
   "source": [
    "print(f'accuracy \\t:\\t {accuracy_score(y_df, y_pred)}')\n",
    "\n",
    "#'micro', 'macro', 'weighted'\n",
    "print(f'f1_score\\t:\\t {f1_score(y_df, y_pred, average = \"micro\")}')\n",
    "print(f'f1_score\\t:\\t {f1_score(y_df, y_pred, average = \"macro\")}')\n",
    "print(f'f1_score\\t:\\t {f1_score(y_df, y_pred, average = \"weighted\")}')\n",
    "\n",
    "print(f'R2 \\t\\t:\\t {r2_score(y_df, y_pred)}')\n",
    "\n",
    "print(f'mse \\t\\t:\\t {mean_squared_error(y_df, y_pred)}')\n",
    "\n",
    "print(f'rmse \\t\\t:\\t {mean_squared_error(y_df, y_pred, squared=False)}')\n",
    "\n",
    "print(f'log_loss\\t:\\t {log_loss(y_df, y_proba)}')"
   ]
  },
  {
   "cell_type": "code",
   "execution_count": 47,
   "id": "f5514a9a",
   "metadata": {
    "ExecuteTime": {
     "end_time": "2022-07-10T05:32:24.975793Z",
     "start_time": "2022-07-10T05:32:24.532004Z"
    }
   },
   "outputs": [
    {
     "name": "stdout",
     "output_type": "stream",
     "text": [
      "[[ 5407  7553  6295]\n",
      " [ 3274  4661  3949]\n",
      " [12208 17458 14595]]\n",
      "              precision    recall  f1-score   support\n",
      "\n",
      "          -1       0.26      0.28      0.27     19255\n",
      "           0       0.16      0.39      0.22     11884\n",
      "           1       0.59      0.33      0.42     44261\n",
      "\n",
      "    accuracy                           0.33     75400\n",
      "   macro avg       0.33      0.33      0.31     75400\n",
      "weighted avg       0.44      0.33      0.35     75400\n",
      "\n"
     ]
    }
   ],
   "source": [
    "print(confusion_matrix(y_pred, y_df))\n",
    "print(classification_report(y_pred, y_df))"
   ]
  },
  {
   "cell_type": "code",
   "execution_count": null,
   "id": "fc17de17",
   "metadata": {},
   "outputs": [],
   "source": []
  },
  {
   "cell_type": "code",
   "execution_count": null,
   "id": "433cac4a-fc60-4baa-bd5b-154616747c5c",
   "metadata": {},
   "outputs": [],
   "source": []
  },
  {
   "cell_type": "markdown",
   "id": "aec87cd2-9e30-4079-b3aa-ebe965a74daf",
   "metadata": {},
   "source": [
    "# 모델 저장 및 사용"
   ]
  },
  {
   "cell_type": "code",
   "execution_count": 48,
   "id": "c362c21a-16dd-491f-b182-454504e53444",
   "metadata": {},
   "outputs": [],
   "source": [
    "def save_model(model):\n",
    "    with open('./[Model5]pipe_multi.dat', 'wb') as fp:     # 쓰기\n",
    "        pickle.dump(model, fp)\n",
    "    print('저장완료')     # 학습된 모델 저장 완료"
   ]
  },
  {
   "cell_type": "code",
   "execution_count": 49,
   "id": "2dce2805-fb55-4319-a84b-ff32c08ff8bd",
   "metadata": {},
   "outputs": [
    {
     "name": "stdout",
     "output_type": "stream",
     "text": [
      "저장완료\n"
     ]
    }
   ],
   "source": [
    "save_model(pipeline)"
   ]
  },
  {
   "cell_type": "code",
   "execution_count": 50,
   "id": "3c945a10",
   "metadata": {},
   "outputs": [],
   "source": [
    "with open('./[Model5]pipe_multi.dat','rb') as fp:     # 읽기\n",
    "    pipeline = pickle.load(fp)"
   ]
  },
  {
   "cell_type": "code",
   "execution_count": null,
   "id": "5b5d87bc-df36-4d61-9e45-c59e4a65c635",
   "metadata": {},
   "outputs": [],
   "source": []
  },
  {
   "cell_type": "markdown",
   "id": "04d32199",
   "metadata": {},
   "source": [
    "# Inference"
   ]
  },
  {
   "cell_type": "code",
   "execution_count": 51,
   "id": "80d5b9c2-4dc8-4531-bfac-53f9f054596b",
   "metadata": {
    "ExecuteTime": {
     "end_time": "2022-07-10T05:44:00.358521Z",
     "start_time": "2022-07-10T05:44:00.346525Z"
    }
   },
   "outputs": [],
   "source": [
    "# 모델 사용 함수\n",
    "\n",
    "def model_prediction():  \n",
    "    # 객체를 복원, 저장된 모델 불러오기\n",
    "    with open('./[Model5]pipe_multi.dat','rb') as fp:     # 읽기\n",
    "        pipe = pickle.load(fp)\n",
    "    while True :\n",
    "        text = input('뉴스 타이틀을 입력해주세요(종료를 원하시면 \"q\"를 입력해주세요) : \\n')\n",
    "        example = [text]\n",
    "        # 예측 정확도\n",
    "        r1 = np.max(pipe.predict_proba(example) * 100)     # 확률값을 구해서 *100\n",
    "        # 예측 결과\n",
    "        r2 = pipe.predict(example)[0]     # 긍정(1), 중립(-1), 중립(0)\n",
    "\n",
    "        if text == 'q':\n",
    "            print(\"예측을 종료합니다.\")\n",
    "            break\n",
    "\n",
    "        if r2 == 1 :\n",
    "            print(f'{stock_name} 주가가 상승할 것으로 예상됩니다.')\n",
    "        elif r2 == -1 :\n",
    "            print(f'{stock_name} 주가가 하락할 것으로 예상됩니다.')\n",
    "        else : \n",
    "            print(f'\\n모르겠어요.....')\n",
    "        print('확률 : %.3f' % r1)\n",
    "        print('------------------------------------------------\\n')"
   ]
  },
  {
   "cell_type": "code",
   "execution_count": 52,
   "id": "e9b195af-5583-4410-a882-2bc50c0fceca",
   "metadata": {
    "ExecuteTime": {
     "end_time": "2022-07-10T05:44:14.101777Z",
     "start_time": "2022-07-10T05:44:01.511775Z"
    },
    "scrolled": false
   },
   "outputs": [
    {
     "name": "stdout",
     "output_type": "stream",
     "text": [
      "뉴스 타이틀을 입력해주세요(종료를 원하시면 \"q\"를 입력해주세요) : \n",
      "[줌인 이종목] 현대중공업, 실적 증가 기대에 껑충\n",
      "삼성SDI 주가가 상승할 것으로 예상됩니다.\n",
      "확률 : 97.992\n",
      "------------------------------------------------\n",
      "\n",
      "뉴스 타이틀을 입력해주세요(종료를 원하시면 \"q\"를 입력해주세요) : \n",
      "닷새만에 반등했지만…불안한 개미들, 7100억 차익실현\n",
      "삼성SDI 주가가 하락할 것으로 예상됩니다.\n",
      "확률 : 68.396\n",
      "------------------------------------------------\n",
      "\n",
      "뉴스 타이틀을 입력해주세요(종료를 원하시면 \"q\"를 입력해주세요) : \n",
      "2차전지株, 실적 부진해도 상승하는 까닭\n",
      "삼성SDI 주가가 하락할 것으로 예상됩니다.\n",
      "확률 : 72.143\n",
      "------------------------------------------------\n",
      "\n",
      "뉴스 타이틀을 입력해주세요(종료를 원하시면 \"q\"를 입력해주세요) : \n",
      "포토] 환율 13년여 만에 최고치, 오늘의 증시는?\n",
      "삼성SDI 주가가 상승할 것으로 예상됩니다.\n",
      "확률 : 91.467\n",
      "------------------------------------------------\n",
      "\n",
      "뉴스 타이틀을 입력해주세요(종료를 원하시면 \"q\"를 입력해주세요) : \n",
      "증시 다시 폭풍속으로..연고점 경신한 환율\n",
      "삼성SDI 주가가 하락할 것으로 예상됩니다.\n",
      "확률 : 48.787\n",
      "------------------------------------------------\n",
      "\n",
      "뉴스 타이틀을 입력해주세요(종료를 원하시면 \"q\"를 입력해주세요) : \n",
      "q\n",
      "예측을 종료합니다.\n"
     ]
    }
   ],
   "source": [
    "model_prediction()"
   ]
  },
  {
   "cell_type": "code",
   "execution_count": null,
   "id": "1c8b5337-f62e-4eb4-814c-dd238e2b92aa",
   "metadata": {},
   "outputs": [],
   "source": []
  },
  {
   "cell_type": "markdown",
   "id": "3d28e025",
   "metadata": {},
   "source": [
    "\n",
    "```\n",
    "[줌인 이종목] 현대중공업, 실적 증가 기대에 껑충\n",
    "닷새만에 반등했지만…불안한 개미들, 7100억 차익실현\n",
    "주식거래 뚝…\"증권사, 2분기 실적 쇼크\"\n",
    "'현대차 효과' 부품株에도 볕드나.. 미래형 자동차 양산 기대감 호재 [현대차, 29년만에 국내공장 신설]\n",
    "2차전지株, 실적 부진해도 상승하는 까닭\n",
    "블랙록 '극심한 변동성' 경고..\"지금은 저가매수도 하지 말라\"\n",
    "[유럽개장] 일제히 하락세.. DAX 1.07%↓ \n",
    "\n",
    "[포토] 환율 13년여 만에 최고치, 오늘의 증시는?\n",
    "\n",
    "증시 다시 폭풍속으로..연고점 경신한 환율\n",
    "\n",
    "\n",
    "\n",
    "```"
   ]
  },
  {
   "cell_type": "code",
   "execution_count": null,
   "id": "e7d18506",
   "metadata": {},
   "outputs": [],
   "source": []
  }
 ],
 "metadata": {
  "kernelspec": {
   "display_name": "Python 3 (ipykernel)",
   "language": "python",
   "name": "python3"
  },
  "language_info": {
   "codemirror_mode": {
    "name": "ipython",
    "version": 3
   },
   "file_extension": ".py",
   "mimetype": "text/x-python",
   "name": "python",
   "nbconvert_exporter": "python",
   "pygments_lexer": "ipython3",
   "version": "3.9.12"
  },
  "toc": {
   "base_numbering": 1,
   "nav_menu": {},
   "number_sections": true,
   "sideBar": true,
   "skip_h1_title": false,
   "title_cell": "Table of Contents",
   "title_sidebar": "Contents",
   "toc_cell": false,
   "toc_position": {},
   "toc_section_display": true,
   "toc_window_display": false
  }
 },
 "nbformat": 4,
 "nbformat_minor": 5
}
