{
 "cells": [
  {
   "cell_type": "code",
   "execution_count": null,
   "id": "3013eb48",
   "metadata": {
    "id": "3013eb48"
   },
   "outputs": [],
   "source": [
    "# 주피터\n",
    "import os\n",
    "\n",
    "os.chdir('G:/내 드라이브/projects/NLP-StockMarket/model_fin/')"
   ]
  },
  {
   "cell_type": "code",
   "execution_count": null,
   "id": "33971f76",
   "metadata": {
    "id": "33971f76"
   },
   "outputs": [],
   "source": [
    "# 코랩\n",
    "from google.colab import drive\n",
    "drive.mount(\"/content/drive\")\n",
    "\n",
    "import os\n",
    "path = '/content/drive/My Drive/projects/NLP-StockMarket/model_fin/' # 본인 구글 드라이브 계정마다 살짝씩 다를 수도 있음\n",
    "os.chdir(path)"
   ]
  },
  {
   "cell_type": "code",
   "execution_count": null,
   "id": "fa4cad41",
   "metadata": {
    "id": "fa4cad41"
   },
   "outputs": [],
   "source": [
    "!pip install konlpy   # 코랩에서만 실행"
   ]
  },
  {
   "cell_type": "markdown",
   "id": "8ced423c-df70-48d4-8c5e-6af898aaee97",
   "metadata": {
    "id": "8ced423c-df70-48d4-8c5e-6af898aaee97"
   },
   "source": [
    "# 라이브러리"
   ]
  },
  {
   "cell_type": "code",
   "execution_count": 1,
   "id": "ada11b93",
   "metadata": {
    "ExecuteTime": {
     "end_time": "2022-07-11T03:03:01.172547Z",
     "start_time": "2022-07-11T03:03:01.155030Z"
    },
    "id": "ada11b93"
   },
   "outputs": [],
   "source": [
    "import pickle\n",
    "import numpy as np\n",
    "import pandas as pd\n",
    "import matplotlib.pyplot as plt\n",
    "\n",
    "from tqdm import tqdm\n",
    "from datetime import timedelta\n",
    "from konlpy.tag import *\n",
    "\n",
    "from sklearn.metrics import accuracy_score, f1_score, mean_squared_error, r2_score, confusion_matrix, classification_report, log_loss\n",
    "from sklearn.pipeline import Pipeline \n",
    "from sklearn.linear_model import LogisticRegression\n",
    "from sklearn.model_selection import train_test_split, cross_val_score, KFold\n",
    "from sklearn.feature_extraction.text import TfidfVectorizer"
   ]
  },
  {
   "cell_type": "code",
   "execution_count": 2,
   "id": "96e8e068",
   "metadata": {
    "ExecuteTime": {
     "end_time": "2022-07-11T03:03:02.208914Z",
     "start_time": "2022-07-11T03:03:02.197527Z"
    },
    "id": "96e8e068"
   },
   "outputs": [],
   "source": [
    "import warnings\n",
    "warnings.filterwarnings('ignore')\n",
    "\n",
    "import matplotlib.font_manager as fm\n",
    "plt.rc('font', family='NanumGothic')\n",
    "\n",
    "import matplotlib as mpl\n",
    "mpl.rcParams['axes.unicode_minus'] = False"
   ]
  },
  {
   "cell_type": "markdown",
   "id": "29075937-ad9d-4d92-a48b-200413e34726",
   "metadata": {
    "id": "29075937-ad9d-4d92-a48b-200413e34726"
   },
   "source": [
    "# 종목명 선택 및 뉴스,토론방, 유튜브 데이터 통합"
   ]
  },
  {
   "cell_type": "code",
   "execution_count": 3,
   "id": "c631f315",
   "metadata": {
    "ExecuteTime": {
     "end_time": "2022-07-11T03:03:03.251502Z",
     "start_time": "2022-07-11T03:03:03.240023Z"
    },
    "id": "c631f315"
   },
   "outputs": [],
   "source": [
    "# LG화학, 삼성SDI, SK이노베이션, 고려아연, 포스코케미칼\n",
    "stock_name = '삼성SDI'"
   ]
  },
  {
   "cell_type": "code",
   "execution_count": 4,
   "id": "6ce7b6d9",
   "metadata": {
    "ExecuteTime": {
     "end_time": "2022-07-11T03:03:06.518619Z",
     "start_time": "2022-07-11T03:03:04.048677Z"
    },
    "id": "6ce7b6d9"
   },
   "outputs": [],
   "source": [
    "naver_news = pd.read_csv('./data/refined_naver_news.csv', index_col = 0)\n",
    "daum_news = pd.read_csv('./data/refined_daum_news.csv', index_col = 0)\n",
    "naver_talks = pd.read_csv(f'./data/refined_naver_talks_{stock_name}.csv', index_col = 0)\n",
    "daum_talks = pd.read_csv(f'./data/refined_daum_talks_{stock_name}.csv', index_col = 0)\n",
    "youtube = pd.read_csv(f'./data/refined_youtube_{stock_name}.csv', index_col = 0)"
   ]
  },
  {
   "cell_type": "code",
   "execution_count": 5,
   "id": "94f7497a",
   "metadata": {
    "ExecuteTime": {
     "end_time": "2022-07-11T03:03:07.948149Z",
     "start_time": "2022-07-11T03:03:07.481596Z"
    },
    "id": "94f7497a"
   },
   "outputs": [],
   "source": [
    "# 데이터 통합\n",
    "news_df = pd.concat([naver_news, daum_news, naver_talks, daum_talks ,youtube])\n",
    "\n",
    "# 'Date' 타입이 int 이므로 datetime으로 변환\n",
    "news_df['Date'] = pd.to_datetime(news_df['Date'].astype(str))\n",
    "\n",
    "# 합쳐진 데이터들의 인덱스 재설정\n",
    "news_df.sort_values('Date', ignore_index=True, inplace=True)"
   ]
  },
  {
   "cell_type": "code",
   "execution_count": 6,
   "id": "4dd504c3",
   "metadata": {
    "ExecuteTime": {
     "end_time": "2022-07-11T03:03:09.069582Z",
     "start_time": "2022-07-11T03:03:09.042238Z"
    },
    "id": "4dd504c3",
    "outputId": "53bd16f5-0b63-483a-8026-1cbc8f1f25af"
   },
   "outputs": [
    {
     "data": {
      "text/html": [
       "<div>\n",
       "<style scoped>\n",
       "    .dataframe tbody tr th:only-of-type {\n",
       "        vertical-align: middle;\n",
       "    }\n",
       "\n",
       "    .dataframe tbody tr th {\n",
       "        vertical-align: top;\n",
       "    }\n",
       "\n",
       "    .dataframe thead th {\n",
       "        text-align: right;\n",
       "    }\n",
       "</style>\n",
       "<table border=\"1\" class=\"dataframe\">\n",
       "  <thead>\n",
       "    <tr style=\"text-align: right;\">\n",
       "      <th></th>\n",
       "      <th>Date</th>\n",
       "      <th>Title</th>\n",
       "    </tr>\n",
       "  </thead>\n",
       "  <tbody>\n",
       "    <tr>\n",
       "      <th>639</th>\n",
       "      <td>2021-01-04</td>\n",
       "      <td>비올  일본 최대 병원체인과 실펌엑스 총판계약 체결</td>\n",
       "    </tr>\n",
       "    <tr>\n",
       "      <th>640</th>\n",
       "      <td>2021-01-04</td>\n",
       "      <td>환율 하락 전환  1086 2 감소0 1원</td>\n",
       "    </tr>\n",
       "  </tbody>\n",
       "</table>\n",
       "</div>"
      ],
      "text/plain": [
       "          Date                         Title\n",
       "639 2021-01-04  비올  일본 최대 병원체인과 실펌엑스 총판계약 체결\n",
       "640 2021-01-04      환율 하락 전환  1086 2 감소0 1원 "
      ]
     },
     "execution_count": 6,
     "metadata": {},
     "output_type": "execute_result"
    }
   ],
   "source": [
    "# 2021년 주식 데이터가 1월 4일부터 있어서 슬라이싱\n",
    "news_df = news_df[news_df[news_df['Date']== '2021-01-04'].index[0] : ]\n",
    "news_df.head(2)"
   ]
  },
  {
   "cell_type": "markdown",
   "id": "77019b3d-5b79-4115-a2ca-0f4b55b48b77",
   "metadata": {
    "id": "77019b3d-5b79-4115-a2ca-0f4b55b48b77"
   },
   "source": [
    "# 주가 데이터"
   ]
  },
  {
   "cell_type": "code",
   "execution_count": 7,
   "id": "963cb2bd",
   "metadata": {
    "ExecuteTime": {
     "end_time": "2022-07-11T03:03:53.688022Z",
     "start_time": "2022-07-11T03:03:53.663528Z"
    },
    "id": "963cb2bd",
    "outputId": "43b38bed-9299-4fad-cd33-b6dbff789777"
   },
   "outputs": [
    {
     "data": {
      "text/html": [
       "<div>\n",
       "<style scoped>\n",
       "    .dataframe tbody tr th:only-of-type {\n",
       "        vertical-align: middle;\n",
       "    }\n",
       "\n",
       "    .dataframe tbody tr th {\n",
       "        vertical-align: top;\n",
       "    }\n",
       "\n",
       "    .dataframe thead th {\n",
       "        text-align: right;\n",
       "    }\n",
       "</style>\n",
       "<table border=\"1\" class=\"dataframe\">\n",
       "  <thead>\n",
       "    <tr style=\"text-align: right;\">\n",
       "      <th></th>\n",
       "      <th>일자</th>\n",
       "      <th>등락률</th>\n",
       "    </tr>\n",
       "  </thead>\n",
       "  <tbody>\n",
       "    <tr>\n",
       "      <th>0</th>\n",
       "      <td>2021-01-04</td>\n",
       "      <td>6.85</td>\n",
       "    </tr>\n",
       "    <tr>\n",
       "      <th>1</th>\n",
       "      <td>2021-01-05</td>\n",
       "      <td>2.24</td>\n",
       "    </tr>\n",
       "  </tbody>\n",
       "</table>\n",
       "</div>"
      ],
      "text/plain": [
       "          일자   등락률\n",
       "0 2021-01-04  6.85\n",
       "1 2021-01-05  2.24"
      ]
     },
     "execution_count": 7,
     "metadata": {},
     "output_type": "execute_result"
    }
   ],
   "source": [
    "stock_df = pd.read_csv(f'./data/{stock_name}_주가_데이터.csv', usecols = ['일자','등락률'])\n",
    "stock_df['일자'] = pd.to_datetime(stock_df['일자'])\n",
    "stock_df.head(2)"
   ]
  },
  {
   "cell_type": "code",
   "execution_count": 8,
   "id": "9db5b903-ee8a-4dbd-9428-857b8758c86a",
   "metadata": {
    "ExecuteTime": {
     "end_time": "2022-07-11T03:03:54.790710Z",
     "start_time": "2022-07-11T03:03:54.776615Z"
    },
    "id": "9db5b903-ee8a-4dbd-9428-857b8758c86a",
    "outputId": "c4174304-4234-4b76-eb05-7581541125e2"
   },
   "outputs": [
    {
     "name": "stdout",
     "output_type": "stream",
     "text": [
      "2021-01-04 00:00:00\n",
      "2022-06-30 00:00:00\n"
     ]
    }
   ],
   "source": [
    "start = str(stock_df.iloc[0, 0])\n",
    "end = str(stock_df.iloc[-1, 0])\n",
    "print(start)\n",
    "print(end)"
   ]
  },
  {
   "cell_type": "code",
   "execution_count": null,
   "id": "f292a59a",
   "metadata": {
    "ExecuteTime": {
     "end_time": "2022-07-11T03:03:55.863518Z",
     "start_time": "2022-07-11T03:03:55.852541Z"
    }
   },
   "outputs": [],
   "source": []
  },
  {
   "cell_type": "markdown",
   "id": "df69aa70-2261-4f3d-b796-a35ba82279f9",
   "metadata": {
    "id": "df69aa70-2261-4f3d-b796-a35ba82279f9"
   },
   "source": [
    "# 데이터 프레임 합치기"
   ]
  },
  {
   "cell_type": "code",
   "execution_count": 9,
   "id": "8c3caf4a-d309-4847-8d88-f37bf5452559",
   "metadata": {
    "ExecuteTime": {
     "end_time": "2022-07-11T03:03:57.047358Z",
     "start_time": "2022-07-11T03:03:57.005829Z"
    },
    "id": "8c3caf4a-d309-4847-8d88-f37bf5452559"
   },
   "outputs": [],
   "source": [
    "## 뉴스일자 조정(예측대상(주가)의 일자와 맞추기 위해)\n",
    "news_df['일자'] = news_df['Date'] + timedelta(days=1)"
   ]
  },
  {
   "cell_type": "code",
   "execution_count": 10,
   "id": "053a09b7-b1ec-4cfc-9768-e16200a91bca",
   "metadata": {
    "ExecuteTime": {
     "end_time": "2022-07-11T03:03:58.726254Z",
     "start_time": "2022-07-11T03:03:58.248664Z"
    },
    "id": "053a09b7-b1ec-4cfc-9768-e16200a91bca",
    "outputId": "c3f24588-5aa7-4d19-f4bd-21317740b6f8"
   },
   "outputs": [
    {
     "name": "stdout",
     "output_type": "stream",
     "text": [
      "429241\n"
     ]
    },
    {
     "data": {
      "text/html": [
       "<div>\n",
       "<style scoped>\n",
       "    .dataframe tbody tr th:only-of-type {\n",
       "        vertical-align: middle;\n",
       "    }\n",
       "\n",
       "    .dataframe tbody tr th {\n",
       "        vertical-align: top;\n",
       "    }\n",
       "\n",
       "    .dataframe thead th {\n",
       "        text-align: right;\n",
       "    }\n",
       "</style>\n",
       "<table border=\"1\" class=\"dataframe\">\n",
       "  <thead>\n",
       "    <tr style=\"text-align: right;\">\n",
       "      <th></th>\n",
       "      <th>Date</th>\n",
       "      <th>Title</th>\n",
       "      <th>주가의 날짜</th>\n",
       "      <th>등락률</th>\n",
       "    </tr>\n",
       "  </thead>\n",
       "  <tbody>\n",
       "    <tr>\n",
       "      <th>0</th>\n",
       "      <td>2021-01-04</td>\n",
       "      <td>비올  일본 최대 병원체인과 실펌엑스 총판계약 체결</td>\n",
       "      <td>2021-01-05</td>\n",
       "      <td>2.24</td>\n",
       "    </tr>\n",
       "    <tr>\n",
       "      <th>1</th>\n",
       "      <td>2021-01-04</td>\n",
       "      <td>환율 하락 전환  1086 2 감소0 1원</td>\n",
       "      <td>2021-01-05</td>\n",
       "      <td>2.24</td>\n",
       "    </tr>\n",
       "    <tr>\n",
       "      <th>2</th>\n",
       "      <td>2021-01-04</td>\n",
       "      <td>코스피  1 03p 0 04   오른 2874 50 출발  원 달러 환율 1 2원 ...</td>\n",
       "      <td>2021-01-05</td>\n",
       "      <td>2.24</td>\n",
       "    </tr>\n",
       "    <tr>\n",
       "      <th>3</th>\n",
       "      <td>2021-01-04</td>\n",
       "      <td>韓증시 사상최고치 시작  개장식선 안정적 시장운영에 방점</td>\n",
       "      <td>2021-01-05</td>\n",
       "      <td>2.24</td>\n",
       "    </tr>\n",
       "    <tr>\n",
       "      <th>4</th>\n",
       "      <td>2021-01-04</td>\n",
       "      <td>SK바이오팜  아벨 지분 매각으로 5천500만 달러 자본이득</td>\n",
       "      <td>2021-01-05</td>\n",
       "      <td>2.24</td>\n",
       "    </tr>\n",
       "  </tbody>\n",
       "</table>\n",
       "</div>"
      ],
      "text/plain": [
       "        Date                                              Title     주가의 날짜  \\\n",
       "0 2021-01-04                       비올  일본 최대 병원체인과 실펌엑스 총판계약 체결 2021-01-05   \n",
       "1 2021-01-04                           환율 하락 전환  1086 2 감소0 1원  2021-01-05   \n",
       "2 2021-01-04  코스피  1 03p 0 04   오른 2874 50 출발  원 달러 환율 1 2원 ... 2021-01-05   \n",
       "3 2021-01-04                    韓증시 사상최고치 시작  개장식선 안정적 시장운영에 방점 2021-01-05   \n",
       "4 2021-01-04                  SK바이오팜  아벨 지분 매각으로 5천500만 달러 자본이득 2021-01-05   \n",
       "\n",
       "    등락률  \n",
       "0  2.24  \n",
       "1  2.24  \n",
       "2  2.24  \n",
       "3  2.24  \n",
       "4  2.24  "
      ]
     },
     "execution_count": 10,
     "metadata": {},
     "output_type": "execute_result"
    }
   ],
   "source": [
    "df = news_df.merge(stock_df)\n",
    "df.columns = [df.columns[0], df.columns[1], '주가의 날짜', '등락률']\n",
    "df.drop_duplicates('Title', inplace = True, ignore_index = True)  # 기사제목 중복 제거\n",
    "df['Title'] = df['Title'].astype(str)\n",
    "print(len(df))\n",
    "df.head()"
   ]
  },
  {
   "cell_type": "markdown",
   "id": "7af88f06-fa6e-43f8-ad86-2ba3ee7b1334",
   "metadata": {
    "id": "7af88f06-fa6e-43f8-ad86-2ba3ee7b1334"
   },
   "source": [
    "# New 감성사전 load\n",
    "- SP+word 합친 감성사전"
   ]
  },
  {
   "cell_type": "code",
   "execution_count": 11,
   "id": "a15eddb8-8cee-45c0-8d8b-55a19c15ce04",
   "metadata": {
    "ExecuteTime": {
     "end_time": "2022-07-11T03:04:01.006462Z",
     "start_time": "2022-07-11T03:04:00.985167Z"
    },
    "id": "a15eddb8-8cee-45c0-8d8b-55a19c15ce04",
    "outputId": "1f93af48-9ca3-440d-f0c2-fe3590441b3d"
   },
   "outputs": [
    {
     "data": {
      "text/html": [
       "<div>\n",
       "<style scoped>\n",
       "    .dataframe tbody tr th:only-of-type {\n",
       "        vertical-align: middle;\n",
       "    }\n",
       "\n",
       "    .dataframe tbody tr th {\n",
       "        vertical-align: top;\n",
       "    }\n",
       "\n",
       "    .dataframe thead th {\n",
       "        text-align: right;\n",
       "    }\n",
       "</style>\n",
       "<table border=\"1\" class=\"dataframe\">\n",
       "  <thead>\n",
       "    <tr style=\"text-align: right;\">\n",
       "      <th></th>\n",
       "      <th>Pos</th>\n",
       "      <th>Neg</th>\n",
       "    </tr>\n",
       "  </thead>\n",
       "  <tbody>\n",
       "    <tr>\n",
       "      <th>0</th>\n",
       "      <td>경신</td>\n",
       "      <td>매도</td>\n",
       "    </tr>\n",
       "    <tr>\n",
       "      <th>1</th>\n",
       "      <td>상승세</td>\n",
       "      <td>조정</td>\n",
       "    </tr>\n",
       "    <tr>\n",
       "      <th>2</th>\n",
       "      <td>오른</td>\n",
       "      <td>감소</td>\n",
       "    </tr>\n",
       "    <tr>\n",
       "      <th>3</th>\n",
       "      <td>강화</td>\n",
       "      <td>전쟁</td>\n",
       "    </tr>\n",
       "    <tr>\n",
       "      <th>4</th>\n",
       "      <td>상승</td>\n",
       "      <td>개발</td>\n",
       "    </tr>\n",
       "  </tbody>\n",
       "</table>\n",
       "</div>"
      ],
      "text/plain": [
       "   Pos Neg\n",
       "0   경신  매도\n",
       "1  상승세  조정\n",
       "2   오른  감소\n",
       "3   강화  전쟁\n",
       "4   상승  개발"
      ]
     },
     "execution_count": 11,
     "metadata": {},
     "output_type": "execute_result"
    }
   ],
   "source": [
    "sentiment_csv = pd.read_csv('./sentiment dictionary new.csv', index_col = 0, usecols=[0,1,2])\n",
    "sentiment_csv.head()"
   ]
  },
  {
   "cell_type": "code",
   "execution_count": 12,
   "id": "0e3e47b4-44ff-43cc-9ae9-5dcc7d685d1c",
   "metadata": {
    "ExecuteTime": {
     "end_time": "2022-07-11T03:04:01.906718Z",
     "start_time": "2022-07-11T03:04:01.892969Z"
    },
    "id": "0e3e47b4-44ff-43cc-9ae9-5dcc7d685d1c"
   },
   "outputs": [],
   "source": [
    "pos_li = sentiment_csv['Pos'].dropna().values\n",
    "neg_li = sentiment_csv['Neg'].dropna().values"
   ]
  },
  {
   "cell_type": "markdown",
   "id": "3b1efe5f-9994-464b-af75-34f3dbf1684a",
   "metadata": {
    "id": "3b1efe5f-9994-464b-af75-34f3dbf1684a"
   },
   "source": [
    "# 감성 지수 계산하는 binary_sentimental_score()"
   ]
  },
  {
   "cell_type": "code",
   "execution_count": 13,
   "id": "0ffbce08",
   "metadata": {
    "ExecuteTime": {
     "end_time": "2022-07-11T03:29:25.505259Z",
     "start_time": "2022-07-11T03:29:25.489451Z"
    }
   },
   "outputs": [],
   "source": [
    "def binary_sentimental_score(df):\n",
    "    # 입력받은 데이터프레임 복사 및 컬럼 추가\n",
    "    df_result = df.copy()\n",
    "    \n",
    "    df_result['Pos'] = 0\n",
    "    df_result['Neg'] = 0\n",
    "    \n",
    "    # 감성 지수는 긍정 : 1, 부정 : -1, 해당 데이터 제외 : 999\n",
    "    df_result['감성지수'] = 999 \n",
    "    \n",
    "    # 등락률에 의해 결정되는 updown    \n",
    "    df_result['updown'] = 0\n",
    "    df_result.loc[df_result.query('등락률 >= 0').index, 'updown'] = 1\n",
    "    df_result.loc[df_result.query('등락률 < 0').index, 'updown'] = -1\n",
    "    \n",
    "################################################################################################\n",
    "    # 0  : 없음, 1: 있음\n",
    "    # 감성 사전에 따른 텍스트 검출\n",
    "    print('긍정 단어 검색중')\n",
    "    for pos in tqdm(pos_li) :\n",
    "        str_expr = f\"Title.str.contains('{pos}')\"\n",
    "        df_result.loc[df_result.query(str_expr).index, 'Pos'] = 1\n",
    "    \n",
    "    print('부정 단어 검색중')\n",
    "    for neg in tqdm(neg_li) :\n",
    "        str_expr = f\"Title.str.contains('{neg}')\"\n",
    "        df_result.loc[df_result.query(str_expr).index, 'Neg'] = 1\n",
    "    \n",
    "################################################################################################\n",
    "    # 긍정 단어만이 검출되면 긍정\n",
    "    df_result.loc[df_result.query('Pos == 1 and Neg == 0').index, '감성지수'] = 1\n",
    "    \n",
    "    # 부정 단어만이 검출되면 부정\n",
    "    df_result.loc[df_result.query('Pos == 0 and Neg == 1').index, '감성지수'] = -1\n",
    "    \n",
    "    # 긍정, 부정 단어가 둘 다 있으면 전 날 또는 당일 주가의 등락률을 보고 결정\n",
    "    print('긍정 부정 둘 다 있는 경우 처리중')\n",
    "    for i in tqdm(df_result.loc[df_result.query('Pos == 1 and Neg == 1').index].index) : \n",
    "        # 등락률에 따라 감성지수를  정하는 check\n",
    "        check = 999\n",
    "        \n",
    "        # 해당 Title의 어제 주가가 있으면 선택\n",
    "        if sum(df_result.loc[i,'Date'] - timedelta(days = 1) == stock_df['일자']) == 1 :  \n",
    "            check = stock_df[stock_df['일자'] == df_result.loc[i,'Date'] - timedelta(days = 1)]['등락률'].values[0]\n",
    "        \n",
    "        # 어제 주가는 없지만 당일이 있으면 당일을 선택\n",
    "        elif sum(df_result.loc[i,'Date'] == stock_df['일자']) == 1 :  \n",
    "            check = stock_df[stock_df['일자'] == df_result.loc[i,'Date']]['등락률'].values[0]\n",
    "\n",
    "        # 어제와 오늘의 주가도 없다면 이전의 주가를 찾아 탐색\n",
    "        else :\n",
    "            j = 2 \n",
    "            while True :\n",
    "                if sum(df_result.loc[i,'Date'] - timedelta(days = j) == stock_df['일자']) == 1 :\n",
    "                    check = stock_df[stock_df['일자'] == df_result.loc[i,'Date'] - timedelta(days = j)]['등락률'].values[0]\n",
    "                    break\n",
    "                j += 1\n",
    "        \n",
    "        if check >= 0 :\n",
    "            df_result.loc[i,'감성지수'] = 1\n",
    "        else :\n",
    "            df_result.loc[i,'감성지수'] = -1\n",
    "    \n",
    "################################################################################################    \n",
    "    # 감성지수가 긍정 부정 둘 다 아니면 삭제\n",
    "    df_result = pd.concat([df_result.loc[df_result.query('감성지수 != 999').index]], ignore_index = True)\n",
    "    \n",
    "    return df_result"
   ]
  },
  {
   "cell_type": "code",
   "execution_count": 14,
   "id": "e108077d-79ab-4106-b9ea-7efb064c0bb8",
   "metadata": {
    "ExecuteTime": {
     "end_time": "2022-07-11T03:37:13.865744Z",
     "start_time": "2022-07-11T03:29:26.562174Z"
    },
    "id": "e108077d-79ab-4106-b9ea-7efb064c0bb8",
    "outputId": "318dfedf-dc18-4c3b-b642-c30b4926fcec"
   },
   "outputs": [
    {
     "name": "stdout",
     "output_type": "stream",
     "text": [
      "긍정 단어 검색중\n"
     ]
    },
    {
     "name": "stderr",
     "output_type": "stream",
     "text": [
      "100%|██████████████████████████████████████████████████████████████████████████████| 1000/1000 [03:00<00:00,  5.55it/s]\n"
     ]
    },
    {
     "name": "stdout",
     "output_type": "stream",
     "text": [
      "부정 단어 검색중\n"
     ]
    },
    {
     "name": "stderr",
     "output_type": "stream",
     "text": [
      "100%|██████████████████████████████████████████████████████████████████████████████| 1323/1323 [03:56<00:00,  5.60it/s]\n"
     ]
    },
    {
     "name": "stdout",
     "output_type": "stream",
     "text": [
      "긍정 부정 둘 다 있는 경우 처리중\n"
     ]
    },
    {
     "name": "stderr",
     "output_type": "stream",
     "text": [
      "100%|██████████████████████████████████████████████████████████████████████████| 88693/88693 [00:52<00:00, 1685.20it/s]\n"
     ]
    }
   ],
   "source": [
    "df_result = binary_sentimental_score(df)"
   ]
  },
  {
   "cell_type": "code",
   "execution_count": 15,
   "id": "1c48b7b5",
   "metadata": {
    "ExecuteTime": {
     "end_time": "2022-07-11T03:37:17.312000Z",
     "start_time": "2022-07-11T03:37:17.291671Z"
    }
   },
   "outputs": [
    {
     "data": {
      "text/html": [
       "<div>\n",
       "<style scoped>\n",
       "    .dataframe tbody tr th:only-of-type {\n",
       "        vertical-align: middle;\n",
       "    }\n",
       "\n",
       "    .dataframe tbody tr th {\n",
       "        vertical-align: top;\n",
       "    }\n",
       "\n",
       "    .dataframe thead th {\n",
       "        text-align: right;\n",
       "    }\n",
       "</style>\n",
       "<table border=\"1\" class=\"dataframe\">\n",
       "  <thead>\n",
       "    <tr style=\"text-align: right;\">\n",
       "      <th></th>\n",
       "      <th>Date</th>\n",
       "      <th>Title</th>\n",
       "      <th>주가의 날짜</th>\n",
       "      <th>등락률</th>\n",
       "      <th>Pos</th>\n",
       "      <th>Neg</th>\n",
       "      <th>감성지수</th>\n",
       "      <th>updown</th>\n",
       "    </tr>\n",
       "  </thead>\n",
       "  <tbody>\n",
       "    <tr>\n",
       "      <th>0</th>\n",
       "      <td>2021-01-04</td>\n",
       "      <td>비올  일본 최대 병원체인과 실펌엑스 총판계약 체결</td>\n",
       "      <td>2021-01-05</td>\n",
       "      <td>2.24</td>\n",
       "      <td>1</td>\n",
       "      <td>0</td>\n",
       "      <td>1</td>\n",
       "      <td>1</td>\n",
       "    </tr>\n",
       "    <tr>\n",
       "      <th>1</th>\n",
       "      <td>2021-01-04</td>\n",
       "      <td>환율 하락 전환  1086 2 감소0 1원</td>\n",
       "      <td>2021-01-05</td>\n",
       "      <td>2.24</td>\n",
       "      <td>0</td>\n",
       "      <td>1</td>\n",
       "      <td>-1</td>\n",
       "      <td>1</td>\n",
       "    </tr>\n",
       "    <tr>\n",
       "      <th>2</th>\n",
       "      <td>2021-01-04</td>\n",
       "      <td>코스피  1 03p 0 04   오른 2874 50 출발  원 달러 환율 1 2원 ...</td>\n",
       "      <td>2021-01-05</td>\n",
       "      <td>2.24</td>\n",
       "      <td>1</td>\n",
       "      <td>0</td>\n",
       "      <td>1</td>\n",
       "      <td>1</td>\n",
       "    </tr>\n",
       "    <tr>\n",
       "      <th>3</th>\n",
       "      <td>2021-01-04</td>\n",
       "      <td>韓증시 사상최고치 시작  개장식선 안정적 시장운영에 방점</td>\n",
       "      <td>2021-01-05</td>\n",
       "      <td>2.24</td>\n",
       "      <td>1</td>\n",
       "      <td>1</td>\n",
       "      <td>1</td>\n",
       "      <td>1</td>\n",
       "    </tr>\n",
       "    <tr>\n",
       "      <th>4</th>\n",
       "      <td>2021-01-04</td>\n",
       "      <td>SK바이오팜  아벨 지분 매각으로 5천500만 달러 자본이득</td>\n",
       "      <td>2021-01-05</td>\n",
       "      <td>2.24</td>\n",
       "      <td>1</td>\n",
       "      <td>1</td>\n",
       "      <td>1</td>\n",
       "      <td>1</td>\n",
       "    </tr>\n",
       "    <tr>\n",
       "      <th>...</th>\n",
       "      <td>...</td>\n",
       "      <td>...</td>\n",
       "      <td>...</td>\n",
       "      <td>...</td>\n",
       "      <td>...</td>\n",
       "      <td>...</td>\n",
       "      <td>...</td>\n",
       "      <td>...</td>\n",
       "    </tr>\n",
       "    <tr>\n",
       "      <th>353393</th>\n",
       "      <td>2022-06-29</td>\n",
       "      <td>새빗켐  증권신고서 제출 코스닥 상장 본격화</td>\n",
       "      <td>2022-06-30</td>\n",
       "      <td>-6.67</td>\n",
       "      <td>1</td>\n",
       "      <td>0</td>\n",
       "      <td>1</td>\n",
       "      <td>-1</td>\n",
       "    </tr>\n",
       "    <tr>\n",
       "      <th>353394</th>\n",
       "      <td>2022-06-29</td>\n",
       "      <td>SK바사  토종 백신 1호  식약처 승인 소식에 3 대 강세</td>\n",
       "      <td>2022-06-30</td>\n",
       "      <td>-6.67</td>\n",
       "      <td>1</td>\n",
       "      <td>0</td>\n",
       "      <td>1</td>\n",
       "      <td>-1</td>\n",
       "    </tr>\n",
       "    <tr>\n",
       "      <th>353395</th>\n",
       "      <td>2022-06-29</td>\n",
       "      <td>장중시황  코스피  1 4  내린 2389선 경기 침체 우려에 약세</td>\n",
       "      <td>2022-06-30</td>\n",
       "      <td>-6.67</td>\n",
       "      <td>0</td>\n",
       "      <td>1</td>\n",
       "      <td>-1</td>\n",
       "      <td>-1</td>\n",
       "    </tr>\n",
       "    <tr>\n",
       "      <th>353396</th>\n",
       "      <td>2022-06-29</td>\n",
       "      <td>코스피  외인 기관 매도세 확대 코스닥 낙폭 축소</td>\n",
       "      <td>2022-06-30</td>\n",
       "      <td>-6.67</td>\n",
       "      <td>1</td>\n",
       "      <td>1</td>\n",
       "      <td>1</td>\n",
       "      <td>-1</td>\n",
       "    </tr>\n",
       "    <tr>\n",
       "      <th>353397</th>\n",
       "      <td>2022-06-29</td>\n",
       "      <td>금리 급등에 보험사 건전성 악화    1분기 지급여력비율  뚝</td>\n",
       "      <td>2022-06-30</td>\n",
       "      <td>-6.67</td>\n",
       "      <td>1</td>\n",
       "      <td>1</td>\n",
       "      <td>1</td>\n",
       "      <td>-1</td>\n",
       "    </tr>\n",
       "  </tbody>\n",
       "</table>\n",
       "<p>353398 rows × 8 columns</p>\n",
       "</div>"
      ],
      "text/plain": [
       "             Date                                              Title  \\\n",
       "0      2021-01-04                       비올  일본 최대 병원체인과 실펌엑스 총판계약 체결   \n",
       "1      2021-01-04                           환율 하락 전환  1086 2 감소0 1원    \n",
       "2      2021-01-04  코스피  1 03p 0 04   오른 2874 50 출발  원 달러 환율 1 2원 ...   \n",
       "3      2021-01-04                    韓증시 사상최고치 시작  개장식선 안정적 시장운영에 방점   \n",
       "4      2021-01-04                  SK바이오팜  아벨 지분 매각으로 5천500만 달러 자본이득   \n",
       "...           ...                                                ...   \n",
       "353393 2022-06-29                           새빗켐  증권신고서 제출 코스닥 상장 본격화   \n",
       "353394 2022-06-29                  SK바사  토종 백신 1호  식약처 승인 소식에 3 대 강세   \n",
       "353395 2022-06-29              장중시황  코스피  1 4  내린 2389선 경기 침체 우려에 약세   \n",
       "353396 2022-06-29                        코스피  외인 기관 매도세 확대 코스닥 낙폭 축소   \n",
       "353397 2022-06-29                금리 급등에 보험사 건전성 악화    1분기 지급여력비율  뚝    \n",
       "\n",
       "           주가의 날짜   등락률  Pos  Neg  감성지수  updown  \n",
       "0      2021-01-05  2.24    1    0     1       1  \n",
       "1      2021-01-05  2.24    0    1    -1       1  \n",
       "2      2021-01-05  2.24    1    0     1       1  \n",
       "3      2021-01-05  2.24    1    1     1       1  \n",
       "4      2021-01-05  2.24    1    1     1       1  \n",
       "...           ...   ...  ...  ...   ...     ...  \n",
       "353393 2022-06-30 -6.67    1    0     1      -1  \n",
       "353394 2022-06-30 -6.67    1    0     1      -1  \n",
       "353395 2022-06-30 -6.67    0    1    -1      -1  \n",
       "353396 2022-06-30 -6.67    1    1     1      -1  \n",
       "353397 2022-06-30 -6.67    1    1     1      -1  \n",
       "\n",
       "[353398 rows x 8 columns]"
      ]
     },
     "execution_count": 15,
     "metadata": {},
     "output_type": "execute_result"
    }
   ],
   "source": [
    "df_result"
   ]
  },
  {
   "cell_type": "code",
   "execution_count": 16,
   "id": "49a71a2a",
   "metadata": {
    "ExecuteTime": {
     "end_time": "2022-07-11T03:37:19.351922Z",
     "start_time": "2022-07-11T03:37:19.338453Z"
    }
   },
   "outputs": [
    {
     "data": {
      "text/plain": [
       " 1    199641\n",
       "-1    153757\n",
       "Name: updown, dtype: int64"
      ]
     },
     "execution_count": 16,
     "metadata": {},
     "output_type": "execute_result"
    }
   ],
   "source": [
    "df_result['updown'].value_counts()"
   ]
  },
  {
   "cell_type": "code",
   "execution_count": 17,
   "id": "04424d91",
   "metadata": {
    "ExecuteTime": {
     "end_time": "2022-07-11T03:37:20.314163Z",
     "start_time": "2022-07-11T03:37:20.298205Z"
    }
   },
   "outputs": [
    {
     "data": {
      "text/plain": [
       " 1    240051\n",
       "-1    113347\n",
       "Name: 감성지수, dtype: int64"
      ]
     },
     "execution_count": 17,
     "metadata": {},
     "output_type": "execute_result"
    }
   ],
   "source": [
    "df_result['감성지수'].value_counts()"
   ]
  },
  {
   "cell_type": "markdown",
   "id": "6982deaa-3c8f-4129-ad72-49efd8a78371",
   "metadata": {
    "id": "6982deaa-3c8f-4129-ad72-49efd8a78371"
   },
   "source": [
    "# 예측 모델 적용"
   ]
  },
  {
   "cell_type": "code",
   "execution_count": 18,
   "id": "ede61583-d132-4b44-adfd-43c456a11ff1",
   "metadata": {
    "ExecuteTime": {
     "end_time": "2022-07-11T03:37:48.144309Z",
     "start_time": "2022-07-11T03:37:48.131018Z"
    },
    "id": "ede61583-d132-4b44-adfd-43c456a11ff1"
   },
   "outputs": [],
   "source": [
    "# 형태소 분석을 위한 함수\n",
    "def tokenizer(text):\n",
    "    okt = Okt()\n",
    "    return okt.morphs(text)"
   ]
  },
  {
   "cell_type": "code",
   "execution_count": 19,
   "id": "2b7fd49f-126c-4d48-9f3c-cbfcb60a0b5d",
   "metadata": {
    "ExecuteTime": {
     "end_time": "2022-07-11T03:37:48.719401Z",
     "start_time": "2022-07-11T03:37:48.705533Z"
    },
    "id": "2b7fd49f-126c-4d48-9f3c-cbfcb60a0b5d"
   },
   "outputs": [],
   "source": [
    "# X : title, y : price\n",
    "def data_split(X, y):\n",
    "    # 수집한 데이터 읽어오기\n",
    "    \n",
    "    # 학습셋, 테스트셋 분리\n",
    "    X_list = X.tolist()\n",
    "    y_list = y.tolist()\n",
    "    \n",
    "    X_train, X_test, y_train, y_test = train_test_split(X_list, y_list, shuffle = True, test_size = 0.2)\n",
    "    \n",
    "    return X_train, X_test, y_train, y_test"
   ]
  },
  {
   "cell_type": "code",
   "execution_count": 20,
   "id": "9a1adb0d-8f65-4c7a-bc86-e5a22c309132",
   "metadata": {
    "ExecuteTime": {
     "end_time": "2022-07-11T03:37:49.480616Z",
     "start_time": "2022-07-11T03:37:49.385700Z"
    },
    "id": "9a1adb0d-8f65-4c7a-bc86-e5a22c309132"
   },
   "outputs": [],
   "source": [
    "X_train, X_test, y_train, y_test = data_split(df_result['Title'], df_result['감성지수'])"
   ]
  },
  {
   "cell_type": "code",
   "execution_count": 21,
   "id": "51c19186-78a8-4de8-8249-c44727929dbc",
   "metadata": {
    "ExecuteTime": {
     "end_time": "2022-07-11T03:38:01.357104Z",
     "start_time": "2022-07-11T03:38:01.339509Z"
    },
    "id": "51c19186-78a8-4de8-8249-c44727929dbc"
   },
   "outputs": [],
   "source": [
    "tokenize_X_train = TfidfVectorizer(tokenizer = tokenizer).fit_transform(X_train)\n",
    "tokenize_X_test = TfidfVectorizer(tokenizer = tokenizer).fit_transform(X_test)"
   ]
  },
  {
   "cell_type": "code",
   "execution_count": null,
   "id": "f4d5785f",
   "metadata": {},
   "outputs": [],
   "source": []
  },
  {
   "cell_type": "markdown",
   "id": "31bbb66b",
   "metadata": {},
   "source": [
    "# 로지스틱 회귀 그리드 서치"
   ]
  },
  {
   "cell_type": "code",
   "execution_count": 22,
   "id": "7d297fae-774e-4c9b-8f34-5fc6740023f2",
   "metadata": {
    "ExecuteTime": {
     "end_time": "2022-07-11T03:38:02.986495Z",
     "start_time": "2022-07-11T03:38:02.977352Z"
    },
    "id": "7d297fae-774e-4c9b-8f34-5fc6740023f2"
   },
   "outputs": [],
   "source": [
    "def parameter_serach(penalty, solvers) :\n",
    "    best_score = 0\n",
    "    Cs = [0.001, 0.01, 0.1, 1, 10, 100]\n",
    "        \n",
    "    kfold = KFold(3, shuffle = True)\n",
    "\n",
    "    for s in solvers :\n",
    "        scores_mean = []\n",
    "        for C in tqdm(Cs) :\n",
    "            lm = LogisticRegression(penalty = penalty, C = C, solver = s, multi_class = 'ovr')\n",
    "            scores = cross_val_score(lm, tokenize_X_train, y_train, cv = kfold)\n",
    "\n",
    "            score = np.mean(scores)\n",
    "            scores_mean.append(score)\n",
    "\n",
    "            if score > best_score:\n",
    "                best_score = score\n",
    "                best_parameters = {'penalty' : penalty, 'C': C, 'solver': s, 'best_score' : best_score}\n",
    "\n",
    "    return best_parameters "
   ]
  },
  {
   "cell_type": "code",
   "execution_count": 23,
   "id": "1356a99e",
   "metadata": {},
   "outputs": [
    {
     "name": "stderr",
     "output_type": "stream",
     "text": [
      "100%|████████████████████████████████████████████████████████████████████████████████████| 6/6 [01:55<00:00, 19.20s/it]\n"
     ]
    }
   ],
   "source": [
    "# saga도 쓸 수 있지만 C값이 1 이상부터 시간이 너무 오래 걸림(분 단위)\n",
    "l1_best_parameters = parameter_serach('l1', ['liblinear'])"
   ]
  },
  {
   "cell_type": "code",
   "execution_count": 24,
   "id": "85c68a1c",
   "metadata": {},
   "outputs": [
    {
     "name": "stderr",
     "output_type": "stream",
     "text": [
      "100%|████████████████████████████████████████████████████████████████████████████████████| 6/6 [00:54<00:00,  9.11s/it]\n",
      "100%|████████████████████████████████████████████████████████████████████████████████████| 6/6 [01:46<00:00, 17.82s/it]\n",
      "100%|████████████████████████████████████████████████████████████████████████████████████| 6/6 [02:10<00:00, 21.76s/it]\n"
     ]
    }
   ],
   "source": [
    "l2_best_parameters = parameter_serach('l2', ['liblinear', 'sag', 'saga'])"
   ]
  },
  {
   "cell_type": "code",
   "execution_count": null,
   "id": "8bcd92e9",
   "metadata": {},
   "outputs": [],
   "source": []
  },
  {
   "cell_type": "markdown",
   "id": "0a66e86b",
   "metadata": {},
   "source": [
    "#### 로지스틱 회귀의 최적 파라미터 확인¶"
   ]
  },
  {
   "cell_type": "code",
   "execution_count": 25,
   "id": "5f7b7113",
   "metadata": {},
   "outputs": [
    {
     "name": "stdout",
     "output_type": "stream",
     "text": [
      "penalty\t\t:\tl1\n",
      "C\t\t:\t10\n",
      "solver\t\t:\tliblinear\n",
      "best_score\t:\t0.8763573637184431\n"
     ]
    }
   ],
   "source": [
    "print(f\"penalty\\t\\t:\\t{l1_best_parameters['penalty']}\")\n",
    "print(f\"C\\t\\t:\\t{l1_best_parameters['C']}\")\n",
    "print(f\"solver\\t\\t:\\t{l1_best_parameters['solver']}\")\n",
    "print(f\"best_score\\t:\\t{l1_best_parameters['best_score']}\")"
   ]
  },
  {
   "cell_type": "code",
   "execution_count": 26,
   "id": "a100b0ef",
   "metadata": {},
   "outputs": [
    {
     "name": "stdout",
     "output_type": "stream",
     "text": [
      "penalty\t\t:\tl2\n",
      "C\t\t:\t10\n",
      "solver\t\t:\tsaga\n",
      "best_score\t:\t0.8788474737013016\n"
     ]
    }
   ],
   "source": [
    "print(f\"penalty\\t\\t:\\t{l2_best_parameters['penalty']}\")\n",
    "print(f\"C\\t\\t:\\t{l2_best_parameters['C']}\")\n",
    "print(f\"solver\\t\\t:\\t{l2_best_parameters['solver']}\")\n",
    "print(f\"best_score\\t:\\t{l2_best_parameters['best_score']}\")"
   ]
  },
  {
   "cell_type": "code",
   "execution_count": 27,
   "id": "54d62bf3",
   "metadata": {},
   "outputs": [],
   "source": [
    "if l1_best_parameters['best_score'] > l2_best_parameters['best_score'] :\n",
    "    best_param = l1_best_parameters\n",
    "else :\n",
    "    best_param = l2_best_parameters"
   ]
  },
  {
   "cell_type": "code",
   "execution_count": 29,
   "id": "ffd8b6ac",
   "metadata": {},
   "outputs": [
    {
     "data": {
      "text/plain": [
       "{'penalty': 'l2', 'C': 10, 'solver': 'saga', 'best_score': 0.8788474737013016}"
      ]
     },
     "execution_count": 29,
     "metadata": {},
     "output_type": "execute_result"
    }
   ],
   "source": [
    "best_param"
   ]
  },
  {
   "cell_type": "code",
   "execution_count": null,
   "id": "730580f0",
   "metadata": {},
   "outputs": [],
   "source": []
  },
  {
   "cell_type": "code",
   "execution_count": null,
   "id": "c0143cae",
   "metadata": {},
   "outputs": [],
   "source": []
  },
  {
   "cell_type": "markdown",
   "id": "2a35622a-df83-4c9b-840c-9fa2ce4bbbbf",
   "metadata": {
    "id": "2a35622a-df83-4c9b-840c-9fa2ce4bbbbf"
   },
   "source": [
    "## 파이프라인"
   ]
  },
  {
   "cell_type": "code",
   "execution_count": 30,
   "id": "fe72792d-3d52-4980-aa9e-68d010703b4f",
   "metadata": {
    "ExecuteTime": {
     "end_time": "2022-07-11T03:38:05.443415Z",
     "start_time": "2022-07-11T03:38:05.425622Z"
    },
    "id": "fe72792d-3d52-4980-aa9e-68d010703b4f"
   },
   "outputs": [],
   "source": [
    "# lowercase : 소문자로 반환 여부 lowercase = False, \n",
    "# tokenizer : 토크나이저 지정\n",
    "tfidf = TfidfVectorizer(tokenizer = tokenizer)"
   ]
  },
  {
   "cell_type": "code",
   "execution_count": 31,
   "id": "8a574ca1-4a9c-49ee-b9c2-753fec1d92c2",
   "metadata": {
    "ExecuteTime": {
     "end_time": "2022-07-11T03:42:52.390276Z",
     "start_time": "2022-07-11T03:38:05.953724Z"
    },
    "id": "8a574ca1-4a9c-49ee-b9c2-753fec1d92c2",
    "outputId": "ca2a9790-d3f2-481d-8062-1251aef5e59d"
   },
   "outputs": [],
   "source": [
    "logistic = LogisticRegression(penalty = best_param['penalty'],\n",
    "                              C = best_param['C'],\n",
    "                              solver = best_param['solver'],\n",
    "                             multi_class = 'ovr')"
   ]
  },
  {
   "cell_type": "code",
   "execution_count": 32,
   "id": "ec65d6d5",
   "metadata": {},
   "outputs": [],
   "source": [
    "pipeline = Pipeline([('tfidf',tfidf), ('classfier', logistic)], verbose = True) "
   ]
  },
  {
   "cell_type": "code",
   "execution_count": 33,
   "id": "79ecb288",
   "metadata": {},
   "outputs": [
    {
     "name": "stdout",
     "output_type": "stream",
     "text": [
      "[Pipeline] ............. (step 1 of 2) Processing tfidf, total= 6.2min\n",
      "[Pipeline] ......... (step 2 of 2) Processing classfier, total=  11.5s\n"
     ]
    },
    {
     "data": {
      "text/plain": [
       "Pipeline(steps=[('tfidf',\n",
       "                 TfidfVectorizer(tokenizer=<function tokenizer at 0x00000268E02E3EE0>)),\n",
       "                ('classfier',\n",
       "                 LogisticRegression(C=10, multi_class='ovr', solver='saga'))],\n",
       "         verbose=True)"
      ]
     },
     "execution_count": 33,
     "metadata": {},
     "output_type": "execute_result"
    }
   ],
   "source": [
    "pipeline.fit(X_train, y_train)"
   ]
  },
  {
   "cell_type": "code",
   "execution_count": null,
   "id": "43654004",
   "metadata": {},
   "outputs": [],
   "source": []
  },
  {
   "cell_type": "markdown",
   "id": "46f15424",
   "metadata": {},
   "source": [
    "#### 교차검증"
   ]
  },
  {
   "cell_type": "code",
   "execution_count": 34,
   "id": "b619d0ae",
   "metadata": {},
   "outputs": [
    {
     "name": "stdout",
     "output_type": "stream",
     "text": [
      "[Pipeline] ............. (step 1 of 2) Processing tfidf, total= 3.4min\n",
      "[Pipeline] ......... (step 2 of 2) Processing classfier, total=   4.9s\n",
      "[Pipeline] ............. (step 1 of 2) Processing tfidf, total= 3.3min\n",
      "[Pipeline] ......... (step 2 of 2) Processing classfier, total=   5.2s\n",
      "[Pipeline] ............. (step 1 of 2) Processing tfidf, total= 3.3min\n",
      "[Pipeline] ......... (step 2 of 2) Processing classfier, total=   5.0s\n"
     ]
    }
   ],
   "source": [
    "score = cross_val_score(pipeline, X_train, y_train, cv = KFold(3, shuffle = True), scoring='f1_micro')"
   ]
  },
  {
   "cell_type": "code",
   "execution_count": 35,
   "id": "7bcc22ac",
   "metadata": {},
   "outputs": [
    {
     "name": "stdout",
     "output_type": "stream",
     "text": [
      "[0.87739813 0.8785853  0.87972071]\n",
      "모델의 정확도\t:\t0.8785680472057483\n"
     ]
    }
   ],
   "source": [
    "print(score)\n",
    "print(f\"모델의 정확도\\t:\\t{score.mean()}\")"
   ]
  },
  {
   "cell_type": "code",
   "execution_count": null,
   "id": "fa9865a0",
   "metadata": {},
   "outputs": [],
   "source": []
  },
  {
   "cell_type": "code",
   "execution_count": null,
   "id": "f90a8e9f",
   "metadata": {},
   "outputs": [],
   "source": []
  },
  {
   "cell_type": "code",
   "execution_count": 36,
   "id": "098fd566",
   "metadata": {},
   "outputs": [],
   "source": [
    "y_pred = pipeline.predict(X_test)"
   ]
  },
  {
   "cell_type": "code",
   "execution_count": 39,
   "id": "814ad420-dbc0-4e22-8fb6-12cfd9b1f7aa",
   "metadata": {
    "ExecuteTime": {
     "end_time": "2022-07-11T03:46:55.921127Z",
     "start_time": "2022-07-11T03:42:52.906202Z"
    },
    "id": "814ad420-dbc0-4e22-8fb6-12cfd9b1f7aa"
   },
   "outputs": [],
   "source": [
    "y_proba = pipeline.predict_proba(X_test)"
   ]
  },
  {
   "cell_type": "code",
   "execution_count": null,
   "id": "9b3dc140",
   "metadata": {},
   "outputs": [],
   "source": []
  },
  {
   "cell_type": "code",
   "execution_count": null,
   "id": "73054249",
   "metadata": {},
   "outputs": [],
   "source": []
  },
  {
   "cell_type": "markdown",
   "id": "84eff276-19c4-4ab0-8a2d-ccd7759ec04a",
   "metadata": {
    "id": "84eff276-19c4-4ab0-8a2d-ccd7759ec04a"
   },
   "source": [
    "## 모델 평가"
   ]
  },
  {
   "cell_type": "code",
   "execution_count": 42,
   "id": "d896c142",
   "metadata": {},
   "outputs": [
    {
     "name": "stdout",
     "output_type": "stream",
     "text": [
      "accuracy \t:\t 0.8843378607809848\n",
      "f1_score \t:\t 0.8843378607809848\n",
      "f1_score \t:\t 0.8657284982717905\n",
      "f1_score \t:\t 0.8836695277299761\n",
      "R2 \t\t:\t 0.4689410458965433\n",
      "mse \t\t:\t 0.4626485568760611\n",
      "rmse \t\t:\t 0.6801827378551011\n",
      "log_loss\t:\t 0.2813061368176861\n"
     ]
    }
   ],
   "source": [
    "print(f'accuracy \\t:\\t {accuracy_score(y_test, y_pred)}')\n",
    "\n",
    "#'micro', 'macro', 'weighted'\n",
    "print(f'f1_score \\t:\\t {f1_score(y_test, y_pred, average = \"micro\")}')\n",
    "print(f'f1_score \\t:\\t {f1_score(y_test, y_pred, average = \"macro\")}')\n",
    "print(f'f1_score \\t:\\t {f1_score(y_test, y_pred, average = \"weighted\")}')\n",
    "\n",
    "print(f'R2 \\t\\t:\\t {r2_score(y_test, y_pred)}')\n",
    "\n",
    "print(f'mse \\t\\t:\\t {mean_squared_error(y_test, y_pred)}')\n",
    "\n",
    "print(f'rmse \\t\\t:\\t {mean_squared_error(y_test, y_pred, squared=False)}')\n",
    "\n",
    "print(f'log_loss\\t:\\t {log_loss(y_test, y_proba)}')"
   ]
  },
  {
   "cell_type": "code",
   "execution_count": null,
   "id": "c66175cd",
   "metadata": {},
   "outputs": [],
   "source": []
  },
  {
   "cell_type": "code",
   "execution_count": 43,
   "id": "31d075c4",
   "metadata": {
    "ExecuteTime": {
     "end_time": "2022-07-11T04:48:38.627171Z",
     "start_time": "2022-07-11T04:48:38.521532Z"
    }
   },
   "outputs": [
    {
     "name": "stdout",
     "output_type": "stream",
     "text": [
      "[[18096  3615]\n",
      " [ 4560 44409]]\n",
      "              precision    recall  f1-score   support\n",
      "\n",
      "          -1       0.80      0.83      0.82     21711\n",
      "           1       0.92      0.91      0.92     48969\n",
      "\n",
      "    accuracy                           0.88     70680\n",
      "   macro avg       0.86      0.87      0.87     70680\n",
      "weighted avg       0.89      0.88      0.89     70680\n",
      "\n"
     ]
    }
   ],
   "source": [
    "print(confusion_matrix(y_pred, y_test))\n",
    "print(classification_report(y_pred, y_test))"
   ]
  },
  {
   "cell_type": "code",
   "execution_count": null,
   "id": "0b80b324",
   "metadata": {},
   "outputs": [],
   "source": []
  },
  {
   "cell_type": "code",
   "execution_count": null,
   "id": "6cf77ede",
   "metadata": {},
   "outputs": [],
   "source": []
  },
  {
   "cell_type": "code",
   "execution_count": null,
   "id": "56d99209",
   "metadata": {},
   "outputs": [],
   "source": []
  },
  {
   "cell_type": "markdown",
   "id": "aec87cd2-9e30-4079-b3aa-ebe965a74daf",
   "metadata": {
    "id": "aec87cd2-9e30-4079-b3aa-ebe965a74daf"
   },
   "source": [
    "## 모델 저장 및 사용"
   ]
  },
  {
   "cell_type": "code",
   "execution_count": 44,
   "id": "c362c21a-16dd-491f-b182-454504e53444",
   "metadata": {
    "ExecuteTime": {
     "end_time": "2022-07-11T04:49:28.052883Z",
     "start_time": "2022-07-11T04:49:28.045040Z"
    },
    "id": "c362c21a-16dd-491f-b182-454504e53444"
   },
   "outputs": [],
   "source": [
    "def save_model(model):\n",
    "    with open('[Model9]pipe_binary.dat', 'wb') as fp:     # 쓰기, 바탕화면에 저장됨\n",
    "        pickle.dump(model, fp)\n",
    "    print('저장완료')     # 학습된 모델 저장 완료"
   ]
  },
  {
   "cell_type": "code",
   "execution_count": 45,
   "id": "2dce2805-fb55-4319-a84b-ff32c08ff8bd",
   "metadata": {
    "ExecuteTime": {
     "end_time": "2022-07-11T04:49:28.627595Z",
     "start_time": "2022-07-11T04:49:28.590710Z"
    },
    "id": "2dce2805-fb55-4319-a84b-ff32c08ff8bd",
    "outputId": "365f9923-00ad-44b6-adf0-b6253f6cfd52"
   },
   "outputs": [
    {
     "name": "stdout",
     "output_type": "stream",
     "text": [
      "저장완료\n"
     ]
    }
   ],
   "source": [
    "save_model(pipeline)"
   ]
  },
  {
   "cell_type": "code",
   "execution_count": 46,
   "id": "09254b70",
   "metadata": {},
   "outputs": [],
   "source": [
    "with open('[Model9]pipe_binary.dat','rb') as fp:     # 읽기\n",
    "    pipe = pickle.load(fp)"
   ]
  },
  {
   "cell_type": "code",
   "execution_count": null,
   "id": "0fb91d96",
   "metadata": {},
   "outputs": [],
   "source": []
  },
  {
   "cell_type": "markdown",
   "id": "e02d8f6b",
   "metadata": {},
   "source": [
    "# Inference"
   ]
  },
  {
   "cell_type": "code",
   "execution_count": 47,
   "id": "80d5b9c2-4dc8-4531-bfac-53f9f054596b",
   "metadata": {
    "ExecuteTime": {
     "end_time": "2022-07-11T04:49:30.658231Z",
     "start_time": "2022-07-11T04:49:30.636847Z"
    },
    "id": "80d5b9c2-4dc8-4531-bfac-53f9f054596b"
   },
   "outputs": [],
   "source": [
    "# 모델 사용 함수\n",
    "def model_prediction():  \n",
    "    # 객체를 복원, 저장된 모델 불러오기\n",
    "    with open('[Model9]pipe_binary.dat','rb') as fp:     # 읽기\n",
    "        pipe = pickle.load(fp)\n",
    "    while True :\n",
    "        text = input('뉴스 타이틀을 입력해주세요(종료를 원하시면 \"q\"를 입력해주세요) : \\n')\n",
    "        example = [text]\n",
    "        # 예측 정확도\n",
    "        r1 = np.max(pipe.predict_proba(example) * 100)     # 확률값을 구해서 *100\n",
    "        # 예측 결과 \n",
    "        r2 = pipe.predict(example)[0]     # 긍정('1'), 부정('-1)\n",
    "\n",
    "        if text == 'q':\n",
    "            print(\"예측을 종료합니다.\")\n",
    "            break\n",
    "        if r2 == 1 :\n",
    "            print(f'\\n{stock_name} 주가가 상승할 것으로 예상됩니다.')\n",
    "        elif r2 == -1 :\n",
    "            print(f'\\n{stock_name} 주가가 하락할 것으로 예상됩니다.')\n",
    "        else : \n",
    "            # 이진 분류 모델이라 사실상 실행 되지 않을 라인\n",
    "            print(f'\\n모르겠어요.....')\n",
    "        print('확률 : %.3f' % r1)\n",
    "        print('------------------------------------------------\\n')"
   ]
  },
  {
   "cell_type": "code",
   "execution_count": 48,
   "id": "e9b195af-5583-4410-a882-2bc50c0fceca",
   "metadata": {
    "ExecuteTime": {
     "end_time": "2022-07-10T06:46:24.902402Z",
     "start_time": "2022-07-10T06:45:38.499854Z"
    },
    "id": "e9b195af-5583-4410-a882-2bc50c0fceca",
    "outputId": "0dd437ee-522f-4181-8dab-9c658ed8b52b",
    "scrolled": false
   },
   "outputs": [
    {
     "name": "stdout",
     "output_type": "stream",
     "text": [
      "뉴스 타이틀을 입력해주세요(종료를 원하시면 \"q\"를 입력해주세요) : \n",
      "[줌인 이종목] 현대중공업, 실적 증가 기대에 껑충\n",
      "\n",
      "삼성SDI 주가가 상승할 것으로 예상됩니다.\n",
      "확률 : 99.737\n",
      "------------------------------------------------\n",
      "\n",
      "뉴스 타이틀을 입력해주세요(종료를 원하시면 \"q\"를 입력해주세요) : \n",
      "닷새만에 반등했지만…불안한 개미들, 7100억 차익실현\n",
      "\n",
      "삼성SDI 주가가 하락할 것으로 예상됩니다.\n",
      "확률 : 76.720\n",
      "------------------------------------------------\n",
      "\n",
      "뉴스 타이틀을 입력해주세요(종료를 원하시면 \"q\"를 입력해주세요) : \n",
      "주식거래 뚝…\"증권사, 2분기 실적 쇼크\"\n",
      "\n",
      "삼성SDI 주가가 하락할 것으로 예상됩니다.\n",
      "확률 : 81.741\n",
      "------------------------------------------------\n",
      "\n",
      "뉴스 타이틀을 입력해주세요(종료를 원하시면 \"q\"를 입력해주세요) : \n",
      "삼성SDI 흑자 전환\n",
      "\n",
      "삼성SDI 주가가 상승할 것으로 예상됩니다.\n",
      "확률 : 99.534\n",
      "------------------------------------------------\n",
      "\n",
      "뉴스 타이틀을 입력해주세요(종료를 원하시면 \"q\"를 입력해주세요) : \n",
      "삼성SDI 적자 전환\n",
      "\n",
      "삼성SDI 주가가 하락할 것으로 예상됩니다.\n",
      "확률 : 92.785\n",
      "------------------------------------------------\n",
      "\n",
      "뉴스 타이틀을 입력해주세요(종료를 원하시면 \"q\"를 입력해주세요) : \n",
      "q\n",
      "예측을 종료합니다.\n"
     ]
    }
   ],
   "source": [
    "model_prediction()"
   ]
  },
  {
   "cell_type": "markdown",
   "id": "0575bd6e",
   "metadata": {},
   "source": [
    "- 넣어볼 타이틀 예시  \n",
    "[줌인 이종목] 현대중공업, 실적 증가 기대에 껑충  \n",
    "닷새만에 반등했지만…불안한 개미들, 7100억 차익실현  \n",
    "주식거래 뚝…\"증권사, 2분기 실적 쇼크\"  \n",
    "삼성SDI 주식 폭망  \n",
    "삼성SDI 적자 전환  \n",
    "삼성SDI 흑자 전환  "
   ]
  },
  {
   "cell_type": "code",
   "execution_count": null,
   "id": "a22c337c",
   "metadata": {},
   "outputs": [],
   "source": []
  }
 ],
 "metadata": {
  "colab": {
   "collapsed_sections": [
    "2a35622a-df83-4c9b-840c-9fa2ce4bbbbf"
   ],
   "name": "220707 [Model5] (Word based Dict regression) sentiment analysis.ipynb",
   "provenance": []
  },
  "kernelspec": {
   "display_name": "Python 3 (ipykernel)",
   "language": "python",
   "name": "python3"
  },
  "language_info": {
   "codemirror_mode": {
    "name": "ipython",
    "version": 3
   },
   "file_extension": ".py",
   "mimetype": "text/x-python",
   "name": "python",
   "nbconvert_exporter": "python",
   "pygments_lexer": "ipython3",
   "version": "3.9.12"
  },
  "toc": {
   "base_numbering": 1,
   "nav_menu": {},
   "number_sections": true,
   "sideBar": true,
   "skip_h1_title": false,
   "title_cell": "Table of Contents",
   "title_sidebar": "Contents",
   "toc_cell": false,
   "toc_position": {},
   "toc_section_display": true,
   "toc_window_display": false
  },
  "varInspector": {
   "cols": {
    "lenName": 16,
    "lenType": 16,
    "lenVar": 40
   },
   "kernels_config": {
    "python": {
     "delete_cmd_postfix": "",
     "delete_cmd_prefix": "del ",
     "library": "var_list.py",
     "varRefreshCmd": "print(var_dic_list())"
    },
    "r": {
     "delete_cmd_postfix": ") ",
     "delete_cmd_prefix": "rm(",
     "library": "var_list.r",
     "varRefreshCmd": "cat(var_dic_list()) "
    }
   },
   "types_to_exclude": [
    "module",
    "function",
    "builtin_function_or_method",
    "instance",
    "_Feature"
   ],
   "window_display": false
  }
 },
 "nbformat": 4,
 "nbformat_minor": 5
}
