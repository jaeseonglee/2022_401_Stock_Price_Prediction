{
 "cells": [
  {
   "cell_type": "code",
   "execution_count": 6,
   "id": "442d7de3",
   "metadata": {
    "ExecuteTime": {
     "end_time": "2022-08-04T06:12:53.926760Z",
     "start_time": "2022-08-04T06:12:50.828614Z"
    }
   },
   "outputs": [],
   "source": [
    "a = !pip list"
   ]
  },
  {
   "cell_type": "code",
   "execution_count": 8,
   "id": "a18727ec",
   "metadata": {
    "ExecuteTime": {
     "end_time": "2022-08-04T06:13:30.686857Z",
     "start_time": "2022-08-04T06:13:30.665844Z"
    }
   },
   "outputs": [],
   "source": [
    "with open('./version.txt', 'w') as f :\n",
    "    f.writelines(a)"
   ]
  },
  {
   "cell_type": "code",
   "execution_count": 3,
   "id": "587afefa",
   "metadata": {
    "ExecuteTime": {
     "end_time": "2022-08-04T06:16:32.069275Z",
     "start_time": "2022-08-04T06:16:31.942349Z"
    }
   },
   "outputs": [
    {
     "name": "stdout",
     "output_type": "stream",
     "text": [
      "Python 3.8.8\n"
     ]
    }
   ],
   "source": [
    "!python --version"
   ]
  },
  {
   "cell_type": "code",
   "execution_count": null,
   "id": "21765dc2",
   "metadata": {
    "ExecuteTime": {
     "end_time": "2022-08-04T08:41:20.292902Z",
     "start_time": "2022-08-04T08:41:18.249233Z"
    }
   },
   "outputs": [],
   "source": []
  },
  {
   "cell_type": "code",
   "execution_count": null,
   "id": "dfb7a758",
   "metadata": {},
   "outputs": [],
   "source": []
  },
  {
   "cell_type": "markdown",
   "id": "59187f00",
   "metadata": {},
   "source": [
    "# 웹 크롤링"
   ]
  },
  {
   "cell_type": "code",
   "execution_count": 1,
   "id": "c5e0b4c2",
   "metadata": {
    "ExecuteTime": {
     "end_time": "2022-08-04T12:04:42.757555Z",
     "start_time": "2022-08-04T12:04:40.619430Z"
    }
   },
   "outputs": [],
   "source": [
    "import time, re\n",
    "import pandas as pd\n",
    "from tqdm import tqdm\n",
    "from datetime import datetime, timedelta\n",
    "\n",
    "from selenium import webdriver\n",
    "from selenium.webdriver.common.by import By\n",
    "from selenium.webdriver.common.keys import Keys\n",
    "from selenium.webdriver.chrome.service import Service\n",
    "from selenium.webdriver.chrome.options import Options\n",
    "from selenium.webdriver.common.action_chains import ActionChains\n",
    "\n",
    "import warnings\n",
    "warnings.filterwarnings('ignore')"
   ]
  },
  {
   "cell_type": "code",
   "execution_count": 2,
   "id": "152f198f",
   "metadata": {
    "ExecuteTime": {
     "end_time": "2022-08-04T12:04:42.773551Z",
     "start_time": "2022-08-04T12:04:42.761560Z"
    }
   },
   "outputs": [],
   "source": [
    "def date_range(start, end) :\n",
    "    start = datetime.strptime(start, \"%Y%m%d\")\n",
    "    end = datetime.strptime(end, \"%Y%m%d\")\n",
    "    dates = [(start + timedelta(days = i)).strftime(\"%Y%m%d\") for i in range((end - start).days + 1)]\n",
    "    return dates"
   ]
  },
  {
   "cell_type": "code",
   "execution_count": 3,
   "id": "dfb43c23",
   "metadata": {
    "ExecuteTime": {
     "end_time": "2022-08-04T12:04:42.789542Z",
     "start_time": "2022-08-04T12:04:42.776551Z"
    }
   },
   "outputs": [],
   "source": [
    "def chrome_driver_options() :\n",
    "    options = Options()\n",
    "    \n",
    "    # 사용하는 크롬 버전의 유저 에이전트로 수정\n",
    "    \n",
    "    user_agent = \"Mozilla/5.0 (Windows NT 10.0; Win64; x64) AppleWebKit/537.36 (KHTML, like Gecko) Chrome/103.0.5060.114 Safari/537.36\"\n",
    "    options.add_argument('user-agent=' + user_agent)\n",
    "    \n",
    "    # 이미지 로딩을 하지 않음\n",
    "    options.add_argument('--blink-settings=imagesEnabled=false') \n",
    "    # 음소거 적용\n",
    "    options.add_argument('--mute-audio')\n",
    "    # 시크릿 모드\n",
    "    options.add_argument('incognito')\n",
    "    \n",
    "    return options"
   ]
  },
  {
   "cell_type": "code",
   "execution_count": 4,
   "id": "5c0448b9",
   "metadata": {
    "ExecuteTime": {
     "end_time": "2022-08-04T12:04:42.821527Z",
     "start_time": "2022-08-04T12:04:42.793541Z"
    }
   },
   "outputs": [],
   "source": [
    "# 회사명으로 주식 종목 코드를 획득할 수 있도록 하는 함수\n",
    "def get_code(name, daum_talk = 0) :\n",
    "    \n",
    "    code_df = pd.read_html('http://kind.krx.co.kr/corpgeneral/corpList.do?method=download', header = 0)[0]\n",
    "    code_df = code_df[['회사명', '종목코드']]\n",
    "    \n",
    "    # data frame title 변경 '회사명' = name, 종목코드 = 'code'\n",
    "    code_df = code_df.rename(columns = {'회사명': 'name', '종목코드': 'code'})\n",
    "\n",
    "    # 종목코드는 6자리로 구분되기때문에 0을 채워 6자리로 변경\n",
    "    code_df.code = code_df.code.map('{:06d}'.format)\n",
    "    target_code = code_df.query(f\"name=='{name}'\")\n",
    "    code = target_code['code'].to_string(index = False)\n",
    "    \n",
    "    # 위와 같이 code명을 가져오면 앞에 공백이 붙어있는 상황이 발생하여 앞뒤로 sript() 하여 공백 제거\n",
    "    fin_code = code.strip()\n",
    "    \n",
    "    # 다음 주식 검색을 위한 코드\n",
    "    if daum_talk == 1 :\n",
    "        fin_code = 'A' + code   \n",
    "    \n",
    "    return fin_code"
   ]
  },
  {
   "cell_type": "code",
   "execution_count": 5,
   "id": "8adaec7a",
   "metadata": {
    "ExecuteTime": {
     "end_time": "2022-08-04T12:04:42.837516Z",
     "start_time": "2022-08-04T12:04:42.824523Z"
    }
   },
   "outputs": [],
   "source": [
    "driver_path = \"./chromedriver.exe\"\n",
    "s = Service(driver_path)\n",
    "cols = ['Date', 'Title']\n",
    "codes = ['LG화학', '삼성SDI', 'SK이노베이션', '고려아연', '포스코케미칼']"
   ]
  },
  {
   "cell_type": "code",
   "execution_count": 15,
   "id": "3fdc02a0",
   "metadata": {
    "ExecuteTime": {
     "end_time": "2022-08-02T13:01:45.034008Z",
     "start_time": "2022-08-02T13:01:45.023014Z"
    }
   },
   "outputs": [],
   "source": [
    "DATE_LIST = date_range(\"20220802\", \"20220802\")"
   ]
  },
  {
   "cell_type": "code",
   "execution_count": null,
   "id": "35133c0d",
   "metadata": {},
   "outputs": [],
   "source": []
  },
  {
   "cell_type": "markdown",
   "id": "b1817c23",
   "metadata": {},
   "source": [
    "## 1. 다음 주식 NEWS"
   ]
  },
  {
   "cell_type": "code",
   "execution_count": 16,
   "id": "bac2a1da",
   "metadata": {
    "ExecuteTime": {
     "end_time": "2022-08-02T13:01:45.944204Z",
     "start_time": "2022-08-02T13:01:45.918219Z"
    }
   },
   "outputs": [],
   "source": [
    "def daum_Article_Scraping() :\n",
    "    # 반환값으로 전달할 daum_news_df\n",
    "    daum_news_df = pd.DataFrame(columns = cols)\n",
    "    \n",
    "    # 다음 주식 뉴스 페이지에 나타나는 기사의 최대 갯수\n",
    "    NEWS_MAX_CNT = 15\n",
    "    \n",
    "    try :\n",
    "        for date in DATE_LIST :\n",
    "            # 크롤링 시작\n",
    "            driver = webdriver.Chrome(service = s, options = chrome_driver_options())\n",
    "\n",
    "            # 1페이지부터 접속\n",
    "            page_cnt = 1\n",
    "            past_li = []\n",
    "\n",
    "            while True :\n",
    "                li = []\n",
    "                # 다음 주식 뉴스 페이지\n",
    "                driver.get(f\"https://news.daum.net/breakingnews/economic/stock?page={page_cnt}&regDate={date}\")\n",
    "                time.sleep(1)\n",
    "\n",
    "                # css를 통해 기사 제목의 텍스트 추출\n",
    "                articles = driver.find_elements(By.CSS_SELECTOR,'div.box_etc div > strong > a.link_txt')\n",
    "\n",
    "                for i in articles :\n",
    "                    li.append([date, i.text])\n",
    "\n",
    "                # 이전 뉴스 페이지의 기사 제목과 현재 뉴스 페이지의 기사 제목이 같으면 탈출\n",
    "                # 마지막 페이지인지 검사하는 조건문(1)\n",
    "                if past_li == li :\n",
    "                    break\n",
    "\n",
    "                # 결과 데이터프레임과 합병할 데이터 프레임 생성\n",
    "                temp_df = pd.DataFrame(li, columns = cols) \n",
    "\n",
    "                daum_news_df = pd.concat([daum_news_df, temp_df], ignore_index = True)\n",
    "\n",
    "                # 기사 제목이 NEWS_MAX_CNT 보다 모자라면 탈출, 마지막 페이지인지 검사하는 조건문(2)\n",
    "                if len(articles) < NEWS_MAX_CNT :\n",
    "                    break\n",
    "\n",
    "                # 현재의 기사 제목을 이전 기사 제목 리스트 변수에 저장\n",
    "                past_li = li\n",
    "\n",
    "                # 다음 페이지\n",
    "                page_cnt += 1\n",
    "\n",
    "            # 하루의 주식 기사들을 모두 확인했다면 종료\n",
    "            driver.quit()\n",
    "    except :\n",
    "        print('check')\n",
    "        driver.quit()\n",
    "        pass\n",
    "\n",
    "    # 반환 전 중복 제거\n",
    "    daum_news_df.drop_duplicates(['Title'], keep = 'first', inplace = True)\n",
    "    return daum_news_df"
   ]
  },
  {
   "cell_type": "code",
   "execution_count": 17,
   "id": "40d54e04",
   "metadata": {
    "ExecuteTime": {
     "end_time": "2022-08-02T13:03:21.572607Z",
     "start_time": "2022-08-02T13:01:46.901376Z"
    }
   },
   "outputs": [],
   "source": [
    "daum_news_df = daum_Article_Scraping()"
   ]
  },
  {
   "cell_type": "code",
   "execution_count": 18,
   "id": "b134f7e2",
   "metadata": {
    "ExecuteTime": {
     "end_time": "2022-08-02T13:03:21.618581Z",
     "start_time": "2022-08-02T13:03:21.576606Z"
    }
   },
   "outputs": [],
   "source": [
    "daum_news_df.to_csv('./220802_daum_new.csv', encoding='utf-8-sig')"
   ]
  },
  {
   "cell_type": "code",
   "execution_count": null,
   "id": "a7d8bad8",
   "metadata": {},
   "outputs": [],
   "source": []
  },
  {
   "cell_type": "markdown",
   "id": "1a988540",
   "metadata": {},
   "source": [
    "# 2. 다음 토론방"
   ]
  },
  {
   "cell_type": "code",
   "execution_count": 19,
   "id": "e9c5f403",
   "metadata": {
    "ExecuteTime": {
     "end_time": "2022-08-02T13:03:21.666552Z",
     "start_time": "2022-08-02T13:03:21.623578Z"
    }
   },
   "outputs": [],
   "source": [
    "def daum_Talk_Scraping(input_code) :\n",
    "    code = get_code(input_code, 1)\n",
    "    \n",
    "    dates = []\n",
    "    titles = []\n",
    "    \n",
    "    start = datetime.strptime(DATE_LIST[0][:-2], \"%Y%m\") - timedelta(days = 1)\n",
    "    start = str(start)[2: 7].replace('-','.') +'.'\n",
    "    \n",
    "    driver = webdriver.Chrome(service = s, options = chrome_driver_options())\n",
    "    driver.get(f'https://finance.daum.net/quotes/{code}#talks')\n",
    "    time.sleep(3)\n",
    "    \n",
    "    TALK_MAX_CNT = 31\n",
    "    \n",
    "    try :\n",
    "        # start의 날짜를 찾을 때까지 반복\n",
    "        while True :\n",
    "            \n",
    "            # 10페이지 중 현재 페이지를 제외한 9페이지 만큼 반복\n",
    "            for i in range(9) :\n",
    "                \n",
    "                # 한 페이지에 0번째 글은 공지사항 고정,\n",
    "                # 1번째부터 시작하여 30번째 글의 제목까지 반복\n",
    "                for j in range(1, TALK_MAX_CNT) :\n",
    "                    date = driver.find_elements(By.CSS_SELECTOR, '#boxContents > div.tableB tbody td:nth-child(5)')[j]\n",
    "                    \n",
    "                    # start의 날짜를 찾으면 전체 반복문 탈출\n",
    "                    if re.search(fr'^{start}', date.text) :\n",
    "                        raise NotImplementedError\n",
    "                        \n",
    "                    dates.append(date.text)\n",
    "                    title = driver.find_elements(By.CSS_SELECTOR, '#boxContents > div.tableB tbody td:nth-child(1)')[j]\n",
    "\n",
    "                    # 제목이 너무 길 경우 ...으로 끝남\n",
    "                    if title.text.endswith('...') :\n",
    "                        # 해당 글로 이동하여 제목 텍스트를 읽음\n",
    "                        driver.find_element_by_link_text(title.text).click()\n",
    "                        time.sleep(2)\n",
    "\n",
    "                        element = driver.find_element(By.ID, \"bbsFrame\")\n",
    "                        driver.switch_to.frame(element)\n",
    "                        time.sleep(1)\n",
    "\n",
    "                        title_in = driver.find_elements(By.CSS_SELECTOR, '#bbsTitle')[0]\n",
    "                        titles.append(title_in.text)\n",
    "                        \n",
    "                        driver.back()\n",
    "                        time.sleep(2)\n",
    "\n",
    "                    else :\n",
    "                        titles.append(title.text)\n",
    "                        time.sleep(1)\n",
    "\n",
    "                # 30줄의 토론방 제목을 전부 다 보았다면 다음 페이지로 이동\n",
    "                driver.find_elements(By.CSS_SELECTOR, '.btnMove')[i].click()\n",
    "                time.sleep(1)\n",
    "\n",
    "            # 10페이지씩 전부 다 봤다면 다음 페이지 목록으로 이동\n",
    "            driver.find_elements(By.CSS_SELECTOR, '.btnNext')[0].click()\n",
    "            time.sleep(1)\n",
    "\n",
    "    except NotImplementedError :\n",
    "        print('find start month')\n",
    "        driver.quit()\n",
    "    except :\n",
    "        print('check')\n",
    "        pass\n",
    "\n",
    "    daum_talk_df = pd.DataFrame(list(zip(dates, titles)), columns = cols)\n",
    "    daum_talk_df.drop_duplicates(['Title'], keep = 'first', inplace = True)\n",
    "    daum_talk_df['Date'] = '20' + daum_talk_df['Date']\n",
    "    daum_talk_df.sort_values('Date', ignore_index = True, inplace = True)\n",
    "\n",
    "    return daum_talk_df"
   ]
  },
  {
   "cell_type": "code",
   "execution_count": 20,
   "id": "9edccc8b",
   "metadata": {
    "ExecuteTime": {
     "end_time": "2022-08-02T13:03:32.619897Z",
     "start_time": "2022-08-02T13:03:21.673549Z"
    }
   },
   "outputs": [
    {
     "name": "stdout",
     "output_type": "stream",
     "text": [
      "find start month\n"
     ]
    }
   ],
   "source": [
    "### codes = ['LG화학', '삼성SDI', 'SK이노베이션', '고려아연', '포스코케미칼']\n",
    "daum_talk_df = daum_Talk_Scraping(codes[2])"
   ]
  },
  {
   "cell_type": "code",
   "execution_count": 21,
   "id": "b057076c",
   "metadata": {
    "ExecuteTime": {
     "end_time": "2022-08-02T13:03:32.652006Z",
     "start_time": "2022-08-02T13:03:32.624023Z"
    }
   },
   "outputs": [
    {
     "data": {
      "text/html": [
       "<div>\n",
       "<style scoped>\n",
       "    .dataframe tbody tr th:only-of-type {\n",
       "        vertical-align: middle;\n",
       "    }\n",
       "\n",
       "    .dataframe tbody tr th {\n",
       "        vertical-align: top;\n",
       "    }\n",
       "\n",
       "    .dataframe thead th {\n",
       "        text-align: right;\n",
       "    }\n",
       "</style>\n",
       "<table border=\"1\" class=\"dataframe\">\n",
       "  <thead>\n",
       "    <tr style=\"text-align: right;\">\n",
       "      <th></th>\n",
       "      <th>Date</th>\n",
       "      <th>Title</th>\n",
       "    </tr>\n",
       "  </thead>\n",
       "  <tbody>\n",
       "  </tbody>\n",
       "</table>\n",
       "</div>"
      ],
      "text/plain": [
       "Empty DataFrame\n",
       "Columns: [Date, Title]\n",
       "Index: []"
      ]
     },
     "execution_count": 21,
     "metadata": {},
     "output_type": "execute_result"
    }
   ],
   "source": [
    "daum_talk_df"
   ]
  },
  {
   "cell_type": "code",
   "execution_count": 14,
   "id": "18e33da1",
   "metadata": {
    "ExecuteTime": {
     "end_time": "2022-08-01T12:02:16.908597Z",
     "start_time": "2022-08-01T12:02:16.887607Z"
    },
    "scrolled": false
   },
   "outputs": [],
   "source": [
    "daum_talk_df.to_csv('./220728_daum_talk.csv', encoding='utf-8-sig')"
   ]
  },
  {
   "cell_type": "code",
   "execution_count": null,
   "id": "227f6960",
   "metadata": {},
   "outputs": [],
   "source": []
  },
  {
   "cell_type": "markdown",
   "id": "dcdc74e4",
   "metadata": {},
   "source": [
    "# 3. 네이버 주식 NEWS\n",
    "\n",
    "- 네이버는 __뉴스 홈의 경제 증권 뉴스__ 와 __금융 홈의 기업 종목분석 뉴스__ 를 선택하였다."
   ]
  },
  {
   "cell_type": "markdown",
   "id": "522ebadf",
   "metadata": {},
   "source": [
    "### 뉴스 홈의 경제 증권 뉴스"
   ]
  },
  {
   "cell_type": "code",
   "execution_count": 22,
   "id": "36ae019e",
   "metadata": {
    "ExecuteTime": {
     "end_time": "2022-08-02T13:03:42.779330Z",
     "start_time": "2022-08-02T13:03:42.761338Z"
    },
    "scrolled": true
   },
   "outputs": [],
   "source": [
    "def naver_News_Home_Article_Scraping() :\n",
    "    naver_news_df = pd.DataFrame(columns = cols)\n",
    "\n",
    "    NEWS_MAX_CNT = 20\n",
    "\n",
    "    try :\n",
    "        for date in DATE_LIST :\n",
    "            driver = webdriver.Chrome(driver_path, options = chrome_driver_options())\n",
    "\n",
    "            past_li = []\n",
    "            page_cnt = 1\n",
    "\n",
    "            while True :\n",
    "                li = []\n",
    "                # 네이버 뉴스 홈의 경제 증권 뉴스 페이지\n",
    "                driver.get(f'https://news.naver.com/main/list.naver?mode=LS2D&sid2=258&sid1=101&mid=shm&date={date}&page={page_cnt}')\n",
    "                time.sleep(1)\n",
    "                \n",
    "                articles = driver.find_elements(By.CSS_SELECTOR, f'#main_content > div > ul > li > dl > dt > a')\n",
    "\n",
    "                for article in articles :\n",
    "                    if len(article.text) != 0 :\n",
    "                        li.append([date, article.text])\n",
    "\n",
    "                if past_li == li :\n",
    "                    break\n",
    "\n",
    "                temp_df = pd.DataFrame(li, columns = cols)\n",
    "\n",
    "                naver_news_df = pd.concat([naver_news_df, temp_df], ignore_index = True)\n",
    "\n",
    "                if len(li) < NEWS_MAX_CNT :\n",
    "                    break\n",
    "\n",
    "                past_li = li\n",
    "                page_cnt += 1\n",
    "\n",
    "            driver.quit()\n",
    "    except :\n",
    "        print('check')\n",
    "        pass\n",
    "\n",
    "    naver_news_df.drop_duplicates(['Title'], keep = 'first', inplace = True)\n",
    "\n",
    "    return naver_news_df"
   ]
  },
  {
   "cell_type": "code",
   "execution_count": 23,
   "id": "375debaa",
   "metadata": {
    "ExecuteTime": {
     "end_time": "2022-08-02T13:03:58.644073Z",
     "start_time": "2022-08-02T13:03:43.595586Z"
    }
   },
   "outputs": [],
   "source": [
    "naver_news_df = naver_News_Home_Article_Scraping()"
   ]
  },
  {
   "cell_type": "code",
   "execution_count": 24,
   "id": "563b3b3e",
   "metadata": {
    "ExecuteTime": {
     "end_time": "2022-08-02T13:03:58.674921Z",
     "start_time": "2022-08-02T13:03:58.644073Z"
    }
   },
   "outputs": [],
   "source": [
    "naver_news_df.query('Title != \"동영상기사\"').to_csv('./220802_naver_news_1.csv', encoding='utf-8-sig')"
   ]
  },
  {
   "cell_type": "code",
   "execution_count": null,
   "id": "18b25a4e",
   "metadata": {},
   "outputs": [],
   "source": []
  },
  {
   "cell_type": "code",
   "execution_count": null,
   "id": "9b28d085",
   "metadata": {},
   "outputs": [],
   "source": []
  },
  {
   "cell_type": "markdown",
   "id": "e43ca81b",
   "metadata": {},
   "source": [
    "### 금융 홈의 기업 종목분석 뉴스 "
   ]
  },
  {
   "cell_type": "code",
   "execution_count": 25,
   "id": "8ba5fcf8",
   "metadata": {
    "ExecuteTime": {
     "end_time": "2022-08-02T13:04:07.942513Z",
     "start_time": "2022-08-02T13:04:07.922527Z"
    }
   },
   "outputs": [],
   "source": [
    "def naver_Finance_Home_Article_Scraping() :\n",
    "    naver_finance_df = pd.DataFrame(columns = cols)\n",
    "    NEWS_MAX_CNT = 20\n",
    "\n",
    "    try :\n",
    "        for date in DATE_LIST :\n",
    "            driver = webdriver.Chrome(driver_path, options = chrome_driver_options())\n",
    "\n",
    "            past_li = []\n",
    "            page_cnt = 1\n",
    "\n",
    "            while True :\n",
    "                li = []\n",
    "                # 네이버 금융 홈의 기업 종목분석 뉴스 페이지\n",
    "                driver.get(f'https://finance.naver.com/news/news_list.naver?mode=LSS3D&section_id=101&section_id2=258&section_id3=402&date={date}&page={page_cnt}')\n",
    "                time.sleep(1)\n",
    "\n",
    "                articles = driver.find_elements(By.CSS_SELECTOR, '.articleSubject > a')\n",
    "\n",
    "                for article in articles :\n",
    "                    if len(article.text) != 0 :\n",
    "                        li.append([date, article.text])\n",
    "\n",
    "                if past_li == li :\n",
    "                    break\n",
    "\n",
    "                temp_df = pd.DataFrame(li, columns = cols)\n",
    "\n",
    "                naver_finance_df = pd.concat([naver_finance_df, temp_df], ignore_index = True)\n",
    "\n",
    "                if len(li) < NEWS_MAX_CNT :\n",
    "                    break\n",
    "\n",
    "                past_li = li\n",
    "                page_cnt += 1\n",
    "\n",
    "            driver.quit()\n",
    "    except :\n",
    "        print('check')\n",
    "        driver.quit()\n",
    "        pass\n",
    "    \n",
    "    naver_finance_df.drop_duplicates(['Title'], keep = 'first', inplace = True)\n",
    "\n",
    "    return naver_finance_df"
   ]
  },
  {
   "cell_type": "code",
   "execution_count": 26,
   "id": "5ce39ada",
   "metadata": {
    "ExecuteTime": {
     "end_time": "2022-08-02T13:04:28.382467Z",
     "start_time": "2022-08-02T13:04:08.601846Z"
    }
   },
   "outputs": [],
   "source": [
    "naver_finance_df = naver_Finance_Home_Article_Scraping()"
   ]
  },
  {
   "cell_type": "code",
   "execution_count": 27,
   "id": "f8186240",
   "metadata": {
    "ExecuteTime": {
     "end_time": "2022-08-02T13:04:28.414032Z",
     "start_time": "2022-08-02T13:04:28.382467Z"
    }
   },
   "outputs": [],
   "source": [
    "naver_finance_df.query('Title != \"동영상기사\"').to_csv('./220802_naver_news_2.csv', encoding='utf-8-sig')"
   ]
  },
  {
   "cell_type": "code",
   "execution_count": null,
   "id": "f760afac",
   "metadata": {},
   "outputs": [],
   "source": []
  },
  {
   "cell_type": "markdown",
   "id": "e5676d79",
   "metadata": {},
   "source": [
    "# 4. 네이버 토론방"
   ]
  },
  {
   "cell_type": "code",
   "execution_count": 28,
   "id": "20ffba14",
   "metadata": {
    "ExecuteTime": {
     "end_time": "2022-08-02T13:04:28.445015Z",
     "start_time": "2022-08-02T13:04:28.418031Z"
    }
   },
   "outputs": [],
   "source": [
    "def naver_Talk_Scraping(input_code) :\n",
    "    code = get_code(input_code)\n",
    "    \n",
    "    # 찾고자 하는 연도와 월의 이전 월을 찾음\n",
    "    start = datetime.strptime(DATE_LIST[0][:-2], \"%Y%m\") - timedelta(days = 1)\n",
    "    start = str(start)[:7].replace('-','.') +'.'\n",
    "    \n",
    "    # 1페이지부터 접속\n",
    "    page_cnt = 1\n",
    "    dates = []\n",
    "    titles = []\n",
    "\n",
    "    try :\n",
    "        driver = webdriver.Chrome(service = s, options = chrome_driver_options())\n",
    "        while True :\n",
    "            # 네이버 주식 토론방 페이지\n",
    "            driver.get(f'https://finance.naver.com/item/board.naver?code={code}&page={page_cnt}')\n",
    "            time.sleep(2)\n",
    "            \n",
    "            # css를 통해 제목과 날짜 추출\n",
    "            date = driver.find_elements(By.CSS_SELECTOR, '#content > div.section.inner_sub > table.type2 > tbody > tr > td:nth-child(1) > span')\n",
    "            title = driver.find_elements(By.CSS_SELECTOR,'#content > div.section.inner_sub > table.type2 > tbody > tr td.title > a')\n",
    "            \n",
    "            # 찾고자 하는 날짜보다 오래된 날짜를 찾으면 반복문 탈출\n",
    "            for j in range(len(date)) :\n",
    "                if re.search(fr'^{start}', date[j].text) :\n",
    "                    raise NotImplementedError\n",
    "                \n",
    "                dates.append(date[j].text[2:10])\n",
    "                titles.append(title[j].get_attribute('title'))\n",
    "            \n",
    "            # 다음 페이지\n",
    "            page_cnt += 1\n",
    "\n",
    "    except NotImplementedError :\n",
    "        print('find start month')\n",
    "        driver.quit()\n",
    "    except :\n",
    "        print('check')\n",
    "        pass\n",
    "    \n",
    "    # 반환 전 중복 제거 및 정렬\n",
    "    naver_talk_df = pd.DataFrame(list(zip(dates, titles)), columns = cols)\n",
    "    naver_talk_df.drop_duplicates(['Title'], keep = 'first', inplace = True)\n",
    "    naver_talk_df['Date'] = '20' + naver_talk_df['Date']\n",
    "    naver_talk_df.sort_values('Date', ignore_index = True, inplace = True)\n",
    "    \n",
    "    return naver_talk_df"
   ]
  },
  {
   "cell_type": "code",
   "execution_count": 29,
   "id": "7e28c33b",
   "metadata": {
    "ExecuteTime": {
     "end_time": "2022-08-02T13:05:10.834404Z",
     "start_time": "2022-08-02T13:04:30.537327Z"
    }
   },
   "outputs": [
    {
     "name": "stdout",
     "output_type": "stream",
     "text": [
      "check\n"
     ]
    }
   ],
   "source": [
    "# codes = ['LG화학', '삼성SDI', 'SK이노베이션', '고려아연', '포스코케미칼']\n",
    "naver_talk_df = naver_Talk_Scraping(codes[2])"
   ]
  },
  {
   "cell_type": "code",
   "execution_count": null,
   "id": "16e7f9f9",
   "metadata": {
    "ExecuteTime": {
     "end_time": "2022-08-01T12:04:31.998279Z",
     "start_time": "2022-08-01T12:04:31.975293Z"
    },
    "scrolled": true
   },
   "outputs": [],
   "source": []
  },
  {
   "cell_type": "code",
   "execution_count": 30,
   "id": "d0b70b2a",
   "metadata": {
    "ExecuteTime": {
     "end_time": "2022-08-02T13:05:10.865387Z",
     "start_time": "2022-08-02T13:05:10.839401Z"
    }
   },
   "outputs": [],
   "source": [
    "naver_talk_df.query('Date == \"2022.08.02\"').to_csv('./220802_naver_talk.csv', encoding=\"utf-8-sig\")"
   ]
  },
  {
   "cell_type": "code",
   "execution_count": null,
   "id": "ff7949c9",
   "metadata": {},
   "outputs": [],
   "source": []
  },
  {
   "cell_type": "markdown",
   "id": "2aaedeab",
   "metadata": {},
   "source": [
    "# 5. 유튜브 제목"
   ]
  },
  {
   "cell_type": "code",
   "execution_count": 36,
   "id": "b86e9a21",
   "metadata": {
    "ExecuteTime": {
     "end_time": "2022-07-28T12:05:40.515951Z",
     "start_time": "2022-07-28T12:05:40.479971Z"
    }
   },
   "outputs": [],
   "source": [
    "def youtube_Scraping(input_code) :\n",
    "    title = []\n",
    "    day = []\n",
    "    cnt = 0\n",
    "    \n",
    "    driver = webdriver.Chrome(service = s, options = chrome_driver_options())\n",
    "    \n",
    "    # 구글 페이지에서 유튜브 검색\n",
    "    driver.get('https://www.google.com/')\n",
    "    time.sleep(1)\n",
    "\n",
    "    srart = f'{DATE_LIST[0][4:6]}/{DATE_LIST[0][6:]}/{DATE_LIST[0][:4]}'\n",
    "    end = f'{DATE_LIST[-1][4:6]}/{DATE_LIST[-1][6:]}/{DATE_LIST[-1][:4]}'\n",
    "    \n",
    "    # 구글링 \n",
    "    driver.find_element(By.CLASS_NAME, 'gLFyf.gsfi').send_keys(f\"site:youtube.com {input_code}\")\n",
    "    driver.find_element(By.CLASS_NAME, 'gLFyf.gsfi').send_keys(Keys.ENTER)\n",
    "    time.sleep(1)\n",
    "    driver.find_element(By.CLASS_NAME, 't2vtad').click()\n",
    "    time.sleep(1)\n",
    "    driver.find_elements(By.CLASS_NAME, 'gTl8xb')[2].click()\n",
    "    time.sleep(1)\n",
    "    driver.find_element(By.XPATH, '//*[@id=\"lb\"]/div/g-menu/g-menu-item[7]/div/div/span').click()\n",
    "    time.sleep(1)\n",
    "    driver.find_element(By.CLASS_NAME, 'OouJcb').send_keys(srart)\n",
    "    driver.find_element(By.CLASS_NAME, 'rzG2be').send_keys(end)\n",
    "    time.sleep(1)\n",
    "    driver.find_element(By.CLASS_NAME, 'Ru1Ao.BwGU8e.fE5Rge').click()\n",
    "    time.sleep(1)\n",
    "\n",
    "    menu = driver.find_elements(By.CSS_SELECTOR, '#hdtb-msb > div:nth-child(1) > div > div > a')\n",
    "\n",
    "    for i in range(len(menu)) :\n",
    "        if menu[i].text == \"동영상\" :\n",
    "            driver.find_element(By.XPATH, f'//*[@id=\"hdtb-msb\"]/div[1]/div/div[{i + 2}]/a').click()\n",
    "            break\n",
    "    \n",
    "            \n",
    "    # 유튜브 제목 크롤링\n",
    "    page_cnt = 0\n",
    "    try :\n",
    "        while True :\n",
    "            channels = driver.find_elements(By.CLASS_NAME, 'LC20lb.MBeuO.DKV0Md')\n",
    "            for channel in range(len(channels)) :\n",
    "\n",
    "                if channel != 0 and channel % 4 == 0 :\n",
    "                    ActionChains(driver).move_to_element(channels[channel]).key_down(Keys.PAGE_DOWN).key_up(Keys.PAGE_DOWN).perform()\n",
    "                    time.sleep(1)\n",
    "                channels[channel].click()\n",
    "                time.sleep(2)\n",
    "\n",
    "                title_txt = driver.find_element(By.XPATH, '//*[@id=\"container\"]/h1/yt-formatted-string').text\n",
    "                day_txt = driver.find_element(By.XPATH, '//*[@id=\"info-strings\"]/yt-formatted-string').text\n",
    "                title.append(title_txt)\n",
    "                day.append(day_txt)\n",
    "                cnt += 1\n",
    "\n",
    "                driver.back()\n",
    "                time.sleep(2)\n",
    "\n",
    "            pages = driver.find_elements(By.CLASS_NAME, 'fl')\n",
    "\n",
    "            pages[page_cnt].click()\n",
    "\n",
    "            if page_cnt >= 10 :\n",
    "                page_cnt = 10\n",
    "                if len(pages) <= 10 :\n",
    "                    break\n",
    "            else :\n",
    "                page_cnt += 1\n",
    "\n",
    "            time.sleep(2)\n",
    "    except :\n",
    "        print('check')\n",
    "        \n",
    "    df = pd.DataFrame(list(zip(day, title)), columns = cols)\n",
    "    df.sort_values('Date', ignore_index = True, inplace = True)\n",
    "    \n",
    "    return df"
   ]
  },
  {
   "cell_type": "code",
   "execution_count": 37,
   "id": "dff6e351",
   "metadata": {
    "ExecuteTime": {
     "end_time": "2022-07-28T12:06:11.269533Z",
     "start_time": "2022-07-28T12:05:40.700610Z"
    }
   },
   "outputs": [
    {
     "name": "stdout",
     "output_type": "stream",
     "text": [
      "check\n"
     ]
    }
   ],
   "source": [
    "youtube_df = youtube_Scraping(codes[2])"
   ]
  },
  {
   "cell_type": "code",
   "execution_count": 38,
   "id": "7e00978a",
   "metadata": {
    "ExecuteTime": {
     "end_time": "2022-07-28T12:06:24.185956Z",
     "start_time": "2022-07-28T12:06:24.172985Z"
    }
   },
   "outputs": [
    {
     "data": {
      "text/html": [
       "<div>\n",
       "<style scoped>\n",
       "    .dataframe tbody tr th:only-of-type {\n",
       "        vertical-align: middle;\n",
       "    }\n",
       "\n",
       "    .dataframe tbody tr th {\n",
       "        vertical-align: top;\n",
       "    }\n",
       "\n",
       "    .dataframe thead th {\n",
       "        text-align: right;\n",
       "    }\n",
       "</style>\n",
       "<table border=\"1\" class=\"dataframe\">\n",
       "  <thead>\n",
       "    <tr style=\"text-align: right;\">\n",
       "      <th></th>\n",
       "      <th>Date</th>\n",
       "      <th>Title</th>\n",
       "    </tr>\n",
       "  </thead>\n",
       "  <tbody>\n",
       "    <tr>\n",
       "      <th>0</th>\n",
       "      <td>2022. 7. 28.</td>\n",
       "      <td>나스닥 급등! 코스피 향방은? ㅣ SK이노베이션 리노공업 주가전망</td>\n",
       "    </tr>\n",
       "  </tbody>\n",
       "</table>\n",
       "</div>"
      ],
      "text/plain": [
       "           Date                                 Title\n",
       "0  2022. 7. 28.  나스닥 급등! 코스피 향방은? ㅣ SK이노베이션 리노공업 주가전망"
      ]
     },
     "execution_count": 38,
     "metadata": {},
     "output_type": "execute_result"
    }
   ],
   "source": [
    "youtube_df"
   ]
  },
  {
   "cell_type": "code",
   "execution_count": 36,
   "id": "08e8b3dc",
   "metadata": {
    "ExecuteTime": {
     "end_time": "2022-07-24T16:40:11.616351Z",
     "start_time": "2022-07-24T16:40:11.588368Z"
    }
   },
   "outputs": [],
   "source": [
    "youtube_df.to_csv('./220725_youtube.csv', encoding=\"ANSI\")"
   ]
  },
  {
   "cell_type": "code",
   "execution_count": null,
   "id": "dde17c92",
   "metadata": {},
   "outputs": [],
   "source": []
  },
  {
   "cell_type": "markdown",
   "id": "becbc72e",
   "metadata": {},
   "source": [
    "#  투자 결정 코드"
   ]
  },
  {
   "cell_type": "code",
   "execution_count": 6,
   "id": "6775e69f",
   "metadata": {
    "ExecuteTime": {
     "end_time": "2022-08-04T12:04:55.459262Z",
     "start_time": "2022-08-04T12:04:55.344274Z"
    }
   },
   "outputs": [],
   "source": [
    "import pickle\n",
    "from konlpy.tag import *\n",
    "\n",
    "def tokenizer(text):\n",
    "    okt = Okt()\n",
    "    return okt.morphs(text)"
   ]
  },
  {
   "cell_type": "code",
   "execution_count": 31,
   "id": "d6fe1a47",
   "metadata": {
    "ExecuteTime": {
     "end_time": "2022-08-02T13:05:10.928353Z",
     "start_time": "2022-08-02T13:05:10.868384Z"
    }
   },
   "outputs": [],
   "source": [
    "d_news = pd.read_csv('./220802_daum_new.csv', index_col=0, encoding='utf-8-sig')\n",
    "#d_talk = pd.read_csv('./220726_daum_talk.csv', index_col=0, encoding='ANSI')\n",
    "n_news_1 = pd.read_csv('./220802_naver_news_1.csv', index_col=0, encoding='utf-8-sig')\n",
    "n_news_2 = pd.read_csv('./220802_naver_news_2.csv', index_col=0, encoding='utf-8-sig')\n",
    "n_talk = pd.read_csv('./220802_naver_talk.csv' , index_col=0, encoding='utf-8-sig')\n",
    "#youtube = pd.read_csv('./220723,24_youtube.csv', index_col=0, enconding='ANSI')"
   ]
  },
  {
   "cell_type": "code",
   "execution_count": 32,
   "id": "7329137f",
   "metadata": {
    "ExecuteTime": {
     "end_time": "2022-08-02T13:05:10.960332Z",
     "start_time": "2022-08-02T13:05:10.933349Z"
    },
    "scrolled": true
   },
   "outputs": [],
   "source": [
    "df = pd.concat([d_news, n_news_1, n_news_2 ,n_talk])\n",
    "#df = pd.concat([d_news, d_talk, n_news_1, n_news_2 ,n_talk])\n",
    "\n",
    "# 'Date' 타입이 int 이므로 datetime으로 변환\n",
    "df['Date'] = pd.to_datetime(df['Date'].astype(str))\n",
    "\n",
    "df.sort_values('Date', ignore_index = True, inplace = True)"
   ]
  },
  {
   "cell_type": "code",
   "execution_count": 33,
   "id": "fa67954d",
   "metadata": {
    "ExecuteTime": {
     "end_time": "2022-08-02T13:05:10.992312Z",
     "start_time": "2022-08-02T13:05:10.964329Z"
    }
   },
   "outputs": [],
   "source": [
    "df['Title'] = df['Title'].astype(str)\n",
    "df.drop_duplicates('Title', ignore_index=True, inplace=True)"
   ]
  },
  {
   "cell_type": "code",
   "execution_count": 34,
   "id": "8b33d5e2",
   "metadata": {
    "ExecuteTime": {
     "end_time": "2022-08-02T13:05:11.759035Z",
     "start_time": "2022-08-02T13:05:11.733048Z"
    }
   },
   "outputs": [
    {
     "data": {
      "text/plain": [
       "2022-08-02    943\n",
       "Name: Date, dtype: int64"
      ]
     },
     "execution_count": 34,
     "metadata": {},
     "output_type": "execute_result"
    }
   ],
   "source": [
    "df['Date'].value_counts()"
   ]
  },
  {
   "cell_type": "code",
   "execution_count": 35,
   "id": "71b48758",
   "metadata": {
    "ExecuteTime": {
     "end_time": "2022-08-02T13:05:16.858275Z",
     "start_time": "2022-08-02T13:05:16.806306Z"
    }
   },
   "outputs": [],
   "source": [
    "df.to_csv('220802_titles_for_investment_game.csv',encoding='utf-8-sig')"
   ]
  },
  {
   "cell_type": "code",
   "execution_count": null,
   "id": "9d6838b7",
   "metadata": {},
   "outputs": [],
   "source": []
  },
  {
   "cell_type": "code",
   "execution_count": null,
   "id": "a289b8dc",
   "metadata": {},
   "outputs": [],
   "source": []
  },
  {
   "cell_type": "code",
   "execution_count": 36,
   "id": "d8166632",
   "metadata": {
    "ExecuteTime": {
     "end_time": "2022-08-02T13:05:22.037222Z",
     "start_time": "2022-08-02T13:05:22.019229Z"
    }
   },
   "outputs": [
    {
     "name": "stdout",
     "output_type": "stream",
     "text": [
      "943\n"
     ]
    }
   ],
   "source": [
    "df = pd.read_csv('./220802_titles_for_investment_game.csv', encoding='utf-8', index_col=0)\n",
    "print(len(df))"
   ]
  },
  {
   "cell_type": "code",
   "execution_count": 7,
   "id": "f77102ee",
   "metadata": {
    "ExecuteTime": {
     "end_time": "2022-08-04T12:05:58.163604Z",
     "start_time": "2022-08-04T12:05:55.214349Z"
    }
   },
   "outputs": [],
   "source": [
    "pipeline = './[Model5]pipe_binary.dat'\n",
    "with open(pipeline,'rb') as fp:     # 읽기\n",
    "    pipe = pickle.load(fp)"
   ]
  },
  {
   "cell_type": "code",
   "execution_count": null,
   "id": "fa3df59e",
   "metadata": {},
   "outputs": [],
   "source": []
  },
  {
   "cell_type": "code",
   "execution_count": 38,
   "id": "16319982",
   "metadata": {
    "ExecuteTime": {
     "end_time": "2022-08-02T13:05:29.193037Z",
     "start_time": "2022-08-02T13:05:24.122538Z"
    }
   },
   "outputs": [
    {
     "name": "stderr",
     "output_type": "stream",
     "text": [
      "100%|███████████████████████████████████████████████████████████████████████████████| 943/943 [00:05<00:00, 186.89it/s]\n"
     ]
    }
   ],
   "source": [
    "score = []\n",
    "for i in tqdm(range(len(df))) :\n",
    "    score.append(pipe.predict([df['Title'][i]])[0])"
   ]
  },
  {
   "cell_type": "code",
   "execution_count": 39,
   "id": "cd0ba7fa",
   "metadata": {
    "ExecuteTime": {
     "end_time": "2022-08-02T13:05:29.208246Z",
     "start_time": "2022-08-02T13:05:29.199250Z"
    }
   },
   "outputs": [],
   "source": [
    "df['score'] = score"
   ]
  },
  {
   "cell_type": "code",
   "execution_count": 40,
   "id": "ad995c90",
   "metadata": {
    "ExecuteTime": {
     "end_time": "2022-08-02T13:05:29.240227Z",
     "start_time": "2022-08-02T13:05:29.213242Z"
    }
   },
   "outputs": [
    {
     "name": "stdout",
     "output_type": "stream",
     "text": [
      " 1    690\n",
      "-1    253\n",
      "Name: score, dtype: int64\n"
     ]
    }
   ],
   "source": [
    "print(df['score'].value_counts())"
   ]
  },
  {
   "cell_type": "code",
   "execution_count": null,
   "id": "599ee4e4",
   "metadata": {},
   "outputs": [],
   "source": []
  },
  {
   "cell_type": "code",
   "execution_count": null,
   "id": "b8a40134",
   "metadata": {},
   "outputs": [],
   "source": []
  },
  {
   "cell_type": "code",
   "execution_count": null,
   "id": "a7982bdd",
   "metadata": {},
   "outputs": [],
   "source": []
  },
  {
   "cell_type": "code",
   "execution_count": null,
   "id": "40709803",
   "metadata": {},
   "outputs": [],
   "source": []
  },
  {
   "cell_type": "code",
   "execution_count": null,
   "id": "e1d33b31",
   "metadata": {},
   "outputs": [],
   "source": []
  },
  {
   "cell_type": "code",
   "execution_count": null,
   "id": "c2713781",
   "metadata": {},
   "outputs": [],
   "source": []
  },
  {
   "cell_type": "code",
   "execution_count": null,
   "id": "9aec9065",
   "metadata": {},
   "outputs": [],
   "source": []
  },
  {
   "cell_type": "code",
   "execution_count": 8,
   "id": "f8ad5642",
   "metadata": {
    "ExecuteTime": {
     "end_time": "2022-08-04T12:06:06.367144Z",
     "start_time": "2022-08-04T12:06:06.313180Z"
    }
   },
   "outputs": [],
   "source": [
    "temp = pd.read_csv('220804_titles_for_investment_game.csv', encoding='utf-8-sig', index_col=0)"
   ]
  },
  {
   "cell_type": "code",
   "execution_count": 9,
   "id": "f2e7dcca",
   "metadata": {
    "ExecuteTime": {
     "end_time": "2022-08-04T12:06:06.743221Z",
     "start_time": "2022-08-04T12:06:06.710241Z"
    }
   },
   "outputs": [
    {
     "data": {
      "text/plain": [
       "737"
      ]
     },
     "execution_count": 9,
     "metadata": {},
     "output_type": "execute_result"
    }
   ],
   "source": [
    "len(temp)"
   ]
  },
  {
   "cell_type": "code",
   "execution_count": 10,
   "id": "2361ad5a",
   "metadata": {
    "ExecuteTime": {
     "end_time": "2022-08-04T12:06:08.078391Z",
     "start_time": "2022-08-04T12:06:08.044394Z"
    }
   },
   "outputs": [],
   "source": [
    "temp.drop_duplicates('Title', ignore_index=True, inplace=True)"
   ]
  },
  {
   "cell_type": "code",
   "execution_count": 11,
   "id": "c38d183a",
   "metadata": {
    "ExecuteTime": {
     "end_time": "2022-08-04T12:06:08.315447Z",
     "start_time": "2022-08-04T12:06:08.298441Z"
    }
   },
   "outputs": [
    {
     "data": {
      "text/plain": [
       "737"
      ]
     },
     "execution_count": 11,
     "metadata": {},
     "output_type": "execute_result"
    }
   ],
   "source": [
    "len(temp)"
   ]
  },
  {
   "cell_type": "code",
   "execution_count": 12,
   "id": "0057a1ff",
   "metadata": {
    "ExecuteTime": {
     "end_time": "2022-08-04T12:06:24.151432Z",
     "start_time": "2022-08-04T12:06:09.995186Z"
    }
   },
   "outputs": [
    {
     "name": "stderr",
     "output_type": "stream",
     "text": [
      "100%|████████████████████████████████████████████████████████████████████████████████| 737/737 [00:14<00:00, 52.16it/s]\n"
     ]
    }
   ],
   "source": [
    "score = []\n",
    "for i in tqdm(range(len(temp))) :\n",
    "    score.append(pipe.predict([temp['Title'][i]])[0])"
   ]
  },
  {
   "cell_type": "code",
   "execution_count": 13,
   "id": "f45c9a4b",
   "metadata": {
    "ExecuteTime": {
     "end_time": "2022-08-04T12:06:24.183419Z",
     "start_time": "2022-08-04T12:06:24.155432Z"
    }
   },
   "outputs": [
    {
     "data": {
      "text/plain": [
       " 1    606\n",
       "-1    131\n",
       "Name: score, dtype: int64"
      ]
     },
     "execution_count": 13,
     "metadata": {},
     "output_type": "execute_result"
    }
   ],
   "source": [
    "temp['score'] = score\n",
    "temp['score'].value_counts()"
   ]
  },
  {
   "cell_type": "code",
   "execution_count": null,
   "id": "19ab6368",
   "metadata": {},
   "outputs": [],
   "source": []
  },
  {
   "cell_type": "code",
   "execution_count": null,
   "id": "99734f98",
   "metadata": {},
   "outputs": [],
   "source": []
  }
 ],
 "metadata": {
  "kernelspec": {
   "display_name": "Python 3 (ipykernel)",
   "language": "python",
   "name": "python3"
  },
  "language_info": {
   "codemirror_mode": {
    "name": "ipython",
    "version": 3
   },
   "file_extension": ".py",
   "mimetype": "text/x-python",
   "name": "python",
   "nbconvert_exporter": "python",
   "pygments_lexer": "ipython3",
   "version": "3.8.8"
  },
  "toc": {
   "base_numbering": 1,
   "nav_menu": {},
   "number_sections": true,
   "sideBar": true,
   "skip_h1_title": false,
   "title_cell": "Table of Contents",
   "title_sidebar": "Contents",
   "toc_cell": false,
   "toc_position": {},
   "toc_section_display": true,
   "toc_window_display": false
  }
 },
 "nbformat": 4,
 "nbformat_minor": 5
}
