{
 "cells": [
  {
   "cell_type": "code",
   "execution_count": 3,
   "id": "6942b16f",
   "metadata": {
    "id": "6942b16f"
   },
   "outputs": [],
   "source": [
    "# 주피터\n",
    "# import os\n",
    "\n",
    "# os.chdir('G:/내 드라이브/projects/NLP-StockMarket/model_fin/')"
   ]
  },
  {
   "cell_type": "code",
   "execution_count": 2,
   "id": "0c49c27b",
   "metadata": {
    "colab": {
     "base_uri": "https://localhost:8080/"
    },
    "id": "0c49c27b",
    "outputId": "3d8be289-c67d-40e5-cfde-2438335eb869"
   },
   "outputs": [
    {
     "name": "stdout",
     "output_type": "stream",
     "text": [
      "Mounted at /content/drive\n"
     ]
    }
   ],
   "source": [
    "# 코랩\n",
    "from google.colab import drive\n",
    "drive.mount(\"/content/drive\")\n",
    "\n",
    "import os\n",
    "path = '/content/drive/My Drive/projects/NLP-StockMarket/model_fin/' # 본인 구글 드라이브 계정마다 살짝씩 다를 수도 있음\n",
    "os.chdir(path)"
   ]
  },
  {
   "cell_type": "markdown",
   "id": "f8e301d7",
   "metadata": {
    "id": "f8e301d7"
   },
   "source": [
    "## 필요모듈 import"
   ]
  },
  {
   "cell_type": "code",
   "execution_count": null,
   "id": "rca-vJNB98_9",
   "metadata": {
    "colab": {
     "base_uri": "https://localhost:8080/"
    },
    "id": "rca-vJNB98_9",
    "outputId": "78194373-147b-4957-b138-54d30da308ee"
   },
   "outputs": [
    {
     "name": "stdout",
     "output_type": "stream",
     "text": [
      "Looking in indexes: https://pypi.org/simple, https://us-python.pkg.dev/colab-wheels/public/simple/\n",
      "Requirement already satisfied: konlpy in /usr/local/lib/python3.7/dist-packages (0.6.0)\n",
      "Requirement already satisfied: numpy>=1.6 in /usr/local/lib/python3.7/dist-packages (from konlpy) (1.21.6)\n",
      "Requirement already satisfied: lxml>=4.1.0 in /usr/local/lib/python3.7/dist-packages (from konlpy) (4.2.6)\n",
      "Requirement already satisfied: JPype1>=0.7.0 in /usr/local/lib/python3.7/dist-packages (from konlpy) (1.4.0)\n",
      "Requirement already satisfied: typing-extensions in /usr/local/lib/python3.7/dist-packages (from JPype1>=0.7.0->konlpy) (4.1.1)\n"
     ]
    }
   ],
   "source": [
    "!pip install konlpy   # 코랩에서만 실행"
   ]
  },
  {
   "cell_type": "code",
   "execution_count": 72,
   "id": "6bcd8750",
   "metadata": {
    "ExecuteTime": {
     "end_time": "2022-07-12T03:08:40.159016Z",
     "start_time": "2022-07-12T03:08:40.125017Z"
    },
    "id": "6bcd8750"
   },
   "outputs": [],
   "source": [
    "from tqdm import tqdm\n",
    "import scipy as sp\n",
    "import pandas as pd\n",
    "import numpy as np\n",
    "import re\n",
    "\n",
    "from konlpy.tag import Kkma    \n",
    "from konlpy.tag import Hannanum    \n",
    "from konlpy.tag import Okt        \n",
    "from konlpy.tag import *\n",
    "import nltk\n",
    "import pickle\n",
    "\n",
    "# from wordcloud import WordCloud, STOPWORDS\n",
    "from PIL import Image\n",
    "\n",
    "from sklearn.feature_extraction.text import CountVectorizer\n",
    "from sklearn.feature_extraction.text import TfidfVectorizer \n",
    "from sklearn.feature_extraction.text import TfidfTransformer\n",
    "from sklearn.linear_model import LogisticRegression\n",
    "from sklearn.pipeline import Pipeline \n",
    "from sklearn.metrics import accuracy_score\n",
    "from sklearn.model_selection import train_test_split\n",
    "from tensorflow.keras.preprocessing.sequence import pad_sequences\n",
    "\n",
    "\n",
    "%matplotlib inline\n",
    "import matplotlib.pyplot as plt\n",
    "import seaborn as sns\n",
    "import graphviz\n",
    "from sklearn.tree import export_graphviz\n",
    "from datetime import datetime, timedelta\n",
    "\n",
    "import matplotlib.font_manager as fm\n",
    "plt.rc('font', family='NanumGothic')\n",
    "\n",
    "import matplotlib as mpl\n",
    "mpl.rcParams['axes.unicode_minus'] = False\n",
    "from keras.preprocessing.text import Tokenizer\n",
    "\n",
    "\n",
    "import warnings\n",
    "warnings.filterwarnings('ignore')"
   ]
  },
  {
   "cell_type": "code",
   "execution_count": 2,
   "id": "6addc881",
   "metadata": {
    "ExecuteTime": {
     "end_time": "2022-07-12T00:06:35.195326Z",
     "start_time": "2022-07-12T00:06:32.202287Z"
    },
    "id": "6addc881"
   },
   "outputs": [],
   "source": [
    "kkma = Kkma()\n",
    "hannanum = Hannanum()\n",
    "okt = Okt()"
   ]
  },
  {
   "cell_type": "markdown",
   "id": "71e7191e",
   "metadata": {
    "id": "71e7191e"
   },
   "source": [
    "## 자연어 데이터 import(날짜 가져오기 위해 먼저 가져옴)"
   ]
  },
  {
   "cell_type": "code",
   "execution_count": 3,
   "id": "29efce3e",
   "metadata": {
    "ExecuteTime": {
     "end_time": "2022-07-12T00:06:35.257123Z",
     "start_time": "2022-07-12T00:06:35.240147Z"
    },
    "id": "29efce3e"
   },
   "outputs": [],
   "source": [
    "# LG화학, 삼성SDI, SK이노베이션, 고려아연, 포스코케미칼\n",
    "stock_name = '삼성SDI'"
   ]
  },
  {
   "cell_type": "code",
   "execution_count": 4,
   "id": "836979e4",
   "metadata": {
    "ExecuteTime": {
     "end_time": "2022-07-12T00:06:39.200706Z",
     "start_time": "2022-07-12T00:06:35.278455Z"
    },
    "id": "836979e4",
    "scrolled": false
   },
   "outputs": [],
   "source": [
    "naver_news = pd.read_csv('./data/refined_naver_news.csv', index_col=0)\n",
    "daum_news = pd.read_csv('./data/refined_daum_news.csv', index_col=0)\n",
    "naver_talks = pd.read_csv(f'./data/refined_naver_talks_{stock_name}.csv', index_col=0)\n",
    "daum_talks = pd.read_csv(f'./data/refined_daum_talks_{stock_name}.csv', index_col=0)\n",
    "youtube = pd.read_csv(f'./data/refined_youtube_{stock_name}.csv', index_col=0)"
   ]
  },
  {
   "cell_type": "code",
   "execution_count": 5,
   "id": "24b8a27c",
   "metadata": {
    "ExecuteTime": {
     "end_time": "2022-07-12T00:06:39.679232Z",
     "start_time": "2022-07-12T00:06:39.453657Z"
    },
    "id": "24b8a27c",
    "scrolled": true
   },
   "outputs": [],
   "source": [
    "naver_talks['Date'] = pd.to_datetime(naver_talks['Date'])\n",
    "daum_talks['Date'] = pd.to_datetime(daum_talks['Date'])"
   ]
  },
  {
   "cell_type": "code",
   "execution_count": 6,
   "id": "72b740ac",
   "metadata": {
    "ExecuteTime": {
     "end_time": "2022-07-12T00:06:41.157325Z",
     "start_time": "2022-07-12T00:06:39.760095Z"
    },
    "id": "72b740ac"
   },
   "outputs": [],
   "source": [
    "news_df = pd.concat([naver_news, daum_news, naver_talks, daum_talks ,youtube])\n",
    "news_df['Date'] = pd.to_datetime(news_df['Date'].astype(str))     # str(변수) 는 자체 내장함수, 변수 하나씩밖에 적용 안됨.\n",
    "news_df.sort_values('Date', ignore_index=True, inplace=True)"
   ]
  },
  {
   "cell_type": "code",
   "execution_count": 7,
   "id": "NLF5Dd9IW1Tr",
   "metadata": {
    "ExecuteTime": {
     "end_time": "2022-07-12T00:06:41.265000Z",
     "start_time": "2022-07-12T00:06:41.221598Z"
    },
    "colab": {
     "base_uri": "https://localhost:8080/",
     "height": 112
    },
    "id": "NLF5Dd9IW1Tr",
    "outputId": "17baf72e-55d7-44f2-c50d-0cf21d88bc0f"
   },
   "outputs": [
    {
     "data": {
      "text/html": [
       "<div>\n",
       "<style scoped>\n",
       "    .dataframe tbody tr th:only-of-type {\n",
       "        vertical-align: middle;\n",
       "    }\n",
       "\n",
       "    .dataframe tbody tr th {\n",
       "        vertical-align: top;\n",
       "    }\n",
       "\n",
       "    .dataframe thead th {\n",
       "        text-align: right;\n",
       "    }\n",
       "</style>\n",
       "<table border=\"1\" class=\"dataframe\">\n",
       "  <thead>\n",
       "    <tr style=\"text-align: right;\">\n",
       "      <th></th>\n",
       "      <th>Date</th>\n",
       "      <th>Title</th>\n",
       "    </tr>\n",
       "  </thead>\n",
       "  <tbody>\n",
       "    <tr>\n",
       "      <th>639</th>\n",
       "      <td>2021-01-04</td>\n",
       "      <td>정영채 NH證 대표  고객과의 신뢰 중요</td>\n",
       "    </tr>\n",
       "    <tr>\n",
       "      <th>640</th>\n",
       "      <td>2021-01-04</td>\n",
       "      <td>마감 국채선물 상승  111 52 증가5틱</td>\n",
       "    </tr>\n",
       "  </tbody>\n",
       "</table>\n",
       "</div>"
      ],
      "text/plain": [
       "          Date                     Title\n",
       "639 2021-01-04   정영채 NH證 대표  고객과의 신뢰 중요 \n",
       "640 2021-01-04   마감 국채선물 상승  111 52 증가5틱"
      ]
     },
     "execution_count": 7,
     "metadata": {},
     "output_type": "execute_result"
    }
   ],
   "source": [
    "news_df[news_df['Date']== '2021-01-04'].head(2)"
   ]
  },
  {
   "cell_type": "code",
   "execution_count": 8,
   "id": "WQ9wACAygNWA",
   "metadata": {
    "ExecuteTime": {
     "end_time": "2022-07-12T00:06:41.372734Z",
     "start_time": "2022-07-12T00:06:41.347499Z"
    },
    "colab": {
     "base_uri": "https://localhost:8080/"
    },
    "id": "WQ9wACAygNWA",
    "outputId": "d4c6fa7a-30bf-4448-c714-0f19ac839558"
   },
   "outputs": [
    {
     "data": {
      "text/plain": [
       "639"
      ]
     },
     "execution_count": 8,
     "metadata": {},
     "output_type": "execute_result"
    }
   ],
   "source": [
    "news_df[news_df['Date']== '2021-01-04'].index[0]"
   ]
  },
  {
   "cell_type": "code",
   "execution_count": 9,
   "id": "41qSljsOW1K3",
   "metadata": {
    "ExecuteTime": {
     "end_time": "2022-07-12T00:06:41.465429Z",
     "start_time": "2022-07-12T00:06:41.439004Z"
    },
    "colab": {
     "base_uri": "https://localhost:8080/",
     "height": 143
    },
    "id": "41qSljsOW1K3",
    "outputId": "4956c97c-a460-4169-c432-6a79afb84f6c"
   },
   "outputs": [
    {
     "data": {
      "text/html": [
       "<div>\n",
       "<style scoped>\n",
       "    .dataframe tbody tr th:only-of-type {\n",
       "        vertical-align: middle;\n",
       "    }\n",
       "\n",
       "    .dataframe tbody tr th {\n",
       "        vertical-align: top;\n",
       "    }\n",
       "\n",
       "    .dataframe thead th {\n",
       "        text-align: right;\n",
       "    }\n",
       "</style>\n",
       "<table border=\"1\" class=\"dataframe\">\n",
       "  <thead>\n",
       "    <tr style=\"text-align: right;\">\n",
       "      <th></th>\n",
       "      <th>Date</th>\n",
       "      <th>Title</th>\n",
       "    </tr>\n",
       "  </thead>\n",
       "  <tbody>\n",
       "    <tr>\n",
       "      <th>639</th>\n",
       "      <td>2021-01-04</td>\n",
       "      <td>정영채 NH證 대표  고객과의 신뢰 중요</td>\n",
       "    </tr>\n",
       "    <tr>\n",
       "      <th>640</th>\n",
       "      <td>2021-01-04</td>\n",
       "      <td>마감 국채선물 상승  111 52 증가5틱</td>\n",
       "    </tr>\n",
       "    <tr>\n",
       "      <th>641</th>\n",
       "      <td>2021-01-04</td>\n",
       "      <td>새해 첫날 주식시장 축포   2900  돌파   3000  초읽기</td>\n",
       "    </tr>\n",
       "  </tbody>\n",
       "</table>\n",
       "</div>"
      ],
      "text/plain": [
       "          Date                                 Title\n",
       "639 2021-01-04               정영채 NH證 대표  고객과의 신뢰 중요 \n",
       "640 2021-01-04               마감 국채선물 상승  111 52 증가5틱\n",
       "641 2021-01-04  새해 첫날 주식시장 축포   2900  돌파   3000  초읽기"
      ]
     },
     "execution_count": 9,
     "metadata": {},
     "output_type": "execute_result"
    }
   ],
   "source": [
    "news_df = news_df[news_df[news_df['Date']== '2021-01-04'].index[0]:]\n",
    "news_df.head(3)"
   ]
  },
  {
   "cell_type": "markdown",
   "id": "06a6f9d3",
   "metadata": {
    "id": "06a6f9d3"
   },
   "source": [
    "## 주가 데이터"
   ]
  },
  {
   "cell_type": "markdown",
   "id": "c76d8783",
   "metadata": {
    "id": "c76d8783"
   },
   "source": [
    "### KRX에서 받은 csv로 가져오기"
   ]
  },
  {
   "cell_type": "code",
   "execution_count": 10,
   "id": "80bf2941",
   "metadata": {
    "ExecuteTime": {
     "end_time": "2022-07-12T00:06:41.573733Z",
     "start_time": "2022-07-12T00:06:41.530670Z"
    },
    "colab": {
     "base_uri": "https://localhost:8080/",
     "height": 206
    },
    "id": "80bf2941",
    "outputId": "492e7822-4d73-4ffb-f83a-e3eaf0863df3",
    "scrolled": false
   },
   "outputs": [
    {
     "data": {
      "text/html": [
       "<div>\n",
       "<style scoped>\n",
       "    .dataframe tbody tr th:only-of-type {\n",
       "        vertical-align: middle;\n",
       "    }\n",
       "\n",
       "    .dataframe tbody tr th {\n",
       "        vertical-align: top;\n",
       "    }\n",
       "\n",
       "    .dataframe thead th {\n",
       "        text-align: right;\n",
       "    }\n",
       "</style>\n",
       "<table border=\"1\" class=\"dataframe\">\n",
       "  <thead>\n",
       "    <tr style=\"text-align: right;\">\n",
       "      <th></th>\n",
       "      <th>일자</th>\n",
       "      <th>등락률</th>\n",
       "    </tr>\n",
       "  </thead>\n",
       "  <tbody>\n",
       "    <tr>\n",
       "      <th>0</th>\n",
       "      <td>2021-01-04</td>\n",
       "      <td>6.85</td>\n",
       "    </tr>\n",
       "    <tr>\n",
       "      <th>1</th>\n",
       "      <td>2021-01-05</td>\n",
       "      <td>2.24</td>\n",
       "    </tr>\n",
       "    <tr>\n",
       "      <th>2</th>\n",
       "      <td>2021-01-06</td>\n",
       "      <td>-0.87</td>\n",
       "    </tr>\n",
       "    <tr>\n",
       "      <th>3</th>\n",
       "      <td>2021-01-07</td>\n",
       "      <td>2.65</td>\n",
       "    </tr>\n",
       "    <tr>\n",
       "      <th>4</th>\n",
       "      <td>2021-01-08</td>\n",
       "      <td>5.87</td>\n",
       "    </tr>\n",
       "  </tbody>\n",
       "</table>\n",
       "</div>"
      ],
      "text/plain": [
       "          일자   등락률\n",
       "0 2021-01-04  6.85\n",
       "1 2021-01-05  2.24\n",
       "2 2021-01-06 -0.87\n",
       "3 2021-01-07  2.65\n",
       "4 2021-01-08  5.87"
      ]
     },
     "execution_count": 10,
     "metadata": {},
     "output_type": "execute_result"
    }
   ],
   "source": [
    "stock_df = pd.read_csv(f'./data/{stock_name}_주가_데이터.csv', usecols = ['일자','등락률'])\n",
    "stock_df['일자'] = pd.to_datetime(stock_df['일자'])\n",
    "stock_df.head()"
   ]
  },
  {
   "cell_type": "code",
   "execution_count": 11,
   "id": "E3_8eXPqiR93",
   "metadata": {
    "ExecuteTime": {
     "end_time": "2022-07-12T00:06:41.666783Z",
     "start_time": "2022-07-12T00:06:41.656220Z"
    },
    "colab": {
     "base_uri": "https://localhost:8080/"
    },
    "id": "E3_8eXPqiR93",
    "outputId": "ba6c0304-9450-49d9-f0f2-20c719f71a8c"
   },
   "outputs": [
    {
     "name": "stdout",
     "output_type": "stream",
     "text": [
      "2021-01-04 00:00:00\n",
      "2022-06-30 00:00:00\n"
     ]
    }
   ],
   "source": [
    "start = str(stock_df.iloc[0, 0])\n",
    "end = str(stock_df.iloc[-1, 0])\n",
    "print(start)\n",
    "print(end)"
   ]
  },
  {
   "cell_type": "markdown",
   "id": "1991773f",
   "metadata": {
    "id": "1991773f"
   },
   "source": [
    "## 합치기"
   ]
  },
  {
   "cell_type": "code",
   "execution_count": 12,
   "id": "d34ba7ae",
   "metadata": {
    "ExecuteTime": {
     "end_time": "2022-07-12T00:06:41.791118Z",
     "start_time": "2022-07-12T00:06:41.765946Z"
    }
   },
   "outputs": [],
   "source": [
    "stock_df['updown'] = 0"
   ]
  },
  {
   "cell_type": "code",
   "execution_count": 13,
   "id": "18cde3de",
   "metadata": {
    "ExecuteTime": {
     "end_time": "2022-07-12T00:06:41.931887Z",
     "start_time": "2022-07-12T00:06:41.890239Z"
    },
    "id": "18cde3de",
    "scrolled": true
   },
   "outputs": [],
   "source": [
    "## 뉴스일자 조정(예측대상(주가)의 일자와 맞추기 위해)\n",
    "news_df['일자'] = news_df['Date'] + timedelta(days=1)"
   ]
  },
  {
   "cell_type": "code",
   "execution_count": 14,
   "id": "d1eeed02",
   "metadata": {
    "ExecuteTime": {
     "end_time": "2022-07-12T00:06:43.233810Z",
     "start_time": "2022-07-12T00:06:42.046258Z"
    },
    "colab": {
     "base_uri": "https://localhost:8080/",
     "height": 225
    },
    "id": "d1eeed02",
    "outputId": "e364306d-4316-4457-a3f4-50c60f7a5c34",
    "scrolled": true
   },
   "outputs": [
    {
     "name": "stdout",
     "output_type": "stream",
     "text": [
      "429597\n"
     ]
    },
    {
     "data": {
      "text/html": [
       "<div>\n",
       "<style scoped>\n",
       "    .dataframe tbody tr th:only-of-type {\n",
       "        vertical-align: middle;\n",
       "    }\n",
       "\n",
       "    .dataframe tbody tr th {\n",
       "        vertical-align: top;\n",
       "    }\n",
       "\n",
       "    .dataframe thead th {\n",
       "        text-align: right;\n",
       "    }\n",
       "</style>\n",
       "<table border=\"1\" class=\"dataframe\">\n",
       "  <thead>\n",
       "    <tr style=\"text-align: right;\">\n",
       "      <th></th>\n",
       "      <th>Date</th>\n",
       "      <th>Title</th>\n",
       "      <th>주가의 날짜</th>\n",
       "      <th>등락률</th>\n",
       "      <th>updown</th>\n",
       "    </tr>\n",
       "  </thead>\n",
       "  <tbody>\n",
       "    <tr>\n",
       "      <th>0</th>\n",
       "      <td>2021-01-04</td>\n",
       "      <td>정영채 NH證 대표  고객과의 신뢰 중요</td>\n",
       "      <td>2021-01-05</td>\n",
       "      <td>2.24</td>\n",
       "      <td>0</td>\n",
       "    </tr>\n",
       "    <tr>\n",
       "      <th>1</th>\n",
       "      <td>2021-01-04</td>\n",
       "      <td>마감 국채선물 상승  111 52 증가5틱</td>\n",
       "      <td>2021-01-05</td>\n",
       "      <td>2.24</td>\n",
       "      <td>0</td>\n",
       "    </tr>\n",
       "    <tr>\n",
       "      <th>2</th>\n",
       "      <td>2021-01-04</td>\n",
       "      <td>새해 첫날 주식시장 축포   2900  돌파   3000  초읽기</td>\n",
       "      <td>2021-01-05</td>\n",
       "      <td>2.24</td>\n",
       "      <td>0</td>\n",
       "    </tr>\n",
       "    <tr>\n",
       "      <th>3</th>\n",
       "      <td>2021-01-04</td>\n",
       "      <td>프로스테믹스  시설 증설에 55억 투자</td>\n",
       "      <td>2021-01-05</td>\n",
       "      <td>2.24</td>\n",
       "      <td>0</td>\n",
       "    </tr>\n",
       "    <tr>\n",
       "      <th>4</th>\n",
       "      <td>2021-01-04</td>\n",
       "      <td>마감 프로그램 5841억 매도우위</td>\n",
       "      <td>2021-01-05</td>\n",
       "      <td>2.24</td>\n",
       "      <td>0</td>\n",
       "    </tr>\n",
       "  </tbody>\n",
       "</table>\n",
       "</div>"
      ],
      "text/plain": [
       "        Date                                 Title     주가의 날짜   등락률  updown\n",
       "0 2021-01-04               정영채 NH證 대표  고객과의 신뢰 중요  2021-01-05  2.24       0\n",
       "1 2021-01-04               마감 국채선물 상승  111 52 증가5틱 2021-01-05  2.24       0\n",
       "2 2021-01-04  새해 첫날 주식시장 축포   2900  돌파   3000  초읽기 2021-01-05  2.24       0\n",
       "3 2021-01-04                 프로스테믹스  시설 증설에 55억 투자 2021-01-05  2.24       0\n",
       "4 2021-01-04                    마감 프로그램 5841억 매도우위 2021-01-05  2.24       0"
      ]
     },
     "execution_count": 14,
     "metadata": {},
     "output_type": "execute_result"
    }
   ],
   "source": [
    "df = news_df.merge(stock_df)\n",
    "df.columns = [df.columns[0], df.columns[1], '주가의 날짜', '등락률', 'updown']\n",
    "df.drop_duplicates('Title', inplace = True, ignore_index = True)  # 기사제목 중복 제거\n",
    "print(len(df))\n",
    "df.head()"
   ]
  },
  {
   "cell_type": "code",
   "execution_count": 15,
   "id": "nCPzIbacgHJW",
   "metadata": {
    "ExecuteTime": {
     "end_time": "2022-07-12T00:06:43.417926Z",
     "start_time": "2022-07-12T00:06:43.363677Z"
    },
    "colab": {
     "base_uri": "https://localhost:8080/",
     "height": 206
    },
    "id": "nCPzIbacgHJW",
    "outputId": "d83c36a6-a7ce-4c47-831b-ee4cc9bb3625"
   },
   "outputs": [
    {
     "data": {
      "text/html": [
       "<div>\n",
       "<style scoped>\n",
       "    .dataframe tbody tr th:only-of-type {\n",
       "        vertical-align: middle;\n",
       "    }\n",
       "\n",
       "    .dataframe tbody tr th {\n",
       "        vertical-align: top;\n",
       "    }\n",
       "\n",
       "    .dataframe thead th {\n",
       "        text-align: right;\n",
       "    }\n",
       "</style>\n",
       "<table border=\"1\" class=\"dataframe\">\n",
       "  <thead>\n",
       "    <tr style=\"text-align: right;\">\n",
       "      <th></th>\n",
       "      <th>Pos</th>\n",
       "      <th>Neg</th>\n",
       "      <th>Mid</th>\n",
       "    </tr>\n",
       "  </thead>\n",
       "  <tbody>\n",
       "    <tr>\n",
       "      <th>0</th>\n",
       "      <td>경신</td>\n",
       "      <td>매도</td>\n",
       "      <td>책임</td>\n",
       "    </tr>\n",
       "    <tr>\n",
       "      <th>1</th>\n",
       "      <td>상승세</td>\n",
       "      <td>조정</td>\n",
       "      <td>랠리</td>\n",
       "    </tr>\n",
       "    <tr>\n",
       "      <th>2</th>\n",
       "      <td>오른</td>\n",
       "      <td>감소</td>\n",
       "      <td>유지</td>\n",
       "    </tr>\n",
       "    <tr>\n",
       "      <th>3</th>\n",
       "      <td>강화</td>\n",
       "      <td>전쟁</td>\n",
       "      <td>중립</td>\n",
       "    </tr>\n",
       "    <tr>\n",
       "      <th>4</th>\n",
       "      <td>상승</td>\n",
       "      <td>개발</td>\n",
       "      <td>산타랠리</td>\n",
       "    </tr>\n",
       "  </tbody>\n",
       "</table>\n",
       "</div>"
      ],
      "text/plain": [
       "   Pos Neg   Mid\n",
       "0   경신  매도    책임\n",
       "1  상승세  조정    랠리\n",
       "2   오른  감소    유지\n",
       "3   강화  전쟁    중립\n",
       "4   상승  개발  산타랠리"
      ]
     },
     "execution_count": 15,
     "metadata": {},
     "output_type": "execute_result"
    }
   ],
   "source": [
    "sentiment_csv = pd.read_csv('./sentiment dictionary new.csv', index_col = 0)\n",
    "sentiment_csv.head()"
   ]
  },
  {
   "cell_type": "code",
   "execution_count": 16,
   "id": "ATs2omblgU-R",
   "metadata": {
    "ExecuteTime": {
     "end_time": "2022-07-12T00:06:43.508907Z",
     "start_time": "2022-07-12T00:06:43.498293Z"
    },
    "id": "ATs2omblgU-R"
   },
   "outputs": [],
   "source": [
    "pos_li = sentiment_csv['Pos'].dropna().values\n",
    "mid_li = sentiment_csv['Mid'].dropna().values\n",
    "neg_li = sentiment_csv['Neg'].dropna().values"
   ]
  },
  {
   "cell_type": "code",
   "execution_count": 19,
   "id": "b8af7279",
   "metadata": {
    "ExecuteTime": {
     "end_time": "2022-07-12T00:06:54.564922Z",
     "start_time": "2022-07-12T00:06:54.512697Z"
    }
   },
   "outputs": [],
   "source": [
    "### binary_sentimental_score\n",
    "def binary_sentimental_score(df):\n",
    "    # 입력받은 데이터프레임 복사 및 컬럼 추가\n",
    "    df_result = df.copy()\n",
    "    df_result['Pos'] = 0\n",
    "    df_result['Neg'] = 0\n",
    "    df_result['감성지수'] = 0\n",
    "    \n",
    "    # SP 등락률에 따른 updown 계산\n",
    "    df_result.loc[df_result.query('등락률 >= 0').index, 'updown'] = 1\n",
    "    df_result.loc[df_result.query('등락률 < 0').index, 'updown'] = -1\n",
    "\n",
    "    # 감성 지수는 긍정 : 1, 부정 : -1, 해당 데이터 제외 : 999\n",
    "    df_result['감성지수'] = 999    \n",
    "    \n",
    "    # 감성 사전에 따른 텍스트 검출\n",
    "    print('긍정 단어 검색중')\n",
    "    for pos in tqdm(pos_li) :\n",
    "        str_expr = f\"Title.str.contains('{pos}')\"\n",
    "        df_result.loc[df_result.query(str_expr).index, 'Pos'] = 1\n",
    "    \n",
    "    print('부정 단어 검색중')\n",
    "    for neg in tqdm(neg_li) :\n",
    "        str_expr = f\"Title.str.contains('{neg}')\"\n",
    "        df_result.loc[df_result.query(str_expr).index, 'Neg'] = 1\n",
    "    \n",
    "    # 긍정 단어만이 검출되면 긍정\n",
    "    df_result.loc[df_result.query('Pos == 1 and Neg == 0').index, '감성지수'] = 1\n",
    "    \n",
    "    # 부정 단어만이 검출되면 부정\n",
    "    df_result.loc[df_result.query('Pos == 0 and Neg == 1').index, '감성지수'] = -1\n",
    "    \n",
    "    # 긍정, 부정 단어가 둘 다 있으면 전 날 또는 당일 주가의 등락률을 보고 결정\n",
    "    print('긍정 부정 둘 다 있는 경우 처리중')\n",
    "    for i in tqdm(df_result.loc[df_result.query('Pos == 1 and Neg == 1').index].index) : \n",
    "        updown = 999 # 등락률을 뜻하는 updown\n",
    "        \n",
    "        # 해당 Title의 어제 주가가 있으면 선택\n",
    "        if sum(df_result.loc[i,'Date'] - timedelta(days = 1) == stock_df['일자']) == 1 :  \n",
    "            updown = stock_df[stock_df['일자'] == df_result.loc[i,'Date'] - timedelta(days = 1)]['등락률'].values[0]\n",
    "        \n",
    "        # 어제 주가는 없지만 당일이 있으면 당일을 선택\n",
    "        elif sum(df_result.loc[i,'Date'] == stock_df['일자']) == 1 :  \n",
    "            updown = stock_df[stock_df['일자'] == df_result.loc[i,'Date']]['등락률'].values[0]\n",
    "        # 어제와 오늘의 주가도 없다면 이전의 주가를 찾아 탐색\n",
    "        else :\n",
    "            j = 2 \n",
    "            while True :\n",
    "                if sum(df_result.loc[i,'Date'] - timedelta(days = j) == stock_df['일자']) == 1 :\n",
    "                    updown = stock_df[stock_df['일자'] == df_result.loc[i,'Date'] - timedelta(days = j)]['등락률'].values[0]\n",
    "                    break\n",
    "                j += 1\n",
    "        \n",
    "        # 절댓값이 0보다 낮은 등락률은 변화가 없다고 판단\n",
    "        if updown > 0 :\n",
    "            df_result.loc[i,'감성지수'] = 1\n",
    "        else :\n",
    "            df_result.loc[i,'감성지수'] = -1\n",
    "    df_result = pd.concat([df_result.loc[df_result.query('감성지수 != 999').index]], ignore_index = True)\n",
    "    return df_result"
   ]
  },
  {
   "cell_type": "code",
   "execution_count": 20,
   "id": "5cb0f94e",
   "metadata": {
    "ExecuteTime": {
     "end_time": "2022-07-12T00:06:55.031518Z",
     "start_time": "2022-07-12T00:06:54.985383Z"
    }
   },
   "outputs": [],
   "source": [
    "### multi_sentimental_score\n",
    "def multi_sentimental_score(df):\n",
    "    # 입력받은 데이터프레임 복사 및 컬럼 추가\n",
    "    df_result = df.copy()\n",
    "    df_result['Pos'] = 0\n",
    "    df_result['Neg'] = 0\n",
    "    df_result['Mid'] = 0\n",
    "    df_result['감성지수'] = 0\n",
    "    \n",
    "    # SP 등락률에 따른 updown 계산\n",
    "    df_result.loc[df_result.query('등락률 > 1').index, 'updown'] = 1\n",
    "    df_result.loc[df_result.query('등락률 < -1').index, 'updown'] = -1\n",
    "    \n",
    "    # 감성 지수는 긍정 : 1, 중립 : 0, 부정 : -1, 해당 데이터 제외 : 999\n",
    "    df_result['감성지수'] = 999    \n",
    "    \n",
    "################################################################################################\n",
    "    # 0  : 없음, 1: 있음\n",
    "    # 감성 사전에 따른 텍스트 검출\n",
    "    print('긍정 단어 검색중')\n",
    "    for pos in tqdm(pos_li) :\n",
    "        str_expr = f\"Title.str.contains('{pos}')\"\n",
    "        df_result.loc[df_result.query(str_expr).index, 'Pos'] = 1\n",
    "    \n",
    "    print('부정 단어 검색중')\n",
    "    for neg in tqdm(neg_li) :\n",
    "        str_expr = f\"Title.str.contains('{neg}')\"\n",
    "        df_result.loc[df_result.query(str_expr).index, 'Neg'] = 1\n",
    "    \n",
    "    print('중립 단어 검색중')\n",
    "    for mid in tqdm(mid_li) :\n",
    "        str_expr = f\"Title.str.contains('{mid}')\"\n",
    "        df_result.loc[df_result.query(str_expr).index, 'Mid'] = 1\n",
    "    \n",
    "    \n",
    "################################################################################################\n",
    "    \n",
    "    # 모든 종류의 단어가 검출 되면 제외\n",
    "    df_result.loc[df_result.query('Pos == 1 and Neg == 1 and Mid == 1').index, '감성지수'] = 999\n",
    "    \n",
    "    # 중립 단어가 검출되면 중립\n",
    "    df_result.loc[df_result.query('Mid == 1').index, '감성지수'] = 0\n",
    "    \n",
    "    # 긍정 단어만이 검출되면 긍정\n",
    "    df_result.loc[df_result.query('Pos == 1 and Neg == 0 and Mid == 0').index, '감성지수'] = 1\n",
    "    \n",
    "    # 부정 단어만이 검출되면 부정\n",
    "    df_result.loc[df_result.query('Pos == 0 and Neg == 1 and Mid == 0').index, '감성지수'] = -1\n",
    "    \n",
    "    \n",
    "    # 긍정, 부정 단어가 둘 다 있으면 전 날 또는 당일 주가의 등락률을 보고 결정\n",
    "    print('긍정 부정 둘 다 있는 경우 처리중')\n",
    "    for i in tqdm(df_result.loc[df_result.query('Pos == 1 and Neg == 1 and Mid == 0').index].index) : \n",
    "        \n",
    "        updown = 999 # 등락률을 뜻하는 updown\n",
    "        \n",
    "        # 해당 Title의 어제 주가가 있으면 선택\n",
    "        if sum(df_result.loc[i,'Date'] - timedelta(days = 1) == stock_df['일자']) == 1 :  \n",
    "            updown = stock_df[stock_df['일자'] == df_result.loc[i,'Date'] - timedelta(days = 1)]['등락률'].values[0]\n",
    "        \n",
    "        # 어제 주가는 없지만 당일이 있으면 당일을 선택\n",
    "        elif sum(df_result.loc[i,'Date'] == stock_df['일자']) == 1 :  \n",
    "            updown = stock_df[stock_df['일자'] == df_result.loc[i,'Date']]['등락률'].values[0]\n",
    "        # 어제와 오늘의 주가도 없다면 이전의 주가를 찾아 탐색\n",
    "        else :\n",
    "            j = 2 \n",
    "            while True :\n",
    "                if sum(df_result.loc[i,'Date'] - timedelta(days = j) == stock_df['일자']) == 1 :\n",
    "                    updown = stock_df[stock_df['일자'] == df_result.loc[i,'Date'] - timedelta(days = j)]['등락률'].values[0]\n",
    "                    break\n",
    "                j += 1\n",
    "        \n",
    "        # 절댓값이 0보다 낮은 등락률은 변화가 없다고 판단\n",
    "        if updown > 1 :\n",
    "            df_result.loc[i,'감성지수'] = 1\n",
    "        elif updown < -1 :\n",
    "            df_result.loc[i,'감성지수'] = -1\n",
    "        else :\n",
    "            df_result.loc[i,'감성지수'] = 0\n",
    "    df_result = pd.concat([df_result.loc[df_result.query('감성지수 != 999').index]], ignore_index = True)\n",
    "    return df_result"
   ]
  },
  {
   "cell_type": "code",
   "execution_count": 21,
   "id": "Lwgp5EwjiToJ",
   "metadata": {
    "ExecuteTime": {
     "end_time": "2022-07-12T00:39:55.705569Z",
     "start_time": "2022-07-12T00:07:08.807496Z"
    },
    "colab": {
     "base_uri": "https://localhost:8080/",
     "height": 393
    },
    "id": "Lwgp5EwjiToJ",
    "outputId": "db8e68f5-42a1-41ed-ef89-717f9405d313",
    "scrolled": true
   },
   "outputs": [
    {
     "name": "stdout",
     "output_type": "stream",
     "text": [
      "긍정 단어 검색중\n"
     ]
    },
    {
     "name": "stderr",
     "output_type": "stream",
     "text": [
      "100%|██████████████████████████████████████████████████████████████████████████████| 1000/1000 [12:26<00:00,  1.34it/s]\n"
     ]
    },
    {
     "name": "stdout",
     "output_type": "stream",
     "text": [
      "부정 단어 검색중\n"
     ]
    },
    {
     "name": "stderr",
     "output_type": "stream",
     "text": [
      "100%|██████████████████████████████████████████████████████████████████████████████| 1323/1323 [15:25<00:00,  1.43it/s]\n"
     ]
    },
    {
     "name": "stdout",
     "output_type": "stream",
     "text": [
      "중립 단어 검색중\n"
     ]
    },
    {
     "name": "stderr",
     "output_type": "stream",
     "text": [
      "100%|██████████████████████████████████████████████████████████████████████████████████| 85/85 [00:58<00:00,  1.46it/s]\n"
     ]
    },
    {
     "name": "stdout",
     "output_type": "stream",
     "text": [
      "긍정 부정 둘 다 있는 경우 처리중\n"
     ]
    },
    {
     "name": "stderr",
     "output_type": "stream",
     "text": [
      "100%|███████████████████████████████████████████████████████████████████████████| 84358/84358 [03:55<00:00, 358.27it/s]\n"
     ]
    },
    {
     "data": {
      "text/html": [
       "<div>\n",
       "<style scoped>\n",
       "    .dataframe tbody tr th:only-of-type {\n",
       "        vertical-align: middle;\n",
       "    }\n",
       "\n",
       "    .dataframe tbody tr th {\n",
       "        vertical-align: top;\n",
       "    }\n",
       "\n",
       "    .dataframe thead th {\n",
       "        text-align: right;\n",
       "    }\n",
       "</style>\n",
       "<table border=\"1\" class=\"dataframe\">\n",
       "  <thead>\n",
       "    <tr style=\"text-align: right;\">\n",
       "      <th></th>\n",
       "      <th>Date</th>\n",
       "      <th>Title</th>\n",
       "      <th>주가의 날짜</th>\n",
       "      <th>등락률</th>\n",
       "      <th>updown</th>\n",
       "      <th>Pos</th>\n",
       "      <th>Neg</th>\n",
       "      <th>Mid</th>\n",
       "      <th>감성지수</th>\n",
       "    </tr>\n",
       "  </thead>\n",
       "  <tbody>\n",
       "    <tr>\n",
       "      <th>0</th>\n",
       "      <td>2021-01-04</td>\n",
       "      <td>정영채 NH證 대표  고객과의 신뢰 중요</td>\n",
       "      <td>2021-01-05</td>\n",
       "      <td>2.24</td>\n",
       "      <td>1</td>\n",
       "      <td>1</td>\n",
       "      <td>0</td>\n",
       "      <td>0</td>\n",
       "      <td>1</td>\n",
       "    </tr>\n",
       "    <tr>\n",
       "      <th>1</th>\n",
       "      <td>2021-01-04</td>\n",
       "      <td>마감 국채선물 상승  111 52 증가5틱</td>\n",
       "      <td>2021-01-05</td>\n",
       "      <td>2.24</td>\n",
       "      <td>1</td>\n",
       "      <td>1</td>\n",
       "      <td>0</td>\n",
       "      <td>0</td>\n",
       "      <td>1</td>\n",
       "    </tr>\n",
       "    <tr>\n",
       "      <th>2</th>\n",
       "      <td>2021-01-04</td>\n",
       "      <td>새해 첫날 주식시장 축포   2900  돌파   3000  초읽기</td>\n",
       "      <td>2021-01-05</td>\n",
       "      <td>2.24</td>\n",
       "      <td>1</td>\n",
       "      <td>1</td>\n",
       "      <td>0</td>\n",
       "      <td>0</td>\n",
       "      <td>1</td>\n",
       "    </tr>\n",
       "    <tr>\n",
       "      <th>3</th>\n",
       "      <td>2021-01-04</td>\n",
       "      <td>프로스테믹스  시설 증설에 55억 투자</td>\n",
       "      <td>2021-01-05</td>\n",
       "      <td>2.24</td>\n",
       "      <td>1</td>\n",
       "      <td>1</td>\n",
       "      <td>0</td>\n",
       "      <td>0</td>\n",
       "      <td>1</td>\n",
       "    </tr>\n",
       "    <tr>\n",
       "      <th>4</th>\n",
       "      <td>2021-01-04</td>\n",
       "      <td>마감 프로그램 5841억 매도우위</td>\n",
       "      <td>2021-01-05</td>\n",
       "      <td>2.24</td>\n",
       "      <td>1</td>\n",
       "      <td>1</td>\n",
       "      <td>1</td>\n",
       "      <td>0</td>\n",
       "      <td>1</td>\n",
       "    </tr>\n",
       "    <tr>\n",
       "      <th>...</th>\n",
       "      <td>...</td>\n",
       "      <td>...</td>\n",
       "      <td>...</td>\n",
       "      <td>...</td>\n",
       "      <td>...</td>\n",
       "      <td>...</td>\n",
       "      <td>...</td>\n",
       "      <td>...</td>\n",
       "      <td>...</td>\n",
       "    </tr>\n",
       "    <tr>\n",
       "      <th>364467</th>\n",
       "      <td>2022-06-29</td>\n",
       "      <td>수젠텍  원숭이두창 분자진단제품 개발 중 분자진단 플렛폼기술 확보</td>\n",
       "      <td>2022-06-30</td>\n",
       "      <td>-6.67</td>\n",
       "      <td>-1</td>\n",
       "      <td>1</td>\n",
       "      <td>1</td>\n",
       "      <td>0</td>\n",
       "      <td>1</td>\n",
       "    </tr>\n",
       "    <tr>\n",
       "      <th>364468</th>\n",
       "      <td>2022-06-29</td>\n",
       "      <td>LS 주가 하락장서 역주행  모든 사업부가 호황</td>\n",
       "      <td>2022-06-30</td>\n",
       "      <td>-6.67</td>\n",
       "      <td>-1</td>\n",
       "      <td>1</td>\n",
       "      <td>1</td>\n",
       "      <td>0</td>\n",
       "      <td>1</td>\n",
       "    </tr>\n",
       "    <tr>\n",
       "      <th>364469</th>\n",
       "      <td>2022-06-29</td>\n",
       "      <td>SK바사  토종 백신 1호  식약처 승인 소식에 3 대 강세</td>\n",
       "      <td>2022-06-30</td>\n",
       "      <td>-6.67</td>\n",
       "      <td>-1</td>\n",
       "      <td>1</td>\n",
       "      <td>0</td>\n",
       "      <td>0</td>\n",
       "      <td>1</td>\n",
       "    </tr>\n",
       "    <tr>\n",
       "      <th>364470</th>\n",
       "      <td>2022-06-29</td>\n",
       "      <td>장중시황  코스피  1 4  내린 2389선 경기 침체 우려에 약세</td>\n",
       "      <td>2022-06-30</td>\n",
       "      <td>-6.67</td>\n",
       "      <td>-1</td>\n",
       "      <td>0</td>\n",
       "      <td>1</td>\n",
       "      <td>0</td>\n",
       "      <td>-1</td>\n",
       "    </tr>\n",
       "    <tr>\n",
       "      <th>364471</th>\n",
       "      <td>2022-06-29</td>\n",
       "      <td>새빗켐  증권신고서 제출 코스닥 상장 본격화</td>\n",
       "      <td>2022-06-30</td>\n",
       "      <td>-6.67</td>\n",
       "      <td>-1</td>\n",
       "      <td>1</td>\n",
       "      <td>0</td>\n",
       "      <td>0</td>\n",
       "      <td>1</td>\n",
       "    </tr>\n",
       "  </tbody>\n",
       "</table>\n",
       "<p>364472 rows × 9 columns</p>\n",
       "</div>"
      ],
      "text/plain": [
       "             Date                                   Title     주가의 날짜   등락률  \\\n",
       "0      2021-01-04                 정영채 NH證 대표  고객과의 신뢰 중요  2021-01-05  2.24   \n",
       "1      2021-01-04                 마감 국채선물 상승  111 52 증가5틱 2021-01-05  2.24   \n",
       "2      2021-01-04    새해 첫날 주식시장 축포   2900  돌파   3000  초읽기 2021-01-05  2.24   \n",
       "3      2021-01-04                   프로스테믹스  시설 증설에 55억 투자 2021-01-05  2.24   \n",
       "4      2021-01-04                      마감 프로그램 5841억 매도우위 2021-01-05  2.24   \n",
       "...           ...                                     ...        ...   ...   \n",
       "364467 2022-06-29    수젠텍  원숭이두창 분자진단제품 개발 중 분자진단 플렛폼기술 확보 2022-06-30 -6.67   \n",
       "364468 2022-06-29             LS 주가 하락장서 역주행  모든 사업부가 호황  2022-06-30 -6.67   \n",
       "364469 2022-06-29       SK바사  토종 백신 1호  식약처 승인 소식에 3 대 강세 2022-06-30 -6.67   \n",
       "364470 2022-06-29   장중시황  코스피  1 4  내린 2389선 경기 침체 우려에 약세 2022-06-30 -6.67   \n",
       "364471 2022-06-29                새빗켐  증권신고서 제출 코스닥 상장 본격화 2022-06-30 -6.67   \n",
       "\n",
       "        updown  Pos  Neg  Mid  감성지수  \n",
       "0            1    1    0    0     1  \n",
       "1            1    1    0    0     1  \n",
       "2            1    1    0    0     1  \n",
       "3            1    1    0    0     1  \n",
       "4            1    1    1    0     1  \n",
       "...        ...  ...  ...  ...   ...  \n",
       "364467      -1    1    1    0     1  \n",
       "364468      -1    1    1    0     1  \n",
       "364469      -1    1    0    0     1  \n",
       "364470      -1    0    1    0    -1  \n",
       "364471      -1    1    0    0     1  \n",
       "\n",
       "[364472 rows x 9 columns]"
      ]
     },
     "execution_count": 21,
     "metadata": {},
     "output_type": "execute_result"
    }
   ],
   "source": [
    "df_result = multi_sentimental_score(df)\n",
    "df_result"
   ]
  },
  {
   "cell_type": "code",
   "execution_count": 22,
   "id": "98073b33",
   "metadata": {
    "ExecuteTime": {
     "end_time": "2022-07-12T00:39:55.940220Z",
     "start_time": "2022-07-12T00:39:55.898961Z"
    }
   },
   "outputs": [
    {
     "data": {
      "text/html": [
       "<div>\n",
       "<style scoped>\n",
       "    .dataframe tbody tr th:only-of-type {\n",
       "        vertical-align: middle;\n",
       "    }\n",
       "\n",
       "    .dataframe tbody tr th {\n",
       "        vertical-align: top;\n",
       "    }\n",
       "\n",
       "    .dataframe thead th {\n",
       "        text-align: right;\n",
       "    }\n",
       "</style>\n",
       "<table border=\"1\" class=\"dataframe\">\n",
       "  <thead>\n",
       "    <tr style=\"text-align: right;\">\n",
       "      <th></th>\n",
       "      <th>Date</th>\n",
       "      <th>Title</th>\n",
       "      <th>주가의 날짜</th>\n",
       "      <th>등락률</th>\n",
       "      <th>updown</th>\n",
       "      <th>Pos</th>\n",
       "      <th>Neg</th>\n",
       "      <th>Mid</th>\n",
       "      <th>감성지수</th>\n",
       "    </tr>\n",
       "  </thead>\n",
       "  <tbody>\n",
       "    <tr>\n",
       "      <th>0</th>\n",
       "      <td>2021-01-04</td>\n",
       "      <td>정영채 NH證 대표  고객과의 신뢰 중요</td>\n",
       "      <td>2021-01-05</td>\n",
       "      <td>2.24</td>\n",
       "      <td>1</td>\n",
       "      <td>1</td>\n",
       "      <td>0</td>\n",
       "      <td>0</td>\n",
       "      <td>1</td>\n",
       "    </tr>\n",
       "    <tr>\n",
       "      <th>1</th>\n",
       "      <td>2021-01-04</td>\n",
       "      <td>마감 국채선물 상승  111 52 증가5틱</td>\n",
       "      <td>2021-01-05</td>\n",
       "      <td>2.24</td>\n",
       "      <td>1</td>\n",
       "      <td>1</td>\n",
       "      <td>0</td>\n",
       "      <td>0</td>\n",
       "      <td>1</td>\n",
       "    </tr>\n",
       "    <tr>\n",
       "      <th>2</th>\n",
       "      <td>2021-01-04</td>\n",
       "      <td>새해 첫날 주식시장 축포   2900  돌파   3000  초읽기</td>\n",
       "      <td>2021-01-05</td>\n",
       "      <td>2.24</td>\n",
       "      <td>1</td>\n",
       "      <td>1</td>\n",
       "      <td>0</td>\n",
       "      <td>0</td>\n",
       "      <td>1</td>\n",
       "    </tr>\n",
       "    <tr>\n",
       "      <th>3</th>\n",
       "      <td>2021-01-04</td>\n",
       "      <td>프로스테믹스  시설 증설에 55억 투자</td>\n",
       "      <td>2021-01-05</td>\n",
       "      <td>2.24</td>\n",
       "      <td>1</td>\n",
       "      <td>1</td>\n",
       "      <td>0</td>\n",
       "      <td>0</td>\n",
       "      <td>1</td>\n",
       "    </tr>\n",
       "    <tr>\n",
       "      <th>4</th>\n",
       "      <td>2021-01-04</td>\n",
       "      <td>마감 프로그램 5841억 매도우위</td>\n",
       "      <td>2021-01-05</td>\n",
       "      <td>2.24</td>\n",
       "      <td>1</td>\n",
       "      <td>1</td>\n",
       "      <td>1</td>\n",
       "      <td>0</td>\n",
       "      <td>1</td>\n",
       "    </tr>\n",
       "    <tr>\n",
       "      <th>...</th>\n",
       "      <td>...</td>\n",
       "      <td>...</td>\n",
       "      <td>...</td>\n",
       "      <td>...</td>\n",
       "      <td>...</td>\n",
       "      <td>...</td>\n",
       "      <td>...</td>\n",
       "      <td>...</td>\n",
       "      <td>...</td>\n",
       "    </tr>\n",
       "    <tr>\n",
       "      <th>364467</th>\n",
       "      <td>2022-06-29</td>\n",
       "      <td>수젠텍  원숭이두창 분자진단제품 개발 중 분자진단 플렛폼기술 확보</td>\n",
       "      <td>2022-06-30</td>\n",
       "      <td>-6.67</td>\n",
       "      <td>-1</td>\n",
       "      <td>1</td>\n",
       "      <td>1</td>\n",
       "      <td>0</td>\n",
       "      <td>1</td>\n",
       "    </tr>\n",
       "    <tr>\n",
       "      <th>364468</th>\n",
       "      <td>2022-06-29</td>\n",
       "      <td>LS 주가 하락장서 역주행  모든 사업부가 호황</td>\n",
       "      <td>2022-06-30</td>\n",
       "      <td>-6.67</td>\n",
       "      <td>-1</td>\n",
       "      <td>1</td>\n",
       "      <td>1</td>\n",
       "      <td>0</td>\n",
       "      <td>1</td>\n",
       "    </tr>\n",
       "    <tr>\n",
       "      <th>364469</th>\n",
       "      <td>2022-06-29</td>\n",
       "      <td>SK바사  토종 백신 1호  식약처 승인 소식에 3 대 강세</td>\n",
       "      <td>2022-06-30</td>\n",
       "      <td>-6.67</td>\n",
       "      <td>-1</td>\n",
       "      <td>1</td>\n",
       "      <td>0</td>\n",
       "      <td>0</td>\n",
       "      <td>1</td>\n",
       "    </tr>\n",
       "    <tr>\n",
       "      <th>364470</th>\n",
       "      <td>2022-06-29</td>\n",
       "      <td>장중시황  코스피  1 4  내린 2389선 경기 침체 우려에 약세</td>\n",
       "      <td>2022-06-30</td>\n",
       "      <td>-6.67</td>\n",
       "      <td>-1</td>\n",
       "      <td>0</td>\n",
       "      <td>1</td>\n",
       "      <td>0</td>\n",
       "      <td>-1</td>\n",
       "    </tr>\n",
       "    <tr>\n",
       "      <th>364471</th>\n",
       "      <td>2022-06-29</td>\n",
       "      <td>새빗켐  증권신고서 제출 코스닥 상장 본격화</td>\n",
       "      <td>2022-06-30</td>\n",
       "      <td>-6.67</td>\n",
       "      <td>-1</td>\n",
       "      <td>1</td>\n",
       "      <td>0</td>\n",
       "      <td>0</td>\n",
       "      <td>1</td>\n",
       "    </tr>\n",
       "  </tbody>\n",
       "</table>\n",
       "<p>364472 rows × 9 columns</p>\n",
       "</div>"
      ],
      "text/plain": [
       "             Date                                   Title     주가의 날짜   등락률  \\\n",
       "0      2021-01-04                 정영채 NH證 대표  고객과의 신뢰 중요  2021-01-05  2.24   \n",
       "1      2021-01-04                 마감 국채선물 상승  111 52 증가5틱 2021-01-05  2.24   \n",
       "2      2021-01-04    새해 첫날 주식시장 축포   2900  돌파   3000  초읽기 2021-01-05  2.24   \n",
       "3      2021-01-04                   프로스테믹스  시설 증설에 55억 투자 2021-01-05  2.24   \n",
       "4      2021-01-04                      마감 프로그램 5841억 매도우위 2021-01-05  2.24   \n",
       "...           ...                                     ...        ...   ...   \n",
       "364467 2022-06-29    수젠텍  원숭이두창 분자진단제품 개발 중 분자진단 플렛폼기술 확보 2022-06-30 -6.67   \n",
       "364468 2022-06-29             LS 주가 하락장서 역주행  모든 사업부가 호황  2022-06-30 -6.67   \n",
       "364469 2022-06-29       SK바사  토종 백신 1호  식약처 승인 소식에 3 대 강세 2022-06-30 -6.67   \n",
       "364470 2022-06-29   장중시황  코스피  1 4  내린 2389선 경기 침체 우려에 약세 2022-06-30 -6.67   \n",
       "364471 2022-06-29                새빗켐  증권신고서 제출 코스닥 상장 본격화 2022-06-30 -6.67   \n",
       "\n",
       "        updown  Pos  Neg  Mid  감성지수  \n",
       "0            1    1    0    0     1  \n",
       "1            1    1    0    0     1  \n",
       "2            1    1    0    0     1  \n",
       "3            1    1    0    0     1  \n",
       "4            1    1    1    0     1  \n",
       "...        ...  ...  ...  ...   ...  \n",
       "364467      -1    1    1    0     1  \n",
       "364468      -1    1    1    0     1  \n",
       "364469      -1    1    0    0     1  \n",
       "364470      -1    0    1    0    -1  \n",
       "364471      -1    1    0    0     1  \n",
       "\n",
       "[364472 rows x 9 columns]"
      ]
     },
     "execution_count": 22,
     "metadata": {},
     "output_type": "execute_result"
    }
   ],
   "source": [
    "df_result"
   ]
  },
  {
   "cell_type": "code",
   "execution_count": 23,
   "id": "e012756d",
   "metadata": {
    "ExecuteTime": {
     "end_time": "2022-07-12T00:40:22.059385Z",
     "start_time": "2022-07-12T00:39:56.099927Z"
    }
   },
   "outputs": [],
   "source": [
    "df_result.to_csv('sentiment_analysis_result_data_for_model8.csv', encoding='utf-8-sig')"
   ]
  },
  {
   "cell_type": "markdown",
   "id": "f6f0b941",
   "metadata": {
    "id": "f6f0b941"
   },
   "source": [
    "## 감성분석 모델 적용"
   ]
  },
  {
   "cell_type": "code",
   "execution_count": 41,
   "id": "4uDpP_T4ioeL",
   "metadata": {
    "ExecuteTime": {
     "end_time": "2022-07-12T01:39:44.233142Z",
     "start_time": "2022-07-12T01:39:42.176937Z"
    },
    "id": "4uDpP_T4ioeL",
    "scrolled": true
   },
   "outputs": [
    {
     "data": {
      "text/html": [
       "<div>\n",
       "<style scoped>\n",
       "    .dataframe tbody tr th:only-of-type {\n",
       "        vertical-align: middle;\n",
       "    }\n",
       "\n",
       "    .dataframe tbody tr th {\n",
       "        vertical-align: top;\n",
       "    }\n",
       "\n",
       "    .dataframe thead th {\n",
       "        text-align: right;\n",
       "    }\n",
       "</style>\n",
       "<table border=\"1\" class=\"dataframe\">\n",
       "  <thead>\n",
       "    <tr style=\"text-align: right;\">\n",
       "      <th></th>\n",
       "      <th>Date</th>\n",
       "      <th>Title</th>\n",
       "      <th>주가의 날짜</th>\n",
       "      <th>등락률</th>\n",
       "      <th>updown</th>\n",
       "      <th>Pos</th>\n",
       "      <th>Neg</th>\n",
       "      <th>Mid</th>\n",
       "      <th>감성지수</th>\n",
       "    </tr>\n",
       "  </thead>\n",
       "  <tbody>\n",
       "    <tr>\n",
       "      <th>0</th>\n",
       "      <td>2021-01-04</td>\n",
       "      <td>정영채 NH證 대표  고객과의 신뢰 중요</td>\n",
       "      <td>2021-01-05</td>\n",
       "      <td>2.24</td>\n",
       "      <td>1</td>\n",
       "      <td>1</td>\n",
       "      <td>0</td>\n",
       "      <td>0</td>\n",
       "      <td>1</td>\n",
       "    </tr>\n",
       "    <tr>\n",
       "      <th>1</th>\n",
       "      <td>2021-01-04</td>\n",
       "      <td>마감 국채선물 상승  111 52 증가5틱</td>\n",
       "      <td>2021-01-05</td>\n",
       "      <td>2.24</td>\n",
       "      <td>1</td>\n",
       "      <td>1</td>\n",
       "      <td>0</td>\n",
       "      <td>0</td>\n",
       "      <td>1</td>\n",
       "    </tr>\n",
       "    <tr>\n",
       "      <th>2</th>\n",
       "      <td>2021-01-04</td>\n",
       "      <td>새해 첫날 주식시장 축포   2900  돌파   3000  초읽기</td>\n",
       "      <td>2021-01-05</td>\n",
       "      <td>2.24</td>\n",
       "      <td>1</td>\n",
       "      <td>1</td>\n",
       "      <td>0</td>\n",
       "      <td>0</td>\n",
       "      <td>1</td>\n",
       "    </tr>\n",
       "    <tr>\n",
       "      <th>3</th>\n",
       "      <td>2021-01-04</td>\n",
       "      <td>프로스테믹스  시설 증설에 55억 투자</td>\n",
       "      <td>2021-01-05</td>\n",
       "      <td>2.24</td>\n",
       "      <td>1</td>\n",
       "      <td>1</td>\n",
       "      <td>0</td>\n",
       "      <td>0</td>\n",
       "      <td>1</td>\n",
       "    </tr>\n",
       "    <tr>\n",
       "      <th>4</th>\n",
       "      <td>2021-01-04</td>\n",
       "      <td>마감 프로그램 5841억 매도우위</td>\n",
       "      <td>2021-01-05</td>\n",
       "      <td>2.24</td>\n",
       "      <td>1</td>\n",
       "      <td>1</td>\n",
       "      <td>1</td>\n",
       "      <td>0</td>\n",
       "      <td>1</td>\n",
       "    </tr>\n",
       "    <tr>\n",
       "      <th>...</th>\n",
       "      <td>...</td>\n",
       "      <td>...</td>\n",
       "      <td>...</td>\n",
       "      <td>...</td>\n",
       "      <td>...</td>\n",
       "      <td>...</td>\n",
       "      <td>...</td>\n",
       "      <td>...</td>\n",
       "      <td>...</td>\n",
       "    </tr>\n",
       "    <tr>\n",
       "      <th>364467</th>\n",
       "      <td>2022-06-29</td>\n",
       "      <td>수젠텍  원숭이두창 분자진단제품 개발 중 분자진단 플렛폼기술 확보</td>\n",
       "      <td>2022-06-30</td>\n",
       "      <td>-6.67</td>\n",
       "      <td>-1</td>\n",
       "      <td>1</td>\n",
       "      <td>1</td>\n",
       "      <td>0</td>\n",
       "      <td>1</td>\n",
       "    </tr>\n",
       "    <tr>\n",
       "      <th>364468</th>\n",
       "      <td>2022-06-29</td>\n",
       "      <td>LS 주가 하락장서 역주행  모든 사업부가 호황</td>\n",
       "      <td>2022-06-30</td>\n",
       "      <td>-6.67</td>\n",
       "      <td>-1</td>\n",
       "      <td>1</td>\n",
       "      <td>1</td>\n",
       "      <td>0</td>\n",
       "      <td>1</td>\n",
       "    </tr>\n",
       "    <tr>\n",
       "      <th>364469</th>\n",
       "      <td>2022-06-29</td>\n",
       "      <td>SK바사  토종 백신 1호  식약처 승인 소식에 3 대 강세</td>\n",
       "      <td>2022-06-30</td>\n",
       "      <td>-6.67</td>\n",
       "      <td>-1</td>\n",
       "      <td>1</td>\n",
       "      <td>0</td>\n",
       "      <td>0</td>\n",
       "      <td>1</td>\n",
       "    </tr>\n",
       "    <tr>\n",
       "      <th>364470</th>\n",
       "      <td>2022-06-29</td>\n",
       "      <td>장중시황  코스피  1 4  내린 2389선 경기 침체 우려에 약세</td>\n",
       "      <td>2022-06-30</td>\n",
       "      <td>-6.67</td>\n",
       "      <td>-1</td>\n",
       "      <td>0</td>\n",
       "      <td>1</td>\n",
       "      <td>0</td>\n",
       "      <td>-1</td>\n",
       "    </tr>\n",
       "    <tr>\n",
       "      <th>364471</th>\n",
       "      <td>2022-06-29</td>\n",
       "      <td>새빗켐  증권신고서 제출 코스닥 상장 본격화</td>\n",
       "      <td>2022-06-30</td>\n",
       "      <td>-6.67</td>\n",
       "      <td>-1</td>\n",
       "      <td>1</td>\n",
       "      <td>0</td>\n",
       "      <td>0</td>\n",
       "      <td>1</td>\n",
       "    </tr>\n",
       "  </tbody>\n",
       "</table>\n",
       "<p>364472 rows × 9 columns</p>\n",
       "</div>"
      ],
      "text/plain": [
       "              Date                                   Title      주가의 날짜   등락률  \\\n",
       "0       2021-01-04                 정영채 NH證 대표  고객과의 신뢰 중요   2021-01-05  2.24   \n",
       "1       2021-01-04                 마감 국채선물 상승  111 52 증가5틱  2021-01-05  2.24   \n",
       "2       2021-01-04    새해 첫날 주식시장 축포   2900  돌파   3000  초읽기  2021-01-05  2.24   \n",
       "3       2021-01-04                   프로스테믹스  시설 증설에 55억 투자  2021-01-05  2.24   \n",
       "4       2021-01-04                      마감 프로그램 5841억 매도우위  2021-01-05  2.24   \n",
       "...            ...                                     ...         ...   ...   \n",
       "364467  2022-06-29    수젠텍  원숭이두창 분자진단제품 개발 중 분자진단 플렛폼기술 확보  2022-06-30 -6.67   \n",
       "364468  2022-06-29             LS 주가 하락장서 역주행  모든 사업부가 호황   2022-06-30 -6.67   \n",
       "364469  2022-06-29       SK바사  토종 백신 1호  식약처 승인 소식에 3 대 강세  2022-06-30 -6.67   \n",
       "364470  2022-06-29   장중시황  코스피  1 4  내린 2389선 경기 침체 우려에 약세  2022-06-30 -6.67   \n",
       "364471  2022-06-29                새빗켐  증권신고서 제출 코스닥 상장 본격화  2022-06-30 -6.67   \n",
       "\n",
       "        updown  Pos  Neg  Mid  감성지수  \n",
       "0            1    1    0    0     1  \n",
       "1            1    1    0    0     1  \n",
       "2            1    1    0    0     1  \n",
       "3            1    1    0    0     1  \n",
       "4            1    1    1    0     1  \n",
       "...        ...  ...  ...  ...   ...  \n",
       "364467      -1    1    1    0     1  \n",
       "364468      -1    1    1    0     1  \n",
       "364469      -1    1    0    0     1  \n",
       "364470      -1    0    1    0    -1  \n",
       "364471      -1    1    0    0     1  \n",
       "\n",
       "[364472 rows x 9 columns]"
      ]
     },
     "execution_count": 41,
     "metadata": {},
     "output_type": "execute_result"
    }
   ],
   "source": [
    "df = pd.read_csv('./sentiment_analysis_result_data_for_model8.csv', index_col=0)\n",
    "df"
   ]
  },
  {
   "cell_type": "code",
   "execution_count": 42,
   "id": "3175a4d7",
   "metadata": {
    "ExecuteTime": {
     "end_time": "2022-07-12T01:40:08.692503Z",
     "start_time": "2022-07-12T01:40:08.672315Z"
    }
   },
   "outputs": [
    {
     "data": {
      "text/plain": [
       " 0    143890\n",
       " 1    120122\n",
       "-1    100460\n",
       "Name: updown, dtype: int64"
      ]
     },
     "execution_count": 42,
     "metadata": {},
     "output_type": "execute_result"
    }
   ],
   "source": [
    "df['updown'].value_counts()"
   ]
  },
  {
   "cell_type": "code",
   "execution_count": 43,
   "id": "03a41ba7",
   "metadata": {
    "ExecuteTime": {
     "end_time": "2022-07-12T01:40:10.187862Z",
     "start_time": "2022-07-12T01:40:10.161701Z"
    },
    "scrolled": true
   },
   "outputs": [
    {
     "data": {
      "text/plain": [
       " 1    211270\n",
       "-1     89372\n",
       " 0     63830\n",
       "Name: 감성지수, dtype: int64"
      ]
     },
     "execution_count": 43,
     "metadata": {},
     "output_type": "execute_result"
    }
   ],
   "source": [
    "df['감성지수'].value_counts()"
   ]
  },
  {
   "cell_type": "code",
   "execution_count": 48,
   "id": "a5124621",
   "metadata": {
    "ExecuteTime": {
     "end_time": "2022-07-12T02:16:16.601904Z",
     "start_time": "2022-07-12T01:53:14.089251Z"
    },
    "colab": {
     "base_uri": "https://localhost:8080/"
    },
    "id": "a5124621",
    "outputId": "ff8786ce-eeeb-451f-c22d-62e5aa768709"
   },
   "outputs": [
    {
     "name": "stderr",
     "output_type": "stream",
     "text": [
      "100%|█████████████████████████████████████████████████████████████████████████| 364472/364472 [23:02<00:00, 263.69it/s]\n"
     ]
    }
   ],
   "source": [
    "n_ = []\n",
    "title_rename = []\n",
    "for i in tqdm(range(len(df))):\n",
    "    title_rename.append(re.sub(\"[\\(\\[].*?[\\)\\]]\", \"\",df.iloc[i]['Title']))\n",
    "    n_.append(' '.join(okt.nouns(df.iloc[i]['Title'])))\n",
    "df['nouns'] = n_\n",
    "df['Title']=title_rename\n",
    "df = df[df['nouns']!='']"
   ]
  },
  {
   "cell_type": "code",
   "execution_count": 51,
   "id": "fe22e906",
   "metadata": {
    "ExecuteTime": {
     "end_time": "2022-07-12T02:17:01.764874Z",
     "start_time": "2022-07-12T02:16:59.130089Z"
    },
    "colab": {
     "base_uri": "https://localhost:8080/"
    },
    "id": "fe22e906",
    "outputId": "852bd2c1-3c26-4a41-f9e3-7d47af15656a"
   },
   "outputs": [
    {
     "name": "stderr",
     "output_type": "stream",
     "text": [
      "100%|██████████████████████████████████████████████████████████████████████| 364333/364333 [00:02<00:00, 140764.72it/s]"
     ]
    },
    {
     "name": "stdout",
     "output_type": "stream",
     "text": [
      "31170\n",
      "{'영채': 0, '대표': 0, '고객': 0, '신뢰': 0, '중요': 0, '마감': 0, '국채선물': 0, '상승': 0, '증가': 0, '새해': 0, '첫날': 0, '주식시장': 0, '축포': 0, '돌파': 0, '초읽기': 0, '프로': 0, '스테': 0, '믹스': 0, '시설': 0, '증설': 0, '투자': 0, '프로그램': 0, '매도': 0, '우위': 0, '거래': 0, '코스피': 0, '증권': 0, '간다': 0, '속보': 0, '증시': 0, '최고': 0, '장원': 0, '테크': 0, '규모': 0, '전환사채': 0, '전환': 0, '가액': 0, '조정': 0, '지수선물': 0, '사상': 0, '행진': 0, '신년사': 0, '이영창': 0, '금투': 0, '사장': 0, '올해': 0, '변곡점': 0, '혁신': 0, '마지막': 0, '기회': 0, '연초': 0, '동학': 0, '개미': 0, '특징': 0, '면역': 0, '항암제': 0, '개발': 0, '보합': 0, '하락': 0, '혼자': 0, '레벨': 0, '디앤': 0, '씨미디어': 0, '수출': 0, '급증': 0, '주가': 0, '급등': 0, '경신': 0, '수익률': 0, '랠리': 0, '계속': 0, '극찬': 0, '서학': 0, '유치': 0, '전쟁': 0, '해외': 0, '계좌': 0, '가입': 0, '서현': 0, '에너지': 0, '전문가': 0, '성오': 0, '본부장': 0, '에프': 0, '감소': 0, '바이오': 0, '보툴리눔': 0, '톡신': 0, '공장': 0, '설립': 0, '글로벌': 0, '시장': 0, '공략': 0, '진천': 0, '증축': 0, '계약': 0, '보고': 0, '스톡': 0, '톡스': 0, '산업': 0, '변환기': 0, '구조': 0, '저하': 0, '전망': 0, '화승': 0, '알앤': 0, '에이': 0, '신고': 0, '단기': 0, '중기': 0, '이평': 0, '배열': 0, '상승세': 0, '오른': 0, '달러': 0, '환율': 0, '미래에셋': 0, '스리': 0, '특별': 0, '관계자': 0, '변동': 0, '코스닥': 0, '기관': 0, '개인': 0, '매수': 0, '외국인': 0, '최석': 0, '책임': 0, '경영': 0, '쎄트렉아이': 0, '최근': 0, '대량': 0, '케이': 0, '일진': 0, '디스': 0, '다시': 0, '한번': 0, '우하이': 0, '전일': 0, '미원': 0, '에스': 0, '각각': 0, '연속': 0, '종료': 0, '화신': 0, '트론': 0, '포인트': 0, '생명과학': 0, '박정림': 0, '김성현': 0, '디지털': 0, '체계': 0, '강화': 0, '포토': 0, '개장': 0, '신축년': 0, '기염': 0, '사진': 0, '역사': 0, '유래': 0, '대비': 0, '현대': 0, '자동차': 0, '생산': 0, '중단': 0, '훨훨': 0, '고도화': 0, '비대': 0, '성장': 0, '어가': 0, '종합': 0, '안철수': 0, '서울시장': 0, '당선': 0, '유력': 0, '안랩': 0, '닷컴버블': 0, '이후': 0, '모주': 0, '청약': 0, '보호': 0, '예수': 0, '해제': 0, '각종': 0, '기록': 0, '스팟': 0, '최초': 0, '에코': 0, '프로비': 0, '지누': 0, '클럽': 0, '신규': 0, '이수화학': 0, '의성군': 0, '청년': 0, '농업인': 0, '스마트': 0, '조성': 0, '단지': 0, '운영': 0, '업체': 0, '선정': 0, '변수': 0, '우상': 0, '그래프': 0, '그릴': 0, '한미': 0, '반도체': 0, '삼성': 0, '전자': 0, '분석': 0, '역대': 0, '시작': 0, '증권사': 0, '수장': 0, '화두': 0, '변화': 0, '위기': 0, '관리': 0, '전기차': 0, '현대차': 0, '그룹': 0, '질주': 0, '신년': 0, '특집': 0, '장주': 0, '강세': 0, '가치주': 0, '라이브': 0, '플렉스': 0, '정지': 0, '그린': 0, '국세청': 0, '연말': 0, '자영': 0, '업자': 0, '소상': 0, '공인': 0, '세무': 0, '검증': 0, '축소': 0, '회계법인': 0, '신설': 0, '컨설팅': 0, '신기록': 0, '현실': 0, '직행': 0, '외환': 0, '최저': 0, '비츠로': 0, '현금': 0, '배당': 0, '결정': 0, '코리아': 0, '취약': 0, '계층': 0, '겨울': 0, '외투': 0, '나눔': 0, '녹십자': 0, '종가': 0, '기준': 0, '업종': 0, '사업': 0, '핵심': 0, '경쟁력': 0, '자동': 0, '차주': 0, '오후': 0, '상한': 0, '달성': 0, '통신': 0, '급락': 0, '전세계': 0, '스위트홈': 0, '열풍': 0, '콘텐츠': 0, '포스코': 0, '아우': 0, '체결': 0, '유지': 0, '주목': 0, '폭등': 0, '파수': 0, '완성': 0, '매출': 0, '이상': 0, '토탈': 0, '금융': 0, '솔루션': 0, '제공': 0, '도약': 0, '긍정': 0, '재료': 0, '반영': 0, '펀더': 0, '멘털': 0, '괴리': 0, '유의': 0, '동원': 0, '대명동': 0, '이천동': 0, '지역': 0, '주택조합': 0, '테마': 0, '보궐선거': 0, '부동산': 0, '안정화': 0, '진력': 0, '창수': 0, '유진': 0, '부회장': 0, '시대': 0, '도전': 0, '쟁취': 0, '정신': 0, '파워': 0, '프라': 0, '상반기': 0, '추세': 0, '노바': 0, '인터': 0, '로조': 0, '주식': 0, '취득': 0, '대체': 0, '부실': 0, '주의': 0, '방천': 0, '플러스': 0, '운용': 0, '회장': 0, '가계': 0, '자산': 0, '연금': 0, '연간': 0, '최대': 0, '실적': 0, '대감': 0, '교직원': 0, '소득': 0, '학생': 0, '노트북': 0, '지원': 0, '케미칼': 0, '확대': 0, '경기': 0, '순풍': 0, '바디': 0, '텍메드': 0, '코로나': 0, '중화': 0, '항체': 0, '진단': 0, '키트': 0, '완료': 0, '필요': 0, '모닝': 0, '인사이트': 0, '종목': 0, '오라클': 0, '상신': 0, '손실': 0, '우려': 0, '반전': 0, '상향': 0, '균형성장': 0, '집중': 0, '효과': 0, '가능성': 0, '홀딩스': 0, '모비스': 0, '아이오': 0, '조기': 0, '출시': 0, '후시': 0, '돌진': 0, '한화': 0, '출발': 0, '여기': 0, '이벤트': 0, '테슬라': 0, '판매': 0, '호조': 0, '고지': 0, '진입': 0, '한국': 0, '비엔': 0, '골든': 0, '치료': 0, '후보': 0, '개국': 0, '독점': 0, '제조': 0, '하림': 0, '양재동': 0, '토지': 0, '임대차': 0, '공동': 0, '주택': 0, '신축': 0, '공사': 0, '수주': 0, '인트로메딕': 0, '캡슐': 0, '내시경': 0, '추진': 0, '케어': 0, '혈장': 0, '관련': 0, '장기': 0, '위험': 0, '선호': 0, '지속': 0, '공매도': 0, '쉼표': 0, '현재': 0, '출자': 0, '필러': 0, '구축': 0, '위해': 0, '자회사': 0, '추가': 0, '국영': 0, '앤엠': 0, '탄소': 0, '중립': 0, '혜주': 0, '부각': 0, '기술': 0, '국내': 0, '철광석': 0, '가격': 0, '철강': 0, '투자자': 0, '한도': 0, '베트남': 0, '간접': 0, '시스': 0, '엠티': 0, '싱가포르': 0, '경제': 0, '지난해': 0, '위축': 0, '공식': 0, '쇼핑': 0, '호주': 0, '건설': 0, '서초': 0, '엘에스': 0, '트릭': 0, '엔피씨': 0, '고려': 0, '시멘트': 0, '직스': 0, '대림': 0, '점검': 0, '경전철': 0, '보수': 0, '로템': 0, '대동제': 0, '한마음': 0, '기원': 0, '이노베이션': 0, '배터리': 0, '시가총액': 0, '라이센스': 0, '티움': 0, '상장폐지': 0, '개사': 0, '최현': 0, '비즈니스': 0, '과학기술인공제회': 0, '회원': 0, '업무': 0, '담당자': 0, '실무': 0, '교육': 0, '이러닝': 0, '과정': 0, '개설': 0, '리움': 0, '카본': 0, '손병두': 0, '거래소': 0, '불법': 0, '방지': 0, '사전': 0, '사후': 0, '간문제': 0, '턱걸이': 0, '개월': 0, '볼빅': 0, '대안': 0, '폭발': 0, '호텔': 0, '항공기': 0, '삼화': 0, '전기': 0, '익머': 0, '트리': 0, '대통령': 0, '발언': 0, '닛케이지수': 0, '속도': 0, '연결': 0, '극복': 0, '금감원': 0, '기반': 0, '플랫폼': 0, '하이닉스': 0, '상위': 0, '제약': 0, '동진': 0, '쎄미켐': 0, '셀트리온': 0, '스케': 0, '채권자': 0, '파산신청': 0, '확정': 0, '디바이스': 0, '디스플레이': 0, '장비': 0, '공급': 0, '디지탈': 0, '노블': 0, '주주': 0, '변경': 0, '화학': 0, '대위': 0, '지수': 0, '뉴욕증시': 0, '방금': 0, '잘못': 0, '거지': 0, '오늘이': 0, '무덤': 0, '국제': 0, '호스': 0, '휘발': 0, '윳값': 0, '지난주': 0, '전국': 0, '평균': 0, '네스': 0, '성실': 0, '공시': 0, '법인': 0, '지정': 0, '예고': 0, '한스': 0, '바이': 0, '오메': 0, '신용': 0, '융자': 0, '잔고': 0, '하루': 0, '조광': 0, '조회': 0, '요구': 0, '벽두': 0, '오퍼스': 0, '범양': 0, '건영': 0, '신한': 0, '인수': 0, '주인공': 0, '의무': 0, '보유': 0, '황소': 0, '눈앞': 0, '패러다임': 0, '선도': 0, '명가': 0, '현저': 0, '단숨': 0, '통상': 0, '디오스': 0, '박셀': 0, '수도': 0, '금융투자': 0, '진자': 0, '발생': 0, '군포': 0, '지금': 0, '가즈': 0, '삭제': 0, '게시': 0, '물의': 0, '답글': 0, '기네': 0, '안티': 0, '사망': 0, '아씨': 0, '바로': 0, '갈라': 0, '왜케올': 0, '일단': 0, '재생': 0, '장전': 0, '대주': 0, '영향': 0, '코멘트': 0, '답글왜': 0, '안해': 0, '악덕': 0, '흑우': 0, '평단': 0, '뉴스': 0, '대박': 0, '팔고': 0, '나와라': 0, '합격': 0, '통보': 0, '당시': 0, '주변': 0, '반응': 0, '시가': 0, '시긴': 0, '최고점': 0, '대한': 0, '도마': 0, '평가': 0, '그냥': 0, '설거지': 0, '적자': 0, '계룡': 0, '제로': 0, '임대': 0, '리츠': 0, '위탁': 0, '회사': 0, '해전': 0, '퍼블리싱': 0, '삼진': 0, '앤디': 0, '사주': 0, '처분': 0, '인탑스': 0, '테라': 0, '사이언스': 0, '발행': 0, '아리': 0, '회생': 0, '절차': 0, '무슨': 0, '자화': 0, '리퍼블릭': 0, '세미': 0, '제철': 0, '자기': 0, '컨퍼런스': 0, '이전': 0, '논의': 0, '크론': 0, '실시': 0, '동부': 0, '매각': 0, '우선': 0, '협상': 0, '대상자': 0, '미확정': 0, '타이거': 0, '울산': 0, '엔씨': 0, '소수주주': 0, '베스트': 0, '의결권': 0, '행사': 0, '금지': 0, '가처분': 0, '신청': 0, '영풍': 0, '제련소': 0, '행정처분': 0, '공영': 0, '금도': 0, '물량': 0, '리스크': 0, '방점': 0, '수요': 0, '일주일': 0, '전주': 0, '휘파람': 0, '법적': 0, '구제': 0, '검토': 0, '중국': 0, '선전': 0, '슈퍼': 0, '사이클': 0, '기대': 0, '단독주택': 0, '이노': 0, '스토리': 0, '렉스': 0, '브레인': 0, '목표': 0, '털썩': 0, '니드': 0, '애니플러스': 0, '아래': 0, '강관': 0, '경량': 0, '제품': 0, '가나': 0, '등장': 0, '올빼미': 0, '여전': 0, '근절': 0, '대책': 0, '이슈': 0, '세금': 0, '가업승계': 0, '원스톱': 0, '기업': 0, '본부': 0, '출범': 0, '안착': 0, '백신': 0, '방역': 0, '염불': 0, '영업': 0, '갈수': 0, '우량': 0, '베팅': 0, '박해': 0, '마켓': 0, '상장': 0, '실질': 0, '심사': 0, '사유': 0, '알티': 0, '캐스트': 0, '산타랠리': 0, '점증': 0, '자안': 0, '배정': 0, '유상증자': 0, '업계': 0, '워드': 0, '쇄도': 0, '시스템': 0, '오류': 0, '활황': 0, '철회': 0, '속출': 0, '티에스': 0, '스턴': 0, '유나이티드': 0, '탄력': 0, '청보': 0, '닉스': 0, '집콕': 0, '제일제당': 0, '유동성': 0, '경색': 0, '자금': 0, '안정': 0, '방한': 0, '전달': 0, '웹소설': 0, '웹툰': 0, '잡코리아': 0, '참여': 0, '자이앤트': 0, '페이': 0, '입성': 0, '눈길': 0, '성향': 0, '발판': 0, '물폭탄': 0, '고음': 0, '대우': 0, '균형': 0, '포트폴리오': 0, '이익': 0, '주자': 0, '국면': 0, '물류': 0, '흥행': 0, '신호': 0, '품질': 0, '차용': 0, '모터': 0, '합작': 0, '수혜': 0, '부품': 0, '급상승': 0, '글로벌화': 0, '밸류': 0, '매력': 0, '오늘': 0, '오전': 0, '유럽': 0, '주요': 0, '서비스': 0, '개시': 0, '길라잡이': 0, '자율': 0, '주행': 0, '바이두': 0, '자산운용': 0, '박학주': 0, '신임': 0, '대표이사': 0, '선임': 0, '아벨': 0, '퓨틱스': 0, '사이언티': 0, '메디프론': 0, '시너지': 0, '확장': 0, '브리핑': 0, '차입': 0, '포스코에너지': 0, '정책': 0, '확보': 0, '펀드': 0, '반등': 0, '진정': 0, '세계': 0, '지옥': 0, '상춘': 0, '금세': 0, '두산': 0, '퓨얼': 0, '연료': 0, '전지': 0, '와우': 0, '공개방송': 0, '관심': 0, '엠디': 0, '중국군': 0, '통제': 0, '조치': 0, '유입': 0, '정상화': 0, '이해': 0, '무엇': 0, '포비': 0, '스티': 0, '적격성': 0, '대상': 0, '시간': 0, '의견': 0, '하향': 0, '성과급': 0, '김원규': 0, '넘버원': 0, '중형': 0, '고비': 0, '회복': 0, '신라': 0, '자격': 0, '교체': 0, '네트웍': 0, '흑자': 0, '업황': 0, '바닥': 0, '자체': 0, '악재': 0, '불가피': 0, '방위': 0, '개선': 0, '체력': 0, '과도': 0, '동화': 0, '본격': 0, '친환경': 0, '아스콘': 0, '설비': 0, '대웅제약': 0, '중증': 0, '환자': 0, '시험': 0, '계획': 0, '승인': 0, '팬오션': 0, '카운트': 0, '해소': 0, '경쟁': 0, '심화': 0, '글로비스': 0, '부진': 0, '성장동력': 0, '하이': 0, '비중': 0, '성과': 0, '나스': 0, '미디어': 0, '빅데이터': 0, '광고': 0, '역량': 0, '가치': 0, '불확실': 0, '뉴딜': 0, '수소': 0, '인프라': 0, '모멘텀': 0, '동시': 0, '드론': 0, '특허': 0, '스위스': 0, '협력': 0, '양도': 0, '조직': 0, '개편': 0, '공격': 0, '행보': 0, '상태': 0, '초점': 0, '택배': 0, '단가': 0, '인상': 0, '통운': 0, '장마': 0, '인텍': 0, '서브': 0, '스트레이트': 0, '검사': 0, '법무': 0, '태평양': 0, '서동우': 0, '집행': 0, '변호사': 0, '취임': 0, '전시': 0, '자본': 0, '이득': 0, '비올': 0, '일본': 0, '병원체': 0, '인과': 0, '실펌': 0, '엑스': 0, '케이피': 0, '소식': 0, '납품': 0, '실리콘': 0, '웍스': 0, '현우': 0, '이엔드디': 0, '경창': 0, '인트론': 0, '메기': 0, '하나': 0, '아이': 0, '동서': 0, '위지트': 0, '서울': 0, '잠시': 0, '미니': 0, '피지': 0, '굿모닝': 0, '심리': 0, '수석': 0, '티어': 0, '협회': 0, '데이터': 0, '크기': 0, '활용': 0, '이진우': 0, '주간': 0, '호재': 0, '재는': 0, '지급': 0, '유안': 0, '접점': 0, '기업가': 0, '치평': 0, '산이': 0, '조직개편': 0, '단행': 0, '가치투자': 0, '대가': 0, '성수': 0, '위원장': 0, '사모펀드': 0, '사태': 0, '만전': 0, '이사장': 0, '적법': 0, '윤관석': 0, '정무': 0, '자본시장': 0, '질서': 0, '대금': 0, '리차': 0, '은행업': 0, '이자': 0, '케이프': 0, '도주': 0, '상투': 0, '야호': 0, '탈출': 0, '중이': 0, '자리': 0, '역사상': 0, '대세': 0, '불변': 0, '답글캬': 0, '백만원': 0, '달뒤': 0, '까락': 0, '묵자': 0, '기억': 0, '예수금': 0, '델타': 0, '환경': 0, '우호': 0, '클릭': 0, '새벽': 0, '배송': 0, '불안': 0, '공정': 0, '지주회사': 0, '컨트롤': 0, '타워': 0, '역할': 0, '요인': 0, '예상': 0, '강재': 0, '회복기': 0, '기초': 0, '풀필먼트': 0, '운임': 0, '레버리지': 0, '가즈프롬': 0, '가스': 0, '작년': 0, '여력': 0, '충분': 0, '국민연금': 0, '온라인': 0, '배너': 0, '가세': 0, '솔젠트': 0, '간담': 0, '개최': 0, '주관': 0, '사도': 0, '참석': 0, '린다': 0, '풍산': 0, '기존': 0, '정치': 0, '상회': 0, '앤트': 0, '레터': 0, '날개': 0, '코스트코': 0, '비밀': 0, '병기': 0, '여부': 0, '일정': 0, '대형주': 0, '크래프톤': 0, '출격': 0, '대기': 0, '수익': 0, '못처': 0, '시기': 0, '과열': 0, '트럼프': 0, '통신사': 0, '사랑': 0, '단연': 0, '소액': 0, '차지': 0, '메이트': 0, '금투협': 0, '적극': 0, '세제': 0, '뒷받침': 0, '장투': 0, '과세': 0, '무쌍': 0, '장밋빛': 0, '모두': 0, '축하': 0, '이번': 0, '추천': 0, '다산': 0, '이중': 0, '달리기': 0, '후의': 0, '쾌감': 0, '세진': 0, '킨스': 0, '동양': 0, '엔피': 0, '단기간': 0, '크로스': 0, '형성': 0, '전략': 0, '원년': 0, '최적': 0, '유니': 0, '체제': 0, '중점': 0, '에어부산': 0, '병석': 0, '내정자': 0, '구원투수': 0, '안고': 0, '형주': 0, '사라': 0, '룽투': 0, '스토어': 0, '파트너': 0, '지연': 0, '정일': 0, '일상': 0, '화로': 0, '제도': 0, '아비코': 0, '사적': 0, '텍티앤': 0, '티머니': 0, '단말기': 0, '고수': 0, '치열': 0, '애플': 0, '인포': 0, '뱅크': 0, '도달': 0, '에스케이': 0, '랩스': 0, '시리즈': 0, '대응': 0, '법원': 0, '허가': 0, '가속': 0, '여행': 0, '지주': 0, '나인': 0, '동아': 0, '화성': 0, '게임': 0, '네스엠': 0, '영업정지': 0, '제이': 0, '소프트웨어': 0, '기한': 0, '선포': 0, '코스모신소재': 0, '파크': 0, '시스템스': 0, '접속': 0, '장애': 0, '원인': 0, '파악': 0, '국방': 0, '과학': 0, '연구소': 0, '복구': 0, '달린다': 0, '대화': 0, '처음': 0, '머티리얼즈': 0, '옵티머스': 0, '활활': 0, '알미늄': 0, '동일': 0, '브레이크': 0, '메탈': 0, '라이프': 0, '플로우': 0, '태림': 0, '포장': 0, '판지': 0, '박스': 0, '데이': 0, '함박': 0, '웃음': 0, '엘앤': 0, '텐배거': 0, '향기': 0, '아이디': 0, '거래처': 0, '부문': 0, '단장': 0, '맞이': 0, '나라': 0, '궈밍쩡': 0, '안타': 0, '트렌드': 0, '노력': 0, '유증': 0, '납입': 0, '확립': 0, '메가톤': 0, '구조조정': 0, '한국프랜': 0, '시트': 0, '카브': 0, '아웃': 0, '총상': 0, '위주': 0, '유사': 0, '상폐': 0, '근접': 0, '대치': 0, '은행권': 0, '대출': 0, '재개': 0, '당국': 0, '개입': 0, '모두투어': 0, '더블': 0, '과연': 0, '잡기': 0, '곳간': 0, '회사채': 0, '분주': 0, '폭풍': 0, '효성': 0, '티앤': 0, '희비': 0, '오텍': 0, '민주주의': 0, '국가': 0, '설계': 0, '전장': 0, '트레인': 0, '선점': 0, '아웃소싱': 0, '원리금': 0, '연체': 0, '분류': 0, '가이드라인': 0, '원자재': 0, '방긋': 0, '견조': 0, '전체': 0, '마리': 0, '토끼': 0, '조명': 0, '수도권매립지': 0, '티스': 0, '투명': 0, '교정': 0, '박차': 0, '정문화': 0, '단자': 0, '코러스': 0, '호중': 0, '등락': 0, '푸드': 0, '나무': 0, '다이어트': 0, '인구': 0, '리서치': 0, '알음': 0, '방전': 0, '인팩': 0, '익일': 0, '해성': 0, '지지율': 0, '터치': 0, '성도': 0, '오토': 0, '에버': 0, '약세': 0, '기부': 0, '사자': 0, '듀오': 0, '크리스탈': 0, '지노': 0, '러시아': 0, '아셀': 0, '신약': 0, '폴리': 0, '말레이시아': 0, '이건': 0, '콤보': 0, '기우': 0, '엘오티베큠': 0, '넷게임즈': 0, '월덱스': 0, '피티': 0, '차세대': 0, '상사': 0, '엑시콘': 0, '랩셀': 0, '심텍': 0, '넥스': 0, '임상시험': 0, '미래': 0, '도입': 0, '품목': 0, '아스': 0, '결합': 0, '접종': 0, '확산': 0, '악화': 0, '훌쩍': 0, '거듭': 0, '중반': 0, '윤리': 0, '의식': 0, '강조': 0, '중심': 0, '저변': 0, '어룡': 0, '대신': 0, '모델': 0, '재편': 0, '만도': 0, '물산': 0, '교차': 0, '고통': 0, '통합': 0, '독보': 0, '입지': 0, '정보': 0, '인증': 0, '전자서명': 0, '진출': 0, '패스': 0, '아크': 0, '공세': 0, '선두': 0, '선진': 0, '싸이': 0, '토젠': 0, '러브콜': 0, '도시바': 0, '임원': 0, '승진': 0, '스타트업': 0, '연수': 0, '사후관리': 0, '충성': 0, '적정': 0, '서희': 0, '퓨쳐켐': 0, '접근': 0, '대원': 0, '전선': 0, '경보': 0, '난치': 0, '혈액암': 0, '치료법': 0, '원료': 0, '바이든': 0, '정부': 0, '티타늄': 0, '획득': 0, '최신': 0, '녹스': 0, '롯데': 0, '하이마트': 0, '쇼핑몰': 0, '진행': 0, '위협': 0, '내부통제': 0, '실천': 0, '김지': 0, '전문': 0, '긴급': 0, '중외': 0, '모건': 0, '콘퍼런스': 0, '참가': 0, '정남준': 0, '공무원': 0, '대전': 0, '제조업체': 0, '부정': 0, '채용': 0, '극적': 0, '화웨이': 0, '제재': 0, '클라우드': 0, '위메이드': 0, '미르': 0, '소비자': 0, '마음': 0, '힐스테이트': 0, '아파트': 0, '경쟁률': 0, '단독': 0, '폰지사기': 0, '자문': 0, '구속': 0, '철퇴': 0, '보툴리눔톡신': 0, '착수': 0, '십만': 0, '경남': 0, '은행': 0, '외환거래': 0, '우대': 0, '차이나': 0, '장치': 0, '배분': 0, '시그널': 0, '절반': 0, '확충': 0, '생명': 0, '정상': 0, '특화된': 0, '커리큘럼': 0, '의료경영': 0, '육성': 0, '한양대': 0, '전형': 0, '신입생': 0, '모집': 0, '부담': 0, '규제': 0, '소형': 0, '브랜드': 0, '똘똘': 0, '현상': 0, '송도국제도시': 0, '분양': 0, '문의': 0, '희소성': 0, '한세상': 0, '가평': 0, '퍼스트': 0, '달라': 0, '모건스탠리': 0, '예측': 0, '식사': 0, '탈환': 0, '남호': 0, '파생상품': 0, '인사말': 0, '송구': 0, '헬로비전': 0, '니즈': 0, '치사': 0, '넥슨': 0, '폭탄': 0, '홍콩': 0, '뉴욕': 0, '채권': 0, '실물': 0, '금융시장': 0, '불균형': 0, '부채': 0, '역습': 0, '알콜': 0, '지방': 0, '간염': 0, '감독': 0, '선언': 0, '주도': 0, '넵튠': 0, '영원회귀': 0, '방송': 0, '카카오': 0, '메인': 0, '스폰서': 0, '모니터링': 0, '재고': 0, '방준혁': 0, '넷마블': 0, '코웨이': 0, '의장': 0, '사옥': 0, '바통': 0, '연일': 0, '르노': 0, '기아차': 0, '여파': 0, '욕심': 0, '공포': 0, '공존': 0, '버냉키': 0, '금리': 0, '신세계': 0, '지스': 0, '창사': 0, '브렉': 0, '런던': 0, '잠재': 0, '사고': 0, '인베스트먼트': 0, '테이스티': 0, '헌재': 0, '변호사시험': 0, '공고': 0, '효력': 0, '인용': 0, '부족': 0, '우세': 0, '윤곽': 0, '집값': 0, '다우': 0, '나스닥': 0, '김주하': 0, '앵커': 0, '위장': 0, '재혼': 0, '전용': 0, '백태': 0, '세상': 0, '돋보기': 0, '은퇴': 0, '파이어': 0, '인기': 0, '국산': 0, '장사': 0, '지붕': 0, '로라': 0, '인즈': 0, '뉴로켐': 0, '통해': 0, '개정': 0, '딜링룸': 0, '재수': 0, '통과': 0, '애니원': 0, '점프': 0, '동반': 0, '재발': 0, '아르': 0, '뒤뱅': 0, '최화정': 0, '완판': 0, '고공': 0, '갱신': 0, '코앞': 0, '곡성': 0, '심청': 0, '상품권': 0, '할인': 0, '선완': 0, '위안': 0, '영구': 0, '후순위채': 0, '이서': 0, '우수': 0, '중소기업': 0, '유공': 0, '포상': 0, '수여': 0, '허용': 0, '선택': 0, '세포': 0, '단계': 0, '발표': 0, '그린타운': 0, '미국': 0, '라이선스': 0, '신청서': 0, '플리': 0, '결과': 0, '당뇨병': 0, '지배': 0, '동의': 0, '플로리다주': 0, '코스트': 0, '뱅킹': 0, '찰스': 0, '셰이퍼': 0, '아롱': 0, '쉬샤오우': 0, '전무': 0, '이사': 0, '임명': 0, '영국': 0, '몰리나': 0, '마젤란': 0, '완전': 0, '진료': 0, '보고서': 0, '실버': 0, '제의': 0, '수동': 0, '다제내성': 0, '세균': 0, '감염': 0, '육군': 0, '의학': 0, '연구': 0, '사령부': 0, '협업': 0, '몽두옹': 0, '석탄': 0, '화력발전소': 0, '합의': 0, '메르': 0, '카돌': 0, '리브': 0, '취임식': 0, '둥펑': 0, '차량': 0, '판매량': 0, '상하이': 0, '헨리': 0, '우스': 0, '생명공학': 0, '인타스': 0, '연도': 0, '엔터프라이즈': 0, '구매': 0, '의사결정': 0, '컨텐츠': 0, '택용': 0, '대마초': 0, '재배': 0, '전력': 0, '정통': 0, '구독': 0, '해지': 0, '유아': 0, '리오': 0, '도스': 0, '유전자': 0, '천연가스': 0, '퍼거슨': 0, '파운드': 0, '월슬리': 0, '화요일': 0, '아침': 0, '성공': 0, '구성': 0, '프로세스': 0, '스카이': 0, '라이트': 0, '건강': 0, '말초신경': 0, '병증': 0, '브로커': 0, '서부': 0, '줄리': 0, '보트': 0, '전함': 0, '본토': 0, '차오': 0, '지유': 0, '로저스': 0, '밸리': 0, '보통주': 0, '보증': 0, '별도': 0, '캘리포니아': 0, '남부': 0, '숙련': 0, '간호': 0, '구글': 0, '노동자': 0, '노조': 0, '영진': 0, '긴장': 0, '고조': 0, '블룸버그': 0, '순위': 0, '비공개': 0, '전주곡': 0, '파일': 0, '라이': 0, '회계': 0, '동안': 0, '본사': 0, '석유': 0, '로부터': 0, '주문': 0, '메이슨': 0, '테라스': 0, '마트': 0, '지브롤터': 0, '블루햇': 0, '특정': 0, '리뉴얼': 0, '협의': 0, '업데이트': 0, '식품': 0, '실험': 0, '엔조': 0, '생화학': 0, '바이러스': 0, '사스': 0, '코브': 0, '합동': 0, '검체': 0, '테스트': 0, '비상': 0, '사용': 0, '직접': 0, '의사': 0, '지향': 0, '우정': 0, '저축은행': 0, '궈신수앙': 0, '상무이사': 0, '사임': 0, '하차': 0, '시브': 0, '유닛': 0, '수정': 0, '번호': 0, '입력': 0, '덱신': 0, '백만': 0, '주식회사': 0, '사항': 0, '인슐렛': 0, '분쟁': 0, '콘덴세이트': 0, '세대': 0, '향후': 0, '기간': 0, '트란스포르': 0, '지안': 0, '의약품': 0, '안전': 0, '브리스톨': 0, '마이': 0, '어스': 0, '스퀴브': 0, '이성': 0, '위암': 0, '제인': 0, '오프': 0, '디보': 0, '볼루': 0, '확인': 0, '분기': 0, '정기': 0, '혼합': 0, '쉘프': 0, '항법': 0, '주입': 0, '배당금': 0, '설정': 0, '프리뷰': 0, '조지아주': 0, '상원': 0, '결선': 0, '호이스': 0, '경쟁심': 0, '벌크선': 0, '김용진': 0, '사각': 0, '지대': 0, '개혁': 0, '시급': 0, '모바일': 0, '브루킹스': 0, '유틸리티': 0, '스프린트': 0, '무선': 0, '파리': 0, '밀라노': 0, '예정': 0, '합병': 0, '방안': 0, '모색': 0, '중량': 0, '만기': 0, '매입': 0, '제안': 0, '우시': 0, '블록': 0, '트레이드': 0, '유저': 0, '시니어': 0, '지폐': 0, '소셜': 0, '팟캐스팅': 0, '차단기': 0, '트위터': 0, '블로그': 0, '포스트': 0, '모든': 0, '위성': 0, '질환': 0, '일선': 0, '퍼시픽': 0, '멘타리': 0, '교외': 0, '아바': 0, '신주': 0, '협정': 0, '킹스': 0, '웨이': 0, '캐피털': 0, '보험': 0, '대해': 0, '언급': 0, '토플': 0, '라인': 0, '젤리': 0, '파마': 0, '일환': 0, '시오': 0, '항진': 0, '가공': 0, '저장': 0, '텐기': 0, '텡기': 0, '환경기술': 0, '담보': 0, '정유': 0, '띠해': 0, '헬렌': 0, '스타인': 0, '플레어': 0, '텔다': 0, '부꾸미': 0, '인터넷': 0, '삼국지': 0, '카뱅': 0, '케뱅': 0, '토뱅': 0, '엔지니어링': 0, '우즈베키스탄': 0, '발전': 0, '프로젝트': 0, '입찰': 0, '요청': 0, '휴스턴': 0, '챔피언': 0, '임박': 0, '손해': 0, '배상': 0, '다음': 0, '한국판': 0, '마중': 0, '관제': 0, '흑역사': 0, '훌루': 0, '유통': 0, '앰모': 0, '초과': 0, '부스': 0, '제약회사': 0, '명칭': 0, '허브': 0, '영양': 0, '환매': 0, '어바인': 0, '자사': 0, '유가': 0, '연장': 0, '의료': 0, '성명': 0, '적용': 0, '순이익': 0, '오즈': 0, '공모': 0, '중국해': 0, '정보전': 0, '리더십': 0, '하버': 0, '디스커버리': 0, '독립': 0, '편지': 0, '테트라': 0, '분할': 0, '컬럼비아': 0, '신탁': 0, '활동': 0, '에스테': 0, '인터내셔널': 0, '광동': 0, '한페이': 0, '배지': 0, '산둥': 0, '생물': 0, '조건': 0, '상환': 0, '제휴': 0, '고속도로': 0, '선출': 0, '등급': 0, '샤먼': 0, '추앙': 0, '운명': 0, '일반': 0, '브룩필드': 0, '소개': 0, '기자': 0, '트윗': 0, '제상': 0, '미화': 0, '노트': 0, '호르몬': 0, '결핍': 0, '소아': 0, '화이': 0, '코로': 0, '접수': 0, '리버': 0, '분산': 0, '존슨': 0, '버윈': 0, '정밀': 0, '플랜': 0, '향상': 0, '예비': 0, '명명': 0, '창설': 0, '아파치': 0, '이사회': 0, '스트리밍': 0, '포함': 0, '과산화뇨': 0, '도시': 0, '중추': 0, '등록': 0, '대형': 0, '사이프레스': 0, '샤르자': 0, '에미리트': 0, '마하': 0, '필드': 0, '생체검사': 0, '사이트': 0, '현지': 0, '분야': 0, '홀로그램': 0, '민영화': 0, '인정': 0, '위원회': 0, '로렌스': 0, '마운틴': 0, '파이': 0, '낸스': 0, '상용': 0, '대국': 0, '지능': 0, '커뮤니티': 0, '물리': 0, '소유': 0, '화투': 0, '홀로': 0, '코람코': 0, '갤러리아': 0, '광교': 0, '디지털화': 0, '동참': 0, '대규모': 0, '불공정': 0, '리테일': 0, '차별': 0, '상품': 0, '가장': 0, '합리화': 0, '한빛소프트': 0, '신작': 0, '계열': 0, '환원': 0, '황현': 0, '디톡스': 0, '윤리경영': 0, '총괄': 0, '이두식': 0, '부사': 0, '이통': 0, '제한': 0, '월드': 0, '사회': 0, '표창장': 0, '수상': 0, '희망': 0, '메시지': 0, '전해': 0, '화해': 0, '잭팟': 0, '기동': 0, '인덕션': 0, '카메라': 0, '갤럭시': 0, '공개': 0, '손태': 0, '우리금융': 0, '다방면': 0, '편의점': 0, '세븐일레븐': 0, '격차': 0, '준비': 0, '철저': 0, '점진': 0, '상단': 0, '개척': 0, '우리': 0, '운동': 0, '워치': 0, '중공업': 0, '컨소': 0, '각축': 0, '버블': 0, '보험사': 0, '한솔교육': 0, '튜터': 0, '핀덴': 0, '맥스': 0, '스튜디오': 0, '드래곤': 0, '솔로': 0, '스틱스': 0, '가시': 0, '배수': 0, '타겟': 0, '버핏': 0, '베이': 0, '조스': 0, '실패': 0, '히든': 0, '알파': 0, '윈드': 0, '호평': 0, '팔자': 0, '초반': 0, '항암': 0, '매트릭스': 0, '콘덴서': 0, '경인': 0, '동국제강': 0, '수성': 0, '고속': 0, '열차': 0, '관리종목': 0, '문턱': 0, '구간': 0, '포트': 0, '지난달': 0, '기여': 0, '체질': 0, '카바': 0, '이오': 0, '급식': 0, '조선해': 0, '엔비': 0, '돌입': 0, '풍력': 0, '동력': 0, '가능': 0, '팬데믹': 0, '봉쇄': 0, '위안화': 0, '줄다리기': 0, '삼일': 0, '유튜브': 0, '부회': 0, '관리제': 0, '영상': 0, '엔씨소프트': 0, '산업화': 0, '초입': 0, '방산': 0, '유량': 0, '무산': 0, '망치': 0, '카페': 0, '커머스': 0, '네이버': 0, '작용': 0, '전담': 0, '민주당': 0, '장악': 0, '육박': 0, '대한항공': 0, '화물': 0, '하반기': 0, '여객': 0, '이유': 0, '마윈': 0, '실종': 0, '알리바바': 0, '한숨': 0, '백오피스': 0, '철도': 0, '껑충': 0, '선별': 0, '일리': 0, '체인': 0, '일만': 0, '대우건설': 0, '마테라': 0, '병학': 0, '스틸': 0, '루트': 0, '변종': 0, '자신': 0, '줄줄이': 0, '조선업': 0, '폭락': 0, '낙폭': 0, '디셈버': 0, '쿼터백': 0, '파운트': 0, '일임': 0, '한솔': 0, '방향': 0, '의미': 0, '이틀': 0, '감사': 0, '정족수': 0, '프리': 0, '디티': 0, '최종': 0, '금호': 0, '어디': 0, '명신': 0, '문배': 0, '견인': 0, '채비': 0, '제강': 0, '모빌리티': 0, '유진기업': 0, '선사': 0, '타진': 0, '테이': 0, '팩스': 0, '유독': 0, '무료': 0, '앤지': 0, '외인': 0, '후퇴': 0, '조세': 0, '장세': 0, '곡선': 0, '제주항공': 0, '조선': 0, '일제': 0, '뱃고동': 0, '수주량': 0, '감동': 0, '보통': 0, '존경': 0, '디아': 0, '역시': 0, '세력': 0, '주네': 0, '거품': 0, '호구': 0, '실시간': 0, '하나요': 0, '어제': 0, '인사': 0, '단일': 0, '아주': 0, '포인터': 0, '쓰레기': 0, '마치': 0, '개관': 0, '덕분': 0, '모처럼': 0, '정도': 0, '떡락': 0, '포기': 0, '이돈': 0, '못버는줄암': 0, '존버': 0, '삼스디': 0, '탈락': 0, '한가지': 0, '계엄령': 0, '재선': 0, '엘지': 0, '밥캣': 0, '진에어': 0, '재무': 0, '상황': 0, '다운': 0, '신평': 0, '화가': 0, '관건': 0, '작품': 0, '연동': 0, '배당률': 0, '올레': 0, '첨단': 0, '소재': 0, '셀룰로스': 0, '맑음': 0, '스타트': 0, '이마트': 0, '식수': 0, '블루': 0, '웨이브': 0, '불안감': 0, '카톡': 0, '서기': 0, '부분': 0, '섹터': 0, '패권': 0, '부별': 0, '조지아': 0, '선거': 0, '신호탄': 0, '쌍용차': 0, '베어링': 0, '다수': 0, '산유': 0, '불발': 0, '금값': 0, '예의': 0, '주시': 0, '캐시': 0, '버닝': 0, '조달': 0, '투표': 0, '논란': 0, '만화': 0, '아카이브': 0, '신발': 0, '일본도': 0, '낙오': 0, '요기': 0, '이동': 0, '단기채': 0, '달새': 0, '유출': 0, '증후군': 0, '촉각': 0, '리나': 0, '부활': 0, '생생': 0, '확대경': 0, '운동장': 0, '야후': 0, '재팬': 0, '아시아나': 0, '항공': 0, '증익': 0, '저가': 0, '유효': 0, '간밤': 0, '끝내': 0, '감안': 0, '다우지수': 0, '삐걱': 0, '공화당': 0, '실태': 0, '관계': 0, '어치': 0, '넷플릭스': 0, '제작사': 0, '후끈': 0, '이라크': 0, '국도화학': 0, '공업': 0, '헬릭스': 0, '미스': 0, '선대': 0, '천스닥': 0, '성큼': 0, '꿋꿋': 0, '신용등급': 0, '꼬리표': 0, '막판': 0, '에이트': 0, '번역': 0, '음성인식': 0, '엘솔루': 0, '협약': 0, '파죽지세': 0, '노루': 0, '페인트': 0, '고려아연': 0, '마스터': 0, '하이비젼': 0, '내화': 0, '콘텐트': 0, '적기': 0, '방침': 0, '벌써': 0, '사기': 0, '연루': 0, '스킨': 0, '턱밑': 0, '훼손': 0, '반대': 0, '한진': 0, '외주': 0, '차례': 0, '이탈': 0, '금융허브': 0, '씨젠': 0, '출신': 0, '이호': 0, '재차': 0, '조준': 0, '아마존': 0, '버크셔': 0, '헤이븐': 0, '해체': 0, '델리': 0, '컨슈머': 0, '삼천': 0, '문과': 0, '비주': 0, '정관': 0, '내달': 0, '압승하': 0, '코스': 0, '특허권': 0, '유비': 0, '픽업': 0, '이버멕틴': 0, '명문제약': 0, '소프트': 0, '자재': 0, '행렬': 0, '가선': 0, '박용진': 0, '의원': 0, '엄정': 0, '처벌': 0, '체시스': 0, '신흥': 0, '경동제약': 0, '송정': 0, '약품': 0, '궤도': 0, '부상': 0, '덩달아': 0, '노터스': 0, '고심': 0, '웹젠': 0, '안갯속': 0, '상보': 0, '구성요건': 0, '최소': 0, '에이치엘비': 0, '리보': 0, '세라': 0, '간암': 0, '시판': 0, '농심홀딩스': 0, '추출': 0, '엠스': 0, '지나': 0, '굴뚝': 0, '포효': 0, '사모': 0, '타이어': 0, '반덤핑': 0, '최악': 0, '루스': 0, '대연': 0, '구역': 0, '재건축': 0, '정비': 0, '흑석': 0, '시공사': 0, '중고차': 0, '셀카': 0, '동해': 0, '부산': 0, '마크': 0, '청담러닝': 0, '벤처캐피탈': 0, '차기': 0, '인선': 0, '산아이': 0, '앤티': 0, '패닉': 0, '바잉': 0, '꿈틀': 0, '닮은꼴': 0, '트루': 0, '조합': 0, '재개발': 0, '코퍼레이션': 0, '일류': 0, '직원': 0, '주식매수청구권': 0, '오르비': 0, '삼강': 0, '엠앤티': 0, '블록딜': 0, '여신': 0, '카드': 0, '이체': 0, '먹통': 0, '입시': 0, '비리': 0, '정경': 0, '항소심': 0, '재판': 0, '항공사': 0, '제동': 0, '텔레콤': 0, '조이시티': 0, '소외': 0, '땡큐': 0, '타이밍': 0, '오픈': 0, '전량': 0, '패널': 0, '소프트캠프': 0, '코오롱': 0, '무학': 0, '퓨쳐': 0, '스트림': 0, '버프': 0, '이스트': 0, '아시아': 0, '산타클로스': 0, '국도': 0, '오케이': 0, '헤럴드': 0, '아카데미': 0, '영어': 0, '케이크': 0, '러시': 0, '이씨': 0, '유경': 0, '생각': 0, '네덜란드': 0, '세라믹': 0, '외면': 0, '정장': 0, '가지': 0, '유니콘': 0, '대미': 0, '중후': 0, '장대': 0, '마저': 0, '구리': 0, '케이디': 0, '테크놀로지': 0, '우선주': 0, '합치': 0, '파스': 0, '전격': 0, '오빌': 0, '일부': 0, '불허': 0, '탄원서': 0, '제출': 0, '경고': 0, '매매': 0, '동향': 0, '탁금': 0, '빅쇼': 0, '마이클': 0, '로스': 0, '퍼랩스': 0, '신도': 0, '기연': 0, '신재생에너지': 0, '제어': 0, '대아': 0, '티아이': 0, '선물옵션': 0, '수수료': 0, '컨테이너선': 0, '원강': 0, '마케팅': 0, '센트럴': 0, '실탄': 0, '총력': 0, '세방': 0, '주춤': 0, '도세': 0, '리드': 0, '예방': 0, '투여': 0, '경동나비엔': 0, '디티알': 0, '모티브': 0, '테스': 0, '계양': 0, '칼럼': 0, '농화': 0, '더블유': 0, '다우기술': 0, '빙그레': 0, '아베': 0, '로보': 0, '스타': 0, '아이엠': 0, '입금': 0, '건전성': 0, '에쓰': 0, '엔텍': 0, '위험성': 0, '매제': 0, '필로': 0, '에스엠': 0, '에스에프': 0, '제레미': 0, '순항': 0, '알루코': 0, '투톱': 0, '재원': 0, '마련': 0, '영림': 0, '비영리': 0, '뷰노': 0, '전립선': 0, '식약처': 0, '암세포': 0, '살상': 0, '증식': 0, '경제학': 0, '거목': 0, '동성': 0, '창업': 0, '피플': 0, '행성': 0, '혈액': 0, '생방송': 0, '월말': 0, '비디아이': 0, '에누리': 0, '비교': 0, '보어': 0, '선박': 0, '국내외': 0, '캐스': 0, '포드': 0, '머스탱': 0, '송재경': 0, '세아': 0, '남양유업': 0, '불개미': 0, '급감': 0, '남선': 0, '국무회의': 0, '태양광': 0, '기계': 0, '운행': 0, '리포트': 0, '반도': 0, '기사': 0, '대덕': 0, '교육부': 0, '진로': 0, '체험': 0, '다이아': 0, '아세아': 0, '가짜': 0, '기단': 0, '트롤': 0, '마무리': 0, '췌장암': 0, '아미': 0, '코젠': 0, '애경': 0, '유화': 0, '기업은행': 0, '적립': 0, '예금': 0, '중도': 0, '특례': 0, '케이씨씨': 0, '글라스': 0, '해상': 0, '환인제약': 0, '화천': 0, '기공': 0, '휠라': 0, '코리안리': 0, '송원': 0, '월스트리트': 0, '초기': 0, '주로': 0, '피하': 0, '표적': 0, '비온': 0, '가파른': 0, '무형': 0, '남발': 0, '레몬': 0, '청구': 0, '보령제약': 0, '덕산': 0, '룩스': 0, '세븐': 0, '메리츠화재': 0, '해마': 0, '대한해운': 0, '남해': 0, '엘리베이터': 0, '고민': 0, '디티앤': 0, '효능': 0, '이비': 0, '페그제': 0, '폐지': 0, '대폭': 0, '한계': 0, '부합': 0, '벽산': 0, '타고': 0, '버스': 0, '자수': 0, '양극화': 0, '대동단결': 0, '절상': 0, '율촌': 0, '전자인증': 0, '잉크': 0, '인지': 0, '온스': 0, '제지': 0, '장난': 0, '에어로': 0, '스페이스': 0, '알츠하이머': 0, '젬백스': 0, '한라': 0, '비앤티': 0, '종근당': 0, '코텍': 0, '팜스코': 0, '인천': 0, '창동': 0, '북항': 0, '센터': 0, '풀무원': 0, '티케': 0, '스타벅스': 0, '커피': 0, '쿠폰': 0, '증정': 0, '학년': 0, '정시': 0, '원서': 0, '대학': 0, '공항철도': 0, '대한민국': 0, '가덕도': 0, '공항': 0, '거제': 0, '다나': 0, '지기': 0, '승명': 0, '실업': 0, '금제': 0, '가열': 0, '선행': 0, '홍길': 0, '용의': 0, '열전': 0, '정책금융': 0, '한컴': 0, '위드': 0, '신년인사': 0, '당부': 0, '고시': 0, '국회의원': 0, '차환': 0, '인원': 0, '김진태': 0, '손상': 0, '차손': 0, '인식': 0, '하라': 0, '금융위': 0, '어려움': 0, '생명보험': 0, '보폭': 0, '모채': 0, '형제': 0, '생활': 0, '뷰티': 0, '팁시': 0, '가까이': 0, '내부': 0, '강의': 0, '포문': 0, '이포': 0, '주거지': 0, '실행': 0, '와이드': 0, '기능': 0, '도움': 0, '아연': 0, '함유': 0, '실사': 0, '고배': 0, '만회': 0, '아스타': 0, '투어': 0, '앤드': 0, '리조트': 0, '페이지뷰': 0, '안건': 0, '외화': 0, '본드': 0, '동영상': 0, '가이드': 0, '엣지': 0, '로지': 0, '엑스트라': 0, '틴티드': 0, '라이너': 0, '잉글리시': 0, '현금화': 0, '안개': 0, '방법': 0, '표시': 0, '캐나다': 0, '장쑤': 0, '중리': 0, '부대': 0, '태양': 0, '톈치': 0, '리튬': 0, '찬성': 0, '네이티': 0, '참여자': 0, '약물': 0, '영역': 0, '아파티닙': 0, '말레이': 0, '태블릿': 0, '인증서': 0, '메모': 0, '안보': 0, '보좌': 0, '동맹': 0, '무역': 0, '프라이': 0, '채무': 0, '젬데일': 0, '미쓰비시': 0, '북미': 0, '대의': 0, '상업': 0, '유로': 0, '광중': 0, '아드': 0, '입원': 0, '개념': 0, '증명': 0, '선악': 0, '데크': 0, '준수': 0, '톈진': 0, '궈카': 0, '이루': 0, '이토': 0, '폐기': 0, '탁주': 0, '지적': 0, '리온': 0, '캐피탈': 0, '라이즈': 0, '할당': 0, '이창': 0, '창장': 0, '염화물': 0, '장내': 0, '로드': 0, '원유': 0, '변동성': 0, '빅뱅': 0, '집결': 0, '증유': 0, '띄우기': 0, '나선': 0, '이하': 0, '슈퍼스타': 0, '누구': 0, '제조업': 0, '해벽': 0, '컨트리': 0, '가든': 0, '보류': 0, '달러화': 0, '미끄럼': 0, '자원부': 0, '마진': 0, '선회': 0, '투심': 0, '그리폰': 0, '콰트로': 0, '에임스': 0, '유타주': 0, '충전': 0, '서명': 0, '아이디어': 0, '모니카': 0, '로자': 0, '옥스포드': 0, '결재': 0, '서약': 0, '리소스': 0, '동펑': 0, '크라이슬러': 0, '로서': 0, '물고기': 0, '고립': 0, '자원': 0, '힌다위': 0, '선빔': 0, '알렉산드리아': 0, '네프': 0, '모듈': 0, '부여': 0, '공유': 0, '안함': 0, '도요타': 0, '고아': 0, '치매': 0, '급성': 0, '동요': 0, '평온': 0, '종말': 0, '충족': 0, '헬리': 0, '허가증': 0, '비타': 0, '구슈': 0, '사퇴': 0, '간펑': 0, '핀치': 0, '위치': 0, '전립선암': 0, '레이': 0, '세슘': 0, '브라': 0, '요법': 0, '씨앗': 0, '간극': 0, '시리우스': 0, '양성': 0, '휴가': 0, '하이테크': 0, '소수': 0, '레인지': 0, '군납': 0, '하모니': 0, '이턴': 0, '문의서': 0, '코팅': 0, '웨스트': 0, '워터': 0, '우라늄': 0, '언스': 0, '신장': 0, '라샤펠': 0, '패션': 0, '상거래': 0, '보하이': 0, '보스턴': 0, '도리': 0, '증대': 0, '헤지': 0, '포지션': 0, '생태계': 0, '라트': 0, '네트워크': 0, '이스라엘': 0, '판결': 0, '공통': 0, '테네시': 0, '안강': 0, '전표': 0, '역외': 0, '에펠': 0, '기금': 0, '양해각서': 0, '터키': 0, '논문': 0, '도이체방크': 0, '촉진': 0, '교통량': 0, '투숙': 0, '웰빙': 0, '스낵': 0, '만리장성': 0, '벨트': 0, '도로': 0, '항저우': 0, '비난': 0, '플래닛': 0, '지침': 0, '공매': 0, '랑드': 0, '계약서': 0, '혼다': 0, '브로드웨이': 0, '낸셜': 0, '수령': 0, '존스턴': 0, '아티': 0, '금주': 0, '조가': 0, '디럭스': 0, '비디오': 0, '모금': 0, '고자': 0, '우현': 0, '거버넌스': 0, '서신': 0, '선반': 0, '촉매': 0, '가디언즈': 0, '당선자': 0, '식민지': 0, '담당': 0, '책임자': 0, '미감': 0, '금액': 0, '이름': 0, '분자': 0, '생체': 0, '부제': 0, '고정': 0, '셧다운': 0, '기지': 0, '엔터': 0, '연내': 0, '압승': 0, '던킨': 0, '베스킨라빈스': 0, '장보기': 0, '페북': 0, '회감': 0, '코리아세븐': 0, '운전': 0, '진행중': 0, '내년': 0, '드림': 0, '몸값': 0, '이베이': 0, '이커머스': 0, '지각': 0, '김태동': 0, '차의과학대': 0, '학교': 0, '교수': 0, '국회': 0, '정책학': 0, '날벼락': 0, '호흡기': 0, '로이': 0, '정저우': 0, '유퉁': 0, '잠정': 0, '건선': 0, '관절염': 0, '관절': 0, '피부': 0, '증상': 0, '애쉬': 0, '티파니': 0, '건의': 0, '사례': 0, '봉인': 0, '중앙': 0, '억제': 0, '선량': 0, '대부분': 0, '중간': 0, '독성': 0, '조립': 0, '웨이하이': 0, '타이': 0, '돕기': 0, '파이프라인': 0, '어르신': 0, '경제력': 0, '여가': 0, '경로당': 0, '데일리안': 0, '박원순': 0, '피소': 0, '남인순': 0, '맹폭': 0, '배달': 0, '장님': 0, '담배': 0, '소비': 0, '판례': 0, '에듀윌': 0, '중개사': 0, '민법': 0, '민사': 0, '특별법': 0, '심정욱': 0, '세스코': 0, '음식점': 0, '지명': 0, '올리브': 0, '아리랑': 0, '정보화': 0, '다음주': 0, '개막': 0, '존림': 0, '데뷔전': 0, '하이엔드': 0, '주거': 0, '상업시설': 0, '안양': 0, '판테온': 0, '스퀘어': 0, '빚투': 0, '고등': 0, '장서': 0, '걸음': 0, '이지스': 0, '관망': 0, '고양시': 0, '개발부담금': 0, '납부': 0, '지역화폐': 0, '정액': 0, '조연': 0, '주연': 0, '연중': 0, '못난이': 0, '트리오': 0, '주역': 0, '교보': 0, '선물': 0, '급부': 0, '독과점': 0, '공정위': 0, '나이': 0, '서울시': 0, '보일러': 0, '설치': 0, '전세': 0, '가율': 0, '오피스텔': 0, '조성아': 0, '번가': 0, '웨어': 0, '영업일': 0, '키포인트': 0, '파라다이스': 0, '드라마': 0, '일일': 0, '약정': 0, '그래픽': 0, '일지': 0, '카지노': 0, '반란': 0, '사막': 0, '클래스': 0, '각성': 0, '전승': 0, '티라유텍': 0, '호황': 0, '카이': 0, '노스': 0, '메드': 0, '둔화': 0, '전통': 0, '탈바꿈': 0, '자신감': 0, '경계': 0, '양해': 0, '부터': 0, '근무': 0, '화장실': 0, '상관': 0, '가면': 0, '벌금': 0, '손절': 0, '딜레마': 0, '진격': 0, '옥석': 0, '권한': 0, '골드만삭스': 0, '산적': 0, '탄탄': 0, '최상': 0, '총서': 0, '패배': 0, '종이': 0, '호랑이': 0, '거론': 0, '대량생산': 0, '하이트진로': 0, '규정': 0, '위반': 0, '공신': 0, '활짝': 0, '연합': 0, '시론': 0, '결제': 0, '완화': 0, '씨티': 0, '마이크론': 0, '업그레이드': 0, '강릉': 0, '베뉴': 0, '신기원': 0, '반납': 0, '관리인': 0, '연기금': 0, '켄달': 0, '크게': 0, '삼이': 0, '경품': 0, '쏜다': 0, '천장': 0, '유주': 0, '카나': 0, '단백뇨': 0, '적응': 0, '열기': 0, '텐센트': 0, '등정': 0, '더하기': 0, '시행': 0, '항우울제': 0, '프로모션': 0, '공간': 0, '정보산업': 0, '애견': 0, '버전': 0, '솔루': 0, '에타': 0, '방열': 0, '생수': 0, '부자': 0, '하이텍': 0, '파주': 0, '캠프': 0, '자이언트': 0, '개리': 0, '오언': 0, '민간': 0, '무상증자': 0, '정용택': 0, '기차': 0, '벤츠': 0, '광정': 0, '상해': 0, '가권': 0, '항셍': 0, '한독': 0, '디어': 0, '인공': 0, '지표': 0, '가후': 0, '캔들': 0, '음봉': 0, '오늘밤': 0, '예감': 0, '달전': 0, '오직': 0, '직진': 0, '텍팜': 0, '작살': 0, '조정은': 0, '제일': 0, '인간': 0, '다지': 0, '순식간': 0, '안주': 0, '괴리율': 0, '자랑': 0, '이상은': 0, '팩트': 0, '지평': 0, '선위': 0, '라임': 0, '불투명': 0, '투시': 0, '시어스': 0, '컨소시엄': 0, '신바람': 0, '지도': 0, '일시': 0, '타격': 0, '그림': 0, '대성': 0, '하나마이크론': 0, '나파': 0, '주유소': 0, '배스킨라빈스': 0, '드라이브스루': 0, '입점': 0, '발족': 0, '더욱': 0, '엘리트': 0, '이제': 0, '신내역': 0, '시티': 0, '디움': 0, '타입': 0, '메모리': 0, '설명': 0, '팩토리': 0, '거리': 0, '두기': 0, '분율': 0, '소주': 0, '맥주': 0, '가도': 0, '출처': 0, '다변': 0, '비즈': 0, '진원': 0, '스프레이': 0, '멀리': 0, '기적': 0, '주물': 0, '제일기획': 0, '눈높이': 0, '기회비용': 0, '광속': 0, '수급': 0, '박정원': 0, '이글': 0, '의료기기': 0, '백화점': 0, '이노션': 0, '캡티브': 0, '비용': 0, '절감': 0, '특수': 0, '소흥': 0, '실화': 0, '에이치': 0, '사우디': 0, '자발': 0, '감산': 0, '경제지표': 0, '성능': 0, '깜짝': 0, '충격': 0, '백서': 0, '미러': 0, '비율': 0, '폴디드': 0, '면세점': 0, '상대': 0, '선방': 0, '라운드': 0, '밀고': 0, '플레이': 0, '스먼트': 0, '에이전트': 0, '특사': 0, '증원': 0, '중소': 0, '보나': 0, '서프라이즈': 0, '압도': 0, '벌린다': 0, '어닝': 0, '수혜자': 0, '다각': 0, '실현': 0, '악조건': 0, '컨센서스': 0, '째깍': 0, '블레이드앤소울': 0, '리니지': 0, '경험': 0, '숫자': 0, '향방': 0, '호실': 0, '복귀': 0, '시동': 0, '흐름': 0, '매물': 0, '소화': 0, '인테리어': 0, '모델링': 0, '랜드': 0, '하방경직성': 0, '시흥시': 0, '승률': 0, '가운데': 0, '넘사벽': 0, '유일': 0, '외감법': 0, '개정안': 0, '오락가락': 0, '장관': 0, '전화': 0, '집단지성': 0, '도우미': 0, '스펙': 0, '자제': 0, '윤지': 0, '파리크라상': 0, '비결': 0, '레이더': 0, '환호': 0, '방향성': 0, '자가진단': 0, '파미셀': 0, '줄기세포': 0, '생존': 0, '에쓰오일': 0, '무증': 0, '격화': 0, '삼전': 0, '나흘': 0, '조처': 0, '얼마나': 0, '바짝': 0, '반려견': 0, '홈쇼핑': 0, '용품': 0, '현대인': 0, '슬라이드': 0, '견인차': 0, '힐링': 0, '양수': 0, '언택트': 0, '로이터': 0, '이정표': 0, '레이텍': 0, '김상곤': 0, '시도': 0, '무디스': 0, '금융위기': 0, '역경': 0, '날자': 0, '포스': 0, '핵산': 0, '직설': 0, '관우': 0, '연세대': 0, '산학': 0, '수면': 0, '호흡': 0, '상당': 0, '신제품': 0, '애널': 0, '리스트': 0, '오피스': 0, '세로': 0, '콜드': 0, '로이스': 0, '산다': 0, '인성': 0, '주주명부': 0, '폐쇄': 0, '다믈': 0, '멀티미디어': 0, '라마': 0, '스판덱스': 0, '교공': 0, '창립': 0, '주년': 0, '운용체계': 0, '공주': 0, '공룡': 0, '탄생': 0, '사학': 0, '보건': 0, '티넷': 0, '차익': 0, '양물': 0, '만료': 0, '소리바다': 0, '소송': 0, '디지텍': 0, '도시가스': 0, '녹원': 0, '액트': 0, '상생': 0, '보마': 0, '그네': 0, '활약': 0, '주식매수선택권': 0, '에스티': 0, '큐브': 0, '렙솔': 0, '반락': 0, '일가': 0, '토종': 0, '역차별': 0, '가결': 0, '니스': 0, '서남': 0, '이즈': 0, '인터뷰': 0, '변영선': 0, '공익': 0, '해결': 0, '연대': 0, '풀기': 0, '스푸트니크': 0, '스톡옵션': 0, '데코': 0, '당선인': 0, '계기': 0, '유망': 0, '열사': 0, '서린': 0, '김대호': 0, '소리': 0, '동성제약': 0, '국립': 0, '유방암': 0, '정치권': 0, '진성': 0, '노로': 0, '네트': 0, '베이스': 0, '아메리카': 0, '외채': 0, '알리페': 0, '고객정보': 0, '명령': 0, '횡령': 0, '혐의': 0, '검찰': 0, '수사': 0, '뉴딜정책': 0, '색소': 0, '이형성': 0, '입증': 0, '고용': 0, '레드힐': 0, '질병': 0, '블루문': 0, '오버': 0, '옵션': 0, '전면': 0, '주바': 0, '포텐': 0, '지팡': 0, '이베코': 0, '피크': 0, '선샤인': 0, '스탠다드': 0, '마일': 0, '스톤': 0, '픽사': 0, '난징': 0, '표본': 0, '희진': 0, '터빈': 0, '범위': 0, '행정명령': 0, '대륙': 0, '교환': 0, '통계': 0, '희귀': 0, '형태': 0, '근육': 0, '오로라': 0, '의향': 0, '베이징': 0, '미지': 0, '보증금': 0, '즉시': 0, '사이일': 0, '귀속': 0, '출력': 0, '엔비디아': 0, '무기': 0, '조사': 0, '감시': 0, '리처드슨': 0, '일렉트로닉스': 0, '임시': 0, '원자력': 0, '배치': 0, '하푼': 0, '월간': 0, '수입': 0, '노미': 0, '알레그': 0, '글래트펠터': 0, '비우벤스': 0, '집계': 0, '의도': 0, '컴캐스트': 0, '로치': 0, '충칭': 0, '장안': 0, '동월': 0, '램지': 0, '무살람': 0, '의학박사': 0, '외대': 0, '보호국': 0, '결론': 0, '오웬': 0, '논평': 0, '녹색': 0, '에베레스트': 0, '의약': 0, '펜타곤': 0, '록히드': 0, '마틴': 0, '권리': 0, '점유': 0, '뉴타운': 0, '겸상': 0, '성인': 0, '최고재': 0, '무책임': 0, '콘솔': 0, '단위': 0, '페이스북': 0, '워싱턴': 0, '폭력': 0, '사우스': 0, '중부': 0, '목록': 0, '올인': 0, '프런티어': 0, '상호': 0, '주스': 0, '아메리칸': 0, '피터': 0, '젯센': 0, '돼지': 0, '형님': 0, '반격': 0, '사면': 0, '피해': 0, '기약': 0, '대체로': 0, '지주사': 0, '터닝': 0, '전성': 0, '부결': 0, '열매': 0, '신원': 0, '문제': 0, '고함': 0, '레저': 0, '윈덤': 0, '사이즈': 0, '과소': 0, '다롄': 0, '잉커우': 0, '카니발': 0, '회전': 0, '이주': 0, '상가': 0, '이성재': 0, '퇴진': 0, '차터': 0, '리스': 0, '검시관': 0, '스포츠': 0, '문서': 0, '보안': 0, '자싱': 0, '블링크': 0, '상각': 0, '타임즈': 0, '플러그': 0, '로건': 0, '미실': 0, '시정': 0, '탕렌센': 0, '호그': 0, '모포': 0, '이성준': 0, '말기': 0, '구강': 0, '항바이러스제': 0, '방파제': 0, '논리': 0, '유럽연합': 0, '모데나': 0, '권고': 0, '자릿수': 0, '수액': 0, '투입': 0, '루브리컨츠': 0, '등판': 0, '인플레': 0, '파티': 0, '극심': 0, '스팩': 0, '창원': 0, '정정': 0, '넥스트': 0, '용두': 0, '허위': 0, '모멘트': 0, '와이즈': 0, '배임': 0, '고소장': 0, '피씨': 0, '굴레': 0, '포유': 0, '유플러스': 0, '이재호': 0, '사외이사': 0, '퇴임': 0, '윤성수': 0, '전운': 0, '장외': 0, '재테크': 0, '성지': 0, '선진국': 0, '진화': 0, '복병': 0, '관문': 0, '황금': 0, '스프': 0, '에이스': 0, '반토막': 0, '비명': 0, '범용': 0, '배포': 0, '씨앤투스': 0, '성진': 0, '균등': 0, '방식': 0, '사채': 0, '자료': 0, '능선': 0, '제시': 0, '프리미엄': 0, '수준': 0, '데이타': 0, '니아': 0, '일등': 0, '툴젠': 0, '류허': 0, '건수': 0, '홀딩': 0, '명의': 0, '노비알': 0, '육종': 0, '마르크': 0, '종양': 0, '계정': 0, '마이크로': 0, '사직': 0, '티엘아이': 0, '모래': 0, '운송': 0, '탱커': 0, '소아과': 0, '미라': 0, '보충': 0, '바이잉': 0, '진장': 0, '한푸': 0, '팩터링': 0, '패터슨': 0, '시추': 0, '가동': 0, '토우': 0, '블렌': 0, '침묵': 0, '데이비슨': 0, '스탠더드': 0, '차타드': 0, '양쯔': 0, '퇴직금': 0, '수송': 0, '교부': 0, '농협': 0, '비료': 0, '원망': 0, '여의도': 0, '금융업': 0, '우버': 0, '사이먼': 0, '퍼티': 0, '부탄가스': 0, '제관': 0, '므누신': 0, '승리': 0, '상하': 0, '이혜훈': 0, '샴페인': 0, '회계기준': 0, '뉴보텍': 0, '과징금': 0, '유로존': 0, '전월': 0, '나포': 0, '와중': 0, '이란': 0, '배상금': 0, '각오': 0, '재경': 0, '격진': 0, '재활': 0, '로봇': 0, '융합': 0, '기기': 0, '지마켓': 0, '옥션': 0, '일문일답': 0, '목적': 0, '네이처': 0, '달심': 0, '천연': 0, '어성초': 0, '비누': 0, '폼클렌징': 0, '만족': 0, '적금': 0, '썰물': 0, '차헬': 0, '괴리된': 0, '물가': 0, '포커스': 0, '게임개발': 0, '차법': 0, '빌라도': 0, '방통위': 0, '활성화': 0, '한시': 0, '유통업': 0, '한우': 0, '농가': 0, '김병욱': 0, '회의론': 0, '비판': 0, '천하': 0, '과거': 0, '몸살': 0, '처리': 0, '휴업': 0, '숙박': 0, '골탕': 0, '위례': 0, '이엠': 0, '소울': 0, '워커': 0, '려면': 0, '아야': 0, '알쏭달쏭': 0, '수탁': 0, '판단': 0, '멘티': 0, '브로': 0, '심기': 0, '불편': 0, '상치': 0, '요즘': 0, '파킹': 0, '불급': 0, '꼭대기': 0, '다다': 0, '살짝': 0, '오름': 0, '대장': 0, '누가': 0, '배갈': 0, '라나': 0, '대선': 0, '그것': 0, '출하': 0, '수의학': 0, '지식': 0, '투비소프트': 0, '세론': 0, '사업자': 0, '과잉': 0, '카자흐': 0, '증산': 0, '국민': 0, '뒤통수': 0, '태국': 0, '가인': 0, '패드': 0, '초도': 0, '서버': 0, '파운드리': 0, '장착': 0, '제놀루션': 0, '시약': 0, '기초자산': 0, '큐릭스': 0, '폐암': 0, '살균': 0, '톱픽': 0, '메디콕스': 0, '벌점': 0, '클리': 0, '간판': 0, '디지털대성': 0, '세코': 0, '레즈': 0, '오리엔트': 0, '정공': 0, '투자신탁': 0, '후성': 0, '돌발': 0, '조만간': 0, '그때': 0, '오스': 0, '류머티즘': 0, '미달': 0, '친환': 0, '경주': 0, '잡음': 0, '액면': 0, '이제야': 0, '기민': 0, '감주': 0, '해운': 0, '개량': 0, '각산': 0, '머스크': 0, '강판': 0, '타액': 0, '만년': 0, '윤창': 0, '김태승': 0, '때문': 0, '의류': 0, '팔만': 0, '편중': 0, '질적': 0, '활발': 0, '그늘': 0, '김용범': 0, '기재': 0, '차관': 0, '삼부': 0, '토건': 0, '톡시': 0, '공조': 0, '차병원': 0, '의료법': 0, '윌셔': 0, '그랜드': 0, '관광': 0, '군단': 0, '시즌': 0, '제주': 0, '일동': 0, '합법': 0, '공약': 0, '위법행위': 0, '회계사': 0, '적절': 0, '시엔': 0, '미리': 0, '조국': 0, '심의': 0, '정말': 0, '무죄': 0, '찾기': 0, '뛰어드': 0, '오염': 0, '상서': 0, '유동': 0, '재일': 0, '진양': 0, '류마티스': 0, '이연': 0, '지배구조': 0, '다양': 0, '양적': 0, '충방': 0, '목전': 0, '니켈': 0, '개별': 0, '마리화나': 0, '패키지': 0, '시위': 0, '난입': 0, '다우존스': 0, '아모레퍼시픽': 0, '울상': 0, '지지자': 0, '의회': 0, '빅히트': 0, '법률': 0, '토리': 0, '절세': 0, '취득세': 0, '먼저': 0, '불합리': 0, '반발': 0, '대기업': 0, '눈독': 0, '동남아': 0, '배럴': 0, '일레븐': 0, '상실': 0, '용산': 0, '유엔': 0, '사부': 0, '갈등': 0, '점화': 0, '국보': 0, '덴탈': 0, '마스크': 0, '민주': 0, '부양책': 0, '화성공장': 0, '유기': 0, '단열': 0, '박영선': 0, '문재인': 0, '티빙': 0, '중요성': 0, '대만': 0, '처럼': 0, '시점': 0, '외형': 0, '날로': 0, '바이옴': 0, '콜라겐': 0, '뮤신': 0, '앵콜': 0, '당분간': 0, '리지': 0, '년비': 0, '보툴리늄': 0, '사향': 0, '최선': 0, '혼란': 0, '매니저': 0, '병용': 0, '디램': 0, '센스': 0, '진통제': 0, '싱가폴': 0, '투신': 0, '킨덱스': 0, '비소': 0, '얼비': 0, '툭스': 0, '인건비': 0, '전날': 0, '불응': 0, '체면': 0, '나침반': 0, '퇴색': 0, '천수답': 0, '탈피': 0, '가려진': 0, '추월': 0, '뇌관': 0, '백악관': 0, '그동안': 0, '미반': 0, '디자인': 0, '방직': 0, '설범': 0, '고소': 0, '아이티': 0, '완판된': 0, '엠게임': 0, '승부': 0, '내일': 0, '스팸': 0, '레드': 0, '스팸문자': 0, '전송': 0, '재단': 0, '호점': 0, '셀루메드': 0, '반월': 0, '연골': 0, '대체재': 0, '루켄테크놀러': 0, '코스피지수': 0, '피앤': 0, '시범': 0, '발견': 0, '쌍끌이': 0, '국고': 0, '교촌': 0, '앤비': 0, '기피': 0, '차라리': 0, '티슈': 0, '베셀': 0, '왕따': 0, '마이더스': 0, '보사': 0, '아산': 0, '높이': 0, '시흥': 0, '복지관': 0, '케이원': 0, '잭스': 0, '삼정': 0, '김택진': 0, '이매진': 0, '본계약': 0, '코센': 0, '찬물': 0, '공단': 0, '개점': 0, '퀀텀': 0, '물가상승률': 0, '체외': 0, '자진': 0, '취하': 0, '필옵틱스': 0, '동기': 0, '무게': 0, '초대형': 0, '면목': 0, '어음': 0, '양호': 0, '마찰': 0, '돌연': 0, '풍년': 0, '언제': 0, '정리': 0, '전신': 0, '마취제': 0, '레미': 0, '메드팩토': 0, '서비스업': 0, '후속': 0, '압력': 0, '어깨': 0, '외국': 0, '빅딜': 0, '승선': 0, '개월치': 0, '보상금': 0, '퇴직': 0, '인력': 0, '투하': 0, '접어드': 0, '레고': 0, '천안': 0, '오목': 0, '쿠팡': 0, '화전': 0, '퀄컴': 0, '스마트폰': 0, '로열티': 0, '입국': 0, '매우': 0, '실망': 0, '유니세프': 0, '콜레라': 0, '낙관': 0, '편향': 0, '자외선': 0, '차단': 0, '소문': 0, '바오밥': 0, '프린터': 0, '고분자': 0, '딘퓨쳐스': 0, '중화권': 0, '터사': 0, '회수': 0, '화수분': 0, '소용': 0, '고압': 0, '밸브': 0, '간만': 0, '삼보': 0, '라텍': 0, '샤넬': 0, '반한': 0, '리딩': 0, '순서도': 0, '믿음': 0, '미미': 0, '전보': 0, '직후': 0, '인민': 0, '절하': 0, '이랜텍': 0, '트리플': 0, '크라운': 0, '비관': 0, '랜덤': 0, '다른': 0, '다국적': 0, '약사': 0, '센싱': 0, '얼마': 0, '하나텍': 0, '최강': 0, '한파': 0, '폭설': 0, '겨울철': 0, '보드': 0, '광진': 0, '윈텍': 0, '우림': 0, '디피': 0, '바톤': 0, '열람': 0, '등사': 0, '출사표': 0, '바이옵트': 0, '필리핀': 0, '스템': 0, '씨아이': 0, '프라임': 0, '혼돈': 0, '좌담': 0, '리제': 0, '양전기': 0, '의사당': 0, '지지': 0, '체포': 0, '닉티': 0, '증세': 0, '부양': 0, '랜드마크': 0, '임금': 0, '조대림': 0, '알폰소': 0, '레인': 0, '엑세스': 0, '추카': 0, '광장': 0, '르미': 0, '이내': 0, '중통': 0, '홍콩달러': 0, '이두': 0, '세부': 0, '파트': 0, '야다': 0, '합계': 0, '주장': 0, '소프트뱅크': 0, '맞춤': 0, '프록시': 0, '명세서': 0, '보존': 0, '유전학': 0, '샘플': 0, '지오': 0, '오일': 0, '모자': 0, '쿠베르': 0, '리더': 0, '스택': 0, '록스': 0, '사내': 0, '합류': 0, '로켓': 0, '분사': 0, '헝태': 0, '우이': 0, '결의': 0, '알닐람': 0, '헬리오스': 0, '신경증': 0, '해트르': 0, '아밀로이드증': 0, '여량': 0, '농업': 0, '쓰촨': 0, '켈룬': 0, '제노': 0, '쿠투즈맙': 0, '패스트': 0, '트랙': 0, '혈관': 0, '역학': 0, '영원': 0, '송산': 0, '리아드': 0, '링컨': 0, '자극': 0, '피치': 0, '재벌': 0, '리카싱': 0, '출원': 0, '타마': 0, '하원': 0, '브라질': 0, '소동': 0, '초유': 0, '점거': 0, '누리': 0, '가속도': 0, '꽁꽁': 0, '데자뷔': 0, '컴스코어': 0, '소매': 0, '세르베루스': 0, '자유': 0, '방임': 0, '용법': 0, '헌장': 0, '고개': 0, '일자리': 0, '증발': 0, '압박': 0, '번복': 0, '켄터키': 0, '볼링': 0, '알루미늄': 0, '쿠키런': 0, '킹덤': 0, '사전예약': 0, '렌터카': 0, '대열': 0, '한국인': 0, '동서대': 0, '스팀': 0, '보탠다': 0, '스탠': 0, '다임': 0, '발굴': 0, '광주': 0, '아델': 0, '에듀': 0, '힐즈': 0, '동구': 0, '이성호': 0, '빗겨': 0, '화서역': 0, '푸르지오': 0, '금일': 0, '환영': 0, '엿새': 0, '금고': 0, '의혹': 0, '소명': 0, '휴톡스': 0, '카자흐스탄': 0, '마약': 0, '시사': 0, '만평': 0, '전진': 0, '국채': 0, '도봉역': 0, '힐스': 0, '비뉴': 0, '촉구': 0, '소래포구': 0, '어시장': 0, '물품': 0, '도심': 0, '대구': 0, '경북': 0, '아울렛': 0, '경산': 0, '하양': 0, '앤유': 0, '배민': 0, '딜리': 0, '히어로': 0, '증자': 0, '우유': 0, '소보': 0, '직접투자': 0, '택했다': 0, '전이': 0, '웰스': 0, '광폭': 0, '대중': 0, '필름': 0, '기념': 0, '박수': 0, '힙입어': 0, '박현철': 0, '투교협': 0, '로레알': 0, '도찌': 0, '비트코인': 0, '고고': 0, '사서': 0, '뭉칫돈': 0, '마통': 0, '일개미': 0, '허탈': 0, '스팸관': 0, '하니': 0, '걱정': 0, '세월': 0, '낚시질': 0, '가야정': 0, '만하': 0, '탑승': 0, '손익': 0, '응원': 0, '고체': 0, '큰손': 0, '달이': 0, '반드시': 0, '이면': 0, '청원': 0, '목적지': 0, '어번': 0, '장시': 0, '정방': 0, '사이': 0, '공기업': 0, '분리': 0, '보도': 0, '컨버전': 0, '등재': 0, '청산': 0, '라이프스타일': 0, '장태': 0, '라이드': 0, '스콜': 0, '피오': 0, '캄캄': 0, '막스': 0, '친황다오': 0, '항구': 0, '테바': 0, '페리': 0, '크론병': 0, '유도': 0, '상적': 0, '건안': 0, '효소': 0, '시펑푸': 0, '하이난': 0, '보잉': 0, '범죄': 0, '요금': 0, '음모': 0, '헤븐': 0, '예일': 0, '대학교': 0, '클레오': 0, '소방': 0, '켐가드': 0, '집단소송': 0, '국제사법재판소': 0, '미만': 0, '중첩': 0, '측정': 0, '방법론': 0, '태양풍': 0, '해킹': 0, '서류': 0, '신세기': 0, '유학': 0, '사립': 0, '세미나': 0, '볼테라': 0, '단백질': 0, '분해': 0, '앨버말': 0, '네바다주': 0, '부지': 0, '불가능': 0, '데이비드': 0, '피컬': 0, '수행': 0, '면역성': 0, '지불': 0, '오리온': 0, '감히': 0, '승계': 0, '관행': 0, '연방': 0, '사관': 0, '모노크롬': 0, '제이드': 0, '버드': 0, '컨테이너': 0, '안구건조증': 0, '코호트': 0, '사인': 0, '간질': 0, '스텀': 0, '박사': 0, '수집': 0, '직판': 0, '이닝': 0, '파이낸싱': 0, '빅커스': 0, '릴란즈': 0, '황당': 0, '상대로': 0, '제기': 0, '체이스': 0, '수직': 0, '아스널': 0, '고형': 0, '멀티': 0, '쾰른': 0, '버클': 0, '건축': 0, '소콘': 0, '화학사': 0, '합성': 0, '고무': 0, '대우조선': 0, '해양': 0, '분식회계': 0, '명예': 0, '대법': 0, '파기': 0, '환송': 0, '머플러': 0, '인베': 0, '허영': 0, '바게뜨': 0, '민족': 0, '혜택': 0, '라인업': 0, '아들': 0, '사람': 0, '대거': 0, '텅쉰': 0, '클린': 0, '검찰청': 0, '월급': 0, '오류로': 0, '합리': 0, '추정': 0, '과속': 0, '두산인프라코어': 0, '마이너스': 0, '통장': 0, '당신': 0, '재앙': 0, '폭증': 0, '우울': 0, '화색': 0, '밀레': 0, '원칙': 0, '정면': 0, '충돌': 0, '좌우': 0, '대법원': 0, '폐기물': 0, '자식': 0, '연동제': 0, '한주': 0, '단번': 0, '고소공포증': 0, '캘린더': 0, '마디': 0, '완벽': 0, '변신': 0, '스파크': 0, '포퓰리즘': 0, '토스': 0, '본인': 0, '호전': 0, '원픽': 0, '기준서': 0, '가정': 0, '중학교': 0, '학원': 0, '홈스쿨링': 0, '학습': 0, '대면': 0, '안심': 0, '코어': 0, '총알': 0, '목소리': 0, '거대': 0, '자존심': 0, '훈풍': 0, '박동현': 0, '실장': 0, '행태': 0, '과태료': 0, '논쟁': 0, '망고': 0, '전반': 0, '샛별': 0, '디즈니': 0, '가입자': 0, '금융정책': 0, '연료비': 0, '한국전력': 0, '계심': 0, '박살': 0, '환승': 0, '체크': 0, '채굴': 0, '채광': 0, '허난': 0, '통지': 0, '비안': 0, '파월': 0, '머징': 0, '오윤': 0, '촨성': 0, '조짐': 0, '재정': 0, '지출': 0, '건가': 0, '혈우병': 0, '수술': 0, '일밤': 0, '재난': 0, '원금': 0, '답글안': 0, '익폭증': 0, '과일': 0, '밧데리': 0, '속결': 0, '최태원': 0, '결단': 0, '약진': 0, '기레기': 0, '공장화재': 0, '부탁': 0, '폭발사고': 0, '도매': 0, '동행': 0, '약화': 0, '성적표': 0, '중산층': 0, '행복': 0, '노후': 0, '요소': 0, '총수': 0, '부당': 0, '휘발유': 0, '붕괴': 0, '모비': 0, '릭스': 0, '시세': 0, '고액': 0, '프리미어': 0, '유전체': 0, '개발자': 0, '자격증': 0, '액면변경': 0, '하우스': 0, '테크노': 0, '동방': 0, '위태': 0, '컴퍼니': 0, '부장': 0, '으뜸': 0, '텔릭': 0, '캐리어': 0, '혜경': 0, '큐앤': 0, '신화': 0, '공급망': 0, '빛낼': 0, '파킨슨병': 0, '투약': 0, '유한양행': 0, '소복소복': 0, '집합': 0, '기구': 0, '환주': 0, '엠씨': 0, '판권': 0, '전자석': 0, '철기': 0, '드래곤라자': 0, '한강': 0, '파로스': 0, '신진': 0, '인스': 0, '코비': 0, '아피': 0, '선제': 0, '정치화': 0, '신규가입': 0, '미생물': 0, '패밀리': 0, '안팎': 0, '탄핵': 0, '대피': 0, '스페코': 0, '북한': 0, '열병': 0, '지속가능성': 0, '슬로건': 0, '옆집': 0, '뉴인텍': 0, '로그인': 0, '불만': 0, '폭주': 0, '운반': 0, '에탄': 0, '선용': 0, '보냉재': 0, '부생': 0, '온실가스': 0, '감축': 0, '탄소배출권': 0, '액면가': 0, '김희선': 0, '자이온': 0, '트레이딩': 0, '세포배양': 0, '기술이전': 0, '칩스': 0, '물질': 0, '천보': 0, '전해질': 0, '다스': 0, '봉담': 0, '차우': 0, '인방': 0, '매년': 0, '배출': 0, '기후': 0, '코윈': 0, '자동화': 0, '삼바': 0, '퀘스트': 0, '밋밋': 0, '화끈': 0, '도나': 0, '텔레': 0, '급사': 0, '개월새': 0, '힘겨루기': 0, '블랙리스트': 0, '반사': 0, '빅텍': 0, '심야': 0, '라이베리아': 0, '동거': 0, '팍스': 0, '위지윅': 0, '장르': 0, '소설': 0, '출판사': 0, '분투': 0, '출시일': 0, '탁월': 0, '아이폰': 0, '최선호': 0, '장바구니': 0, '곳곳': 0, '매기': 0, '영화': 0, '덴트': 0, '보냉제': 0, '수의': 0, '성년의날': 0, '휴장': 0, '인텔': 0, '분통': 0, '잔치': 0, '초상집': 0, '명사': 0, '특강': 0, '김난도': 0, '액티브': 0, '결성': 0, '나이키': 0, '비자': 0, '바보': 0, '위로': 0, '유혹': 0, '빅테크': 0, '초보': 0, '포모': 0, '엠브레인': 0, '솔론': 0, '예심': 0, '산업부': 0, '강매': 0, '부동': 0, '외국환': 0, '파업': 0, '가가': 0, '징둥': 0, '킹디': 0, '최은석': 0, '충주': 0, '철도공사': 0, '계약금': 0, '정국': 0, '혼선': 0, '도부': 0, '리얼': 0, '흡수': 0, '인수합병': 0, '주의보': 0, '베어드': 0, '테마주': 0, '낙수': 0, '널뛰기': 0, '롤러코스터': 0, '중개': 0, '주전자': 0, '검색': 0, '스윗': 0, '드오': 0, '소무': 0, '컬리': 0, '곡물': 0, '사료': 0, '발목': 0, '포춘': 0, '라운지': 0, '최대로': 0, '단타': 0, '유니슨': 0, '샘표식품': 0, '힘스': 0, '찍기': 0, '켐트': 0, '정규직': 0, '미코': 0, '스페': 0, '클립스': 0, '퓨처': 0, '스타일': 0, '커넥틀리': 0, '엠블럼': 0, '모태주': 0, '소비재': 0, '유니크': 0, '증착': 0, '슬금슬금': 0, '골칫거리': 0, '명예퇴직': 0, '엘티': 0, '해덕': 0, '특화': 0, '밴드': 0, '초대': 0, '조정만': 0, '기세': 0, '곤두박질': 0, '위력': 0, '명분': 0, '프로테옴': 0, '엠투': 0, '김정은': 0, '노동당': 0, '총비서': 0, '추대': 0, '주체': 0, '시반': 0, '헬문': 0, '찬스': 0, '입문': 0, '재미': 0, '승자': 0, '시외': 0, '개떡락': 0, '노출': 0, '답글음': 0, '저장장치': 0, '사실': 0, '핸드폰': 0, '타임': 0, '무시': 0, '답글내': 0, '존버하': 0, '워낙': 0, '금방': 0, '데뷔': 0, '에어비앤비': 0, '행업': 0, '리수': 0, '칠성': 0, '머니무브': 0, '강점': 0, '쇼크': 0, '양사': 0, '발현': 0, '도래': 0, '잔액': 0, '리기': 0, '김정남': 0, '에브리싱': 0, '무장': 0, '궐기': 0, '재연': 0, '나우': 0, '코세': 0, '레이저': 0, '가전': 0, '아티스트': 0, '중장': 0, '잠재력': 0, '주력': 0, '상계': 0, '공자': 0, '격의': 0, '텔라닥': 0, '인천공항': 0, '순조': 0, '하단': 0, '애물': 0, '전락': 0, '대란': 0, '낭패': 0, '수제': 0, '정오': 0, '수해': 0, '도중': 0, '진심': 0, '김민경': 0, '연구원': 0, '만발': 0, '오아시스': 0, '모회사': 0, '출동': 0, '음식': 0, '화재': 0, '매일경제': 0, '덩치': 0, '열광': 0, '뭐기': 0, '유상': 0, '생산자': 0, '위상': 0, '제품군': 0, '의심': 0, '재사용': 0, '만끽': 0, '팅크': 0, '실증': 0, '겹호재': 0, '에스엘': 0, '학우': 0, '주말': 0, '솔솔': 0, '어플': 0, '라이언스': 0, '초청': 0, '당국자': 0, '체적': 0, '블랙박스': 0, '사의': 0, '지온': 0, '사멸': 0, '흥국': 0, '아트': 0, '라스': 0, '금강': 0, '냄새': 0, '지난': 0, '난리': 0, '의상': 0, '승주': 0, '연기': 0, '정이': 0, '식이': 0, '론도': 0, '찌라시': 0, '조화': 0, '지화학': 0, '성우': 0, '진짜': 0, '동락': 0, '여러분': 0, '보급': 0, '역활': 0, '컴포넌트': 0, '니쥬': 0, '부작용': 0, '염두': 0, '달러인덱스': 0, '재택근무': 0, '홈코': 0, '점포': 0, '신영': 0, '엠에스': 0, '권위': 0, '수학': 0, '올림피아드': 0, '징둥팡': 0, '삼박자': 0, '하나투어': 0, '멘탈': 0, '인타': 0, '스파': 0, '멤버십': 0, '중소형주': 0, '수상자': 0, '쾌속': 0, '왕가': 0, '귀환': 0, '벡스': 0, '응급의료': 0, '산소': 0, '용마로지스': 0, '영하': 0, '스텔라': 0, '밀러': 0, '재활용': 0, '경찰공제회': 0, '명소': 0, '미국인': 0, '카톨릭대': 0, '인근': 0, '실과': 0, '스터디': 0, '휴게': 0, '토즈': 0, '미드': 0, '내용': 0, '난방': 0, '텐트': 0, '시장점유율': 0, '수미': 0, '데니': 0, '눈치': 0, '공방전': 0, '인니': 0, '의문': 0, '할리스': 0, '김유진': 0, '상무': 0, '서머': 0, '이용자': 0, '몰이': 0, '한창': 0, '엠포': 0, '대회': 0, '표창': 0, '알로': 0, '증진': 0, '제발': 0, '해시계': 0, '신디케이트': 0, '포지셔닝': 0, '코코': 0, '조이': 0, '스콤': 0, '돼지고기': 0, '발트해': 0, '명시': 0, '배급사': 0, '케화': 0, '획기': 0, '퍼싱': 0, '하워드': 0, '필립': 0, '모리스': 0, '호르헤': 0, '월별': 0, '사가': 0, '메트로': 0, '디트로이트': 0, '건물': 0, '엘란': 0, '바이엘': 0, '동물': 0, '위원': 0, '사레': 0, '몰리브덴': 0, '량신': 0, '간섭': 0, '리포터': 0, '칭다오': 0, '철탑': 0, '가물': 0, '자본금': 0, '노보': 0, '큐어': 0, '광산': 0, '사이프러스': 0, '이용': 0, '우드': 0, '스트라이크': 0, '울트라': 0, '아틀라스': 0, '란드': 0, '헨텐': 0, '작성': 0, '크리': 0, '먼트': 0, '파이프': 0, '미아': 0, '미타': 0, '바트': 0, '샤오': 0, '벡터': 0, '인터콘티넨탈': 0, '임팩트': 0, '퍼센트': 0, '퍼플': 0, '로마': 0, '억제제': 0, '나타': 0, '맥케이': 0, '포워드': 0, '리코': 0, '색인': 0, '휴일': 0, '회의': 0, '워크샵': 0, '포마': 0, '마린': 0, '에볼루션': 0, '페트': 0, '롤리': 0, '파레': 0, '나트륨': 0, '관성': 0, '부섬': 0, '인도': 0, '속성': 0, '임상실험': 0, '서류철': 0, '유홍': 0, '방수': 0, '드릴': 0, '대변인': 0, '월요일': 0, '남아메리카': 0, '근로자': 0, '약국': 0, '톨리': 0, '모드': 0, '통화': 0, '유기농': 0, '버거': 0, '중동': 0, '비만': 0, '시중': 0, '노마드': 0, '포테': 0, '냉동식품': 0, '아이언': 0, '제스': 0, '재산': 0, '상자': 0, '하이비전': 0, '텍트': 0, '라일': 0, '내셔널': 0, '펌프': 0, '보행': 0, '추적': 0, '간격': 0, '어버이': 0, '관점': 0, '다비': 0, '포산시': 0, '하수': 0, '소유권': 0, '룽다': 0, '육류': 0, '둔황': 0, '안지': 0, '프랑스': 0, '인플랙스': 0, '편평': 0, '월마트': 0, '사국': 0, '영사': 0, '자로': 0, '보글': 0, '발전소': 0, '순례': 0, '자의': 0, '자부심': 0, '롤러': 0, '치킨': 0, '원고': 0, '시아': 0, '부카부': 0, '터링': 0, '매니지먼트': 0, '미티': 0, '템퍼': 0, '씰리': 0, '미납': 0, '발열': 0, '스테이': 0, '플로': 0, '퀴리': 0, '음성': 0, '링크': 0, '게임스톱': 0, '연휴': 0, '매장': 0, '전자상거래': 0, '리미니': 0, '스트리트': 0, '중재': 0, '몽골': 0, '집단': 0, '오페라': 0, '스미스': 0, '조카': 0, '도의': 0, '기본': 0, '해독': 0, '요지': 0, '날짜': 0, '신소재': 0, '연꽃': 0, '가장자리': 0, '대동맥': 0, '판막': 0, '리콜': 0, '단종': 0, '시타델': 0, '어드바이저스': 0, '뇌진탕': 0, '급속': 0, '핸드': 0, '헬드': 0, '장밍성': 0, '페셔널': 0, '리야드': 0, '지점': 0, '닭고기': 0, '담합': 0, '법정': 0, '예방접종': 0, '갈수록': 0, '건설업': 0, '쿠라': 0, '초밥': 0, '라다': 0, '텔아비브': 0, '증거': 0, '바탕': 0, '라이언': 0, '테더': 0, '공화국': 0, '음악': 0, '카탈로그': 0, '비치': 0, '리모': 0, '연례': 0, '매버릭': 0, '시어': 0, '베이지': 0, '노바티스': 0, '성기': 0, '판게아': 0, '레스토랑': 0, '레모네이드': 0, '아덱스': 0, '젠로': 0, '랴오닝성': 0, '골드': 0, '쥬스': 0, '앨런': 0, '해밀턴': 0, '블랙스톤': 0, '브라운': 0, '부금': 0, '넵투누스': 0, '테크닉': 0, '사신': 0, '샌드': 0, '스톰': 0, '로프': 0, '중지': 0, '브릿지': 0, '브래드포드': 0, '화이트': 0, '허스트': 0, '헌팅턴': 0, '스플라이싱': 0, '봉사자': 0, '상품화': 0, '앓이': 0, '차등': 0, '재무제표': 0, '손상인': 0, '내주': 0, '프런트': 0, '여건': 0, '보이': 0, '투기': 0, '징후': 0, '치킨게임': 0, '정형외과': 0, '미수': 0, '오션': 0, '신대륙': 0, '탐사': 0, '직투': 0, '고사': 0, '사과': 0, '약속': 0, '카톡대화': 0, '화이자': 0, '총사': 0, '산자부': 0, '아동': 0, '학술': 0, '좌절': 0, '속락': 0, '여기저기': 0, '공공기관': 0, '기재부': 0, '기후변화': 0, '주지': 0, '김동우': 0, '시나': 0, '쿨파': 0, '챌린저스': 0, '안성': 0, '이투스': 0, '기숙': 0, '청담': 0, '사흘': 0, '볼륨': 0, '전직': 0, '무결': 0, '레더': 0, '볼보': 0, '포톤': 0, '피아트': 0, '단체': 0, '프루덴셜': 0, '리미': 0, '플라즈마': 0, '콜렉션': 0, '중대': 0, '재해': 0, '사회주의': 0, '노박': 0, '파르마': 0, '라스베이거스': 0, '미리암': 0, '남편': 0, '쉘던': 0, '죽음': 0, '진술': 0, '란저우': 0, '응용': 0, '수락': 0, '마크로': 0, '생물학': 0, '용량': 0, '잉카': 0, '타파': 0, '시타': 0, '보건부': 0, '타코': 0, '캡스': 0, '테드': 0, '모기지': 0, '파이온': 0, '라호야': 0, '레이드': 0, '기업인': 0, '플레이보이': 0, '셔터스톡': 0, '부주석': 0, '미학': 0, '노반': 0, '피닉스': 0, '아보': 0, '위츠': 0, '엔버릭': 0, '극성': 0, '다이렉트': 0, '블랙록': 0, '방코프': 0, '디안': 0, '국유재산': 0, '삼국': 0, '블레이드': 0, '아이비': 0, '선급금': 0, '한마디': 0, '중론': 0, '연승': 0, '무한': 0, '파버나': 0, '사이니': 0, '염화칼슘': 0, '광산업': 0, '워런': 0, '배제': 0, '센트': 0, '애틀랜타': 0, '총재': 0, '테이퍼링': 0, '광명': 0, '써니': 0, '오세훈': 0, '주상': 0, '복합': 0, '대로': 0, '입장': 0, '방기': 0, '태경': 0, '케미컬': 0, '드라이아이스': 0, '재택': 0, '탑스': 0, '저온': 0, '급여': 0, '펀드매니저': 0, '혈안': 0, '의존': 0, '중국인': 0, '황제': 0, '연우': 0, '와르르': 0, '상식': 0, '도발': 0, '단호': 0, '무난': 0, '홈발렛': 0, '파일럿': 0, '민감': 0, '노이즈': 0, '전자담배': 0, '전자부품': 0, '월배': 0, '핑거': 0, '뚜렷': 0, '화장': 0, '품사': 0, '서정': 0, '작가': 0, '지영': 0, '부메랑': 0, '하방': 0, '한섬': 0, '신용정보': 0, '대부': 0, '무상': 0, '감자': 0, '가상': 0, '수단': 0, '그림자': 0, '실체': 0, '수법': 0, '발송': 0, '국민소득': 0, '제국': 0, '관사': 0, '정다운': 0, '글쎄': 0, '양적완화': 0, '막내': 0, '만능': 0, '노동계': 0, '오르락내리락': 0, '반년': 0, '이동걸': 0, '쟁위': 0, '각서': 0, '내면': 0, '단돈': 0, '편이': 0, '후계': 0, '좌지우지': 0, '조바심': 0, '외끌': 0, '뮤직': 0, '중상': 0, '게다가': 0, '약제': 0, '용액': 0, '이화': 0, '라차': 0, '펠레': 0, '장잉': 0, '결심': 0, '칵테일': 0, '교육청': 0, '편입': 0, '샤인': 0, '사표': 0, '펜더': 0, '리프': 0, '세인트': 0, '코카콜라': 0, '플로리다': 0, '파나마': 0, '시더': 0, '그로': 0, '공원': 0, '에이커': 0, '제너럴': 0, '트드롭': 0, '포시즌스': 0, '싱화': 0, '다년': 0, '엔젤': 0, '랙티브': 0, '엔터테인먼트': 0, '뉴런': 0, '약간': 0, '능가': 0, '광둥성': 0, '신틸리맙': 0, '리안': 0, '전파': 0, '보상': 0, '용기': 0, '셰리': 0, '베이커': 0, '사우스웨스트': 0, '승무원': 0, '도착': 0, '자마자': 0, '서면': 0, '볼티모어': 0, '레스트': 0, '타일러': 0, '미주리주': 0, '잭슨': 0, '카운티': 0, '한우물': 0, '사연': 0, '기승': 0, '후유증': 0, '산둥성': 0, '광업': 0, '추기경': 0, '할리': 0, '리와이어': 0, '하드': 0, '와이어': 0, '이행': 0, '신속': 0, '콘크리트': 0, '상담': 0, '게시판': 0, '대웅': 0, '후반': 0, '지놈': 0, '기전': 0, '게재': 0, '상부': 0, '관용': 0, '강등': 0, '균주': 0, '학술지': 0, '초록': 0, '가온': 0, '초판': 0, '문정': 0, '르피': 0, '에드': 0, '북주': 0, '재현': 0, '서원': 0, '투자가': 0, '취소': 0, '파란': 0, '위프': 0, '트윈타워': 0, '애국': 0, '강력': 0, '순수': 0, '패소': 0, '세차': 0, '캐스팅': 0, '선익': 0, '외식': 0, '줄자': 0, '국동': 0, '송전': 0, '가파르': 0, '인더': 0, '쓴소리': 0, '스승': 0, '제자': 0, '에이지': 0, '스태디': 0, '탑재': 0, '내장': 0, '액세서리': 0, '품귀': 0, '위즈': 0, '코프': 0, '전류': 0, '양산': 0, '발사체': 0, '노스페이스': 0, '유수': 0, '유틸': 0, '한양': 0, '주가지수': 0, '시나리오': 0, '펜트하우스': 0, '군드라흐': 0, '극단': 0, '화장품': 0, '생활용품': 0, '베리': 0, '빗썸': 0, '에스제이': 0, '캉골': 0, '무인': 0, '식도': 0, '노크': 0, '기와': 0, '판정': 0, '끌빚투': 0, '소유진': 0, '세지': 0, '다날': 0, '사수': 0, '방어': 0, '전남': 0, '가수': 0, '골든디스크': 0, '주얼리': 0, '일링': 0, '무대': 0, '피로': 0, '인컴': 0, '복리': 0, '톡톡': 0, '방어전': 0, '태웅': 0, '제정': 0, '세단': 0, '기분': 0, '선봬': 0, '세이버': 0, '초음파': 0, '식기세척기': 0, '미스터': 0, '에오스': 0, '앱스토어': 0, '인더스': 0, '생명자원': 0, '갑론': 0, '정식': 0, '초보자': 0, '술술': 0, '발간': 0, '임원진': 0, '갈이': 0, '공백': 0, '활기': 0, '되레': 0, '여당': 0, '싸움': 0, '번지': 0, '이력': 0, '갑자기': 0, '놀란': 0, '투족': 0, '일레클': 0, '전기자전거': 0, '런칭': 0, '이뮤노믹': 0, '교모': 0, '현황': 0, '파고': 0, '엑슨모빌': 0, '명성': 0, '온기': 0, '주인': 0, '나이스': 0, '수조': 0, '기물': 0, '오히려': 0, '분노': 0, '선서': 0, '가로': 0, '료주': 0, '웨비': 0, '흥분': 0, '지위': 0, '도규': 0, '부위': 0, '원장': 0, '통한': 0, '이차전지': 0, '액션': 0, '인포그래픽': 0, '동국제약': 0, '등세': 0, '김성미': 0, '가라': 0, '무더기': 0, '몸집': 0, '매집': 0, '인플레이션': 0, '제거': 0, '필수': 0, '세원': 0, '삼지': 0, '기지개': 0, '유조선': 0, '리메드': 0, '한전기술': 0, '고영희': 0, '신차': 0, '후진': 0, '서도': 0, '씨엘': 0, '스코리아': 0, '성부': 0, '우회': 0, '농산물': 0, '잔금': 0, '찬반': 0, '대왕': 0, '어차피': 0, '쫄지마': 0, '하자': 0, '차트': 0, '개스피군': 0, '나름': 0, '장타': 0, '고생': 0, '탈출기': 0, '노이로제': 0, '작전': 0, '삿는데': 0, '살인': 0, '소진': 0, '재성': 0, '미세': 0, '시유': 0, '출근길': 0, '친구': 0, '염병': 0, '서서히': 0, '수량': 0, '똥개': 0, '블폰': 0, '총량': 0, '까스텔바작': 0, '이낙연': 0, '이례': 0, '헛질': 0, '멘붕': 0, '오지': 0, '조정구': 0, '선물지수': 0, '줄때': 0, '자알': 0, '수완': 0, '디오르': 0, '시초': 0, '빤쓰런': 0, '부로': 0, '소멸': 0, '신풍': 0, '엮어': 0, '끝물': 0, '불기둥': 0, '퍼다': 0, '연합뉴스': 0, '시각': 0, '헤드라인': 0, '독려': 0, '정세': 0, '화일': 0, '메가스터디': 0, '엘비': 0, '국순당': 0, '쟁의': 0, '행위': 0, '대결': 0, '포석': 0, '접촉': 0, '존중': 0, '반박': 0, '콜마': 0, '원화': 0, '피코': 0, '달서구': 0, '본리동': 0, '애니': 0, '피스톤': 0, '수소차': 0, '이재명': 0, '쌍방울': 0, '되돌림': 0, '서적': 0, '불티': 0, '한기': 0, '바람': 0, '헤파람': 0, '환기': 0, '청정기': 0, '강원도': 0, '간편': 0, '상점': 0, '쉐어': 0, '환골탈태': 0, '솔루엠': 0, '소독제': 0, '항노화': 0, '화합물': 0, '남미': 0, '콘돔': 0, '주량': 0, '릴라': 0, '이온': 0, '버콘': 0, '구입': 0, '이해관계': 0, '우라실': 0, '당혹': 0, '택했': 0, '삼조': 0, '명중': 0, '붙이': 0, '쇼박스': 0, '특허청': 0, '빌보드': 0, '안내': 0, '콜봇': 0, '챗봇': 0, '우진': 0, '월성원전': 0, '삼중수소': 0, '동료': 0, '선후': 0, '햇살': 0, '탁원': 0, '주주총회': 0, '소집': 0, '기각': 0, '전시회': 0, '보험료': 0, '투석기': 0, '시노펙': 0, '레노보': 0, '명목': 0, '켄코': 0, '우주': 0, '패닉바잉': 0, '갈림길': 0, '장기간': 0, '매듭': 0, '대유행': 0, '구주': 0, '일촉즉발': 0, '완만': 0, '로드맵': 0, '포항': 0, '순천': 0, '영토': 0, '여성': 0, '서호': 0, '새마을금고': 0, '중앙회': 0, '직장인': 0, '홈런': 0, '환경부': 0, '돌풍': 0, '핫이슈': 0, '백금': 0, '조성자': 0, '석유화학': 0, '홍익': 0, '과학기술': 0, '보틀': 0, '금투업': 0, '생큐': 0, '매뉴얼': 0, '기홍': 0, '주일': 0, '피신': 0, '수로': 0, '공산당': 0, '암치료': 0, '웰크론한텍': 0, '문제점': 0, '보완': 0, '이프': 0, '발매': 0, '러미': 0, '시겔': 0, '쏠쏠': 0, '초코송이': 0, '과자': 0, '초콜릿': 0, '트럭': 0, '긴축': 0, '심상찮': 0, '면세': 0, '격전': 0, '원정': 0, '쟁탈전': 0, '겐슬러': 0, '경제성장률': 0, '직격탄': 0, '독식': 0, '다이노': 0, '매일유업': 0, '뉴멕시코': 0, '공학': 0, '지아': 0, '시온': 0, '프로파일': 0, '청정': 0, '뜬구름': 0, '에어': 0, '컴투스': 0, '양질': 0, '데브그루': 0, '스노우': 0, '패럴': 0, '웃돌': 0, '빅사': 0, '켐온': 0, '디알': 0, '삼다수': 0, '수반': 0, '예정일': 0, '면모': 0, '식기': 0, '렌탈': 0, '세척': 0, '가늠': 0, '동전주': 0, '수취': 0, '미국증시': 0, '하나은행': 0, '곰표': 0, '뭐길': 0, '이상무': 0, '발휘': 0, '항공우주': 0, '전자제품': 0, '야심': 0, '암호': 0, '부유': 0, '폰템': 0, '실크로드': 0, '경로': 0, '트랜스': 0, '로티': 0, '코로나바이러스': 0, '아크투루스': 0, '르네상스': 0, '콘카': 0, '하이브리드': 0, '리간드': 0, '머크': 0, '콜로': 0, '안부': 0, '직관': 0, '이나리': 0, '주하이': 0, '수페': 0, '요새': 0, '팰란': 0, '티르': 0, '기지국': 0, '제작': 0, '고유': 0, '젖산': 0, '염화나트륨': 0, '허드슨': 0, '토크': 0, '트래픽': 0, '달력': 0, '헤클': 0, '다발': 0, '골수': 0, '강롱': 0, '볼트': 0, '항목': 0, '제외': 0, '중성': 0, '야타이': 0, '악수': 0, '킹파': 0, '국통': 0, '진동': 0, '비행': 0, '금옥': 0, '프레': 0, '마라톤': 0, '메리': 0, '마넨': 0, '직책': 0, '수립': 0, '장총': 0, '효율': 0, '싱어': 0, '스완': 0, '마이크': 0, '델라니': 0, '발효': 0, '구현': 0, '헤스': 0, '쿠나': 0, '금융감독원': 0, '노키아': 0, '오스트리아': 0, '바오': 0, '쿠퍼': 0, '텔레포니카': 0, '라틴': 0, '공제': 0, '코드': 0, '제우스': 0, '칼리': 0, '안이': 0, '게이한신': 0, '빌딩': 0, '사렙타': 0, '지질': 0, '나노입자': 0, '편집': 0, '에디': 0, '작업': 0, '저축': 0, '앱솔': 0, '티저': 0, '입법': 0, '바겐세일': 0, '논산': 0, '석권': 0, '간사': 0, '노무': 0, '덕양': 0, '상상': 0, '사용승인': 0, '수위': 0, '지니': 0, '파격': 0, '토닉': 0, '비비안': 0, '디케': 0, '이락': 0, '넥쏘': 0, '부과': 0, '펩타이드': 0, '주성분': 0, '직면': 0, '차체': 0, '용접': 0, '정서': 0, '예외': 0, '디젤': 0, '고성능': 0, '막바지': 0, '연쇄': 0, '디폴트': 0, '아이엘': 0, '가로등': 0, '삼척시': 0, '지탱': 0, '해당': 0, '여야': 0, '유체이탈': 0, '양띵': 0, '일방': 0, '구루': 0, '익절': 0, '활개': 0, '사기피해': 0, '물결': 0, '셀레': 0, '컴퓨터': 0, '자녀': 0, '증여세': 0, '쏙쏙': 0, '쾌거': 0, '부당이득': 0, '배선': 0, '분전': 0, '국유': 0, '참전': 0, '이원화': 0, '현장': 0, '홈플러스': 0, '변질': 0, '외침': 0, '경기도': 0, '취업': 0, '외환위기': 0, '전당': 0, '효목': 0, '일동제약': 0, '브로드밴드': 0, '인공위성': 0, '집밥': 0, '음료': 0, '락앤락': 0, '역전': 0, '삼일천하': 0, '환경보호': 0, '의정부': 0, '고산': 0, '수자': 0, '사이버': 0, '모델하우스': 0, '일색': 0, '알박기': 0, '디엔에이': 0, '타지키스탄': 0, '뚜벅뚜벅': 0, '대차': 0, '보관': 0, '전산': 0, '노래방': 0, '추징': 0, '서경원': 0, '매크로': 0, '연차': 0, '버추': 0, '얼텍': 0, '발령': 0, '추이': 0, '덕성': 0, '디씨': 0, '시화': 0, '국토': 0, '졸업': 0, '사람인에이치알': 0, '임차료': 0, '영화관': 0, '어어': 0, '리가': 0, '태슬': 0, '들왔슴': 0, '방짜': 0, '리다': 0, '혹시': 0, '이재': 0, '답글나': 0, '수익금': 0, '며칠': 0, '날품': 0, '살이': 0, '살수': 0, '반듯이': 0, '마넌': 0, '아가리': 0, '쩌억': 0, '계단': 0, '쑈질': 0, '청와대': 0, '전자통신': 0, '구획': 0, '격돌': 0, '박현주': 0, '지혜': 0, '미팅': 0, '소각': 0, '김정주': 0, '보탰다': 0, '금물': 0, '먹거리': 0, '안정효': 0, '단축': 0, '기조': 0, '상륙': 0, '흥국화재': 0, '생건': 0, '아모레': 0, '능력': 0, '열쇠': 0, '관리사': 0, '원리': 0, '윤재옥': 0, '법칙': 0, '가드': 0, '중환자': 0, '아예': 0, '우리은행': 0, '나발': 0, '인터파크': 0, '대창': 0, '디케이': 0, '만호': 0, '아프리카': 0, '당사': 0, '분키': 0, '미니쿠퍼': 0, '당첨': 0, '행운': 0, '하츠': 0, '만성': 0, '림프구': 0, '백혈병': 0, '브루': 0, '비카': 0, '홈술': 0, '정세균': 0, '총리': 0, '일파': 0, '로젠택배': 0, '만기일': 0, '협회장': 0, '이규홍': 0, '화채': 0, '퍼미': 0, '릴레이': 0, '상지': 0, '카일': 0, '문화': 0, '비실': 0, '모간': 0, '인베브': 0, '단순': 0, '참좋은여행': 0, '히트': 0, '스틱': 0, '단조': 0, '편의': 0, '보기': 0, '연설': 0, '화상회의': 0, '체질개선': 0, '가득': 0, '가까스로': 0, '김학균': 0, '순환': 0, '엘피': 0, '이견': 0, '팽팽': 0, '거스': 0, '주류': 0, '루빈': 0, '초장': 0, '어펌': 0, '보따리': 0, '손오공': 0, '마텔': 0, '완구': 0, '블랙홀': 0, '독일': 0, '골로': 0, '실상': 0, '특종': 0, '아쉬움': 0, '후회': 0, '유니클로': 0, '안목': 0, '원래': 0, '갑지': 0, '김기식': 0, '추격': 0, '터주': 0, '양홍': 0, '유리': 0, '비둘기': 0, '구분': 0, '한경비즈니스': 0, '시상식': 0, '콘택트': 0, '반복': 0, '회계부정': 0, '축전': 0, '화약고': 0, '착륙': 0, '슈프리마': 0, '원심': 0, '부광약품': 0, '멕시코': 0, '버는데': 0, '특급': 0, '농우바이오': 0, '출입': 0, '승소': 0, '공개매수': 0, '우울증': 0, '행차': 0, '조달청': 0, '세벳돈': 0, '니케': 0, '이상승': 0, '아톤': 0, '기프티콘': 0, '키다리': 0, '스패': 0, '로우': 0, '전자정부': 0, '약점': 0, '모트': 0, '하이킥': 0, '브이': 0, '만들기': 0, '인포섹': 0, '과기': 0, '한송네오텍': 0, '벅스': 0, '그대로': 0, '아즈텍': 0, '전상': 0, '구로': 0, '부친상': 0, '펫코': 0, '외부': 0, '평판': 0, '충남': 0, '부패': 0, '원스': 0, '방림': 0, '시드': 0, '티닙': 0, '양원': 0, '지구': 0, '콜롬비아': 0, '양상': 0, '경감': 0, '아미노산': 0, '프롤리': 0, '염증': 0, '자가면역질환': 0, '소리아': 0, '웨드': 0, '부시': 0, '일대': 0, '패혈증': 0, '모니터': 0, '출금': 0, '준설': 0, '리아': 0, '캠싱': 0, '고위': 0, '주춧돌': 0, '라그': 0, '마이크로폰': 0, '타운': 0, '핑안보험': 0, '푸둥': 0, '럭시': 0, '징계': 0, '초상': 0, '장쑤성': 0, '위칭밍': 0, '카펜터': 0, '카펜': 0, '익스': 0, '장통': 0, '손님': 0, '선생님': 0, '차익거래': 0, '불어': 0, '존재': 0, '관전': 0, '솎아': 0, '여지': 0, '오펜하이머': 0, '보선': 0, '눈물': 0, '스텝': 0, '적신호': 0, '웅진': 0, '씽크빅': 0, '복셀젯': 0, '사만': 0, '다가': 0, '도장': 0, '계산': 0, '식료품': 0, '심천': 0, '누보': 0, '모닝스타': 0, '버진': 0, '갤럭틱': 0, '무바': 0, '헤볼': 0, '펫코로': 0, '프로그래밍': 0, '도그': 0, '고양이': 0, '사우스캐롤라이나': 0, '제논': 0, '게이트': 0, '소수자': 0, '직거래': 0, '코네티컷': 0, '복스': 0, '크레센트': 0, '비뇨기': 0, '후원': 0, '급진': 0, '크리에이티브': 0, '메컴': 0, '부서': 0, '알래스카': 0, '파트리아': 0, '진공': 0, '지코': 0, '코코넛': 0, '코리': 0, '플라스틱': 0, '림프종': 0, '자전거': 0, '시운전': 0, '비스타': 0, '듀안': 0, '소매업': 0, '비바': 0, '라이온': 0, '몬머스': 0, '뉴몬트': 0, '필립스': 0, '개인화': 0, '임신': 0, '재닛': 0, '왕립': 0, '벤처스': 0, '이튼': 0, '알킨디': 0, '제이콥': 0, '해군': 0, '화학요법': 0, '티슬리주맵': 0, '바핀': 0, '아카시아': 0, '커뮤니케이션스': 0, '화강암': 0, '투싼': 0, '국제공항': 0, '중안': 0, '벨레': 0, '바나': 0, '치명상': 0, '중디': 0, '낙농': 0, '컨설턴트': 0, '현관': 0, '앱코': 0, '로지텍': 0, '절대': 0, '얘기': 0, '팀쿡': 0, '횡보': 0, '유니언': 0, '트러스트': 0, '젠데': 0, '태그': 0, '해외진출': 0, '금속': 0, '화학물질': 0, '누출사고': 0, '뭣들하': 0, '진실': 0, '금사면': 0, '쭈욱': 0, '필독': 0, '대처': 0, '버르장': 0, '머리': 0, '치기': 0, '호가': 0, '조작': 0, '번주': 0, '조언': 0, '수기': 0, '불과': 0, '교통': 0, '안도': 0, '삐끗': 0, '천재교육': 0, '중학': 0, '무색': 0, '현산': 0, '결과물': 0, '소신': 0, '불황': 0, '정당화': 0, '터치스크린': 0, '시련': 0, '박영석': 0, '방향타': 0, '단어': 0, '방패': 0, '심의회': 0, '인숙': 0, '축협': 0, '이배': 0, '예약': 0, '전문성': 0, '직업': 0, '체감': 0, '명절': 0, '아우디': 0, '딜러': 0, '태안': 0, '고등학교': 0, '철학': 0, '출연': 0, '남하': 0, '복지': 0, '용구': 0, '박근혜': 0, '징역': 0, '헌법': 0, '교훈': 0, '실업자': 0, '수당': 0, '회피': 0, '대책위': 0, '문화재단': 0, '방문': 0, '허태정': 0, '컨셉': 0, '루데': 0, '프로토콜': 0, '얼라이언스': 0, '확신': 0, '이코노미스트': 0, '케이엘': 0, '코피': 0, '일감': 0, '석재': 0, '군사': 0, '가이던스': 0, '공회': 0, '대마': 0, '줄기': 0, '성분': 0, '살균제': 0, '과제': 0, '군사시설': 0, '박경훈': 0, '농작물': 0, '싱아': 0, '메자닌': 0, '터스': 0, '부근': 0, '거점': 0, '극한': 0, '행주': 0, '궁금증': 0, '측근': 0, '종선': 0, '레브친': 0, '처방': 0, '족부': 0, '궤양': 0, '덱스': 0, '보청기': 0, '관왕': 0, '스니커즈': 0, '정보사': 0, '리피': 0, '티브': 0, '임용': 0, '해결사': 0, '규어': 0, '페이스': 0, '샵온': 0, '신협': 0, '접지': 0, '저항': 0, '대도': 0, '정보공개': 0, '강행': 0, '월권': 0, '나비효과': 0, '표준': 0, '포털': 0, '이해관계자': 0, '인턴': 0, '백년전쟁': 0, '행정공제회': 0, '맨해튼': 0, '공공': 0, '우발': 0, '테이크': 0, '레전드': 0, '제네시스': 0, '봇물': 0, '분위기': 0, '백기': 0, '보답': 0, '묵묵': 0, '효자': 0, '윤종규': 0, '메릴린치': 0, '국가대표': 0, '훈수': 0, '둘리': 0, '정간': 0, '눈살': 0, '휴맥스': 0, '반려동물': 0, '미용': 0, '장난감': 0, '라니냐': 0, '으레': 0, '시선': 0, '십년': 0, '그레이': 0, '리셋': 0, '재심': 0, '소비자보호': 0, '스타즈': 0, '정기예금': 0, '정기적금': 0, '증감': 0, '징벌': 0, '채널': 0, '유령': 0, '양보': 0, '부울경': 0, '이정윤': 0, '광풍': 0, '특판': 0, '셰브런': 0, '스크랩': 0, '결판': 0, '물밑': 0, '조율': 0, '라가': 0, '르드': 0, '나노': 0, '브릭': 0, '러셀': 0, '흑색종': 0, '연구자': 0, '레진': 0, '양로': 0, '항원': 0, '이재용': 0, '수산': 0, '정렬': 0, '아슬아슬': 0, '머큐리': 0, '항생제': 0, '중인': 0, '조절': 0, '오기': 0, '에클스': 0, '실수': 0, '그린스펀': 0, '특단': 0, '통통': 0, '송금': 0, '여러': 0, '항아리': 0, '거스를수': 0, '달말': 0, '움직임': 0, '모노': 0, '랍스터': 0, '세기': 0, '공모전': 0, '성안': 0, '웃돈': 0, '완패': 0, '로슈': 0, '제넨텍': 0, '도출': 0, '복수': 0, '비지니스': 0, '유형': 0, '재생에너지': 0, '우주시': 0, '카이스트': 0, '현물': 0, '백만장자': 0, '설문': 0, '공헌': 0, '자본주의': 0, '선고': 0, '코웰': 0, '지리산': 0, '항일': 0, '김형렬': 0, '외환시장': 0, '라우': 0, '노칭': 0, '장제': 0, '코스프레': 0, '계측장비': 0, '종식': 0, '냉각수': 0, '분배': 0, '서산사': 0, '온통': 0, '혈투': 0, '공판': 0, '어워드': 0, '전후': 0, '내리막': 0, '핏빗': 0, '코스닥시장': 0, '관악로': 0, '해설': 0, '봉기': 0, '스탁사피엔스': 0, '우주개발': 0, '폐해': 0, '심각': 0, '그녀': 0, '확진': 0, '전수': 0, '풍산홀딩스': 0, '구자홍': 0, '식약청': 0, '스주': 0, '승승장구': 0, '현중': 0, '벤처기업': 0, '부재': 0, '손정호': 0, '조경민': 0, '정의선': 0, '무려': 0, '프레스티지': 0, '법정구속': 0, '고법': 0, '유건': 0, '위약벌': 0, '항소': 0, '전례': 0, '실형': 0, '옐런': 0, '지명자': 0, '천명': 0, '오상': 0, '차질': 0, '재계': 0, '회견': 0, '워진': 0, '침해': 0, '손해배상': 0, '토목건축': 0, '글로스퍼랩스': 0, '매직마이크': 0, '비티엠파트너스': 0, '지법': 0, '구의역': 0, '강북': 0, '우수수': 0, '차감': 0, '전자랜드': 0, '농구단': 0, '모비릭스': 0, '성주': 0, '요동': 0, '깨비': 0, '징역형': 0, '유탑': 0, '씨유': 0, '소규모': 0, '집앤사': 0, '동네': 0, '구멍': 0, '가게': 0, '사두': 0, '달반': 0, '성민석': 0, '쿠추카': 0, '각자': 0, '증거보전': 0, '위임': 0, '급변': 0, '김정환': 0, '레인보우': 0, '케이블': 0, '과기부': 0, '그랑프리': 0, '비엘': 0, '인강': 0, '동차': 0, '스캔들': 0, '바비': 0, '누적': 0, '삼척': 0, '평생': 0, '이용권': 0, '다윗': 0, '골리앗': 0, '수시': 0, '비트': 0, '저궤도': 0, '오비': 0, '과천': 0, '신혼': 0, '외화예금': 0, '대강': 0, '자연': 0, '유죄': 0, '직무': 0, '집행정지': 0, '이족보행': 0, '휴보': 0, '로보틱스': 0, '눈덩이': 0, '벤처캐피털': 0, '이부진': 0, '국정': 0, '농단': 0, '한경': 0, '무근': 0, '고진': 0, '치중': 0, '퍼스': 0, '트랩': 0, '선발': 0, '네오위즈': 0, '스컬': 0, '트레일러': 0, '보광': 0, '휘닉스소재': 0, '국전': 0, '이론': 0, '수목': 0, '미니시리즈': 0, '부산시': 0, '김진욱': 0, '고발': 0, '피드': 0, '프로듀서': 0, '살인자': 0, '감옥': 0, '렛잇비': 0, '제작자': 0, '분기점': 0, '후기': 0, '르포': 0, '환전': 0, '용이': 0, '결탁': 0, '해명': 0, '일이': 0, '난맥': 0, '광복절': 0, '헛소리': 0, '뭣이단': 0, '촛불': 0, '베터리': 0, '원전': 0, '파괴': 0, '가야': 0, '연상': 0, '김명수': 0, '교대': 0, '겨우': 0, '사려': 0, '이미지': 0, '쌍코피': 0, '어찌': 0, '추락': 0, '겁낼': 0, '까닭': 0, '집행유예': 0, '주소': 0, '니런': 0, '바고': 0, '물량뺏기': 0, '맙시': 0, '꼴등': 0, '튀어': 0, '주중': 0, '데드': 0, '최영': 0, '의지': 0, '도시철도': 0, '호선': 0, '장선': 0, '공구': 0, '통행': 0, '경우': 0, '오시': 0, '정전': 0, '침체': 0, '유행병': 0, '무크': 0, '기도문': 0, '올린다': 0, '박종': 0, '신데렐라': 0, '시왕': 0, '광둥': 0, '리화': 0, '화동': 0, '나머지': 0, '메리어트': 0, '실뱅': 0, '라드': 0, '왕시': 0, '취안': 0, '지펑': 0, '질롱': 0, '타낙': 0, '극동': 0, '트랜스미션': 0, '시네마': 0, '아스트': 0, '헤르': 0, '캐롤': 0, '공성': 0, '독일군': 0, '미안': 0, '삭감': 0, '코퍼': 0, '안드레아스': 0, '간의': 0, '앨버타': 0, '측은': 0, '리젠트': 0, '크레딧': 0, '지루': 0, '우치': 0, '오일장': 0, '엔드': 0, '보잉사': 0, '카르': 0, '래일': 0, '면제': 0, '전작': 0, '원점': 0, '전망대': 0, '기자회견': 0, '시기상조': 0, '요건': 0, '정점': 0, '파크원': 0, '비나텍': 0, '블랙베리': 0, '스포티파이': 0, '박응': 0, '진의': 0, '똑똑': 0, '꿀팁': 0, '마인드': 0, '차선': 0, '변명': 0, '눈총': 0, '대수술': 0, '기회균등': 0, '낙농업': 0, '원동력': 0, '김민석': 0, '이미경': 0, '도구로': 0, '멈칫': 0, '정반대': 0, '고물': 0, '뚝뚝': 0, '총력전': 0, '가산': 0, '어반워크': 0, '영산강': 0, '복원': 0, '리즈': 0, '이탈리아': 0, '명문': 0, '축구': 0, '구단': 0, '밀란': 0, '육군교육사령부': 0, '캠페인': 0, '확답': 0, '이티': 0, '하량': 0, '전원': 0, '탐욕': 0, '오펙': 0, '연구개발': 0, '기소': 0, '낚이셨나': 0, '허니문': 0, '로고': 0, '기아': 0, '김범수': 0, '가족': 0, '친척': 0, '뒷돈': 0, '발작': 0, '급접': 0, '골프': 0, '센서': 0, '탑픽': 0, '금회': 0, '주차': 0, '보조': 0, '밀크': 0, '마운': 0, '터기': 0, '키스': 0, '레포거': 0, '인버터': 0, '환매조건부채권': 0, '예산': 0, '벨킨주': 0, '명꼴': 0, '슈팅': 0, '공부': 0, '개정판': 0, '희수': 0, '해피': 0, '노사': 0, '유성기업': 0, '중고': 0, '국민카드': 0, '보주': 0, '와이파이': 0, '증폭기': 0, '롤스로이스': 0, '레포': 0, '컨트롤러': 0, '게임빌': 0, '하이브': 0, '연말정산': 0, '다인': 0, '윈스': 0, '물자': 0, '수원': 0, '재시': 0, '통신망': 0, '우디': 0, '코프라': 0, '결산': 0, '접근성': 0, '매드': 0, '러브': 0, '넘버': 0, '태동': 0, '마을': 0, '성황리': 0, '김태순': 0, '전북': 0, '청취': 0, '청문회': 0, '커브': 0, '유예': 0, '고스': 0, '장벽': 0, '단정': 0, '이야기': 0, '기류': 0, '비적정': 0, '오리무중': 0, '말씀': 0, '무림': 0, '도산': 0, '강현우': 0, '이서우': 0, '변조': 0, '아웃백': 0, '시맨틱스': 0, '권법': 0, '파전': 0, '단언': 0, '은성': 0, '호턴': 0, '내츄럴': 0, '엔도': 0, '패치': 0, '골프장': 0, '비비씨': 0, '호피': 0, '당근': 0, '정해진': 0, '담대': 0, '농부': 0, '박영옥': 0, '피혁': 0, '다툼': 0, '수은': 0, '터널': 0, '정철': 0, '레벌업': 0, '박물관': 0, '문화재': 0, '대형화': 0, '유양': 0, '디앤유': 0, '창규': 0, '재보궐': 0, '계절': 0, '매커스': 0, '아이앤지': 0, '참조': 0, '서로': 0, '캠텍': 0, '나노캠텍': 0, '대음': 0, '나락': 0, '가쟈': 0, '노래': 0, '매경': 0, '로또': 0, '들깨': 0, '짜증': 0, '윤석열': 0, '진보': 0, '수종': 0, '지선': 0, '빡세': 0, '장점': 0, '센텀': 0, '애풀카': 0, '주님': 0, '였넹': 0, '도로공사': 0, '태양전지': 0, '메카': 0, '프레임': 0, '발돋움': 0, '강원랜드': 0, '밑도': 0, '물망': 0, '서호성': 0, '추위': 0, '강제': 0, '앨범': 0, '메타': 0, '동전': 0, '경쟁자': 0, '오프라인': 0, '쇼티': 0, '루머': 0, '근거': 0, '클리오': 0, '색조': 0, '양안': 0, '사격': 0, '에이제이': 0, '반시': 0, '상공': 0, '고영': 0, '남광': 0, '진흥': 0, '신성': 0, '병합': 0, '셀콤': 0, '스테이플스': 0, '거부': 0, '디포': 0, '탕산': 0, '보장': 0, '아레나': 0, '리언': 0, '스텔스': 0, '비호': 0, '수용': 0, '힐롬': 0, '타인': 0, '천만': 0, '페넌트': 0, '애리조나': 0, '헬스': 0, '일당': 0, '거의': 0, '순차': 0, '풀크': 0, '장저우': 0, '펀딩': 0, '피트': 0, '마리아': 0, '채드윅': 0, '혈액학': 0, '악성종양': 0, '경구': 0, '니콜': 0, '잠비아': 0, '청구인': 0, '클레': 0, '베단타': 0, '뮤추얼': 0, '중장비': 0, '마이크로소프트': 0, '간소화': 0, '장타율': 0, '제소': 0, '슐케': 0, '메이어': 0, '애쉬랜드': 0, '덴버': 0, '노스캐롤라이나': 0, '삼림': 0, '판강': 0, '생산량': 0, '오리': 0, '크라이': 0, '사용자': 0, '불가': 0, '삼위일체': 0, '노르웨이': 0, '면허': 0, '파라마운트': 0, '커뮤니케이션': 0, '통지서': 0, '루멘텀': 0, '광자': 0, '정규': 0, '구성원': 0, '투자율': 0, '금융리스': 0, '수배': 0, '포커': 0, '뱅크오브아메리카': 0, '디스크': 0, '소유자': 0, '삭스': 0, '세컨드': 0, '루멘': 0, '산호': 0, '돌연변이': 0, '변형': 0, '로열': 0, '캐리비안': 0, '모어': 0, '핼리': 0, '버튼': 0, '화관': 0, '유선': 0, '하트랜드': 0, '팬아메리칸': 0, '미네르바': 0, '신경과학': 0, '셀토란트': 0, '페놀': 0, '시뮬레이션': 0, '유전': 0, '다양성': 0, '프레임워크': 0, '코닉': 0, '화물기': 0, '중위': 0, '안티몬': 0, '클라리스': 0, '규칙': 0, '오나노': 0, '유전체학': 0, '주니어': 0, '팽호': 0, '펑추': 0, '경차': 0, '행정부': 0, '탄소세': 0, '가의': 0, '견해': 0, '크레디트': 0, '변모': 0, '대작': 0, '이스터': 0, '엘레': 0, '강스': 0, '옵티컬': 0, '엠페러': 0, '추리': 0, '애쉬포드': 0, '환대': 0, '키메': 0, '로버트': 0, '아이거': 0, '월트': 0, '프로토': 0, '티프': 0, '리핑': 0, '드렉셀': 0, '밑줄': 0, '토란': 0, '반값': 0, '불꽃': 0, '향배': 0, '추구': 0, '테오': 0, '앰코': 0, '식물': 0, '소포체': 0, '신종': 0, '이지': 0, '블리': 0, '엠코': 0, '영흥': 0, '수도권': 0, '의결': 0, '후보자': 0, '적임': 0, '단판': 0, '루메': 0, '너머': 0, '보라': 0, '비보': 0, '도박': 0, '차곡차곡': 0, '제자리': 0, '보성': 0, '유니온': 0, '마침표': 0, '레이크힐스': 0, '스쿨': 0, '급소': 0, '덱스터': 0, '루메나': 0, '팬젠': 0, '냉동고': 0, '핀트': 0, '그램': 0, '트릴': 0, '탈모': 0, '더이앤엠': 0, '루카': 0, '베스트셀러': 0, '가전제품': 0, '토픽': 0, '대학병원': 0, '철수': 0, '집권': 0, '퇴치': 0, '아라비아': 0, '총지배인': 0, '하이얼': 0, '메사': 0, '스털링': 0, '유한회사': 0, '석회암': 0, '펜실베이니아주': 0, '샤논': 0, '재계약': 0, '교도소': 0, '컬렉터': 0, '유니버스': 0, '재작성': 0, '브렌': 0, '코덱스': 0, '알코아': 0, '노비': 0, '학자': 0, '답글물': 0, '커버': 0, '쿤펑': 0, '탐색': 0, '시킴': 0, '난시': 0, '콘택트렌즈': 0, '발사': 0, '보시': 0, '엘름': 0, '우지': 0, '석주': 0, '영장': 0, '전기자동차': 0, '전매': 0, '천연자원': 0, '마제스틱': 0, '수집가': 0, '캐스터': 0, '스탠리': 0, '책정': 0, '라파엘': 0, '세네카': 0, '뇌졸중': 0, '렉서스': 0, '업랜드': 0, '모습': 0, '깜깜': 0, '스타워즈': 0, '영광': 0, '얼굴': 0, '정원호': 0, '우승': 0, '박철희': 0, '김지원': 0, '최지훈': 0, '과장': 0, '특별상': 0, '운수': 0, '자국': 0, '네트워킹': 0, '하도급': 0, '휴대폰': 0, '에스트라': 0, '과감': 0, '쌍용양회': 0, '중년': 0, '절규': 0, '두번째': 0, '주제': 0, '질문': 0, '만남': 0, '기고': 0, '벤처넷': 0, '못내': 0, '마르지': 0, '유보': 0, '연합체': 0, '베스파': 0, '자판': 0, '사익': 0, '굿닥': 0, '수설': 0, '크린텍': 0, '고문': 0, '이수경': 0, '대원미디어': 0, '푸조': 0, '스텔': 0, '란티스': 0, '필요성': 0, '초초': 0, '도구': 0, '용납': 0, '마블': 0, '매달': 0, '미소': 0, '법인세': 0, '원화도': 0, '출마': 0, '달래': 0, '와이지': 0, '블랙': 0, '핑크': 0, '컴백': 0, '론칭': 0, '리플레이션': 0, '시공': 0, '극장': 0, '풍부': 0, '케이엠': 0, '큐렉소': 0, '의료로봇': 0, '반찬': 0, '배진': 0, '콘서트': 0, '차익물량': 0, '실전': 0, '곁불': 0, '구폐': 0, '애드바이오텍': 0, '리틀': 0, '나방': 0, '폭풍성': 0, '임플란트': 0, '윈팩': 0, '오토메이션': 0, '국민은행': 0, '임단협': 0, '타결': 0, '키이스트': 0, '곤혹': 0, '서민': 0, '휴면': 0, '부킹': 0, '행동': 0, '헤지펀드': 0, '엘리엇': 0, '사무소': 0, '루터': 0, '비단': 0, '입자': 0, '의적': 0, '면죄부': 0, '드라이브': 0, '엠플란트': 0, '마진콜': 0, '구호': 0, '병원': 0, '아진산업': 0, '사문서': 0, '위조': 0, '차이': 0, '표정': 0, '대권': 0, '양자': 0, '부인': 0, '리그': 0, '오브': 0, '챔피언스': 0, '부차': 0, '특이': 0, '촉발': 0, '사별': 0, '경력': 0, '공채': 0, '합격자': 0, '보너스': 0, '선사로': 0, '진학': 0, '홈앤쇼핑': 0, '분량': 0, '췌장': 0, '항생': 0, '연관': 0, '강사': 0, '굴릴': 0, '공적': 0, '반월동': 0, '전우': 0, '펠로톤': 0, '츄이': 0, '미노': 0, '수강': 0, '핑거비': 0, '쿠빌더': 0, '장터': 0, '초고': 0, '액자': 0, '프렌즈': 0, '콜라보': 0, '루게릭병': 0, '응급': 0, '개꼴': 0, '기획재정부': 0, '유지관리': 0, '역설': 0, '역점': 0, '재정부': 0, '꿰찬': 0, '정권': 0, '트유': 0, '리베라': 0, '그린란드': 0, '시티즌': 0, '내몽골': 0, '그리드': 0, '쿤룬': 0, '기계공학': 0, '엽립': 0, '주사': 0, '우창': 0, '저지': 0, '소테': 0, '라헬': 0, '운송계약': 0, '수주로': 0, '틱톡': 0, '바이트': 0, '댄스': 0, '위챗': 0, '알리': 0, '초등': 0, '독서': 0, '논술': 0, '실력': 0, '서술': 0, '이드': 0, '차징': 0, '필터': 0, '달걀': 0, '관세': 0, '삼겹살': 0, '어쩌다가': 0, '노인': 0, '하늘': 0, '추후': 0, '난색': 0, '질타': 0, '대성공': 0, '로트': 0, '세트': 0, '수처리': 0, '부강': 0, '건립': 0, '방탄소년단': 0, '캐릭터': 0, '퍼즐': 0, '오디션': 0, '인도네시아': 0, '엘리': 0, '슬레이어': 0, '앤코슈': 0, '닥터': 0, '펩티': 0, '왕홍': 0, '루루': 0, '매월': 0, '스트레스': 0, '쁘띠': 0, '양제': 0, '에어팟': 0, '한정애': 0, '가습기': 0, '익산시': 0, '다이로': 0, '기프트카드': 0, '상금': 0, '정체': 0, '시제': 0, '포괄': 0, '독촉': 0, '창재': 0, '추궁': 0, '교섭': 0, '바스프': 0, '유착': 0, '수첩': 0, '배소': 0, '가토': 0, '핵주': 0, '피부염': 0, '소성': 0, '플룸': 0, '마스트': 0, '베르너': 0, '심플': 0, '하울링': 0, '핸콕': 0, '휘트니': 0, '후지': 0, '린데': 0, '보르': 0, '소드': 0, '디바': 0, '동성애자': 0, '우편': 0, '산장': 0, '인재': 0, '광저우': 0, '통저': 0, '해고': 0, '재무부': 0, '텅스텐': 0, '머피': 0, '우사': 0, '유역': 0, '프루거가드': 0, '한국은행': 0, '유체역학': 0, '캐던스': 0, '메일': 0, '소량': 0, '이밍': 0, '행킹': 0, '난초': 0, '북구': 0, '아타바': 0, '스카': 0, '운항': 0, '횟수': 0, '디트': 0, '플립': 0, '카트': 0, '친트': 0, '헤라클레스': 0, '킨더': 0, '사명': 0, '톱텍': 0, '로체': 0, '템즈': 0, '반송': 0, '국문': 0, '연금제': 0, '김태석': 0, '안정호': 0, '통신업': 0, '엔드밀': 0, '새정부': 0, '피해자': 0, '시국': 0, '모임': 0, '식권': 0, '풍향계': 0, '이진원': 0, '용제': 0, '예천': 0, '바벨': 0, '캘리포니아주': 0, '엘베': 0, '이스': 0, '헌혈': 0, '나야': 0, '내외': 0, '데브': 0, '시스터즈': 0, '심판': 0, '남구': 0, '직구': 0, '원룸': 0, '배턴': 0, '강보': 0, '합세': 0, '백토': 0, '가계부채': 0, '다짐': 0, '기주': 0, '혼동': 0, '정제': 0, '그니': 0, '허문': 0, '손가락': 0, '성호': 0, '도란': 0, '라씨': 0, '이민': 0, '상징': 0, '식초': 0, '풍속': 0, '켄쇼': 0, '레볼루션': 0, '정합': 0, '수칙': 0, '창구': 0, '엔텔스': 0, '어피': 0, '청렴': 0, '섹스': 0, '팬암': 0, '국무총리': 0, '일석이조': 0, '알짜': 0, '자세': 0, '페오놀': 0, '치도': 0, '유우': 0, '지엠': 0, '코스모': 0, '빛샘': 0, '희토류': 0, '수출입': 0, '인적': 0, '악성': 0, '법적대응': 0, '추도': 0, '공연': 0, '중계': 0, '손상처리': 0, '억만장자': 0, '우양': 0, '스몰': 0, '신인': 0, '파급': 0, '빌트': 0, '터트린': 0, '메콕': 0, '스큐어': 0, '메콕스': 0, '영향력': 0, '매핑': 0, '디테일': 0, '스마': 0, '성격': 0, '틈새': 0, '감삼': 0, '세종': 0, '인업': 0, '재능기부': 0, '액션게임': 0, '장식': 0, '삼일제약': 0, '우주왕복선': 0, '한중일': 0, '마시스': 0, '불리': 0, '지적도': 0, '케이팝': 0, '불신': 0, '재부': 0, '보이스피싱': 0, '화답': 0, '글립틴': 0, '독자': 0, '디엠': 0, '희귀질환': 0, '우협': 0, '파렛트': 0, '식도역류': 0, '사제': 0, '수프': 0, '중남미': 0, '특화망': 0, '마수': 0, '걸이': 0, '티비': 0, '출항': 0, '로보티': 0, '초전도': 0, '선재': 0, '오락': 0, '대여': 0, '대리점': 0, '선배': 0, '연연': 0, '광학': 0, '체라': 0, '캠퍼': 0, '태원': 0, '광고대행사': 0, '기자간담회': 0, '웰컴': 0, '규준': 0, '시한': 0, '라이벌': 0, '불명예': 0, '보지': 0, '모범': 0, '유튜버': 0, '강소기업': 0, '미누스': 0, '블라인드': 0, '듀얼': 0, '당뇨': 0, '이익공유제': 0, '현행': 0, '최우수': 0, '글랜': 0, '퍼포먼스': 0, '덜덜': 0, '기준금리': 0, '동결': 0, '김앤장': 0, '법률자문': 0, '자만': 0, '관통': 0, '정답': 0, '대성쎌틱': 0, '용역': 0, '래퍼': 0, '제이지': 0, '대유': 0, '휴대': 0, '착공': 0, '오디오': 0, '톈창': 0, '파인더': 0, '홈즈': 0, '메트로폴리탄': 0, '스티브': 0, '몰렌': 0, '만주': 0, '구속력': 0, '사설': 0, '시에라': 0, '켄트': 0, '헥스턴': 0, '대장염': 0, '타카': 0, '에어백': 0, '재판매': 0, '카구': 0, '에디슨': 0, '웹스터': 0, '다람쥐': 0, '여행사': 0, '알고리즘': 0, '바인': 0, '해시': 0, '국경': 0, '개방': 0, '로비': 0, '다이하츠': 0, '다섯': 0, '휴즈': 0, '성의': 0, '샌디': 0, '스프링': 0, '얀툰': 0, '라이거': 0, '스먼': 0, '말함': 0, '버브': 0, '인문': 0, '알츠하이머병': 0, '경염': 0, '신경': 0, '변성': 0, '루피': 0, '에스크로': 0, '아웃핏': 0, '마스터카드': 0, '축출': 0, '코테': 0, '앞서': 0, '브링크': 0, '도안': 0, '답답': 0, '등주': 0, '나나': 0, '살기': 0, '이쿠': 0, '귀여미': 0, '개돼지': 0, '세계보건기구': 0, '베스': 0, '과부': 0, '어비스': 0, '닝보': 0, '텍사스': 0, '유권자': 0, '표심': 0, '명감': 0, '드노': 0, '드래프트': 0, '유료': 0, '내내': 0, '가뭄': 0, '공리': 0, '우뚝': 0, '대반': 0, '벼락': 0, '서점가': 0, '기저': 0, '골칫덩': 0, '인텔리': 0, '메이': 0, '애드': 0, '쿠위': 0, '리카': 0, '후안': 0, '우주생물학': 0, '타나': 0, '리루졸': 0, '허난성': 0, '경매': 0, '낙찰': 0, '지화': 0, '하일': 0, '화이베이': 0, '서포르': 0, '공군': 0, '불의': 0, '코네티컷주': 0, '슈퍼마켓': 0, '마이크로파': 0, '엘도라도': 0, '푸르덴셜': 0, '채택': 0, '프로덕션': 0, '신일본제철': 0, '도쿄': 0, '핑안': 0, '진안': 0, '야오': 0, '리버티': 0, '레르': 0, '장옌': 0, '금융기관': 0, '플레이어': 0, '한겨울': 0, '기간산업': 0, '주효': 0, '대명사': 0, '정킨': 0, '유압': 0, '복합재': 0, '기호': 0, '토큰': 0, '디센트': 0, '콜드월렛': 0, '춘삼월': 0, '오해': 0, '조현민': 0, '겨냥': 0, '세무조사': 0, '조양호': 0, '상속세': 0, '국선': 0, '할부': 0, '고령화': 0, '장판': 0, '배신자': 0, '넥센': 0, '미성년': 0, '실리': 0, '적정가격': 0, '폭리': 0, '사할린': 0, '정의정': 0, '투연': 0, '편법': 0, '캠핑': 0, '난로': 0, '실효': 0, '금수': 0, '옌다': 0, '단물': 0, '당한': 0, '상장회사': 0, '와이지엔터테인먼트': 0, '미비': 0, '수감': 0, '감리': 0, '문자': 0, '지피지기': 0, '불태': 0, '초빙': 0, '가닥': 0, '다오': 0, '플랫': 0, '사망자': 0, '위중': 0, '인코': 0, '슬그머니': 0, '새롬기술': 0, '최우수상': 0, '오딧세이': 0, '경원': 0, '굴리': 0, '명대': 0, '쌍용': 0, '초월': 0, '터득': 0, '안나': 0, '이성윤': 0, '듯이': 0, '웃읍': 0, '김태우': 0, '폭로': 0, '인튜이티브': 0, '호화': 0, '여름': 0, '재상': 0, '수저': 0, '수지분': 0, '최장수': 0, '성문': 0, '상선': 0, '플라이': 0, '동화약품': 0, '잇몸': 0, '부타디엔': 0, '여명': 0, '한해': 0, '워크숍': 0, '난치병': 0, '마냥': 0, '수만': 0, '물동량': 0, '직방': 0, '폐장': 0, '손실보상': 0, '왕좌': 0, '볼모': 0, '서막': 0, '썸씽': 0, '왜곡': 0, '직성': 0, '부코': 0, '티브이': 0, '손배': 0, '폐업': 0, '사활': 0, '코스콤': 0, '계란': 0, '비례': 0, '막차': 0, '해수담수화': 0, '전사': 0, '공감': 0, '플랜트': 0, '삼총사': 0, '혈맹': 0, '직전': 0, '년도': 0, '일확천금': 0, '승기': 0, '상쇄': 0, '분담': 0, '개탄': 0, '로빈후드': 0, '한상혁': 0, '박정호': 0, '프락시': 0, '토털': 0, '사우디아라비아': 0, '모태': 0, '샌드박스': 0, '명품': 0, '럭셔리': 0, '안병익': 0, '식신': 0, '분분': 0, '랭귀': 0, '무연탄': 0, '쓰나미': 0, '나랏빚': 0, '나중': 0, '옵션거래': 0, '전조': 0, '법안': 0, '인덱스': 0, '공직자': 0, '피아': 0, '정홍': 0, '출판': 0, '임차': 0, '페블': 0, '브룩': 0, '옥상': 0, '해양에너지': 0, '쿠레': 0, '바크': 0, '항균': 0, '척추': 0, '보크': 0, '지분매각': 0, '독해': 0, '청두': 0, '산타': 0, '프랜차이즈': 0, '애완동물': 0, '영수증': 0, '발급': 0, '실제': 0, '영양소': 0, '뎁온': 0, '윤다': 0, '성무': 0, '칼슨': 0, '타당성': 0, '스피드': 0, '베스타': 0, '홀딩사': 0, '앨라배마': 0, '옥스퍼드': 0, '랜섬': 0, '사건': 0, '회로': 0, '쉘프용': 0, '기상': 0, '피스': 0, '유니버설': 0, '시창': 0, '신강': 0, '리자드': 0, '십이지': 0, '피엘메드': 0, '고려대': 0, '잔틴': 0, '정치인': 0, '변심': 0, '칩셋': 0, '디큐브시티': 0, '로봇산업': 0, '어닝쇼크': 0, '김상진': 0, '스탠스': 0, '만원': 0, '성적': 0, '시카고': 0, '브라이언': 0, '피콕': 0, '레슬링': 0, '목초지': 0, '약관': 0, '부트': 0, '허니': 0, '록키': 0, '개요': 0, '파럼스': 0, '쑹산': 0, '노스웨스트': 0, '뱅커스': 0, '피트니스': 0, '워킹': 0, '레드삭스': 0, '석상': 0, '에르': 0, '하와이': 0, '지청': 0, '캐세이': 0, '검역': 0, '시큐러티': 0, '크레인': 0, '정안': 0, '아폴로': 0, '스파르타': 0, '다세': 0, '화순': 0, '화의': 0, '풀하우스': 0, '무작위': 0, '운영자': 0, '애플리케이션': 0, '성운': 0, '캐러벨': 0, '병원균': 0, '미주': 0, '뱅코프': 0, '클리블랜드': 0, '타이위안': 0, '헤비': 0, '포럼': 0, '리본': 0, '시메': 0, '원숭이': 0, '레크': 0, '미네소타': 0, '덜루스': 0, '유한': 0, '신계': 0, '합금': 0, '사천': 0, '펑청': 0, '킹키': 0, '농어촌': 0, '나은': 0, '독주': 0, '노바이': 0, '하위': 0, '횃불': 0, '화창': 0, '시저스': 0, '판타지': 0, '북극': 0, '건조': 0, '비메오': 0, '파생': 0, '책점': 0, '스케일': 0, '컴퓨팅': 0, '채무자': 0, '파산법': 0, '치쿤구': 0, '유통업체': 0, '스모크': 0, '카르텔': 0, '와인': 0, '코믹스': 0, '중구': 0, '알비레오': 0, '비드': 0, '보험금': 0, '스트릿': 0, '에이서': 0, '푸순': 0, '특수강': 0, '마오': 0, '레이크랜드': 0, '시민': 0, '닷새': 0, '상여': 0, '더힐': 0, '가연': 0, '피파': 0, '교류': 0, '살롱': 0, '이웃': 0, '성금': 0, '안면': 0, '메가트렌드': 0, '악용': 0, '글로리': 0, '아이큐': 0, '콜키신': 0, '파이썬': 0, '실습': 0, '투스': 0, '기타': 0, '도쿄올림픽': 0, '광고주': 0, '텔콘': 0, '가교': 0, '박찬구': 0, '소통': 0, '풍력발전': 0, '렌질루맙': 0, '간부': 0, '장보': 0, '무브': 0, '옵티': 0, '자비스': 0, '야기': 0, '처스': 0, '월판선': 0, '디오': 0, '주정': 0, '신입': 0, '국민총소득': 0, '통풍': 0, '습격': 0, '토공': 0, '철근콘크리트': 0, '덕우': 0, '케이에스': 0, '구미': 0, '김원일': 0, '송성근': 0, '형강': 0, '점주': 0, '만족도': 0, '불구': 0, '카카오페이지': 0, '도서': 0, '타미플루': 0, '스왑': 0, '커넥트': 0, '구채': 0, '김기석': 0, '출발점': 0, '낙점': 0, '법학': 0, '모의고사': 0, '응시': 0, '대한전선': 0, '오스틴': 0, '진도아리랑': 0, '쭉쭉': 0, '관할': 0, '상인': 0, '인트리': 0, '신간': 0, '마흔': 0, '영천': 0, '임대주택': 0, '새만금': 0, '도급계약': 0, '렘데': 0, '시비르': 0, '착시효과': 0, '평택': 0, '평화': 0, '선불': 0, '대교': 0, '염승환': 0, '웹케시': 0, '북선': 0, '임기': 0, '용퇴': 0, '최창희': 0, '쫄렸는데': 0, '뭣하': 0, '목요일': 0, '무조건': 0, '금요일': 0, '역주행': 0, '찬티': 0, '티엔': 0, '부응': 0, '사조오양': 0, '원풍': 0, '대동': 0, '경비': 0, '감각': 0, '영천시': 0, '조교동': 0, '비티': 0, '가희': 0, '초등생': 0, '투자비법': 0, '본업': 0, '방사선': 0, '남아공': 0, '파트론': 0, '머티': 0, '야구단': 0, '리턴': 0, '더존': 0, '야구장': 0, '와이번스': 0, '전방': 0, '삼양식품': 0, '발주': 0, '수능': 0, '스프레드': 0, '밑돌': 0, '게임스탑': 0, '합산': 0, '브루클린': 0, '조인트': 0, '효도': 0, '역성': 0, '타깃': 0, '싱크': 0, '일회용': 0, '사용제한': 0, '정복': 0, '메이드': 0, '공기청정기': 0, '민수': 0, '거울': 0, '예견': 0, '춘천': 0, '소양': 0, '씨디': 0, '냉매': 0, '추진제': 0, '육상': 0, '지진': 0, '폴리텍': 0, '폴리카보네이트': 0, '복층골판': 0, '장재': 0, '기법': 0, '축산물': 0, '고기': 0, '치약': 0, '정사유': 0, '청구대': 0, '시큐리티': 0, '승차': 0, '번영': 0, '솔로몬': 0, '사망률': 0, '광원': 0, '메가와트': 0, '폴런': 0, '크레스트': 0, '애틀랜틱': 0, '통행료': 0, '징수': 0, '웨스턴': 0, '뉴잉글랜드': 0, '반코프': 0, '토모': 0, '경전차': 0, '엘빗': 0, '일련': 0, '서한': 0, '헥시': 0, '티드': 0, '버뱅크': 0, '우한': 0, '묘모': 0, '컨버터블': 0, '훙루': 0, '샤오미': 0, '인쇄소': 0, '오늘날': 0, '근본': 0, '심비코트': 0, '천식': 0, '적격': 0, '별로': 0, '레제론': 0, '린스': 0, '브루어': 0, '선인': 0, '오페': 0, '컬렉션': 0, '뉴스레터': 0, '슈진후이쯔': 0, '동산': 0, '부츠': 0, '로잘린드': 0, '호신': 0, '무릎': 0, '자궁': 0, '내막': 0, '루골릭스': 0, '수요일': 0, '불똥': 0, '라지': 0, '온도': 0, '빈자리': 0, '패턴': 0, '부채질': 0, '리비아': 0, '응축': 0, '집안': 0, '터보': 0, '스퀴드': 0, '셔터': 0, '스탁': 0, '동북': 0, '웰크': 0, '야금': 0, '매출채권': 0, '항만': 0, '장부': 0, '융성': 0, '링룽': 0, '텍스': 0, '아지': 0, '곤런': 0, '벤자민': 0, '세리': 0, '동기화': 0, '선런사': 0, '안후이': 0, '잉자': 0, '증류': 0, '플릿': 0, '음식물': 0, '각기': 0, '버크': 0, '할로우': 0, '아이즈': 0, '허치슨': 0, '스웨덴': 0, '링강': 0, '커먼웰스': 0, '수혈': 0, '피루브산': 0, '말단': 0, '스태핑': 0, '콤비': 0, '심위': 0, '빛바랜': 0, '적발': 0, '디바이': 0, '면전': 0, '춘천시': 0, '센티': 0, '떨떠름': 0, '낫다': 0, '로버': 0, '뉴카카': 0, '젖먹이': 0, '아기': 0, '출산': 0, '장려': 0, '균기': 0, '한몫': 0, '종결': 0, '주기': 0, '별일': 0, '성창': 0, '블루칩': 0, '첨가제': 0, '모나리자': 0, '키토산': 0, '정보보호': 0, '출주': 0, '종류': 0, '인생': 0, '방이': 0, '루닛': 0, '인피니트': 0, '종합병원': 0, '난항': 0, '공동체': 0, '농번기': 0, '일손': 0, '선교사': 0, '속단': 0, '에폭시': 0, '뒤로': 0, '연매출': 0, '세운': 0, '주사기': 0, '부설': 0, '퍼펙트': 0, '다이어리': 0, '리닝': 0, '재주': 0, '새끼': 0, '취급': 0, '두산건설': 0, '코너': 0, '푸른': 0, '필라델피아': 0, '인덱스펀드': 0, '기획': 0, '접목': 0, '무버': 0, '레이크': 0, '누님': 0, '꽃길': 0, '원매': 0, '티시스': 0, '기인': 0, '페론': 0, '셀비온': 0, '무너뜨렸다': 0, '파트타이머': 0, '날갯짓': 0, '관치': 0, '금은': 0, '전력거래소': 0, '권역': 0, '안팔': 0, '임마': 0, '뭔가': 0, '승리자': 0, '집합소': 0, '잔뜩': 0, '최고다': 0, '현석': 0, '뉴시스': 0, '펩진': 0, '가정법원': 0, '미백': 0, '김정문': 0, '모발': 0, '별관': 0, '상장법인': 0, '알림': 0, '염블리': 0, '정용진': 0, '구단주': 0, '웃픈': 0, '덩어리': 0, '외감': 0, '팹리스': 0, '해도': 0, '실컷': 0, '됴룩넘들': 0, '됴룩질': 0, '떵떵거리': 0, '데리': 0, '제제': 0, '고가': 0, '매번': 0, '쓴맛': 0, '큐리': 0, '개찬': 0, '양심': 0, '악의': 0, '피팅': 0, '가맹': 0, '불량': 0, '남사': 0, '종일': 0, '반성': 0, '속마음': 0, '조심': 0, '개미지옥': 0, '부리고': 0, '절호': 0, '하하': 0, '몽땅': 0, '일보': 0, '공중': 0, '길이': 0, '조물': 0, '전동기': 0, '수산업': 0, '협동조합': 0, '내비게이션': 0, '수고': 0, '오디': 0, '세뱃돈': 0, '판다': 0, '오세아니아': 0, '일렉트로': 0, '플레': 0, '아이콘트롤스': 0, '자화자찬': 0, '네이블': 0, '컴포텍': 0, '실업률': 0, '구진': 0, '콘테': 0, '연정': 0, '추경': 0, '예산안': 0, '중의원': 0, '양행': 0, '컨텍': 0, '옐로': 0, '혜인': 0, '꼬리': 0, '트랜': 0, '선창': 0, '사냥꾼': 0, '전자문서': 0, '동상': 0, '이몽': 0, '트러스': 0, '이어진': 0, '제로원': 0, '욕구': 0, '채취': 0, '미투': 0, '탑코': 0, '지하철': 0, '무자': 0, '진행형': 0, '저력': 0, '페이퍼': 0, '사냥': 0, '시큐브': 0, '위니': 0, '딤채': 0, '밀착': 0, '셀러': 0, '동창': 0, '에스원': 0, '성현': 0, '장하나': 0, '도용': 0, '스시': 0, '포스코강판': 0, '정신과': 0, '스캔': 0, '미얀마': 0, '가스전': 0, '안트로젠': 0, '액체': 0, '생검': 0, '결합체': 0, '기일': 0, '단속': 0, '이동훈': 0, '타산': 0, '지석': 0, '비아이': 0, '동국': 0, '나신': 0, '완주': 0, '최후': 0, '숏스퀴즈': 0, '폭스바겐': 0, '플랙시블': 0, '엑스박스': 0, '에이치시티': 0, '고집': 0, '눈가': 0, '주름': 0, '지목': 0, '대장암': 0, '세인': 0, '차석용': 0, '매직': 0, '무력': 0, '행시': 0, '박철': 0, '쾌청': 0, '음원': 0, '외길': 0, '결실': 0, '정해': 0, '더니': 0, '주가조작': 0, '직장': 0, '머그': 0, '피켓': 0, '일드': 0, '전원주': 0, '회처': 0, '경리': 0, '일조': 0, '교두보': 0, '교세라': 0, '선공': 0, '기진': 0, '고려대학교': 0, '기증': 0, '가마치': 0, '통닭': 0, '생약': 0, '양도소득세': 0, '대행': 0, '보로': 0, '발의': 0, '트롯': 0, '한정': 0, '화폐': 0, '플랜코리아': 0, '앰배서더': 0, '학대': 0, '판교': 0, '팝업': 0, '미국법': 0, '한중': 0, '병행': 0, '강성천': 0, '지로': 0, '주파수': 0, '스통크': 0, '대항': 0, '감포': 0, '페라리': 0, '인지도': 0, '지시': 0, '계산기': 0, '스코어': 0, '쟁점': 0, '혼쭐': 0, '군인공제회': 0, '태백시': 0, '비정상회담': 0, '테토': 0, '비시': 0, '배경': 0, '싱글벙글': 0, '가미': 0, '황성': 0, '홍정욱': 0, '존슨앤존슨': 0, '인콘': 0, '김기옥': 0, '한길': 0, '창공': 0, '교재': 0, '비정상': 0, '회담': 0, '아쿠아': 0, '로그': 0, '맞선': 0, '신동준': 0, '중턱': 0, '자서': 0, '음반': 0, '철관': 0, '제과': 0, '진전': 0, '최저임금': 0, '구광모': 0, '주판': 0, '튕기': 0, '광란': 0, '시계': 0, '이사도': 0, '지자체': 0, '투항': 0, '코콤': 0, '장동민': 0, '플레인스': 0, '앤피': 0, '평방': 0, '티슬리주맙': 0, '소견': 0, '도선': 0, '프로그레시브': 0, '제임스': 0, '원수': 0, '항샤오': 0, '인텔리전스': 0, '시그나': 0, '사노피': 0, '샨시': 0, '코킹': 0, '헤난': 0, '유광': 0, '브리지': 0, '코르프': 0, '코먼': 0, '크리스토퍼': 0, '윔플러': 0, '장완': 0, '피뢰침': 0, '신호야': 0, '초소': 0, '답글앞': 0, '샹탄': 0, '요하네스버그': 0, '메인보드': 0, '밴코프': 0, '로스앤젤레스': 0, '진저우': 0, '탁자': 0, '특약': 0, '오크': 0, '셰어': 0, '마타': 0, '배양': 0, '오리진': 0, '토피': 0, '플레인': 0, '네브라스카': 0, '에탄올': 0, '팩토링': 0, '나단': 0, '주마': 0, '진창': 0, '디신': 0, '플러': 0, '필리포': 0, '후난': 0, '밸린': 0, '쿠무': 0, '분과': 0, '중정': 0, '타이거드': 0, '신케': 0, '남방': 0, '정의': 0, '광역': 0, '스피릿': 0, '권리금': 0, '로빈슨': 0, '금융채': 0, '미카': 0, '베리타스': 0, '링커': 0, '쇼울스': 0, '밴코퍼': 0, '혁명가': 0, '다중': 0, '통증': 0, '케네디': 0, '윌슨': 0, '충당금': 0, '신도시': 0, '사우스사이드': 0, '야드': 0, '캐세이퍼시픽': 0, '보록': 0, '코닝': 0, '온정': 0, '준글': 0, '타치': 0, '본주': 0, '오니': 0, '아따': 0, '마삼': 0, '편안함': 0, '형호': 0, '답글끼': 0, '아악': 0, '버킷': 0, '고향': 0, '알뜰': 0, '장만': 0, '쪽박': 0, '학기': 0, '가구': 0, '아웃도어': 0, '캔자스': 0, '제이슨': 0, '저장톈': 0, '기계로': 0, '저장텐': 0, '구형': 0, '우비': 0, '애버빙': 0, '골격': 0, '직립': 0, '소방수': 0, '세속': 0, '표명': 0, '자가': 0, '션트': 0, '지드': 0, '레이테': 0, '홍해': 0, '터미널': 0, '레프': 0, '경찰': 0, '형법': 0, '복습': 0, '강도': 0, '수산물': 0, '스테인리스': 0, '텍스트': 0, '엄빠': 0, '바구니': 0, '타이틀': 0, '띨까': 0, '선지': 0, '얼결': 0, '매틱': 0, '역작': 0, '샴푸': 0, '전서': 0, '쿤달': 0, '실키': 0, '로션': 0, '코르': 0, '쌤통': 0, '조롱': 0, '입당': 0, '오보에': 0, '포스코엠텍': 0, '속수무책': 0, '재훈': 0, '대화방': 0, '주연테크': 0, '능주': 0, '대양': 0, '캠퍼스': 0, '투표제': 0, '박경서': 0, '콴텍': 0, '담뱃값': 0, '흡연': 0, '장시간': 0, '새내기': 0, '박철완': 0, '스탁콘': 0, '구체화': 0, '민원': 0, '홈피': 0, '강타': 0, '몸통': 0, '폼팩터': 0, '거나': 0, '두자릿': 0, '테이블': 0, '이동석': 0, '성립': 0, '문답': 0, '형식': 0, '굴욕': 0, '애디슨': 0, '웨이퍼': 0, '장례식': 0, '임닭': 0, '가슴': 0, '프랑크': 0, '소시지': 0, '동남권': 0, '와디': 0, '펀딩형': 0, '파머스': 0, '랜선': 0, '학부모': 0, '라파스': 0, '이보': 0, '어몽': 0, '방석': 0, '정착': 0, '외상': 0, '라바': 0, '레딧': 0, '토론': 0, '공랭식': 0, '열교환기': 0, '무통': 0, '기탁': 0, '조안': 0, '정산': 0, '자공시': 0, '공기': 0, '베츠': 0, '형사': 0, '성균관대': 0, '원단': 0, '신고리': 0, '호기': 0, '이월드': 0, '청소': 0, '대서양': 0, '에스오일': 0, '주권': 0, '승전': 0, '기쁨': 0, '역풍': 0, '한성기업': 0, '삼촌': 0, '기름': 0, '임재': 0, '설밑': 0, '예년': 0, '비슷': 0, '야권': 0, '일화': 0, '고성': 0, '예스': 0, '퇴사': 0, '부서장': 0, '물리탐사': 0, '덴티움': 0, '티벨': 0, '동반성': 0, '암초': 0, '권력': 0, '이동일': 0, '밸런스': 0, '펀드랩': 0, '감마': 0, '생석회': 0, '석회석': 0, '백운석': 0, '튤립': 0, '아토피': 0, '거물': 0, '지사': 0, '제니': 0, '불기소': 0, '구속영장': 0, '대피소': 0, '석화': 0, '불감증': 0, '디디': 0, '추싱': 0, '내정': 0, '족집게': 0, '천재': 0, '교과서': 0, '한전': 0, '즉각': 0, '손질': 0, '대목': 0, '폐쇄후': 0, '경상': 0, '인하': 0, '머스트': 0, '국지도': 0, '매사추세츠주': 0, '국무장관': 0, '매립': 0, '전자기': 0, '폴라리스': 0, '몬델': 0, '퀄리': 0, '응답': 0, '데스크톱': 0, '에르메스': 0, '마카': 0, '덴코': 0, '캐피톨': 0, '불협화음': 0, '상징물': 0, '취합니': 0, '통유': 0, '근해': 0, '장자강': 0, '후루이': 0, '진유': 0, '프록': 0, '칼루타': 0, '토르': 0, '오동': 0, '룽장': 0, '보호수': 0, '리치먼드': 0, '글레이셔': 0, '미들랜드': 0, '브릿지워터': 0, '안통': 0, '간쑤': 0, '지우': 0, '훙싱': 0, '현역': 0, '집시': 0, '발코': 0, '하와': 0, '이안': 0, '켄드': 0, '창홍': 0, '바오터우': 0, '신싱': 0, '연성': 0, '패러데이': 0, '제트': 0, '항폐': 0, '부종': 0, '카티': 0, '바이너리': 0, '알프스': 0, '닛폰': 0, '이키': 0, '바이인': 0, '비철': 0, '금단': 0, '시바': 0, '스틸워터': 0, '니엘': 0, '엔데버': 0, '디아지오': 0, '텔레매틱스': 0, '오하이오': 0, '카날': 0, '에이브': 0, '역년': 0, '동샹': 0, '참고': 0, '주산': 0, '미드웨스트': 0, '루이지애나주': 0, '공지': 0, '오픈마켓': 0, '선양': 0, '중싱톈훙': 0, '유흥업소': 0, '디머': 0, '랴오닝': 0, '국제항': 0, '푸렌': 0, '드래곤즈': 0, '헤인스': 0, '버지니아': 0, '룩셈부르크': 0, '탈의': 0, '플러싱': 0, '포춘지': 0, '뤄양': 0, '추매': 0, '힌트': 0, '이질': 0, '망햇낭': 0, '모야': 0, '희망고문': 0, '폭하': 0, '차려': 0, '안햇': 0, '찬티드': 0, '어쩌': 0, '담배값': 0, '발악': 0, '좀햐': 0, '일장': 0, '답글익': 0, '조금': 0, '좀비': 0, '프린스턴': 0, '맥도널드': 0, '콤플렉스': 0, '터키석': 0, '언덕': 0, '재판소': 0, '허상': 0, '구려': 0, '신분': 0, '지랄': 0, '개꿀': 0, '보신': 0, '기손': 0, '수중': 0, '퍼수익': 0, '순간': 0, '천국': 0, '원주': 0, '쯧쯧': 0, '테리': 0, '고양': 0, '비메': 0, '모리': 0, '왕개미': 0, '헛스윙': 0, '만루홈런': 0, '착시': 0, '사이드': 0, '내재가치': 0, '벽돌깨기': 0, '모의': 0, '어린이': 0, '파산': 0, '바클레이스': 0, '우슬': 0, '발발': 0, '방광암': 0, '김병규': 0, '항공대': 0, '연륙교': 0, '완공': 0, '영종하늘도시': 0, '미상': 0, '앞장': 0, '마비': 0, '은서': 0, '최애': 0, '신한은행': 0, '커스터': 0, '주르륵': 0, '적도': 0, '소속사': 0, '보락': 0, '민주화': 0, '노선': 0, '상후': 0, '다작': 0, '김포': 0, '아바타': 0, '매튜': 0, '커비': 0, '내추럴': 0, '단복': 0, '릴리': 0, '아사히': 0, '세이': 0, '구이저우': 0, '신조어': 0, '어뮤징': 0, '김영': 0, '징징': 0, '계전기': 0, '취향': 0, '인스턴트': 0, '메시': 0, '펌핑': 0, '폐점': 0, '웰바이오텍': 0, '윌비스': 0, '검찰총장': 0, '대리인': 0, '농축': 0, '아이로봇': 0, '샤크': 0, '닌자': 0, '후커': 0, '호킨스': 0, '볼터스': 0, '클루': 0, '여정': 0, '어쿠스틱': 0, '트랙터': 0, '프로방스': 0, '중진': 0, '리볼브': 0, '리볼버': 0, '세르': 0, '전두엽': 0, '전염': 0, '물색': 0, '실마리': 0, '초석': 0, '패자': 0, '모빌': 0, '올앳': 0, '체코': 0, '룻새': 0, '채운': 0, '봄맞이': 0, '엘링턴': 0, '출근': 0, '경제활동': 0, '기형': 0, '추종': 0, '셀링': 0, '열흘': 0, '간선': 0, '전기동차': 0, '지경': 0, '하소연': 0, '투매': 0, '투밸류': 0, '천리': 0, '위생': 0, '황화수소': 0, '연합군': 0, '김봉현': 0, '접대': 0, '위워': 0, '전가': 0, '차원': 0, '벼르': 0, '엄마': 0, '비디오게임': 0, '쥐꼬리': 0, '스노플레이크': 0, '다이아몬드': 0, '돈나무': 0, '언니': 0, '서경': 0, '악순환': 0, '고리': 0, '팔면': 0, '라라': 0, '악마': 0, '좃됐네': 0, '추석': 0, '장초': 0, '개폭학': 0, '기웃': 0, '강남': 0, '월세': 0, '노원': 0, '예치': 0, '카누': 0, '왕자': 0, '정상영': 0, '윈난': 0, '리튬배터리': 0, '뉴질랜드': 0, '옌타이': 0, '콥터': 0, '유파': 0, '민첩성': 0, '아마': 0, '시청자': 0, '르브론': 0, '론키': 0, '더블딥': 0, '항복': 0, '침범': 0, '심상': 0, '찮다': 0, '절벽': 0, '수퍼': 0, '리치': 0, '면죄': 0, '유권해석': 0, '재탕': 0, '끼리': 0, '몸캠': 0, '피싱': 0, '유동화': 0, '기성세대': 0, '민간인': 0, '증서': 0, '만큼': 0, '기근': 0, '항렬': 0, '뒤안길': 0, '범현대': 0, '텍사스주': 0, '재산세': 0, '면액': 0, '환수': 0, '뉴욕주': 0, '소환장': 0, '왕친밍': 0, '길리어드': 0, '부록': 0, '일본항공': 0, '플라크': 0, '국소': 0, '크림': 0, '화증': 0, '우드워드': 0, '국방부': 0, '처방전': 0, '엘룸': 0, '미결': 0, '침대': 0, '욕조': 0, '또한': 0, '민트': 0, '연봉': 0, '전적': 0, '타오': 0, '유자': 0, '베드': 0, '배스': 0, '비욘드': 0, '마차': 0, '라이더': 0, '페트로브라스': 0, '페로': 0, '하얼빈': 0, '오도': 0, '제너시스': 0, '나주': 0, '좃내': 0, '퀸시': 0, '웰니스': 0, '매점': 0, '합병계약': 0, '어뮤즈': 0, '상기': 0, '라벨': 0, '유명': 0, '에이전시': 0, '막심': 0, '이군': 0, '사회보장': 0, '성사': 0, '발자국': 0, '이니셔티브': 0, '엑셀': 0, '안전성': 0, '밑돈': 0, '해외여행': 0, '자금시장': 0, '위험관리': 0, '전투': 0, '리얼미터': 0, '변액': 0, '송인': 0, '서점': 0, '포비아': 0, '남성현': 0, '제각각': 0, '점차': 0, '뇌전증': 0, '온코펩': 0, '방위사업청': 0, '던전': 0, '묘미': 0, '집콕족': 0, '맥쿼리인프라': 0, '중간배당': 0, '사운드': 0, '리퍼': 0, '헝가리': 0, '조일': 0, '낸드': 0, '구재': 0, '위서': 0, '판매승인': 0, '이브': 0, '유룬': 0, '라이언에어': 0, '라디오': 0, '타이베이': 0, '베순옌': 0, '슈에잉화': 0, '마레': 0, '워너': 0, '오만': 0, '오브스': 0, '액센츄어': 0, '세번': 0, '비활': 0, '풍선': 0, '클로버': 0, '스카이라인': 0, '타타': 0, '스텔링': 0, '페렌티': 0, '필즈': 0, '소시에다드': 0, '흡입': 0, '앰피온': 0, '액세스': 0, '개편안': 0, '퍼블릭': 0, '패스파인더': 0, '애질런트': 0, '카이산': 0, '압축기': 0, '미흡': 0, '노모': 0, '엔진': 0, '테이크어웨이': 0, '포착': 0, '디앤오': 0, '견적': 0, '밀로': 0, '평가판': 0, '조현병': 0, '불지': 0, '원천': 0, '월즐리': 0, '절충': 0, '렉셀': 0, '레거시': 0, '사정': 0, '코트': 0, '간칸': 0, '오리엔테이션': 0, '콜라': 0, '모던': 0, '제곱근': 0, '화파': 0, '녹스빌': 0, '로직': 0, '차물량': 0, '포스팅': 0, '지리': 0, '폭스콘': 0, '개차종': 0, '온택트': 0, '희림': 0, '시마': 0, '알고싶다': 0, '메디아': 0, '제물포': 0, '불완전': 0, '인산': 0, '덕트': 0, '드래곤플라이': 0, '금결원': 0, '아무': 0, '밑바탕': 0, '광통신': 0, '상감': 0, '비아': 0, '이설': 0, '남동': 0, '탄소섬유': 0, '잔량': 0, '넥쏘향': 0, '점령': 0, '데스크': 0, '사이비': 0, '소년': 0, '셀프': 0, '네일': 0, '사라센': 0, '불가사의': 0, '살길': 0, '와전': 0, '악질': 0, '스트롱': 0, '동운': 0, '나텍': 0, '삼중': 0, '산맥': 0, '엑손모빌': 0, '쉐브론': 0, '문건': 0, '은값': 0, '한산': 0, '하이난항공': 0, '반짝': 0, '이재경': 0, '정용석': 0, '텅텅': 0, '제롬': 0, '속사': 0, '점수': 0, '시크': 0, '파노라마': 0, '이노와이어리스': 0, '레깅스': 0, '탑선': 0, '아이스크림': 0, '적중': 0, '리뷰': 0, '장갑': 0, '바텍': 0, '해석': 0, '잔잔': 0, '홍보': 0, '대첩': 0, '위세': 0, '앨비': 0, '이건창': 0, '샘물': 0, '세종대왕': 0, '성숙': 0, '탈황': 0, '결집': 0, '줄타기': 0, '용공': 0, '정용': 0, '석씨': 0, '스크래핑': 0, '보통신': 0, '알바': 0, '지체': 0, '일양약품': 0, '서흥': 0, '오공': 0, '미술': 0, '소장품': 0, '마인': 0, '체크카드': 0, '람다': 0, '루니': 0, '선구자': 0, '경상도': 0, '신생': 0, '조종': 0, '동우': 0, '성은': 0, '태광': 0, '비피': 0, '영유': 0, '밸류업': 0, '여권': 0, '투사': 0, '모험': 0, '기도': 0, '시큰둥': 0, '살의': 0, '돈줄': 0, '마르': 0, '무니': 0, '네이쳐': 0, '폴리우레탄': 0, '헤드폰': 0, '표기': 0, '꾸러미': 0, '옥죄': 0, '금융결제원': 0, '일러스트레이션': 0, '페어': 0, '복층': 0, '온천': 0, '기숙사': 0, '적립금': 0, '위브': 0, '목동': 0, '시민단체': 0, '고삐': 0, '캐드': 0, '아키': 0, '전개': 0, '엠엔텍': 0, '밀양': 0, '개통': 0, '신더': 0, '게임쇼': 0, '빈센트': 0, '실명': 0, '대중화': 0, '액토즈': 0, '금연': 0, '스페인': 0, '내츄': 0, '산림조합': 0, '상조': 0, '국제상품': 0, '낙상': 0, '고견': 0, '빠때리': 0, '젤로': 0, '건만': 0, '밀리': 0, '스디': 0, '어디가': 0, '설전': 0, '이태형': 0, '헤리티지': 0, '소급': 0, '어린이재단': 0, '고난': 0, '녹취': 0, '적합': 0, '상존': 0, '선영': 0, '묵은지': 0, '김치찌개': 0, '셋톱박스': 0, '숏스': 0, '퀴즈': 0, '전경련': 0, '한영': 0, '대학생': 0, '경연': 0, '원광대': 0, '페스티벌': 0, '설날': 0, '떡국': 0, '도돌이표': 0, '사마': 0, '아내': 0, '각방': 0, '아두': 0, '최희남': 0, '스톱': 0, '국부펀드': 0, '싸이월드': 0, '기지역': 0, '분당': 0, '파장': 0, '파파': 0, '올인원': 0, '수두': 0, '하청': 0, '마오타이': 0, '포블': 0, '탐방': 0, '소모품': 0, '아남전자': 0, '굴려': 0, '전향': 0, '부도': 0, '논설': 0, '신드': 0, '트럼피즘': 0, '스키': 0, '가양': 0, '생명감': 0, '공소장': 0, '변창흠표': 0, '여물': 0, '배구': 0, '연맹': 0, '콤텍': 0, '고용노동부': 0, '허드': 0, '이펙트': 0, '솔베이': 0, '모씨': 0, '정당': 0, '크리티카': 0, '올엠': 0, '천차만별': 0, '머릿수': 0, '그래핀': 0, '섬유': 0, '번진': 0, '알파벳': 0, '뒷걸음질': 0, '척척': 0, '습관': 0, '최적화': 0, '진국': 0, '수사의뢰': 0, '먹구름': 0, '보편': 0, '구토': 0, '기생충': 0, '강아지': 0, '회충': 0, '구충제': 0, '복용': 0, '의뢰': 0, '롱쇼트': 0, '블소': 0, '쇼케이스': 0, '승산': 0, '수렁': 0, '농약': 0, '발리볼': 0, '서정진': 0, '키메라': 0, '수용체': 0, '두바이': 0, '프렌드': 0, '키웨스트': 0, '전하': 0, '양자암호': 0, '구글플레이': 0, '영화로': 0, '용돈': 0, '보름': 0, '메이크업': 0, '모션': 0, '컴텍': 0, '얀덱스': 0, '택시': 0, '테그': 0, '예술': 0, '분열': 0, '스텐탄': 0, '동방항공': 0, '두레': 0, '절경': 0, '색체': 0, '감압': 0, '비감': 0, '가압': 0, '브랜디': 0, '전갈': 0, '에머슨': 0, '절단': 0, '바느질': 0, '매트리스': 0, '모하': 0, '에센셜': 0, '요약': 0, '아레스': 0, '대당': 0, '중환': 0, '아토스': 0, '만장일치': 0, '말초': 0, '정맥': 0, '카디': 0, '익손': 0, '웨스': 0, '장소': 0, '아르텔': 0, '트리니티': 0, '칼리지': 0, '더블린': 0, '항의': 0, '신양': 0, '스즈키': 0, '쿠데타': 0, '매치': 0, '타우': 0, '최고경영자': 0, '말루히': 0, '폐쇄할': 0, '류바': 0, '청콩': 0, '구의': 0, '연소': 0, '오토바이': 0, '전갈자리': 0, '재무성': 0, '할리데이비슨': 0, '개년': 0, '컴플라이언스': 0, '크라프트': 0, '하인': 0, '실험실': 0, '아부다비': 0, '루바': 0, '스반': 0, '포획': 0, '다카': 0, '킹젠타': 0, '생태': 0, '맨싱': 0, '알레나': 0, '리차드': 0, '캣츠': 0, '신푸잉': 0, '인청': 0, '글로브': 0, '산미': 0, '산동': 0, '제나': 0, '가오': 0, '위엔': 0, '메헤코': 0, '안과': 0, '렌티': 0, '알레그로': 0, '코노코필립스': 0, '타이탄': 0, '브라이튼': 0, '칼라일': 0, '버너': 0, '장량': 0, '완둥메디칼': 0, '나야리트': 0, '선견지명': 0, '윌리엄': 0, '블레어': 0, '중개인': 0, '톈리': 0, '청중': 0, '심블': 0, '가모': 0, '식당': 0, '아흐메드': 0, '파키스탄': 0, '소스': 0, '리볼빙': 0, '콜레스테롤': 0, '약동학': 0, '프리포트': 0, '리처드': 0, '애더슨': 0, '진통': 0, '티엠': 0, '표준화': 0, '답변': 0, '사리': 0, '파이오링크': 0, '치과': 0, '식별': 0, '팁스': 0, '홈파티': 0, '특례시': 0, '승격': 0, '유탑바': 0, '루드': 0, '버디': 0, '크러시': 0, '커패시터': 0, '호남': 0, '종업': 0, '홀드': 0, '동났다': 0, '감봉': 0, '셰난도': 0, '엘칸': 0, '체서피크': 0, '씨피': 0, '가중': 0, '잉리': 0, '칼라': 0, '사나': 0, '아우성': 0, '우월': 0, '웹콘텐츠': 0, '잦아드': 0, '알코올': 0, '지방간': 0, '가격표': 0, '외도': 0, '대이동': 0, '구체': 0, '늘때': 0, '알톤스포츠': 0, '블러': 0, '썸엠앤': 0, '신도리코': 0, '폭도': 0, '땅콩': 0, '인사동': 0, '회사법': 0, '종묘': 0, '안테나': 0, '닌텐도': 0, '우노': 0, '캐슬': 0, '봉합': 0, '미지수': 0, '산탄데르': 0, '중미': 0, '오한': 0, '루이지': 0, '고등법원': 0, '올림푸스': 0, '하노버': 0, '샌탄데르': 0, '우강': 0, '콩코드': 0, '산시': 0, '이강': 0, '왕첸': 0, '처브': 0, '롄허': 0, '텔러스': 0, '선물거래소': 0, '메트라이프': 0, '폐쇄형': 0, '수지': 0, '신용장': 0, '적함': 0, '미쓰에이': 0, '당초': 0, '둥정': 0, '레카': 0, '셔윈': 0, '윌리엄스': 0, '리듬': 0, '막탁': 0, '에드먼드': 0, '재교육': 0, '버클리': 0, '후순위채권': 0, '외로': 0, '발렌타인': 0, '실로': 0, '코티카': 0, '시력': 0, '다니엘': 0, '티노': 0, '판케': 0, '스코츠': 0, '미라클': 0, '프린트': 0, '제트기': 0, '발레': 0, '노벨': 0, '이하이': 0, '마누': 0, '낙하': 0, '광물': 0, '생리학': 0, '양강': 0, '구도': 0, '레아': 0, '발론': 0, '각주': 0, '사찰': 0, '튜링': 0, '선형': 0, '절망': 0, '놀이터': 0, '장수': 0, '지방채': 0, '판도': 0, '얼리전트': 0, '풍력에너지': 0, '쑤저우': 0, '푸젠': 0, '오키': 0, '심해': 0, '아스피': 0, '종속': 0, '마마': 0, '북방': 0, '마르셀': 0, '셰일': 0, '프란시스': 0, '드레이크': 0, '허슬': 0, '킴볼': 0, '이글라': 0, '매디슨': 0, '안헤': 0, '은행가': 0, '해통': 0, '농민': 0, '대량학살': 0, '소식통': 0, '압수': 0, '건너': 0, '난장판': 0, '전예진': 0, '회계감사': 0, '돌직구': 0, '무제한': 0, '제넨셀': 0, '캄보디아': 0, '나머진': 0, '무기한': 0, '화룡': 0, '점정': 0, '본질': 0, '희화': 0, '뉴앤뉴': 0, '패키징': 0, '올릭스': 0, '입김': 0, '씹빠': 0, '쌈디': 0, '하루하루': 0, '뿌수러': 0, '부정선거': 0, '무효': 0, '현재상황': 0, '관매도': 0, '학살': 0, '엿같': 0, '소니': 0, '투쟁': 0, '비콘': 0, '성대': 0, '프린팅': 0, '문책': 0, '박재민': 0, '뇌졸증': 0, '감후': 0, '린앤': 0, '코스모스': 0, '시크릿': 0, '방선기': 0, '페지': 0, '이글루': 0, '오투': 0, '라이온켐텍': 0, '헬라': 0, '삼천리자전거': 0, '한농': 0, '염승': 0, '환의': 0, '깻잎': 0, '차즈기': 0, '누락': 0, '내야': 0, '걸렀다': 0, '뿌리': 0, '목포': 0, '양립': 0, '포레': 0, '이차': 0, '공갈': 0, '몰락': 0, '저승사자': 0, '원성': 0, '방치': 0, '유관': 0, '학계': 0, '파렉셀': 0, '해피엔딩': 0, '임시회': 0, '마스': 0, '대오': 0, '타자': 0, '확률': 0, '종금': 0, '소마': 0, '결함': 0, '회귀': 0, '프럼파스트': 0, '허망': 0, '입사': 0, '스카이라이프': 0, '분법': 0, '계약설': 0, '관여': 0, '용적률': 0, '참패': 0, '이색': 0, '특채': 0, '비임': 0, '고혈압': 0, '고지혈증': 0, '보톡스': 0, '냉기': 0, '긴장감': 0, '알바트로스': 0, '멘트': 0, '베일': 0, '개업': 0, '세무사': 0, '떠블': 0, '더독': 0, '차기작': 0, '폴크스바겐': 0, '트스': 0, '케이스': 0, '충북': 0, '천단': 0, '상공회의소': 0, '낭성': 0, '종주국': 0, '셀트': 0, '물살': 0, '타지': 0, '완제': 0, '호감': 0, '대사': 0, '우리카드': 0, '그라드': 0, '테이크아웃': 0, '냅킨': 0, '펄프': 0, '저격수': 0, '보릿고개': 0, '미디어렙': 0, '하감': 0, '가성': 0, '갑상선': 0, '립턴': 0, '박자': 0, '원가': 0, '우대금리': 0, '판이': 0, '반려': 0, '무관심': 0, '쿠쿠': 0, '스캐닝': 0, '한류': 0, '마포': 0, '다운로드': 0, '퍼블리셔': 0, '포핀': 0, '겨낭': 0, '자도': 0, '도시락': 0, '뮤지컬': 0, '달리': 0, '일장춘몽': 0, '상전': 0, '벽해': 0, '티아': 0, '단절': 0, '어메이징': 0, '브루잉': 0, '해법': 0, '인바디': 0, '설화수': 0, '숨통': 0, '고급': 0, '카봇': 0, '휴비츠': 0, '안구': 0, '촬영': 0, '지멘스': 0, '크릭': 0, '트라이엄프': 0, '쿠로': 0, '알레': 0, '오션스': 0, '일단락': 0, '안정국': 0, '예언': 0, '제츠': 0, '변창흠': 0, '실익': 0, '헌터': 0, '배짱': 0, '땜질': 0, '콘쥬란': 0, '경실련': 0, '방해': 0, '집콕주': 0, '골도': 0, '새우깡': 0, '치면': 0, '농심': 0, '광석': 0, '역기': 0, '소강': 0, '것감': 0, '신자': 0, '라이터': 0, '복제': 0, '허건': 0, '비철금속': 0, '커닝햄': 0, '액티비전': 0, '블리자드': 0, '물이': 0, '에반스': 0, '심층': 0, '세브란스': 0, '언론': 0, '신문': 0, '걸프': 0, '캔자스시티': 0, '액수': 0, '책자': 0, '셰일가스': 0, '무라카미': 0, '행정': 0, '피드백': 0, '라이온스게이트': 0, '봉책': 0, '승객': 0, '데커': 0, '카사바': 0, '싱글': 0, '인터페이스': 0, '주조': 0, '비핀펫': 0, '메러디스': 0, '처가': 0, '형평': 0, '성제': 0, '벨링': 0, '유물': 0, '고등교육': 0, '비량': 0, '핀터레스트': 0, '보조금': 0, '에이펙': 0, '콜스': 0, '톨레도': 0, '결합제': 0, '구스': 0, '테크닙': 0, '태피스트리': 0, '간표': 0, '스포': 0, '스튜어트': 0, '화살': 0, '스리랑카': 0, '키네틱스': 0, '시그마': 0, '오메가': 0, '제프': 0, '니트': 0, '유제품': 0, '벡튼': 0, '디킨슨': 0, '동장': 0, '초단': 0, '노맵': 0, '남서': 0, '퓨전': 0, '허쉬': 0, '나타남': 0, '밍루': 0, '닐슨': 0, '팟캐스트': 0, '레슬리': 0, '알렉': 0, '하트포드': 0, '백스터': 0, '카료': 0, '엑스포': 0, '퀴드': 0, '프릭': 0, '페니': 0, '럭스': 0, '정밀도': 0, '믈른': 0, '알루미나': 0, '키라': 0, '당사자': 0, '몰입도': 0, '벤치마크': 0, '위더스': 0, '성윤': 0, '효용': 0, '일산대교': 0, '뉴비': 0, '헤어': 0, '본점': 0, '뷰띠': 0, '슈퍼볼': 0, '래빗': 0, '인체': 0, '카인': 0, '안간힘': 0, '압수수색': 0, '꼼짝': 0, '관리원': 0, '조단': 0, '준호': 0, '무한대': 0, '팜스빌': 0, '오진': 0, '거주': 0, '미적': 0, '밀도': 0, '추첨': 0, '택지': 0, '쿠콘': 0, '화법': 0, '오디오북': 0, '의안': 0, '정가': 0, '엔시': 0, '레디': 0, '주영': 0, '자전': 0, '프로축구': 0, '스카이스포츠': 0, '인디펜던스': 0, '압색': 0, '본느': 0, '아토': 0, '세이프': 0, '음주운전': 0, '솜방망이': 0, '베테': 0, '숙박시설': 0, '번의': 0, '버셜': 0, '스쿠터': 0, '거제시': 0, '엑사': 0, '태스크포스': 0, '플스': 0, '귀멸': 0, '칼날': 0, '비씨': 0, '논스톱': 0, '윤석': 0, '영안': 0, '세종시': 0, '디랩벤처스': 0, '거래량': 0, '부동산대책': 0, '대리': 0, '파커': 0, '배우': 0, '진기': 0, '발탁': 0, '반세기': 0, '제로로': 0, '외신': 0, '중앙은행': 0, '보스': 0, '숙면': 0, '슬립': 0, '거북섬': 0, '정보보안': 0, '감지': 0, '수수': 0, '구속기소': 0, '안저': 0, '크루세이더': 0, '불씨': 0, '노량진': 0, '블룸': 0, '크레마': 0, '돌체앤가바나': 0, '청담동': 0, '플래그': 0, '메종': 0, '키츠네': 0, '칠랙스': 0, '폭스': 0, '마스코트': 0, '선구': 0, '비젼': 0, '에스코': 0, '노멀': 0, '사팔사팔이': 0, '테너': 0, '박상준': 0, '김중한': 0, '이석': 0, '김대식': 0, '휴비스': 0, '소나기': 0, '콰이쇼우': 0, '두피': 0, '토파': 0, '온에어': 0, '바스': 0, '뜻밖': 0, '특성': 0, '인권': 0, '에이스침대': 0, '코퍼스': 0, '이니텍': 0, '지투알': 0, '해임': 0, '개월내': 0, '개중': 0, '드뎌': 0, '살바': 0, '지에스건설': 0, '유포': 0, '서진': 0, '다임러': 0, '항상': 0, '니콜라': 0, '코노': 0, '향유': 0, '케이티앤지': 0, '하임': 0, '사지': 0, '쇼유': 0, '전전긍긍': 0, '샐러드': 0, '결렬': 0, '조재영': 0, '증여': 0, '재산권': 0, '복판': 0, '최준': 0, '학소': 0, '함정': 0, '치맥': 0, '찰떡': 0, '궁합': 0, '완철': 0, '존리': 0, '지민': 0, '홍의': 0, '일본주': 0, '익명': 0, '고제': 0, '최자': 0, '송이': 0, '완승': 0, '봉호': 0, '스캘핑': 0, '이상익': 0, '타임스스퀘어': 0, '한글': 0, '들불': 0, '드림팀': 0, '이식': 0, '전광판': 0, '숙제': 0, '타임스퀘어': 0, '군침': 0, '고작': 0, '신주인수권': 0, '혁명': 0, '루미': 0, '비리비리': 0, '쇠고기': 0, '슈펙스비앤피': 0, '권유': 0, '가령': 0, '홈트족': 0, '민사소송': 0, '중고나라': 0, '햇습니': 0, '리바운드': 0, '냉동': 0, '핫도그': 0, '횡보할까': 0, '국부': 0, '대다수': 0, '폴라': 0, '르네사스': 0, '엠파': 0, '글리': 0, '포진': 0, '증명서': 0, '애프터': 0, '이명호': 0, '감당': 0, '보냉': 0, '합종': 0, '작물': 0, '피비': 0, '하드웨어': 0, '대적': 0, '폭풍전야': 0, '방시': 0, '이상기후': 0, '럭비': 0, '경기장': 0, '장학생': 0, '식구': 0, '하나로': 0, '위법': 0, '환투기': 0, '방조': 0, '고투': 0, '마킷': 0, '픽셀': 0, '엠텍': 0, '동복': 0, '여종': 0, '투자수익률': 0, '엠피티': 0, '납기': 0, '우보천리': 0, '풍문': 0, '일로': 0, '진주': 0, '너리': 0, '가람': 0, '화상': 0, '존속': 0, '픽스': 0, '김용덕': 0, '상폐사': 0, '해중': 0, '코레일': 0, '반장식': 0, '조폐공사': 0, '반석': 0, '방사성': 0, '동위원소': 0, '철석': 0, '사생활': 0, '신중': 0, '중유': 0, '설연휴': 0, '닥터마틴': 0, '웃음꽃': 0, '당황': 0, '꼬북칩': 0, '습윤': 0, '드레싱': 0, '신안': 0, '집쿡': 0, '삼양사': 0, '심혈': 0, '물대포': 0, '올핸': 0, '메가박스': 0, '오뚜기': 0, '컨콜': 0, '구출': 0, '손정': 0, '간편식': 0, '손보': 0, '대죄': 0, '명당': 0, '숙부': 0, '네오': 0, '농산': 0, '선광': 0, '개봉': 0, '아이온': 0, '정론': 0, '신음': 0, '로시': 0, '시장경제': 0, '옥죄기': 0, '난망': 0, '이뮤노멧': 0, '항염증제': 0, '보전': 0, '명실': 0, '겹친': 0, '수평': 0, '다이얼로그': 0, '가사': 0, '에리': 0, '신트': 0, '유연성': 0, '진케': 0, '츠쿠이': 0, '몬테': 0, '치가': 0, '시안': 0, '다밍': 0, '난타': 0, '낙마': 0, '치과학': 0, '바이오테크놀로지': 0, '사육사': 0, '깨나': 0, '멀리킨': 0, '퓨어': 0, '헬스사': 0, '멀렌': 0, '코이펙트': 0, '넛지파트너스': 0, '결별': 0, '이스타항공': 0, '피란': 0, '택스': 0, '이어폰': 0, '기틀': 0, '혈당': 0, '강하': 0, '학회': 0, '액셀': 0, '로미': 0, '미네랄': 0, '볼타': 0, '거북이': 0, '소항펑': 0, '유니티': 0, '눈병': 0, '메커니즘': 0, '그레고리': 0, '프리드': 0, '트로피': 0, '프랭키': 0, '그린비': 0, '홍선': 0, '심포지엄': 0, '스타코': 0, '영상통화': 0, '상여금': 0, '상록수': 0, '큐빅': 0, '마갈': 0, '맥칸': 0, '내과': 0, '선통': 0, '인스퍼': 0, '융촨': 0, '블루마린': 0, '왕온': 0, '토머스': 0, '카타르': 0, '다감': 0, '저스트': 0, '레다': 0, '팔루': 0, '아비': 0, '라테': 0, '아세테이트': 0, '거세': 0, '구상': 0, '토마스': 0, '랑스': 0, '쿠스': 0, '에네코': 0, '행단': 0, '자황': 0, '에소': 0, '마그네슘': 0, '이위': 0, '피안': 0, '과다복용': 0, '비강': 0, '나메펜': 0, '광밍': 0, '피자': 0, '라핀': 0, '일산화탄소': 0, '셀라': 0, '네시': 0, '중복': 0, '보이지': 0, '라이엇': 0, '레스': 0, '노틸러스': 0, '신경학': 0, '루비듐': 0, '원자시계': 0, '관리자': 0, '징코': 0, '완치': 0, '궈펑': 0, '바우어': 0, '토목공사': 0, '산샹': 0, '요청서': 0, '글루': 0, '일렉트로닉': 0, '아츠': 0, '창윤': 0, '항공회사': 0, '하스브로': 0, '멘션': 0, '선우': 0, '코셉트': 0, '뉘앙스': 0, '옥트': 0, '레오': 0, '소의': 0, '호위함': 0, '콜러': 0, '로봇공학': 0, '광안': 0, '가비아': 0, '베타': 0, '정자동': 0, '조비': 0, '보온': 0, '가계약': 0, '일신동': 0, '성추행': 0, '강승연': 0, '마침내': 0, '미래나노텍': 0, '창용': 0, '일체': 0, '연출': 0, '프티': 0, '인플레이션율': 0, '국수': 0, '체육관': 0, '광부': 0, '안달': 0, '중임': 0, '현기': 0, '팔지': 0, '엔에이치엔': 0, '휴먼': 0, '부풀리기': 0, '임의': 0, '반출': 0, '포트리스': 0, '복위': 0, '유기견': 0, '한밤중': 0, '금융가': 0, '자정': 0, '악법': 0, '정몽': 0, '친족': 0, '과대': 0, '토포': 0, '신한지주': 0, '매가': 0, '신한카드': 0, '리노': 0, '뻥튀기': 0, '로펌': 0, '이튿날': 0, '짜장면': 0, '용인': 0, '둔전역': 0, '견본주택': 0, '완다': 0, '웰뱅': 0, '헤드라이트': 0, '냉장': 0, '상온': 0, '일본인': 0, '절실': 0, '아크릴': 0, '호적': 0, '억대': 0, '리프트': 0, '상주': 0, '고철': 0, '컬처': 0, '린지': 0, '사무관리': 0, '아토피피부염': 0, '재기': 0, '폐쇄시': 0, '역행': 0, '퀀텀닷': 0, '크리스': 0, '케이티': 0, '이도': 0, '쿼리': 0, '토신': 0, '신림': 0, '사무': 0, '수력': 0, '영남제분': 0, '소셜미디어': 0, '볕드': 0, '한수원': 0, '무혐의': 0, '을지': 0, '원안': 0, '서울대': 0, '관동대': 0, '베스타스': 0, '메소텔린': 0, '드가자': 0, '예보': 0, '독사': 0, '세액': 0, '원삼': 0, '전자지갑': 0, '운영체제': 0, '귀금속': 0, '해답': 0, '정몽구': 0, '도화선': 0, '링스': 0, '클러스터': 0, '부존재': 0, '악몽': 0, '노랑': 0, '발길': 0, '신권': 0, '화제': 0, '뒷걸음': 0, '칼텍스': 0, '뒤집힌': 0, '세븐럭': 0, '총동원': 0, '권영세': 0, '삼립': 0, '현직': 0, '수순': 0, '기습': 0, '하성용': 0, '삼천리': 0, '진땀': 0, '김대': 0, '중시': 0, '관료': 0, '필증': 0, '짝퉁': 0, '검거': 0, '해운업': 0, '삼익': 0, '사원': 0, '김형곤': 0, '신선': 0, '얼터너티브': 0, '한솔섬유': 0, '라텍스': 0, '부모': 0, '부숴': 0, '어도': 0, '산업혁명': 0, '강소': 0, '로터스': 0, '슈피': 0, '겐코': 0, '토니모리': 0, '상권': 0, '엔투텍': 0, '한빛': 0, '계통': 0, '원재': 0, '피엔에스': 0, '부국': 0, '무기질': 0, '뷰웍스': 0, '쿼스': 0, '방재': 0, '텔코': 0, '하이퍼': 0, '일치': 0, '보은': 0, '블랙힐스': 0, '푸완준': 0, '출국': 0, '어셋': 0, '클로즈업': 0, '육아': 0, '친선': 0, '구가': 0, '살충제': 0, '말리부': 0, '케리': 0, '아치': 0, '일용': 0, '위장염': 0, '쿤밍': 0, '댜오위다오': 0, '양양': 0, '브리프': 0, '니콕스': 0, '아구': 0, '탄산': 0, '괴르텍': 0, '소렌': 0, '졸리': 0, '닛산': 0, '수치': 0, '윌리스': 0, '왓슨': 0, '모터스': 0, '과수원': 0, '미두': 0, '비셀': 0, '율롱': 0, '스콧': 0, '천체': 0, '나트': 0, '아슈케나지': 0, '프라이머': 0, '어큐터스': 0, '칼비': 0, '일렉티브드': 0, '것임': 0, '코디악': 0, '인튜이트': 0, '바흐': 0, '양허': 0, '창고': 0, '페인': 0, '투코우': 0, '용매': 0, '갑질': 0, '발짝': 0, '다자': 0, '대두': 0, '행적': 0, '확실': 0, '중산': 0, '오딘': 0, '주파': 0, '소수점': 0, '매닝': 0, '네이피어': 0, '낸스앤택스': 0, '분거': 0, '발라드': 0, '뤄황시': 0, '리치몬드': 0, '석방': 0, '밀봉': 0, '선윙': 0, '오크나무': 0, '마취': 0, '판텀': 0, '복사': 0, '체사피크': 0, '호환성': 0, '운규': 0, '난무': 0, '니콜라스': 0, '십만오일': 0, '조인': 0, '도랑': 0, '스마일리': 0, '매니': 0, '토웍': 0, '수가': 0, '청통': 0, '욘유': 0, '위젠': 0, '무직': 0, '에덴': 0, '종양학': 0, '스킬': 0, '보헤미아': 0, '인터랙티브': 0, '익스트림': 0, '텐드': 0, '다사': 0, '신동빈': 0, '국제경제': 0, '오포': 0, '리체': 0, '이목': 0, '감속': 0, '유정': 0, '감경': 0, '넥슨코리아': 0, '고래': 0, '발상': 0, '세자': 0, '거알쥬': 0, '랭킹': 0, '당장': 0, '일종': 0, '파시즘': 0, '기행': 0, '상반': 0, '기내': 0, '열공': 0, '요원': 0, '김승현': 0, '스냅': 0, '직상': 0, '내세': 0, '직계': 0, '원대': 0, '차로': 0, '고령자': 0, '의사록': 0, '경제정책': 0, '쟁탈': 0, '앤츠랩': 0, '김범': 0, '고서': 0, '서철수': 0, '비법': 0, '상의': 0, '부천': 0, '주호영': 0, '민심': 0, '밑바닥': 0, '체념': 0, '자포자기': 0, '보궐': 0, '오픈도어': 0, '카운트다운': 0, '대호': 0, '재박': 0, '티몬': 0, '맘마': 0, '레시피': 0, '군산': 0, '초비상': 0, '헤경': 0, '만난': 0, '인물': 0, '축제': 0, '각심': 0, '춘절': 0, '휴메딕스': 0, '쌩유': 0, '메론': 0, '판타지오': 0, '박종진': 0, '신영진': 0, '합의금': 0, '아스팔트': 0, '도로포장': 0, '고의': 0, '맥널티': 0, '백전': 0, '티유': 0, '크래프트': 0, '수상한': 0, '정선': 0, '화물차': 0, '왕산': 0, '교양': 0, '김유근': 0, '국가안보실': 0, '차장': 0, '트래블': 0, '월렛': 0, '무림페이퍼': 0, '김범준': 0, '승패': 0, '생애': 0, '설득': 0, '친디아': 0, '개표': 0, '미세먼지': 0, '보복': 0, '타당성조사': 0, '신영와코루': 0, '애셋': 0, '전액': 0, '드루': 0, '헐값': 0, '부호': 0, '트루먼': 0, '송병선': 0, '페덱스': 0, '건기': 0, '불치': 0, '막막': 0, '공화': 0, '예선': 0, '팝펀딩': 0, '희소식': 0, '피제이': 0, '최신원': 0, '방망이': 0, '제당': 0, '나보타': 0, '직도': 0, '이메일': 0, '강진': 0, '헬멧': 0, '박상우': 0, '조보아': 0, '전속계약': 0, '능률': 0, '방정식': 0, '화피': 0, '뿌리깊은나무': 0, '어감': 0, '클룩': 0, '전세기': 0, '제대로': 0, '하람': 0, '구실': 0, '감원': 0, '어간': 0, '거품경제': 0, '사은': 0, '무관': 0, '행랑': 0, '반쪽': 0, '숙기': 0, '상호금융': 0, '재등정': 0, '깃밥': 0, '명동': 0, '더웰': 0, '룰루': 0, '장승': 0, '위촉': 0, '경제부총리': 0, '데이트': 0, '일간': 0, '캐쉬백': 0, '인치': 0, '류승범': 0, '화보': 0, '매일': 0, '이수앱지스': 0, '준법': 0, '어거스틴': 0, '기네스': 0, '커리': 0, '홀인원': 0, '낭비': 0, '거창군': 0, '읍면': 0, '우체통': 0, '일주': 0, '차곡': 0, '처칠': 0, '봄바람': 0, '옥죈': 0, '바리': 0, '사주면': 0, '통곡': 0, '졸라': 0, '웃기': 0, '막강': 0, '거수': 0, '이현정': 0, '보호자': 0, '개뿔': 0, '구함': 0, '둥킥': 0, '수호': 0, '매하': 0, '는가': 0, '왕초': 0, '의료인': 0, '마케터': 0, '불나방': 0, '주색': 0, '탐라': 0, '점도': 0, '지방자치': 0, '뉴스위크': 0, '표현': 0, '특수성': 0, '데빈': 0, '타의': 0, '낭보': 0, '열심': 0, '부평역': 0, '이륜차': 0, '일찍': 0, '기다림': 0, '알렉산더': 0, '탐험가': 0, '엔트레스토': 0, '심부전': 0, '아른엠': 0, '소렌슨': 0, '거창': 0, '향남': 0, '사실관계': 0, '포쉬': 0, '남아프리카': 0, '수천': 0, '노르': 0, '샌더': 0, '팜스': 0, '음력': 0, '해서웨이': 0, '셰브론': 0, '마쉬': 0, '맥레넌': 0, '프랭클린': 0, '힐리': 0, '킬러': 0, '토비': 0, '셀렉': 0, '피디': 0, '디맨드': 0, '텍션': 0, '압축': 0, '전부': 0, '대차대조표': 0, '트랜잭션': 0, '루이지애나': 0, '나이트': 0, '남성': 0, '안드로겐': 0, '알로페시': 0, '잔류': 0, '건강검진': 0, '소로스': 0, '리베이트': 0, '국방성': 0, '선적': 0, '작동': 0, '알링턴': 0, '에퀴': 0, '몽스': 0, '심장질환': 0, '충격파': 0, '마커스': 0, '에펠탑': 0, '포스터': 0, '자극제': 0, '워렌': 0, '애플사': 0, '보건소': 0, '리블로질': 0, '봉선': 0, '천년': 0, '헤리': 0, '저격': 0, '이세진': 0, '우수상': 0, '인화': 0, '선데이': 0, '팝스타': 0, '반기': 0, '감손': 0, '쇼트': 0, '리파': 0, '유감': 0, '투지': 0, '싼값': 0, '휴켐스': 0, '주보': 0, '워크아웃': 0, '자금난': 0, '급구': 0, '양국': 0, '크루즈': 0, '루원시티': 0, '송파구': 0, '한글과컴퓨터': 0, '난소암': 0, '파스쿠찌': 0, '밸런타인데이': 0, '화이트데이': 0, '토트': 0, '것보쇼': 0, '비비': 0, '토대': 0, '홈페이지': 0, '김윤세': 0, '용지': 0, '편견': 0, '오이': 0, '뮨텍': 0, '체그': 0, '김해': 0, '정확도': 0, '사단법인': 0, '두루': 0, '손주': 0, '보령': 0, '젠셀': 0, '수년': 0, '급선무': 0, '자외선차단제': 0, '화물선': 0, '자초': 0, '확행': 0, '도감': 0, '안제': 0, '코빗': 0, '자금세탁': 0, '강동욱': 0, '파루': 0, '맘스': 0, '환급': 0, '제넥신': 0, '의기': 0, '투합': 0, '예능': 0, '격상': 0, '원조': 0, '버즈': 0, '펌텍': 0, '투증': 0, '천슬': 0, '닥공': 0, '태풍': 0, '미풍': 0, '수난': 0, '치성': 0, '유용': 0, '증빙': 0, '쿠이': 0, '대니': 0, '이베리아': 0, '랜스': 0, '바턴': 0, '소용돌이': 0, '생식': 0, '프란시스코': 0, '틴토': 0, '워스': 0, '스탈': 0, '사르': 0, '페닉스': 0, '연도로': 0, '콜로라도': 0, '오클라호마': 0, '데미': 0, '츠코산': 0, '로베르토': 0, '피온': 0, '코헤': 0, '캐리': 0, '아웃룩': 0, '트리뷴': 0, '도미니언': 0, '산출': 0, '파운드화': 0, '가파른데': 0, '김정태': 0, '탄산음료': 0, '손절매': 0, '빈집': 0, '브리지워터': 0, '규명': 0, '백산': 0, '용선': 0, '박상완': 0, '이륙': 0, '아르카': 0, '택틱스': 0, '주석': 0, '우주관광': 0, '담판': 0, '레이스': 0, '손자': 0, '대명': 0, '재영솔루텍': 0, '교역': 0, '정크본드': 0, '셀젠텍': 0, '꼬마': 0, '진득': 0, '님들': 0, '토방': 0, '춥다': 0, '개불': 0, '거절': 0, '줌인터넷': 0, '외관': 0, '일용직': 0, '명도': 0, '양근': 0, '니코': 0, '감사원': 0, '청소년': 0, '생리대': 0, '트립비': 0, '토요타': 0, '필승': 0, '호시우': 0, '황정': 0, '이방': 0, '도련님': 0, '조슈아': 0, '쿠슈너': 0, '이항': 0, '웰덱스': 0, '구심': 0, '부적절': 0, '코디': 0, '소지': 0, '김은정': 0, '인스타그램': 0, '노하우': 0, '시지': 0, '우성': 0, '주식병합': 0, '판관': 0, '특가': 0, '버라이즌': 0, '동계올림픽': 0, '동아제약': 0, '정글': 0, '비타민': 0, '실내': 0, '벚꽃': 0, '택트': 0, '동진쎄미켐': 0, '박수영': 0, '어원': 0, '청주': 0, '주동': 0, '아임웰': 0, '채식': 0, '컵밥': 0, '비건': 0, '진리': 0, '보속': 0, '흥미': 0, '탈세': 0, '여유': 0, '합당': 0, '라면': 0, '신드롬': 0, '하나원': 0, '츄리': 0, '출석': 0, '목돈': 0, '습득': 0, '메탄': 0, '면역학': 0, '용어': 0, '플롯킨': 0, '증언': 0, '힐튼': 0, '송윤': 0, '앨리슨': 0, '오유': 0, '고이': 0, '금융인': 0, '스크립트': 0, '하트': 0, '중류': 0, '펜실베이니아': 0, '프로바이오틱': 0, '애덤스': 0, '버윌': 0, '스제완': 0, '베루': 0, '쇼츠': 0, '무디': 0, '인플루엔자': 0, '데블': 0, '절약': 0, '트림': 0, '작업장': 0, '스모': 0, '인센티브': 0, '순정': 0, '강강': 0, '연구실': 0, '실소': 0, '전염병': 0, '온드라': 0, '벨기에': 0, '폴리곤': 0, '하얏트': 0, '비행기': 0, '메드트로닉': 0, '네비게이션': 0, '흉부': 0, '유잔': 0, '기센': 0, '아디다스': 0, '리복': 0, '알서포트': 0, '오대호': 0, '도크': 0, '체중': 0, '타르': 0, '목암': 0, '펨페갈데슬류킨용': 0, '아날로그': 0, '권장': 0, '오손': 0, '월든': 0, '트롬': 0, '혈증': 0, '브루킨사': 0, '볼론': 0, '샌프란시스코': 0, '핀란드': 0, '명암': 0, '동문': 0, '주평': 0, '등위': 0, '에지': 0, '머신': 0, '달도': 0, '추산': 0, '화둥': 0, '중화인민공화국': 0, '농장': 0, '암스트롱': 0, '복도': 0, '치즈케이크': 0, '듀버': 0, '엠파이어': 0, '고용주': 0, '갈매': 0, '무풍': 0, '매체': 0, '임종룡': 0, '은련': 0, '핸즈': 0, '주얼': 0, '어벤져스': 0, '관심사': 0, '창릉': 0, '원흥': 0, '제피': 0, '러스': 0, '이중고': 0, '슬세권': 0, '방공': 0, '시진핑': 0, '정적': 0, '견제': 0, '호응': 0, '열자': 0, '우르르': 0, '하룻밤': 0, '파문': 0, '표피': 0, '응변창신': 0, '과실': 0, '최웅': 0, '박성훈': 0, '보수당': 0, '위구르족': 0, '베이징올림픽': 0, '목재': 0, '첩첩산중': 0, '싱커': 0, '버라이존': 0, '어패럴': 0, '천억원': 0, '올리브영': 0, '뚜레쥬르': 0, '난관': 0, '화합': 0, '힌지': 0, '용도': 0, '모락모락': 0, '윤활': 0, '기유': 0, '펨토': 0, '굴삭기': 0, '강원': 0, '생활화': 0, '지핀': 0, '계류': 0, '파우치': 0, '일반인': 0, '중순': 0, '김현수': 0, '농식품부': 0, '처리기': 0, '립체': 0, '네오위즈홀딩스': 0, '컨택': 0, '아라미드': 0, '띠기': 0, '초가': 0, '조루증': 0, '주일미군': 0, '금전': 0, '배니싱': 0, '소닉': 0, '라그나로크': 0, '그라비티': 0, '예전': 0, '베이트': 0, '거짓': 0, '루프': 0, '어카': 0, '뭐노': 0, '프라이데이': 0, '빌게이츠': 0, '빠떼리': 0, '목구녕': 0, '개똥': 0, '구석': 0, '큰일': 0, '떨이': 0, '지면': 0, '도대체': 0, '충전기': 0, '나락가': 0, '감기': 0, '아태': 0, '휴지': 0, '중견': 0, '라우터': 0, '장군': 0, '초코파이': 0, '가축': 0, '스탄': 0, '루시': 0, '드모터스': 0, '대기권': 0, '이종췌': 0, '무석': 0, '진실게임': 0, '중국산': 0, '불매': 0, '원통': 0, '티핑': 0, '전차': 0, '상어': 0, '지엔': 0, '제이씨현': 0, '질병예방': 0, '통화정책': 0, '정연': 0, '신탁은행': 0, '셀룰러': 0, '호르멜': 0, '오렌지': 0, '얼음': 0, '프론트': 0, '도어': 0, '듀폰': 0, '셔틀': 0, '임산부': 0, '코드쉐어': 0, '신시내티': 0, '에식스': 0, '밤새': 0, '투성이': 0, '하층': 0, '광섬유': 0, '오스프리': 0, '에메랄드': 0, '르툰': 0, '파이낸셜': 0, '토템': 0, '이점': 0, '목멱': 0, '햇빛': 0, '오라': 0, '지상': 0, '조마조마': 0, '편차': 0, '컨덕트': 0, '엘디티': 0, '익익': 0, '봉착': 0, '산림': 0, '닥스': 0, '골프클럽': 0, '마제': 0, '토박': 0, '유앤아이': 0, '생중계': 0, '우크라이나': 0, '붐업': 0, '무기명': 0, '권부': 0, '술기': 0, '청사진': 0, '백암': 0, '어워즈': 0, '죄악': 0, '움찔': 0, '큐부': 0, '실기': 0, '로크웰': 0, '베타서비스': 0, '트리켐': 0, '춘제': 0, '경위': 0, '운송업': 0, '돌파구': 0, '불매운동': 0, '소장': 0, '봉영': 0, '초음속': 0, '연대책임': 0, '한미글로벌': 0, '이크': 0, '잉글우드': 0, '오윈': 0, '주유': 0, '정전기': 0, '시지프스': 0, '코리아나': 0, '증액': 0, '어리둥절': 0, '배후': 0, '부의': 0, '세습': 0, '오케스트라': 0, '포스코건설': 0, '에어프랑스': 0, '윤종원': 0, '팀버': 0, '방과': 0, '근호': 0, '민생': 0, '현안': 0, '신현수': 0, '나경원': 0, '내신': 0, '동래구': 0, '안락': 0, '스위첸': 0, '박범계': 0, '뜬눈': 0, '팔자주름': 0, '환절기': 0, '레티놀': 0, '퍼트': 0, '김유리': 0, '변리사': 0, '북유럽': 0, '분조': 0, '온티머스': 0, '대학원': 0, '행정안전부': 0, '용암': 0, '비극': 0, '출구': 0, '여덟': 0, '동동': 0, '사공': 0, '플루': 0, '나진': 0, '염산': 0, '시겐': 0, '국내선': 0, '고도': 0, '아일랜드': 0, '굴곡': 0, '악천후': 0, '아칸소': 0, '클리어워터': 0, '푸트남': 0, '치호': 0, '보쇼쿠': 0, '클레이튼': 0, '에어로겔': 0, '제보': 0, '부당행위': 0, '대손충당금': 0, '마법': 0, '봄날': 0, '다크호스': 0, '중과실': 0, '뚝심': 0, '김영기': 0, '온라인교육': 0, '플래티넘': 0, '스크린': 0, '정신병': 0, '월화': 0, '핫클립': 0, '가상공간': 0, '잡티': 0, '복안': 0, '먹튀': 0, '차후': 0, '외로워': 0, '리용': 0, '소켓': 0, '동생': 0, '환시': 0, '오하이': 0, '선화': 0, '다탱': 0, '머니무브끝': 0, '화샤은행': 0, '존스홉킨스': 0, '본각': 0, '자살골': 0, '훅시': 0, '조우': 0, '무서움': 0, '폭발위험': 0, '체전': 0, '일봉': 0, '줄땐': 0, '상남자': 0, '육개장': 0, '이정': 0, '짱깨': 0, '현명': 0, '왜케': 0, '미련': 0, '오줌보': 0, '질질': 0, '좃됐': 0, '깜빵가': 0, '순이': 0, '강추': 0, '바하': 0, '천억': 0, '길거리': 0, '민폐': 0, '너비': 0, '티피': 0, '유체': 0, '정지원': 0, '이뮤노믹테라픽': 0, '글랜우드': 0, '항염': 0, '설문조사': 0, '이집트': 0, '항고': 0, '태화': 0, '수오': 0, '상처': 0, '육일': 0, '세모': 0, '가산동': 0, '펀더멘털': 0, '부가가치세': 0, '도네페질': 0, '여자': 0, '수진': 0, '학폭': 0, '다소': 0, '보홀': 0, '쿵푸': 0, '큐온': 0, '유암': 0, '유베': 0, '포자': 0, '몰래': 0, '채팅': 0, '현혹': 0, '덜미': 0, '엔화': 0, '황금알': 0, '거위': 0, '애브비': 0, '위너': 0, '쥴릭': 0, '일대일': 0, '박성우': 0, '판박이': 0, '탈퇴': 0, '아이파크': 0, '증폭': 0, '래몽래': 0, '금천구': 0, '경동': 0, '믹트': 0, '존헬': 0, '제분': 0, '성행': 0, '도이치': 0, '산재': 0, '초토화': 0, '귀족': 0, '집회': 0, '박주': 0, '별내선': 0, '무차별': 0, '대자': 0, '채찍': 0, '코스메슈티컬': 0, '연구시설': 0, '샘표': 0, '정두영': 0, '소비자보호법': 0, '불법행위': 0, '고리타': 0, '아믈': 0, '레오폴드': 0, '옥시덴탈': 0, '싱룽': 0, '위윤': 0, '코른': 0, '라레도': 0, '알마덴': 0, '리야둥': 0, '배출량': 0, '아펙': 0, '클리어': 0, '뉴브사': 0, '신생아': 0, '덩융': 0, '트리스': 0, '리더쉽': 0, '행크': 0, '헤이그': 0, '엔지니어': 0, '바기오': 0, '아르고': 0, '에픽': 0, '조울증': 0, '밭길': 0, '아룬': 0, '장더': 0, '세무서': 0, '조직학': 0, '리큐어': 0, '오토노미': 0, '모함': 0, '도일': 0, '콜론': 0, '총회': 0, '유니시스': 0, '리벳': 0, '칼바도스': 0, '칠레': 0, '배급': 0, '목격': 0, '에노': 0, '빅스': 0, '실리콘밸리': 0, '와나': 0, '츄린': 0, '무소속': 0, '엘레나': 0, '코라블리': 0, '주임': 0, '물리치료': 0, '초안': 0, '문신': 0, '요리사': 0, '터너': 0, '시무': 0, '필람': 0, '수신': 0, '청력': 0, '빈도': 0, '빅토리': 0, '어드': 0, '벤트': 0, '아고라': 0, '지지도': 0, '복권': 0, '로켓엔진': 0, '레버': 0, '호치민': 0, '시술': 0, '파편': 0, '지재권': 0, '블랑샤르': 0, '랑세스': 0, '가량': 0, '하팍로이드': 0, '그나': 0, '군산시': 0, '자간': 0, '에볼러스': 0, '흑인': 0, '히스패닉': 0, '지미': 0, '정민': 0, '수유': 0, '화주': 0, '횡보장': 0, '감익': 0, '겸비': 0, '악어': 0, '조로': 0, '정설': 0, '스벅': 0, '조간': 0, '재정난': 0, '티웨이': 0, '셀론텍': 0, '태백': 0, '하사': 0, '암사': 0, '별내': 0, '복선전철': 0, '당일': 0, '싸이버': 0, '교육과정': 0, '엑센트': 0, '데모': 0, '팬티': 0, '방탄': 0, '운정': 0, '램값': 0, '암행': 0, '페달': 0, '무보정': 0, '시리얼': 0, '장학금': 0, '무소식': 0, '추신수': 0, '디젠스': 0, '다이나믹': 0, '유유제약': 0, '매경이코노미': 0, '이주열': 0, '아이에이치큐': 0, '유리천장': 0, '솔트룩스': 0, '안재용': 0, '주머니': 0, '소홀': 0, '올드': 0, '에어포트': 0, '북새통': 0, '겨선': 0, '장병': 0, '항위': 0, '고레스': 0, '집토끼': 0, '앰프': 0, '계량': 0, '피처': 0, '블랭크': 0, '돈맛': 0, '장외거래': 0, '뒷짐': 0, '점점': 0, '기내식': 0, '인색': 0, '행정관': 0, '일루': 0, '미나': 0, '독노': 0, '학과': 0, '알미르': 0, '포크': 0, '트립': 0, '켈리': 0, '어뢰': 0, '탱크': 0, '랜슨': 0, '마시모': 0, '캐뉼': 0, '견실': 0, '아이템': 0, '테미': 0, '삼자': 0, '이브이': 0, '코넥스': 0, '현감': 0, '비버': 0, '비올라': 0, '발몬트': 0, '무수': 0, '크래커': 0, '넷콤': 0, '이탁': 0, '편집장': 0, '의학과': 0, '벽면': 0, '슈뢰더': 0, '쌍무': 0, '아이키도': 0, '해안': 0, '자쉬': 0, '모티프': 0, '마카오': 0, '게이츠': 0, '지원이': 0, '식물성': 0, '비스트': 0, '준징': 0, '바이오스': 0, '코니퍼': 0, '허샤': 0, '경과': 0, '샌디에이고': 0, '수경': 0, '해킷': 0, '겐치': 0, '셰커우': 0, '항성': 0, '정밀과학': 0, '클로비스': 0, '인피': 0, '로밤': 0, '나탈리': 0, '울프': 0, '루비': 0, '앤서니': 0, '카푸아': 0, '스테파니': 0, '린나츠': 0, '유훙': 0, '소화기': 0, '선더': 0, '초봄': 0, '빅토리아': 0, '다시금': 0, '레오나르도': 0, '성기구': 0, '부패지수': 0, '대정': 0, '화금': 0, '아바텍': 0, '엘라': 0, '회분': 0, '핸디즈': 0, '치트키': 0, '월지': 0, '지형': 0, '홍역': 0, '대시': 0, '바라지': 0, '굿이어': 0, '정대선': 0, '삼성동': 0, '아동복': 0, '테크론': 0, '자본잠식': 0, '한눈': 0, '입방': 0, '무르익': 0, '묘수': 0, '끌족': 0, '배꼽': 0, '고령': 0, '레코': 0, '이동통신': 0, '코트라': 0, '대외': 0, '갈매역': 0, '스칸': 0, '혹평': 0, '한결': 0, '내재면역': 0, '증별': 0, '방사': 0, '빌런': 0, '용평': 0, '파란색': 0, '두려움': 0, '팽배': 0, '로케트': 0, '샤이니': 0, '품절': 0, '대마시': 0, '갑부': 0, '우슬초': 0, '후쿠시마': 0, '생선': 0, '상무부': 0, '놀이': 0, '동명': 0, '한남': 0, '휴게소': 0, '휘발윳값': 0, '통점': 0, '안양호': 0, '반영은': 0, '유니참': 0, '롱텀': 0, '숏텀': 0, '빈부': 0, '절때': 0, '대령': 0, '좆됫다': 0, '농담': 0, '강려': 0, '분수령': 0, '격려': 0, '루이뷔통': 0, '힙합': 0, '알뜰살뜰': 0, '선수': 0, '남자': 0, '해산': 0, '목욕': 0, '마평동': 0, '마평': 0, '소위': 0, '의협': 0, '개론': 0, '이강일': 0, '저절로': 0, '멘토링': 0, '실손': 0, '상임': 0, '득실': 0, '손절해': 0, '씹락': 0, '푸대접': 0, '줄라': 0, '바알': 0, '개환': 0, '기름값': 0, '별개': 0, '다그': 0, '알류미늄': 0, '답글형': 0, '레알': 0, '대가리': 0, '나부': 0, '거여': 0, '자게': 0, '구경': 0, '주니': 0, '떳음': 0, '가감': 0, '리해': 0, '웰스파고': 0, '서강대': 0, '증선': 0, '위선': 0, '시몬': 0, '움직': 0, '유차': 0, '속국': 0, '크로스컨트리': 0, '토트넘': 0, '홋스퍼': 0, '공교육': 0, '탁보': 0, '공용': 0, '권익': 0, '대변': 0, '올드보이': 0, '미술품': 0, '등기': 0, '노동부': 0, '속편': 0, '물량부담': 0, '이변': 0, '관객수': 0, '부속': 0, '팬덤': 0, '축적': 0, '장단': 0, '옥타곤': 0, '어이구': 0, '벽보': 0, '우욱': 0, '억지로': 0, '느낌': 0, '근처': 0, '특기': 0, '챠트': 0, '평시': 0, '슬슬': 0, '구먼': 0, '주가떡락할때': 0, '번지점프': 0, '망신': 0, '수박': 0, '질의': 0, '사이다': 0, '로써': 0, '개떡락중': 0, '주모': 0, '선인장': 0, '빠지겄': 0, '양전': 0, '재인': 0, '채밌': 0, '좃구': 0, '시합': 0, '가터': 0, '비우자': 0, '퍼가것': 0, '알기': 0, '어뜨': 0, '안되겐': 0, '백조': 0, '호수': 0, '미선물씹떡락': 0, '씨바': 0, '떳다': 0, '무용': 0, '고니': 0, '알콘': 0, '펑펑': 0, '코인': 0, '듣기': 0, '쭤에에엑': 0, '완점': 0, '나락갔': 0, '가차': 0, '메트': 0, '세명': 0, '리빙스턴': 0, '무너': 0, '추추': 0, '디렉트': 0, '고전': 0, '송도': 0, '해태제과': 0, '호반': 0, '로봇청소기': 0, '코데즈': 0, '컴바인': 0, '외국인투자': 0, '체리': 0, '베니': 0, '거버넌': 0, '산정': 0, '세율': 0, '다국어': 0, '스틴': 0, '신안산선': 0, '비앤코': 0, '한살이': 0, '장경호': 0, '구지원': 0, '콘테스트': 0, '엠아이텍': 0, '총장': 0, '판로': 0, '로컬': 0, '크리에이터': 0, '오프라': 0, '윈프리': 0, '링거': 0, '정보통': 0, '동측': 0, '전위': 0, '리포텐': 0, '우즈': 0, '디렉': 0, '한약': 0, '인천국제공항공사': 0, '대구시': 0, '저주': 0, '선불카드': 0, '언어': 0, '황교안': 0, '커플링': 0, '덕철': 0, '루이비통': 0, '구찌': 0, '고용부': 0, '맘스터치': 0, '레메디': 0, '포터블': 0, '추진단': 0, '함부로': 0, '차명계좌': 0, '등록증': 0, '잇츠한불': 0, '아랑곳': 0, '청개구리': 0, '모나미': 0, '감염병': 0, '전금': 0, '로로선': 0, '마티카': 0, '동남': 0, '헤론': 0, '날씨': 0, '최우': 0, '삼익악기': 0, '프로폴리스': 0, '프리바이오틱스': 0, '타임세일': 0, '여개': 0, '공범': 0, '통영': 0, '윈썸': 0, '에이즈': 0, '첫걸음': 0, '피임': 0, '격리': 0, '성동구': 0, '메이커': 0, '기능사': 0, '카스': 0, '오틀리': 0, '돈버': 0, '우산': 0, '소파': 0, '니슬': 0, '스팩주': 0, '멩크스병': 0, '사이프': 0, '웹사이트': 0, '연예계': 0, '레이븐': 0, '모타': 0, '포르투갈': 0, '알라': 0, '모스': 0, '리바': 0, '인트레텍': 0, '진과': 0, '발진': 0, '셔농': 0, '알테어': 0, '시뮬레이터': 0, '히스테리': 0, '화염': 0, '버드와이저': 0, '양조': 0, '쉬펫': 0, '아이콘': 0, '파니': 0, '제본': 0, '경관': 0, '저장성': 0, '포의': 0, '커리어': 0, '데일': 0, '호스피스': 0, '외래': 0, '호스티스': 0, '빌드': 0, '창정': 0, '카리브해': 0, '앙코르': 0, '트리즈': 0, '소득세': 0, '재창': 0, '증기': 0, '제대혈': 0, '먼로': 0, '싱클레어': 0, '찰리': 0, '애비뉴': 0, '켐퍼': 0, '나크': 0, '로더': 0, '베카': 0, '깃발': 0, '브라더스': 0, '채텀': 0, '북해': 0, '상류': 0, '혈류': 0, '라스트': 0, '꼴찌': 0, '출산율': 0, '저출산': 0, '목숨': 0, '구해': 0, '덴탈껌': 0, '하임리히법': 0, '복지부': 0, '리밸런싱': 0, '이해진': 0, '국토부': 0, '주민': 0, '인지세': 0, '복주': 0, '정학': 0, '장특': 0, '유인': 0, '반중': 0, '킷헬': 0, '로킷': 0, '리액트': 0, '진정서': 0, '타이거우즈': 0, '토류': 0, '난감': 0, '플럭스': 0, '리플': 0, '준공': 0, '쎄노텍': 0, '투셀': 0, '브레스': 0, '메이저': 0, '각국': 0, '파네': 0, '루마니아': 0, '스피커': 0, '프랜': 0, '성광벤드': 0, '면적': 0, '풀캐파': 0, '승일': 0, '저녁': 0, '케릭': 0, '유코': 0, '공제조합': 0, '알루': 0, '외연': 0, '알받이': 0, '금통위': 0, '색채': 0, '강해진': 0, '회하': 0, '개인정보': 0, '연결고리': 0, '분다': 0, '와글와글': 0, '근원': 0, '재등판': 0, '멍거': 0, '경마장': 0, '동인': 0, '치아': 0, '비앤': 0, '예후': 0, '잔돈': 0, '디지털콘텐츠': 0, '롤링': 0, '신의': 0, '한수': 0, '크립': 0, '세이브존': 0, '엉망': 0, '각속도': 0, '해태': 0, '핸드백': 0, '은호': 0, '로킨': 0, '무선통신': 0, '현기증': 0, '스냅챗': 0, '케빈': 0, '스니더': 0, '매킨': 0, '급속도': 0, '큐셀': 0, '부적정': 0, '티알': 0, '이은형': 0, '캐롯': 0, '고루': 0, '이상네트웍스': 0, '묶인': 0, '짜릿': 0, '청구권': 0, '네비스': 0, '유럽의회': 0, '포위': 0, '안성맞춤': 0, '트주': 0, '농촌': 0, '화훼농': 0, '도설': 0, '악사': 0, '링티': 0, '프리즘': 0, '방지책': 0, '가담': 0, '가해': 0, '스텍': 0, '코렌텍': 0, '라피': 0, '황반변성': 0, '바늘': 0, '누나': 0, '스맥': 0, '경방': 0, '코엔텍': 0, '영흥도': 0, '블럭': 0, '라운디드': 0, '되풀이': 0, '아주대병원': 0, '커누스': 0, '영어권': 0, '득템': 0, '소풋': 0, '전설': 0, '그랜섬': 0, '법조': 0, '갤러리': 0, '숙원': 0, '푸나': 0, '컬러': 0, '종교': 0, '신념': 0, '예비군': 0, '신긍호': 0, '장봉영': 0, '유명무실': 0, '박성호': 0, '고지서': 0, '프로필': 0, '합창': 0, '일곱개': 0, '동아방송예술대학교': 0, '인연': 0, '전문직': 0, '지망': 0, '리판': 0, '치인': 0, '어큐스넷': 0, '홍광': 0, '토키': 0, '틱스': 0, '스핀': 0, '초신성': 0, '비노': 0, '직류': 0, '에뮬레이터': 0, '크리스트': 0, '덴마크': 0, '새렙타': 0, '엑손': 0, '아몬': 0, '오블롱': 0, '부스터': 0, '신코': 0, '장항': 0, '네이션': 0, '도시전설': 0, '귀지': 0, '주싱': 0, '팅쩌': 0, '라디온': 0, '콜로니': 0, '퓨마': 0, '국낭': 0, '세드': 0, '마드리갈': 0, '매머드': 0, '센추리온': 0, '광둥화': 0, '티통': 0, '다세대': 0, '히라쿠': 0, '도모': 0, '후미': 0, '멍옌빈': 0, '항렁': 0, '슈손힐': 0, '요오드': 0, '탄화': 0, '분화': 0, '갑상선암': 0, '카보잔티닙': 0, '동민': 0, '양육': 0, '콩팥': 0, '슬레': 0, '대역폭': 0, '퀘이커': 0, '오하이오주': 0, '보안관': 0, '임상협': 0, '스머커': 0, '닝샤': 0, '런샤오빙': 0, '게이': 0, '미트': 0, '당좌': 0, '벌카': 0, '요실금': 0, '축음기': 0, '뉴욕시': 0, '경제개발': 0, '회색': 0, '사울': 0, '커클랜드': 0, '오토데스크': 0, '올림픽': 0, '할인점': 0, '더그': 0, '렌스': 0, '수자원': 0, '중민': 0, '알라모': 0, '울버린': 0, '남심': 0, '전역': 0, '벽돌': 0, '모르타르': 0, '랴오린': 0, '컨피덴셜': 0, '코닥': 0, '시료': 0, '국제화': 0, '트리나': 0, '침입': 0, '몬스터': 0, '레인저': 0, '슬랙': 0, '앨버마럴': 0, '그레이스': 0, '앤코': 0, '케미스트리': 0, '다주': 0, '체류': 0, '새싹': 0, '임대료': 0, '시시': 0, '에어리': 0, '불충분': 0, '옵션계약': 0, '호스트': 0, '키드': 0, '캐서린': 0, '푸마': 0, '피에르': 0, '파브르': 0, '깊이': 0, '마지노선': 0, '수구': 0, '쫄았다': 0, '짓거리': 0, '답글다왓다': 0, '주는물량': 0, '꼬라박': 0, '양봉': 0, '강경화': 0, '반등쌔': 0, '보람': 0, '헛되': 0, '드가': 0, '시간제': 0, '양회': 0, '대립': 0, '다만': 0, '맛집': 0, '뚜껑': 0, '어보': 0, '스와프': 0, '손성': 0, '로젠버그': 0, '슈카': 0, '환경재단': 0, '혼잡': 0, '윤활유': 0, '벌벌': 0, '항셍지수': 0, '양군': 0, '디몬': 0, '식지': 0, '베가': 0, '도우': 0, '면서': 0, '고현항': 0, '노드': 0, '도쉬': 0, '카디널': 0, '하이딜': 0, '그랜트': 0, '손턴': 0, '수일': 0, '그리폴스': 0, '플라스마': 0, '온타리오': 0, '하드록': 0, '분구': 0, '간펑리튬': 0, '시칠리아': 0, '팔레르모': 0, '헬비': 0, '카디널스': 0, '시마오': 0, '밴스': 0, '이트': 0, '파슨스': 0, '공군기지': 0, '막시무스': 0, '낮잠': 0, '포식': 0, '기면증': 0, '양조장': 0, '훈련': 0, '해리스': 0, '그리피스': 0, '코후': 0, '테더링': 0, '사피': 0, '법무부': 0, '전극': 0, '광대역': 0, '네코': 0, '애디': 0, '시피': 0, '산불': 0, '바캉스': 0, '코딩': 0, '음향': 0, '베릴륨': 0, '더핀': 0, '폴드': 0, '루나': 0, '재의': 0, '리샤': 0, '결속': 0, '행거': 0, '니콘': 0, '콜럼버스': 0, '맥킨슨': 0, '도너': 0, '산부인과': 0, '어록': 0, '젤드': 0, '최연': 0, '이음': 0, '홈디포': 0, '린웨이': 0, '지샹': 0, '언론사': 0, '샨투이': 0, '소프트파워': 0, '이송이': 0, '이스코': 0, '타타자동차': 0, '아간옥스': 0, '화안': 0, '아틀란티카': 0, '치누크': 0, '에보텍': 0, '창저우': 0, '스트라타': 0, '모치': 0, '애드버럼': 0, '창주': 0, '아담': 0, '나이아가라': 0, '폭포수': 0, '칭찬': 0, '자소': 0, '라서': 0, '성가': 0, '시저': 0, '재일교포': 0, '야구게임': 0, '프로야구': 0, '구민': 0, '엠마우스': 0, '국책': 0, '이자율': 0, '필위': 0, '박광우': 0, '저해': 0, '공정거래법': 0, '글라이드': 0, '대모': 0, '수업': 0, '오산역': 0, '수근': 0, '일신상': 0, '장애인': 0, '강우석': 0, '바사': 0, '메디앙스': 0, '표면': 0, '샘플링': 0, '맹우': 0, '크루': 0, '셜텍': 0, '외풍': 0, '함흥차사': 0, '딜로이트': 0, '비씨카드': 0, '코차': 0, '파인텍': 0, '장변': 0, '절연': 0, '테이프': 0, '부착': 0, '경진': 0, '제련': 0, '광산구': 0, '대봉': 0, '코미': 0, '연마': 0, '써밋': 0, '옵트': 0, '예림당': 0, '아산병원': 0, '완판소식': 0, '횡성': 0, '횡성군': 0, '부티크': 0, '이현': 0, '훈풍타': 0, '히터': 0, '서열': 0, '기용': 0, '의복': 0, '비금속': 0, '본원': 0, '규탄': 0, '민영': 0, '국유화': 0, '김홍': 0, '낙태': 0, '어비': 0, '파라': 0, '사단': 0, '나인엠인터랙티브': 0, '부광': 0, '후방': 0, '최중경': 0, '지경부': 0, '엎치락뒤치락': 0, '온수역': 0, '추억': 0, '방울방울': 0, '레트로': 0, '금영': 0, '드라이': 0, '베인': 0, '아군': 0, '후판': 0, '임상시험수탁기관': 0, '클린룸': 0, '잡고': 0, '러버': 0, '당진': 0, '샌드위치': 0, '페타': 0, '핌스': 0, '보엠': 0, '국가채무': 0, '형평성': 0, '헬스장': 0, '판사': 0, '박봉': 0, '부유세': 0, '이츠': 0, '전투기': 0, '비루': 0, '물음표': 0, '필기': 0, '금화': 0, '지산': 0, '개잣': 0, '퉤퉤': 0, '엿됐': 0, '언택트주': 0, '남경': 0, '개강': 0, '어이': 0, '파랭이': 0, '우리나라': 0, '도윤': 0, '최성환': 0, '성장기': 0, '문호': 0, '기운': 0, '탓임': 0, '때임': 0, '떡락하': 0, '송장': 0, '화항': 0, '반구': 0, '한의학': 0, '아시': 0, '과립': 0, '축산': 0, '양계': 0, '디카': 0, '신업': 0, '팩터': 0, '재정정책': 0, '단신': 0, '미토': 0, '키닌': 0, '구매권': 0, '제록스': 0, '위스콘신': 0, '톰슨': 0, '해상도': 0, '메이시스': 0, '그래머시': 0, '통링': 0, '마우이': 0, '파인애플': 0, '프레드': 0, '화룽': 0, '팬더': 0, '목련': 0, '마이너': 0, '동팡': 0, '광화학': 0, '브롬': 0, '진희': 0, '항행': 0, '알레한드로': 0, '펑치': 0, '장펑치': 0, '콜린스': 0, '허프': 0, '연인': 0, '킨사': 0, '지삭': 0, '오비드': 0, '데시벨': 0, '일리노이주': 0, '리빙': 0, '돔타': 0, '통찰': 0, '비컨': 0, '인지장애': 0, '헤르메스': 0, '톈수이': 0, '화톈': 0, '차내': 0, '마모': 0, '라이브러리': 0, '스티븐': 0, '부리': 0, '시웰': 0, '에이미': 0, '홍화': 0, '칠리': 0, '컴텍솔': 0, '명확': 0, '미아스': 0, '라비': 0, '납세': 0, '샹텔': 0, '브리': 0, '청육핑': 0, '별세': 0, '바스타': 0, '중창': 0, '시프트': 0, '샹규': 0, '난코': 0, '잔존': 0, '차드': 0, '달링': 0, '멜론': 0, '곰팡이': 0, '헤드': 0, '구면': 0, '흑연': 0, '윈엥': 0, '장젠': 0, '내기': 0, '윈텍주가': 0, '전혀': 0, '답글질': 0, '탁지지': 0, '좃끝은거': 0, '번갈아': 0, '됫건': 0, '션찮다': 0, '계륵': 0, '온갖': 0, '의자': 0, '큐더스': 0, '큐더스웍스': 0, '파르테논': 0, '허물': 0, '인접': 0, '루킨': 0, '조병규': 0, '넷째': 0, '소독기': 0, '석회': 0, '합제': 0, '과수': 0, '월동': 0, '해충': 0, '방제': 0, '직권': 0, '주재': 0, '제비': 0, '스코': 0, '발동': 0, '모의투자': 0, '염호': 0, '통큰': 0, '옛말': 0, '감치': 0, '배신': 0, '빵빵': 0, '금성': 0, '밥그릇': 0, '버버리': 0, '이윤재': 0, '사무실': 0, '월풀': 0, '버그': 0, '에어컨': 0, '아이스': 0, '부처': 0, '포맨': 0, '장청': 0, '외과': 0, '라오펑샹': 0, '마흐': 0, '금채': 0, '보우': 0, '티벳': 0, '화유': 0, '마토': 0, '프로스트': 0, '안약': 0, '장용': 0, '구동': 0, '트레비엔트': 0, '나니아': 0, '무유': 0, '애질': 0, '런트': 0, '머반': 0, '티안': 0, '브랜츠': 0, '바바라': 0, '라베': 0, '솔트레이크시티': 0, '포맷': 0, '허베이': 0, '로빈': 0, '벵순': 0, '남태': 0, '판호': 0, '뇌줄': 0, '미공군': 0, '훈련기': 0, '무리': 0, '비어': 0, '노드스트롬': 0, '버팀목': 0, '달함': 0, '케다': 0, '코티': 0, '파이저': 0, '리퀴디': 0, '바다': 0, '눈꽃': 0, '웨더': 0, '사헬': 0, '솔레노': 0, '샌드버그': 0, '벙커': 0, '링용': 0, '발등': 0, '낙제': 0, '합자회사': 0, '핸디소프트': 0, '리신': 0, '순도': 0, '불건전': 0, '엘리자베스': 0, '합섬': 0, '팽창': 0, '노리': 0, '팰런': 0, '만두': 0, '인카': 0, '사안': 0, '토목': 0, '진스웰': 0, '소맥분': 0, '팜유': 0, '참치': 0, '빅파마': 0, '백질': 0, '한림제약': 0, '몰리': 0, '사출': 0, '퀄리티': 0, '때감': 0, '타당': 0, '접합체': 0, '동체': 0, '심리상담': 0, '중수': 0, '서연': 0, '작심': 0, '시완': 0, '권영진': 0, '인턴십': 0, '김희석': 0, '암웨이': 0, '모제': 0, '기보': 0, '건대': 0, '청라': 0, '수원지검': 0, '김학의': 0, '이첩': 0, '신호등': 0, '인스타': 0, '전인대': 0, '무관용': 0, '식목일': 0, '공휴일': 0, '지정도': 0, '그람': 0, '은감': 0, '팔걸이': 0, '노르딕': 0, '진가': 0, '디아블로': 0, '토치라이트': 0, '에크트': 0, '오스카': 0, '표지판': 0, '취위': 0, '비준': 0, '리옌장': 0, '광시': 0, '펑린': 0, '스루': 0, '비너스': 0, '메드텍': 0, '베레': 0, '베니스': 0, '컨벤션': 0, '아수라': 0, '팔콘': 0, '에틸렌': 0, '넬슨': 0, '메릴랜드': 0, '손소독제': 0, '섭취': 0, '혼가먼트': 0, '재능': 0, '아지트': 0, '등교': 0, '일수': 0, '레시아': 0, '메달': 0, '유흥가': 0, '부두': 0, '델타항공': 0, '중립성': 0, '트윈': 0, '신용카드': 0, '슈뢰딩거': 0, '진샹': 0, '크로노스': 0, '엔트로플레티닙': 0, '자원봉사자': 0, '수퍼마켓': 0, '명함': 0, '리멤버': 0, '디앤비': 0, '소금호수': 0, '티맵': 0, '어펄마': 0, '지인': 0, '펄마': 0, '미샤': 0, '메리트': 0, '동일금속': 0, '코이뮨': 0, '이시스': 0, '아르헨': 0, '유신': 0, '웹서핑': 0, '측면': 0, '대흥': 0, '한프': 0, '엘레베이터': 0, '널스피': 0, '억원': 0, '금파': 0, '대파': 0, '몰수': 0, '배전': 0, '단비': 0, '하이파': 0, '당주': 0, '왕년': 0, '헛된희망': 0, '피셜': 0, '면접': 0, '모음': 0, '브이알루': 0, '화훼': 0, '톱니바퀴': 0, '돌기': 0, '사기꾼': 0, '춘추전국시대': 0, '어딘': 0, '삼대': 0, '프로비던스': 0, '라도티닙': 0, '정계': 0, '아르헨티나': 0, '온라인쇼핑': 0, '삼국시대': 0, '개인맞춤': 0, '신부전': 0, '원림': 0, '망간': 0, '로수젯': 0, '놀텍': 0, '미프진': 0, '의리': 0, '점철': 0, '미약': 0, '무작정': 0, '입학식': 0, '주문진': 0, '한잔': 0, '율호': 0, '성범죄': 0, '한국사': 0, '지협': 0, '차이나모바일': 0, '퀀트': 0, '남용': 0, '쟁글': 0, '묵적': 0, '실감': 0, '소속': 0, '유라': 0, '시럽': 0, '분말': 0, '민병': 0, '부원': 0, '하남시': 0, '공공사업': 0, '이승호': 0, '독감': 0, '끝판': 0, '지문': 0, '동우회': 0, '공로': 0, '퓨리': 0, '정수기': 0, '겹치': 0, '군부': 0, '훈련소': 0, '신혼부부': 0, '물건': 0, '역삼': 0, '방글라데시': 0, '호프': 0, '피에스타': 0, '스바루': 0, '호소': 0, '베이비': 0, '편익': 0, '빙수': 0, '규슈': 0, '브래드': 0, '금지법': 0, '코레': 0, '페소': 0, '파밍': 0, '케스트': 0, '균열': 0, '탄층': 0, '윤갑근': 0, '웹캐스트': 0, '벌링턴': 0, '활주로': 0, '중광': 0, '맨체스터': 0, '저스티스': 0, '에티콘': 0, '메쉬': 0, '조석': 0, '과반수': 0, '로브레': 0, '유익': 0, '케이트': 0, '창조': 0, '해변': 0, '모양': 0, '팬디온': 0, '연안': 0, '숙박업소': 0, '이이': 0, '생명나무': 0, '오큘러': 0, '테라퓨틱스': 0, '알레르기': 0, '콩주': 0, '가려움증': 0, '덱텐자': 0, '아메': 0, '레스코': 0, '산더미': 0, '임프레션': 0, '모비우스': 0, '무우': 0, '조수': 0, '시야': 0, '석남동': 0, '약시': 0, '네거티브': 0, '어드밴스': 0, '주저우': 0, '유슈': 0, '캔터베리': 0, '다이내믹스': 0, '아펠': 0, '돛대': 0, '태양계': 0, '직영': 0, '롤드': 0, '상표권': 0, '화난': 0, '정은지': 0, '시법': 0, '티앤알': 0, '두개골': 0, '헤알': 0, '살랑': 0, '샅샅이': 0, '외화채권': 0, '느릿': 0, '스태그플레이션': 0, '착오': 0, '블랙아웃': 0, '최고급': 0, '취지': 0, '데자뷰': 0, '상고': 0, '유행': 0, '호호': 0, '금단증상': 0, '수확': 0, '과창판': 0, '막차탈': 0, '곤란': 0, '자꾸': 0, '가부': 0, '계장': 0, '루민': 0, '에어캡': 0, '엄포': 0, '석남': 0, '애로': 0, '메신저': 0, '농금': 0, '농수산': 0, '투파': 0, '주방': 0, '상법': 0, '소행': 0, '죄기': 0, '입학': 0, '동아리': 0, '북적': 0, '대학가': 0, '티플랙스': 0, '희생양': 0, '떡락중': 0, '금욜': 0, '돈버는거': 0, '다행': 0, '파킨슨': 0, '부적': 0, '분글': 0, '개잡': 0, '좀더': 0, '도벽': 0, '권고사직': 0, '마당': 0, '재도': 0, '무단': 0, '총계': 0, '우간다': 0, '머치슨': 0, '폭포': 0, '틸렌': 0, '카리': 0, '애나': 0, '메들리': 0, '월우': 0, '화요': 0, '코발트': 0, '탈리스': 0, '포플러': 0, '충칭시': 0, '시골': 0, '시냅틱스': 0, '전출': 0, '통근': 0, '아카디아': 0, '세린': 0, '귀인': 0, '윤펑': 0, '편성': 0, '청쯔': 0, '솔트레이크': 0, '플라워': 0, '산성': 0, '호크': 0, '로몬': 0, '근적외선': 0, '분광': 0, '프론테': 0, '라임병': 0, '스티치': 0, '멘텀': 0, '프랙틱': 0, '에버그린': 0, '케이시': 0, '비포르': 0, '카라': 0, '수바': 0, '스카파': 0, '슈바이처': 0, '듀트': 0, '레온': 0, '로완': 0, '소렌토': 0, '스트': 0, '라졸라': 0, '신덱스': 0, '콘치': 0, '우샤': 0, '심성': 0, '후발': 0, '호에이': 0, '고부': 0, '가재': 0, '알릭스파트너스': 0, '쉬브': 0, '라만': 0, '선수금': 0, '반환': 0, '역삼동': 0, '전화위복': 0, '계약해지': 0, '미립': 0, '대대': 0, '요구사항': 0, '알돈': 0, '밤잠': 0, '카오스': 0, '은행원': 0, '베네수엘라': 0, '반신반의': 0, '돌변': 0, '키맨': 0, '맹검': 0, '쏘나타': 0, '슬롯머신': 0, '공소': 0, '여론조사': 0, '갈팡질팡': 0, '행위자': 0, '패가망신': 0, '악액질': 0, '벨벳': 0, '스팅': 0, '파운데이션': 0, '큐페이': 0, '한복': 0, '전문교육': 0, '속초': 0, '청초': 0, '평면': 0, '오경수': 0, '위임장': 0, '파평': 0, '윤씨': 0, '알릭스': 0, '인감증명서': 0, '알텍': 0, '사조': 0, '팔레트': 0, '파격할인': 0, '중계기': 0, '트레이닝': 0, '기획전': 0, '홈트': 0, '유미': 0, '비번': 0, '허리띠': 0, '거액': 0, '프라이드': 0, '피피': 0, '대선조선': 0, '포스텍': 0, '꿀벌': 0, '시불': 0, '재엄습': 0, '과로사': 0, '최종호': 0, '자형': 0, '탈북': 0, '다문화': 0, '알스톰': 0, '유라시아': 0, '해저터널': 0, '미정': 0, '원투': 0, '펀치': 0, '이용문': 0, '왕국': 0, '자리바꿈': 0, '나래': 0, '보드카': 0, '평등': 0, '임병일': 0, '고대': 0, '기체': 0, '애그플레이션': 0, '이태원': 0, '살얼음': 0, '손비': 0, '엑소': 0, '코바': 0, '박소연': 0, '비밀번호': 0, '장인': 0, '주씨': 0, '베이글': 0, '컬만': 0, '영시': 0, '수젠텍': 0, '피난처': 0, '시험대': 0, '백지': 0, '대현': 0, '예멘': 0, '반군': 0, '컴팩트': 0, '최정우': 0, '동일본': 0, '대지진': 0, '오염수': 0, '난제': 0, '캐쉬': 0, '야음': 0, '이요': 0, '미장': 0, '셧습': 0, '핫머니': 0, '드감': 0, '로사': 0, '털껄': 0, '상방': 0, '공포영화': 0, '존버해': 0, '팔껄': 0, '애가': 0, '파이팅': 0, '낚였다': 0, '예시': 0, '쳐맞다보닌까': 0, '벌린': 0, '도키': 0, '거가': 0, '페리도트': 0, '미군': 0, '함대': 0, '스포츠서울': 0, '여론': 0, '손볼': 0, '보후': 0, '이참': 0, '귀촌': 0, '이바': 0, '리바이스': 0, '라우스': 0, '스트로': 0, '노스쇼어': 0, '저우헤': 0, '쉐이프': 0, '멜버른': 0, '시드니': 0, '클론': 0, '론킹': 0, '엔솔': 0, '후티': 0, '박탈': 0, '자성': 0, '불패': 0, '미국달러': 0, '적선': 0, '마텔사': 0, '앤드류': 0, '진척': 0, '말랭': 0, '컴벌랜드': 0, '덩굴': 0, '플레이메이트': 0, '독불장군': 0, '유발': 0, '지구물리학': 0, '둥둥': 0, '둥위': 0, '탄소강': 0, '루카스': 0, '글로리아': 0, '만산': 0, '앰뷸런스': 0, '톈안': 0, '이데아': 0, '질리': 0, '키로믹': 0, '기성품': 0, '진란': 0, '혼용': 0, '스티븐스': 0, '난산': 0, '지정학적': 0, '전립선비대증': 0, '감성': 0, '상품거래소': 0, '김병철': 0, '발본색원': 0, '인슐린': 0, '편두통': 0, '디벨로퍼': 0, '무늬': 0, '보풀': 0, '거기': 0, '마쿠아케': 0, '추선': 0, '장대비': 0, '오늘내일': 0, '레모': 0, '걸그룹': 0, '트와이스': 0, '뮤추얼펀드': 0, '확약': 0, '인내': 0, '인과성': 0, '메이크': 0, '율도': 0, '로테이션': 0, '엠피': 0, '츠지': 0, '감수': 0, '각광': 0, '된서리': 0, '채혈': 0, '스마트워치': 0, '뉴로핏': 0, '제라': 0, '도드람': 0, '도축장': 0, '익산': 0, '버티고': 0, '창문': 0, '스카이락': 0, '세법': 0, '윤석렬': 0, '입덕': 0, '무부': 0, '해리': 0, '부부': 0, '왕실': 0, '저분자': 0, '좇는': 0, '붕어빵': 0, '이지혜': 0, '알경': 0, '큐젠': 0, '윌밍턴': 0, '원예': 0, '쿼티': 0, '에테르': 0, '투데이': 0, '도이체': 0, '랜딩': 0, '톈예': 0, '카메코': 0, '리트': 0, '오번': 0, '아테네': 0, '착취': 0, '무마': 0, '풍물': 0, '아이피': 0, '작고': 0, '생보': 0, '맞혔다': 0, '안전지대': 0, '피난': 0, '삼륭물산': 0, '산세': 0, '초딩': 0, '금쪽': 0, '시스콘': 0, '병변': 0, '개점휴업': 0, '온종일': 0, '안산': 0, '계면활성제': 0, '지하': 0, '싱크홀': 0, '임안': 0, '김광수': 0, '경상수지': 0, '태위': 0, '교차로': 0, '홀린': 0, '안쪽': 0, '발품팔': 0, '정미': 0, '헌법재판관': 0, '송연먹': 0, '향취': 0, '향료': 0, '판가름': 0, '안방': 0, '위배': 0, '친정': 0, '직격': 0, '사선': 0, '임건': 0, '이스트소프트': 0, '규율': 0, '액토즈소프트': 0, '제이엔': 0, '뱃멀미': 0, '우주과학': 0, '한동훈': 0, '유시민': 0, '참여연대': 0, '민변': 0, '금속노조': 0, '남녀': 0, '영문': 0, '인제': 0, '세바': 0, '횡보하': 0, '자몽': 0, '평론가': 0, '방문객': 0, '서나': 0, '스코틀랜드': 0, '케이슨': 0, '리샹': 0, '샤오펑': 0, '해머': 0, '톈푸': 0, '스워크템': 0, '클로이': 0, '유타': 0, '소재지': 0, '관측': 0, '서식': 0, '저장룽투': 0, '랭귀지본': 0, '도닝': 0, '아사나': 0, '미션': 0, '듀스': 0, '오프로드': 0, '샘슨': 0, '애자': 0, '이과': 0, '애킨스': 0, '소원': 0, '지방법원': 0, '주황색': 0, '분출': 0, '황금기': 0, '배기': 0, '토론토': 0, '곧바로': 0, '오게임': 0, '알렉스': 0, '화석': 0, '선일': 0, '자본구조': 0, '라사': 0, '과학사': 0, '고젝': 0, '헥소': 0, '어반': 0, '삼나무': 0, '틸레이': 0, '진균': 0, '발전기': 0, '바이올렛': 0, '국적': 0, '캠벨': 0, '란싱': 0, '리핀': 0, '프로세싱': 0, '밸러드': 0, '서방': 0, '톈청': 0, '다미에타': 0, '렉시': 0, '동물원': 0, '광희': 0, '브린': 0, '마그르': 0, '코쿤': 0, '출고': 0, '딩이펑': 0, '생물공학': 0, '토마': 0, '브라보': 0, '후핑': 0, '요격': 0, '마녀': 0, '덕소': 0, '랩소디': 0, '이학준': 0, '마드라스': 0, '이서진': 0, '닛케': 0, '부친': 0, '유성': 0, '전동': 0, '글래스': 0, '루이스': 0, '실권': 0, '혁신도시': 0, '둥지': 0, '덤덤': 0, '상정': 0, '엠비디': 0, '모이': 0, '카겜': 0, '엠앤': 0, '조각': 0, '위칭': 0, '현정은': 0, '순욱': 0, '최단': 0, '피케': 0, '윈윈': 0, '이동식': 0, '이준': 0, '굳이': 0, '실종자': 0, '유해': 0, '수색': 0, '아픔': 0, '가나안': 0, '상쇄할': 0, '표결': 0, '프리사': 0, '이슬': 0, '부임': 0, '화공': 0, '컨세서스': 0, '개월전': 0, '냉연': 0, '비수': 0, '버금': 0, '펙사벡': 0, '신장암': 0, '조선소': 0, '우즈벡': 0, '공석': 0, '노인성': 0, '둘째': 0, '시어머니': 0, '시아버지': 0, '며느리': 0, '과천시': 0, '버스정류장': 0, '완전체': 0, '심장': 0, '플랫포머': 0, '나비': 0, '에그슬럿': 0, '엠프': 0, '기본소득': 0, '티웨이항공': 0, '노동': 0, '안창호': 0, '선생': 0, '서거': 0, '추모식': 0, '떡락할땐': 0, '에어버스': 0, '렌딩': 0, '어부': 0, '전원공급기': 0, '매그놀리아': 0, '금일도': 0, '엘화껀': 0, '훠훠': 0, '답글외놈': 0, '공짜': 0, '톡방': 0, '탕진': 0, '헛탕친': 0, '망각': 0, '음전': 0, '손절후': 0, '꼭지': 0, '불타': 0, '구조대': 0, '낼때': 0, '항동': 0, '들락거릴': 0, '흙속': 0, '각하': 0, '심술': 0, '새우': 0, '얼른': 0, '치는겆봐': 0, '소망': 0, '수렴': 0, '캑터스': 0, '한자': 0, '엄격': 0, '핸들링': 0, '이수': 0, '폐막': 0, '미즈': 0, '박상규': 0, '흐흑': 0, '태극기': 0, '씨앤': 0, '천덕': 0, '꾸러기': 0, '묘책': 0, '우연': 0, '필연': 0, '유명인': 0, '평촌': 0, '양자컴퓨터': 0, '흔드': 0, '종친': 0, '의약외품': 0, '탑머티': 0, '전임': 0, '러쉬': 0, '불운': 0, '교동': 0, '매쉬업': 0, '엔젤스': 0, '열대우림': 0, '보편화': 0, '여수': 0, '건들락': 0, '중독': 0, '온건': 0, '라이딩': 0, '지방도': 0, '싸이클': 0, '손목': 0, '양양군': 0, '오르막': 0, '존뉴딘': 0, '알씨': 0, '중요도': 0, '차이니즈': 0, '박종규': 0, '정원': 0, '주강': 0, '누안스': 0, '제량': 0, '스파이크': 0, '프론티어': 0, '타바': 0, '포사': 0, '람사': 0, '탑빌드': 0, '아발론': 0, '강태': 0, '지룽': 0, '카를로스': 0, '모사': 0, '간세포암': 0, '만날': 0, '모나코': 0, '나쉬': 0, '텔레커뮤니케이션': 0, '쥐락펴락': 0, '통령': 0, '무용지물': 0, '몰딩': 0, '상힝': 0, '포트만': 0, '고교': 0, '하이라이트': 0, '섭씨': 0, '중흥': 0, '에너지공학': 0, '벡트': 0, '메첼': 0, '영감': 0, '통런': 0, '칭하이': 0, '로폰': 0, '세컨': 0, '뤄쿵': 0, '박탁': 0, '글레이저': 0, '백의': 0, '아놀드': 0, '도날드': 0, '포켓': 0, '위하이': 0, '사이러스': 0, '롱기텍': 0, '리앙': 0, '윌단': 0, '바자회': 0, '저스틴': 0, '임팩': 0, '호몰로지': 0, '실루': 0, '해투': 0, '아이슬란드': 0, '케르': 0, '메스': 0, '무코살': 0, '멜라': 0, '노마': 0, '넴발레우킨': 0, '톈산': 0, '장춘': 0, '포산': 0, '악신': 0, '도슨': 0, '아키텍처': 0, '러닝': 0, '추론': 0, '화티': 0, '스위어': 0, '아펠로': 0, '말릭': 0, '입하': 0, '팰리월': 0, '텔레카피': 0, '안쿠르': 0, '담요': 0, '정신분열증': 0, '선동': 0, '깃털': 0, '한종': 0, '심장학': 0, '액시엄': 0, '카사블랑카': 0, '쿠릴': 0, '슈퍼리그': 0, '청룽': 0, '응고': 0, '프리덤': 0, '피컬스': 0, '자코': 0, '초봉': 0, '상한선': 0, '식빵': 0, '숙성': 0, '숙식': 0, '데스티니': 0, '대수': 0, '주차공간': 0, '허수': 0, '교란': 0, '농협생명': 0, '와사비': 0, '압력솥': 0, '유천동': 0, '사관학교': 0, '판재': 0, '윤희': 0, '김태년': 0, '서강': 0, '사이클링': 0, '배슐랭': 0, '김병주': 0, '젠승': 0, '인슈': 0, '종신': 0, '섣불리': 0, '이데일리': 0, '알맹이': 0, '휴식': 0, '시중금리': 0, '산사태': 0, '동북아': 0, '싸이트': 0, '영업비밀': 0, '예비결정': 0, '폭망': 0, '번번이': 0, '반품': 0, '에브리데이': 0, '인종': 0, '철인왕후': 0, '스킨십': 0, '스펙트럼': 0, '바닐라': 0, '임상화학': 0, '야간': 0, '김연아': 0, '멀미': 0, '쇼피': 0, '샘코': 0, '기공식': 0, '파이낸셜타임즈': 0, '조속': 0, '쿼드': 0, '미거': 0, '그리니치': 0, '우여곡절': 0, '빅터': 0, '후두': 0, '은하': 0, '캉데신': 0, '뉴미디어': 0, '길렌': 0, '유액': 0, '합병증': 0, '틴시': 0, '다이너스티': 0, '윈샤': 0, '유셴기': 0, '강국': 0, '티직': 0, '스트라이프': 0, '라쿠텐': 0, '슈로더': 0, '토픽스': 0, '근속': 0, '창호': 0, '침몰': 0, '지고': 0, '오로라월드': 0, '권리락': 0, '지갑': 0, '오툴': 0, '데스크탑': 0, '일라이': 0, '사재기': 0, '북미판': 0, '권위자': 0, '김은희': 0, '노란색': 0, '프리지어': 0, '오창훈': 0, '그래미': 0, '메그': 0, '커촹판': 0, '공우': 0, '망막': 0, '단층': 0, '헤니건': 0, '뉴저지': 0, '디코이': 0, '노아': 0, '서양': 0, '선천성': 0, '이치': 0, '메이든': 0, '케임브리지': 0, '스타우드': 0, '주헥신': 0, '리칭핑': 0, '레이시온': 0, '영공': 0, '오야': 0, '퀘벡': 0, '절개': 0, '선너': 0, '핑거탱': 0, '솔리드': 0, '바나듐': 0, '마그네타': 0, '다이도': 0, '히브': 0, '레나': 0, '카파': 0, '비르': 0, '강데신': 0, '북동': 0, '후베이': 0, '에릭슨': 0, '텔레넷': 0, '브렛': 0, '휘틀리': 0, '로크': 0, '새크라멘토': 0, '얄라': 0, '찬밥': 0, '천당': 0, '병화': 0, '인디고': 0, '바클레이즈': 0, '부가': 0, '디노': 0, '그린로즈': 0, '이케아': 0, '덕비': 0, '알보': 0, '섬유화': 0, '사이토': 0, '에나멜': 0, '고동': 0, '증강현실': 0, '알선': 0, '경배': 0, '상속': 0, '연령': 0, '오스트레일리아': 0, '반동': 0, '박테리아': 0, '에일': 0, '횡단': 0, '트워스': 0, '창조경제': 0, '초등교육': 0, '도표': 0, '팩더믹': 0, '시청률': 0, '살때': 0, '보다텔': 0, '진후': 0, '무적': 0, '가톨릭대': 0, '골격계': 0, '자족': 0, '음주': 0, '건축물': 0, '만약': 0, '확전': 0, '덕택': 0, '진도': 0, '희소가치': 0, '재출발': 0, '화인': 0, '불금': 0, '안내서': 0, '멘토': 0, '여주': 0, '파손': 0, '엄여': 0, '잠망경': 0, '바하이': 0, '아난': 0, '판유리': 0, '수성구': 0, '파동': 0, '이삭': 0, '차명주': 0, '코다': 0, '풍경': 0, '금리인하': 0, '수용률': 0, '즉사': 0, '생으로': 0, '디렉터': 0, '빌리빌리': 0, '좌파': 0, '베션방': 0, '던지기': 0, '이기전': 0, '프랙': 0, '각형': 0, '씹떡락중': 0, '유세': 0, '감북': 0, '좌초': 0, '골퍼': 0, '진상': 0, '보아': 0, '로봇수술': 0, '일군': 0, '격화된': 0, '자선단체': 0, '모범생': 0, '남아': 0, '자선': 0, '매그나칩': 0, '맹비': 0, '대북': 0, '슬로우': 0, '낭포': 0, '미나리': 0, '아카데미상': 0, '노미네이트': 0, '황사': 0, '보습': 0, '카밍': 0, '그노시스': 0, '모더니': 0, '루커스': 0, '등부': 0, '홍채': 0, '트위스트': 0, '느릅나무': 0, '매사추세츠': 0, '램버스': 0, '아카마': 0, '서핑': 0, '일렉트라': 0, '염소': 0, '알칼리': 0, '에트': 0, '평가자': 0, '빌헬미나': 0, '베이스볼': 0, '다차원': 0, '조지': 0, '렌틀러': 0, '주광': 0, '이선': 0, '징솔': 0, '고순': 0, '리걸': 0, '말합': 0, '류진': 0, '토순': 0, '매실': 0, '스펄링': 0, '산산': 0, '마이애미': 0, '이하일': 0, '가디언': 0, '파이오니어': 0, '솔라웍스': 0, '아빠': 0, '디자이너': 0, '화준': 0, '업타운': 0, '유업': 0, '운동복': 0, '디스트리뷰터': 0, '토로': 0, '애로우': 0, '빈트라푸스트': 0, '리라': 0, '유로화': 0, '임무': 0, '러너': 0, '카길': 0, '모잠비크': 0, '다식': 0, '다운증후군': 0, '아밀로이드': 0, '도난': 0, '노퍽': 0, '주앙': 0, '헬러': 0, '라빅': 0, '옥신': 0, '일승': 0, '콜센터': 0, '엠넷': 0, '급랭': 0, '써머': 0, '통용': 0, '단박': 0, '큐브엔터테인먼트': 0, '전기요금': 0, '솔리테르': 0, '운동화': 0, '리셀': 0, '에스포': 0, '창균': 0, '엠젠': 0, '협조': 0, '왕숙': 0, '교산': 0, '과외': 0, '낙스': 0, '수책': 0, '밥상': 0, '입맛': 0, '공시가격': 0, '불참': 0, '격론': 0, '이의신청': 0, '비적': 0, '위도': 0, '환불': 0, '황급': 0, '비위': 0, '빅점프': 0, '윤여정': 0, '알뜰폰': 0, '파르': 0, '오건': 0, '합종연횡': 0, '분뇨': 0, '불면증': 0, '웨어러블': 0, '대서': 0, '존스': 0, '넘버스': 0, '야쿠르트': 0, '북경': 0, '국외': 0, '대별': 0, '분포': 0, '모래바람': 0, '불면': 0, '피셔': 0, '알파바': 0, '답정너': 0, '삼송': 0, '초동': 0, '김재욱': 0, '딸도': 0, '액면병합': 0, '하복': 0, '한자리': 0, '통산': 0, '김부': 0, '보료': 0, '불보듯': 0, '헬지': 0, '쌈질': 0, '샛기': 0, '꽈베기': 0, '꽈질때': 0, '렵니': 0, '바랑': 0, '양반': 0, '색터': 0, '쉬움': 0, '재화': 0, '징크스': 0, '바겐': 0, '한참': 0, '새우등': 0, '유권': 0, '센카쿠열도': 0, '조약': 0, '외무': 0, '선석': 0, '씹떡락': 0, '비핵화': 0, '미사일': 0, '답글호': 0, '재래': 0, '애교': 0, '폭바': 0, '쉐이덜': 0, '제기랄': 0, '폭바껀수': 0, '연산동': 0, '부전동': 0, '독립선언': 0, '머선': 0, '성지순례': 0, '옘병': 0, '속병': 0, '따위': 0, '캄렐리주맙': 0, '해인': 0, '제주도': 0, '황금낙하산': 0, '윙스': 0, '소노마': 0, '플라자': 0, '김영빈': 0, '송철호': 0, '배우자': 0, '송곳': 0, '고동진': 0, '야심작': 0, '잔소리': 0, '산지': 0, '어짜까': 0, '법좀': 0, '쫙쫙': 0, '더빼': 0, '타라': 0, '털털': 0, '하의': 0, '대악': 0, '도해': 0, '충놈': 0, '낙하산': 0, '어쩌구': 0, '주올': 0, '악제': 0, '존나': 0, '모진': 0, '볘락': 0, '장의사': 0, '타놈': 0, '에궁': 0, '꼬꾸': 0, '물탄': 0, '쉐리': 0, '투도': 0, '원론': 0, '겹악재': 0, '현미경': 0, '불청객': 0, '핀텔': 0, '성감': 0, '장본인': 0, '아테나': 0, '세쿼이아': 0, '택하': 0, '보증수표': 0, '지니어스': 0, '이아': 0, '개털': 0, '돌비': 0, '엑셀시오르': 0, '트록': 0, '요금인상': 0, '제화': 0, '징청': 0, '비인간': 0, '영장류': 0, '수흐': 0, '피어': 0, '생물정보학': 0, '윈산': 0, '상하이자동차': 0, '과나후아토': 0, '엘큐': 0, '중주': 0, '콜린': 0, '주식공개': 0, '물병자리': 0, '타임리스': 0, '진춘힌': 0, '천저우': 0, '휘룽': 0, '황씨': 0, '더글러스': 0, '디트리히': 0, '룩소르': 0, '중관춘': 0, '회답': 0, '리젠시': 0, '취약성': 0, '브리지스톤': 0, '도거': 0, '등각': 0, '항칸': 0, '파이낸스': 0, '문어': 0, '라이닝': 0, '알룬': 0, '브리그': 0, '루살사': 0, '퓨즈': 0, '글렌코': 0, '샘소나이트': 0, '구금': 0, '포순': 0, '원본': 0, '몰루스쿰': 0, '사마귀': 0, '뮬러': 0, '쉬펑': 0, '호출': 0, '듀티': 0, '포리': 0, '리페': 0, '아라베스크': 0, '글락': 0, '스미스클라인': 0, '로프트': 0, '입스': 0, '기공사': 0, '프로디지': 0, '겔라': 0, '볌용임상': 0, '역류': 0, '취준생': 0, '넥스젠': 0, '폴리머': 0, '수자원공사': 0, '중싱': 0, '부어': 0, '찻잔': 0, '부직포': 0, '동임': 0, '조현아': 0, '퇴장': 0, '자위': 0, '불통': 0, '여각': 0, '신부': 0, '재생의학': 0, '시전': 0, '얼라이브': 0, '몰드': 0, '프랩': 0, '멜트블': 0, '한판': 0, '명인': 0, '피더': 0, '데이브': 0, '소독': 0, '더나': 0, '영등포': 0, '빨강': 0, '석류': 0, '선기': 0, '국한': 0, '문체부': 0, '학적': 0, '수리': 0, '포용': 0, '독일법': 0, '능사': 0, '장법': 0, '하태경': 0, '김현미': 0, '적폐': 0, '진인': 0, '명선': 0, '신천': 0, '이모티콘': 0, '올로': 0, '저번': 0, '폭동': 0, '반감': 0, '감빵': 0, '저기': 0, '그릇': 0, '이주식': 0, '빰맞았': 0, '기반시설': 0, '코널': 0, '제이제이': 0, '원사': 0, '모멤텀': 0, '포지티브': 0, '당상': 0, '화력발전': 0, '스튜어드': 0, '강경': 0, '시연': 0, '상근감사': 0, '쿠프': 0, '언더웨어': 0, '카테고리': 0, '고어': 0, '지용': 0, '이혁진': 0, '강동환': 0, '빨간색': 0, '충북대': 0, '차종': 0, '이천시': 0, '경영인': 0, '도망': 0, '제퍼리': 0, '대남': 0, '빅모델': 0, '락업': 0, '민병헌': 0, '캠핑카': 0, '단디': 0, '탑솔': 0, '헐리우드': 0, '눈초리': 0, '할리우드': 0, '정동채': 0, '재임': 0, '환금': 0, '아시안': 0, '증오': 0, '총격': 0, '희생': 0, '추모': 0, '인국공': 0, '가을': 0, '참사': 0, '혐오': 0, '신진욱': 0, '꼽았다': 0, '뤼터': 0, '총선': 0, '결혼': 0, '이혼': 0, '메르스': 0, '사다리': 0, '비혼': 0, '웨딩': 0, '원흉': 0, '돌려막기': 0, '평정': 0, '레드햇': 0, '박성용': 0, '준발': 0, '김현욱': 0, '구정': 0, '이상철': 0, '롤론': 0, '재범': 0, '나주시': 0, '쿠시먼': 0, '웨이크필드': 0, '철렁': 0, '혈청': 0, '요산': 0, '노앤': 0, '자폭': 0, '비즈니스모델': 0, '보석': 0, '발톱': 0, '리디': 0, '미스터피자': 0, '김선영': 0, '유승': 0, '삼성맨': 0, '페이지': 0, '초록뱀미디어': 0, '자매': 0, '윙크': 0, '폭삭': 0, '나혁휘': 0, '신고식': 0, '혼인': 0, '도화동': 0, '차일피일': 0, '스페셜': 0, '마에스트로': 0, '쿼츠': 0, '보증계약': 0, '방송공사': 0, '꿀꺽': 0, '주어': 0, '호객': 0, '젊은이': 0, '타계': 0, '크흐흑': 0, '막장': 0, '걸금욜': 0, '잉태': 0, '몇개': 0, '쭉쭉쭉쭉쭉': 0, '쩜상': 0, '죄송': 0, '망연자실': 0, '노가다': 0, '딴판': 0, '타도': 0, '공진': 0, '콩고공화국': 0, '벼랑': 0, '퍼드': 0, '템플릿': 0, '기점': 0, '규격': 0, '헝루이': 0, '우메': 0, '디컬': 0, '손선': 0, '선천': 0, '어드바이저': 0, '스테틀러': 0, '유두종': 0, '락토': 0, '사이크': 0, '나로': 0, '헤드헌터': 0, '책꽂이': 0, '팔로우': 0, '양식': 0, '포틀랜드': 0, '스피어': 0, '글렌파': 0, '카터': 0, '데인': 0, '칼닉': 0, '라르고': 0, '트레코': 0, '궈리': 0, '덕혼': 0, '블랜': 0, '테넌트': 0, '발파': 0, '선원': 0, '인양': 0, '자손': 0, '레인저스': 0, '풋볼': 0, '국체': 0, '출현': 0, '히알루론산': 0, '남해안': 0, '손길': 0, '스파이': 0, '톈유': 0, '근간': 0, '한일관계': 0, '격투': 0, '조합원': 0, '정병': 0, '탐지': 0, '아람': 0, '어드밴티지': 0, '뉴턴': 0, '앞날': 0, '중고생': 0, '편안': 0, '중관': 0, '김진구': 0, '남중국해': 0, '정박': 0, '눌렸던': 0, '노심초사': 0, '훠훠훠': 0, '팅할': 0, '영기획': 0, '냉전': 0, '인류': 0, '샌더스': 0, '후또': 0, '악담': 0, '횡보시작이구랴': 0, '추풍낙엽': 0, '볼기': 0, '전군': 0, '천하도': 0, '덕질': 0, '서스펜션': 0, '홀릭': 0, '커녕': 0, '넌스': 0, '이상록': 0, '교량': 0, '구승': 0, '윈도우': 0, '펩트론': 0, '분유': 0, '에네스': 0, '엔지켐': 0, '라미': 0, '렌즈': 0, '살해': 0, '제조법': 0, '자유투': 0, '표절': 0, '편대': 0, '정지우': 0, '광화문': 0, '더위': 0, '환국': 0, '방벽': 0, '가상화': 0, '인크루트': 0, '렌트카': 0, '너마저': 0, '헬로': 0, '임유': 0, '영동선': 0, '방기천': 0, '퇴짜': 0, '정성': 0, '패트병': 0, '마이티': 0, '확성기': 0, '증오범죄': 0, '회계감사인': 0, '이준호': 0, '옥포': 0, '화섬': 0, '초공간': 0, '양품': 0, '조감도': 0, '오믹스': 0, '플래트닝': 0, '격동': 0, '초래': 0, '포템': 0, '기권': 0, '교도': 0, '콜버그': 0, '어슈런트': 0, '전율': 0, '피에몬트': 0, '권오현': 0, '산도': 0, '분비': 0, '윈체스터': 0, '수류탄': 0, '그린피스': 0, '징신': 0, '글루타': 0, '태상': 0, '렌코': 0, '스테인레스': 0, '손익계산서': 0, '에데사': 0, '예드가': 0, '전속': 0, '류화룽': 0, '톈루이': 0, '트립어드': 0, '남한': 0, '도버': 0, '첸퉁': 0, '편집국': 0, '신유': 0, '정화': 0, '농사': 0, '득함': 0, '장현': 0, '주준': 0, '길드': 0, '태핑': 0, '소영': 0, '말라카': 0, '스트레이츠': 0, '칼레': 0, '룽간': 0, '컨티넨트': 0, '귀결': 0, '모터스포츠': 0, '테일러': 0, '무어': 0, '진시': 0, '유싱': 0, '콩규': 0, '주화': 0, '마쉬앤엠': 0, '루안': 0, '딜로': 0, '제프리': 0, '쉐커우': 0, '글렌': 0, '호마': 0, '카렌': 0, '헤일': 0, '프리엘': 0, '웨인라이트': 0, '키나제': 0, '튜브': 0, '애브': 0, '빌더스': 0, '마브': 0, '책률': 0, '루니아': 0, '막무르': 0, '어트랙션': 0, '휘펑': 0, '칭촨': 0, '레노버': 0, '바바더': 0, '금융긴축': 0, '가양역': 0, '데시': 0, '선착순': 0, '매진': 0, '스탠다드차타드': 0, '전자거래': 0, '프린': 0, '진도군': 0, '중개업': 0, '몬테카를로': 0, '변비': 0, '티자': 0, '감회': 0, '앳웍스': 0, '케임즈': 0, '트릭스터': 0, '클라이맥스': 0, '쭈우욱': 0, '또또': 0, '머머': 0, '솔까말': 0, '지하가': 0, '입도': 0, '독일연방': 0, '지하실': 0, '아아': 0, '적당': 0, '점임': 0, '제때': 0, '제자리걸음': 0, '게놈': 0, '특구': 0, '구라': 0, '아작': 0, '대산': 0, '박용': 0, '적지': 0, '미츠코시': 0, '이세탄': 0, '이외': 0, '스틸케이스': 0, '수백만': 0, '입질': 0, '신형': 0, '캐터필러': 0, '시준펑': 0, '케아': 0, '신세': 0, '미사일방어국': 0, '노스럽': 0, '그루': 0, '브르프': 0, '메디케어': 0, '보도자료': 0, '정신의학': 0, '해안가': 0, '입수': 0, '지부': 0, '귀책사유': 0, '사우스차이나': 0, '인파': 0, '알렉사': 0, '어시스턴트': 0, '캐논': 0, '마티즈': 0, '에이프릴': 0, '국판': 0, '버루': 0, '워너뮤직': 0, '클립': 0, '알리안츠': 0, '좌수': 0, '웰트': 0, '쉐보레': 0, '급량': 0, '가톨릭': 0, '경선': 0, '관동': 0, '세탁': 0, '토피아': 0, '우등': 0, '자궁암': 0, '도포': 0, '엑소더스': 0, '부가가치': 0, '속옷': 0, '백일장': 0, '자금지원': 0, '가압류': 0, '강희': 0, '비자카드': 0, '정호영': 0, '유효수요': 0, '이나': 0, '이영구': 0, '서초동': 0, '봉헌': 0, '국장': 0, '김용재': 0, '노코': 0, '콘센트': 0, '엄정화': 0, '조니워커': 0, '대자연': 0, '스트랩': 0, '스티커': 0, '준칙': 0, '조원태': 0, '아달리무맙': 0, '후생노동성': 0, '야생': 0, '전술': 0, '저작권': 0, '궁지': 0, '존폐': 0, '헛말': 0, '비정': 0, '육체': 0, '신경통': 0, '커밍': 0, '토요일': 0, '휴무': 0, '주병진': 0, '전강': 0, '후약': 0, '벡먼': 0, '콜터': 0, '재량': 0, '퉁청': 0, '윤하': 0, '초임': 0, '프랭크': 0, '햄린': 0, '비니': 0, '메티닙': 0, '인스메드': 0, '광위안': 0, '허페이시': 0, '정수': 0, '빌비': 0, '흥콩': 0, '매버릭스': 0, '라이온스': 0, '봄철': 0, '우편물': 0, '위치타': 0, '절강': 0, '루이펑': 0, '크로마': 0, '인텔리전트': 0, '성교육': 0, '궈신': 0, '구겐하임': 0, '항핀': 0, '안데스': 0, '컴퍼스': 0, '치포틀': 0, '기술자': 0, '세마글루티드': 0, '감량': 0, '칸튼스': 0, '앳홈': 0, '죠스': 0, '스핏파이어': 0, '루이': 0, '레포르피나': 0, '조항': 0, '캄마': 0, '와브텍': 0, '노르드': 0, '헨더슨': 0, '스테인리스강': 0, '노튼': 0, '창청': 0, '너겟': 0, '화타': 0, '텐탈': 0, '소제': 0, '보더': 0, '쿼터': 0, '중등': 0, '나르샤': 0, '옵토': 0, '평가절하': 0, '선전포고': 0, '광림': 0, '신저': 0, '진천군': 0, '럭슬': 0, '벡셀': 0, '세배': 0, '이석기': 0, '국정원': 0, '포스트타워': 0, '뒷전': 0, '김민수': 0, '홍수': 0, '노벨경제학상': 0, '뒷북': 0, '꼼수': 0, '말발': 0, '솎아내': 0, '대담': 0, '김재식': 0, '디지털타임스': 0, '첼시': 0, '선율': 0, '야스': 0, '급발진': 0, '잔치국수': 0, '카프로': 0, '졸속': 0, '장기로': 0, '낮짝': 0, '북도': 0, '색기': 0, '바이오매스': 0, '물량없다': 0, '덕정': 0, '김동수': 0, '김주현': 0, '공론': 0, '부평': 0, '송호근': 0, '송시': 0, '피부질환': 0, '스탠퍼드': 0, '자폐증': 0, '양주': 0, '관해': 0, '상시': 0, '감정평가': 0, '건전': 0, '풍도': 0, '배틀': 0, '비축': 0, '외교': 0, '일곱': 0, '격변': 0, '변호인': 0, '스탠퍼드대': 0, '전남대': 0, '약대': 0, '아케': 0, '프랄세티닙': 0, '오예': 0, '머셜': 0, '신지': 0, '갈바니': 0, '몽세프': 0, '슬라우': 0, '이의': 0, '쉬룽': 0, '사비': 0, '대중교통': 0, '세뇌': 0, '이윤': 0, '동아시아': 0, '방카슈랑스': 0, '차오저우': 0, '정킨그룹': 0, '대학도시': 0, '바이크': 0, '에버랜드': 0, '산수': 0, '북극성': 0, '트립어드바이저': 0, '레킷': 0, '여행자': 0, '어드밴티': 0, '낸싱': 0, '해동': 0, '히노': 0, '서퍽': 0, '애니메이션': 0, '까르푸': 0, '세인트루이스': 0, '브레이': 0, '너드': 0, '금위': 0, '바이오테크놀러지': 0, '프리트': 0, '킨타': 0, '잉펑': 0, '지톈': 0, '거수기': 0, '약주': 0, '최첨단': 0, '소방기': 0, '저수': 0, '관개': 0, '화진': 0, '치홍': 0, '게르마늄': 0, '장미': 0, '특산': 0, '유종': 0, '드롭': 0, '트리젠': 0, '포두': 0, '어셔': 0, '궈안': 0, '제니퍼': 0, '로버츠': 0, '요트': 0, '덴츠': 0, '이스즈': 0, '상용차': 0, '리히텐슈타인': 0, '스체': 0, '데스': 0, '라이히': 0, '이퀼륨': 0, '헬리콥터': 0, '래그': 0, '붕해': 0, '빨래': 0, '파값': 0, '출생': 0, '김형': 0, '지연해': 0, '본회의': 0, '저조': 0, '티엠씨': 0, '민관': 0, '통학': 0, '주안': 0, '서밋': 0, '유턴': 0, '샘스': 0, '미디어텍': 0, '사당': 0, '비화': 0, '수에즈': 0, '운하': 0, '두발': 0, '얼리텍': 0, '연구기관': 0, '교실': 0, '손경': 0, '선싱': 0, '위젯': 0, '김영준': 0, '큐비스': 0, '집약': 0, '어드밴': 0, '왕세자': 0, '타이트': 0, '업사이클': 0, '소스트': 0, '기븐': 0, '해커': 0, '참가자': 0, '고가도': 0, '김태옥': 0, '송강호': 0, '김지운': 0, '이암': 0, '실험동물': 0, '외출': 0, '이병철': 0, '일자': 0, '노점상': 0, '어민': 0, '수학자': 0, '부정지': 0, '안기성': 0, '홍열': 0, '떡잎': 0, '송현석': 0, '공병': 0, '코모': 0, '신상': 0, '젠위브': 0, '노진서': 0, '타비': 0, '성역': 0, '강호성': 0, '맴도': 0, '키위': 0, '픽쳐스': 0, '수협': 0, '롤스터': 0, '모윰': 0, '엘린': 0, '잠깐': 0, '씨엔킴외': 0, '사택': 0, '탁사': 0, '파이널': 0, '현식': 0, '산화': 0, '황조': 0, '이창근': 0, '데카론': 0, '윤정환': 0, '신진호': 0, '일산': 0, '엔뷰': 0, '복막': 0, '이건희': 0, '정아름': 0, '해수': 0, '강세정': 0, '신동원': 0, '윤영준': 0, '백성민': 0, '마니커': 0, '한성대': 0, '단상': 0, '이혁': 0, '리앤리': 0, '안국': 0, '불평': 0, '생기': 0, '변전소': 0, '여인홍': 0, '김지연': 0, '전북도': 0, '송성수': 0, '박진규': 0, '개폐': 0, '렌탈스': 0, '어드레서블': 0, '특금법': 0, '장편': 0, '한울': 0, '석관': 0, '싸움터': 0, '정예': 0, '법원장': 0, '기초과학': 0, '피츠버그': 0, '적색': 0, '지하차도': 0, '즈쥔': 0, '부적격': 0, '요구르트': 0, '챔프': 0, '쥬얼리': 0, '콩고': 0, '리바록': 0, '반정': 0, '다프네': 0, '루저우': 0, '람브': 0, '아킬레스': 0, '일관': 0, '지열': 0, '매니지먼트사': 0, '어니스트': 0, '보렐': 0, '여과': 0, '네사': 0, '아세틸': 0, '캐시미어': 0, '마르세유': 0, '케나': 0, '사이토카인': 0, '풍식': 0, '리량': 0, '카르멘': 0, '톈디': 0, '강룽': 0, '다이브': 0, '다년생': 0, '단감': 0, '쿠텍': 0, '한씨': 0, '상대성': 0, '무진행': 0, '종착': 0, '몬데오': 0, '농후': 0, '노파': 0, '슈이파': 0, '헥신': 0, '치펑': 0, '비비아니': 0, '모모': 0, '옴니커블': 0, '셔블': 0, '선취': 0, '설상가상': 0, '룩시엔스': 0, '장애물': 0, '개스피': 0, '정지인': 0, '아대': 0, '말했쟈': 0, '왕중': 0, '팡버딩': 0, '앤히어': 0, '보케': 0, '벤투스': 0, '탄생화': 0, '애드혹': 0, '노동법': 0, '판준': 0, '판타지아': 0, '이경수': 0, '화면': 0, '김선민': 0, '마사': 0, '역사왜곡': 0, '일벌': 0, '농특세': 0, '발칵': 0, '지뢰': 0, '친파': 0, '자율성': 0, '데마': 0, '차액': 0, '푸칭': 0, '미끼': 0, '수출입은행': 0, '방카': 0, '어쩌려': 0, '악재속': 0, '로움': 0, '측량': 0, '처남': 0, '경희의료원': 0, '신사동': 0, '그었': 0, '태운': 0, '얼굴인식': 0, '극히': 0, '만조': 0, '정석': 0, '이명희': 0, '정담': 0, '강공': 0, '선업': 0, '김성규': 0, '금보': 0, '달콤': 0, '빅브라더': 0, '이해력': 0, '태도': 0, '상경': 0, '최종현': 0, '이희준': 0, '위종묵': 0, '동정': 0, '폴란드': 0, '식스': 0, '탁론': 0, '콧노래': 0, '내후년': 0, '통신위성': 0, '러블': 0, '물꼬': 0, '텄다': 0, '맹활약': 0, '구자': 0, '김병진': 0, '신동훈': 0, '눌림': 0, '광열': 0, '뒷말': 0, '태정': 0, '지배인': 0, '스테이지': 0, '내핵': 0, '계측기': 0, '게인': 0, '접착제': 0, '이정민': 0, '법규': 0, '에브리': 0, '최봉진감': 0, '인호': 0, '임재현': 0, '관세청장': 0, '공렴': 0, '랜더': 0, '충청권': 0, '포치': 0, '사용권': 0, '서병기': 0, '콜라보레이션': 0, '오감': 0, '커넥티드': 0, '유데나필': 0, '여객기': 0, '개조': 0, '조산사': 0, '재건': 0, '여진': 0, '한영수': 0, '제약기업': 0, '부민': 0, '공백기': 0, '스위치': 0, '에어택시': 0, '길막': 0, '김종현': 0, '덴프스': 0, '보해양조': 0, '력사': 0, '방영': 0, '리디북스': 0, '역서': 0, '루프트한자': 0, '이천': 0, '동강': 0, '시스타': 0, '동현': 0, '후지쯔': 0, '진규': 0, '진일': 0, '안드로이드': 0, '성신양회': 0, '루메드': 0, '부총리': 0, '정품': 0, '창춘': 0, '이펑': 0, '랴오위안': 0, '너클': 0, '농화학': 0, '흥신': 0, '편협': 0, '고추': 0, '폐쇄하': 0, '농지': 0, '리자': 0, '다트': 0, '선저': 0, '문구점': 0, '템페스트': 0, '밀렌': 0, '포르테': 0, '유목민': 0, '시알': 0, '부지역': 0, '헤이룽장': 0, '다육': 0, '한사': 0, '일리노이': 0, '쇼지': 0, '파스타': 0, '류저우': 0, '동성동본': 0, '중톈': 0, '공대': 0, '신상철': 0, '위내': 0, '사전투표': 0, '선관위': 0, '꿀맛': 0, '레이티': 0, '광화': 0, '우후': 0, '사산': 0, '투약량': 0, '하트퍼드': 0, '스위프트': 0, '톈궁': 0, '팔로마': 0, '타르수스': 0, '뇌염': 0, '보미': 0, '중난': 0, '이머노텍': 0, '레소': 0, '윌튼': 0, '광선': 0, '룽허': 0, '리칸': 0, '요독증': 0, '자베팬트': 0, '완통': 0, '마랄릭시': 0, '레쉬': 0, '진코솔': 0, '환경청': 0, '인적자원': 0, '시류': 0, '잠수함': 0, '장호': 0, '창의성': 0, '롄화': 0, '라오': 0, '카시': 0, '아코': 0, '우루스': 0, '통렌탕': 0, '코크': 0, '생필품': 0, '세종대': 0, '박근희': 0, '조업': 0, '격주': 0, '무제': 0, '놀금': 0, '학자금': 0, '드라이어': 0, '열연': 0, '지엘팜텍': 0, '쥴비': 0, '진라면': 0, '식용': 0, '신현필': 0, '간식': 0, '온실': 0, '샤페론': 0, '스토킹': 0, '어머니': 0, '둔갑': 0, '용국': 0, '치비': 0, '허쥬마': 0, '뉴메드': 0, '괴한': 0, '난동': 0, '남산': 0, '사우스웨스트항공': 0, '이한상': 0, '베리스모': 0, '통항': 0, '대상포진': 0, '웅천': 0, '마리나': 0, '모호': 0, '써클': 0, '홍월': 0, '침식': 0, '박민': 0, '송현주': 0, '지혈': 0, '연회': 0, '정왕': 0, '병진': 0, '패킷': 0, '과금': 0, '유레카': 0, '수연': 0, '구자현': 0, '비틀': 0, '아르케': 0, '발신': 0, '랭크': 0, '은닉': 0, '겸영': 0, '부수': 0, '조태욱': 0, '이충국': 0, '이병국': 0, '호상': 0, '규봉': 0, '서미혜': 0, '빗장': 0, '전통의학': 0, '펑페이': 0, '책액': 0, '이상일': 0, '머슬': 0, '줄리아': 0, '우주선': 0, '릴륨': 0, '롱징': 0, '웩슬러': 0, '이맥스': 0, '칼린': 0, '천밍': 0, '쫄깃쫄깃': 0, '하이패션': 0, '철폐': 0, '민성은': 0, '하이센스': 0, '에어차이나': 0, '솽후이': 0, '보리스': 0, '치위': 0, '천후': 0, '암겐': 0, '로데오': 0, '트랙스': 0, '응집': 0, '푸시': 0, '컴컴': 0, '클라이언트': 0, '로렌': 0, '넬리': 0, '채석장': 0, '나이프': 0, '쇼크웨이브': 0, '키즈': 0, '지프': 0, '닷지': 0, '멀티플랫폼': 0, '디공': 0, '모체': 0, '제창': 0, '중신': 0, '지우장': 0, '서사시': 0, '의제': 0, '호킹': 0, '기둥': 0, '추콩': 0, '미식': 0, '웰홉': 0, '솔라리스': 0, '네바다': 0, '브릴리언트': 0, '서클': 0, '슈르': 0, '선융': 0, '무사': 0, '벤틀리': 0, '동북공정': 0, '구별': 0, '설강화': 0, '콘톱스': 0, '국가주석': 0, '불이익': 0, '쓴웃음': 0, '징응': 0, '한서': 0, '반면': 0, '양성화': 0, '루자주이': 0, '아비치': 0, '투란': 0, '오비탈': 0, '깁슨': 0, '캠든': 0, '총기': 0, '북부': 0, '미시건': 0, '왓코': 0, '체인지': 0, '발린': 0, '싱톈': 0, '헌신': 0, '핑딩산': 0, '상항': 0, '불가결': 0, '티테': 0, '링난': 0, '논페밋': 0, '트래킹': 0, '아크엔젤': 0, '길동': 0, '음극': 0, '내분비': 0, '생계': 0, '우주탐사': 0, '정윤석': 0, '로어': 0, '시비': 0, '빈트': 0, '국세': 0, '리커창': 0, '삼계탕': 0, '용두사미': 0, '광명시': 0, '힝보': 0, '알걸': 0, '사중': 0, '절치': 0, '강동': 0, '송병준': 0, '남창동': 0, '푸틴': 0, '부방': 0, '미보': 0, '플라잉': 0, '선언문': 0, '우마': 0, '무스': 0, '처발': 0, '동수': 0, '전상현': 0, '해링턴': 0, '전모': 0, '은밀': 0, '치명': 0, '청소기': 0, '최원석': 0, '부적합': 0, '시신경': 0, '척수염': 0, '독도': 0, '레졸': 0, '저혈당증': 0, '링글': 0, '아가': 0, '램프': 0, '민박': 0, '스윙': 0, '포즈': 0, '수습': 0, '컨디션': 0, '김진화': 0, '텐핑': 0, '이엄': 0, '홍광직': 0, '서재': 0, '만우절': 0, '캠코': 0, '김동엽': 0, '피시': 0, '장어': 0, '마창대교': 0, '이원호': 0, '인피닉': 0, '뚝딱': 0, '싱크탱크': 0, '마곡': 0, '지형도': 0, '침착': 0, '홍기': 0, '권제': 0, '평택시': 0, '이충동': 0, '전기통신': 0, '원격지원': 0, '통정': 0, '임상준': 0, '미분': 0, '디파이': 0, '류영재': 0, '제천': 0, '마이크로웨이브': 0, '신입사원': 0, '심층수': 0, '공통점': 0, '파견': 0, '아이돌': 0, '여럿': 0, '봄꽃': 0, '셈법': 0, '증금': 0, '고지전': 0, '대약진': 0, '펀더풀': 0, '카마': 0, '착용': 0, '임업': 0, '통일': 0, '영혼': 0, '이징': 0, '후이저우시': 0, '리빈': 0, '미시간': 0, '정보기술': 0, '상국': 0, '라티': 0, '종학': 0, '라진': 0, '스테파노': 0, '푸엥': 0, '슈쥔': 0, '선녀': 0, '헝계': 0, '뭐살': 0, '청추앙쉐': 0, '테던스': 0, '웨이하이시': 0, '진록': 0, '텔레비전': 0, '버밍엄': 0, '스타디움': 0, '프로그래머': 0, '비고': 0, '지린성': 0, '창룽': 0, '도메인': 0, '조미': 0, '요점': 0, '윤톈화': 0, '둥관': 0, '블린': 0, '오셀롯': 0, '말경': 0, '게이머': 0, '증안': 0, '스포츠맨': 0, '대런': 0, '탄광': 0, '크리스틴': 0, '유연': 0, '종민': 0, '스리위자야': 0, '조종실': 0, '녹음기': 0, '군용': 0, '헤드셋': 0, '도량': 0, '캘슨': 0, '파웨이': 0, '류슈화': 0, '린리': 0, '현금인출기': 0, '승용차': 0, '버스터': 0, '바이오디젤': 0, '책금': 0, '아문': 0, '난퉁': 0, '아세트산': 0, '톈런': 0, '프레드릭': 0, '니흘렌': 0, '직위': 0, '키프로스': 0, '니코시아': 0, '구이저우성': 0, '시노페': 0, '히타치': 0, '화성시': 0, '송산동': 0, '조원': 0, '위구르': 0, '이해충돌': 0, '고려제강': 0, '볼츠': 0, '개명': 0, '재등': 0, '봉덕': 0, '들것': 0, '아자르': 0, '보이콧': 0, '식비': 0, '빚진': 0, '골디락스': 0, '홀리': 0, '단기매매': 0, '김명': 0, '태인': 0, '벤딩': 0, '중웨이': 0, '김학래': 0, '압구정': 0, '뚠뚠': 0, '권우': 0, '혈압': 0, '김현준': 0, '냉대': 0, '노홍철': 0, '허봉': 0, '건보': 0, '류영준': 0, '홍준': 0, '블락': 0, '폐차': 0, '거린': 0, '엎친데': 0, '산림청': 0, '완비': 0, '자격정지': 0, '황호': 0, '거짓말': 0, '김종': 0, '조리': 0, '평상시': 0, '이동형': 0, '음압': 0, '병실': 0, '미스터리': 0, '봉사': 0, '닭컴': 0, '스테이크': 0, '넥사': 0, '넷트루컨설팅': 0, '심장병': 0, '단심': 0, '감형': 0, '세토': 0, '시노켐감소켐차': 0, '필요시': 0, '이명재': 0, '리퍼비시': 0, '보강': 0, '본능': 0, '레이블': 0, '가지가지': 0, '출자전환': 0, '문강': 0, '폴리오': 0, '이찬우': 0, '이공': 0, '시노켐': 0, '켐차': 0, '살걸': 0, '껄무새': 0, '보안취약점': 0, '성과지표': 0, '용해': 0, '제판': 0, '주선': 0, '키옥': 0, '페이도': 0, '권영수': 0, '옥정': 0, '이현용': 0, '고덕': 0, '서울특별시': 0, '외환보유고': 0, '지란': 0, '툭하면': 0, '교사': 0, '소방관': 0, '릴핏': 0, '철근': 0, '양곤': 0, '맷집': 0, '박인비': 0, '흑석동': 0, '보툴': 0, '코식': 0, '피격': 0, '피토': 0, '국떡': 0, '김태선': 0, '응모': 0, '티보': 0, '꿀딜': 0, '지상파': 0, '중간광고': 0, '척결': 0, '정작': 0, '고글': 0, '은우': 0, '홀딱': 0, '종로': 0, '용진': 0, '이형': 0, '스크리닝': 0, '플래트빌': 0, '네델란드': 0, '센츄리온': 0, '제리': 0, '심막염': 0, '칸타': 0, '룽중': 0, '감코': 0, '힐레': 0, '미시간주': 0, '마주': 0, '음전하': 0, '겟노': 0, '꼬시는': 0, '내지': 0, '브뤼셀': 0, '리펀': 0, '왕젠': 0, '산싱': 0, '옌창': 0, '펑잉구오': 0, '옥스나드': 0, '구이': 0, '키오샤': 0, '헝균': 0, '파테': 0, '폐동맥': 0, '셉트': 0, '바머': 0, '제만': 0, '스켈레톤': 0, '카고젯': 0, '뤼산군': 0, '상쇄량': 0, '무룽': 0, '시스터': 0, '영업소': 0, '케치': 0, '간성': 0, '카니': 0, '사육': 0, '콘체계': 0, '어소': 0, '카제': 0, '영선': 0, '중박': 0, '졸라맨': 0, '이규성': 0, '해남': 0, '강창율': 0, '텔라독': 0, '재보선': 0, '케케지안': 0, '유리창': 0, '이타카': 0, '부랴부랴': 0, '환담': 0, '밀턴': 0, '박태': 0, '이모': 0, '깜피': 0, '방출': 0, '상층': 0, '휴대전화': 0, '주전': 0, '식화': 0, '평소': 0, '스샷': 0, '기획사': 0, '가오동': 0, '비앤피': 0, '종지부': 0, '환급금': 0, '요한': 0, '재보궐선거': 0, '트러블': 0, '상도': 0, '군대': 0, '이종원': 0, '탑점': 0, '텔레그램': 0, '코렌': 0, '논현동': 0, '오주': 0, '인트': 0, '가이드북': 0, '판촉': 0, '인쇄': 0, '도계': 0, '다래': 0, '이혜진': 0, '최대성': 0, '빨대': 0, '신분증': 0, '눈썰미': 0, '경비원': 0, '자살': 0, '밤길': 0, '걷기': 0, '장금상선': 0, '아인': 0, '굴절': 0, '레이니': 0, '제크': 0, '이산화탄소': 0, '비지': 0, '배적': 0, '사상가': 0, '지보': 0, '치샹': 0, '텡다': 0, '다라': 0, '아브스': 0, '크로스오버': 0, '나노미터': 0, '딸기': 0, '브래드쇼': 0, '유비퀴티': 0, '헌츠먼': 0, '룽유': 0, '각감': 0, '톤로': 0, '그레이엄': 0, '머뭇': 0, '리탈': 0, '판넬': 0, '윤호영': 0, '리눅스': 0, '위너스': 0, '파국': 0, '평행선': 0, '철산': 0, '면책': 0, '보감': 0, '농림부': 0, '속지': 0, '기요': 0, '이세': 0, '솔랩': 0, '사물인터넷': 0, '찌려': 0, '행세': 0, '비헤': 0, '샤오청쉬': 0, '장덕수': 0, '콘도': 0, '아무나': 0, '후배': 0, '헛걸음': 0, '강화유리': 0, '로보티즈': 0, '달차': 0, '다비치': 0, '안경': 0, '기어': 0, '실속': 0, '멜라닌': 0, '김진환': 0, '발산': 0, '제풀이': 0, '빈틈': 0, '유탄': 0, '체육': 0, '부천시': 0, '유스': 0, '꽃놀이패': 0, '한솥': 0, '뉴트': 0, '여왕': 0, '큰물': 0, '태초': 0, '그랜저': 0, '공법': 0, '엔슨': 0, '엠벤': 0, '동경': 0, '관광업': 0, '티켓': 0, '관외': 0, '남북': 0, '연락': 0, '폭파': 0, '한지': 0, '신체': 0, '아스트로': 0, '위키': 0, '미키': 0, '분명': 0, '욕실': 0, '김성기': 0, '멕벤투': 0, '급난': 0, '점막': 0, '레미콘': 0, '소싱': 0, '미치나': 0, '종합소득세': 0, '스탠포드': 0, '글러브': 0, '티카': 0, '불당': 0, '정위': 0, '방시혁': 0, '전자책': 0, '디쉬': 0, '녀석': 0, '겐워스': 0, '게스트': 0, '모란': 0, '케이드': 0, '창슈': 0, '펑판': 0, '에너지부': 0, '탈레스': 0, '스콜라': 0, '전념': 0, '앤더슨': 0, '간유': 0, '랜도스': 0, '루츠': 0, '슐러': 0, '경추': 0, '동물성': 0, '그린필드': 0, '츄어': 0, '허방': 0, '머니투데이': 0, '호신술': 0, '인종차별': 0, '험담': 0, '포어': 0, '선헬름': 0, '궈쉬안': 0, '후창': 0, '우슈': 0, '성비': 0, '장경': 0, '하나카드': 0, '김영신': 0, '청강': 0, '피처폰': 0, '부와': 0, '호시절': 0, '뚜루': 0, '완수': 0, '박천일': 0, '내진': 0, '코마': 0, '어기': 0, '몽둥이': 0, '에피': 0, '티콘': 0, '독박': 0, '국가부채': 0, '뭉치': 0, '혼전': 0, '본전': 0, '자필': 0, '갈증': 0, '환심': 0, '보태': 0, '아세안': 0, '바로미터': 0, '킹메이커': 0, '김종인': 0, '규합': 0, '장파': 0, '조석래': 0, '년새': 0, '효성동': 0, '문두': 0, '고딩': 0, '파이브': 0, '회용': 0, '막후': 0, '박테리오파지': 0, '그래픽카드': 0, '댑스': 0, '혈전': 0, '로얄': 0, '지웅': 0, '매칭': 0, '이계': 0, '필지': 0, '김동관': 0, '자궁경부암': 0, '카발': 0, '지스타': 0, '곳도': 0, '인비태': 0, '이엘': 0, '제습기': 0, '협동': 0, '쑤레기': 0, '망햇': 0, '꼴등녀연': 0, '지적재산권': 0, '시각장애인': 0, '제목': 0, '가틱': 0, '매부리': 0, '컨센': 0, '마음속': 0, '동면': 0, '인투셀': 0, '합체': 0, '엘엔애프': 0, '모나': 0, '세수': 0, '견조하': 0, '파워레인저': 0, '알톤': 0, '개화': 0, '셀럽': 0, '뱅이': 0, '엄지': 0, '출구조사': 0, '장기전': 0, '유산균': 0, '주한': 0, '묵살': 0, '야수': 0, '산곡': 0, '뜬금': 0, '족보': 0, '고갈': 0, '실평위': 0, '이종결': 0, '포일': 0, '상설': 0, '이원': 0, '불사': 0, '리까': 0, '케인': 0, '지언': 0, '모헨즈': 0, '생법': 0, '시해': 0, '금관': 0, '페이트': 0, '해저': 0, '방류': 0, '송유관': 0, '센드': 0, '보뱅': 0, '스플래시': 0, '트로델비': 0, '설사': 0, '보디': 0, '자칫': 0, '숭숭': 0, '애초': 0, '입안': 0, '쫄보': 0, '땜시': 0, '윈회복힌다': 0, '첸체황': 0, '미디': 0, '비엔나': 0, '수스': 0, '나젤': 0, '선빵': 0, '창안': 0, '밍양': 0, '에반': 0, '번스타인': 0, '상수도': 0, '부통령': 0, '아반트': 0, '왕통': 0, '메인스트리트': 0, '등록부': 0, '극대': 0, '징루이': 0, '만병통치약': 0, '풋내기': 0, '실크': 0, '에보쿠': 0, '수자원기술': 0, '보론': 0, '모기지론': 0, '코녹': 0, '릭소르': 0, '엘전': 0, '동탄': 0, '만선': 0, '김치': 0, '김프': 0, '제철소': 0, '국제선': 0, '이인': 0, '시업': 0, '원용': 0, '팬택': 0, '롱화': 0, '대졸': 0, '서바이벌': 0, '감상': 0, '기미': 0, '국립국어원': 0, '용갑합체': 0, '리버풀': 0, '리튬이온': 0, '힌덴': 0, '군위': 0, '통신체': 0, '웹진': 0, '야당': 0, '발모': 0, '식립용': 0, '안닝': 0, '식별자': 0, '에퀴노': 0, '체인점': 0, '내의': 0, '객관': 0, '방사청': 0, '동기간': 0, '바이주': 0, '테멕스': 0, '핫스팟': 0, '제레': 0, '헤모글로빈': 0, '용혈': 0, '한선': 0, '자멸': 0, '뉴난': 0, '켐팜': 0, '거넷': 0, '아리아': 0, '도깨비': 0, '개구': 0, '김형철': 0, '이완': 0, '이지선': 0, '던데': 0, '카더라': 0, '김병준': 0, '간이': 0, '파우더': 0, '격감': 0, '특감반': 0, '악재땜': 0, '답글남': 0, '스크': 0, '치폴레': 0, '정소민': 0, '세라믹스': 0, '배그': 0, '몰려드': 0, '채도': 0, '공진단': 0, '칵핏': 0, '리보핵산': 0, '히어로즈': 0, '재무회계': 0, '인유두종바이러스': 0, '정량': 0, '엑사비스': 0, '아르고스': 0, '여윳돈': 0, '투과': 0, '신용구': 0, '티얼즈': 0, '공언': 0, '생략': 0, '티엔터테인먼트': 0, '석정': 0, '디플레이션': 0, '완성형': 0, '뇌물': 0, '빈부격차': 0, '목포시': 0, '유달': 0, '지수형': 0, '티그리스': 0, '구두': 0, '잔재미': 0, '한남동': 0, '제너두': 0, '키맵': 0, '검진': 0, '고질': 0, '레이브': 0, '마나': 0, '파트너쉽': 0, '남양': 0, '팔도': 0, '찰나': 0, '옴니버스': 0, '푸보트프': 0, '월드컵': 0, '코흐': 0, '안무': 0, '알트리아': 0, '펩시': 0, '맥도날드': 0, '켐프친스키': 0, '프라이버시': 0, '가금류': 0, '원격': 0, '류머티스': 0, '완팡': 0, '메달리스트': 0, '온상': 0, '세도': 0, '심정': 0, '로코': 0, '정례': 0, '드네': 0, '실성': 0, '재야': 0, '앤톡': 0, '가호': 0, '분식': 0, '잠식': 0, '본보기': 0, '청사': 0, '청계천': 0, '정전협정': 0, '민선': 0, '시청': 0, '옌저우': 0, '소린': 0, '캐넌': 0, '검정': 0, '탄자니아': 0, '룽유홍다': 0, '수리온': 0, '파인만': 0, '게이트웨이': 0, '양동훈': 0, '김종일': 0, '저명': 0, '단추': 0, '티즌': 0, '도덕성': 0, '신월': 0, '마포구': 0, '업도': 0, '루키': 0, '성산동': 0, '만드': 0, '추린': 0, '진메': 0, '선벨트': 0, '답글얘': 0, '재룐건': 0, '성함': 0, '관가': 0, '우군': 0, '빼뿌노': 0, '가요': 0, '유영': 0, '작두': 0, '끝장': 0, '손절마렵': 0, '이개': 0, '해치': 0, '부익부': 0, '빈익빈': 0, '타파스': 0, '링선': 0, '주우': 0, '빗살': 0, '온코': 0, '최동': 0, '콜로이드': 0, '환입': 0, '장산': 0, '깐풍기': 0, '파닭': 0, '집무실': 0, '거양': 0, '멜리사': 0, '분획': 0, '공사채': 0, '유노': 0, '연고': 0, '라이크핏': 0, '종전': 0, '탑승객': 0, '어플리케이션': 0, '글램': 0, '아랍권': 0, '천문학': 0, '로소': 0, '환태평양': 0, '석사': 0, '인류학': 0, '재귀': 0, '젠예': 0, '직통': 0, '이더넷': 0, '핀텍': 0, '배심': 0, '제스트': 0, '인공호흡': 0, '진진': 0, '유매': 0, '스프링밸리': 0, '고고스': 0, '테르부': 0, '탈린': 0, '황산': 0, '잉거솔': 0, '테로': 0, '후임': 0, '카림': 0, '미하일': 0, '프레셔스': 0, '워크플로우': 0, '난의': 0, '서킷': 0, '반즈': 0, '달바방신': 0, '트월': 0, '드웨': 0, '추부': 0, '간사이': 0, '바운티': 0, '빈하이': 0, '청신': 0, '테마섹': 0, '도쿄전력': 0, '아카리': 0, '피고': 0, '코판': 0, '구골': 0, '쥬리': 0, '무비': 0, '지그재그': 0, '가상현실': 0, '웹스': 0, '장남': 0, '대조': 0, '족쇄': 0, '넥스콘테크놀러': 0, '믹서': 0, '할꼬': 0, '스테어': 0, '알펜시아': 0, '대론': 0, '미래세': 0, '연예': 0, '몰입': 0, '펜데믹': 0, '촌극': 0, '힐드': 0, '제시카': 0, '나노튜브': 0, '엑스레이': 0, '명과': 0, '접속장애': 0, '껍데기': 0, '어댑티브': 0, '위풀': 0, '차일': 0, '사용성': 0, '셀러브리티': 0, '귀국': 0, '푸르밀': 0, '통화량': 0, '나팔': 0, '입출금': 0, '원종': 0, '오규석': 0, '구관': 0, '명관': 0, '테헤란로': 0, '메이플': 0, '폴리펩티드': 0, '페이시스': 0, '원주시': 0, '괴산': 0, '빈번': 0, '도서관': 0, '기비': 0, '돌다리': 0, '이용사': 0, '이억원': 0, '락다운': 0, '금세기': 0, '켄텍': 0, '구서': 0, '모레': 0, '겹겹': 0, '블름': 0, '감격': 0, '담날': 0, '구상권': 0, '답글샤꺄': 0, '라이미': 0, '부랄': 0, '마눌': 0, '친일파': 0, '패취': 0, '겹겹이': 0, '체조': 0, '바자': 0, '루미너스': 0, '태평': 0, '생일': 0, '카트리나': 0, '스패이딩': 0, '건성': 0, '요로': 0, '철판': 0, '식생활': 0, '그날': 0, '서구': 0, '뤼터우': 0, '컬쳐': 0, '선봉': 0, '비프': 0, '크레센도': 0, '자닥신': 0, '드먼': 0, '캔디': 0, '쇼룸': 0, '스마일게이트': 0, '증평': 0, '칸타빌': 0, '초등학교': 0, '온라인수업': 0, '와이즈캠프': 0, '율과': 0, '손끗': 0, '축소도': 0, '스카이레이크': 0, '아로와나': 0, '재탄생': 0, '찌산쿄': 0, '지배권': 0, '마케도니아': 0, '조웰': 0, '키린': 0, '모낭': 0, '화시쿤': 0, '탈수': 0, '윤아': 0, '리텍': 0, '민구': 0, '강홍': 0, '카운터': 0, '아즈마': 0, '홍탁': 0, '텔럼': 0, '이상인': 0, '리겔': 0, '사토시': 0, '심전도': 0, '레퍼토리': 0, '멕시코만': 0, '시리': 0, '벤타스': 0, '파블로프': 0, '리필': 0, '쿠루': 0, '펜스': 0, '트로피카나': 0, '라스베가스': 0, '사브르': 0, '비유': 0, '염원': 0, '뱅코': 0, '제스처': 0, '넘김': 0, '파시': 0, '겁쟁이': 0, '인감': 0, '짤짤': 0, '젼나': 0, '도금': 0, '지령': 0, '청량리': 0, '의과학': 0, '위즈코프': 0, '서치': 0, '무법': 0, '층좀': 0, '정욱': 0, '종친회': 0, '밤낮': 0, '비상교육': 0, '등촌동': 0, '귀뚜라미': 0, '어닐링': 0, '종사': 0, '벤텍스': 0, '군수': 0, '간병인': 0, '교육감': 0, '대무': 0, '니모': 0, '조소': 0, '가격결정': 0, '관세청': 0, '무증상': 0, '비통': 0, '신사': 0, '유씨': 0, '가설': 0, '해프닝': 0, '그닥': 0, '캔서롭': 0, '신기루': 0, '토막': 0, '크로키': 0, '봄볕': 0, '죽지': 0, '권영식': 0, '해갈': 0, '비책': 0, '레노부르크': 0, '김춘희': 0, '신빙': 0, '쿠브': 0, '츠나카': 0, '에릭': 0, '프린스': 0, '산시성': 0, '퉁수': 0, '인포시스': 0, '우체국': 0, '바틀렛': 0, '스핀오프': 0, '프록살루': 0, '황화': 0, '특촬물': 0, '간앤리': 0, '통글링': 0, '크롭': 0, '화류': 0, '라데': 0, '핵융합': 0, '소가': 0, '도큐': 0, '핏츠': 0, '메터': 0, '미용실': 0, '심슨': 0, '홍문': 0, '호르': 0, '인계': 0, '에단': 0, '서모스탯': 0, '왕진': 0, '랜돌프': 0, '에글스': 0, '퉁화': 0, '진홍': 0, '소포': 0, '수포': 0, '팽저우': 0, '초순': 0, '솽마': 0, '직결': 0, '리쇼': 0, '법정공방': 0, '테크윈': 0, '남일': 0, '어닝시즌': 0, '가발': 0, '합성섬유': 0, '지체상금': 0, '집현전': 0, '강성': 0, '매파': 0, '아이패드': 0, '교우': 0, '바스라': 0, '초선': 0, '저수지': 0, '학령': 0, '코포레이션': 0, '투비': 0, '상병': 0, '소비자금융': 0, '전월세': 0, '산아제한': 0, '서안': 0, '정차': 0, '지브리': 0, '사칭': 0, '오사카': 0, '뉴젠': 0, '인동': 0, '적대': 0, '정재승': 0, '조종사': 0, '소환': 0, '선옵타': 0, '퍼마': 0, '헌트': 0, '정청회': 0, '관직': 0, '산펑': 0, '통쿤': 0, '후난성': 0, '토니': 0, '엘리슨': 0, '아사': 0, '겐팅': 0, '오션월드': 0, '유람선': 0, '방아쇠': 0, '동화동': 0, '하르': 0, '버턴': 0, '강철': 0, '득표': 0, '메텍스': 0, '아지노모토': 0, '보고타': 0, '올메드': 0, '텐더': 0, '자음': 0, '메싱': 0, '웰섬': 0, '괴텍': 0, '아마틸': 0, '도날': 0, '산호세': 0, '송가': 0, '해피빈': 0, '내부감사': 0, '예술원': 0, '디제이': 0, '후광': 0, '자주': 0, '해부': 0, '스닥': 0, '필수요소': 0, '중간고사': 0, '만점': 0, '오인': 0, '완연': 0, '황승택': 0, '데상트': 0, '아식스': 0, '미즈노': 0, '비합리적': 0, '홍치': 0, '전제': 0, '장고': 0, '철강업': 0, '슬럼프': 0, '윤명진': 0, '불법복제': 0, '판독': 0, '톡딜': 0, '리만': 0, '인셀덤': 0, '톨로': 0, '김준우': 0, '분쟁해결': 0, '일격': 0, '아동학대': 0, '핫라인': 0, '랄라블': 0, '롭스': 0, '독버섯': 0, '구비': 0, '문병원': 0, '무릎관절': 0, '전치': 0, '환술': 0, '범일동': 0, '싸라기': 0, '게국': 0, '놀림': 0, '방송국': 0, '자장': 0, '먀오': 0, '허페이': 0, '그린포인트': 0, '강승곤': 0, '디펜더': 0, '세탁기': 0, '양원석': 0, '데소니드': 0, '시원': 0, '척추관': 0, '절전': 0, '독립문': 0, '호아팟': 0, '대봉동': 0, '브랜슨': 0, '반달': 0, '오송': 0, '발표회': 0, '자승': 0, '기범': 0, '사악': 0, '브랜': 0, '박석': 0, '요지경': 0, '화사': 0, '집사': 0, '임파': 0, '유튜': 0, '버들': 0, '화루이': 0, '계몽': 0, '헬레': 0, '플러그인': 0, '간직': 0, '윈익': 0, '무드': 0, '양경숙': 0, '은법': 0, '굿바이': 0, '안전판': 0, '화중': 0, '이수역': 0, '야전': 0, '유의사항': 0, '견제구': 0, '권총': 0, '렐레': 0, '관영': 0, '주은영': 0, '청사포': 0, '한식': 0, '먹잇감': 0, '아이큐점프': 0, '나사': 0, '칭기': 0, '인명': 0, '원티드': 0, '강연': 0, '인쇄회로기판': 0, '정상용': 0, '뉴프': 0, '돈세탁': 0, '상처리': 0, '본상': 0, '겔형': 0, '팬심': 0, '성신여대': 0, '강북구': 0, '유시': 0, '경직': 0, '물줄기': 0, '배기가스': 0, '기관차': 0, '거인': 0, '토사': 0, '셰너지': 0, '앤통': 0, '투수': 0, '루찌': 0, '카이퍼': 0, '킹메드': 0, '옹호': 0, '환경공학': 0, '멤버': 0, '장위안': 0, '보첸': 0, '카프리': 0, '몬슬러': 0, '노맙': 0, '오야겐': 0, '페티': 0, '안슐': 0, '마헤': 0, '와리': 0, '프랜시스': 0, '인디애나': 0, '세텔론': 0, '변속': 0, '헬기': 0, '호민관': 0, '화티안': 0, '메인스트림': 0, '윤다홀딩': 0, '공공시설': 0, '포장재': 0, '탕샤오지': 0, '사직서': 0, '장위': 0, '렐러': 0, '아이덴티티': 0, '아르카디아': 0, '다셴린': 0, '광체': 0, '살레': 0, '셔먼': 0, '슈미트': 0, '래커': 0, '신펑징': 0, '딕시': 0, '중국화': 0, '프로세서': 0, '무리수': 0, '동대구역': 0, '당우': 0, '법대': 0, '방독면': 0, '김소원': 0, '단순화': 0, '참정권': 0, '과도기': 0, '환전소': 0, '양륙': 0, '선급': 0, '오더물량': 0, '곤욕': 0, '세간': 0, '짐머': 0, '안성시': 0, '병목': 0, '글라인드': 0, '포항시': 0, '홀렸다': 0, '질산': 0, '원곡면': 0, '쏄마테라퓨틱스': 0, '맛뽐제': 0, '반지': 0, '제왕': 0, '모터쇼': 0, '노형욱': 0, '운전자': 0, '앤트그룹': 0, '콘로': 0, '상량식': 0, '부기': 0, '관람': 0, '도화': 0, '유기성': 0, '손발톱': 0, '무좀': 0, '나졸': 0, '헥토': 0, '표지': 0, '도뉴': 0, '마이키': 0, '니코틴': 0, '이동전화': 0, '차별성': 0, '빅씽크': 0, '마지야르': 0, '핑안은행': 0, '탈주': 0, '트안': 0, '라트비아': 0, '디마': 0, '쿠보타': 0, '레순': 0, '가오리': 0, '메이지': 0, '픽처스': 0, '포병': 0, '빈탄': 0, '성화': 0, '과민증': 0, '어택': 0, '클래식': 0, '대판': 0, '고슴도치': 0, '이리듐': 0, '메뉴': 0, '두둑': 0, '측정기': 0, '곤카': 0, '콴터릭스': 0, '위앙': 0, '소수민족': 0, '진민': 0, '프맥': 0, '누오': 0, '충당': 0, '포주': 0, '위벤처스': 0, '사투': 0, '군불': 0, '김하늘': 0, '회의실': 0, '외자': 0, '도료': 0, '정상회담': 0, '나일': 0, '자가면역': 0, '영아': 0, '아랍에미레이트': 0, '해양수산부': 0, '과학관': 0, '국기': 0, '경례': 0, '뉴라펙': 0, '박두': 0, '진아': 0, '코일': 0, '개판': 0, '개월여': 0, '보통사람': 0, '인하대': 0, '삼수': 0, '막외': 0, '요람': 0, '중학생': 0, '아모': 0, '광케이블': 0, '대효': 0, '신사고': 0, '주축': 0, '도지': 0, '작당': 0, '번강': 0, '조강': 0, '모스버거': 0, '라이스버거': 0, '구류': 0, '트렌딩': 0, '항진균제': 0, '제법': 0, '구인': 0, '구직': 0, '마루': 0, '반크': 0, '김미경': 0, '도국': 0, '이종필': 0, '오토파일럿': 0, '간호학': 0, '간호조무사': 0, '국비': 0, '잔인': 0, '자치': 0, '복숭아': 0, '칼로리': 0, '후속작': 0, '홍철': 0, '더뉴': 0, '강팀': 0, '결핵': 0, '쉐입': 0, '마운트': 0, '영웅': 0, '산린': 0, '아센': 0, '수표': 0, '오소리': 0, '옌코': 0, '분실물': 0, '윈헬스': 0, '로리': 0, '다량': 0, '하류': 0, '리달': 0, '은하수': 0, '하트리': 0, '잠자리': 0, '구덩이': 0, '남쪽': 0, '선시': 0, '네이버웹툰': 0, '프톤': 0, '포머': 0, '턴키': 0, '격적': 0, '비브라운': 0, '안면골': 0, '론칭쇼': 0, '속도계': 0, '올여름': 0, '금린': 0, '영만': 0, '김동진': 0, '더브록스': 0, '팩키지': 0, '더브': 0, '포탈': 0, '한경제': 0, '빈곤': 0, '버스킹': 0, '두둥실': 0, '내자': 0, '제천시': 0, '발우': 0, '고동수': 0, '두더지': 0, '작일': 0, '모곡동': 0, '렉티브': 0, '까무르': 0, '시디즈': 0, '김동연': 0, '트렌치': 0, '모스펫': 0, '국제대': 0, '부인과': 0, '더더': 0, '소개팅': 0, '펌킨': 0, '사법': 0, '화장지': 0, '기저귀': 0, '효우': 0, '팟빵': 0, '골드러시': 0, '펜타': 0, '듀켐': 0, '어린이날': 0, '디노스': 0, '캐치': 0, '벅셔': 0, '시선집중': 0, '표면처리': 0, '코아텍': 0, '의견서': 0, '다이몬': 0, '언섭': 0, '결식': 0, '조식': 0, '조례': 0, '황재복': 0, '태산': 0, '플로이드': 0, '평결': 0, '윤호중': 0, '때론': 0, '동그라미': 0, '피젠': 0, '에센스': 0, '뉴마켓': 0, '실드': 0, '엠볼': 0, '프링': 0, '변속기': 0, '워터마크': 0, '기펑': 0, '우선주식': 0, '쇼텐': 0, '슈타인': 0, '블라블라': 0, '옥토': 0, '헝리': 0, '원기': 0, '둥싱': 0, '몬델레스': 0, '솽싱': 0, '트라이앵글': 0, '삼손': 0, '달쪼': 0, '옴짝': 0, '달싹': 0, '알흠': 0, '이권': 0, '샹유': 0, '폴스': 0, '보준': 0, '박진희': 0, '나이지리아': 0, '캠브리지': 0, '잉여': 0, '신촌': 0, '아현역': 0, '분권': 0, '전채': 0, '틴트': 0, '티인트': 0, '진퇴양난': 0, '그린텍': 0, '데이비스': 0, '오크힐': 0, '노스웨스턴': 0, '회이자': 0, '체불': 0, '성남': 0, '모듈러': 0, '장보고': 0, '답글찬티': 0, '거즘': 0, '세포생물학': 0, '콧닥': 0, '고색': 0, '좟같': 0, '무기체계': 0, '상종': 0, '수강생': 0, '두산위브더제니스': 0, '구슬': 0, '시각장애': 0, '점자': 0, '코리아크레딧뷰로': 0, '생체인식': 0, '영주권': 0, '쇠락': 0, '명언': 0, '농도': 0, '용존': 0, '탈기': 0, '곡면': 0, '단곡': 0, '저렴': 0, '컨설팅사': 0, '황허': 0, '회오리바람': 0, '편식': 0, '서해안': 0, '쳐스': 0, '다단계': 0, '세브론': 0, '로비스트': 0, '안칭시': 0, '노안': 0, '지머겐': 0, '이민자': 0, '포르쉐': 0, '엠오엠': 0, '해창': 0, '변천사': 0, '블레스': 0, '학사정보': 0, '스누지': 0, '재석': 0, '신화통신': 0, '경질': 0, '고천': 0, '루체': 0, '슬러리': 0, '두류동': 0, '렉처': 0, '옥동': 0, '엠큐': 0, '화학무기': 0, '구사': 0, '테레비': 0, '롱웰': 0, '나리': 0, '녹록': 0, '송청': 0, '진징': 0, '제격': 0, '차연': 0, '바이아웃': 0, '옥수수': 0, '엠큐렉스': 0, '성인교육': 0, '해커스': 0, '센토': 0, '태클': 0, '박종환': 0, '인피니티': 0, '애드커슨': 0, '애스켈러드': 0, '등비너': 0, '레트': 0, '호세': 0, '실의': 0, '유벤투스': 0, '램버트': 0, '졸겐스마': 0, '채무불이행': 0, '케파': 0, '도움닫기': 0, '가칭': 0, '탈진': 0, '푸트': 0, '서산': 0, '인디펜던트': 0, '동위': 0, '농축액': 0, '타이안': 0, '스윙스': 0, '야광': 0, '장화': 0, '아이어': 0, '자키': 0, '식도암': 0, '퍼켓': 0, '수력발전': 0, '젬퍼리': 0, '방코': 0, '루저': 0, '엄중': 0, '파리클럽': 0, '아톰': 0, '건담': 0, '넷플': 0, '맞벌이': 0, '김기남': 0, '너트': 0, '원더': 0, '불판': 0, '왕웬핑': 0, '첫사랑': 0, '우싱': 0, '유산': 0, '경주시': 0, '외동읍': 0, '파도': 0, '티브로드': 0, '임국강': 0, '이동환': 0, '디홀릭': 0, '등록금': 0, '스프링클러': 0, '액화': 0, '불로': 0, '수의사': 0, '엠파시': 0, '유니레버': 0, '각지': 0, '맨하탄': 0, '밤샘': 0, '티모시': 0, '김어준': 0, '최재형': 0, '서금': 0, '오스카상': 0, '오씨': 0, '조권': 0, '쿠션': 0, '우블리툭시맙': 0, '락일': 0, '횡보세': 0, '제주대학교': 0, '하이웨이': 0, '단주': 0, '손끝': 0, '파인디앤씨': 0, '라오스': 0, '초여름': 0, '송치': 0, '올버니': 0, '잠적': 0, '해저케이블': 0, '슬림': 0, '장난성': 0, '문구': 0, '신애라': 0, '냉랭': 0, '통로': 0, '이스터에그': 0, '여우': 0, '신용거래': 0, '팔로알토': 0, '만반': 0, '상승기류': 0, '득세': 0, '무더위': 0, '새둥지': 0, '톤업': 0, '핫스탬핑': 0, '웁살라': 0, '신길동': 0, '활력소': 0, '비닐': 0, '삼십삼분': 0, '윤영': 0, '이유식': 0, '거버': 0, '관광버스': 0, '용어사전': 0, '집필': 0, '토론회': 0, '전문점': 0, '신수지': 0, '불벌': 0, '어버이날': 0, '쿨링': 0, '호캉스': 0, '효모': 0, '뎬핑': 0, '독금': 0, '바오산': 0, '쥬쥬': 0, '답글머': 0, '전고': 0, '답글낼': 0, '궁금': 0, '연못': 0, '악플러': 0, '대국민': 0, '청춘': 0, '소호': 0, '트럼': 0, '무보수': 0, '팀켄': 0, '구딕스': 0, '덕츠': 0, '사드': 0, '트랜지션': 0, '제닌': 0, '돕스': 0, '재판관': 0, '미주리': 0, '톈탄': 0, '로디': 0, '면역체': 0, '션스': 0, '안젤라': 0, '왕준': 0, '코넬': 0, '패스트푸드': 0, '델라웨어': 0, '오콘': 0, '베바': 0, '청과': 0, '세그먼트': 0, '산쿄': 0, '트라이넷': 0, '늑대인간': 0, '메라': 0, '케스': 0, '이양': 0, '익산역': 0, '방송대학': 0, '후반기': 0, '석사과정': 0, '부액': 0, '미래엔': 0, '자민당': 0, '단명': 0, '내각': 0, '컨선': 0, '씨큐브': 0, '부대찌개': 0, '넣기': 0, '봉화': 0, '미산': 0, '청계': 0, '효림': 0, '진작': 0, '허리': 0, '초년': 0, '뮤직비디오': 0, '템플턴': 0, '이민법': 0, '가우스': 0, '박병근': 0, '패싱': 0, '시름': 0, '용평리조트': 0, '어닝서프': 0, '도시화': 0, '단국대학교병원': 0, '단국대학교': 0, '김포공항': 0, '의왕': 0, '재포': 0, '어게인': 0, '홍성': 0, '품앗이': 0, '락툴': 0, '서고': 0, '골든타임': 0, '캘스터스': 0, '공차': 0, '췌장염': 0, '다계통': 0, '보그': 0, '임야': 0, '조림': 0, '유상수': 0, '프루프': 0, '오윤아': 0, '원피스': 0, '농어': 0, '유투': 0, '고은희': 0, '김상헌': 0, '인척': 0, '현숙': 0, '충북도': 0, '무량': 0, '공개시장': 0, '술회': 0, '공기역학': 0, '어의': 0, '훌리': 0, '요코하마': 0, '아데나': 0, '던트': 0, '뉴메딕스로': 0, '지정은': 0, '시스로': 0, '앰플리겐': 0, '애즈버리': 0, '대역': 0, '결막염': 0, '어코': 0, '쯔진': 0, '애런': 0, '푸신': 0, '선청': 0, '캐싯': 0, '다한증': 0, '맷슨': 0, '동류': 0, '샹성': 0, '요도암': 0, '연태': 0, '천린': 0, '빈티': 0, '톈마': 0, '몬태나': 0, '힝밍': 0, '보판': 0, '방광': 0, '골신': 0, '화농': 0, '칭화통팡': 0, '펑샹': 0, '청툰': 0, '클로르': 0, '첫째': 0, '비데': 0, '윈저': 0, '톨루카': 0, '창유': 0, '처리량': 0, '다각형': 0, '숲길': 0, '링롱': 0, '미레이': 0, '스프링필드': 0, '파크스': 0, '새럿': 0, '그리스': 0, '공수': 0, '음파': 0, '탐지기': 0, '조경': 0, '모형': 0, '감정노동': 0, '감정노동자': 0, '서비스로봇': 0, '나퇴임': 0, '쫌생': 0, '도옴황챠': 0, '탈취': 0, '츄럴': 0, '백수': 0, '오픈소스': 0, '데이터베이스': 0, '송영': 0, '신방화역': 0, '라네즈': 0, '루틴': 0, '쯔양': 0, '살후': 0, '떡볶이': 0, '치떡치떡': 0, '낙후': 0, '티바': 0, '원부': 0, '방과후': 0, '응용소프트웨어': 0, '날정': 0, '헤럴드경제': 0, '카이저': 0, '독립성': 0, '러슨': 0, '스포크': 0, '마켈': 0, '커뮤': 0, '웨스트우드': 0, '바이킹': 0, '블랙스완': 0, '인저스': 0, '버밀리언': 0, '몽타주': 0, '힐즈버그': 0, '디데이': 0, '장쑤훙투': 0, '타겐': 0, '나카': 0, '스라이': 0, '지궈앙': 0, '호샹리': 0, '선코': 0, '자씨': 0, '진냉': 0, '천진항': 0, '유민': 0, '푸루이': 0, '보건학': 0, '스토': 0, '단풍': 0, '레져스': 0, '첸청': 0, '루징관': 0, '러스트': 0, '자유무역': 0, '커먼': 0, '스토리텔링': 0, '송사': 0, '이철': 0, '듀크': 0, '자약': 0, '에스텔': 0, '치즈': 0, '환상': 0, '기선': 0, '경쟁우위': 0, '랩컨설팅': 0, '펫메디칼': 0, '소이': 0, '신흥시장': 0, '버넌스': 0, '박스오피스': 0, '나델': 0, '감스피': 0, '스미싱': 0, '내열': 0, '핸드헬드': 0, '태호': 0, '박효': 0, '김일': 0, '유후': 0, '이애': 0, '년층': 0, '중소도시': 0, '루센': 0, '스캠': 0, '와우도': 0, '무인기': 0, '전기분해': 0, '타로': 0, '출혈': 0, '차라': 0, '윙입': 0, '케미': 0, '이승': 0, '뿜뿜': 0, '샤코': 0, '국화': 0, '안도라': 0, '앙리': 0, '서큘리맙': 0, '소사': 0, '카도닐리맙': 0, '타오바오': 0, '알토': 0, '마데': 0, '드리븐': 0, '진춘옌': 0, '실란': 0, '절연체': 0, '판진': 0, '사계절': 0, '진켄': 0, '독수리': 0, '공명당': 0, '적외선': 0, '충싱': 0, '바시': 0, '세입': 0, '야샤': 0, '면치': 0, '유싱인포텍': 0, '렌션': 0, '구모': 0, '라성': 0, '모친상': 0, '뉴로릭스': 0, '플라시보': 0, '장신구': 0, '민드': 0, '마산': 0, '볼드윈': 0, '무동': 0, '손예진': 0, '약용': 0, '집게': 0, '에손': 0, '섹키들': 0, '헬쥐': 0, '뱃터리': 0, '재패': 0, '시간표': 0, '빠진느거': 0, '절구': 0, '간체': 0, '뉴클레오시드': 0, '점심': 0, '중축': 0, '탄환': 0, '억울': 0, '나비스': 0, '엠투엔': 0, '전장유전체': 0, '스토브': 0, '브루노': 0, '삼천동': 0, '엄선': 0, '이랜드': 0, '흥동': 0, '체능': 0, '딩시': 0, '치의': 0, '염려': 0, '오구': 0, '방폐': 0, '오만원': 0, '자진사퇴': 0, '없쥬': 0, '주포': 0, '시바개': 0, '병목현상': 0, '조직검사': 0, '희박': 0, '외산': 0, '렌털': 0, '이명순': 0, '교통안전표지': 0, '우왕좌왕': 0, '출세': 0, '심사평': 0, '감시인': 0, '실리콘앨리': 0, '호암': 0, '포승': 0, '강명구': 0, '빈손': 0, '도시재생': 0, '위안부': 0, '우미': 0, '전초전': 0, '허정': 0, '발걸음': 0, '양은': 0, '이번딜': 0, '므론헬': 0, '그린티': 0, '수분': 0, '토너': 0, '들쭉날쭉': 0, '백도': 0, '코튼': 0, '오세철': 0, '이베르': 0, '롤라': 0, '맥롤': 0, '헤인즈': 0, '브랜즈': 0, '구게': 0, '성인병': 0, '화통': 0, '린드블라드': 0, '피리': 0, '악컴': 0, '신량지': 0, '프리리투스': 0, '싱텅다': 0, '킨세일': 0, '유니스트': 0, '포이': 0, '스컴': 0, '천진': 0, '댈러스': 0, '포트워스': 0, '훗날': 0, '반스': 0, '미셸': 0, '칼라프': 0, '옵티마': 0, '말리': 0, '티모': 0, '롱아일랜드': 0, '오마하': 0, '천저우시': 0, '진구': 0, '판윤': 0, '톈응': 0, '광유': 0, '손상수': 0, '관할권': 0, '선양시': 0, '래드': 0, '메레디스': 0, '코반': 0, '둥팡': 0, '유모차': 0, '예약판매': 0, '열중': 0, '씨앤티': 0, '키낙': 0, '빈스': 0, '아르코': 0, '화병': 0, '안남': 0, '윌초': 0, '월욜': 0, '야구': 0, '의무교육': 0, '스마트워크': 0, '카민': 0, '홍라희': 0, '아버': 0, '벌이': 0, '노쇼': 0, '항공권': 0, '명단': 0, '산토스': 0, '티모르': 0, '양태': 0, '단역': 0, '양일간': 0, '국회대로': 0, '룰렛': 0, '권익위': 0, '시책': 0, '업법': 0, '무주': 0, '낙산해수욕장': 0, '식량': 0, '인사단행': 0, '고충': 0, '청청기': 0, '수상작': 0, '갈륨': 0, '집적회로': 0, '속사정': 0, '올스타': 0, '천간': 0, '민통선': 0, '접경': 0, '한영환': 0, '국토교통부': 0, '격언': 0, '이다해': 0, '조현재': 0, '전과': 0, '을지로': 0, '김종민': 0, '이수자': 0, '차이점': 0, '생산력': 0, '차도': 0, '마왕': 0, '방진': 0, '지게차': 0, '캠퍽스': 0, '원자로': 0, '냉각': 0, '진검': 0, '완도': 0, '도급': 0, '이빈': 0, '종횡무진': 0, '포화': 0, '융단': 0, '폭격': 0, '투썸플레이스': 0, '벨톤': 0, '인앱': 0, '캐파': 0, '아멕스': 0, '강혁': 0, '더미': 0, '인텐스': 0, '습도': 0, '도록': 0, '황실': 0, '녹다운': 0, '항해': 0, '말썽': 0, '억압': 0, '절도': 0, '순탄': 0, '봉사활동': 0, '지장': 0, '기상도': 0, '우박': 0, '레겟': 0, '분수': 0, '애프리셉트': 0, '탬파': 0, '러더': 0, '열성': 0, '그렉': 0, '토르티야': 0, '온쿄': 0, '레귤러스': 0, '폼페이': 0, '크롤': 0, '아르키메데스': 0, '서피스': 0, '인스퍼리티': 0, '오레': 0, '쿠웨이트': 0, '모르핀': 0, '폴슨': 0, '모자이크': 0, '랩퍼': 0, '보물': 0, '대승': 0, '그레흐': 0, '피바디': 0, '큐리오시티': 0, '랜턴': 0, '호플러': 0, '레코드': 0, '스다스': 0, '갑옷': 0, '와옌': 0, '커훈이형': 0, '환희': 0, '구나': 0, '답글돔황챠': 0, '공먀': 0, '거쥬': 0, '사하라': 0, '떡락한거였': 0, '오앤비': 0, '어이쿠': 0, '푸드코트': 0, '완판녀': 0, '심진화': 0, '페스': 0, '가족사': 0, '림흥': 0, '프리랜서': 0, '크몽': 0, '남성혐오': 0, '충남도': 0, '마쿠': 0, '원산지': 0, '더빈트': 0, '모디': 0, '지방선거': 0, '법의학': 0, '황궈': 0, '노바스코샤': 0, '윌리': 0, '경희대': 0, '커서': 0, '덕유산': 0, '자연사': 0, '요양': 0, '이종우': 0, '미드타운': 0, '생동': 0, '난립': 0, '포격': 0, '견고': 0, '콴타스': 0, '금나와라': 0, '빙자': 0, '영월': 0, '망령': 0, '신분당선': 0, '생활권': 0, '송영길': 0, '이채원': 0, '비상구': 0, '최정희': 0, '라야': 0, '궁극': 0, '길잡이': 0, '금기': 0, '금리정책': 0, '인무': 0, '항익': 0, '트랜치': 0, '다이얼': 0, '탠덤': 0, '트로닉': 0, '끝내기': 0, '라틴아메리카': 0, '도관': 0, '목욜날': 0, '만듭시': 0, '디브스한다': 0, '트랑슈': 0, '트리니다드': 0, '토바고': 0, '화홍': 0, '힐머슨': 0, '글라우코스': 0, '컨포': 0, '경제특구': 0, '주드': 0, '옌캉': 0, '취티안': 0, '프랑': 0, '포말': 0, '접합': 0, '트라스투주맙': 0, '영연방': 0, '트레드밀': 0, '코파': 0, '마키': 0, '렙타': 0, '김영필': 0, '신곡': 0, '영기': 0, '시차': 0, '유례': 0, '디지털싱글': 0, '버터': 0, '쉽쥬': 0, '널리': 0, '브르트': 0, '기니': 0, '윌라드': 0, '폴로': 0, '롱숏': 0, '잔반': 0, '발병': 0, '임인': 0, '셰프': 0, '파머': 0, '합의각서': 0, '서해': 0, '경부': 0, '속선': 0, '안중': 0, '조현준': 0, '소자본': 0, '왕식': 0, '파스퇴르': 0, '연구소장': 0, '페르노리카': 0, '아벨라': 0, '승찬': 0, '어업': 0, '소산': 0, '스올': 0, '비스': 0, '포스타': 0, '첨가': 0, '출사': 0, '시옹': 0, '천문': 0, '갤런': 0, '콜콜': 0, '모토로라': 0, '선쉬': 0, '하버드': 0, '시스테마': 0, '우주인': 0, '아약스': 0, '코웬': 0, '애니멀': 0, '트레드': 0, '어슈넷': 0, '코티지': 0, '라이프타임': 0, '캉탈': 0, '텔레헬스': 0, '스터': 0, '씨월드': 0, '휠러': 0, '어브': 0, '아버지': 0, '타가': 0, '포신': 0, '적성': 0, '매국노': 0, '어케': 0, '골치': 0, '쑥대밭': 0, '똥덩어리': 0, '그저께': 0, '보닌까': 0, '굿바잉챈스': 0, '가방': 0, '태만': 0, '히죽': 0, '눈웃음': 0, '고라': 0, '개좝주': 0, '색키': 0, '우린': 0, '보호관찰': 0, '키프론': 0, '어바웃': 0, '서라벌': 0, '스감소디렉셔녈': 0, '천태만상': 0, '나가요': 0, '삼선': 0, '빠가들': 0, '초심': 0, '뚤렸': 0, '개학': 0, '전교조': 0, '개떡락인교': 0, '영등포구': 0, '보양식': 0, '종자': 0, '선수단': 0, '디렉셔널': 0, '쌩큐': 0, '미접': 0, '기표': 0, '정엽': 0, '홍준기': 0, '적폭': 0, '재택수': 0, '강서구': 0, '국우': 0, '리사': 0, '유소': 0, '하이제': 0, '빗발': 0, '바일': 0, '지윤': 0, '홍원식': 0, '조림사업': 0, '과목': 0, '날방': 0, '계원예술대': 0, '이바지': 0, '젠타': 0, '매그': 0, '사키': 0, '켈로그': 0, '리마': 0, '숙박업': 0, '재스퍼': 0, '진폭': 0, '카노': 0, '시프': 0, '토러스': 0, '페치': 0, '추럴': 0, '타협': 0, '삼각': 0, '강봉': 0, '페이팔': 0, '임영환': 0, '스감소디렉셔': 0, '박윤진': 0, '정지선': 0, '포심': 0, '해우': 0, '컨베이어': 0, '변전': 0, '정류기': 0, '숙려': 0, '텃밭': 0, '잔해': 0, '인도양': 0, '낚시터': 0, '미본': 0, '눌린': 0, '포니': 0, '수십': 0, '월척': 0, '조의': 0, '부연': 0, '박한샘': 0, '담수': 0, '유방': 0, '전성기': 0, '손학규': 0, '한미정상회담': 0, '성미': 0, '삼스디같': 0, '국애': 0, '런해대': 0, '포집': 0, '비피도': 0, '프롬': 0, '킹즈': 0, '따따': 0, '숨바꼭질': 0, '상땐': 0, '비비고': 0, '용광로': 0, '처붐': 0, '남혐': 0, '끄덕': 0, '특색': 0, '편맥': 0, '양손잡이': 0, '엠덱스': 0, '테러': 0, '교통부': 0, '상화': 0, '입체': 0, '카피': 0, '문혁기': 0, '마이오': 0, '노동절': 0, '부건': 0, '미엔': 0, '미대': 0, '강좌': 0, '창신': 0, '잡화': 0, '수거': 0, '에너자이저': 0, '동등': 0, '황밍툰': 0, '뉴메딕스': 0, '인슈메드': 0, '다펑': 0, '웬샹': 0, '벤슨': 0, '야쿠힌': 0, '공선': 0, '라리': 0, '웨이보': 0, '선폰': 0, '펑타이룽지': 0, '리판롱': 0, '단렌': 0, '스미토모화학': 0, '얀케': 0, '태아': 0, '맞힌': 0, '김형식': 0, '애버딘': 0, '프로판': 0, '샌안토니오': 0, '롱보드': 0, '리밴스': 0, '워킹맘': 0, '불평등': 0, '가쁜': 0, '텅빈': 0, '구내식당': 0, '박서준': 0, '서울중앙지법': 0, '고품격': 0, '현자': 0, '술자리': 0, '폭행': 0, '자라': 0, '문단': 0, '포부': 0, '투더': 0, '어필': 0, '렉싱턴': 0, '시미즈': 0, '인트린': 0, '랄프': 0, '모리타니': 0, '세네갈': 0, '아스테리온': 0, '스위스컴': 0, '앨러메다': 0, '워터프런트': 0, '뉴에이지': 0, '강리': 0, '야웨': 0, '싱허': 0, '진행자': 0, '앙양': 0, '슬러지': 0, '제수': 0, '진룽': 0, '해거드': 0, '위엄': 0, '가양동': 0, '증미역': 0, '눌림목': 0, '코협': 0, '원자': 0, '고착': 0, '란셋': 0, '에스토니아': 0, '환지': 0, '친김': 0, '압출': 0, '스패로우': 0, '김창열': 0, '위약': 0, '창성': 0, '골프채': 0, '온누리상품권': 0, '넥스트플레이': 0, '김준': 0, '과민': 0, '당체': 0, '축사': 0, '신세종': 0, '헝뤠이': 0, '번트': 0, '푸펠': 0, '괴롭힘': 0, '의의': 0, '조난': 0, '매물도': 0, '엄벌': 0, '골프공': 0, '리커버리': 0, '별거': 0, '개도': 0, '착착': 0, '훌훌': 0, '수백': 0, '웹케': 0, '아큐시네트': 0, '강화도': 0, '바나나': 0, '옥외광고': 0, '영진약품': 0, '설탕': 0, '해운대': 0, '로밍': 0, '직송': 0, '종로구': 0, '펀린': 0, '손재덕': 0, '코이카': 0, '발대식': 0, '묶음': 0, '리즘': 0, '김밥': 0, '먹기': 0, '로켓포': 0, '물든': 0, '팔레스타인': 0, '타넨바움': 0, '요도': 0, '박람회': 0, '탁신': 0, '롤루': 0, '두칭산': 0, '헴펠': 0, '시스코': 0, '원데이': 0, '황하': 0, '감마선': 0, '신재영': 0, '북아메리카': 0, '거산': 0, '비지오': 0, '앨러게니': 0, '윌버트': 0, '아테': 0, '뉴텍': 0, '장타오': 0, '아슬란': 0, '락스': 0, '이기': 0, '와히드': 0, '이글스': 0, '카미': 0, '인산염': 0, '리포좀': 0, '독소': 0, '소라': 0, '토실': 0, '외곽': 0, '랩트': 0, '기질': 0, '돌솥비빔밥': 0, '볶음밥': 0, '경제학자': 0, '그거': 0, '스바끄': 0, '티딜': 0, '팬텀': 0, '투썸': 0, '냉장고': 0, '챔피언십': 0, '슈퍼스토어': 0, '오발': 0, '합판': 0, '제프리스': 0, '크로니클': 0, '다큐': 0, '철광': 0, '사탕수수': 0, '위버': 0, '전주원': 0, '디플레': 0, '풍기': 0, '빅팬': 0, '선풍기': 0, '목주': 0, '소변': 0, '경일': 0, '킬사': 0, '동남아시아': 0, '칭젠': 0, '페락': 0, '매니아': 0, '라자스탄': 0, '리야': 0, '촘촘': 0, '케언': 0, '스위치백': 0, '체시': 0, '타오위안': 0, '비토': 0, '하느님': 0, '개접': 0, '몹쓸': 0, '국적법': 0, '수예': 0, '야신': 0, '기사단': 0, '에네르기아': 0, '솽린': 0, '솽량': 0, '맹목': 0, '케자르': 0, '범블사': 0, '공명': 0, '지은': 0, '규약': 0, '전철': 0, '아드리안': 0, '청치콩': 0, '뇌암': 0, '윤민': 0, '창의': 0, '김영호': 0, '필호': 0, '김우동': 0, '변환': 0, '뒤흔드': 0, '트레블': 0, '곽종호감소곽종윤': 0, '하남': 0, '루셈': 0, '로쿠': 0, '포모나': 0, '주부': 0, '복잡': 0, '세션': 0, '견조할': 0, '궐련': 0, '목걸이': 0, '비봇': 0, '아리랑본드': 0, '다이오드': 0, '물량이었': 0, '스마트홈': 0, '일상생활': 0, '복지사': 0, '고구마': 0, '말랭이': 0, '위메프': 0, '홈퍼니싱': 0, '격화할': 0, '산전': 0, '산후': 0, '브이아이': 0, '이연제': 0, '약과': 0, '발렌': 0, '신정은': 0, '이태리': 0, '원목': 0, '하농': 0, '조르다노': 0, '운복': 0, '보육': 0, '앨앤': 0, '국민대': 0, '약손': 0, '용성': 0, '시상': 0, '무성': 0, '추문': 0, '이익단체': 0, '씨레': 0, '구본준': 0, '폼나': 0, '중과': 0, '로미오': 0, '북조': 0, '에퀼륨': 0, '동주': 0, '투공': 0, '개그우먼': 0, '대지': 0, '고수로': 0, '테오스': 0, '체크메이트': 0, '무셀': 0, '히드라': 0, '지룬': 0, '창싱': 0, '오릭스': 0, '비베': 0, '벨라루스': 0, '모네': 0, '프로메테우스': 0, '창간': 0, '아마겟돈': 0, '점친': 0, '만수': 0, '원지점': 0, '문해': 0, '원활': 0, '업적': 0, '할랄': 0, '웰츠': 0, '조성하': 0, '극한환경': 0, '랜더스': 0, '진엑스': 0, '리트윗': 0, '성씨': 0, '이정희': 0, '실책': 0, '표류': 0, '유비온': 0, '인스피': 0, '남양주': 0, '치유': 0, '생체실험': 0, '페이크': 0, '동물실험': 0, '추미애': 0, '범죄수사': 0, '하강': 0, '공포증': 0, '오산': 0, '제이알': 0, '카나리아': 0, '이송': 0, '엄습': 0, '디랙': 0, '흠슬': 0, '도미노피자': 0, '언리쉬드': 0, '맹신': 0, '밴슨': 0, '토카막': 0, '소뱅벤처스': 0, '아쿠': 0, '세이브': 0, '국철': 0, '체드': 0, '윌라메트': 0, '포도': 0, '우희창': 0, '로제': 0, '뮤지션': 0, '풀럼': 0, '폭약': 0, '한반도': 0, '진촨': 0, '공작기계': 0, '버텍스': 0, '야망': 0, '티어스': 0, '로그온': 0, '이스트사이드': 0, '비투': 0, '승강장': 0, '퍼퓸': 0, '대물': 0, '메디치': 0, '가유': 0, '민노총': 0, '삭발': 0, '보드게임': 0, '콤파스': 0, '리듬게임': 0, '감사패': 0, '견학': 0, '사찰음식': 0, '위트': 0, '사람인': 0, '랩톱': 0, '칠만': 0, '주상환': 0, '깜빵보낸': 0, '대갈': 0, '했숩니': 0, '애증': 0, '존버한다': 0, '깡통': 0, '그다음': 0, '정찰': 0, '좃소': 0, '먹이': 0, '엘디플': 0, '경제민주화': 0, '라거': 0, '오르락': 0, '내리락': 0, '무능력': 0, '거렁뱅': 0, '므찌': 0, '헤헤': 0, '멍하니': 0, '가석방': 0, '사망유희': 0, '하리': 0, '살포시': 0, '수걸': 0, '개투': 0, '완죤폭망': 0, '수의계약': 0, '풀이': 0, '독무대': 0, '일요일': 0, '군인': 0, '병상': 0, '롤린': 0, '재생산': 0, '번만': 0, '김부선': 0, '마르케': 0, '유당불내증': 0, '안동': 0, '머임': 0, '유현': 0, '토코': 0, '꿀렁임': 0, '등배김': 0, '누잠': 0, '차박': 0, '매트': 0, '화소': 0, '과실주': 0, '명불허전': 0, '밑진': 0, '스무살': 0, '성년': 0, '카르다노': 0, '정지윤': 0, '루켄': 0, '식각': 0, '포크리프트': 0, '아웃스터': 0, '특례상장': 0, '인증샷': 0, '이현승': 0, '현피': 0, '홈텐더': 0, '오픈베타': 0, '콘텐': 0, '이상희': 0, '샹들리': 0, '주민등록': 0, '초본': 0, '락피': 0, '모순': 0, '절삭': 0, '김종철': 0, '포엠': 0, '손바닥': 0, '월물': 0, '손영': 0, '삼수생': 0, '서소문': 0, '시일': 0, '발포': 0, '자평': 0, '폐폐트': 0, '성복': 0, '법제': 0, '사금융': 0, '연변': 0, '사투리': 0, '낚는': 0, '윤구': 0, '생활환경': 0, '상당수': 0, '워싱': 0, '엠알': 0, '지웰': 0, '목조': 0, '이엔코퍼': 0, '무균': 0, '페트병': 0, '수신기': 0, '납득': 0, '종은': 0, '강준': 0, '단공': 0, '스카이랩': 0, '장택회': 0, '대폭발': 0, '이상만': 0, '방음': 0, '호악재': 0, '드라이빙': 0, '티맥': 0, '시문': 0, '기모': 0, '아론': 0, '잉글리쉬': 0, '싱키': 0, '롱빙': 0, '친루이': 0, '캡틴': 0, '다리': 0, '분업': 0, '패트리어트': 0, '트위치': 0, '가점': 0, '일원': 0, '프리스트': 0, '캬악': 0, '왜괴리': 0, '모토': 0, '기관계': 0, '타점': 0, '싱크로': 0, '미국방부': 0, '싱민': 0, '월백스': 0, '제트블루': 0, '매그너스': 0, '아쿠스넷': 0, '나하': 0, '린닝': 0, '이진': 0, '핀홍': 0, '룽규': 0, '아브': 0, '연조직': 0, '가용성': 0, '래시': 0, '대사관': 0, '동맥경화': 0, '정호': 0, '빈코': 0, '간핀': 0, '비젠': 0, '에이온': 0, '케드': 0, '범블': 0, '포티': 0, '지싱': 0, '에트리': 0, '파밀': 0, '난양': 0, '김미영': 0, '결격': 0, '문도': 0, '패달': 0, '시스플라틴': 0, '장먼': 0, '청흥': 0, '에네르기': 0, '에퀴너': 0, '앙골라': 0, '아스코': 0, '습성': 0, '특공': 0, '노동시장': 0, '오디세이': 0, '남대서양': 0, '윌파': 0, '오빈티브': 0, '데스페': 0, '차르': 0, '리광닝': 0, '자누': 0, '디도': 0, '다잉': 0, '존버감': 0, '몰슨': 0, '셀처': 0, '키넌': 0, '침례': 0, '젠젠타': 0, '제초제': 0, '골드컵': 0, '펠트': 0, '키코': 0, '군비': 0, '올렛': 0, '오시리스': 0, '밀레니엄': 0, '단골': 0, '지엄': 0, '대학로': 0, '동규': 0, '게임중독': 0, '더문': 0, '서유럽': 0, '김용화': 0, '인위': 0, '장세윤': 0, '에퀼렌드': 0, '불명': 0, '필립모리스': 0, '정덕': 0, '판교로': 0, '애강': 0, '여자친구': 0, '엘컴텍': 0, '과극': 0, '보훈': 0, '클렌': 0, '막대': 0, '미움': 0, '재키': 0, '참견': 0, '제압': 0, '티랩': 0, '앗샤': 0, '전라남도': 0, '곡성군': 0, '아톰릭스랩': 0, '론치': 0, '무민': 0, '환종': 0, '곤약쫀득': 0, '허츠': 0, '숙소': 0, '지에스': 0, '무르익는': 0, '공홈': 0, '최훈': 0, '달리아': 0, '민병호': 0, '김근': 0, '부원장': 0, '방향키': 0, '균체': 0, '프터': 0, '승마': 0, '근로': 0, '강남스타일': 0, '물씬': 0, '이종오': 0, '사무국': 0, '이근우': 0, '부역': 0, '평창': 0, '진부': 0, '웰라움': 0, '롤리팝': 0, '신동호': 0, '상이': 0, '오덕교': 0, '출장': 0, '오부': 0, '앵글': 0, '아샨티': 0, '능동': 0, '준서': 0, '텐텍': 0, '축구장': 0, '스트롱벤처스': 0, '클레어': 0, '영예': 0, '도울': 0, '특혜': 0, '크릴': 0, '함량': 0, '리놀렌산': 0, '젠틀': 0, '송출': 0, '외국산': 0, '컨시어': 0, '네타': 0, '유니섹스': 0, '슈즈': 0, '퍼들': 0, '발성': 0, '유아식': 0, '루마': 0, '리무진': 0, '텐기즈': 0, '볼투': 0, '루크': 0, '쿠크': 0, '테흐': 0, '뤄빈': 0, '퍼미언': 0, '타이저우': 0, '프사': 0, '림프': 0, '엔브렐': 0, '암시': 0, '장지': 0, '주청': 0, '토키오': 0, '카토': 0, '별자리': 0, '해럴드': 0, '에너지국': 0, '폐렴': 0, '코투': 0, '조개': 0, '사인회': 0, '암렙사': 0, '맨션': 0, '랜펙': 0, '월리스': 0, '휴직': 0, '애슐랜드': 0, '귀리': 0, '또박또박': 0, '이연정': 0, '은혁': 0, '티베트': 0, '누리꾼': 0, '생활비': 0, '배증': 0, '맞짱': 0, '장성': 0, '취합': 0, '김영인': 0, '숨죽': 0, '시바견': 0, '예수님': 0, '투자족': 0, '순환선': 0, '집도': 0, '파설': 0, '경향하우징페어': 0, '계시': 0, '윌비': 0, '멸균': 0, '스큐류': 0, '시절': 0, '윤정': 0, '대완': 0, '평생교육': 0, '가정사': 0, '팔방미인': 0, '기업체': 0, '웹베': 0, '원빈': 0, '코위버': 0, '손해사정사': 0, '익스펜더블': 0, '금시': 0, '달안': 0, '줄곧': 0, '신조': 0, '김상철': 0, '백주': 0, '피나': 0, '비손': 0, '종특': 0, '북핵': 0, '방미': 0, '디파': 0, '모의실험': 0, '광역철도': 0, '전동차': 0, '억지': 0, '스켈핑': 0, '관찰': 0, '전자신문': 0, '관내': 0, '소평': 0, '모조리': 0, '후다닥': 0, '벨뷰': 0, '솜씨': 0, '소나': 0, '포도상구균': 0, '뇌종양': 0, '실러': 0, '핸솔트': 0, '프렌': 0, '레일': 0, '어유': 0, '이준석': 0, '오므론': 0, '소미래': 0, '로스트': 0, '팩토리얼': 0, '설왕설래': 0, '크리켓': 0, '학력': 0, '지글러': 0, '킹텔러': 0, '브랜든': 0, '토레스': 0, '데클렛': 0, '인더스트리얼': 0, '과청': 0, '알라페르민': 0, '디팩티닙': 0, '센티널': 0, '룽롄': 0, '자크': 0, '장리': 0, '피팝': 0, '메가폰': 0, '나위': 0, '고인': 0, '달롤': 0, '레슨': 0, '어프': 0, '암모니아': 0, '실용': 0, '세계관': 0, '아르노': 0, '때기': 0, '듀엣': 0, '넥서스': 0, '워커힐': 0, '사과문': 0, '디주': 0, '이윤학': 0, '안종': 0, '씨티카드': 0, '최지우': 0, '존엄성': 0, '로맨스': 0, '위시': 0, '책임감': 0, '윤리문제': 0, '항공전자': 0, '친분': 0, '호도': 0, '순채': 0, '권국': 0, '유지니아': 0, '웅비': 0, '덴소': 0, '소감': 0, '농림': 0, '김나운': 0, '키친': 0, '돈까스': 0, '뤼이드': 0, '토익': 0, '창궐': 0, '한일전기': 0, '쿨샷': 0, '검정고시': 0, '생면': 0, '달빛조각사': 0, '정찬': 0, '도도': 0, '직주': 0, '하산': 0, '민특법': 0, '감일역': 0, '싸인': 0, '법쇼': 0, '국무': 0, '배상하': 0, '픽테': 0, '연막': 0, '자고': 0, '질도': 0, '개회': 0, '연하': 0, '파물': 0, '슈청': 0, '순종': 0, '엠파벨리': 0, '아펠리스': 0, '후쿠옹': 0, '페체토플랜': 0, '텔리젠트': 0, '강우': 0, '스펜서': 0, '후이윈': 0, '사거리': 0, '비서': 0, '글루메룰': 0, '고마': 0, '종종': 0, '투카노': 0, '우르': 0, '판터': 0, '샹화': 0, '빈코벤처스': 0, '방스': 0, '롄양': 0, '신통': 0, '삼우건설': 0, '앵무새': 0, '담비': 0, '최재붕': 0, '하순': 0, '도화서': 0, '디벙크비탁스': 0, '바운드': 0, '교집합': 0, '트라우마': 0, '후진국': 0, '자칭': 0, '참빛': 0, '컴업': 0, '성모': 0, '이상민': 0, '굴착기': 0, '정유신': 0, '마코': 0, '설계도': 0, '과점': 0, '김남기': 0, '부숙': 0, '해감': 0, '소싱처': 0, '이해해': 0, '성산일출봉': 0, '박삼구': 0, '클레이': 0, '이수만': 0, '크랩': 0, '역효과': 0, '설움': 0, '분노의질주': 0, '절레절레': 0, '코니카미놀타': 0, '인쇄기': 0, '전공': 0, '불문': 0, '세관': 0, '도자기': 0, '행남': 0, '용수': 0, '배관': 0, '횡보끝': 0, '시트콤': 0, '부산진구': 0, '초읍': 0, '제페토': 0, '초과수': 0, '삼광글라스': 0, '진경': 0, '공함': 0, '광파': 0, '이얼': 0, '페트롤': 0, '피타': 0, '엘리사': 0, '아민': 0, '눈송이': 0, '플리머스': 0, '재익': 0, '헝순': 0, '주택가': 0, '격인': 0, '생리': 0, '로비나': 0, '소트': 0, '크로거': 0, '데이튼': 0, '엠퍼러': 0, '콘메볼': 0, '셋코': 0, '경골': 0, '콘페': 0, '금광': 0, '앵커리지': 0, '불경기': 0, '아베크롬비': 0, '요호': 0, '엘프': 0, '전자기기': 0, '창업가': 0, '컬러링': 0, '쉐이크': 0, '통법': 0, '밀물': 0, '초등학생': 0, '자아': 0, '호텔프롭': 0, '브릴란테': 0, '모핏': 0, '밸류액트': 0, '화평': 0, '비즈니스석': 0, '당면': 0, '코나헬스': 0, '특공대': 0, '바이브': 0, '주의자': 0, '보쌈': 0, '사라토가': 0, '데타': 0, '왕힌섹': 0, '난퉁시': 0, '폰더': 0, '오클라호마주': 0, '에드워드': 0, '수아': 0, '보통주식': 0, '크라비': 0, '펙사': 0, '피그스': 0, '젠후': 0, '아라뱃길': 0, '심방': 0, '요나': 0, '테일': 0, '장진': 0, '대통령직': 0, '선관': 0, '몇몇': 0, '혼빙': 0, '로카': 0, '네슬레': 0, '현물출자': 0, '천성관': 0, '도청': 0, '백학': 0, '저가항공사': 0, '한장': 0, '김종천': 0, '근거리': 0, '해남군': 0, '헝다': 0, '매점매석': 0, '심종': 0, '전시장': 0, '조홍래': 0, '할머니': 0, '위윤덕': 0, '드니': 0, '지럴': 0, '안깝칠': 0, '수익권': 0, '김성수': 0, '퇴원': 0, '자이냅스': 0, '박종석': 0, '미러링': 0, '보건복지부': 0, '도법': 0, '매설': 0, '초현': 0, '경인선': 0, '강령': 0, '김수': 0, '유급': 0, '흥화': 0, '황하나': 0, '아르테미스': 0, '무방비': 0, '성소수자': 0, '서포터즈': 0, '큐텐재팬': 0, '킹스우드': 0, '파올로': 0, '노니': 0, '프라다': 0, '데스티네이션': 0, '론규': 0, '유항': 0, '마이크로크레디트': 0, '이펙터': 0, '메뚜기': 0, '도토리': 0, '스퀴브스': 0, '브랜치버그': 0, '조선공': 0, '버포드': 0, '도셴': 0, '관선': 0, '색깔': 0, '예복': 0, '벌거숭이': 0, '구원': 0, '도수': 0, '성배': 0, '도덕': 0, '환산': 0, '격랑': 0, '슬라이딩': 0, '결백': 0, '가화': 0, '브레': 0, '월봉': 0, '한셋트': 0, '종필': 0, '돈쭐': 0, '떼돈': 0, '법시': 0, '쉐이들': 0, '건스': 0, '땅꿀': 0, '파면': 0, '폭우': 0, '언플': 0, '쩐다': 0, '관광지': 0, '석산': 0, '알제': 0, '된거': 0, '여직원': 0, '수원역': 0, '커넥': 0, '만행': 0, '레포트': 0, '회임': 0, '쉑이들': 0, '도치': 0, '흡혈': 0, '실신': 0, '퇴각': 0, '물량뺏기지맙시': 0, '쓰기': 0, '마셈': 0, '저리': 0, '쉽사리': 0, '촉수': 0, '엄금': 0, '레폿': 0, '인내심': 0, '경쟁상태': 0, '김장섭': 0, '일비': 0, '무지': 0, '동준': 0, '도곡': 0, '병영': 0, '총무성': 0, '신라면': 0, '매스': 0, '격심': 0, '엔켐': 0, '밀리터리': 0, '덕후': 0, '계수': 0, '프랑코': 0, '배서': 0, '에취': 0, '티젠': 0, '콘텍트': 0, '노무사': 0, '낙산': 0, '낙타': 0, '홍천': 0, '희망리': 0, '어울림': 0, '관객': 0, '미넌스': 0, '동조': 0, '롱런': 0, '자주포': 0, '김영훈': 0, '고온': 0, '조상래': 0, '환각제': 0, '고치': 0, '간과': 0, '티셔츠': 0, '앤빌': 0, '전통주': 0, '시주': 0, '사교육': 0, '정신건강': 0, '엠로': 0, '배상현': 0, '톈거': 0, '시언': 0, '류젠': 0, '전무후무': 0, '쉬리': 0, '롄장': 0, '리앙밍': 0, '총신': 0, '딱지': 0, '업력': 0, '액시온': 0, '셀레나': 0, '왓챠': 0, '붕가붕가레코드': 0, '리비': 0, '종부세': 0, '준율': 0, '떡락한다': 0, '적분': 0, '일이구': 0, '양키': 0, '쉐이': 0, '쫌더': 0, '수안': 0, '충만': 0, '오사': 0, '혼밥': 0, '홈밥': 0, '베이커리': 0, '공로상': 0, '김군': 0, '코잡': 0, '큐텐': 0, '노진': 0, '동맹국': 0, '반회': 0, '미완료': 0, '섬유질': 0, '제타': 0, '궈팡': 0, '류종힝': 0, '중역': 0, '머드': 0, '바칼': 0, '진코': 0, '스위한솔': 0, '잉햄': 0, '갈프': 0, '우의': 0, '넥트웍스': 0, '재담': 0, '김태': 0, '반소': 0, '동사': 0, '싸이키': 0, '델릭': 0, '소피아': 0, '오츠카': 0, '빈혈': 0, '알렌': 0, '레이디': 0, '쌍포': 0, '교착': 0, '개인기업': 0, '여행객': 0, '아그라': 0, '월리': 0, '펑두': 0, '올리버': 0, '스터더': 0, '플라그': 0, '우씨': 0, '아그텍': 0, '단말': 0, '메롬': 0, '부간': 0, '결손': 0, '트리하우스': 0, '물꼬트': 0, '레브코위츠': 0, '베벌리': 0, '쓰쿠바': 0, '기별': 0, '썬팅': 0, '모라': 0, '자산어보': 0, '노령화': 0, '국군': 0, '연재': 0, '구름': 0, '이석우': 0, '뽀로로': 0, '성큼성큼': 0, '유찰': 0, '신정': 0, '가위': 0, '엑스선': 0, '아이캔': 0, '목포해양대': 0, '텐쎄': 0, '김소연': 0, '감자탕': 0, '진영공': 0, '제적': 0, '갈비': 0, '주점': 0, '세분': 0, '제이비': 0, '스테로이드': 0, '권은희': 0, '이동근': 0, '김광': 0, '낼돈': 0, '군시설': 0, '침향': 0, '권오훈': 0, '취득시효': 0, '배팅': 0, '염증성장질환': 0, '숭실': 0, '부업': 0, '광역시': 0, '클렌코': 0, '미등록': 0, '이자제한법': 0, '정승일': 0, '우주발사체': 0, '노스롭': 0, '스카우트': 0, '냉감': 0, '루션': 0, '헝셩': 0, '불연': 0, '샌드위치패널': 0, '쥬비스': 0, '스포티지': 0, '수품항': 0, '펀딩서': 0, '제작비': 0, '향체': 0, '펜트업': 0, '아더': 0, '강정구': 0, '드하': 0, '치루제약': 0, '영남권': 0, '리알토': 0, '삼성역': 0, '헬로모바일': 0, '미니스톱': 0, '유심': 0, '사이버대': 0, '무궁화': 0, '설계자': 0, '선입견': 0, '방어율': 0, '하내': 0, '판놈': 0, '거더': 0, '팔음': 0, '희망사항': 0, '가용': 0, '황훈': 0, '원두': 0, '장흥': 0, '타니스': 0, '골목': 0, '송해': 0, '굴복': 0, '백석동': 0, '서북구': 0, '맹주': 0, '사이판': 0, '유류': 0, '폭염': 0, '오프닝': 0, '두슬': 0, '쾌재': 0, '공황장애': 0, '개샛낏': 0, '우짜': 0, '텐리': 0, '공이': 0, '회용컵': 0, '베어스': 0, '예지': 0, '다왔슴': 0, '제성공': 0, '특별사면': 0, '조때뿟다조때뿟다': 0, '후관': 0, '훈풍불자': 0, '한고비': 0, '뉴틴': 0, '충담': 0, '포레스트': 0, '공률': 0, '이화진': 0, '무협': 0, '포도당': 0, '태슬리': 0, '귀관': 0, '민턴': 0, '비즐리': 0, '변혁': 0, '하야시': 0, '칭링': 0, '드롭박스': 0, '심포니': 0, '트리톤': 0, '후주': 0, '보리': 0, '웨어하우스': 0, '기관지염': 0, '란스': 0, '알벨스테트': 0, '무임': 0, '디팝': 0, '셍다': 0, '클라우스': 0, '기뢰': 0, '밍싱': 0, '뱅크스': 0, '도니': 0, '컴민스': 0, '글렌뷰': 0, '메틸': 0, '말론산': 0, '일출': 0, '플럭': 0, '아르셀로미탈': 0, '폐경': 0, '중위수': 0, '햄프': 0, '씨드': 0, '리디아': 0, '슈드제약': 0, '듀렉트': 0, '데님': 0, '컨프': 0, '괴사': 0, '인자': 0, '초전도체': 0, '이명': 0, '층간소음': 0, '디올': 0, '소바': 0, '뚜왈렛': 0, '서울대학교': 0, '스메드': 0, '센셜': 0, '쉬핑': 0, '청나라': 0, '연명': 0, '박상일': 0, '김이나': 0, '작사가': 0, '길성': 0, '장동': 0, '편집디자인': 0, '권별': 0, '저학년': 0, '국어': 0, '니트릴': 0, '킨텍스': 0, '거시': 0, '아우토반': 0, '팝콘': 0, '양분': 0, '의석': 0, '엑싯': 0, '내부수익률': 0, '윤사': 0, '버퍼': 0, '박용만': 0, '달인': 0, '궁평항': 0, '성남시': 0, '야탑동': 0, '노머': 0, '재단법인': 0, '그루터기': 0, '대윤': 0, '펠로우': 0, '군용기': 0, '스티펠': 0, '자처': 0, '전도': 0, '정법': 0, '감쪽': 0, '에스콰이아': 0, '흥국생명': 0, '남종': 0, '피카소': 0, '지급준비율': 0, '상관관계': 0, '브랭섬홀': 0, '졸업생': 0, '강호동': 0, '여니': 0, '에고': 0, '토글': 0, '부하': 0, '루스페르티드': 0, '막는벙법': 0, '웨스트포트': 0, '때메': 0, '미형': 0, '단결': 0, '하연': 0, '냉무': 0, '호시탐탐': 0, '삼한': 0, '음치': 0, '궤도진입': 0, '블루홀': 0, '헌법소원': 0, '라킨': 0, '산책': 0, '침습': 0, '악재겹': 0, '유성원': 0, '갑갑': 0, '바빌론': 0, '슬랙스': 0, '벌칙': 0, '쿠마르': 0, '로텔레': 0, '호브': 0, '루코일': 0, '경향': 0, '콘스': 0, '장콩빈': 0, '수송량': 0, '펑훙퍽': 0, '스터드': 0, '콘프': 0, '하프': 0, '메트릭스': 0, '노바텍': 0, '스머커사': 0, '실직': 0, '정보원': 0, '희소': 0, '코칭': 0, '건축법': 0, '상장협': 0, '박빙': 0, '잘해야': 0, '민낯': 0, '초과근무': 0, '박의': 0, '스벤': 0, '벤치': 0, '스크린골프': 0, '연습장': 0, '병자': 0, '도법인': 0, '음란': 0, '식중독': 0, '미터': 0, '훙다': 0, '스콜라스틱': 0, '핑구': 0, '첸장': 0, '무풍지대': 0, '리터': 0, '최근영': 0, '예비역': 0, '강성훈': 0, '피렐리': 0, '킹넷': 0, '감염증': 0, '상피': 0, '복재': 0, '원외': 0, '항산화': 0, '화리': 0, '어나니머스': 0, '도산대로': 0, '원자력발전소': 0, '사령관': 0, '대희': 0, '피킹': 0, '랜디': 0, '주커버그': 0, '최빈국': 0, '직공': 0, '경도': 0, '양극': 0, '길리': 0, '겸용': 0, '노면': 0, '생방': 0, '문제해결': 0, '익피앤': 0, '뮤즈': 0, '로남불': 0, '레비': 0, '필굿': 0, '규주': 0, '뉴몬트사': 0, '야생마': 0, '장잉센': 0, '크레': 0, '분지': 0, '롱톈용': 0, '제어기': 0, '타이핑': 0, '디글루덱': 0, '우보': 0, '제닉스': 0, '결투': 0, '기장': 0, '프로스퍼': 0, '신장병': 0, '로메': 0, '쎄케': 0, '직종': 0, '야행성': 0, '즉석밥': 0, '기관총': 0, '잔칫날': 0, '유로스타': 0, '마킹': 0, '메드라': 0, '바이오연료': 0, '두유': 0, '레이온': 0, '부분군': 0, '세포질': 0, '절강성': 0, '잡것': 0, '미합중국': 0, '로저': 0, '헬름': 0, '쇼와덴코': 0, '민물장어': 0, '볼리비아': 0, '인비': 0, '노버코': 0, '제이스': 0, '스릴러': 0, '엘렉타': 0, '쉬셴중': 0, '벌컨': 0, '눈꼽': 0, '합심': 0, '레브': 0, '요망': 0, '어둠': 0, '훙멍': 0, '헌납': 0, '아이스티': 0, '고준희': 0, '조세회피': 0, '겨눈': 0, '평가원': 0, '굴포천': 0, '루타': 0, '밍밍': 0, '가끔': 0, '두슬라': 0, '김재현': 0, '무기징역': 0, '안정환': 0, '우후죽순': 0, '인펙스': 0, '중추신경': 0, '열혈강호': 0, '런치': 0, '운세': 0, '닝더': 0, '비야': 0, '핫스탁': 0, '월초': 0, '메세지': 0, '학생복': 0, '가천대': 0, '급정지': 0, '삼상': 0, '류정훈': 0, '밈주': 0, '이태호': 0, '플라브': 0, '일편단심': 0, '세포막': 0, '아이서비스': 0, '바야흐로': 0, '의계': 0, '증편': 0, '이담': 0, '결말': 0, '주위': 0, '데이팅': 0, '틴더': 0, '소요': 0, '샹차이': 0, '록웰': 0, '샹카이': 0, '디스콰이엇': 0, '아셉틱': 0, '스웰펀': 0, '천리안': 0, '절강텐': 0, '암스테르담': 0, '부행': 0, '누방': 0, '포코': 0, '버거킹': 0, '헤이코사': 0, '나가코프': 0, '트로이': 0, '개쩌': 0, '터리': 0, '콘스탄고': 0, '오우': 0, '옌빙': 0, '어드밴신': 0, '하마': 0, '워싱톤': 0, '백라이트': 0, '영국군': 0, '십대': 0, '일괄': 0, '탕감': 0, '몽펠리에': 0, '퐁피그': 0, '파르크': 0, '섀시': 0, '이동성': 0, '드록산': 0, '김인호': 0, '스파이어': 0, '향수': 0, '디텍터': 0, '무급': 0, '과반': 0, '장도연': 0, '대송': 0, '민초': 0, '소형차': 0, '간장': 0, '굿네이버스': 0, '헤르츠': 0, '개발도상국': 0, '손흥민': 0, '메디슨': 0, '공가': 0, '경쟁법': 0, '초당': 0, '웬디스': 0, '사용설명서': 0, '애시': 0, '티원': 0, '암남동': 0, '변별': 0, '페루': 0, '나홍진': 0, '하이트': 0, '철새': 0, '무역적자': 0, '개도국': 0, '출입국': 0, '여행지': 0, '안대': 0, '웹서비스': 0, '역레포': 0, '컨택트': 0, '망항': 0, '개꿀팁': 0, '저희': 0, '축약': 0, '선복': 0, '금산': 0, '유지창': 0, '덕영': 0, '수증': 0, '핑크색': 0, '조때뿌따': 0, '조때뿌쓰': 0, '쌍욕': 0, '캬캬캬': 0, '징조': 0, '물탈돈': 0, '바테루': 0, '건전지': 0, '미시': 0, '최대한': 0, '워칭': 0, '연수구': 0, '클라스': 0, '박막': 0, '최소한': 0, '애도': 0, '열등생': 0, '이한영': 0, '이모저모': 0, '유온': 0, '조용성': 0, '저커버그': 0, '유인수': 0, '페넴': 0, '슈팅게임': 0, '엔조이': 0, '카쿨': 0, '미불': 0, '호슬': 0, '공예': 0, '히텍': 0, '장준성': 0, '실어': 0, '국가보훈처': 0, '헝룽': 0, '켄싱턴': 0, '도넛': 0, '비계': 0, '난징시': 0, '주급': 0, '캐러웨이': 0, '삿포로': 0, '중심부': 0, '선금': 0, '동관': 0, '손제': 0, '아크라': 0, '롱포': 0, '셀시우스': 0, '파프': 0, '김은경': 0, '김만덕': 0, '돌하르방': 0, '집배원': 0, '객관성': 0, '결여': 0, '종현': 0, '산실': 0, '오픈런': 0, '철거': 0, '최재희': 0, '보직': 0, '대서양헌장': 0, '변치': 0, '건물붕괴': 0, '서포터': 0, '사위': 0, '함샤우트': 0, '밥차': 0, '전류밀도': 0, '고온초전도체': 0, '약자': 0, '끝전': 0, '제니스': 0, '전문화': 0, '권영대': 0, '히치하이킹': 0, '호국': 0, '화분': 0, '묘목': 0, '선닝': 0, '게노': 0, '시샤': 0, '샤르마': 0, '신후': 0, '나일론': 0, '카이사르': 0, '키모': 0, '끝점': 0, '스헬스': 0, '우먼': 0, '작곡': 0, '보스니아': 0, '헤르체고비나': 0, '어니언': 0, '코옌': 0, '스파르타쿠스': 0, '나브': 0, '사시': 0, '투기지역': 0, '보금자리': 0, '폭제': 0, '고화질': 0, '딥맵': 0, '살피': 0, '전야제': 0, '교통사고': 0, '딥노': 0, '심벌': 0, '수딩': 0, '셀메드': 0, '스파이더': 0, '휴넷': 0, '레시': 0, '미스트': 0, '지방자치단체': 0, '온양온천역': 0, '악연': 0, '풀무원식품': 0, '아래층': 0, '데기': 0, '호한': 0, '너희': 0, '강적': 0, '맹구': 0, '발릭사': 0, '쌀값': 0, '막걸리': 0, '떡값': 0, '일터': 0, '셀헬': 0, '무공': 0, '어썸': 0, '어부바': 0, '전구': 0, '과시': 0, '오클랜드': 0, '범계': 0, '홍삼': 0, '류현진': 0, '락토바실러스': 0, '신경계': 0, '시리아': 0, '발뮤': 0, '홍학': 0, '생흥': 0, '보커스': 0, '리크': 0, '강제노동': 0, '달랑': 0, '단서': 0, '허들': 0, '커피숍': 0, '개수': 0, '냉방': 0, '한일': 0, '무한도전': 0, '사촌': 0, '버먼': 0, '부스트': 0, '무소': 0, '불위': 0, '옥외': 0, '밸류애드': 0, '만가': 0, '프매': 0, '내가삿다': 0, '남아공화국': 0, '설마': 0, '개종': 0, '똥깡쉐이들': 0, '어마': 0, '걸벵이들': 0, '프라스': 0, '듀피젠트': 0, '공적자금': 0, '무턱': 0, '대고': 0, '플라스미드': 0, '말장난': 0, '원드롭': 0, '인슈어': 0, '부룸': 0, '워크스페이스': 0, '전봇대': 0, '레미아': 0, '아뿔싸': 0, '애매': 0, '통관': 0, '관조': 0, '레우': 0, '복셀': 0, '로터': 0, '솔렉': 0, '김성환': 0, '알츠하이멘드': 0, '복싱': 0, '회선': 0, '고헬스': 0, '트르': 0, '삼베': 0, '점안': 0, '불시': 0, '단원': 0, '바자르': 0, '슈로더투자신탁운용': 0, '박해진': 0, '샤워': 0, '서림': 0, '브레이브': 0, '허닭': 0, '자유여행': 0, '감탄': 0, '방문자': 0, '회서': 0, '짝짓기': 0, '주저': 0, '코원': 0, '콘텍': 0, '흑기사': 0, '아칸소주': 0, '델틱': 0, '보프드': 0, '앞바다': 0, '루브': 0, '스푼': 0, '헤어샵': 0, '각위': 0, '효주': 0, '엔지켐생': 0, '특위': 0, '통합인증': 0, '장상': 0, '미완성': 0, '대덕구': 0, '앤피랩': 0, '두나미스': 0, '커팅': 0, '자원봉사': 0, '김환': 0, '여름방학': 0, '협대역': 0, '사물': 0, '흠칫': 0, '맘껏': 0, '노노': 0, '청라지구': 0, '칸서스': 0, '노릇': 0, '뒤집힌다': 0, '정유경': 0, '와탭랩스': 0, '과기대': 0, '국립대': 0, '변기': 0, '텐덤': 0, '월드메르디앙': 0, '빙고': 0, '정읍시': 0, '전통예술': 0, '공연예술': 0, '국립박물관': 0, '이분법': 0, '카시트': 0, '대승리': 0, '준비물': 0, '펌프스': 0, '세이지': 0, '마티': 0, '굴착': 0, '특파원': 0, '로라티닙': 0, '항전': 0, '퀸즈': 0, '이춘': 0, '훙차오': 0, '컬버': 0, '후지와라': 0, '에페': 0, '기관지': 0, '직할': 0, '인젝터': 0, '미텍': 0, '소로': 0, '루살': 0, '공산주의': 0, '브론코': 0, '렌튼': 0, '앱텍': 0, '젤스': 0, '슬사': 0, '자구': 0, '국정조사': 0, '의원내각제': 0, '마찬가지': 0, '오신': 0, '미애': 0, '어거지': 0, '음뽕': 0, '몇번': 0, '기어이': 0, '불쌍': 0, '병신': 0, '소금': 0, '일생': 0, '로망': 0, '캠핑장': 0, '자기장': 0, '쿨톤': 0, '투게더': 0, '디토': 0, '김영식': 0, '저자': 0, '김경': 0, '독대': 0, '자택': 0, '협공': 0, '스랩': 0, '사고력': 0, '승론': 0, '쿠캣': 0, '영동': 0, '총대': 0, '용단': 0, '만렙': 0, '취준': 0, '고교생': 0, '영화제작': 0, '교과': 0, '비디오테이프': 0, '워홈': 0, '본성': 0, '구지은': 0, '단오': 0, '영화제': 0, '출품': 0, '분매': 0, '엎치락': 0, '뒤치락': 0, '불성': 0, '김상훈': 0, '한상선': 0, '훈기': 0, '레지던스': 0, '자파르': 0, '신텍스': 0, '테넷': 0, '김세훈': 0, '유지영': 0, '무궁무진': 0, '판하': 0, '사티': 0, '직물': 0, '헌팅턴병': 0, '파덤': 0, '아이다호': 0, '반룽': 0, '쿠카': 0, '페키': 0, '푸텍스': 0, '원드포': 0, '시베리아': 0, '명창': 0, '샹글': 0, '피츠패트릭': 0, '포차': 0, '약리학': 0, '엔더스': 0, '양념': 0, '인켈': 0, '감액': 0, '휘트린': 0, '준불': 0, '따이공': 0, '걱정거리': 0, '두산엔진': 0, '죽염': 0, '므흣': 0, '김현석': 0, '유럽인': 0, '잿값': 0, '집밖': 0, '챤스': 0, '해경': 0, '벤치마킹': 0, '럭키': 0, '슈완스': 0, '야외': 0, '통금': 0, '오거': 0, '문걸': 0, '대충': 0, '바브': 0, '소굴': 0, '가창': 0, '보임': 0, '젠장': 0, '매도물량': 0, '철철': 0, '몸부림': 0, '천정': 0, '공습': 0, '임지원': 0, '조윤제': 0, '합자': 0, '차륜': 0, '이씨스': 0, '건강미': 0, '휴전': 0, '특성화고': 0, '교생': 0, '경허': 0, '마이스': 0, '타요': 0, '강구': 0, '벌때': 0, '도운': 0, '안물': 0, '커플': 0, '절박': 0, '파적': 0, '여행가': 0, '내포': 0, '적십자사': 0, '리엘': 0, '바소프레신': 0, '다싱': 0, '살로': 0, '메르세데스': 0, '하임달': 0, '전자파': 0, '애곤': 0, '갈락토세미': 0, '심근': 0, '동양인': 0, '바질': 0, '해안선': 0, '전유': 0, '살락': 0, '누피': 0, '작곡가': 0, '스마트카드': 0, '돔황챠': 0, '지라시': 0, '산놈': 0, '려고': 0, '부흥': 0, '손정민': 0, '변사': 0, '퍼올랐': 0, '협연': 0, '첸펑화': 0, '어족': 0, '자력': 0, '했슴다': 0, '손안': 0, '우만동': 0, '할증': 0, '미로': 0, '아진카인텍': 0, '잘만테크': 0, '봉명동': 0, '작사': 0, '갈릴': 0, '마늘': 0, '침산동': 0, '천스탁': 0, '아진카이텍': 0, '유흥': 0, '가트너': 0, '근력': 0, '김경수': 0, '주최': 0, '그린벨트': 0, '알람': 0, '태릉': 0, '강백호': 0, '배제성': 0, '탐구생활': 0, '번외편': 0, '거장': 0, '판화': 0, '엠솔루텍': 0, '대칭': 0, '이용우': 0, '노예': 0, '해방': 0, '기념일': 0, '미토콘드리아': 0, '포탄': 0, '빅세일': 0, '말풍선': 0, '경합': 0, '통판': 0, '페라': 0, '입면': 0, '아누': 0, '명세': 0, '광대': 0, '몬티': 0, '구내': 0, '포세이돈': 0, '각막': 0, '트렌디': 0, '젯퓨': 0, '오래오래': 0, '쓰시': 0, '슈퍼카': 0, '지스트': 0, '난민': 0, '상수': 0, '자석': 0, '정대철': 0, '각질': 0, '해자': 0, '현성': 0, '코킬': 0, '방위산업': 0, '비둘기파': 0, '여름철': 0, '진흙탕': 0, '각개': 0, '에스트': 0, '비원': 0, '록펠러': 0, '파이터': 0, '함안': 0, '동국대': 0, '두운': 0, '표방': 0, '감사원장': 0, '기가스': 0, '상대방': 0, '카슬': 0, '액화천연가스': 0, '사업인': 0, '센트럴시티': 0, '금사': 0, '분소': 0, '정열': 0, '수술실': 0, '포르셰': 0, '준위': 0, '안성진': 0, '오승택': 0, '보약': 0, '국가경쟁력': 0, '염주': 0, '닛케이': 0, '요령': 0, '감점': 0, '가제': 0, '피쉬': 0, '낚시': 0, '오명': 0, '협주': 0, '교육지원청': 0, '잇츠핏': 0, '커피전문점': 0, '박준석': 0, '돈빼': 0, '경협': 0, '성찬': 0, '논현': 0, '프브': 0, '샤브': 0, '칼국수': 0, '알러지': 0, '본쿠프': 0, '유연제': 0, '잔디': 0, '개인유전체': 0, '아메리칸항공': 0, '결항': 0, '건조기': 0, '벡스코': 0, '보르도': 0, '박상수': 0, '말로': 0, '종금투': 0, '어린이집': 0, '장류': 0, '모방': 0, '펠리': 0, '펜슬': 0, '수이': 0, '펨비': 0, '알버타': 0, '가망': 0, '투르': 0, '춘계': 0, '약재': 0, '책사': 0, '아공': 0, '알셋': 0, '겔롱': 0, '패럴림픽': 0, '투업': 0, '이효진': 0, '레테': 0, '프랙스': 0, '라얄디': 0, '텐티': 0, '캘빈': 0, '카페테리아': 0, '알코': 0, '리슨': 0, '바롱': 0, '농켄': 0, '노년': 0, '시보': 0, '정다': 0, '관농': 0, '줌라': 0, '폭풍우': 0, '강풍': 0, '일기예보': 0, '화이트칼라': 0, '도태': 0, '필리프': 0, '입다': 0, '일차전지': 0, '수모': 0, '성악': 0, '재등장': 0, '스탑': 0, '부레': 0, '민성훈': 0, '직속': 0, '천안아산역': 0, '다이소': 0, '뤼튼': 0, '시퀀싱': 0, '북가좌': 0, '방학': 0, '트온': 0, '홍준표': 0, '복당': 0, '엔딩': 0, '요정': 0, '디저트': 0, '객실': 0, '이인섭': 0, '포수': 0, '왕겨': 0, '실리카': 0, '봉제': 0, '통안': 0, '껍질': 0, '안전교육': 0, '시아노': 0, '펀칭': 0, '히콘': 0, '척수': 0, '유키': 0, '밀월': 0, '미시시피': 0, '롱산': 0, '페넥': 0, '페드': 0, '탄력성': 0, '글락소스미스클라인': 0, '할로': 0, '총통': 0, '행정심판': 0, '에트라나코제': 0, '데자': 0, '파보': 0, '히스토겐': 0, '카산': 0, '행선': 0, '노포': 0, '부펜': 0, '아마이드': 0, '대본': 0, '어답터': 0, '오레곤': 0, '펜트': 0, '에틸': 0, '강릉시': 0, '반의': 0, '사면초가': 0, '방만': 0, '디딤돌': 0, '서명환': 0, '오타': 0, '유니폼': 0, '양성평등': 0, '함수': 0, '난파': 0, '만방': 0, '정성한': 0, '황태': 0, '텐그루텐': 0, '행공': 0, '스트라이커': 0, '선화동': 0, '위약금': 0, '횡포': 0, '팝펍딩': 0, '불합격': 0, '욱일기': 0, '젠투': 0, '선처': 0, '내곡동': 0, '윈즈': 0, '장검': 0, '경찰청': 0, '치안': 0, '미인': 0, '금박': 0, '마심': 0, '헌법재판소': 0, '준치': 0, '신젠타': 0, '스테이션': 0, '처지': 0, '수원대': 0, '정통부': 0, '창투': 0, '미니밴': 0, '줄줄': 0, '해묵': 0, '주환': 0, '일변도': 0, '신충': 0, '이장우': 0, '인의동': 0, '콩고민주공화국': 0, '안양역': 0, '뉴델리': 0, '개스디': 0, '정의용': 0, '광주시': 0, '오포읍': 0, '히든카드': 0, '블리츠': 0, '시마노': 0, '자립': 0, '부안': 0, '덕평': 0, '톈룬': 0, '데카': 0, '유승민': 0, '학연': 0, '상인동': 0, '카오': 0, '동대문': 0, '베이직': 0, '뇌영상': 0, '콩코': 0, '엉터리': 0, '카오룽': 0, '팡헤잉': 0, '티슬렐리주맵': 0, '투석': 0, '데믹': 0, '아이모': 0, '어류': 0, '농기': 0, '정보통신부': 0, '자산군': 0, '슈어': 0, '애팔': 0, '캉화': 0, '이사이': 0, '청위퉁': 0, '리종': 0, '폭셀': 0, '징룽': 0, '허젠': 0, '라벤더': 0, '펑전': 0, '왕레톈': 0, '경종': 0, '옴부타맵': 0, '용태': 0, '류샤오': 0, '구합': 0, '양준': 0, '장준': 0, '월보': 0, '렌트': 0, '캠고잉': 0, '영상의학': 0, '꿀잠': 0, '전기레인지': 0, '프리챌': 0, '벽지': 0, '목주름': 0, '상세': 0, '토카': 0, '넥타이': 0, '인맥': 0, '영남대': 0, '와이낫': 0, '경상북도': 0, '김진기': 0, '폐교': 0, '타이중': 0, '채수': 0, '엑스재팬': 0, '영종도': 0, '영종': 0, '운서역': 0, '통학버스': 0, '의성': 0, '벽화': 0, '그리기': 0, '어묵': 0, '노츠': 0, '젠더리스': 0, '크띵': 0, '깡패': 0, '모면': 0, '빈과일보': 0, '초창': 0, '먼데이': 0, '틀때색기': 0, '티야': 0, '텁니': 0, '왕관': 0, '드가쟈': 0, '불쏘시개': 0, '끈기': 0, '잠실': 0, '협박': 0, '수영복': 0, '스타킹': 0, '쟁이들': 0, '대갈빡': 0, '일베': 0, '알펜시아리조트': 0, '박대': 0, '완납': 0, '본즈': 0, '태양력': 0, '덤핑': 0, '윤길배': 0, '진드기': 0, '트캅': 0, '정앤유': 0, '혼재': 0, '집념': 0, '치카': 0, '카이만': 0, '강량': 0, '연습': 0, '팀스터': 0, '브라운슈바이크': 0, '준지': 0, '징강': 0, '종안': 0, '지성': 0, '원저우': 0, '항문': 0, '버즈피드': 0, '국가연합': 0, '앨닐람': 0, '바섬': 0, '개헌': 0, '부글': 0, '타종': 0, '프롭': 0, '나라장터': 0, '이한균': 0, '주차장': 0, '잘만': 0, '신효섭': 0, '황등': 0, '서교': 0, '흥업': 0, '저택': 0, '햅틱스': 0, '슈트': 0, '트윔': 0, '정립': 0, '후니': 0, '창의력': 0, '과학자': 0, '운전면허증': 0, '쿨러': 0, '다해': 0, '전기운': 0, '송하경': 0, '신통찮': 0, '윤여': 0, '윤봉길': 0, '월진회': 0, '병리': 0, '운정신도시': 0, '상동': 0, '철도청': 0, '울고싶어라': 0, '요가': 0, '김상범': 0, '리부트': 0, '홈텔': 0, '라포르': 0, '연거푸': 0, '구애': 0, '을사': 0, '세용': 0, '댓글알바': 0, '알거지': 0, '돌대가리': 0, '신호현': 0, '역법': 0, '단화': 0, '고요한': 0, '주가수익률': 0, '버투': 0, '은지': 0, '전인': 0, '소임': 0, '차근차근': 0, '양심선언': 0, '신틸리맵': 0, '칭치': 0, '스탤': 0, '태의': 0, '허징': 0, '화형식': 0, '불날': 0, '고수만': 0, '비빔면': 0, '혼합형': 0, '고독': 0, '천연물': 0, '율리시스': 0, '무전기': 0, '서빙': 0, '전업': 0, '노보텔': 0, '어메니티': 0, '환호성': 0, '재우': 0, '웟샷': 0, '마우스': 0, '과로': 0, '드라이버': 0, '기념관': 0, '출정': 0, '여제': 0, '김연경': 0, '한정판': 0, '헬시': 0, '왕족': 0, '타종행사': 0, '호남고': 0, '취소소송': 0, '클라이너': 0, '고막': 0, '치레': 0, '은둔': 0, '현행법': 0, '연줄': 0, '미현': 0, '아진에스텍': 0, '믹싱': 0, '패질': 0, '도봉산': 0, '예정자': 0, '해몽': 0, '안녕': 0, '한쪽': 0, '태세': 0, '헴프': 0, '방계': 0, '비영리단체': 0, '조약돌': 0, '내연기관': 0, '트페': 0, '도페네질': 0, '임영웅': 0, '왕전': 0, '이광재': 0, '디나': 0, '소방시설': 0, '화칭': 0, '완충': 0, '군사훈련': 0, '잉탄': 0, '급수': 0, '바우하우스': 0, '이직': 0, '칼슘': 0, '세레': 0, '둥팅': 0, '용케': 0, '제대': 0, '커스': 0, '노스캐롤라이나주': 0, '샬롯': 0, '디옥': 0, '글루코스': 0, '붙여넣기': 0, '커미셔닝': 0, '진술서': 0, '생태관광': 0, '우잉하': 0, '스코넥': 0, '퀀티파': 0, '쥬얼': 0, '유언': 0, '대용': 0, '이종': 0, '손금': 0, '장도': 0, '횐데': 0, '나영': 0, '퍽락한다': 0, '소나무재선충': 0, '천적': 0, '홈앤': 0, '개살구': 0, '진카': 0, '입가': 0, '중립지대': 0, '프투': 0, '캔코': 0, '콴다': 0, '선크림': 0, '아고다': 0, '조성우': 0, '천일염': 0, '젠슨리': 0, '남극해': 0, '축산농협': 0, '영재': 0, '하야': 0, '정성근': 0, '화형': 0, '짹팟': 0, '페퍼': 0, '노총': 0, '제어장치': 0, '스마일': 0, '썸머': 0, '관악구': 0, '와썹': 0, '개나리': 0, '정보처리': 0, '서칭': 0, '정인': 0, '승원': 0, '팰리': 0, '성전': 0, '박창호': 0, '일명': 0, '서태지': 0, '갈라파고스': 0, '거북': 0, '심혈관계': 0, '미하': 0, '리젠': 0, '고베': 0, '초이스': 0, '순서': 0, '박진환': 0, '출전': 0, '반상회': 0, '향동': 0, '산파': 0, '크로스로드': 0, '등촌': 0, '대학원생': 0, '다형': 0, '아그레브': 0, '선친': 0, '진두': 0, '이청': 0, '데비': 0, '타트': 0, '왁스': 0, '렁치유': 0, '회부': 0, '딩동광': 0, '웨스트체스터': 0, '딩성': 0, '백스톱': 0, '테스코': 0, '포획량': 0, '목장': 0, '키스톤': 0, '딩동': 0, '등호': 0, '우저우': 0, '량창': 0, '캔버스': 0, '아틀란틱': 0, '코코아': 0, '금룡': 0, '비코': 0, '류궈': 0, '바룬': 0, '위스': 0, '여성호르몬': 0, '후드': 0, '테리어': 0, '컬러풀': 0, '김태엽': 0, '바보온달': 0, '고지원': 0, '괄목': 0, '편취': 0, '경멸': 0, '타블렛': 0, '광운대': 0, '연착': 0, '아토즈': 0, '과냉각': 0, '구례읍': 0, '백련': 0, '구례': 0, '비하인드': 0, '폐수': 0, '류덕': 0, '옥정동': 0, '해사분': 0, '비방': 0, '기풍': 0, '간엽': 0, '곡동': 0, '여상': 0, '지킴': 0, '대체휴일': 0, '본캐': 0, '텔루': 0, '날숨': 0, '커텍트': 0, '성리': 0, '전기철도': 0, '눈덩': 0, '황서': 0, '자긍심': 0, '켐텍': 0, '포밍': 0, '집기': 0, '대관식': 0, '비더': 0, '제샹': 0, '류공': 0, '산토': 0, '랜싯': 0, '리퀴': 0, '악기': 0, '양재': 0, '배연': 0, '프라나': 0, '오카': 0, '갓카오': 0, '안전벨트': 0, '턴것': 0, '공관': 0, '발부': 0, '개빠들': 0, '꿈쩍': 0, '부보': 0, '린강': 0, '워시': 0, '세차장': 0, '환철': 0, '재직': 0, '왕회옌': 0, '류혼': 0, '중심지': 0, '들판': 0, '플렉시블': 0, '스푸투니크': 0, '환액': 0, '계약해제': 0, '아이코닉': 0, '보안법': 0, '런들': 0, '해운대구': 0, '산삼': 0, '페이첵': 0, '패킹': 0, '리얼타임': 0, '절대로': 0, '위성인터넷': 0, '첨병': 0, '홍진석': 0, '깡통계좌': 0, '룽손': 0, '수목원': 0, '커촹반': 0, '청각': 0, '포낙': 0, '하창욱': 0, '김신': 0, '송재': 0, '이주환': 0, '관평': 0, '지드래곤': 0, '월급쟁이': 0, '직능': 0, '첸홍': 0, '구이양': 0, '콘테사': 0, '번창': 0, '월렌': 0, '웨일스': 0, '황젠': 0, '슈니처': 0, '왕빈': 0, '팰리스': 0, '허권': 0, '매닝턴': 0, '밀스': 0, '질산염': 0, '항병': 0, '침상': 0, '법령': 0, '리순': 0, '신톈강': 0, '위증': 0, '라브란스': 0, '대중문화': 0, '경산시': 0, '주피터': 0, '여수엑스포': 0, '연예인': 0, '심정지': 0, '성장호르몬': 0, '회동': 0, '호미': 0, '가치관': 0, '주감': 0, '튜닝': 0, '수루': 0, '허치메드': 0, '리우': 0, '동기부여': 0, '어센던트': 0, '동방박사': 0, '최병운': 0, '크라토스': 0, '물리치료사': 0, '타일': 0, '야다브': 0, '유즈': 0, '퍼틴': 0, '박진영': 0, '상트네어': 0, '이랜드리테일': 0, '노웅래': 0, '바이낸스': 0, '국내법': 0, '역린': 0, '박지원': 0, '승호': 0, '센티넬': 0, '함양': 0, '환차익': 0, '비상등': 0, '스마트그리드': 0, '삭반': 0, '사이더': 0, '김효준': 0, '하이포': 0, '모스크바': 0, '해공': 0, '케어랩스': 0, '강민': 0, '이은상': 0, '만스닥': 0, '건양대': 0, '풍전등화': 0, '약효': 0, '상장도': 0, '종장': 0, '팡파르': 0, '막사': 0, '이머징마켓': 0, '영덕': 0, '조장': 0, '성책': 0, '큐티': 0, '처서': 0, '트리니티소프트': 0, '익명성': 0, '제약업': 0, '방서': 0, '방책': 0, '레빈': 0, '헤파': 0, '코뿔소': 0, '레날리틱스': 0, '알약': 0, '빠가사리': 0, '자충수': 0, '기입': 0, '개꼬소하': 0, '도랏다': 0, '와이프': 0, '유중일': 0, '갈라치': 0, '기하': 0, '자퇴': 0, '그게': 0, '올랏': 0, '너넨': 0, '문죄인': 0, '공시지가': 0, '비듬': 0, '가려움': 0, '정병윤': 0, '코엑스': 0, '스스로': 0, '투드': 0, '텍터': 0, '앰플': 0, '모공': 0, '이수형': 0, '타래': 0, '후불': 0, '곤충': 0, '이서현': 0, '자동초점': 0, '바둑': 0, '블랙잭': 0, '고스톱': 0, '앤김': 0, '영구기관': 0, '엘사': 0, '진산': 0, '장모': 0, '장마철': 0, '이발': 0, '디바이드': 0, '탐구': 0, '화루': 0, '헝성': 0, '해양공학': 0, '욘톈화': 0, '정표': 0, '스투펜': 0, '환타지아': 0, '바이어': 0, '중징': 0, '재산관리': 0, '헝통': 0, '광전': 0, '창포': 0, '밀당': 0, '파행': 0, '확고': 0, '제르': 0, '이어트': 0, '줄롱': 0, '강란': 0, '룽창': 0, '렘브': 0, '이지유': 0, '렌더링': 0, '후슈': 0, '진학사': 0, '전의': 0, '일차': 0, '미다스': 0, '이승훈': 0, '대입': 0, '유연탄': 0, '압타머': 0, '안트로퀴노놀': 0, '소맥': 0, '작황': 0, '순돌이': 0, '우주여행': 0, '이수근': 0, '일률': 0, '스캇': 0, '금률': 0, '디디추싱': 0, '수평선': 0, '박판': 0, '순천향대': 0, '의료관광': 0, '마자': 0, '심리검사': 0, '피넬': 0, '임채': 0, '부탄': 0, '파열': 0, '이지훈': 0, '쿠어': 0, '프론트홀': 0, '네오플': 0, '항말라리아제': 0, '코아루': 0, '세스더마': 0, '펑크': 0, '회초리': 0, '마소': 0, '이대현': 0, '레져': 0, '방병': 0, '온몸': 0, '주택연금': 0, '포스트프로덕션': 0, '넥플릭스': 0, '뇌물수수': 0, '경제성장': 0, '디시': 0, '우주전쟁': 0, '드롭탑': 0, '괘씸죄': 0, '문전': 0, '김승연': 0, '중앙디앤엠': 0, '황도': 0, '기상이변': 0, '여고': 0, '댓글': 0, '김무성': 0, '박영수': 0, '특검': 0, '공통분모': 0, '무심': 0, '글렀어': 0, '부선': 0, '숟가락': 0, '위염': 0, '위궤양': 0, '배길수': 0, '문상': 0, '안혜진': 0, '프로페': 0, '허풍': 0, '디앤엠': 0, '박순': 0, '인캡': 0, '충청': 0, '인장': 0, '대대손손': 0, '오큘러스': 0, '팩츠': 0, '리막': 0, '부가티': 0, '두부': 0, '비도': 0, '랄리맵': 0, '탐험': 0, '화살촉': 0, '히프': 0, '버몬트': 0, '종점': 0, '웰치': 0, '플로터': 0, '캔터': 0, '피츠제럴드': 0, '팔로': 0, '파타': 0, '크라스': 0, '샤바': 0, '해빙': 0, '총리와': 0, '알베르토': 0, '칼데론': 0, '탁셀': 0, '엔세퀴다': 0, '조류': 0, '샤강': 0, '스피라': 0, '승연': 0, '자연재해': 0, '무탠': 0, '다드': 0, '독서실': 0, '원히트원더': 0, '홉슨': 0, '시스팬': 0, '생무': 0, '배앓이': 0, '젖병': 0, '여배우': 0, '격파': 0, '휘닉스': 0, '듀산퓨얼셀': 0, '예술가': 0, '범인': 0, '투캉스': 0, '치얼스': 0, '투안': 0, '임신중절': 0, '노브': 0, '봉천': 0, '신상털기': 0, '방지법': 0, '하급': 0, '뇌손상': 0, '파주시': 0, '계부': 0, '아몬드': 0, '배반': 0, '소취하': 0, '연대보증': 0, '해이': 0, '에듀넷': 0, '행정소송': 0, '신촌역': 0, '독서광': 0, '조상환': 0, '성수동': 0, '장래': 0, '몽니': 0, '지넷': 0, '엄단': 0, '긴박': 0, '재발주': 0, '넥실': 0, '모세혈관': 0, '셀온': 0, '메뉴판': 0, '리누스': 0, '히스토리': 0, '예체능': 0, '보중': 0, '가형': 0, '와이즈넛': 0, '수권': 0, '권혁': 0, '농구': 0, '평양': 0, '코료': 0, '화합물질': 0, '론트': 0, '중립국': 0, '마르크스': 0, '풍요롭': 0, '감세': 0, '국림피엔텍': 0, '악템': 0, '로벤': 0, '자폐': 0, '유재석': 0, '정보공학': 0, '밑거름': 0, '유느님': 0, '뿜는': 0, '굿샷': 0, '어캐된거': 0, '털렷어': 0, '후이펑': 0, '키델': 0, '가변': 0, '상원의원': 0, '잔챙이': 0, '밥콕': 0, '윌콕스': 0, '런스': 0, '펑화': 0, '허큘리스': 0, '프랑크푸르트': 0, '웨일': 0, '이사벨': 0, '데샴스': 0, '페트로나스': 0, '성훙': 0, '크리스티나': 0, '바토': 0, '택진': 0, '불스원': 0, '바이럴': 0, '예식장': 0, '쿨링감': 0, '금공': 0, '윤창현': 0, '휴젤감소덱스레보': 0, '상형': 0, '압용': 0, '이적': 0, '사보': 0, '위티': 0, '지주시': 0, '해리슨': 0, '로톡': 0, '열정': 0, '제기로': 0, '무능': 0, '이경자': 0, '리쿠': 0, '르트': 0, '김진웅': 0, '우단': 0, '제이티비씨': 0, '비정규직': 0, '촉진법': 0, '삼쩜삼': 0, '애증주': 0, '캐럴': 0, '타호': 0, '감미료': 0, '주룽': 0, '방해꾼': 0, '형질전환': 0, '침투': 0, '숨비': 0, '넥셀': 0, '안영규': 0, '롯데렌탈': 0, '방황': 0, '게라': 0, '동아일보': 0, '얼렁': 0, '샛기들': 0, '쫄아': 0, '위타': 0, '하지맣': 0, '만해': 0, '운지': 0, '호로': 0, '나안': 0, '성품': 0, '중견련': 0, '초복': 0, '몰타': 0, '남수단': 0, '래핑': 0, '풀필': 0, '명월': 0, '서창': 0, '프로바이오틱스': 0, '기술특례': 0, '수용성': 0, '아만다': 0, '불닭': 0, '술고래': 0, '이솔': 0, '지큐': 0, '셀바': 0, '라이스': 0, '러스크': 0, '최전선': 0, '캡쳐': 0, '아크로폴리스': 0, '폰드': 0, '둥엥': 0, '샨둥': 0, '위스트론': 0, '플로렌스': 0, '양자리': 0, '테제펠루맵': 0, '모집단': 0, '더톤': 0, '삼중결합': 0, '개략': 0, '진영': 0, '칭화유': 0, '가두': 0, '일동후디스': 0, '악당': 0, '분만': 0, '오리가': 0, '김동환': 0, '롤모델': 0, '최병철': 0, '원도': 0, '괴짜': 0, '심보': 0, '수험생': 0, '기만': 0, '버섯': 0, '질색': 0, '에너지음료': 0, '폭탄주': 0, '천안시': 0, '무안': 0, '양파': 0, '서탄면': 0, '알투디투': 0, '홀몸': 0, '론스타': 0, '기랭바레': 0, '구독료': 0, '숙주': 0, '티크': 0, '체사': 0, '청탁': 0, '이재현': 0, '앤제이': 0, '황등면': 0, '간호사': 0, '인덕대': 0, '노원구': 0, '정년': 0, '속행': 0, '김동원': 0, '박종대': 0, '색칠': 0, '라떼': 0, '세라젬': 0, '체내': 0, '주설': 0, '시놉시스': 0, '관광객': 0, '행정법원': 0, '평이': 0, '서핑보드': 0, '우쿨렐레': 0, '취미': 0, '나기': 0, '영식': 0, '장학': 0, '책방': 0, '특보': 0, '열대야': 0, '리싱': 0, '디빅': 0, '리메이크': 0, '디지로그': 0, '온스타일': 0, '반문': 0, '윈하이텍': 0, '웃음소리': 0, '유단': 0, '초상화': 0, '자임': 0, '카레': 0, '유성만': 0, '애트': 0, '광신': 0, '관상': 0, '사바나': 0, '멀티플렉스': 0, '레일리': 0, '마란': 0, '탄원': 0, '코카인': 0, '동지': 0, '자판기': 0, '볼거리': 0, '송민호': 0, '산다라박': 0, '손호준': 0, '면화': 0, '무식': 0, '깝치': 0, '미끄럼틀': 0, '시붜랄쉐기': 0, '순응': 0, '시월': 0, '인턴쉽': 0, '비행선': 0, '메이븐': 0, '면담': 0, '엠블': 0, '방콕': 0, '브레이브걸스': 0, '코코몽': 0, '금산분리': 0, '질소': 0, '산화물': 0, '블록버스터': 0, '서프': 0, '불화': 0, '티끌': 0, '제헌절': 0, '센시블': 0, '핸들': 0, '삼각지': 0, '페셜': 0, '나마': 0, '이신': 0, '몰루린': 0, '커민': 0, '스드이': 0, '오르넹': 0, '홍차': 0, '방코퍼': 0, '둥런': 0, '직조': 0, '룽산': 0, '사오싱': 0, '펩시코': 0, '잔무': 0, '패서디나': 0, '치징': 0, '둥예': 0, '디앤앰': 0, '두물머리': 0, '사치': 0, '동광': 0, '락안랙': 0, '경공': 0, '스타일리시': 0, '지시자': 0, '환경보전': 0, '저작권료': 0, '뮤카': 0, '서울역': 0, '진열': 0, '박현종': 0, '레바논': 0, '발기부전': 0, '바퀴': 0, '안현호': 0, '은총': 0, '솔메딕스': 0, '미소녀': 0, '일러스트': 0, '휘슬러': 0, '후라이팬': 0, '정보사회': 0, '왕길역': 0, '보랭': 0, '선장': 0, '되뇐': 0, '증조': 0, '진접': 0, '복정': 0, '중환자실': 0, '타락천사': 0, '위용': 0, '고진역': 0, '세계대전': 0, '파열음': 0, '라지오': 0, '호법면': 0, '안평리': 0, '고정식': 0, '사법고시': 0, '허준석': 0, '부쩍': 0, '점론': 0, '년말': 0, '배진교': 0, '카트리지': 0, '오차': 0, '인헌': 0, '영월군': 0, '부드러움': 0, '집착': 0, '어노브': 0, '페더러': 0, '트뤼': 0, '리픽싱': 0, '묘산봉': 0, '호찌민시': 0, '영철': 0, '조위': 0, '불닭볶음면': 0, '조미료': 0, '심통': 0, '최강창민': 0, '영해': 0, '디티캡스': 0, '이상근': 0, '권유인': 0, '띵굴': 0, '유기동물': 0, '김도연': 0, '기수': 0, '다이노스': 0, '숙취': 0, '초성': 0, '그로브너': 0, '형남': 0, '마장동': 0, '휴센텍': 0, '다산역': 0, '뉴빛': 0, '김건희': 0, '노유': 0, '건재': 0, '박일성': 0, '김병': 0, '암살': 0, '김우형': 0, '촬영감독': 0, '맘맘': 0, '영암': 0, '관로': 0, '격석': 0, '영암군': 0, '송중기': 0, '전봉': 0, '이호형': 0, '유괴': 0, '청각장애': 0, '룽성': 0, '수빈': 0, '플린트': 0, '교육자': 0, '베컴': 0, '오존': 0, '소녀': 0, '징균둥': 0, '산로렌조': 0, '혈소판': 0, '인과관계': 0, '벤젠': 0, '중성자': 0, '에어로졸': 0, '쉬이': 0, '레녹스': 0, '얼씬': 0, '간행물': 0, '쉬벌': 0, '발치': 0, '는걸': 0, '가솔린': 0, '톈안탄': 0, '제퍼슨': 0, '수영장': 0, '윌스미스': 0, '수심': 0, '유나이티드항공': 0, '인승': 0, '아큐투스': 0, '밑그림': 0, '쯔광': 0, '호찌민': 0, '균형발전': 0, '가포': 0, '배율': 0, '앤시': 0, '문무역': 0, '무위': 0, '티컬스': 0, '해주': 0, '최씨': 0, '셴렌캉': 0, '백합': 0, '추측': 0, '왕쉐동': 0, '안후이성': 0, '오리건': 0, '안석훈': 0, '딘위디': 0, '요크셔': 0, '싼펑': 0, '훙커': 0, '둥장': 0, '푸닝': 0, '블런': 0, '제아': 0, '고무줄': 0, '호연': 0, '수레': 0, '박정민': 0, '김진': 0, '최인혁': 0, '지성규': 0, '김경록': 0, '혈세': 0, '박진': 0, '표준궤': 0, '도레이': 0, '죄인': 0, '안영': 0, '강현': 0, '마는': 0, '한정수': 0, '청명': 0, '정운': 0, '지쿠': 0, '국힘': 0, '백승훈': 0, '크로우': 0, '김사랑': 0, '젠도': 0, '간곡': 0, '보물창고': 0, '괴력': 0, '튜버': 0, '미신': 0, '전문의': 0, '일원화': 0, '등록시스템': 0, '면도': 0, '삼양': 0, '예술인': 0, '덕성여대': 0, '송배전': 0, '초코': 0, '특화샵': 0, '진해': 0, '토이': 0, '진쨔': 0, '전기기관차': 0, '백억원': 0, '펜타시큐리티': 0, '연쇄반응': 0, '통계청': 0, '예고편': 0, '소부': 0, '게릴라': 0, '종잣돈': 0, '취재': 0, '우익': 0, '선수촌': 0, '이슬람': 0, '료업': 0, '비구': 0, '세컨더리': 0, '입점해': 0, '십정동': 0, '퀄러티': 0, '습기': 0, '정의화': 0, '지도자': 0, '웰라쥬': 0, '왕초보': 0, '소고기': 0, '주발': 0, '펫닥': 0, '울드': 0, '가던트': 0, '고재': 0, '한부모': 0, '잡지': 0, '홍춘': 0, '콤프': 0, '야우옌': 0, '풍요': 0, '선납': 0, '린준보': 0, '시나이': 0, '의대': 0, '반경': 0, '할배': 0, '에르메닐': 0, '톤틴': 0, '광위': 0, '간디': 0, '쌍창판': 0, '전열': 0, '김슬': 0, '김상표': 0, '마구잡이': 0, '막차물량': 0, '무딘': 0, '맥사': 0, '면병': 0, '이그나티우스': 0, '주톈샹': 0, '동예': 0, '소아마비': 0, '엔드게임': 0, '애드미럴티': 0, '보양': 0, '이두아': 0, '프림': 0, '도끼': 0, '스포츠카': 0, '론칭할': 0, '메가패스': 0, '펠스': 0, '더톡': 0, '피카': 0, '최광': 0, '용씨': 0, '스트라우': 0, '반항': 0, '메르켈': 0, '폐허': 0, '순방': 0, '격화될': 0, '무게중심': 0, '내심': 0, '변압기': 0, '으쓱': 0, '빙과': 0, '머쓱': 0, '클로락스': 0, '일각': 0, '가던트헬스': 0, '외평채': 0, '테셋': 0, '품격': 0, '성황': 0, '유나이티드헬스': 0, '햇반': 0, '음모론': 0, '수파': 0, '드엘릭': 0, '견지해': 0, '알비': 0, '타석': 0, '창원시': 0, '모먼트': 0, '스즈카': 0, '요미우리': 0, '신행': 0, '진귀': 0, '은공': 0, '젠방': 0, '자생': 0, '마이어': 0, '템보': 0, '북아프리카': 0, '루코': 0, '네스트': 0, '머핀': 0, '푸루이첸': 0, '학군': 0, '가소성': 0, '탈크': 0, '안팩': 0, '폰툰': 0, '야우리': 0, '나폴리': 0, '슈투트가르트': 0, '티오': 0, '소형모듈원전': 0, '찜통': 0, '장수군': 0, '홍릉': 0, '절판': 0, '케일': 0, '배컴': 0, '어부지리': 0, '방촌': 0, '광구': 0, '화동양행': 0, '직강': 0, '물걸레': 0, '오자': 0, '송환': 0, '핑계': 0, '아전': 0, '정보공': 0, '유협': 0, '박진석': 0, '산단': 0, '프리미어리그': 0, '이종환': 0, '볶음': 0, '방일': 0, '김태영': 0, '스페라': 0, '희귀난치성질환': 0, '탈시': 0, '스탭': 0, '휴대폰결제': 0, '잔망': 0, '지름길': 0, '과유': 0, '보톨주': 0, '한여름': 0, '절정': 0, '버츄얼': 0, '포틴': 0, '탈선': 0, '친놈': 0, '지네': 0, '오른손': 0, '양전하': 0, '엠뒤': 0, '장지수': 0, '스외': 0, '조서': 0, '경찰서': 0, '구조도': 0, '체지방': 0, '석기': 0, '매그넘': 0, '지수만': 0, '업업': 0, '분규': 0, '코덱': 0, '사하역': 0, '진설': 0, '문고': 0, '늘솜': 0, '발재': 0, '반점': 0, '성폭력': 0, '피노키오': 0, '개성': 0, '특허심판원': 0, '퍼담': 0, '심판원': 0, '공공안전': 0, '피고인': 0, '후식': 0, '푸룬': 0, '밍주': 0, '데이빗': 0, '레베카': 0, '애덤': 0, '베네토': 0, '토치카': 0, '쿨텍': 0, '사가라': 0, '아카시': 0, '코륨': 0, '트래컨': 0, '케냐': 0, '투라': 0, '디스코': 0, '펩트': 0, '시티딘': 0, '위스콘신주': 0, '움프쿼': 0, '샹싱': 0, '머스': 0, '뮌헨': 0, '덴햄': 0, '동하': 0, '알스': 0, '베르테인': 0, '바싹': 0, '야마하': 0, '도제': 0, '트래이딩': 0, '글로벌파운드리': 0, '씨제이': 0, '당직': 0, '중사': 0, '폭언': 0, '꼭짓점': 0, '로터리': 0, '술판': 0, '스님': 0, '나훈아': 0, '상볼때': 0, '개색': 0, '세월호': 0, '대하': 0, '쩔쩔': 0, '무역수지': 0, '쿠싱': 0, '겨자': 0, '아월즈앤무드': 0, '정동': 0, '세레스': 0, '네드': 0, '셔우드': 0, '하이난성': 0, '국가부도': 0, '경영학': 0, '델콘': 0, '애벗': 0, '탤런트': 0, '물량보소': 0, '뭉가': 0, '허깨비': 0, '하르스코': 0, '앤슈먼': 0, '빌라': 0, '프렌치': 0, '정성민': 0, '임종석': 0, '리도': 0, '서자': 0, '싼밍': 0, '치자': 0, '린촨후': 0, '프스': 0, '이단': 0, '홍투': 0, '자오윈': 0, '켐비오': 0, '핑루': 0, '신국': 0, '카우치': 0, '샤반트': 0, '치과의사': 0, '테톤': 0, '펠리클': 0, '김성희': 0, '수다': 0, '지구온난화': 0, '평보': 0, '용두동': 0, '한국어': 0, '음중': 0, '문산': 0, '철칙': 0, '목사': 0, '인칭': 0, '군마': 0, '난임': 0, '디플래닛': 0, '불복': 0, '심심이': 0, '기소진': 0, '살껄': 0, '웁니': 0, '열처리': 0, '시청역': 0, '베라트': 0, '인스트루먼트': 0, '벨라': 0, '데오드란트': 0, '말투': 0, '샤폐론': 0, '국가신용등급': 0, '한일합섬': 0, '다솔': 0, '그랜드센트럴': 0, '건로': 0, '에바': 0, '스팸전화': 0, '차스닥': 0, '외동': 0, '요란': 0, '선런': 0, '차이잉원': 0, '유회': 0, '우파': 0, '극렬': 0, '토미': 0, '낄낄': 0, '키티': 0, '샹쉐': 0, '손사래': 0, '개월차': 0, '쪽집': 0, '모텔': 0, '재개발조합': 0, '발란': 0, '포토다이오드': 0, '트레져': 0, '전당포': 0, '봉하': 0, '혈통': 0, '친문': 0, '폐족': 0, '법사': 0, '커트라인': 0, '추격자': 0, '프로야': 0, '카포': 0, '김용호': 0, '간첩': 0, '엑시노스': 0, '영희': 0, '황족': 0, '금욜날': 0, '와페톤': 0, '킨더드': 0, '마다가스카르': 0, '쿼트': 0, '맥케슨': 0, '나이트클럽': 0, '헝뎬': 0, '부증': 0, '병주': 0, '충정': 0, '사교육비': 0, '출생률': 0, '해해': 0, '제해': 0, '스피': 0, '장병규': 0, '김창': 0, '다크엔젤': 0, '동물시험': 0, '꼭지점': 0, '크릿벤처스': 0, '뉴스룸': 0, '어댑터': 0, '장담': 0, '반포': 0, '게임제작': 0, '신인식': 0, '국향': 0, '강내': 0, '카티졸': 0, '스무디': 0, '빵빠레': 0, '단락': 0, '베네통': 0, '가로수길': 0, '도현수': 0, '호환': 0, '한충수': 0, '난청': 0, '노른자': 0, '부촌': 0, '롤로': 0, '복기': 0, '빅뉴스': 0, '엠택': 0, '똘끼': 0, '천사': 0, '필슨': 0, '베어즈': 0, '하이패스': 0, '쿠민': 0, '슬레이트': 0, '마윤': 0, '리믹스': 0, '애드미럴': 0, '살타': 0, '복용량': 0, '뉴월드': 0, '코모도어': 0, '국무부': 0, '엘라스': 0, '징진': 0, '타조': 0, '비데트': 0, '솔겔': 0, '트위': 0, '농림축산식품부': 0, '진중': 0, '신복위': 0, '조선부': 0, '유령회사': 0, '김병연': 0, '사법부': 0, '사액': 0, '후동': 0, '결연': 0, '윤나': 0, '행안부': 0, '모히또': 0, '브레이커': 0, '빡빡': 0, '살림': 0, '휘센': 0, '홈캉스': 0, '방배동': 0, '드플랏': 0, '개월물': 0, '유현주': 0, '다관': 0, '링코봇': 0, '옥포동': 0, '연락선': 0, '남북관계': 0, '경협주': 0, '사슬': 0, '부영': 0, '무주덕유산리조트': 0, '숭의': 0, '원우': 0, '쇳물': 0, '별다방': 0, '홍천군': 0, '타운센드': 0, '코치': 0, '마안산': 0, '세심': 0, '마리오': 0, '치펑베이콩': 0, '글리코겐': 0, '보티': 0, '브로마이드': 0, '오지우': 0, '구릉': 0, '침수': 0, '앙시': 0, '롤업': 0, '세르비아': 0, '자다르': 0, '선톈': 0, '친전': 0, '레지던셜': 0, '마라릭시밧': 0, '극기': 0, '수수께끼': 0, '외제차': 0, '홍순': 0, '윔블던': 0, '방셰': 0, '레딩': 0, '북쪽': 0, '캐년': 0, '속뜻': 0, '쌍둥이': 0, '화무': 0, '앙상블': 0, '노익': 0, '변압': 0, '죤늬슈': 0, '쩜상레': 0, '뚫렇': 0, '트랜드': 0, '육갑': 0, '바이오나': 0, '듬뿍': 0, '이왕이면': 0, '코빅': 0, '건룡건설': 0, '이언': 0, '럭비공': 0, '가연성': 0, '블리몽': 0, '마카롱': 0, '몬드리안': 0, '공산': 0, '일통': 0, '풍동': 0, '배부': 0, '등쌀': 0, '우물': 0, '박멸': 0, '박민수': 0, '병동': 0, '백인': 0, '인슈어런스': 0, '게티': 0, '탄성': 0, '트코브': 0, '지질공학': 0, '노달': 0, '다이나믹스': 0, '정확': 0, '보머': 0, '듀오링고': 0, '옥수': 0, '노스이스트': 0, '몬로': 0, '퉁칭루': 0, '다이닝': 0, '캔컴': 0, '콜머': 0, '화롱': 0, '케롱': 0, '케펠사': 0, '파로': 0, '청터': 0, '툴샨': 0, '장징': 0, '콜리': 0, '반스앤노블': 0, '퉁칭사이': 0, '아이러니': 0, '동메달': 0, '안창림': 0, '신접': 0, '종자도': 0, '동명동': 0, '하랑': 0, '랜섬웨어': 0, '아그니': 0, '가이아나': 0, '휘프테일': 0, '타킨': 0, '벌커스': 0, '시돈': 0, '초대장': 0, '하오톈': 0, '피팩': 0, '장베이': 0, '해양학': 0, '범람': 0, '역도': 0, '진윤성': 0, '연비': 0, '알버말': 0, '어닝데이': 0, '공황': 0, '냉정': 0, '룟값': 0, '중생': 0, '보위': 0, '높혔다': 0, '단식': 0, '나이티': 0, '은근': 0, '것일': 0, '텐데절마': 0, '알트': 0, '가난뱅이': 0, '아저씨': 0, '이탄': 0, '풀다': 0, '옛날': 0, '재동': 0, '외선': 0, '폐수처리': 0, '개혁개방': 0, '살루타': 0, '답보': 0, '효준': 0, '더뷰': 0, '더퀸': 0, '심리학': 0, '슈나이더': 0, '정젠': 0, '루자쭈이': 0, '두드러기': 0, '살리나스': 0, '과민성': 0, '류핑': 0, '적십자': 0, '증강': 0, '체중감량': 0, '휴런': 0, '룰린': 0, '란팍': 0, '아펠한스': 0, '화씨': 0, '쿠엔': 0, '스칼렛': 0, '요한슨': 0, '맥스트': 0, '다낭': 0, '가마솥': 0, '셀샷': 0, '희양산': 0, '직앞': 0, '지층': 0, '취할': 0, '정은': 0, '만라': 0, '답글전': 0, '베트남항공': 0, '텔타변': 0, '토크쇼': 0, '호사': 0, '업로드': 0, '찬가': 0, '악습': 0, '가이아': 0, '다용': 0, '최희': 0, '체온계': 0, '인터네셔널': 0, '모로코': 0, '체납': 0, '김남주': 0, '이태란': 0, '소믈리에': 0, '발도': 0, '훙싱얼커': 0, '가문': 0, '부들': 0, '가소': 0, '용종': 0, '페더럴': 0, '경련': 0, '장티': 0, '춘롄': 0, '테릭': 0, '셰난': 0, '르동': 0, '숙명': 0, '회천': 0, '덕계역': 0, '여름밤': 0, '금메달': 0, '꺼림칙': 0, '공립': 0, '중흥컨소': 0, '남북정상회담': 0, '준중형차': 0, '지식인': 0, '부심': 0, '공론장': 0, '도둑질': 0, '임시변통': 0, '젝젝': 0, '명색': 0, '돗토리': 0, '대장정': 0, '국제무역': 0, '외발자전거': 0, '오현': 0, '시내': 0, '퉁런': 0, '캐스케이드': 0, '균질': 0, '또래': 0, '킴벌리': 0, '클락': 0, '장유': 0, '주오': 0, '치윙': 0, '콩카': 0, '위더': 0, '자프론': 0, '스냅드래곤': 0, '태양열': 0, '프록터': 0, '갬블': 0, '서너': 0, '현찰': 0, '에피네프린': 0, '싱파': 0, '박병': 0, '풍수지리': 0, '실링': 0, '팀워크': 0, '똘똘뭉친': 0, '철골': 0, '최우식': 0, '리진': 0, '광촉매': 0, '클렌징': 0, '블릭': 0, '리쥬란': 0, '맥아': 0, '농막': 0, '임현준': 0, '재희': 0, '김여정': 0, '담화': 0, '왁싱': 0, '원호': 0, '렌딧': 0, '액탑': 0, '육아용품': 0, '퍼브': 0, '하호': 0, '교활': 0, '쉬발': 0, '인버': 0, '형광': 0, '헤이워드': 0, '카멜롯': 0, '사프넬로': 0, '홍반': 0, '상회사': 0, '본때': 0, '집세': 0, '항치': 0, '메콤': 0, '베티': 0, '푸얀': 0, '비차': 0, '전사체': 0, '바리스타': 0, '찻집': 0, '리포': 0, '항공모함': 0, '화교': 0, '솔타': 0, '보증인': 0, '추저우': 0, '에이프런': 0, '불임': 0, '시립': 0, '베움': 0, '에보콰': 0, '낚으려': 0, '아편': 0, '셧다운제': 0, '사물놀이': 0, '비로소': 0, '망명': 0, '임권일': 0, '하필': 0, '간사장': 0, '핀스': 0, '심란': 0, '채평': 0, '민팃': 0, '이해도': 0, '수련': 0, '원선': 0, '회한': 0, '주진우': 0, '화단': 0, '온라인게임': 0, '일도': 0, '메릴랜드주': 0, '녹음': 0, '날인': 0, '아제르바이잔': 0, '양원역': 0, '일전': 0, '리솜': 0, '해산물': 0, '고릴라': 0, '라모스': 0, '방코레스': 0, '힐앤코': 0, '자일렘': 0, '웨스트레이크': 0, '디멕스': 0, '트레이싱': 0, '수록': 0, '후렌드': 0, '내재': 0, '고해': 0, '도바': 0, '꼽으라': 0, '샤꺄': 0, '더인츠': 0, '해역': 0, '피습': 0, '바론': 0, '순번': 0, '급행버스': 0, '동양미래대': 0, '스물': 0, '스페인어': 0, '중진국': 0, '유행어': 0, '술집': 0, '시들시들': 0, '쿠후': 0, '김병훈': 0, '챔피온': 0, '반케': 0, '루질양': 0, '샹위': 0, '브랑코': 0, '락커': 0, '태지': 0, '폴리펩타이드': 0, '선젠바우잉': 0, '외적인': 0, '애닝': 0, '애비': 0, '워리어': 0, '에카': 0, '쿠케': 0, '오르바': 0, '팰컨': 0, '암텍': 0, '켐프스': 0, '키스트': 0, '브랜딩': 0, '박철환': 0, '심폐소생술': 0, '잘버': 0, '봄봄': 0, '헝겐': 0, '리퀴다이터스': 0, '유강': 0, '렁윙': 0, '교통위반': 0, '타이젠': 0, '카디프': 0, '니엄': 0, '비빔': 0, '중전': 0, '후지쓰': 0, '선근': 0, '하춘욱': 0, '발릭파판': 0, '유로핀스': 0, '쿠하': 0, '볼쇼': 0, '온센': 0, '희소금속': 0, '아울벤처스': 0, '서브프라임': 0, '김태규': 0, '정육': 0, '환차손': 0, '금융감독원장': 0, '비분': 0, '아렌시': 0, '개제': 0, '열의': 0, '아홉': 0, '연금술': 0, '이쯤': 0, '글렌모렌': 0, '레토': 0, '무진': 0, '고승': 0, '순복음교회': 0, '정릉': 0, '곧장': 0, '윤호': 0, '난양공대': 0, '위드유': 0, '베드로': 0, '미니홈피': 0, '맛보기': 0, '드제네틱스': 0, '조사해': 0, '스탠드': 0, '시간여행': 0, '화살표': 0, '덴틀리': 0, '시로': 0, '인슬릿': 0, '그린랜드': 0, '온디맨드': 0, '바니': 0, '루디': 0, '쓰리협물': 0, '디쿠앙': 0, '킴벨': 0, '디어본': 0, '웨버': 0, '북아시아': 0, '하네스': 0, '렉토': 0, '협찬': 0, '스품': 0, '경비실': 0, '등대': 0, '식료품점': 0, '어깨춤': 0, '배설': 0, '난창': 0, '만장': 0, '우표': 0, '리플렉': 0, '헝텐': 0, '셈라': 0, '농슬라': 0, '삘받았': 0, '형석': 0, '데이터스트림즈': 0, '에스오에스': 0, '꼬장': 0, '농슬': 0, '피부관리': 0, '테사': 0, '샤갈': 0, '국밥': 0, '방사성폐기물': 0, '펫레스트': 0, '크레프': 0, '은빛': 0, '뒷바라지': 0, '부모님': 0, '월트디즈니': 0, '잿팟': 0, '말표': 0, '시세이도': 0, '당청': 0, '지역별': 0, '배양육': 0, '최철웅': 0, '만촌동': 0, '애틀란틱': 0, '대천해수욕장': 0, '젼년': 0, '김수현': 0, '차승원': 0, '쑤욱': 0, '상창': 0, '박병국': 0, '생떼': 0, '위자료': 0, '조기교육': 0, '흑룡강성': 0, '라이신': 0, '뒷방': 0, '누리집': 0, '얏호': 0, '싸가지': 0, '문경': 0, '솔향': 0, '이웰': 0, '반입': 0, '주서': 0, '투닷': 0, '인창': 0, '명물': 0, '간웨': 0, '콘티': 0, '넨탈': 0, '반주': 0, '치루': 0, '직급': 0, '여드름': 0, '섀크': 0, '후이저우': 0, '고증': 0, '캠비엄': 0, '유러': 0, '쥬빌레': 0, '대표팀': 0, '채점': 0, '자유시간': 0, '연산': 0, '오바마': 0, '환갑': 0, '원희룡': 0, '공정은': 0, '웨슬리': 0, '보랏빛': 0, '스카프': 0, '리바이': 0, '리둥성': 0, '경제성': 0, '신경질': 0, '캐터': 0, '섬유소': 0, '질증': 0, '선워': 0, '탕렌셴': 0, '페넘': 0, '신닥스': 0, '코니어스': 0, '골럽': 0, '펄스': 0, '아드레날린': 0, '랜디올': 0, '위홍': 0, '고추장': 0, '두보': 0, '더없이': 0, '여자배구': 0, '김덕': 0, '십중팔구': 0, '참담': 0, '투한': 0, '성인식': 0, '문법': 0, '그래머스쿨': 0, '바이오넷': 0, '재수출': 0, '콜시장': 0, '김형민': 0, '현수막': 0, '굴지': 0, '연달': 0, '비포': 0, '서서': 0, '웹호스팅': 0, '설욕': 0, '주먹구구': 0, '모자라': 0, '퇴근': 0, '급류': 0, '호경': 0, '제안요청서': 0, '낙담': 0, '순위도': 0, '식품의약품안전처': 0, '경의': 0, '해양경찰': 0, '샤이닝': 0, '내부고발': 0, '궈유': 0, '소율': 0, '게이밍': 0, '런앤': 0, '아이코닉스': 0, '바비인형': 0, '번개': 0, '레크리에이션': 0, '장홍': 0, '사쓰마': 0, '안산시': 0, '류젠룽': 0, '피자헛': 0, '페퍼로니': 0, '토핑': 0, '라이프치히': 0, '요르단': 0, '직교': 0, '벡츄': 0, '비셰이': 0, '맨즈': 0, '체리피커': 0, '외지': 0, '경전': 0, '짠맛': 0, '진주시': 0, '비봉': 0, '맥시': 0, '괴물': 0, '신품': 0, '시발': 0, '좆쿠': 0, '하넹': 0, '귀훈': 0, '극락': 0, '답글곧': 0, '오릭': 0, '샹싱추': 0, '표데르마': 0, '노섬': 0, '적혈구': 0, '헨첼': 0, '캐스퍼': 0, '작시': 0, '궈쥔': 0, '완샹': 0, '버키': 0, '터핀': 0, '응대': 0, '궈광': 0, '콰이슈': 0, '타임스': 0, '머레이': 0, '펑신': 0, '잭업': 0, '수상장': 0, '유니겔': 0, '래어드': 0, '엑스코': 0, '주심': 0, '달마': 0, '어젠드': 0, '위웨': 0, '보데': 0, '침엽수': 0, '하디': 0, '비바람': 0, '변호': 0, '레이어': 0, '데레': 0, '스피노': 0, '장교': 0, '왕푸징': 0, '한예종': 0, '탄압': 0, '학동': 0, '노시': 0, '노소': 0, '자급': 0, '투과성': 0, '예술사': 0, '페노피브레이트': 0, '원펌': 0, '스태비': 0, '태수': 0, '일렉트론': 0, '허구': 0, '잡상인': 0, '흑색선전': 0, '뭉기놈': 0, '세면대': 0, '신경주역': 0, '광양': 0, '중졸': 0, '비염': 0, '은평': 0, '이중과세': 0, '생체인증': 0, '익큐': 0, '유근': 0, '한양여대': 0, '맏형': 0, '헐리웃': 0, '컨설팅팀': 0, '미동': 0, '김재원': 0, '강서': 0, '우주복': 0, '카나비노이드': 0, '대마불사': 0, '말걸': 0, '누코': 0, '윌슨병': 0, '코니카': 0, '미놀타': 0, '신생활': 0, '휠업': 0, '주철': 0, '투르크': 0, '망원경': 0, '휴머니겐': 0, '맥선': 0, '칼레도니아': 0, '마리에타': 0, '위저': 0, '뉴트리아': 0, '벤토': 0, '물리학': 0, '매니토바': 0, '브리타니아': 0, '디랩': 0, '위태롭다': 0, '딕스': 0, '윤쎈': 0, '환경법': 0, '본안': 0, '글씨체': 0, '산돌': 0, '일본전산': 0, '초교': 0, '위장전입': 0, '갱년기': 0, '날퀸': 0, '머지런': 0, '상아탑': 0, '장맛빛': 0, '호러': 0, '최창걸': 0, '가업': 0, '셋톱': 0, '홈시네마': 0, '부여성': 0, '왕뚜껑': 0, '샤방': 0, '더칭': 0, '나노재료': 0, '달초': 0, '뮨셀': 0, '사립학교': 0, '법치': 0, '멀티플레이': 0, '렉틴': 0, '폴더': 0, '글쓰기': 0, '모멘터스': 0, '최종협': 0, '이매티닙': 0, '스웨': 0, '암흑': 0, '탄타': 0, '명장': 0, '오르다': 0, '콘도르': 0, '국졸': 0, '어데': 0, '뚤으': 0, '장예': 0, '설령': 0, '다한': 0, '스코프': 0, '재즈': 0, '롤스': 0, '코버스': 0, '푸보트브': 0, '키파': 0, '궈리쥔': 0, '오렐': 0, '공공장소': 0, '무기고': 0, '난소': 0, '커넥터': 0, '앨곤퀸': 0, '염소자리': 0, '임뮤셀': 0, '무화과': 0, '블레이트': 0, '판매업': 0, '게임스컴': 0, '백약': 0, '김강': 0, '쿠비엔트': 0, '논병': 0, '옥쇄': 0, '임펠': 0, '중국문학': 0, '관리소': 0, '갤럭틴': 0, '하스코': 0, '젤드원': 0, '토드': 0, '컬프': 0, '치폴': 0, '멕시칸': 0, '허버': 0, '오르가논': 0, '윈톈화': 0, '코르도바': 0, '이도윤': 0, '온수': 0, '아프간': 0, '앞길': 0, '테마섹홀딩스': 0, '어도비': 0, '랍코': 0, '에비타': 0, '바이틸리': 0, '외팔': 0, '계순': 0, '홍범도': 0, '탑인': 0, '광로': 0, '크리오': 0, '토스트': 0, '까르보': 0, '투법': 0, '소음': 0, '채집': 0, '디네': 0, '에어리얼': 0, '퇴역군인': 0, '젠트': 0, '라이트닝': 0, '알칼리성': 0, '엘파소': 0, '진압': 0, '업스': 0, '코트로네': 0, '리둥': 0, '디펜스': 0, '원근': 0, '다리미': 0, '슐츠': 0, '젬펄리': 0, '진능': 0, '경화': 0, '보아오': 0, '발기': 0, '항차': 0, '발라': 0, '엄민용': 0, '공시송달': 0, '추완항소': 0, '아하': 0, '씨게이트': 0, '탈레반': 0, '태후': 0, '로블록스': 0, '횡보할': 0, '보안사령부': 0, '페트로스': 0, '우드사이드': 0, '엑설런트': 0, '남동쪽': 0, '후생': 0, '박병창': 0, '장석': 0, '밍강': 0, '징펑': 0, '바드윈': 0, '바스크': 0, '코시': 0, '교차점': 0, '젠팅': 0, '경상남도': 0, '합천군': 0, '쌍백면': 0, '런웨이': 0, '해비타트': 0, '독립유공자': 0, '후손': 0, '원텍': 0, '유석': 0, '임차보증금': 0, '주른': 0, '역술': 0, '사주팔자': 0, '정태영': 0, '가죽': 0, '대충돌': 0, '유택': 0, '필링': 0, '지정학': 0, '서우': 0, '게임화': 0, '사티스': 0, '락찰': 0, '창부': 0, '팔았슴': 0, '전범': 0, '디다': 0, '아프카니스탄': 0, '사물통신': 0, '페노코린': 0, '전국구': 0, '비발디': 0, '분도': 0, '일반의약품': 0, '천일': 0, '장사동': 0, '팀업': 0, '미드랜드': 0, '메디케이드': 0, '원자력공학': 0, '모리스빌': 0, '화냉': 0, '폴리스': 0, '산토리': 0, '쑨훙': 0, '역임': 0, '엘살바도르': 0, '페라라': 0, '준보호': 0, '겐팜': 0, '오데빅시밧': 0, '막말': 0, '공든탑': 0, '젠더': 0, '자오칭': 0, '샹수지': 0, '미네소타주': 0, '프레리': 0, '키네': 0, '살구': 0, '년치': 0, '윤관': 0, '빛과': 0, '최선영': 0, '체재': 0, '임대차보증금': 0, '넷온': 0, '빵점': 0, '전도사': 0, '늦캉스': 0, '압류': 0, '내사': 0, '박계현': 0, '도공': 0, '오픈카': 0, '남궁훈': 0, '선앤': 0, '메가딜': 0, '프리스타일': 0, '페노피': 0, '한동대': 0, '티맥스소프트': 0, '옥용': 0, '하버드대': 0, '코닌': 0, '일침': 0, '도철': 0, '객차': 0, '오리콘': 0, '밀워키': 0, '스펙트라렙': 0, '다모아': 0, '삽시간': 0, '신동진': 0, '방배': 0, '슈퍼히어로': 0, '혁신단': 0, '명작': 0, '쿼바디스': 0, '농협카드': 0, '팬포틴': 0, '미술관': 0, '시딩': 0, '재물': 0, '류단': 0, '엠랩': 0, '회중': 0, '스탁킹': 0, '진지': 0, '뭍습니': 0, '삭기': 0, '완자': 0, '디뉴': 0, '재향군인회': 0, '농락': 0, '명상': 0, '코끼리': 0, '집객': 0, '화재보험': 0, '박완주': 0, '환차': 0, '론칭하': 0, '쉐프': 0, '특공받': 0, '윤주': 0, '더춈미': 0, '오픈월드': 0, '미혼모': 0, '종진': 0, '연예기획사': 0, '유플래닛': 0, '세토웍스': 0, '리투아니아': 0, '싸드식': 0, '정보기기': 0, '홍보단': 0, '불화수소': 0, '불스': 0, '풍진': 0, '용해도': 0, '폭발물': 0, '큐넷': 0, '타임특': 0, '쥬라기': 0, '캅스': 0, '조부': 0, '허영준': 0, '손아귀': 0, '불가라': 0, '합성수지': 0, '열분해': 0, '김민준': 0, '구사일생': 0, '차단됨': 0, '비행장': 0, '위윈': 0, '스플렌디드': 0, '투티코린': 0, '제책': 0, '기성': 0, '스레이': 0, '시난': 0, '퀼리': 0, '젬백스앤카엘': 0, '윤건영': 0, '황교익': 0, '영재교육': 0, '그림책': 0, '열띤': 0, '라플라스': 0, '장범': 0, '곱셈': 0, '구구': 0, '벡투라': 0, '둥웨': 0, '미들로디언': 0, '예방주사': 0, '화뎬': 0, '론타': 0, '호아킨': 0, '로드아일랜드': 0, '쯔후이': 0, '펠드먼': 0, '징넝': 0, '텔스': 0, '감위': 0, '아프가니스탄': 0, '테러리스트': 0, '맏딸': 0, '슬링': 0, '자연계': 0, '치프': 0, '화이팅': 0, '여군': 0, '강간': 0, '블랙위도우': 0, '조핸슨': 0, '펜트라움': 0, '퓨런': 0, '차폐': 0, '아이네임즈': 0, '파모티딘': 0, '도보': 0, '락토페린': 0, '갤폴드': 0, '자드': 0, '소녀시대': 0, '태연': 0, '생크림': 0, '앰버': 0, '소니뮤직': 0, '포츠': 0, '항모': 0, '흡충': 0, '의외': 0, '술렁': 0, '한혜진': 0, '최선화': 0, '앤셀': 0, '간병': 0, '올림플래닛': 0, '월출산': 0, '국립공원': 0, '샤오짠': 0, '색출': 0, '신정식': 0, '고령신씨': 0, '낯선': 0, '어서': 0, '맥퍼슨': 0, '씨누': 0, '리메겐': 0, '오렌시': 0, '성주식': 0, '수산화': 0, '재천': 0, '란세스': 0, '루이사': 0, '쉐인': 0, '본체': 0, '프로비저닝': 0, '샹펑': 0, '아디': 0, '야마다': 0, '오비트': 0, '완톈칭': 0, '헝통광': 0, '틴치': 0, '성웅': 0, '플루오린': 0, '분원': 0, '안재욱': 0, '롤렉스': 0, '손랩스': 0, '배리': 0, '콕핏': 0, '머터': 0, '백윤식': 0, '태민': 0, '일인': 0, '어딧어': 0, '천조원': 0, '경축': 0, '나니': 0, '화재원인': 0, '축전지': 0, '리관펑': 0, '리투스': 0, '용홍': 0, '통첩': 0, '재협': 0, '스티로폼': 0, '부표': 0, '씨앤피': 0, '기정': 0, '코빈스': 0, '인드': 0, '코프코': 0, '윤기': 0, '요금소': 0, '중고품': 0, '화롄': 0, '바하마': 0, '홍리': 0, '협착증': 0, '테네시주': 0, '심양': 0, '괴어텍사': 0, '이코노믹': 0, '착시현상': 0, '이민구': 0, '더브릿지': 0, '아성': 0, '베네딕토': 0, '의전': 0, '보카': 0, '익사': 0, '장사꾼': 0, '좃문가들': 0, '급보': 0, '딴곳갔쥬': 0, '용건': 0, '날굿': 0, '내뤼쉐': 0, '패가': 0, '미온': 0, '똥물': 0, '어후': 0, '쿠디언': 0, '등뒤': 0, '보이저': 0, '멱살': 0, '치전': 0, '스코티': 0, '십여': 0, '지열발전': 0, '하몬': 0, '냉각탑': 0, '사렐토': 0, '아스피린': 0, '사흐스': 0, '슐먼': 0, '제철엔지니어링': 0, '차이나타운': 0, '천만원': 0, '고수면': 0, '옹이': 0, '다시깜방': 0, '충새': 0, '디젤엔진': 0, '이뮨메드': 0, '총보': 0, '아귀': 0, '투자계획서': 0, '소프': 0, '루퍼': 0, '걸스': 0, '꼬리날개': 0, '웹캠': 0, '험로': 0, '번국': 0, '나가스': 0, '빅베슬': 0, '물약': 0, '투모로우': 0, '소셜커머스': 0, '김성운': 0, '나디아': 0, '인덕원': 0, '자물쇠': 0, '위폐': 0, '대사성': 0, '우리동네': 0, '본선': 0, '셀비': 0, '보이스': 0, '텀블벅': 0, '정청래': 0, '제명': 0, '리벤처스': 0, '세이브더칠드런': 0, '아동권리': 0, '울핏': 0, '리핏': 0, '전시관': 0, '걸프스트림': 0, '심전': 0, '도기': 0, '도안신도시': 0, '애디드': 0, '전판': 0, '범호': 0, '유명순': 0, '비앤비': 0, '비오비': 0, '염색': 0, '마퓨레': 0, '단색': 0, '파이낸셜뉴스': 0, '자일링스': 0, '언텍스': 0, '버트': 0, '임순영': 0, '참말': 0, '요런': 0, '솔이': 0, '민경욱': 0, '뭣땜': 0, '급매': 0, '도지사': 0, '틀렷': 0, '밀탑': 0, '좌천': 0, '콤넷': 0, '역정보': 0, '뉴코': 0, '소풍': 0, '산기': 0, '언택트써밋': 0, '언택스': 0, '체증': 0, '이병헌': 0, '전자상품권': 0, '박세리': 0, '텍스쳐': 0, '넥사크': 0, '컴퓨터그래픽': 0, '퀄리티딜': 0, '애디슨오퍼월': 0, '사감': 0, '스페셜포스': 0, '리전': 0, '몬스터즈': 0, '리먼': 0, '감가상각비': 0, '조력자': 0, '기지원': 0, '상습': 0, '지하도': 0, '원드포바이오텍': 0, '갈망': 0, '임서': 0, '위슨': 0, '푸넝': 0, '펑상시': 0, '칭따오': 0, '리시아': 0, '분해자': 0, '리소좀': 0, '쑨톈': 0, '자인': 0, '민신': 0, '샬트바우': 0, '쉬르': 0, '칸톤': 0, '발링': 0, '페임': 0, '시자좡': 0, '프론티': 0, '김태오': 0, '장강': 0, '일몰': 0, '금융정보분석원': 0, '민샨': 0, '웨스턴디지털': 0, '두산연강재단': 0, '피누': 0, '자프란': 0, '의주': 0, '첸밍': 0, '화란': 0, '조상': 0, '샹렌쟈': 0, '화웬': 0, '오크빌': 0, '아이젠': 0, '장정': 0, '크리어': 0, '젠선': 0, '니니': 0, '후징': 0, '서동': 0, '특단책': 0, '소양증': 0, '공평동': 0, '박만': 0, '내집마련': 0, '채시라': 0, '김태욱': 0, '상흔': 0, '원지': 0, '계명': 0, '자칫하면': 0, '섭립': 0, '바이오인증': 0, '야구선수': 0, '최성민': 0, '방송사': 0, '범접': 0, '독차지': 0, '블앤': 0, '체형': 0, '시계열': 0, '플래시': 0, '불소': 0, '칼론': 0, '모뎀': 0, '아테나스': 0, '잡스': 0, '범주': 0, '딩리': 0, '간앤': 0, '치정': 0, '전자광학': 0, '톈윈': 0, '보루': 0, '입법조사처': 0, '라운드테이블': 0, '콰이칸': 0, '어드밴스트': 0, '징냉': 0, '샘랩': 0, '웹택트': 0, '수수방관': 0, '안톤': 0, '평원': 0, '겨볍': 0, '콩알': 0, '호박': 0, '발화': 0, '풋잡': 0, '상폐각': 0, '마다': 0, '쉑이덜': 0, '핀셋': 0, '세일즈포스닷컴': 0, '고섬': 0, '지론': 0, '고등학생': 0, '동두천': 0, '차환용': 0, '엘쥐': 0, '룬투': 0, '허리케인': 0, '도속': 0, '약골': 0, '강골': 0, '은행나무': 0, '경희대학교': 0, '경찰관': 0, '하동군': 0, '보원': 0, '김태범': 0, '홈퍼니처': 0, '코알라': 0, '카이로프랙틱': 0, '탕정': 0, '두드림': 0, '씨주': 0, '원작': 0, '노른자위': 0, '앤컴': 0, '서천': 0, '입양': 0, '송현동': 0, '노을': 0, '초로': 0, '메딕': 0, '추척단': 0, '더비': 0, '이문': 0, '편리': 0, '압착': 0, '로윈': 0, '푸펑': 0, '딩웅쥔': 0, '쵸우': 0, '트렌트': 0, '샹그릴라': 0, '호야': 0, '퍼버': 0, '피첼': 0, '아부': 0, '일본우편': 0, '캐디': 0, '하이랜더': 0, '카탈루엔트': 0, '카탈': 0, '수생': 0, '포티지': 0, '타원형': 0, '닛신식품': 0, '은화': 0, '농무렌': 0, '딩둥': 0, '리도카인': 0, '옥테': 0, '중딩': 0, '톈루이샹': 0, '투야': 0, '반옌': 0, '렁탁호': 0, '치어윈': 0, '사브': 0, '홈스': 0, '임웹': 0, '드빌': 0, '이동건': 0, '자궁경부': 0, '임종윤': 0, '트랜스폰더': 0, '변인': 0, '쉬발쉐기들': 0, '안되넹': 0, '카르마': 0, '컨버터': 0, '엘이디': 0, '넷이즈': 0, '유성구': 0, '고량': 0, '브라우저': 0, '울진': 0, '양자화': 0, '로스웰': 0, '넬로넴다즈': 0, '신금투': 0, '어헤즈': 0, '약학': 0, '고육책': 0, '교원': 0, '인뱅': 0, '뮨셀얼': 0, '지서': 0, '수원시': 0, '법정관리': 0, '아해': 0, '망상': 0, '안양시': 0, '리크루팅': 0, '일회용품': 0, '포천': 0, '동국대학교': 0, '한인': 0, '샨산': 0, '장룽센': 0, '코고': 0, '카불': 0, '배심원': 0, '벤다': 0, '뮤스틴': 0, '크리스티아누': 0, '호날두': 0, '탈리아': 0, '뉴올리언스': 0, '톈리교육': 0, '기가톤': 0, '헤베': 0, '리웍스': 0, '파텔': 0, '앨버트': 0, '버닝록': 0, '인롱': 0, '푸톈': 0, '문지': 0, '아킬레스건': 0, '푸딩': 0, '글로벌스타': 0, '체카': 0, '생계비': 0, '분가': 0, '서상원': 0, '거꾸로': 0, '유서': 0, '대장님': 0, '김창규': 0, '펜딩': 0, '위태롭': 0, '북상': 0, '제사': 0, '보헤미안': 0, '부도덕': 0, '편입학': 0, '에그드랍': 0, '농원': 0, '헴리브': 0, '역류성': 0, '식도염': 0, '하이브로': 0, '드래곤빌리지': 0, '임총': 0, '이창환': 0, '지세': 0, '문산역': 0, '양우': 0, '안애': 0, '묘포': 0, '독학': 0, '금문': 0, '원색': 0, '스텝스': 0, '늑대': 0, '국경절': 0, '앤트워프': 0, '레이즈': 0, '스태빌': 0, '셈텍': 0, '오일샌드': 0, '완예': 0, '요크': 0, '웨곤': 0, '뉴욕타임스': 0, '환제': 0, '드럼': 0, '브래디': 0, '퉁린': 0, '옥타': 0, '선힝': 0, '칸델라': 0, '비투비': 0, '아이튠즈': 0, '돈번': 0, '방심': 0, '도핑': 0, '단국대': 0, '단대': 0, '쇄신': 0, '우본': 0, '토평동': 0, '당진시': 0, '주야': 0, '분향소': 0, '신광수': 0, '수면장애': 0, '접기': 0, '비엔날레': 0, '목젖': 0, '메토프로롤': 0, '컬래버레이션': 0, '아바스': 0, '린콜': 0, '소사이어티': 0, '재축': 0, '마일리지': 0, '학장': 0, '구하라': 0, '강요': 0, '핵연료': 0, '장차': 0, '영속': 0, '한층': 0, '쌓이네': 0, '서지희': 0, '에프엑스': 0, '충청북도교육청': 0, '기댜': 0, '배단': 0, '겸허': 0, '길산': 0, '오열': 0, '유족': 0, '스모프': 0, '디컴퍼니': 0, '애정': 0, '의과': 0, '김우주': 0, '아이언돔': 0, '샨샨': 0, '적수': 0, '한가위': 0, '퀀타': 0, '그리핀': 0, '음포넝': 0, '게르': 0, '유누스': 0, '불기': 0, '빙야': 0, '반스앤드노블': 0, '립법': 0, '녹색건축': 0, '총파업': 0, '매스틱': 0, '크래프톤판': 0, '스타크래프트': 0, '옌청': 0, '차터드': 0, '실란트': 0, '괴씸': 0, '혼너': 0, '느덜': 0, '숏커버링': 0, '뭐햐': 0, '게다': 0, '반칙': 0, '외계인': 0, '밀키웨이': 0, '쌍봉': 0, '존버가자': 0, '더글라스': 0, '퀘일': 0, '버팔로': 0, '콜란': 0, '완죤': 0, '엉덩이': 0, '양산가': 0, '헛빵': 0, '지방정부': 0, '빼기': 0, '버려진': 0, '수트': 0, '디자인권': 0, '체어': 0, '승록': 0, '청장': 0, '선패': 0, '소듐': 0, '자비': 0, '로나': 0, '트랜디': 0, '송파': 0, '구청': 0, '서정욱': 0, '압출용': 0, '발렛': 0, '하이픈': 0, '최동현': 0, '투달봇': 0, '독립기념일': 0, '동철': 0, '안동시': 0, '라디안': 0, '돈스코이': 0, '인의': 0, '어벤저스': 0, '고장': 0, '만이': 0, '음지': 0, '트랙리스트': 0, '최영섭': 0, '전병': 0, '복장': 0, '버킨백': 0, '해금': 0, '정규앨범': 0, '천창룡의': 0, '복구할런': 0, '바인더': 0, '이건재': 0, '펀인터렉티브': 0, '거미줄': 0, '손발': 0, '정우': 0, '산업대': 0, '이노텍': 0, '의아': 0, '인벤션': 0, '옌쿤': 0, '칭위안': 0, '백업': 0, '항민': 0, '컨티넨탈': 0, '궈민': 0, '쳉쉐런': 0, '훙샹': 0, '스힐': 0, '테라스하우스': 0, '프레이': 0, '퀀덤': 0, '이명학': 0, '진정제': 0, '운암': 0, '망라': 0, '폴짝': 0, '박제': 0, '국교': 0, '포스코플랜텍': 0, '위코': 0, '헤게모니': 0, '룽핑': 0, '캠버': 0, '사익편취': 0, '형국': 0, '골연화증': 0, '중계로': 0, '테니스': 0, '허스': 0, '해협': 0, '커미션': 0, '초희': 0, '귀성': 0, '루가노': 0, '보고르': 0, '마스터즈': 0, '체임벌린': 0, '어슐': 0, '수르': 0, '해조류': 0, '특명': 0, '아퀼': 0, '염기': 0, '리샹밍': 0, '중만': 0, '웬디': 0, '콩기름': 0, '닛포': 0, '도교': 0, '블론': 0, '앨리': 0, '임베디드': 0, '엑센츄어': 0, '게보': 0, '루번': 0, '탄화수소': 0, '커트': 0, '레이싱카': 0, '모시': 0, '어사': 0, '포텐자': 0, '최위승': 0, '확증': 0, '기밀': 0, '문학': 0, '엠피제': 0, '해은켐텍': 0, '엔츠': 0, '포켓몬': 0, '사업가': 0, '뱀파이어': 0, '오랄': 0, '대나무': 0, '칫솔': 0, '복강': 0, '신역': 0, '국민임대주택': 0, '소송도': 0, '홍씨': 0, '폴디드폰': 0, '장하': 0, '알마인드': 0, '비색': 0, '계백': 0, '구태': 0, '곽경택': 0, '앤뉴': 0, '생체재료': 0, '이명근': 0, '온홀딩': 0, '야홍': 0, '모다모다': 0, '광역단체장': 0, '김영록': 0, '런닝맨': 0, '팬미팅': 0, '김종우': 0, '민지': 0, '이갑용': 0, '불장난': 0, '엠투아이': 0, '작업중': 0, '박동': 0, '혜강': 0, '애걸': 0, '월킷': 0, '코헨': 0, '애브비로': 0, '김승제': 0, '와우넷': 0, '재학생': 0, '황동': 0, '겜플': 0, '킨터': 0, '칸토어': 0, '워터포드': 0, '부작': 0, '캔델': 0, '힐테퀴티': 0, '왕싱': 0, '원소': 0, '악티늄': 0, '가우': 0, '펠릿': 0, '퀘민': 0, '홍파': 0, '군기': 0, '바이론': 0, '이충': 0, '미추홀': 0, '심태진': 0, '외양': 0, '맥북': 0, '정현규': 0, '똥줄': 0, '경서': 0, '처사': 0, '본색': 0, '엡실론': 0, '리무': 0, '혈중': 0, '희원': 0, '니베아': 0, '리굿': 0, '성경': 0, '명지대': 0, '액츄에이터': 0, '고발장': 0, '감용': 0, '처부': 0, '동침': 0, '밀리그램': 0, '출퇴근': 0, '아리송': 0, '국민의례': 0, '감승탁': 0, '세계박람회': 0, '충청북도': 0, '음성군': 0, '나날이': 0, '강승준': 0, '허공': 0, '항량': 0, '오크스': 0, '비터': 0, '쿠테타': 0, '왕성': 0, '점원': 0, '패커블': 0, '하이랜드': 0, '간저우': 0, '양위': 0, '안칭': 0, '에어라인': 0, '데릭': 0, '북투': 0, '김준규': 0, '외톨이': 0, '따블': 0, '교토의정서': 0, '번쩍': 0, '김동화': 0, '인수위': 0, '앞뒤': 0, '관롱': 0, '관력': 0, '코예': 0, '주사위': 0, '로키': 0, '거저': 0, '적격주주': 0, '롬버드': 0, '왕무칭': 0, '선스': 0, '과잉반응': 0, '트레이딩팀': 0, '필수품': 0, '그대': 0, '취해': 0, '춘추전국': 0, '태평천하': 0, '조선족': 0, '탈북민': 0, '자오케': 0, '부캐': 0, '선유': 0, '선라이즈': 0, '솔깃': 0, '주렁주렁': 0, '헝신': 0, '샴발라': 0, '애덜': 0, '대략': 0, '양일': 0, '튜머': 0, '팬클럽': 0, '기축통화': 0, '뉴사우스웨일즈': 0, '틸팅': 0, '모로': 0, '꿰찰까': 0, '자회스': 0, '후추': 0, '포에버': 0, '청천벽력': 0, '끼린': 0, '루블': 0, '섹션': 0, '정촌': 0, '토마호크': 0, '지산동': 0, '낙원': 0, '동병상련': 0, '백억': 0, '리튬전지': 0, '마장면': 0, '조성은': 0, '원한': 0, '얼떨결': 0, '피에몬테': 0, '가기': 0, '아베노믹스': 0, '렌렌': 0, '포선': 0, '후이촨': 0, '웨이팡': 0, '엘렉': 0, '무역흑자': 0, '크리스마스': 0, '영화사': 0, '상피세포': 0, '선난펑': 0, '하부구조': 0, '초승달': 0, '레지옹': 0, '영양학': 0, '기침': 0, '베이타운': 0, '선디': 0, '말라야': 0, '수막염': 0, '레드우드': 0, '베란다': 0, '도요다': 0, '학점': 0, '던컨': 0, '탁시': 0, '얌완풍': 0, '노동조합': 0, '국유철도': 0, '테일즈': 0, '쿠키': 0, '불순': 0, '탁상': 0, '학익': 0, '종로타워': 0, '샌델': 0, '심리학자': 0, '무당': 0, '과표': 0, '화정': 0, '더립': 0, '냉탕': 0, '성형': 0, '이모탈': 0, '베타테스트': 0, '족발': 0, '논산시': 0, '대교동': 0, '문간': 0, '투디지트': 0, '결정화': 0, '더챔버': 0, '생공연': 0, '이상갑': 0, '공행': 0, '성취': 0, '콜드플레이': 0, '짱구': 0, '체법': 0, '인말샛': 0, '코핀': 0, '시민사회': 0, '노머스': 0, '마그넷': 0, '계승': 0, '침프': 0, '잠복': 0, '구미대': 0, '흠집': 0, '도취': 0, '번화가': 0, '동성로': 0, '웅장': 0, '대관람차': 0, '불빛': 0, '핍박': 0, '최정': 0, '명부': 0, '꿰차': 0, '꿰찼다': 0, '아셈': 0, '생활자': 0, '의창': 0, '인트렉트파마': 0, '가성소다': 0, '실바': 0, '티켓팅': 0, '첨탑': 0, '누웰': 0, '닥치': 0, '도이치방크': 0, '연기설': 0, '인티': 0, '진청': 0, '프란체스코': 0, '탄지': 0, '벡투': 0, '인듀어런스': 0, '춘장': 0, '켐원': 0, '아폴로사': 0, '보이스카우트': 0, '노르망디': 0, '류정': 0, '시베이': 0, '미해결': 0, '환경문제': 0, '그리스도': 0, '교회': 0, '장조': 0, '옐런이어': 0, '방정': 0, '재선거': 0, '주상영': 0, '포촌': 0, '착륙선': 0, '학부': 0, '줏대': 0, '형설': 0, '전문대': 0, '콘감소웅': 0, '다대': 0, '옥죈다': 0, '국감': 0, '증인': 0, '프로필렌': 0, '공갈빵': 0, '용병': 0, '상큼': 0, '배용준': 0, '점핑': 0, '렌탈페이': 0, '민주공화국': 0, '샨샨그룹': 0, '편광판': 0, '셰어스': 0, '윤혁': 0, '팔다리': 0, '동석': 0, '썰전': 0, '엠파이어스테이트': 0, '암피온': 0, '호프만': 0, '스텔러': 0, '개원': 0, '월앤': 0, '불도저': 0, '김홍식': 0, '코픽스': 0, '리비옴': 0, '엡손': 0, '아이스링크': 0, '말보로': 0, '준용': 0, '온유': 0, '기출': 0, '허위기사': 0, '게쉘키': 0, '란런': 0, '튜드': 0, '모터사이클': 0, '에세': 0, '비맵': 0, '장쉬': 0, '전자전': 0, '포슬러': 0, '조제': 0, '전학': 0, '런루이': 0, '링시': 0, '방케': 0, '중국철도부': 0, '미디어셋': 0, '룬딘': 0, '특별대우': 0, '텔레메드': 0, '멍충': 0, '황차': 0, '캤드': 0, '어처구니': 0, '날조': 0, '심약': 0, '삽입': 0, '타케다': 0, '억수': 0, '진즉': 0, '전멸': 0, '슈워': 0, '츠먼': 0, '케이뉴트': 0, '영광군': 0, '정확성': 0, '자광국': 0, '전화번호': 0, '정운용': 0, '더치': 0, '브로스': 0, '전주대': 0, '롯케': 0, '수명': 0, '태준': 0, '파인메딕스': 0, '농림축산검역본부': 0, '이승조': 0, '점일': 0, '테르': 0, '대도시': 0, '백약무효': 0, '핵잠': 0, '핵사': 0, '데드머': 0, '마이코플라스마': 0, '글랜빌': 0, '체스': 0, '페트로니우스': 0, '클레이모어': 0, '리히터': 0, '야트': 0, '선암': 0, '리첸': 0, '데노': 0, '낭종': 0, '리엔지니어링': 0, '퉁샤오밍': 0, '진정후': 0, '이모작': 0, '업글': 0, '원주민': 0, '강두': 0, '비방디': 0, '가르데': 0, '중앙대': 0, '미디어잡': 0, '태왕': 0, '트랜시버': 0, '신헌': 0, '신비': 0, '수료': 0, '위문': 0, '국민임대': 0, '핵잠수함': 0, '킨온': 0, '파빌리온': 0, '거취': 0, '구리시': 0, '월계': 0, '발달장애': 0, '스페셜올림픽': 0, '도비': 0, '금곡': 0, '중앙정부': 0, '비버리힐즈': 0, '육아휴직': 0, '근로장려금': 0, '원문': 0, '힘좀': 0, '손절침': 0, '청해': 0, '봉상': 0, '헛소문': 0, '개꿀띠': 0, '패거리': 0, '렉발': 0, '원상': 0, '강호': 0, '마구': 0, '단죄': 0, '시호': 0, '돔황친': 0, '좃버': 0, '보도로': 0, '대응햐': 0, '멍청': 0, '판명': 0, '얄짤': 0, '애기': 0, '몬하': 0, '퍼뜨리': 0, '답글삼스디': 0, '삼고': 0, '아르바이트': 0, '안속': 0, '뉴수': 0, '이수환': 0, '누군가': 0, '물쩌': 0, '갈기': 0, '자슥들': 0, '하옇튼': 0, '가당': 0, '연장법': 0, '허경영': 0, '맹독': 0, '텐베거': 0, '슬롯': 0, '슬릿': 0, '노즐': 0, '기온': 0, '박준호': 0, '빈농': 0, '장롱': 0, '불철': 0, '범표': 0, '인키테': 0, '코글린': 0, '테체': 0, '펭귄': 0, '여객선': 0, '청싱': 0, '스펙트': 0, '로알드': 0, '엘론': 0, '체크아웃': 0, '서브웨이': 0, '뭐해': 0, '무파': 0, '불꽃놀이': 0, '알버트': 0, '넬넷': 0, '시빅': 0, '헌팅': 0, '연습실': 0, '오징어': 0, '우윳값': 0, '셋값': 0, '우당': 0, '슈와브': 0, '원격협진': 0, '헝다사태': 0, '조정호': 0, '마이네임': 0, '런런런': 0, '령액': 0, '총총': 0, '프로농구': 0, '마두역': 0, '승강': 0, '독산역': 0, '신현국': 0, '도은': 0, '일룸': 0, '백년': 0, '지계': 0, '짐꾼': 0, '쌈짓돈': 0, '유기한': 0, '축구팀': 0, '한신': 0, '스티그': 0, '루예': 0, '창윙': 0, '토바코': 0, '산환': 0, '짐바브웨': 0, '아파르나': 0, '치탈레': 0, '인카이트': 0, '파코': 0, '라반': 0, '궈히우팅': 0, '웨슈': 0, '노르에피네프린': 0, '페일': 0, '맥그래스': 0, '작별': 0, '덱스메데토미딘': 0, '완옌칭': 0, '합력': 0, '타이쿤': 0, '감귤': 0, '화잉': 0, '켐프': 0, '격자': 0, '배정은': 0, '일본국': 0, '전지현': 0, '주지훈': 0, '박준우': 0, '박기영': 0, '렙제': 0, '이링크': 0, '답글솔': 0, '수작': 0, '옥섬': 0, '완저우': 0, '광후': 0, '포르': 0, '퀄리티주': 0, '대속': 0, '재취': 0, '만만': 0, '곽상도': 0, '평형': 0, '옥좼': 0, '가스요금': 0, '김준영': 0, '랜들': 0, '이수연': 0, '다이크': 0, '막염': 0, '진주역': 0, '버서스': 0, '방광염': 0, '남매': 0, '취항': 0, '곽동신': 0, '뇌혈관장벽': 0, '돈육': 0, '아트리': 0, '정인국': 0, '액기': 0, '안주인': 0, '단백': 0, '베델': 0, '헌츠맨': 0, '류리훙': 0, '헝팅': 0, '야라': 0, '파톰': 0, '보노': 0, '위산': 0, '궈징빈': 0, '하이펙': 0, '안드레': 0, '사무기기': 0, '후지필름': 0, '트랜센타': 0, '소라페닙': 0, '틸리맵': 0, '가넷': 0, '순펑': 0, '색전': 0, '관상동맥': 0, '안준': 0, '호넷': 0, '일렉트렉': 0, '파체프': 0, '포르투': 0, '독암': 0, '구리지': 0, '데본': 0, '실반': 0, '특수작전': 0, '알렉산드라': 0, '찬회완': 0, '사금': 0, '푸젠궈뎬': 0, '궈뎬': 0, '잉곳': 0, '운호': 0, '베렌슨': 0, '대장동': 0, '원형': 0, '이태': 0, '김현': 0, '사진전': 0, '어젯밤': 0, '정쟁': 0, '최민': 0, '인펙스사': 0, '성희롱': 0, '능욕': 0, '까딱': 0, '예창완': 0, '레슬': 0, '띨띨': 0, '방송통신': 0, '카무르': 0, '레보틱스': 0, '향군': 0, '글뼈': 0, '에디트콜렉티브': 0, '알랩': 0, '패자부활전': 0, '사진관': 0, '중문': 0, '헤렌': 0, '공비': 0, '인심': 0, '멸종': 0, '넥실리스': 0, '울진군': 0, '하수도': 0, '구루미': 0, '연기자': 0, '메이스': 0, '슈티컬스': 0, '유지수': 0, '봉준호': 0, '독립운동가': 0, '일대기': 0, '천왕': 0, '얌랩': 0, '아이쿱': 0, '케스코': 0, '한성구': 0, '협진': 0, '불러드': 0, '안전모': 0, '닥터스': 0, '은사': 0, '코마스': 0, '엠투텍': 0, '자락': 0, '쉑들': 0, '구마': 0, '나오니': 0, '어리석음': 0, '로만': 0, '사민당': 0, '가리비': 0, '즉답': 0, '홀씨': 0, '최진환': 0, '나용': 0, '여론조작': 0, '루킹': 0, '두꺼비': 0, '화석연료': 0, '영화아카데미': 0, '야학': 0, '홉슨개발': 0, '핑안헬': 0, '충힝': 0, '뷰션': 0, '리미티드': 0, '동맥': 0, '과체중': 0, '탁스': 0, '네마': 0, '트레일': 0, '뉴스길드': 0, '애니메': 0, '내딸': 0, '썬더': 0, '칼릭스트': 0, '주취': 0, '왕훙옌': 0, '왕양': 0, '아체': 0, '아레본': 0, '술라웨시': 0, '엔코라페닙': 0, '척낭': 0, '치판': 0, '징렁': 0, '안궈': 0, '오노': 0, '콴퉁': 0, '캐플런': 0, '로젠그렌': 0, '김주원': 0, '구축함': 0, '호남대': 0, '쌍촌': 0, '가스프롬': 0, '출입국심사': 0, '천안흥타령': 0, '다기': 0, '능위': 0, '간도': 0, '경봉': 0, '얼티움셀': 0, '태블': 0, '조영제': 0, '대공황': 0, '블러드': 0, '중원': 0, '페미': 0, '신경세포': 0, '대부도': 0, '대부호': 0, '키퍼': 0, '티시': 0, '국민학교': 0, '껄무새될': 0, '한형': 0, '읍제': 0, '에갈뤼': 0, '션발': 0, '미선이': 0, '값해': 0, '최면': 0, '방판': 0, '전문학교': 0, '동래': 0, '낙민역': 0, '더시티': 0, '장가': 0, '조기상': 0, '폼페병': 0, '톰리': 0, '리윈': 0, '알카': 0, '명원': 0, '싱치': 0, '콘트': 0, '웨윈': 0, '궈쥔파': 0, '말라리아': 0, '루메판트린': 0, '칼리안': 0, '우문': 0, '탠트럼': 0, '넥세온': 0, '재사': 0, '영경': 0, '회안': 0, '동호': 0, '곰앤': 0, '클로린': 0, '동선': 0, '이자지': 0, '세명대': 0, '연극': 0, '쿠킹': 0, '드네어': 0, '친잉린': 0, '트로이카': 0, '오크니': 0, '풀링': 0, '나기브': 0, '에퀴노르': 0, '로듐': 0, '넥시온': 0, '핵폭탄': 0, '글자': 0, '예대율': 0, '비주류': 0, '은메달': 0, '라가르드': 0, '패스포트': 0, '잠금장치': 0, '삼중고': 0, '론데': 0, '달라숍': 0, '좌석': 0, '스워크': 0, '육강': 0, '화용': 0, '앨러간향': 0, '중공': 0, '업주': 0, '두뇌': 0, '코워': 0, '재산형': 0, '이재혁': 0, '혼하': 0, '스코푸스': 0, '서리': 0, '래스터': 0, '마즈다': 0, '하브': 0, '톈데': 0, '싼허': 0, '피츠패': 0, '사브리나': 0, '란초쿠카몽가': 0, '우촨': 0, '류시룽': 0, '라이엘': 0, '병가': 0, '수축': 0, '배타': 0, '데보라': 0, '절제': 0, '진크톰': 0, '탕융': 0, '그레이터': 0, '광야': 0, '하광석': 0, '바셋': 0, '데폰': 0, '섬코': 0, '노덱스': 0, '셀러론': 0, '빈트라푸프': 0, '맥키': 0, '흥이': 0, '스네일': 0, '링후': 0, '안팍': 0, '디벙크': 0, '이비자': 0, '자이르': 0, '몽키': 0, '남원': 0, '노암': 0, '허준': 0, '병사': 0, '양돈': 0, '베이컨': 0, '비기너': 0, '현질': 0, '접전': 0, '코번': 0, '후분': 0, '타키온': 0, '김응주': 0, '레보': 0, '우주비행': 0, '지지마': 0, '시속': 0, '충실': 0, '게임엔진': 0, '국정감사': 0, '다크': 0, '튜안': 0, '체슬리': 0, '허경환': 0, '격무': 0, '브릭스': 0, '페그': 0, '힐롱': 0, '포졸': 0, '루셀': 0, '오벌랜드': 0, '양쪽': 0, '지지리': 0, '루즈': 0, '캐롤라이나': 0, '네이스': 0, '독성학': 0, '회랑': 0, '스톡홀롬': 0, '오피': 0, '추장': 0, '치요': 0, '오쿠겐사': 0, '바라트': 0, '펜실베니아': 0, '사발': 0, '농경': 0, '허락': 0, '티나': 0, '코헤루스': 0, '이듬해': 0, '순삭': 0, '재영텍': 0, '버지니아주': 0, '청주시': 0, '생착': 0, '성우진': 0, '견줄': 0, '빌렛': 0, '고셔병': 0, '알제리': 0, '그누보드': 0, '난도': 0, '국악': 0, '부족함': 0, '연풍': 0, '방송인': 0, '김지혜': 0, '모현': 0, '특화평': 0, '자연환경': 0, '식물원': 0, '테디': 0, '스마트러닝': 0, '풍랑': 0, '문승욱': 0, '퍼레이드': 0, '펄서': 0, '골재': 0, '코산': 0, '새러토가': 0, '보영': 0, '이진명': 0, '원화로': 0, '캘런': 0, '샐러리탭': 0, '그레이드': 0, '코카투': 0, '트레스': 0, '환보': 0, '옵티존트름': 0, '보대': 0, '언론플레이': 0, '황인욱': 0, '권용규': 0, '물납': 0, '헝다그룹': 0, '더나인': 0, '경콘진': 0, '요충지': 0, '건축사': 0, '양평': 0, '화양녠': 0, '보니하니': 0, '이인영': 0, '맘킨더': 0, '공주대': 0, '홍원': 0, '월성': 0, '매몰비용': 0, '옥스팜': 0, '김진수': 0, '플라톤': 0, '염기서열': 0, '진선미': 0, '한글날': 0, '초대국': 0, '시루': 0, '에코랜드': 0, '임상수': 0, '청자': 0, '무모': 0, '예상외': 0, '검경': 0, '수준별': 0, '박찬': 0, '직격타': 0, '라메디텍': 0, '핸디': 0, '하문': 0, '블루투스': 0, '내몽고': 0, '병환': 0, '자부': 0, '물국감': 0, '수익모델': 0, '육봉': 0, '육만': 0, '톈츠': 0, '헬케': 0, '양치': 0, '구취': 0, '코히어런트': 0, '얼티엄셀즈향': 0, '답글견': 0, '해밍턴': 0, '굿잠': 0, '동화책': 0, '임승현': 0, '제넥솔': 0, '나주역': 0, '송곡': 0, '바울': 0, '이마티닙': 0, '블링켄': 0, '클라크': 0, '윤홍': 0, '나벨': 0, '페르': 0, '젠핀': 0, '파이크': 0, '인터체인지': 0, '모푸브': 0, '파트타임': 0, '식물학': 0, '프로브': 0, '상급': 0, '더끈': 0, '방열기': 0, '통렬': 0, '맥밀런': 0, '화학상': 0, '김한정': 0, '왕십리': 0, '블리스': 0, '보정': 0, '서호수': 0, '강민국': 0, '살림살이': 0, '강문': 0, '난이': 0, '썰렁': 0, '정감': 0, '육식': 0, '상녀러': 0, '적패': 0, '처넌': 0, '중호재': 0, '맥진': 0, '고용호': 0, '융모': 0, '성종': 0, '몰디브': 0, '스트리머': 0, '토마토': 0, '메가시티': 0, '설악': 0, '팰런쇼': 0, '현모': 0, '늦바람': 0, '천종윤': 0, '일렉트린': 0, '블렌디드': 0, '유치원': 0, '화인부동산': 0, '지게': 0, '메탄올': 0, '타운하우스': 0, '전원주택': 0, '마롱': 0, '스쾃': 0, '저서': 0, '피앤피': 0, '감서': 0, '용문역': 0, '숲속': 0, '경동대': 0, '다방': 0, '교민': 0, '랭거': 0, '가늠자': 0, '구본영': 0, '삽질': 0, '꼽는': 0, '단군': 0, '좌충우돌': 0, '대기오염': 0, '강심장': 0, '박윤기': 0, '유보영': 0, '중악재': 0, '녹조': 0, '꼬박꼬박': 0, '향균': 0, '우동': 0, '인듐': 0, '부산물': 0, '강석호': 0, '햄스터': 0, '생활고': 0, '박천웅': 0, '먼츠': 0, '슈링크': 0, '이나영': 0, '앱비앤티셀': 0, '끝일': 0, '거치': 0, '목구멍': 0, '적층': 0, '스태크': 0, '복비': 0, '양소': 0, '해즈브로': 0, '블프': 0, '하우더': 0, '대납': 0, '시체': 0, '홍대': 0, '타루': 0, '나희': 0, '맹똘': 0, '삼전도': 0, '이격덜': 0, '당췌': 0, '멍청이': 0, '노무현': 0, '해먹': 0, '패러디': 0, '다차': 0, '양병': 0, '디딤돌대출': 0, '발코니': 0, '응변': 0, '더벨': 0, '지슨': 0, '미디어윌': 0, '포지': 0, '달님이': 0, '영샹': 0, '항혈': 0, '알더': 0, '수재': 0, '귀농': 0, '성공사례': 0, '김장': 0, '선결': 0, '해악': 0, '효험': 0, '정문': 0, '김봉관': 0, '월드비전': 0, '이덕주': 0, '후원자': 0, '피어스': 0, '르완다': 0, '쾌적': 0, '의족': 0, '한정원': 0, '무쇠': 0, '질량분석기': 0, '크레온': 0, '임기응변': 0, '김회재': 0, '다이옥신': 0, '최하': 0, '집주인': 0, '중탄산': 0, '베네시안': 0, '범식': 0, '이그니스': 0, '근심': 0, '이종성': 0, '소양강댐': 0, '퍼주': 0, '허종': 0, '왕창': 0, '제기동': 0, '고민정': 0, '삼삼': 0, '샤프': 0, '슈터': 0, '아르떼': 0, '정풍운동': 0, '숙청': 0, '이은택': 0, '아파텔': 0, '상담사': 0, '매출원가': 0, '파지': 0, '승관': 0, '티부': 0, '이명박': 0, '파인트': 0, '스케치': 0, '시금': 0, '파오': 0, '의사소통': 0, '김규정': 0, '썬프로텍': 0, '위험수위': 0, '가뜩이나': 0, '과욕': 0, '충고': 0, '쓱쓱': 0, '새비지': 0, '루엠': 0, '강동진': 0, '지분매도': 0, '삼고초려': 0, '기악': 0, '부산광역시': 0, '넥솔': 0, '고려대역': 0, '선의': 0, '원심력': 0, '이의제기': 0, '알투': 0, '다모': 0, '일리아스': 0, '우릴': 0, '재형': 0, '급승': 0, '양치기': 0, '자강': 0, '준정부기관': 0, '곳꼴': 0, '림비': 0, '문학동네': 0, '췌염': 0, '아이파크몰': 0, '판매정지': 0, '자보': 0, '알투프러스': 0, '배움터': 0, '장기기증': 0, '자책': 0, '노트패드': 0, '박상순': 0, '컨탬포러리': 0, '오드': 0, '아워스': 0, '동대문구': 0, '합성생물학': 0, '훈풍불까': 0, '이창섭': 0, '마님': 0, '상책': 0, '구매력': 0, '차력': 0, '커크': 0, '멸종위기': 0, '수달': 0, '개밥그릇': 0, '체온': 0, '고정수': 0, '그렙': 0, '라시티': 0, '심폐소생': 0, '소문내기': 0, '창작': 0, '윤재갑': 0, '마사회': 0, '경마': 0, '성준': 0, '끄렘드라끄렘': 0, '브비': 0, '답글꼬': 0, '맹인': 0, '가글': 0, '상추': 0, '안영진': 0, '박상현': 0, '땐데': 0, '전세계약': 0, '좇다': 0, '슬개골': 0, '보호대': 0, '내숭녀': 0, '시집': 0, '정성태': 0, '해독제': 0, '식탁': 0, '용달': 0, '화물자동차': 0, '어쨌든': 0, '통째': 0, '완결': 0, '덕수궁': 0, '로카앱': 0, '교장': 0, '루벤스': 0, '한드': 0, '마세라티': 0, '한상대': 0, '가팔랐다': 0, '윤순': 0, '양도성예금증서': 0, '퍼부었': 0, '배당락일': 0, '이혜인': 0, '금투세': 0, '빼곡': 0, '마이웨이': 0, '숏충': 0, '꿀젬': 0, '스트레칭': 0, '조세심판원': 0, '보체': 0, '코플랜드': 0, '앱추척': 0, '사일로': 0, '무빙': 0, '요닥': 0, '대표소송': 0, '원종동': 0, '적격대출': 0, '쓸모': 0, '인포테인먼트': 0, '김용현': 0, '인비저닝': 0, '쟌스빌': 0, '노지': 0, '대성마이맥': 0, '영농': 0, '온라인강좌': 0, '스파오': 0, '리슬': 0, '파자마': 0, '과기원': 0, '권성동': 0, '소시': 0, '포경수술': 0, '입상': 0, '최석림': 0, '핑크리본': 0, '애머릿': 0, '투린': 0, '선복량': 0, '알레르기비염': 0, '청색': 0, '카피캣': 0, '엠인터렉티브': 0, '뉴욕타임즈': 0, '태완': 0, '치산': 0, '중국본토': 0, '강석환': 0, '마힌드라': 0, '허강': 0, '문자메시지': 0, '가드닝': 0, '제전': 0, '브랜치': 0, '연애': 0, '밀리언셀러': 0, '셋업': 0, '언더퍼폼': 0, '트램': 0, '플란트': 0, '맥북프로': 0, '포경': 0, '과중': 0, '상근': 0, '등산로': 0, '스터스': 0, '보닥': 0, '플레이스토어': 0, '가덕산': 0, '엠인터랙티브': 0, '엘텍': 0, '성김': 0, '펀더멘탈': 0, '김포시': 0, '솔감': 0, '안처': 0, '중층': 0, '밀컨': 0, '앰넷': 0, '성별': 0, '비회': 0, '저회': 0, '장형': 0, '구래동': 0, '타령': 0, '넥티': 0, '로앤': 0, '딕스젠': 0, '아든': 0, '로엔': 0, '산합': 0, '명운': 0, '월러': 0, '연구개': 0, '밀양시': 0, '청도면': 0, '조청': 0, '함덕': 0, '장자': 0, '중수로': 0, '체성': 0, '부감': 0, '유오성': 0, '장혁': 0, '더피알': 0, '몰카': 0, '신정동': 0, '치환술용': 0, '기립': 0, '장려상': 0, '블린튼': 0, '외유': 0, '조거': 0, '팬츠': 0, '론진': 0, '인천광역시': 0, '체육복': 0, '리미트': 0, '박웅': 0, '군사정부': 0, '외세': 0, '임반': 0, '빙하': 0, '김성철': 0, '십일': 0, '보맙': 0, '백석': 0, '더이누스': 0, '누스': 0, '구조체': 0, '원자력발전': 0, '빌리브': 0, '모카': 0, '심준': 0, '리하': 0, '서울숲': 0, '수초': 0, '한경대': 0, '김혁': 0, '석좌교수': 0, '월례': 0, '렉사': 0, '부동산경매': 0, '무분별': 0, '프로파일링': 0, '지급유예': 0, '특금': 0, '핑퐁': 0, '렉트린': 0, '발사성공': 0, '정강': 0, '용인시': 0, '국법': 0, '지렛대': 0, '인생역전': 0, '비엣콤': 0, '엄빌리칼': 0, '광명성': 0, '크리스피크림': 0, '듀레이션': 0, '퀄스': 0, '러몬': 0, '신동우': 0, '안승': 0, '나로호': 0, '여의': 0, '드리머': 0, '출제': 0, '공과금': 0, '거시경제': 0, '피파랭킹': 0, '신당': 0, '송문현': 0, '훈풍부': 0, '박철민': 0, '조폭': 0, '성질': 0, '흐흐': 0, '배정수': 0, '바렛': 0, '조창': 0, '비상발전기': 0, '양상추': 0, '햄버거': 0, '제입': 0, '털린': 0, '낸시': 0, '생식기': 0, '이동현': 0, '섯거': 0, '만듭': 0, '첫방송': 0, '큐업': 0, '유니버셜': 0, '산화철': 0, '한빛원전': 0, '자두': 0, '배수지': 0, '푸르덴셜생명': 0, '우영': 0, '디도스': 0, '김부겸': 0, '피크닉': 0, '예방프로그램': 0, '나이라': 0, '두절': 0, '페탈': 0, '퀼트': 0, '불능': 0, '결점': 0, '지구인': 0, '장례': 0, '파나소닉': 0, '산서': 0, '리너': 0, '영통': 0, '프론': 0, '엘스비어': 0, '공생': 0, '씨엠': 0, '코쿠': 0, '이희': 0, '르부르': 0, '서프보드': 0, '엔텀': 0, '부여군': 0, '노벨상': 0, '생필품값': 0, '모럴': 0, '해저드': 0, '조던': 0, '소더비': 0, '펀디쿱': 0, '두리': 0, '화런치업': 0, '지역구': 0, '소년원': 0, '콘셉트': 0, '도매꾹': 0, '이성남': 0, '최선일': 0, '입력장치': 0, '넷감': 0, '로스쿨': 0, '이승원': 0, '박영환': 0, '디캐프리오': 0, '턱끝': 0, '킨슨': 0, '절수': 0, '윤택': 0, '콕픽': 0, '차저': 0, '비가역': 0, '탄산칼륨': 0, '레빌': 0, '우주정거장': 0, '대포통장': 0, '냉각기': 0, '소룡': 0, '헤마토팜': 0, '평산동': 0, '무선주파수': 0, '엄궁': 0, '일부분': 0, '자축': 0, '필사': 0, '방어선': 0, '쟁점별': 0, '메이저리그': 0, '김학재': 0, '사무라이': 0, '킨앤파트너스': 0, '근로시간': 0, '혜성': 0, '에피톤': 0, '쏘렌토': 0, '슬로': 0, '케터링': 0, '언택트톡': 0, '포브스': 0, '계사': 0, '소연': 0, '콜벳': 0, '우측': 0, '수헤주': 0, '케이웨더': 0, '사진작가': 0, '이재윤': 0, '이일천': 0, '요리': 0, '쿡스': 0, '스픽': 0, '입익': 0, '떼창': 0, '출퇴근길': 0, '김형일': 0, '확연': 0, '평탄': 0, '밈주식': 0, '바르셀로나': 0, '농업협동조합': 0, '협악': 0, '비에날씬': 0, '김지민': 0, '무허가': 0, '애드포러스': 0, '과분': 0, '정취': 0, '근교': 0, '당일치기': 0, '알파카': 0, '르망': 0, '채소': 0, '식단': 0, '장기이식': 0, '나노리': 0, '특가할': 0, '더끌': 0, '카렌듈': 0, '정희': 0, '국빈': 0, '오늘아침': 0, '국고금': 0, '수납': 0, '헤라': 0, '드림코리아': 0, '먀감': 0, '포이즌필': 0, '팬더스': 0, '조끼': 0, '답안': 0, '나보': 0, '도미니카공화국': 0, '셀피': 0, '콕시듐': 0, '애터': 0, '플래닝': 0, '어로': 0, '병점역': 0, '풍차': 0, '놀부': 0, '엠디뮨': 0, '미콘': 0, '김연수': 0, '최윤석': 0, '배움': 0, '태권도': 0, '하이디': 0, '관서': 0, '주름살': 0, '공표': 0, '홍진영': 0, '취약점': 0, '백미': 0, '핼러윈': 0, '하이힐': 0, '버컷': 0, '시바이누': 0, '참어': 0, '진펑커': 0, '종잡': 0, '융기': 0, '훈풍탔다': 0, '라우팅': 0, '성균관': 0, '다국적기업': 0, '광해': 0, '학내': 0, '티코': 0, '서민이': 0, '백현동': 0, '핼러윈데이': 0, '유투브': 0, '루테': 0, '권태민': 0, '원자력병원': 0, '광범위': 0, '베빅': 0, '블랙먼데이': 0, '지라': 0, '중질': 0, '등유': 0, '롱셀': 0, '인스젠': 0, '범한': 0, '언노운': 0, '문종': 0, '안도영': 0, '주둥아리': 0, '불가리아': 0, '홀더': 0, '신동아': 0, '라이온하트': 0, '동인동': 0, '아침식사': 0, '차리기': 0, '직불': 0, '김재영': 0, '장티푸스': 0, '얍엑스넷': 0, '미혼': 0, '서머타임': 0, '홍재근': 0, '산차': 0, '전광': 0, '회신': 0, '이콘': 0, '유영상': 0, '빔업': 0, '측위': 0, '판틸': 0, '로고스': 0, '모꼬지': 0, '슬래시': 0, '라리가': 0, '프렌들리': 0, '침구': 0, '펫증': 0, '피복': 0, '밋플': 0, '이동준': 0, '양광': 0, '산사': 0, '스페셜리스트': 0, '위펀': 0, '부곡': 0, '캐비아': 0, '자민': 0, '신격호': 0, '미확약물량': 0, '송아지': 0, '김승': 0, '에누리닷컴': 0, '안좌도': 0, '전입': 0, '정의석': 0, '얼루어': 0, '천이백': 0, '호주달러': 0, '구한': 0, '신종플루': 0, '내부고발자': 0, '채무인수': 0, '테라로사': 0, '탈채': 0, '글루텐': 0, '협역': 0, '통신비': 0, '겨울나기': 0, '영엽익': 0, '적응력': 0, '말단비대증': 0, '산은': 0, '제작발표회': 0, '퇴행': 0, '피보팅': 0, '아침밥': 0, '유기발광다이오드': 0, '스폰': 0, '마이걸': 0, '리드탭': 0, '대일': 0, '팔짱': 0, '김석찬': 0, '미국정부': 0, '도질론': 0, '수료식': 0, '박설': 0, '박승': 0, '보탤': 0, '갈메드': 0, '종렬': 0, '직항': 0, '코리안': 0, '숏폼': 0, '정부과천청사역': 0, '광표': 0, '다현': 0, '샤퀴': 0, '안영민': 0, '고흥': 0, '지씨': 0, '외교부': 0, '얼반웍스': 0, '아이유': 0, '반올림': 0, '항염용': 0, '멀스': 0, '소스코드': 0, '이석용': 0, '박지은': 0, '신종태': 0, '에비스': 0, '어글리슈즈': 0, '중용': 0, '학잠': 0, '최창훈': 0, '응석': 0, '클로스': 0, '신덴스': 0, '페라이트': 0, '처방약': 0, '늑장': 0, '구장': 0, '명맥': 0, '국반': 0, '쥐똥': 0, '내전': 0, '제로섬': 0, '계보': 0, '대리전': 0, '한국영': 0, '상표': 0, '갈대': 0, '휘둘린': 0, '대손': 0, '공후': 0, '뉴웨이브': 0, '강남역': 0, '시애틀': 0, '의정부역': 0, '따릉': 0, '호루라기': 0, '키오': 0, '버벅': 0, '동포': 0, '휴톰': 0, '애드원': 0, '두류역': 0, '티맥스': 0, '전분': 0, '알케': 0, '놨던': 0, '계로': 0, '폴앤': 0, '보떼': 0, '탁용': 0, '엘디프': 0, '김완수': 0, '메이사': 0, '문항': 0, '코애규': 0, '미량요소': 0, '북커버': 0, '사나이': 0, '텀블러': 0, '노후용': 0, '차차차': 0, '홀트아동복지회': 0, '이인경': 0, '아나운서': 0, '작자': 0, '슬의생': 0, '엉금엉금': 0, '순연': 0, '수직이착륙': 0, '소자': 0, '수능시험': 0, '산모': 0, '디플': 0, '종이컵': 0, '플라테': 0, '시생': 0, '에그픽': 0, '확잼': 0, '디키': 0, '피엠텍': 0, '몰탈': 0, '조성욱': 0, '듀랜트': 0, '방인': 0, '고삼': 0, '한당': 0, '외교관': 0, '내포신도시': 0, '중기청': 0, '호재속': 0, '일일천': 0, '영란': 0, '이오나': 0, '프로티언': 0, '돈줄죄기': 0, '불고기': 0, '천안호': 0, '역머니무브': 0, '새해인사': 0, '비아그라': 0, '전진한': 0, '프론트원': 0, '의식주': 0, '계해': 0, '다액': 0, '수송기': 0, '승혜': 0, '본연': 0, '전회': 0, '신풍역': 0, '점사': 0, '악황': 0, '경사': 0, '블랙프라이데이': 0, '아이언맨': 0, '대진표': 0, '양수역': 0, '배차': 0, '순항훈련': 0, '전단': 0, '몰트': 0, '위스키': 0, '글렌피딕': 0, '코룬': 0, '별내역': 0, '바타비아': 0, '계곡': 0, '통전': 0, '다도': 0, '재활용품': 0, '탁송': 0, '설화': 0, '켈스': 0, '코청': 0, '오창읍': 0, '텍슨': 0, '쌤빛': 0, '미륵산': 0, '고정관념': 0, '해수부': 0, '불칸': 0, '희망이': 0, '신용판매': 0, '합승': 0, '이종욱': 0, '롬앤': 0, '흡인': 0, '사이언스지': 0, '원퀵': 0, '커넥팅': 0, '토포앤': 0, '코코리': 0, '이지스함': 0, '샤르코마리투스병': 0, '레베': 0, '치트': 0, '주안동': 0, '내해': 0, '명씨': 0, '세한': 0, '옥사': 0, '로블럭스': 0, '마이라이프': 0, '기술제휴': 0, '유구': 0, '코멕스': 0, '경락': 0, '광개토': 0, '육계': 0, '엘핀': 0, '초지항': 0, '위풍': 0, '자이더스': 0, '캐딜라': 0, '컬링': 0, '놀래킨': 0, '강남구': 0, '오룡': 0, '구세군': 0, '홈쿡': 0, '북구청역': 0, '송신': 0, '몽돌벨': 0, '라며': 0, '인조': 0, '침실': 0, '무보': 0, '크누센': 0, '시공간': 0, '옵투스운용': 0, '가상세계': 0, '진용': 0, '방아': 0, '번역본': 0, '줄어드': 0, '예매': 0, '후년': 0, '가품': 0, '착즙': 0, '서든어택': 0, '식봄': 0, '천삼백': 0, '빅크': 0, '옵투스': 0, '보톨리눔': 0, '남이섬': 0, '정령': 0, '미디어아트': 0, '갈매기': 0, '스피킹': 0, '낭독': 0, '횡계': 0, '어닝빅': 0, '건국': 0, '료제': 0, '주거지역': 0, '복심': 0, '녹지': 0, '대통령선거': 0, '공약수': 0, '엘센트로': 0, '이재일': 0, '진날': 0, '강남대': 0, '우주쓰레기': 0, '획일': 0, '가루': 0, '밀어내기': 0, '탈색': 0, '탑층': 0, '시장구조': 0, '파버': 0, '쌩배': 0, '디타스': 0, '이준수': 0, '이경식': 0, '넷제': 0, '텍사스인스트루먼트': 0, '지구촌': 0, '반월역': 0, '정비공': 0, '절친': 0, '조선일보': 0, '처참': 0, '시노텍스': 0, '석도': 0, '다분': 0, '계주': 0, '탑툰': 0, '장뇌': 0, '투발루': 0, '투룸': 0, '데드라인': 0, '퀀텀벤처스': 0, '라이어': 0, '홀리데이': 0, '델라웨어주': 0, '프레첼': 0, '볼멘소리': 0, '에너지정책': 0, '김성주': 0, '포터': 0, '대통': 0, '너므': 0, '매라': 0, '허송': 0, '불땐': 0, '사하나': 0, '떳네유': 0, '빌드엠': 0, '나가야': 0, '확손': 0, '절로': 0, '빅스텝': 0, '볼때': 0, '원큐스탁': 0, '문샷': 0, '싱킹': 0, '미툰': 0, '영통구': 0, '파마벤처스': 0, '중랑구': 0, '가공품': 0, '컵프': 0, '최재호': 0, '굴릴까': 0, '엔케이멕스': 0, '럿거스대': 0, '이병': 0, '마음대로': 0, '삼삼해': 0, '맛살': 0, '청도': 0, '각추': 0, '디벤처스': 0, '베슬': 0, '김서하': 0, '김창욱': 0, '유희열': 0, '텔리오': 0, '질감': 0, '게보린': 0, '지긋지긋': 0, '무지개': 0, '천공': 0, '노저': 0, '수육': 0, '골드바': 0, '화산': 0, '룽촹': 0, '허사': 0, '트북스': 0, '전집': 0, '비전벤처스': 0, '부가세': 0, '무역항': 0, '완판구': 0, '식사동': 0, '애완': 0, '옵텍': 0, '빅매치': 0, '코팩터': 0, '일식': 0, '신혜성': 0, '워스트': 0, '화정역': 0, '신혼집': 0, '슈웅': 0, '재중': 0, '꼬순냄시': 0, '오수': 0, '인솔': 0, '공청회': 0, '해빗': 0, '별별': 0, '실외': 0, '유흥주점': 0, '골린': 0, '잇속': 0, '부분파업': 0, '컨덕터': 0, '김환기': 0, '통상부': 0, '내열성': 0, '파가': 0, '거금': 0, '자격시험': 0, '김희수': 0, '정거': 0, '비언': 0, '모럴해저드': 0, '컨비': 0, '흔적': 0, '남포동': 0, '베이먼': 0, '스위트': 0, '애드온': 0, '천궁': 0, '해브': 0, '리빙앤헬스': 0, '두값': 0, '시츄에이션': 0, '못마땅': 0, '루시드': 0, '회식': 0, '소티': 0, '탄수': 0, '이장': 0, '플랙스': 0, '은폐': 0, '상파울루': 0, '콧대': 0, '탠베거': 0, '축의': 0, '마우로': 0, '기옌': 0, '선혜': 0, '김석환': 0, '삼강엠앤티': 0, '침울': 0, '딥뷰': 0, '황홀경': 0, '푸딘코': 0, '실세': 0, '김기영': 0, '홍복': 0, '태고': 0, '방증': 0, '오천억': 0, '대검찰청': 0, '김근수': 0, '여대': 0, '맞닥뜨린': 0, '에퀴티레지덴셜': 0, '소택': 0, '펜실': 0, '구별법': 0, '남강': 0, '하드캐리': 0, '이우환': 0, '구체성': 0, '유지시': 0, '감수성': 0, '스누': 0, '김춘진': 0, '온보딩': 0, '뮬리': 0, '평강': 0, '트레뷰': 0, '구절초': 0, '조수현': 0, '사령탑': 0, '국서': 0, '알엠': 0, '걷쥬': 0, '연세대학교': 0, '연세': 0, '발끈': 0, '성도시': 0, '경유': 0, '윌로펫': 0, '별빛': 0, '사모님': 0, '박관호': 0, '박난': 0, '백과사전': 0, '네브래스카': 0, '첩첩': 0, '천주교': 0, '유위': 0, '심금': 0, '광민': 0, '곤경': 0, '심부름': 0, '헬퍼': 0, '에어아시아': 0, '대운': 0, '반나절': 0, '간척': 0, '벌떡': 0, '파라오': 0, '퍼즐게임': 0, '업제': 0, '도배': 0, '외제': 0, '유대': 0, '막노동': 0, '걸작': 0, '김현주': 0, '디비': 0, '박현진': 0, '밀본': 0, '플루토': 0, '산청군': 0, '크릿': 0, '근무시간': 0, '답십리역': 0, '몸짱': 0, '마른하늘': 0, '펑솨이': 0, '강산': 0, '비채': 0, '익스플로러': 0, '정도현': 0, '유용성': 0, '금명간': 0, '베티셀': 0, '위헌': 0, '추수감사절': 0, '팔라듐': 0, '바이타민': 0, '슈피겐': 0, '어셈블': 0, '강림': 0, '인터페론': 0, '변이체': 0, '말임': 0, '현경': 0, '동계': 0, '기축': 0, '행인': 0, '풍토병': 0, '유임': 0, '타개': 0, '선입선출': 0, '팻테일': 0, '통수': 0, '침공': 0, '김현경': 0, '이슬기': 0, '트리플크라운': 0, '절기': 0, '볼로콥터': 0, '족도': 0, '알앤티': 0, '이나고': 0, '김정각': 0, '스폿': 0, '큐포': 0, '주단': 0, '달팽이': 0, '클라리넷': 0, '연주회': 0, '낙동강': 0, '카드뮴': 0, '인젠트': 0, '학생회': 0, '유티': 0, '자연어': 0, '윌너': 0, '스웨디시': 0, '스노우플레이크': 0, '예일대': 0, '시간대': 0, '베스트바이': 0, '사살': 0, '의붓아들': 0, '계모': 0, '고지도': 0, '종교시설': 0, '예배': 0, '루솔': 0, '스포팅': 0, '자질': 0, '감정': 0, '스눕독': 0, '저압': 0, '활선': 0, '애드페': 0, '좀도둑': 0, '마드리드': 0, '공격수': 0, '벤제마': 0, '성관계': 0, '집유': 0, '정교': 0, '펙스': 0, '휠체어': 0, '게속': 0, '썩쎄스': 0, '큐비': 0, '모노레일': 0, '받침': 0, '헬스요금': 0, '도둑': 0, '추락천사': 0, '아이웍스': 0, '벡텔사': 0, '클리닝': 0, '운모': 0, '거상': 0, '징비록': 0, '골든게이트': 0, '상업지구': 0, '흥옌성': 0, '리고동': 0, '동키': 0, '빈곤층': 0, '연탄': 0, '총살': 0, '박종배': 0, '김진우': 0, '더벤처스': 0, '퍼틸레': 0, '캐어랩스': 0, '슈왑': 0, '일어난다': 0, '잡초': 0, '패스워드': 0, '황정수': 0, '더픽트': 0, '월곶': 0, '판교선': 0, '소행성': 0, '폴바': 0, '삼십일': 0, '우듬지팜': 0, '박박사': 0, '밧데루': 0, '반기문': 0, '리팅랩스': 0, '이니셜': 0, '오뉴월': 0, '독수': 0, '구세주': 0, '게살': 0, '병역': 0, '쌈바': 0, '양현석': 0, '워매': 0, '개꿀빠는국격': 0, '나노텍': 0, '샤프트': 0, '책꿈터': 0, '과학기술원': 0, '디개싱': 0, '기술적분석': 0, '불길': 0, '짓밟힌': 0, '김상호': 0, '다원메닥스': 0, '붕소': 0, '자포': 0, '김용기': 0, '밀폐': 0, '박아': 0, '묵동': 0, '칼튼': 0, '블라썸': 0, '송홍선': 0, '이시이': 0, '게이오대': 0, '크루그먼': 0, '평점': 0, '무의미': 0, '김형기': 0, '사목': 0, '일구이언': 0, '권봉석': 0, '팰로앨토': 0, '잿빛': 0, '순혈': 0, '안트레': 0, '청파': 0, '선착장': 0, '개소식': 0, '안전핀': 0, '탈구': 0, '쇠퇴': 0, '겐트': 0, '도봉': 0, '레이더스': 0, '초등학': 0, '김금태': 0, '오미크론': 0, '미개발': 0, '고려청자': 0, '스케줄': 0, '황충': 0, '상복': 0, '면직': 0, '에르도안': 0, '조형': 0, '빠듯한데': 0, '노답': 0, '수요충격': 0, '키빗': 0, '오토메이터': 0, '대한국': 0, '국학': 0, '유도체': 0, '액터': 0, '자법': 0, '장락동': 0, '팬더믹': 0, '코펜하겐': 0, '레서피': 0, '인탈': 0, '김용': 0, '드트': 0, '민정': 0, '십정': 0, '니지': 0, '여섯': 0, '리액션': 0, '행정지도': 0, '구갑렬': 0, '김규태': 0, '연두': 0, '이노레드': 0, '시에나': 0, '디아스포라': 0, '충북도지사': 0, '장소영': 0, '장일': 0, '지곡동': 0, '지식나눔': 0, '조명등': 0, '회정동': 0, '쿠버': 0, '애저': 0, '어드밴스드': 0, '윤선': 0, '재승': 0, '맹수': 0, '신안군': 0, '지도읍': 0, '인추협': 0, '일기': 0, '개교': 0, '월락': 0, '니넥': 0, '새마을': 0, '방관': 0, '속눈썹': 0, '지커넥션': 0, '도내': 0, '외부링크': 0, '형용': 0, '풀렌': 0, '바운스': 0, '해뜰날': 0, '김정수': 0, '야성': 0, '문맹': 0, '국어교육': 0, '달동네': 0, '외치': 0, '매형': 0, '밀수': 0, '메타랩스': 0, '길온': 0, '산술': 0, '도량형': 0, '검암역': 0, '감삼동': 0, '박정수': 0, '한미르': 0, '문화생활': 0, '북덕방': 0, '틈새시장': 0, '구레': 0, '황혼': 0, '동문회': 0, '나누기': 0, '체스터': 0, '톤스': 0, '추계': 0, '애드파이': 0, '기프트': 0, '콘숍': 0, '뉴욕주립대': 0, '생태학': 0, '금촌': 0, '동제': 0, '참나': 0, '화욜': 0, '돈맥': 0, '탄방동': 0, '숭어': 0, '리샘': 0, '아이두': 0, '앤넷': 0, '영웅문': 0, '취한': 0, '열중쉬어': 0, '사죄': 0, '미부': 0, '아주대': 0, '김영환': 0, '회시': 0, '허재': 0, '윤창용': 0, '정부원': 0, '삼문동': 0, '법례': 0, '애드와이': 0, '이재근': 0, '이사부': 0, '비썸': 0, '기생': 0, '요즈음': 0, '손터': 0, '드글거리': 0, '하동': 0, '모유': 0, '올리고당': 0, '티지페논': 0, '노타': 0, '리밍': 0, '젠텍': 0, '닛산자동차': 0, '김도현': 0, '타킷': 0, '베네핏': 0, '죘다': 0, '주철수': 0, '생숙': 0, '현주소': 0, '출렁거렸': 0, '숙명여대': 0, '인시': 0, '퍼솔켈리컨설팅': 0, '근비': 0, '영사관': 0, '놓첬다': 0, '풋백옵션': 0, '에드먼턴': 0, '가금': 0, '솔더볼': 0, '장기영': 0, '카오슝': 0, '레드라인': 0, '시소': 0, '느릿느릿': 0, '여의도순복음교회': 0, '엄살': 0, '밑장빼기': 0, '엊그제': 0, '삼사': 0, '현주': 0, '김준엽': 0, '미완': 0, '수비': 0, '실린더': 0, '예티': 0, '아이스박스': 0, '스탬프': 0, '소송대리인': 0, '손승현': 0, '안휘': 0, '봉성': 0, '원격주': 0, '멘틱스': 0, '스르르': 0, '강시': 0, '환노위': 0, '정상진': 0, '뮤놈': 0, '흥덕': 0, '미궁': 0, '텐마': 0, '마사지': 0, '음악학': 0, '안전공학': 0, '새살': 0, '베르힐': 0, '덱스레보': 0, '윈인웨': 0, '정주': 0, '어린이병원': 0, '드림웍스': 0, '뒷문': 0, '퀀텀벤': 0, '좌회전': 0, '얼머스': 0, '윈인베스먼트': 0, '고창': 0, '장갑차': 0, '놀뭐': 0, '얀부': 0, '둥이': 0, '주자감': 0, '엔빌': 0, '매니폴드': 0, '뉴랭크': 0, '엠뉴': 0, '마벨': 0, '선상': 0, '브로드컴': 0, '빌드업': 0, '이재학': 0, '투척': 0, '렉투스': 0, '급격': 0, '대내': 0, '사슴': 0, '공도': 0, '무존': 0, '년초': 0, '잭인더박스': 0, '봉투': 0, '비률': 0, '엔트런스': 0, '안스': 0, '수원지방법원': 0, '태평동': 0, '용흥': 0, '퀀팃': 0, '코미디': 0, '개항': 0, '조온나': 0, '황색': 0, '클로렐라': 0, '로렐': 0, '코난테크놀로지': 0, '보이밴드': 0, '라크': 0, '리틴': 0, '우기': 0, '스탠바이': 0, '요로감염': 0, '임대차보호법': 0, '대항력': 0, '톤즈': 0, '이응노': 0, '태학': 0, '개막식': 0, '간추린': 0, '젊음': 0, '쌍곡선': 0, '서귀포': 0, '경미': 0, '지원기': 0, '구로구': 0, '김습습': 0, '홍콩도': 0, '한림원': 0, '화생': 0, '박현욱': 0, '중책': 0, '정현호': 0, '유합': 0, '혼공': 0, '다크에덴': 0, '대말': 0, '대학내일': 0, '고찰': 0, '성곡동': 0, '내복': 0, '옵틱스': 0, '필요조건': 0, '문명': 0, '무너뜨릴것': 0, '천시': 0, '헛도': 0, '경제위기': 0, '티엄': 0, '이천부': 0, '특별자치도': 0, '퓨젠': 0, '소우': 0, '키핑': 0, '콜로키': 0, '탄소발자국': 0, '이승효': 0, '폰카': 0, '신문사': 0, '영위': 0, '회심': 0, '동아대': 0, '검색어': 0, '화질': 0, '창선': 0, '케시케시': 0, '권남희': 0, '배재': 0, '뉴시티': 0, '물주': 0, '일념': 0, '수상소감': 0, '그리팅': 0, '만국': 0, '멈스': 0, '후크엔터테인먼트': 0, '젬백스지오': 0, '변덕': 0, '국회통과': 0, '퇴법': 0, '수교': 0, '인기가요': 0, '플루오르': 0, '증도': 0, '금비': 0, '축구단': 0, '개발이익': 0, '이삿날': 0, '기안': 0, '숨기': 0, '금율': 0, '후크': 0, '방징': 0, '인수소송': 0, '모찌': 0, '귀향': 0, '급회전': 0, '해초': 0, '물어': 0, '착수금': 0, '면밀': 0, '하도급법': 0, '하지원': 0, '비쥬': 0, '패키지디자인': 0, '음악회': 0, '피아니스트': 0, '임동혁': 0, '애드쿠': 0, '온라인광고': 0, '에이블리': 0, '나체': 0, '군살': 0, '통폐합': 0, '배아줄기세포': 0, '액체수소': 0, '이승주': 0, '이승기': 0, '비엠비디어': 0, '강남대로': 0, '위지웍': 0, '그래비티': 0, '비엠': 0, '비앤알': 0, '룩셉티닙': 0, '홍릉특구': 0, '배성완': 0, '디지털사이니지': 0, '발명품': 0, '이환': 0, '배합사료': 0, '수금': 0, '풀멍': 0, '가난': 0, '견책': 0, '미크': 0, '곽동걸': 0, '연속성': 0, '정주영': 0, '자선가': 0, '사일런스': 0, '이별': 0, '무브무브': 0, '정앤석': 0, '민재': 0, '검수': 0, '하루아침': 0, '묵인': 0, '렌토': 0, '미닉스': 0, '연어': 0, '횟감': 0, '광어': 0, '쏠베': 0, '이정재': 0, '골든글로브상': 0, '리알': 0, '골든글로브': 0, '명로': 0, '아산시': 0, '쾌척': 0, '티지페논정': 0, '불행': 0, '비거': 0, '각료': 0, '신가': 0, '프로토타입': 0, '카사': 0, '재결정': 0, '고무신': 0, '아듀': 0, '떡락장': 0, '동작': 0, '박태훈': 0, '김익': 0, '차녀': 0, '한시름': 0, '타임지': 0, '천원': 0, '가트': 0, '평준화': 0, '솔류션': 0, '누굴탓': 0, '이따': 0, '실정': 0, '봉균': 0, '후생성': 0, '김동회': 0, '대솔': 0, '리모트콜': 0, '천재지변': 0, '주변인': 0, '콜러스': 0, '휴양지': 0, '일거리': 0, '카비': 0, '신재열': 0, '숄츠': 0, '암독스': 0, '주지원': 0, '퍼폼': 0, '김기홍': 0, '촉법소년': 0, '이정남': 0, '앨리스': 0, '이상백': 0, '이일수': 0, '이재선': 0, '고트': 0, '더샘': 0, '온라인마케팅': 0, '불산': 0, '불허가': 0, '가향': 0, '남궁민': 0, '소뇌': 0, '씨트렐린': 0, '포션': 0, '배틀쉽': 0, '국청': 0, '학력평가': 0, '뱅크시': 0, '디그': 0, '결승': 0, '권련': 0, '의정부시': 0, '침산': 0, '스크루': 0, '이마': 0, '신동주': 0, '김상균': 0, '안시': 0, '젠트라움': 0, '쐐기': 0, '조재민': 0, '김희': 0, '국제사회': 0, '장경영': 0, '정지호': 0, '이시연': 0, '장막': 0, '티징': 0, '할로윈': 0, '마술': 0, '블로썸': 0, '콘넥션': 0, '딜루션': 0, '거얼': 0, '피아노': 0, '박태진': 0, '문화원': 0, '샵솔': 0, '어드벤스드': 0, '호용': 0, '화낙': 0, '세미콘': 0, '지율': 0, '펙트럼': 0, '불확': 0, '재무약정': 0, '조기졸업': 0, '딥밸류': 0, '박진호': 0, '청뇌': 0, '계산법': 0, '반장': 0, '소득공제': 0, '팬덱': 0, '애니팡': 0, '사양': 0, '음컵': 0, '증병': 0, '트윈코': 0, '앤티제': 0, '신나무': 0, '박종만': 0, '이동순': 0, '황비': 0, '웨스트엔드': 0, '루비콘': 0, '아이보리': 0, '우시아': 0, '배출권거래제': 0, '정송훈': 0, '라퓨젠': 0, '임희숙': 0, '넷감소엔텔스': 0, '최윤': 0, '김정선': 0, '슈퍼차저': 0, '부뜰': 0, '쥬빌리': 0, '와일드': 0, '끗물': 0, '늬들': 0, '쌔기': 0, '각인': 0, '세브란스병원': 0, '횡보국': 0, '오입': 0, '커넥팅앱': 0, '성탄절': 0, '울릉공항': 0, '위례신도시': 0, '펑와대': 0, '판매점': 0, '정은수': 0, '옷방': 0, '광차': 0, '세륨': 0, '가카': 0, '유아교육': 0, '시나몬': 0, '연골무형성증': 0, '확새': 0, '김세환': 0, '누텔라': 0, '헤이즐넛': 0, '폐하': 0, '터브': 0, '코레일유통': 0, '스토리웨이': 0, '더마젝': 0, '옴부': 0, '숙지': 0, '발진열': 0, '무적함대': 0, '지성배': 0, '황준호': 0, '무선망': 0, '샨진': 0, '경원선': 0, '웰릭스렌탈': 0, '미건': 0, '키방': 0, '물렷': 0, '답글더': 0, '신의한수': 0, '답글쫄리': 0, '송천': 0, '컨트리클럽': 0, '비얄': 0, '로커': 0, '정변': 0, '재수생': 0, '디지털로': 0, '동격': 0, '단일국': 0, '헬시플': 0, '이양구': 0, '재생기술': 0, '차포': 0, '정지궤도': 0, '튠나': 0, '김준희': 0, '버라이어티': 0, '퓨런티어': 0, '과학기술부': 0, '우레': 0, '청귤': 0, '포이스': 0, '백씨': 0, '스파이더맨': 0, '김윤식': 0, '직선제': 0, '머트리얼즈': 0, '차비': 0, '람보르기니': 0, '치마': 0, '최윤호': 0, '정우성': 0, '갯벌': 0, '메디': 0, '훈픙': 0, '노매드': 0, '맹위': 0, '솔드': 0, '스피링크': 0, '당대': 0, '빌어': 0, '빳떼리': 0, '거란': 0, '됐넹': 0, '원거리': 0, '밀실': 0, '성북': 0, '퀴델': 0, '어센션': 0, '프러스': 0, '기력': 0, '구약': 0, '멜라토닌': 0, '청라동': 0, '석용': 0, '소등': 0, '내드': 0, '배속': 0, '소화물차': 0, '재심사': 0, '창단': 0, '군산대': 0, '영업직': 0, '에스엠타운': 0, '오민지': 0, '열도': 0, '족족': 0, '신재흠': 0, '환츌': 0, '임인년': 0, '시금석': 0, '선학': 0, '액티': 0, '학운': 0, '마르스': 0, '횡단보도': 0, '스쿨존': 0, '교통법규': 0, '토네이도': 0, '여성가족부': 0, '송네오텍': 0, '초정': 0, '빗크몬': 0, '영가로': 0, '옐로우': 0, '이상헌': 0, '배당락': 0, '러시아군': 0, '오찬': 0, '분쟁광물': 0, '김규식': 0, '고요': 0, '비금': 0, '전자도서': 0, '부양신탁': 0, '제언': 0, '몰텍': 0, '소수만': 0, '위례선': 0, '수사권': 0, '결원': 0, '김선진': 0, '혜안': 0, '대디': 0, '송창': 0, '병희': 0, '역마': 0, '홍규': 0, '본동': 0, '뿜었다': 0, '멘타': 0, '고광택': 0, '방위청': 0, '화생방': 0, '컴투': 0, '육군본부': 0, '남항': 0, '최일구': 0, '이은호': 0, '발리': 0, '불구속': 0, '마침': 0, '딩기': 0, '씨비': 0, '디아크': 0, '거두': 0, '수정동': 0, '어림': 0, '상북': 0, '정왕동': 0, '갈래': 0, '선거정보': 0, '시청율': 0, '엠톡': 0, '강수': 0, '냉열': 0, '키닉사': 0, '폐광': 0, '이세희': 0, '중구청': 0, '하티': 0, '네티즌': 0, '이선호': 0, '민지원': 0, '뉴클레오티드': 0, '친절': 0, '물로켓': 0, '멸망': 0, '쫄리': 0, '담금질': 0, '트로메딕': 0, '혜자': 0, '소입': 0, '스향': 0, '쉴더스': 0, '이착륙': 0, '죄수': 0, '양태영': 0, '비제': 0, '함평': 0, '패싸움': 0, '가해자': 0, '취직': 0, '자항': 0, '매사': 0, '더보이즈': 0, '홀딩하': 0, '퍼멘텍': 0, '해비': 0, '킴벌': 0, '모토로': 0, '문안': 0, '김득보': 0, '대구광역시': 0, '양양읍': 0, '조산': 0, '범어': 0, '죽도동': 0, '운수업': 0, '옥스': 0, '웰킵스': 0, '서문': 0, '킹크랩': 0, '노숙자': 0, '년대': 0, '등등': 0, '제하': 0, '황금주': 0, '경악': 0, '윅스': 0, '필라': 0, '회삿돈': 0, '난이도': 0, '김태훈': 0, '손광': 0, '던파': 0, '신학': 0, '공릉역': 0, '주례동': 0, '동일인': 0, '장재훈': 0, '김학수': 0, '남원주역': 0, '뮤비': 0, '비급': 0, '한동희': 0, '박형우': 0, '김민정': 0, '부암': 0, '국대안': 0, '엘다': 0, '운영체계': 0, '이성희': 0, '박준': 0, '번호판': 0, '끙끙': 0, '마이카': 0, '김필영': 0, '장날': 0, '하례': 0, '스감소맷': 0, '남양주시': 0, '핫픽': 0, '김민국': 0, '김정근': 0, '윤재춘': 0, '상필': 0, '오산시': 0, '권오성': 0, '란트': 0, '교통카드': 0, '방성훈': 0, '접착': 0, '김대환': 0, '약탈': 0, '안정은': 0, '숭인동': 0, '이해선': 0, '사상구': 0, '양상국': 0, '전지윤': 0, '충남도청': 0, '권준': 0, '스프랏': 0, '매케슨': 0, '인덕': 0, '납사': 0, '제주시': 0, '신일': 0, '교착상태': 0, '김정균': 0, '화이트리스트': 0, '금납': 0, '동분서주': 0, '이제껏': 0, '담팔수': 0, '정초': 0, '방산수': 0, '킹슬리': 0, '바이런': 0, '건쉽': 0, '토탈워': 0, '그랜빌': 0, '프랏': 0, '속기': 0, '독안': 0, '로때': 0, '박치': 0, '버넥트': 0, '불가항력': 0, '중과세': 0, '앱통': 0, '김수지': 0, '불쇼': 0, '새뱃돈': 0, '최규옥': 0, '가혹': 0, '바겐세일중': 0, '엄태관': 0, '평동': 0, '글쎄요': 0, '특이점': 0, '당하': 0, '김인규': 0, '우선권': 0, '지자': 0, '궁민': 0, '엘솔': 0, '걸빼': 0, '공격대': 0, '탈모증': 0, '출연료': 0, '녹셀': 0, '쏫아질': 0, '윤철주': 0, '커튼월': 0, '파사드': 0, '대야역': 0, '아이아이': 0, '분란': 0, '퀴진': 0, '피보': 0, '컨설팅펌': 0, '계명대': 0, '동산병원': 0, '반정부': 0, '나이팅게일': 0, '인터렉티브': 0, '모젠': 0, '플랜비': 0, '허진규': 0, '돈앤톡': 0, '보물상자': 0, '관련성': 0, '깜짝등장': 0, '심사평가원': 0, '배수진': 0, '엔디에스': 0, '남영주': 0, '디즈니랜드': 0, '의선': 0, '없넹': 0, '탠저블': 0, '체임': 0, '재채기': 0, '양생': 0, '물자원': 0, '이니스프리': 0, '캐딜락': 0, '콘셉트카': 0, '해녀': 0, '부엌': 0, '보가': 0, '찬욱': 0, '동물복지': 0, '컴파인드': 0, '도현': 0, '정몽준': 0, '캡처': 0, '연패': 0, '하란': 0, '과민반응': 0, '인준': 0, '이제훈': 0, '피의자': 0, '공급물량': 0, '방끗': 0, '범행': 0, '월스트리트저널': 0, '소방설비': 0, '철마': 0, '해양심층수': 0, '고성진': 0, '흥원': 0, '멸공': 0, '주창': 0, '달콤커피': 0, '알피': 0, '정준석': 0, '군정': 0, '황금비율': 0, '미제': 0, '최재영': 0, '버틀러': 0, '이동우': 0, '유랑': 0, '응카': 0, '맨친': 0, '정황': 0, '오타와': 0, '투락': 0, '안무영상': 0, '진압용': 0, '진위': 0, '공멸': 0, '롤코': 0, '강찬': 0, '마딸': 0, '코람': 0, '코더': 0, '부디': 0, '박소': 0, '진주햄': 0, '조차': 0, '오드리': 0, '이종현': 0, '재무비율': 0, '핀즐': 0, '진준': 0, '아메리카노': 0, '만사': 0, '형통': 0, '이정호': 0, '훈민정음': 0, '김혜련': 0, '여동생': 0, '토닥토닥': 0, '민민생': 0, '보령시': 0, '난국': 0, '음성합성': 0, '수속': 0, '절능': 0, '금괴': 0, '조코비치': 0, '연모': 0, '천운': 0, '잿밥': 0, '주눅': 0, '변론기일': 0, '체급': 0, '호혜': 0, '방위성': 0, '탄도': 0, '돌발행동': 0, '금창': 0, '변협': 0, '쇼타임': 0, '포괄수가제': 0, '드웰링': 0, '효진': 0, '초이': 0, '게으름뱅이': 0, '어딘가': 0, '외벽': 0, '비등': 0, '풍월': 0, '격하': 0, '세계사': 0, '우황': 0, '청심': 0, '중력': 0, '스르': 0, '후위': 0, '콤팩트': 0, '메듭': 0, '에혀': 0, '도올': 0, '종토': 0, '슈드': 0, '정직': 0, '하영구': 0, '따라서': 0, '밸러리': 0, '섭렵': 0, '외양간': 0, '산막': 0, '아이나비': 0, '서킷브레이커': 0, '세마역': 0, '펀블': 0, '구피': 0, '차토': 0, '날선': 0, '썩쎄스로켓': 0, '우주경쟁': 0, '신동': 0, '피보탈': 0, '웨지우드': 0, '웬일': 0, '안료': 0, '심디': 0, '이햐': 0, '무섭겡': 0, '년봉': 0, '호칭': 0, '놨다': 0, '전라도': 0, '아그노': 0, '우등상': 0, '물기둥': 0, '어쩜': 0, '너구리': 0, '박문': 0, '하노이': 0, '백내장': 0, '픽쳐': 0, '장단점': 0, '불만족': 0, '차남': 0, '이병주': 0, '금웅': 0, '징표': 0, '창판': 0, '뇌질활': 0, '타이곤': 0, '개인정보보호법': 0, '탄도미사일': 0, '구설수': 0, '정찰위성': 0, '킬체': 0, '간전': 0, '안보리': 0, '함양군': 0, '군민': 0, '성조': 0, '박지영': 0, '승급': 0, '정희수': 0, '보협': 0, '인크레더블': 0, '캐럿': 0, '층부': 0, '해령': 0, '숏텀롱텀': 0, '르뽀': 0, '포드자동차': 0, '급때': 0, '잉크젯': 0, '정몽규': 0, '녹취록': 0, '코주': 0, '응징': 0, '대웅펫': 0, '코셔': 0, '토너먼트': 0, '삼파전': 0, '김두영': 0, '병리학': 0, '한양여자대학교': 0, '소공': 0, '정좌': 0, '탄약': 0, '로즈마리': 0, '슬롯다이': 0, '군웅': 0, '카리스마': 0, '김정현': 0, '슈퍼맨': 0, '텔레톰': 0, '스키즈': 0, '스퀘': 0, '아랍에미리트': 0, '이주수': 0, '차값': 0, '통감': 0, '혜건': 0, '주비': 0, '상면': 0, '뉴스투데이': 0, '권남': 0, '교종': 0, '키카': 0, '앙티브': 0, '서산시': 0, '골든벨': 0, '장사진': 0, '욕설': 0, '당원': 0, '일우재단': 0, '고수익채권': 0, '퇴비': 0, '신정호': 0, '론픽': 0, '교향악단': 0, '디지타이저': 0, '솔땜': 0, '루베': 0, '축복': 0, '솔땐': 0, '꼴쥐': 0, '류선': 0, '맞쥬': 0, '별것': 0, '핸드스튜디오': 0, '트레져스클럽': 0, '루터킹': 0, '페널티': 0, '중추신경계': 0, '인해전술': 0, '택해': 0, '실생활': 0, '비산': 0, '플래닛랩': 0, '스코넥엔터': 0, '세질': 0, '허기호': 0, '비우기': 0, '어머님': 0, '빅픽쳐': 0, '역무': 0, '터트려': 0, '오잉': 0, '설후': 0, '패키': 0, '아랍': 0, '광픽업': 0, '나바스': 0, '익재': 0, '전자종이': 0, '박종익': 0, '김세완': 0, '쿨란트': 0, '물량폭탄': 0, '박창신': 0, '게임기': 0, '력도': 0, '별똥별': 0, '위조지폐': 0, '실률': 0, '방굿': 0, '무장애': 0, '국기원': 0, '소설가': 0, '곽재식': 0, '뇌출혈': 0, '생기지': 0, '초치': 0, '빙구': 0, '사요나라': 0, '면얘': 0, '단합': 0, '처단': 0, '선망': 0, '컴퓨존': 0, '핵실험': 0, '분트': 0, '김승철': 0, '배태': 0, '모라토리엄': 0, '웹챗봇': 0, '공민지': 0, '안병원': 0, '제이에이': 0, '양지': 0, '강제집행': 0, '네이처지': 0, '바다로': 0, '동점': 0, '사사': 0, '최동수': 0, '범법': 0, '난린데': 0, '패기': 0, '플레이스테이션': 0, '레노': 0, '용강': 0, '트레이너': 0, '도코모': 0, '랩감': 0, '고후': 0, '보고펀드': 0, '엔큐': 0, '보징금': 0, '따땃': 0, '주털렷': 0, '앤솔': 0, '도루묵': 0, '사고사': 0, '타수': 0, '눌리': 0, '누설': 0, '말그': 0, '윤제성': 0, '빅샷': 0, '편자': 0, '물탈': 0, '좀처럼': 0, '호빵': 0, '정환': 0, '박희': 0, '소실': 0, '민경': 0, '장영실': 0, '이스포츠': 0, '바쿠스': 0, '평일': 0, '중금속': 0, '흡착': 0, '구내염': 0, '뮤코': 0, '황영기': 0, '누드': 0, '낙석': 0, '프로젝터': 0, '소나무': 0, '면책조항': 0, '최병채': 0, '준철': 0, '둔촌': 0, '침전': 0, '스크러버': 0, '정준일': 0, '조류인플루엔자': 0, '금정역': 0, '헷지': 0, '미관': 0, '탬버린': 0, '앤젤': 0, '다담': 0, '마가': 0, '불뿜는': 0, '은솔': 0, '박은정': 0, '화마': 0, '로그아웃': 0, '캐릭': 0, '선왕': 0, '별장': 0, '미스테리': 0, '핼로': 0, '김창학': 0, '마즈': 0, '피알': 0, '바젤': 0, '나락갈꺼같': 0, '강탈': 0, '스플렁크': 0, '베렌': 0, '맛감': 0, '아이에프': 0, '솎아낼': 0, '한성': 0, '정찰기': 0, '사바': 0, '환부': 0, '박수민': 0, '메로': 0, '뇌수술': 0, '유연근무제': 0, '예사': 0, '가조': 0, '베린트': 0, '성빈': 0, '위스크': 0, '우도': 0, '오해경': 0, '앤트앤비': 0, '브롱코': 0, '랩터': 0, '준풋': 0, '모상현': 0, '김제': 0, '호식': 0, '크리드': 0, '죄명': 0, '답글뭘': 0, '징글': 0, '형아': 0, '없을런지': 0, '괜찬은': 0, '엠발': 0, '소생': 0, '개존버': 0, '과신': 0, '내부자거래': 0, '법질서': 0, '터전': 0, '총무': 0, '핑클': 0, '상록': 0, '젝스키스': 0, '홍영철': 0, '특근': 0, '대륜': 0, '렉티닙': 0, '성원': 0, '트랜스링크': 0, '파바': 0, '로우스': 0, '바랜': 0, '공습경보': 0, '강동구청': 0, '김희애': 0, '충남대': 0, '희귀암': 0, '나토': 0, '심쿵': 0, '가두리': 0, '임세령': 0, '현금영수증': 0, '게임개발사': 0, '기해': 0, '청년실업': 0, '호랑': 0, '크로락스': 0, '나물': 0, '비파괴검사': 0, '입건': 0, '지옥문': 0, '부러': 0, '벌레': 0, '개차반': 0, '주식양도세': 0, '일어나지': 0, '도독': 0, '지닥': 0, '연개': 0, '가쟈한강': 0, '징글징글': 0, '가과': 0, '정성재': 0, '강국진': 0, '유기농업': 0, '프레스코': 0, '학자금대출': 0, '퍼퓨머': 0, '감금': 0, '내딘': 0, '레알마드리드': 0, '윤석모': 0, '꾸리': 0, '구본무': 0, '최상현': 0, '이승철': 0, '먼지털이': 0, '이기주의': 0, '자이링스': 0, '신두영': 0, '저우궈단': 0, '수론': 0, '노근': 0, '방적': 0, '코백스': 0, '정해준': 0, '레뷰': 0, '오엠': 0, '공항동': 0, '러감소우크': 0, '여럭': 0, '재작년': 0, '빛속': 0, '동장군': 0, '비스텔리젼스': 0, '어글리랩': 0, '김지영': 0, '들러리': 0, '얼음장': 0, '설선물': 0, '드캣': 0, '위인': 0, '혼술': 0, '공직': 0, '계간지': 0, '기관물량': 0, '르륵': 0, '중처법': 0, '덩케르크': 0, '상영': 0, '프로앱텍': 0, '화학공학': 0, '판별': 0, '마블링': 0, '사무직': 0, '지우학': 0, '조해': 0, '최용석': 0, '박항서': 0, '김돈': 0, '사해행위': 0, '조디악': 0, '험난': 0, '약식': 0, '울렁증': 0, '병력': 0, '동유럽': 0, '급파': 0, '예시장': 0, '김성은': 0, '둠밈': 0, '샌드힐': 0, '이집': 0, '수피': 0, '따리': 0, '헛웃음': 0, '비상조치': 0, '안삿': 0, '맷집좋': 0, '워렌버핏': 0, '먹듯': 0, '코보': 0, '되셧나': 0, '전소': 0, '글월': 0, '욜날': 0, '달동': 0, '파피루스': 0, '텐큐민': 0, '그득': 0, '북팔': 0, '채윗': 0, '가일': 0, '산걸': 0, '태생': 0, '아시안컵': 0, '역전승': 0, '기담': 0, '섹키': 0, '앰블리': 0, '엠투웬티': 0, '야시장': 0, '골다공증': 0, '전창훈': 0, '힙지': 0, '레피젠': 0, '소줏값': 0, '이동채': 0, '백광선': 0, '브릿지스톤': 0, '백준기': 0, '엄브렐라': 0, '한낮': 0, '스피리': 0, '빅풋': 0, '집잇슈': 0, '엔데믹': 0, '조정권': 0, '빌스': 0, '이지현': 0, '입춘': 0, '닝닝': 0, '탕아': 0, '으름장': 0, '어테치': 0, '고춧가루': 0, '박재홍': 0, '식물분류학': 0, '죽파': 0, '김영동': 0, '티록': 0, '원샷': 0, '사기죄': 0, '법리': 0, '나종민': 0, '오월': 0, '남유럽': 0, '백퍼': 0, '배임죄': 0, '형량': 0, '웰핏': 0, '캠트': 0, '앤데믹': 0, '보링': 0, '햐향': 0, '빛발': 0, '최다인': 0, '텀블': 0, '안트로퀴노롤': 0, '엘앤애프': 0, '리젠셀': 0, '이응': 0, '장개': 0, '답글최': 0, '증말': 0, '거사': 0, '함영주': 0, '쇼트트랙': 0, '좀해': 0, '막둥이': 0, '샴디': 0, '보즈': 0, '살살': 0, '떡락빔': 0, '지랄병': 0, '인주': 0, '대법관': 0, '준준결승': 0, '이유빈': 0, '준결승': 0, '로턴': 0, '회관': 0, '재택치료': 0, '대심': 0, '키음': 0, '비브': 0, '연금술사': 0, '반월당역': 0, '한라산': 0, '상비약': 0, '체커': 0, '국가대표팀': 0, '릴레리': 0, '둘걸': 0, '박영주': 0, '유승운': 0, '나노기술': 0, '셀스닥': 0, '욘사마': 0, '표준규격': 0, '구급대원': 0, '목줄': 0, '사이렌': 0, '김상조': 0, '마케': 0, '가렬고하': 0, '허용석': 0, '빅베이슨': 0, '사빅': 0, '코그': 0, '방폐물': 0, '자이코브디': 0, '웍스감소알루': 0, '미디움': 0, '공중보건': 0, '원내': 0, '경희사이버대': 0, '알볼': 0, '반대론': 0, '에콜로': 0, '루이싱': 0, '배런스': 0, '비경': 0, '트윌': 0, '카라반': 0, '모핑': 0, '악도': 0, '중대사': 0, '쯔음': 0, '앙꼬빠진': 0, '쯔쯔': 0, '재아': 0, '엽업익': 0, '재외국민': 0, '김철': 0, '레티튜': 0, '테두리': 0, '월터': 0, '아브하': 0, '야오밍': 0, '신민': 0, '검찰조사': 0, '교토': 0, '번장': 0, '이우열': 0, '양말': 0, '하키': 0, '여천': 0, '널렸다': 0, '등지': 0, '인덕원역': 0, '디하우트': 0, '라발': 0, '오일쇼크': 0, '에그플레이션': 0, '총성': 0, '밀값': 0, '빅픽처': 0, '권재열': 0, '정지희': 0, '무독': 0, '이디야': 0, '와이퍼': 0, '운심': 0, '찬양': 0, '크놀': 0, '선거일': 0, '빽빽': 0, '헬스닥': 0, '샌프란': 0, '옵트론텍': 0, '소화기관': 0, '설리번': 0, '플래츠': 0, '랙스': 0, '경이': 0, '초심자': 0, '진절머리': 0, '병삼': 0, '쯔쯧': 0, '줄알': 0, '삿더': 0, '답글행': 0, '어뜨케': 0, '동백': 0, '제군': 0, '겨울잠': 0, '안좃': 0, '짐작': 0, '똥주': 0, '패착': 0, '이건모': 0, '괜찬': 0, '식량난': 0, '파텍': 0, '이병재': 0, '크림반도': 0, '헬스피': 0, '에이콘': 0, '전복': 0, '현인': 0, '원면': 0, '주성': 0, '뺨치': 0, '위급': 0, '형편': 0, '강신': 0, '건중': 0, '울주': 0, '태문': 0, '정신승리': 0, '낙서': 0, '숏충들': 0, '보토': 0, '영엽손': 0, '죈다': 0, '최용': 0, '쉐이퍼': 0, '빈야드': 0, '도피': 0, '감천': 0, '위자': 0, '조환익': 0, '강세찬': 0, '음산': 0, '자백': 0, '유쾌': 0, '상쾌': 0, '직납': 0, '이불': 0, '반칙왕': 0, '비아콤': 0, '데드캣': 0, '피블': 0, '원씨': 0, '인홈': 0, '김아랑': 0, '삼공': 0, '사뿐': 0, '필립할스': 0, '슈리': 0, '러군': 0, '성률': 0, '군포시': 0, '대학입학': 0, '교전': 0, '자각': 0, '립스틱': 0, '대포': 0, '신델라': 0, '옥산': 0, '다이내믹': 0, '깨알': 0, '방귀': 0, '루간스크': 0, '인제대': 0, '창춘시': 0, '빙설': 0, '쿠커': 0, '프라이팬': 0, '라니티딘': 0, '박격포': 0, '블링블링': 0, '공과': 0, '양주시': 0, '크로스플랫폼': 0, '성병': 0, '이유정': 0, '라르크': 0, '돈바스': 0, '졸지': 0, '말나': 0, '역쉬': 0, '스푸핑': 0, '레퍼런스': 0, '번지르르': 0, '김영화': 0, '혼꾸녕': 0, '도죄': 0, '프리드리히': 0, '봅슬레이': 0, '금빛': 0, '정격': 0, '엠앤비': 0, '허세': 0, '곽준호': 0, '개팀': 0, '심상정': 0, '독재자': 0, '투엑스': 0, '링클': 0, '틀뢴': 0, '신천동': 0, '김민제': 0, '짜장': 0, '만배': 0, '인터컨티넨탈': 0, '김학준': 0, '물손': 0, '재드': 0, '답글넌': 0, '흑두루미': 0, '본가': 0, '지팩': 0, '윈스롭': 0, '몬드': 0, '한순간': 0, '마약밀매': 0, '불뚝': 0, '흠슬라': 0, '다이엔': 0, '서상혁': 0, '서상현': 0, '몽산포': 0, '울주군': 0, '온양': 0, '더루츠': 0, '한림대': 0, '동탄성심병원': 0, '급냉': 0, '총탄': 0, '밸류맵': 0, '대낮': 0, '핫딜': 0, '파병': 0, '병무': 0, '유준': 0, '별문제': 0, '딴사람': 0, '윤짜장': 0, '우러': 0, '포고': 0, '돈값': 0, '갈피': 0, '반대편': 0, '편지함': 0, '진군': 0, '유혈': 0, '간주': 0, '이만': 0, '칼륨': 0, '러감': 0, '쟁점되': 0, '피엠탈': 0, '평화유지군': 0, '민호': 0, '서정연': 0, '파두': 0, '퍼피': 0, '독립국': 0, '썬글라스': 0, '에씰러': 0, '하만': 0, '유포자': 0, '부들부들': 0, '일진일퇴': 0, '나프타': 0, '아이티엑스': 0, '성체': 0, '낮투': 0, '알디': 0, '큐레이터': 0, '광각': 0, '촬상': 0, '투바': 0, '태현': 0, '피처링': 0, '감행': 0, '엄홍길': 0, '네팔': 0, '안전띠': 0, '열폭주': 0, '길주': 0, '한치': 0, '루엠헬': 0, '엣스': 0, '피라냐': 0, '앤로': 0, '라온택': 0, '주현영': 0, '블랙핀': 0, '애드튠': 0, '리필락': 0, '운전기사': 0, '정익': 0, '지푸라기': 0, '대위변제': 0, '평화협정': 0, '미영': 0, '증파': 0, '오씸': 0, '디바인': 0, '텔라독헬스': 0, '징집': 0, '군사작전': 0, '김혜주': 0, '스콘': 0, '대공포': 0, '솔루선': 0, '김호식': 0, '정상구': 0, '메디솝': 0, '원숙': 0, '개전': 0, '참극': 0, '장면': 0, '숏치': 0, '포성': 0, '싱가포르항공': 0, '고식': 0, '양진': 0, '연합인포맥스': 0, '네온': 0, '백승': 0, '록피드': 0, '블핑': 0, '야자수': 0, '쫍밥': 0, '스멜': 0, '격추': 0, '똥방': 0, '전쟁영화': 0, '한편': 0, '삐웅신누': 0, '기계번역': 0, '트란': 0, '혔따': 0, '금년': 0, '날걸': 0, '익절함': 0, '개똥주': 0, '성광': 0, '노션': 0, '키예프': 0, '종말론': 0, '사이버공격': 0, '삼각파': 0, '쟁고': 0, '객수': 0, '아워툴즈': 0, '동트기': 0, '비호감': 0, '곰인형': 0, '삼은': 0, '회도': 0, '나달': 0, '궁즉답': 0, '호언': 0, '학개': 0, '미도': 0, '구성은': 0, '한림': 0, '백프로': 0, '핵무기': 0, '창시자': 0, '풍파': 0, '텔시': 0, '퇴출위기': 0, '충정로': 0, '교서': 0, '자명': 0, '베를린': 0, '중러': 0, '싹둑': 0, '영칠': 0, '지단': 0, '김민호': 0, '아벨리노': 0, '외인구단': 0, '채널링': 0, '나노와이어': 0, '포켓몬빵': 0, '파킨스병': 0, '김혜수': 0, '보부상': 0, '바바': 0, '드감소엠': 0, '하르키우': 0, '접이식': 0, '침략': 0, '티감': 0, '소넷': 0, '황우': 0, '불안도': 0, '효현': 0, '이준현': 0, '토볼': 0, '공전': 0, '구속집행정지': 0, '품종': 0, '이촌': 0, '강촌': 0, '이화여자대': 0, '시금고': 0, '권선구': 0, '학사': 0, '사린': 0, '지다': 0, '송치호': 0, '층위': 0, '꽃샘추위': 0, '조루': 0, '시밀락': 0, '조성도': 0, '사이버전쟁': 0, '궁금점': 0, '미전': 0, '최진호': 0, '대양주': 0, '스튜': 0, '버댄틱스': 0, '통화시': 0, '우크라이나인': 0, '푸른빛': 0, '토인': 0, '느긋': 0, '내약': 0, '구월동': 0, '큰소리': 0, '던밀': 0, '크레버스': 0, '보건관리': 0, '헤르손': 0, '도면': 0, '추심': 0, '훈풍불다': 0, '소대장': 0, '옥택연': 0, '금맥': 0, '팔로워': 0, '픽싱': 0, '츄어블': 0, '왙싸': 0, '찬사': 0, '엔터테이너': 0, '탐정': 0, '강변': 0, '배려': 0, '쌍방': 0, '은상': 0, '존버가답': 0, '수선': 0, '폭팔': 0, '장창': 0, '뱅크런': 0, '유지비': 0, '김현태': 0, '전자레인지': 0, '스베르방크': 0, '김성훈': 0, '비상근': 0, '은애': 0, '통합교육': 0, '독야청청': 0, '한덕희': 0, '립스': 0, '김형욱': 0, '인삼공사': 0, '엔트리': 0, '카브아웃딜': 0, '핵전쟁': 0, '각도': 0, '이재범': 0, '헬륨': 0, '동해안': 0, '술값': 0, '스트라드': 0, '영석': 0, '코넌': 0, '명태': 0, '어획': 0, '질겁': 0, '소방차': 0, '사파이어': 0, '지엘비텍': 0, '노광': 0, '변국': 0, '소주시': 0, '재민': 0, '오데사': 0, '석유파동': 0, '우주통신': 0, '파종': 0, '붓기': 0, '토비스': 0, '베트남인': 0, '고국': 0, '주종': 0, '윤수': 0, '봉고': 0, '김천': 0, '고로': 0, '결빙': 0, '하든': 0, '개황': 0, '승복': 0, '누차': 0, '북인': 0, '전황': 0, '프라자': 0, '로랩': 0, '오미주': 0, '보살': 0, '러산': 0, '답글뭐': 0, '딕스스포팅굿스': 0, '자기방어': 0, '유머': 0, '분단': 0, '답글좌뻘': 0, '내공': 0, '씨엠인포텍': 0, '휴고보스': 0, '속슬': 0, '티큐': 0, '이팸': 0, '어퍼컷': 0, '조백규': 0, '강신우': 0, '펜션': 0, '금품': 0, '산전수전': 0, '래미안': 0, '용산구': 0, '시대정신': 0, '저능': 0, '윤통': 0, '퍼오르': 0, '세법개정안': 0, '히틀러': 0, '점착': 0, '스포츠스타': 0, '텔레셋': 0, '엠피코퍼': 0, '어학': 0, '담양': 0, '김영일': 0, '그린랩스': 0, '추경안': 0, '돈못버는': 0, '군사기지': 0, '키이우': 0, '이토마토': 0, '부담부증여': 0, '락원': 0, '군복': 0, '콘스텔': 0, '팬딩': 0, '청서': 0, '격화되': 0, '빅플래닛': 0, '테츠': 0, '아뽀키': 0, '일본어': 0, '핀산협': 0, '협렵': 0, '도미': 0, '스게': 0, '분체': 0, '선전시': 0, '홍성범': 0, '데니스': 0, '션사': 0, '봉강': 0, '서빙고': 0, '티브이데일리': 0, '장항선': 0, '우리말': 0, '산너머': 0, '용현': 0, '못정': 0, '화음': 0, '빼다꼼블리': 0, '눌릴때': 0, '정상철': 0, '텐바이텐': 0, '카뮤': 0, '폐쇄성': 0, '정재': 0, '부케': 0, '컬래버': 0, '고매': 0, '소장펀드': 0, '김경배': 0, '엑스엘게임즈': 0, '더방': 0, '인큐베이터': 0, '헥스': 0, '이어링': 0, '영태': 0, '인구학': 0, '시사회': 0, '보아스': 0, '생명연장': 0, '헥슬란트': 0, '개진': 0, '스칼프': 0, '밀가루': 0, '비엣': 0, '형상': 0, '하부': 0, '킥더': 0, '상술': 0, '이상훈': 0, '정리해고': 0, '레바': 0, '글로넷벤처': 0, '펫트너': 0, '트렌스페': 0, '거덜': 0, '그날그날': 0, '퇴로': 0, '투료': 0, '싸대기': 0, '항균문': 0, '손잡이': 0, '쉴드': 0, '유어핏': 0, '글판': 0, '에세이': 0, '린스타트업': 0, '심플렉스': 0, '번스': 0, '감별': 0, '파상': 0, '김성윤': 0, '심려': 0, '경윳값': 0, '방울': 0, '달기': 0, '이력서': 0, '체첸': 0, '김한상': 0, '창작동화': 0, '링더벨': 0, '그간': 0, '유료도로': 0, '도막': 0, '짠물': 0, '삭풍': 0, '이규진': 0, '멸렬': 0, '백정': 0, '원반': 0, '꼴깝': 0, '한탄': 0, '왕항': 0, '어촌': 0, '어항': 0, '통청': 0, '염라대왕': 0, '채결': 0, '망리': 0, '초조': 0, '새치': 0, '달란트': 0, '조경수': 0, '왕숙천': 0, '산문': 0, '볶이': 0, '출연재산': 0, '원효': 0, '각과': 0, '가주': 0, '통살': 0, '튀김': 0, '임일택': 0, '사돈': 0, '파파존스': 0, '빔팻': 0, '증산도': 0, '전현우': 0, '본액': 0, '영준': 0, '데이즈': 0, '발렌베리': 0, '조정제': 0, '김상열': 0, '주기도': 0, '환육': 0, '심사숙고': 0, '궁굼': 0, '영어듣기평가': 0, '특효약': 0, '청호나이스': 0, '통설': 0, '덮친격': 0, '평수': 0, '러푸': 0, '숄즈': 0, '잡플래닛': 0, '모노랩스': 0, '가명': 0, '국왕': 0, '퀸즐랜드': 0, '줄호재': 0, '오승현': 0, '박선영': 0, '귀요미': 0, '마리우폴': 0, '진감': 0, '현철': 0, '집잇슈증': 0, '이희철': 0, '보국': 0, '패티': 0, '후강': 0, '친목': 0, '카펠라': 0, '에스프레소': 0, '똑소리': 0, '미리보기': 0, '비품': 0, '설영오': 0, '산화알루미늄': 0, '실업난': 0, '신성환': 0, '폐액': 0, '펫팸족': 0, '스티브잡스': 0, '스카웃': 0, '다산북스': 0, '바르게': 0, '독일증시': 0, '창녕': 0, '외전': 0, '노인도': 0, '김상구': 0, '아크레': 0, '이홍': 0, '한증': 0, '레논': 0, '디글': 0, '테롤': 0, '아이윈': 0, '월내': 0, '크립톤': 0, '크렐': 0, '마석': 0, '월부': 0, '슐럼': 0, '용덕': 0, '금치': 0, '임태훈': 0, '호금': 0, '케피탈': 0, '창강': 0, '나들이': 0, '얼라이언스번스틴': 0, '딕트': 0, '자경단': 0, '국초': 0, '옴므': 0, '토이스토리': 0, '채진호': 0, '옥스박스': 0, '사적자치': 0, '쌍끌': 0, '예랑': 0, '써드': 0, '루멘스': 0, '유의점': 0, '니미': 0, '시파': 0, '무도': 0, '전기공': 0, '개착': 0, '마스터플랜': 0, '워홀': 0, '김남귀': 0, '부루': 0, '디버': 0, '흑해': 0, '명퇴': 0, '막춤': 0, '시스웍': 0, '신혼여행': 0, '구령': 0, '아스코르브산': 0, '로토제약': 0, '범규': 0, '스타일러스': 0, '성동': 0, '숙질': 0, '이기만': 0, '고추가': 0, '토장': 0, '엔엘': 0, '셀마': 0, '응수': 0, '이창용': 0, '크레달': 0, '리어카': 0, '베스티': 0, '음봉각': 0, '이본': 0, '답장': 0, '은맨': 0, '비현실적': 0, '김상현': 0, '인질': 0, '조성환': 0, '묵호': 0, '윤핵관': 0, '김경민': 0, '낭만': 0, '찰빵': 0, '터미네이터': 0, '언론인': 0, '권오준': 0, '대못': 0, '권오철': 0, '김형준': 0, '대기차': 0, '점증역': 0, '투구': 0, '우왕': 0, '존버했더': 0, '질라': 0, '쌍끄리': 0, '떳네': 0, '항공로': 0, '페쇄': 0, '부제품': 0, '빅네임': 0, '박카스': 0, '김준보': 0, '이주석': 0, '포렌식': 0, '관고동': 0, '김항': 0, '김영진': 0, '홍정기': 0, '윤영미': 0, '윤종욱': 0, '조용필': 0, '이경준': 0, '원내대표': 0, '관장': 0, '피엠': 0, '도매시장': 0, '콘래드': 0, '디너': 0, '국도건설': 0, '배곧': 0, '씨앤펄': 0, '맛남': 0, '보손': 0, '프론토콜': 0, '패션위크': 0, '그릭': 0, '요거트': 0, '헬시플래저': 0, '이원덕': 0, '전종': 0, '웨이즈': 0, '커피하우스': 0, '해장': 0, '부당거래': 0, '작전명': 0, '오나미': 0, '역병': 0, '덜컥': 0, '토익시험': 0, '간단': 0, '개월무': 0, '레드카드': 0, '손편지': 0, '비페코': 0, '칠흑': 0, '포연': 0, '허니버터칩': 0, '김현호': 0, '건화': 0, '강승엽': 0, '이선종': 0, '탑건': 0, '흉내': 0, '거푸집': 0, '락타': 0, '소방청': 0, '소방견': 0, '박두선': 0, '박진우': 0, '자루': 0, '빠듯': 0, '루지': 0, '이영환': 0, '마셜플랜': 0, '최응열': 0, '태영': 0, '혼수': 0, '들기름': 0, '막국수': 0, '코디법': 0, '히어': 0, '법수': 0, '학감': 0, '꿈비': 0, '비롯': 0, '주향': 0, '학교생활기록부': 0, '김형수': 0, '컨스텔': 0, '이정식': 0, '박상훈': 0, '김호일': 0, '김해시': 0, '김민영': 0, '소프톤': 0, '대식': 0, '병뚜껑': 0, '이윤석': 0, '인사청문회': 0, '지축역': 0, '해수욕장': 0, '큐롬': 0, '임기영': 0, '김동철': 0, '강지연': 0, '사천성': 0, '위닝': 0, '유희왕': 0, '코나미': 0, '셀렙샵': 0, '킬힐': 0, '어드벤처': 0, '공지원': 0, '칼스버그': 0, '인고': 0, '코베': 0, '예단': 0, '얼티엄셀즈': 0, '구조사': 0, '장지원': 0, '보철물': 0, '에어드롭': 0, '박세진': 0, '임종': 0, '절설': 0, '손짓': 0, '집중분석': 0, '이인석': 0, '예총': 0, '답글애': 0, '형왓다': 0, '전음': 0, '슬라중': 0, '묵념': 0, '참석자': 0, '하이네켄': 0, '한정욱': 0, '명화': 0, '노티': 0, '피델릭스': 0, '밀면': 0, '답임': 0, '재맹': 0, '몬차': 0, '구기': 0, '마누라': 0, '킬킬': 0, '횡행': 0, '슈가': 0, '갑진': 0, '백진': 0, '그레이스케일': 0, '김정하': 0, '금곡역': 0, '전쟁사': 0, '박신': 0, '보톨': 0, '김경훈': 0, '김학성': 0, '망고펀': 0, '김동훈': 0, '컨티뉴': 0, '워코': 0, '선로': 0, '이준엽': 0, '태안군': 0, '계량기': 0, '용수철': 0, '셰일오일': 0, '텄는데': 0, '박종욱': 0, '윤봉': 0, '윤성호': 0, '옴부즈맨': 0, '마땅': 0, '강하나': 0, '마피아': 0, '전지수': 0, '상폐빔': 0, '박상민': 0, '상유': 0, '양승국': 0, '데임': 0, '경주마': 0, '김태홍': 0, '이경민': 0, '정광': 0, '격화하': 0, '홍진경': 0, '연민': 0, '나프': 0, '신제윤': 0, '박병원': 0, '윤정선': 0, '한덕수': 0, '시찰': 0, '이종진': 0, '호외': 0, '악플': 0, '전선주': 0, '올킬': 0, '박수정': 0, '편도': 0, '주치의': 0, '취식': 0, '눈흘기': 0, '여운': 0, '드릉드릉': 0, '아첨': 0, '태장동': 0, '뷰웰': 0, '펠렛': 0, '영리': 0, '본관': 0, '동형': 0, '크리넥스': 0, '물티슈': 0, '발삼': 0, '블런트': 0, '직화': 0, '부타동': 0, '그래뉼래이트': 0, '수회': 0, '명석': 0, '개획': 0, '통위': 0, '서초구': 0, '특별활동': 0, '재난사': 0, '박상': 0, '정상원': 0, '송수영': 0, '선종': 0, '변봉덕': 0, '우석': 0, '감가상각': 0, '배드': 0, '엘디': 0, '카본블랙': 0, '늠들': 0, '가자잉': 0, '퍼넘': 0, '러우': 0, '못턴': 0, '물렸슴다': 0, '부리면': 0, '옷장': 0, '신구': 0, '삿삿히파': 0, '구경만': 0, '도농': 0, '죽산면': 0, '임전': 0, '잉내버': 0, '개부': 0, '무혈': 0, '흙빛': 0, '겐찬나': 0, '피박': 0, '악재떳는데': 0, '우감소러': 0, '뒤집혔다': 0, '집앞': 0, '건일': 0, '발트': 0, '한라봉': 0, '세라핌': 0, '트레저': 0, '독살': 0, '제혁': 0, '업뎃': 0, '캐뱅': 0, '명재혁': 0, '여분': 0, '특례법': 0, '개역': 0, '강존버': 0, '누르기': 0, '꼽자': 0, '김광규': 0, '고살': 0, '끄읕': 0, '답글삼': 0, '퇴근길': 0, '참작': 0, '콕톡': 0, '시영': 0, '화이트햇': 0, '송민섭': 0, '석우': 0, '앞운': 0, '봄여름가을겨울': 0, '즌스': 0, '꿀샘': 0, '수도관': 0, '라즈': 0, '디브이': 0, '도쿄돔': 0, '창고업': 0, '오얏나무': 0, '경시': 0, '멀티태스킹': 0, '텐정': 0, '디지털프라자': 0, '수영': 0, '더데': 0, '용정': 0, '범죄자': 0, '매콤': 0, '액티브형': 0, '용주': 0, '데빌': 0, '특별항고': 0, '에일리': 0, '소향': 0, '큅먼트': 0, '전자기장': 0, '돌부처': 0, '이지메': 0, '디컴': 0, '미진': 0, '컬트': 0, '카디날': 0, '전북대': 0, '담체': 0, '초불': 0, '확실성': 0, '일런': 0, '채화': 0, '오원': 0, '매곡': 0, '루벤': 0, '처자': 0, '년전': 0, '듀플래닛': 0, '상하이항': 0, '붕따우': 0, '원마운트': 0, '시인': 0, '후반전': 0, '헨폰압': 0, '배씨': 0, '게리': 0, '들보': 0, '감청': 0, '윗쪽': 0, '드글': 0, '김수미': 0, '농켓팅': 0, '종업원': 0, '바텐더': 0, '전쟁범죄': 0, '비피엠': 0, '보전처분': 0, '금지명령': 0, '릴스': 0, '박기석': 0, '팅실': 0, '커팅식': 0, '네추럴': 0, '용호상박': 0, '비스토스': 0, '운전대': 0, '플래스크': 0, '외적': 0, '네거리': 0, '그루비': 0, '알도': 0, '잊힌': 0, '사색': 0, '봉안': 0, '묘비': 0, '탭투': 0, '투젠': 0, '멋쟁이': 0, '최영욱': 0, '숙녀': 0, '차콜': 0, '어셈블리': 0, '히어링': 0, '에퀴스': 0, '구소련': 0, '프로텍': 0, '시신': 0, '노획': 0, '김달수': 0, '엉엉': 0, '카셰어링': 0, '투핸즈게임즈': 0, '앙숙': 0, '사카키': 0, '그래량': 0, '삼스': 0, '역적': 0, '슬라': 0, '광무': 0, '돌턴': 0, '모락': 0, '배아': 0, '생해': 0, '거슬러': 0, '에투': 0, '남탓': 0, '외계': 0, '부경대': 0, '안암': 0, '입대': 0, '비피엠지': 0, '웅기': 0, '신규성': 0, '김대현': 0, '신판': 0, '재무관리': 0, '미기': 0, '인플릿': 0, '배런': 0, '감일': 0, '해진': 0, '배치도': 0, '신설동역': 0, '국방로봇': 0, '핫플': 0, '카멜': 0, '이상균': 0, '작정': 0, '레이먼': 0, '휴렛패커드': 0, '박용현': 0, '가결의': 0, '모래시계': 0, '추경호': 0, '팔이': 0, '옥시덴털': 0, '짝사랑': 0, '솟을': 0, '저뿟단겨': 0, '상운': 0, '송지수': 0, '코엠': 0, '결정족': 0, '시간탐험대': 0, '전도성': 0, '달달': 0, '블랙데이': 0, '개연': 0, '열대': 0, '온네트': 0, '한겨레신문': 0, '김강석': 0, '윤자영': 0, '방준호': 0, '이자보': 0, '체액': 0, '열강': 0, '룸바': 0, '델라페': 0, '커피차': 0, '유병': 0, '터미날': 0, '바가지': 0, '얄마': 0, '강냉이': 0, '루시아': 0, '나소': 0, '브스': 0, '세손': 0, '지음': 0, '난전': 0, '허혜민': 0, '설빙': 0, '인절미': 0, '순희': 0, '손의락': 0, '김형석': 0, '데프론': 0, '테프론': 0, '야채': 0, '라이나': 0, '박지연': 0, '변호사비용': 0, '학생증': 0, '구식': 0, '무하': 0, '금천구청': 0, '풀메': 0, '호핑': 0, '입구': 0, '빗코': 0, '전인수': 0, '템트럼': 0, '한다해': 0, '증량': 0, '고하': 0, '박보': 0, '서대문': 0, '냅스': 0, '호주시': 0, '남악': 0, '벌금형': 0, '초량': 0, '김병재': 0, '엔젯': 0, '쉘터': 0, '가루약': 0, '이페': 0, '안습': 0, '섭외': 0, '유커넥': 0, '응기': 0, '주먹': 0, '고미페이먼츠': 0, '리저': 0, '워너브라더스': 0, '프시': 0, '비운': 0, '벤디트': 0, '메디르': 0, '겟차': 0, '금강산': 0, '슬리퍼': 0, '환경호르몬': 0, '마우스패드': 0, '씨스코': 0, '서체': 0, '사전통지': 0, '노소영': 0, '병설': 0, '이은해': 0, '보증채무': 0, '어른': 0, '스텐': 0, '이기택': 0, '강흥보': 0, '쫄지들': 0, '증삼': 0, '금감윈': 0, '이털리': 0, '드르믄': 0, '행여': 0, '부분열': 0, '스캐줄': 0, '포퓰러스': 0, '새봄': 0, '헤메': 0, '주술': 0, '복건성': 0, '운전면허': 0, '민증': 0, '테니스장': 0, '창해': 0, '덤블도어': 0, '오라이언': 0, '와드': 0, '기록물': 0, '인보': 0, '사케': 0, '척박': 0, '통역': 0, '곤지암': 0, '좌르륵': 0, '라데팡스': 0, '영동군': 0, '자딘': 0, '터슨': 0, '안타레스': 0, '이화여대': 0, '캡정': 0, '십억': 0, '인문학': 0, '황리': 0, '비톨': 0, '부활절': 0, '오토쇼': 0, '디벨': 0, '슈켓': 0, '셔녈': 0, '내연': 0, '어선': 0, '독설': 0, '침탈': 0, '대니얼': 0, '다이슨': 0, '픽앤픽': 0, '지우개': 0, '녹차': 0, '노화': 0, '활성탄': 0, '넥소': 0, '서재효': 0, '벌집': 0, '화상병': 0, '테온': 0, '서쪽': 0, '클라우딘': 0, '위네바': 0, '매카시': 0, '쿤산시': 0, '낙인': 0, '로기': 0, '마로': 0, '맞아뿟다': 0, '캐셔레스트': 0, '위버젠': 0, '도레미': 0, '삼슬라': 0, '디더존': 0, '이젠숏': 0, '팩텀': 0, '날때': 0, '박녕': 0, '백제인': 0, '후륜구동': 0, '홍춘욱': 0, '직문': 0, '직답': 0, '천생': 0, '브리티시': 0, '현궁': 0, '굴링': 0, '노정희': 0, '검시': 0, '병무청': 0, '이두희': 0, '김인철': 0, '리비우': 0, '새빗켐': 0, '에이치와이': 0, '문지연': 0, '탐사선': 0, '인후': 0, '장손': 0, '소식지': 0, '리팟': 0, '광관': 0, '킹오브파이터즈': 0, '뇌파': 0, '졸음': 0, '부주의': 0, '뱀헬': 0, '미닝': 0, '해병대': 0, '제네바': 0, '주란': 0, '김화': 0, '비성': 0, '전국동시': 0, '이재준': 0, '신한대': 0, '빠닥': 0, '들이욜': 0, '꼬시는구': 0, '인도판': 0, '무안군': 0, '낙지': 0, '불모': 0, '곡창': 0, '파주시장': 0, '애인': 0, '염화수소': 0, '제패': 0, '철길': 0, '젠차이': 0, '정교수': 0, '우애': 0, '참상': 0, '블렌딩': 0, '서커스': 0, '과식': 0, '업보': 0, '지존': 0, '웰릭스': 0, '큐디': 0, '이민영': 0, '버거운': 0, '숫값': 0, '던질껄': 0, '안내면': 0, '장연': 0, '종지': 0, '르릿': 0, '대보': 0, '메르세데스벤츠': 0, '칠성동': 0, '격탄': 0, '안정감': 0, '제네럴': 0, '더크': 0, '자막': 0, '김종대': 0, '앤섬': 0, '디케이드': 0, '쿠첸': 0, '울돌목': 0, '수어': 0, '폭죽': 0, '권오갑': 0, '세메스': 0, '발광': 0, '솔라셀': 0, '김봉진': 0, '정착민': 0, '핵인': 0, '번쨰': 0, '피사': 0, '벡스터': 0, '우승자': 0, '미노트': 0, '애틀란타': 0, '부툴': 0, '감광': 0, '자단': 0, '크렘샵': 0, '초격자': 0, '르펜': 0, '나왓는데': 0, '니미럴': 0, '쓰리엠': 0, '아픽': 0, '신덕': 0, '솔트': 0, '제일모직': 0, '남천동': 0, '매그나칩반도체': 0, '터널링': 0, '화목': 0, '틸론': 0, '타이거즈': 0, '바로다': 0, '치연': 0, '프로보': 0, '절마': 0, '정봉주': 0, '음서': 0, '청봉체': 0, '알통': 0, '용감한형제': 0, '사고방식': 0, '각시': 0, '북서': 0, '카나리': 0, '고척돔': 0, '시구': 0, '라옵': 0, '안마': 0, '블월즈': 0, '고창군': 0, '스피도': 0, '영양성분': 0, '코첼라': 0, '김철중': 0, '하겄': 0, '공해': 0, '콩밥': 0, '빡속': 0, '거동': 0, '독거': 0, '식용유': 0, '상론': 0, '시적': 0, '어헤': 0, '강일성': 0, '휜다': 0, '쯔쯔가무시': 0, '주르르': 0, '몸서리': 0, '헬로키티': 0, '산리오': 0, '허자': 0, '올리브유': 0, '룰스': 0, '어슈어런트': 0, '죽죽': 0, '최경철': 0, '엠투엠': 0, '현충사': 0, '달빛': 0, '야행': 0, '재외동포재단': 0, '연희동': 0, '발품': 0, '포뮬러원': 0, '창꼬': 0, '최수연': 0, '김중수': 0, '조지원': 0, '독창': 0, '지텍': 0, '몰도바': 0, '로젠블랫': 0, '아퓨': 0, '오픈스택': 0, '테러범': 0, '자작': 0, '볼로냐': 0, '공항버스': 0, '리비온': 0, '충선': 0, '콤마': 0, '셀파': 0, '의치': 0, '페르소나': 0, '스위트룸': 0, '요추': 0, '학식': 0, '브락': 0, '김태리': 0, '이준행': 0, '이성수': 0, '플레이어스': 0, '절대온도': 0, '최종인': 0, '산뜻': 0, '촉촉': 0, '넷스케이프': 0, '레이밴': 0, '성법': 0, '자장면': 0, '쌤쏭': 0, '대등': 0, '배팅한거': 0, '어쩌겠': 0, '닥치고': 0, '샤일록': 0, '파랑새': 0, '도사': 0, '빅테크주': 0, '이족': 0, '이정보': 0, '이념': 0, '워너브로스': 0, '이상설': 0, '정보격차': 0, '그라나도': 0, '에스파다': 0, '런던지하철': 0, '에스컬레이터': 0, '경찰대': 0, '프립': 0, '프렌트립': 0, '트둥': 0, '택슬리': 0, '방탄복': 0, '소총': 0, '나뭇잎': 0, '별수': 0, '김상욱': 0, '성서산단': 0, '이동헌': 0, '당락': 0, '에어시티': 0, '추락사고': 0, '브레튼': 0, '솔더': 0, '성골': 0, '에어포스원': 0, '타원': 0, '기린': 0, '펄핏': 0, '비엠아이': 0, '무기대여법': 0, '텍셀': 0, '멀린': 0, '아쿠아리움': 0, '군함': 0, '크레젯': 0, '돈가스': 0, '식은땀': 0, '로젠': 0, '문신용': 0, '밀수업자': 0, '점신': 0, '더헬': 0, '브로드캐스팅': 0, '어쩐지': 0, '르가든': 0, '김한석': 0, '업설': 0, '돌격': 0, '골프인': 0, '멧돼지': 0, '엽사': 0, '패션쇼': 0, '점퍼': 0, '량주': 0, '베코': 0, '옥천': 0, '통치': 0, '이구배': 0, '빵혀': 0, '식음': 0, '모스트': 0, '워크맨': 0, '농튜버': 0, '패키제': 0, '샹향': 0, '페러데이': 0, '모독': 0, '김규대': 0, '디엠씨': 0, '재택근무제': 0, '창피해': 0, '브랜다': 0, '항후': 0, '대망': 0, '시식': 0, '도박장': 0, '당진화력발전소': 0, '이응준': 0, '전야': 0, '학산': 0, '터넌스': 0, '널핏': 0, '조범': 0, '터넌': 0, '트너스': 0, '사회면': 0, '골자': 0, '에뛰드': 0, '미사': 0, '딜링': 0, '최종진': 0, '우열': 0, '지역감정': 0, '비엔비': 0, '김광진': 0, '정인성': 0, '김태형': 0, '남중': 0, '앱스': 0, '현승': 0, '지호': 0, '온주': 0, '권익제': 0, '대시보드': 0, '조양': 0, '누비': 0, '걸음걸이': 0, '회사원': 0, '튜더': 0, '파머수티컬스': 0, '독립채산제': 0, '인지질': 0, '마씨': 0, '억류': 0, '악동뮤지션': 0, '전언': 0, '원격검침': 0, '알키미스트': 0, '극동대': 0, '이온화': 0, '도적': 0, '동원령': 0, '안타라': 0, '혹사': 0, '소공동': 0, '가락동': 0, '검머': 0, '박법': 0, '섭리': 0, '주접': 0, '공주시': 0, '튜블릿': 0, '성범죄자': 0, '탭핀': 0, '언리얼엔진': 0, '골든골': 0, '스프라우트': 0, '손맛': 0, '헥셀': 0, '얌브랜즈': 0, '마라도나': 0, '기념품': 0, '패물': 0, '건희': 0, '소년개미': 0, '메디트': 0, '베쓰앤바디웍스': 0, '대인': 0, '줄악재': 0, '미경': 0, '인권위': 0, '레고랜드': 0, '손지연': 0, '토털뷰': 0, '밟힌': 0, '예측블': 0, '변경주': 0, '카티필': 0, '이재옥': 0, '팜텍': 0, '베터': 0, '핵폐기물': 0, '안나라수마나라': 0, '부띠': 0, '테퍼': 0, '이재환': 0, '뮤놀': 0, '미생물학': 0, '제민헬스': 0, '연한': 0, '얼빵': 0, '꺄꿍': 0, '컴패노': 0, '서곡': 0, '꽈과광': 0, '반가사유상': 0, '빈익': 0, '익부': 0, '왜냐면': 0, '수주고': 0, '퍼포': 0, '커넥티드카': 0, '하늘이시여': 0, '장세웅': 0, '니아랩스': 0, '왕윤': 0, '이기환': 0, '신명': 0, '기석': 0, '문라이트': 0, '최대현': 0, '국방력': 0, '쿨리지': 0, '뽑기': 0, '마동석': 0, '노랩': 0, '묵시': 0, '샌디에고': 0, '그라인더': 0, '마릴': 0, '블루노트': 0, '스테퍼즈': 0, '합숙': 0, '덕트오너': 0, '남우': 0, '고금': 0, '리채': 0, '김장열': 0, '청양군': 0, '제너럴모터스': 0, '군입대': 0, '대접': 0, '에어샤워': 0, '착이온': 0, '귀혼': 0, '동명대': 0, '소한': 0, '로콘': 0, '잠바': 0, '만찬': 0, '한나': 0, '썩열': 0, '굴속': 0, '결하': 0, '문세광': 0, '아웅산': 0, '또완': 0, '발해': 0, '원연': 0, '미니애폴리스': 0, '오닐': 0, '환도': 0, '셋핀': 0, '그로서리': 0, '아웃렛': 0, '난민캠프': 0, '이종승': 0, '합탑': 0, '보험연수원': 0, '노펙': 0, '인앤': 0, '모겐잘': 0, '선점해': 0, '리얼리티': 0, '김동석': 0, '딜리셔스': 0, '금호아시아나': 0, '몽곤': 0, '맨발': 0, '꾹꾹': 0, '얌체': 0, '채액티브': 0, '구일': 0, '투웨': 0, '베이징대': 0, '웅앵웅앵해': 0, '토합': 0, '지들물량': 0, '답글윤': 0, '자중': 0, '집무': 0, '이영훈': 0, '어째': 0, '기전력': 0, '생명수': 0, '배학진': 0, '중앙아프리카공화국': 0, '합참': 0, '이렇겐': 0, '청바지': 0, '톰보이': 0, '롸버트': 0, '아르테': 0, '테슬러': 0, '먹엇': 0, '재림': 0, '차키': 0, '면허증': 0, '얼릉': 0, '오작교': 0, '문진': 0, '중앙아프리카': 0, '룰더핏': 0, '스케이팅': 0, '감깜': 0, '전말': 0, '은혜': 0, '식스플래그': 0, '교복': 0, '내연기관차': 0, '특고': 0, '터브먼': 0, '보육원': 0, '점보': 0, '감찰': 0, '바스켓': 0, '이용만': 0, '엽전': 0, '둘째딸': 0, '특별인출권': 0, '흉년': 0, '검투사': 0, '장희민': 0, '인벤': 0, '철값': 0, '이병호': 0, '엠브라에르': 0, '아슬': 0, '저비용항공사': 0, '보일랩스': 0, '철인': 0, '엠피니티': 0, '워터스포츠': 0, '원로': 0, '모덱스': 0, '솔리테어': 0, '노태식': 0, '오픈워터': 0, '경순왕': 0, '천지': 0, '상륙작전': 0, '차콕': 0, '자가용': 0, '자잿값': 0, '구설': 0, '공급원': 0, '시효': 0, '천연두': 0, '템벡사': 0, '오버헤드': 0, '트레져헌터': 0, '물량증': 0, '쿠칩': 0, '탄산가스': 0, '가우스전자': 0, '캉더': 0, '앱택': 0, '단점': 0, '장덕': 0, '아이브': 0, '본국': 0, '강덕': 0, '강교': 0, '조명기구': 0, '광운': 0, '슈빌': 0, '테라파워': 0, '농기구': 0, '홈리빙': 0, '서퍼': 0, '모래주머니': 0, '칭화대': 0, '난연재': 0, '질권': 0, '농촌진흥청': 0, '슬로바키아': 0, '애큐': 0, '김미현': 0, '개소': 0, '얼애널': 0, '스카니아': 0, '창세기전': 0, '붕어': 0, '앰비': 0, '송지오': 0, '애프터어스': 0, '풋살': 0, '슈주': 0, '미키마우스': 0, '조감': 0, '렌티큘러': 0, '성취도': 0, '장철': 0, '호씨': 0, '아집': 0, '강종': 0, '비어가든': 0, '차준호': 0, '텔레칩스': 0, '리베로': 0, '김영옥': 0, '피커링': 0, '일본뇌염': 0, '선손반': 0, '편애': 0, '영차': 0, '행방불명자': 0, '스테인레스강': 0, '이대': 0, '당구': 0, '스롱': 0, '과기협': 0, '국건위': 0, '반재': 0, '트레센츠': 0, '파인베르': 0, '박주민': 0, '취객': 0, '스윽': 0, '모래폭풍': 0, '경복궁': 0, '향원정': 0, '김소영': 0, '지축': 0, '다윈': 0, '모기': 0, '노폭': 0, '중거리슛': 0, '장윤서': 0, '자리다툼': 0, '헤딩': 0, '심서연': 0, '날수': 0, '슈퍼콘': 0, '최예슬': 0, '골키퍼': 0, '득점': 0, '박은선': 0, '웬즈데이': 0, '세콤': 0, '덴탈급': 0, '숨쉬기': 0, '자유낙하': 0, '임계점': 0, '리조': 0, '면목동': 0, '유찬': 0, '지반': 0, '사하': 0, '오성': 0, '왈가': 0, '왈부': 0, '버쉬': 0, '수판': 0, '콘소시엄': 0, '뉴트리라이트': 0, '텔큐온': 0, '스코넥감소루': 0, '겸손': 0, '프로리그': 0, '봉봉': 0, '어쎈딩': 0, '드간거': 0, '불봉': 0, '윤재앙': 0, '퍼프': 0, '부정맥': 0, '광팬': 0, '라츠': 0, '타투': 0, '텐센트홀딩스': 0, '연발': 0, '민족주의': 0, '결사': 0, '시재': 0, '국기관': 0, '전통문화': 0, '조길형': 0, '충주시': 0, '학번': 0, '웹향': 0, '동물병원': 0, '디앙쥬': 0, '생균제': 0, '다보스': 0, '두창': 0, '극빈': 0, '식자': 0, '자취': 0, '파스칼': 0, '에렌프로인드': 0, '결합땐': 0, '회보': 0, '몬말': 0, '답글쥴리': 0, '저승': 0, '산격동': 0, '훈풍될까': 0, '크립트': 0, '소로카': 0, '르무통': 0, '캐셔': 0, '비탈': 0, '그래디언트': 0, '미들급': 0, '태봉': 0, '돈쭐남': 0, '박스터': 0, '육즙': 0, '대쉬': 0, '젠코시핑': 0, '핏펫': 0, '설리': 0, '피라미드': 0, '메트팩토': 0, '관저동': 0, '축우': 0, '어다': 0, '무법천지': 0, '지제역': 0, '로제텔핀': 0, '상제': 0, '더컷': 0, '신문동': 0, '개엿같': 0, '윤돼': 0, '튜이티브': 0, '서지': 0, '무직자': 0, '개떡': 0, '오벌': 0, '스멉셀': 0, '차선호': 0, '초강대국': 0, '어틀랜틱': 0, '모심기': 0, '신농': 0, '구걸': 0, '의역': 0, '스트롱벤처스로': 0, '블레츠': 0, '머쉬웰': 0, '차영주': 0, '엄경': 0, '철옹성': 0, '카톤팩': 0, '로보랩': 0, '도형': 0, '양산시': 0, '덕계동': 0, '아틀랜틱': 0, '김도영': 0, '빈털': 0, '전자회로': 0, '폼랩스': 0, '리세': 0, '박찬욱': 0, '인디애나주': 0, '김광주': 0, '디블렌트': 0, '몽탄': 0, '화폐개혁': 0, '건강악화': 0, '첩보': 0, '수광': 0, '분청': 0, '아페르': 0, '관리부장': 0, '군주': 0, '해양오염': 0, '저급': 0, '오매불망': 0, '최익훈': 0, '위국': 0, '레저렉션': 0, '산국': 0, '순리': 0, '듀퐁': 0, '이주원': 0, '이주경': 0, '이주아': 0, '김준기': 0, '프트': 0, '진대제': 0, '디오텍': 0, '침출수': 0, '잡담': 0, '엠팝': 0, '밤부': 0, '신봉': 0, '북해도': 0, '제실': 0, '하멜': 0, '코박터': 0, '발보린': 0, '전장시': 0, '훅훅': 0, '사륜': 0, '이륜': 0, '뽀개기': 0, '엘로힘': 0, '자카르타': 0, '불우': 0, '발달': 0, '바이스': 0, '체육회': 0, '혁파': 0, '돌이': 0, '플필먼트': 0, '김갑': 0, '저작물': 0, '효섭': 0, '빚내': 0, '만류': 0, '박병준': 0, '쩐주': 0, '시엠립': 0, '데스밸리': 0, '손인호': 0, '바이블': 0, '극도': 0, '문씨': 0, '여인': 0, '서문씨': 0, '아부지': 0, '매너': 0, '삶의질': 0, '웰리시스': 0, '신길우': 0, '라피치': 0, '서신동': 0, '빅텐': 0, '위키드': 0, '한종건': 0, '김정택': 0, '칸영화제': 0, '기술사': 0, '나고야': 0, '삼포': 0, '웰리': 0, '나뚜': 0, '중흥통신': 0, '휴엠앤씨': 0, '단맛': 0, '이재원': 0, '카드게임': 0, '식육': 0, '신길': 0, '박지현': 0, '쇄국': 0, '가격담합': 0, '맥킨': 0, '정인기': 0, '서든': 0, '습관화': 0, '선거운동': 0, '자치구': 0, '컨드': 0, '캔바': 0, '적신': 0, '골수팬': 0, '범입': 0, '망언': 0, '난주': 0, '주전부리': 0, '견줘': 0, '손색': 0, '통속': 0, '씨레기': 0, '외쿡놈': 0, '재적': 0, '손재호': 0, '프로슈머': 0, '엠팩': 0, '넥쿨링': 0, '더그레이': 0, '트쇼': 0, '임창정': 0, '간통': 0, '재력': 0, '카우라': 0, '그램퍼스': 0, '회정': 0, '드림콘서트': 0, '롯데리아': 0, '헛점': 0, '야야': 0, '엣시': 0, '효자손': 0, '무궁화호': 0, '영창': 0, '흉터': 0, '반론권': 0, '성신': 0, '호계동': 0, '배방': 0, '선거법': 0, '김은혜': 0, '실라': 0, '무드라': 0, '알버타주': 0, '즐거움': 0, '털석': 0, '조그만': 0, '함주': 0, '정원석': 0, '김선우': 0, '소지섭': 0, '상속인': 0, '회상': 0, '영제': 0, '킨들': 0, '위직': 0, '김준성': 0, '김현진': 0, '김송규': 0, '진승': 0, '듯감': 0, '켤레': 0, '규호': 0, '포워딩': 0, '프린시플': 0, '변쟁': 0, '자기화': 0, '절대평가': 0, '상대평가': 0, '셰릴': 0, '띵크': 0, '렌털사업': 0, '불확싱설': 0, '마린시티': 0, '새한': 0, '자릿': 0, '올가을': 0, '책무': 0, '임경환': 0, '피조': 0, '강산무진도': 0, '사프슈터': 0, '사모아': 0, '하늘나라': 0, '오리고기': 0, '피에스피': 0, '칸준': 0, '비알': 0, '전자금융업': 0, '긱스': 0, '휩쓰': 0, '강석훈': 0, '십자가': 0, '스패출러': 0, '김상태': 0, '관령': 0, '포로': 0, '젝트': 0, '굿잡': 0, '이복': 0, '탄저균': 0, '알킬': 0, '심활관': 0, '나가사키': 0, '력셔리': 0, '행정절차': 0, '롤리폴리': 0, '엠아이티': 0, '선낭암': 0, '크레텍': 0, '김경근': 0, '두고두고': 0, '반도체소자': 0, '김현구': 0, '워딩': 0, '때로는': 0, '도저히': 0, '어뗘': 0, '망햇음': 0, '카앱': 0, '산청': 0, '보난자': 0, '버츄': 0, '답글검': 0, '개패': 0, '덥석': 0, '살라': 0, '답글스디': 0, '이종복': 0, '준우': 0, '강일': 0, '미버스랩스': 0, '보나마나': 0, '포탑': 0, '웨스팅하우스': 0, '퍼블': 0, '리시': 0, '윤서': 0, '퍼블리시': 0, '폐활량': 0, '각양각색': 0, '평년': 0, '턴하': 0, '읍소': 0, '김건': 0, '합성가스': 0, '이부': 0, '청운': 0, '비탄': 0, '발명': 0, '골프대회': 0, '템포': 0, '칼잡이': 0, '최용호': 0, '수상택시': 0, '파머스픽': 0, '우럭': 0, '탑석': 0, '편파': 0, '멜팅팟': 0, '잠실도': 0, '덩치값': 0, '선물거래': 0, '나솔': 0, '개코': 0, '미니앨범': 0, '제니튼': 0, '보탤까': 0, '선물가게': 0, '태형': 0, '언양': 0, '학벌': 0, '코멤텍': 0, '이투스교육': 0, '천안역': 0, '섹타나': 0, '남궁': 0, '순회': 0, '묘안': 0, '조깅': 0, '생색': 0, '현우진': 0, '수뢰': 0, '유재수': 0, '의형': 0, '내비': 0, '똘똘하': 0, '울릉도': 0, '리치닥': 0, '불사신': 0, '콘쥬': 0, '건국대': 0, '파브': 0, '이월': 0, '열두달': 0, '성차별': 0, '우암': 0, '권면': 0, '증거불충분': 0, '자동차세': 0, '큐트': 0, '해수욕': 0, '니덤': 0, '바렐': 0, '뉴스초점': 0, '치장': 0, '차고': 0, '가드레일': 0, '송수관': 0, '스노볼': 0, '상률': 0, '시장조사': 0, '엎친': 0, '바닥재': 0, '애코캡': 0, '툴젠감소엠': 0, '광도': 0, '더쌘': 0, '답글혼또': 0, '더랩': 0, '재촉': 0, '여보': 0, '굴리는덴': 0, '젬백스앤카': 0, '나민': 0, '우리넷': 0, '산아': 0, '된장국': 0, '밥말': 0, '준석': 0, '탄식': 0, '회이팅': 0, '즈음': 0, '제도로': 0, '정선군': 0, '사북읍': 0, '니뮈': 0, '쳐쟈빠졌': 0, '찬티형': 0, '우전': 0, '목동역': 0, '염가': 0, '살포': 0, '강현기': 0, '파트장': 0, '서상영': 0, '대체에너지': 0, '바이오에탄올': 0, '엣눅': 0, '베개': 0, '큐티브': 0, '유사시': 0, '등골': 0, '어쩌면': 0, '양현': 0, '김종원': 0, '앤텍': 0, '안상': 0, '중차': 0, '활동중단': 0, '김준일': 0, '김종학': 0, '솔비': 0, '헛수': 0, '경성대': 0, '스파이웨어': 0, '통념': 0, '머그컵': 0, '제녹스': 0, '장액': 0, '퍼터그립': 0, '부경': 0, '역선택': 0, '김병전': 0, '터정': 0, '준가': 0, '헛발질': 0, '메코': 0, '창희': 0, '뤼더': 0, '집짓기': 0, '크로아티아': 0, '자그레브': 0, '득표율': 0, '위시켓': 0, '지루함': 0, '사룟값': 0, '황화리튬': 0, '핵의학': 0, '분자영상': 0, '앙꼬': 0, '찐빵': 0, '관종': 0, '레짐': 0, '즉효': 0, '권병현': 0, '해체설': 0, '레브론': 0, '파산보호': 0, '아덴': 0, '병존': 0, '에나': 0, '이호석': 0, '확율': 0, '부피': 0, '퀴티': 0, '강창희': 0, '경작지': 0, '송관종': 0, '눈곱': 0, '세인트존스': 0, '인격': 0, '아울북': 0, '무렵': 0, '로탈': 0, '브이엔티': 0, '쥴리': 0, '이해찬': 0, '집들이': 0, '김형중': 0, '아리아나': 0, '흥보': 0, '조호진': 0, '타용': 0, '그린파머스': 0, '스트랫': 0, '원탁': 0, '배론': 0, '연사': 0, '오에이': 0, '펫사': 0, '바라카': 0, '손씨': 0, '참의원': 0, '드포엠': 0, '호엔': 0, '성산': 0, '방림동': 0, '봉변': 0, '초원': 0, '통원': 0, '양정': 0, '낱개': 0, '고통지수': 0, '스팍스': 0, '티렉스': 0, '염치': 0, '한상민': 0, '조력': 0, '양면': 0, '윤여민': 0, '박창윤': 0, '에어인디아': 0, '이지젯': 0, '총수요': 0, '해방일': 0, '대체공휴일': 0, '준틴스': 0, '법성': 0, '노다지': 0, '바라바': 0, '특등': 0, '스나이퍼': 0, '헬화좀': 0, '힘이케': 0, '널린': 0, '안온': 0, '엑슨': 0, '더버': 0, '텔레리햅': 0, '서머스': 0, '가람동': 0, '출국금지': 0, '솔랙티브': 0, '셀레니언': 0, '글짓기': 0, '이사철': 0, '아틀리에': 0, '다누리': 0, '관람객': 0, '실론': 0, '김동준': 0, '레이첼': 0, '순진': 0, '냉담': 0, '제누졸락': 0, '똥멍청': 0, '뿡하': 0, '나죽': 0, '나좀': 0, '구야': 0, '손롱민': 0, '강물': 0, '칼끝': 0, '산문가': 0, '윤가': 0, '윤무': 0, '닉슨': 0, '드림라인': 0, '남이공': 0, '조코위': 0, '낙농제품': 0, '갈락': 0, '파정': 0, '혼탁': 0, '예나': 0, '이종호': 0, '카쿠': 0, '박홍근': 0, '바킨': 0, '과숙': 0, '콘코디언': 0, '은평구': 0, '하네다': 0, '교신': 0, '마더': 0, '정석호': 0, '팬톤': 0, '베르판': 0, '시계비행': 0, '천외': 0, '식용어': 0, '아지노모도': 0, '넥신': 0, '헛짚어': 0, '아팟는데': 0, '병점': 0, '서영': 0, '백방': 0, '남동구': 0, '소시에테': 0, '도병운': 0, '극일': 0, '정현철': 0, '팝아티스트': 0, '김태곤': 0, '커피타임': 0, '감전': 0, '아산재단': 0, '상팔자': 0, '콘순살텐더': 0, '빅컷': 0, '바베': 0, '유학생': 0, '약체': 0, '환란': 0, '코난': 0, '이전가격': 0, '횡재': 0, '상표명': 0, '눈칫밥': 0, '새소년': 0, '심연': 0, '실재': 0, '김행': 0, '끈끼': 0, '삐라': 0, '작도': 0, '지붕킥': 0, '공상': 0, '사이공': 0, '엠러닝': 0, '씨크릿': 0, '정려원': 0, '유나': 0, '가쇼': 0, '민학': 0, '임진': 0, '병법': 0, '최동훈': 0, '이재웅': 0, '탈락자': 0, '켄드리엄': 0, '니코틴산아미드': 0, '세비': 0, '자기개발': 0, '재태크': 0, '작별인사': 0, '미피드': 0, '잠룡': 0, '온천동': 0, '홈헬': 0, '황반': 0, '평화동': 0, '유토피아': 0, '진흙': 0, '한지붕': 0, '입소': 0, '옆구리': 0, '사시미': 0, '삼성로': 0, '서훈': 0, '두목': 0, '좌팔': 0, '얼치기': 0, '좌빨': 0, '떠렁져': 0, '가티': 0, '자기계발': 0, '웬수': 0, '헝다집단': 0, '미스유니버스': 0, '한의사': 0, '햇볕': 0, '장흥역': 0, '산뷰': 0, '향연': 0, '미음': 0, '박민지': 0, '윈도': 0, '대장장이': 0, '대표자': 0, '붓다': 0, '초박': 0, '전용기': 0, '감익폭': 0, '개밥': 0, '펄버': 0, '호의': 0, '불사조': 0, '호주머니': 0, '미슐랭': 0, '쵸코': 0, '얼티엄': 0, '셀즈': 0, '정봉': 0, '뜰때': 0, '파미르': 0, '가소제': 0, '라보': 0, '조소영': 0, '유정복': 0, '부정행위': 0, '쌀때': 0, '찍찍끌': 0, '수염': 0, '넘궈보자': 0, '금번': 0, '탐독': 0, '권토': 0, '버피': 0, '랄리맙': 0, '우블': 0, '윰세': 0, '환혼': 0, '빗캠': 0, '지금껏': 0, '봉준': 0, '최측근': 0, '두산큐벡스': 0, '삼진아웃': 0, '통일부': 0, '맥박': 0, '가온누리': 0, '여의도동': 0, '탈속': 0, '규소': 0, '김진원': 0, '앨러간': 0, '손더스': 0, '설법': 0, '특수전': 0, '공급사슬': 0, '플렛': 0, '센딘': 0, '필패': 0, '수츨증': 0, '쉬프': 0, '따로따로': 0, '정진': 0, '용비': 0, '자이낸스': 0, '분실': 0, '잠한': 0, '빈라덴': 0, '사업수익': 0, '반원': 0, '글루업': 0}\n"
     ]
    },
    {
     "name": "stderr",
     "output_type": "stream",
     "text": [
      "\n"
     ]
    }
   ],
   "source": [
    "vocab = {}\n",
    "cnt = 0\n",
    "for i in tqdm(df['nouns']):\n",
    "    i = i.split(' ')\n",
    "    for j in range(len(i)):\n",
    "        if i[j] in vocab or len(i[j]) <= 1:\n",
    "            cnt = cnt+1\n",
    "            pass\n",
    "        else:\n",
    "            vocab[i[j]] = 0\n",
    "print(len(vocab))\n",
    "print(vocab)"
   ]
  },
  {
   "cell_type": "code",
   "execution_count": 52,
   "id": "ktzXuwIiksk7",
   "metadata": {
    "ExecuteTime": {
     "end_time": "2022-07-12T02:17:11.175494Z",
     "start_time": "2022-07-12T02:17:11.090323Z"
    },
    "id": "ktzXuwIiksk7"
   },
   "outputs": [],
   "source": [
    "# vocab_freq.csv 저장!!\n",
    "import csv\n",
    "\n",
    "# dct = {'Name': 'John', 'Age': '23', 'Country': 'USA'}\n",
    "\n",
    "with open('[Model2]vocab_freq.csv', 'w', newline = '', encoding = 'utf-8-sig') as f:  \n",
    "    writer = csv.writer(f)\n",
    "    for k, v in vocab.items():\n",
    "        writer.writerow([k, v])"
   ]
  },
  {
   "cell_type": "markdown",
   "id": "9c1a9522",
   "metadata": {
    "ExecuteTime": {
     "end_time": "2022-07-11T07:47:04.068848Z",
     "start_time": "2022-07-11T07:47:04.053285Z"
    }
   },
   "source": [
    "### binary"
   ]
  },
  {
   "cell_type": "code",
   "execution_count": 33,
   "id": "6cdbfb38",
   "metadata": {
    "ExecuteTime": {
     "end_time": "2022-07-12T01:18:27.277637Z",
     "start_time": "2022-07-12T01:17:00.386283Z"
    },
    "colab": {
     "base_uri": "https://localhost:8080/"
    },
    "id": "6cdbfb38",
    "outputId": "ec2466cb-ec0c-4826-b8e0-e0f3e2dcc2f1"
   },
   "outputs": [
    {
     "name": "stderr",
     "output_type": "stream",
     "text": [
      "364333it [01:26, 4194.43it/s]\n"
     ]
    }
   ],
   "source": [
    "### binary\n",
    "up = df['감성지수'].value_counts()[1]\n",
    "down = df['감성지수'].value_counts()[0]\n",
    "up_ratio = up/(up+down)\n",
    "down_ratio = down/(up+down)\n",
    "\n",
    "import collections\n",
    "for i,w in tqdm(enumerate(df['nouns'])):\n",
    "    w = w.split(' ')\n",
    "    if (df.iloc[i]['감성지수']==1):\n",
    "        for j in range(len(w)):\n",
    "            noun = w[j]\n",
    "            if len(noun)<=1:\n",
    "                continue\n",
    "            vocab[noun] = vocab[noun] + down_ratio\n",
    "    else:\n",
    "        for j in range(len(w)):\n",
    "            noun = w[j]\n",
    "            if len(noun)<=1:\n",
    "                continue\n",
    "            vocab[noun] = vocab[noun] - up_ratio"
   ]
  },
  {
   "cell_type": "code",
   "execution_count": 34,
   "id": "6MRM9bZihzO-",
   "metadata": {
    "ExecuteTime": {
     "end_time": "2022-07-12T01:33:55.232041Z",
     "start_time": "2022-07-12T01:33:55.220184Z"
    },
    "id": "6MRM9bZihzO-"
   },
   "outputs": [],
   "source": [
    "# # vocab_score 저장!!!\n",
    "# with open('[Model8] vocab_score.csv', 'w', newline = '', encoding = 'utf-8-sig') as f:  \n",
    "#     writer = csv.writer(f)\n",
    "#     for k, v in vocab.items():\n",
    "#        writer.writerow([k, v])"
   ]
  },
  {
   "cell_type": "code",
   "execution_count": 35,
   "id": "9a75e239",
   "metadata": {
    "ExecuteTime": {
     "end_time": "2022-07-12T01:34:04.705400Z",
     "start_time": "2022-07-12T01:33:55.998396Z"
    },
    "colab": {
     "base_uri": "https://localhost:8080/"
    },
    "id": "9a75e239",
    "outputId": "d92b5e0b-7f12-488b-97ab-a712e24612a8"
   },
   "outputs": [
    {
     "name": "stderr",
     "output_type": "stream",
     "text": [
      "364333it [00:05, 64763.48it/s]\n"
     ]
    }
   ],
   "source": [
    "sent_dictionary = vocab\n",
    "total = []\n",
    "for i,w  in tqdm(enumerate(df['nouns'])):\n",
    "    sent_score = 0\n",
    "    w= w.split(' ')\n",
    "    for j in w:\n",
    "        if(len(j)<=1):\n",
    "            continue\n",
    "        elif(j not in sent_dictionary):\n",
    "            continue\n",
    "        else:\n",
    "            sent_score = sent_score + sent_dictionary[j]\n",
    "    total.append(sent_score/len(w))\n",
    "df['sent_score'] = total"
   ]
  },
  {
   "cell_type": "code",
   "execution_count": 36,
   "id": "62a02c38",
   "metadata": {
    "ExecuteTime": {
     "end_time": "2022-07-12T01:34:07.004285Z",
     "start_time": "2022-07-12T01:34:06.921280Z"
    },
    "colab": {
     "base_uri": "https://localhost:8080/",
     "height": 424
    },
    "id": "62a02c38",
    "outputId": "8bbab89c-2bb3-448d-b820-de6a8c86f396"
   },
   "outputs": [
    {
     "data": {
      "text/html": [
       "<div>\n",
       "<style scoped>\n",
       "    .dataframe tbody tr th:only-of-type {\n",
       "        vertical-align: middle;\n",
       "    }\n",
       "\n",
       "    .dataframe tbody tr th {\n",
       "        vertical-align: top;\n",
       "    }\n",
       "\n",
       "    .dataframe thead th {\n",
       "        text-align: right;\n",
       "    }\n",
       "</style>\n",
       "<table border=\"1\" class=\"dataframe\">\n",
       "  <thead>\n",
       "    <tr style=\"text-align: right;\">\n",
       "      <th></th>\n",
       "      <th>Date</th>\n",
       "      <th>Title</th>\n",
       "      <th>주가의 날짜</th>\n",
       "      <th>등락률</th>\n",
       "      <th>updown</th>\n",
       "      <th>Pos</th>\n",
       "      <th>Neg</th>\n",
       "      <th>Mid</th>\n",
       "      <th>감성지수</th>\n",
       "      <th>nouns</th>\n",
       "      <th>sent_score</th>\n",
       "      <th>sent_label</th>\n",
       "    </tr>\n",
       "  </thead>\n",
       "  <tbody>\n",
       "    <tr>\n",
       "      <th>0</th>\n",
       "      <td>2021-01-04</td>\n",
       "      <td>정영채 NH證 대표  고객과의 신뢰 중요</td>\n",
       "      <td>2021-01-05</td>\n",
       "      <td>2.24</td>\n",
       "      <td>1</td>\n",
       "      <td>1</td>\n",
       "      <td>0</td>\n",
       "      <td>0</td>\n",
       "      <td>1</td>\n",
       "      <td>정 영채 대표 고객 신뢰 중요</td>\n",
       "      <td>-110.182936</td>\n",
       "      <td>0</td>\n",
       "    </tr>\n",
       "    <tr>\n",
       "      <th>1</th>\n",
       "      <td>2021-01-04</td>\n",
       "      <td>마감 국채선물 상승  111 52 증가5틱</td>\n",
       "      <td>2021-01-05</td>\n",
       "      <td>2.24</td>\n",
       "      <td>1</td>\n",
       "      <td>1</td>\n",
       "      <td>0</td>\n",
       "      <td>0</td>\n",
       "      <td>1</td>\n",
       "      <td>마감 국채선물 상승 증가</td>\n",
       "      <td>-2072.636422</td>\n",
       "      <td>0</td>\n",
       "    </tr>\n",
       "    <tr>\n",
       "      <th>2</th>\n",
       "      <td>2021-01-04</td>\n",
       "      <td>새해 첫날 주식시장 축포   2900  돌파   3000  초읽기</td>\n",
       "      <td>2021-01-05</td>\n",
       "      <td>2.24</td>\n",
       "      <td>1</td>\n",
       "      <td>1</td>\n",
       "      <td>0</td>\n",
       "      <td>0</td>\n",
       "      <td>1</td>\n",
       "      <td>새해 첫날 주식시장 축포 돌파 초읽기</td>\n",
       "      <td>101.621105</td>\n",
       "      <td>0</td>\n",
       "    </tr>\n",
       "    <tr>\n",
       "      <th>3</th>\n",
       "      <td>2021-01-04</td>\n",
       "      <td>프로스테믹스  시설 증설에 55억 투자</td>\n",
       "      <td>2021-01-05</td>\n",
       "      <td>2.24</td>\n",
       "      <td>1</td>\n",
       "      <td>1</td>\n",
       "      <td>0</td>\n",
       "      <td>0</td>\n",
       "      <td>1</td>\n",
       "      <td>프로 스테 믹스 시설 증설 투자</td>\n",
       "      <td>-253.157015</td>\n",
       "      <td>0</td>\n",
       "    </tr>\n",
       "    <tr>\n",
       "      <th>4</th>\n",
       "      <td>2021-01-04</td>\n",
       "      <td>마감 프로그램 5841억 매도우위</td>\n",
       "      <td>2021-01-05</td>\n",
       "      <td>2.24</td>\n",
       "      <td>1</td>\n",
       "      <td>1</td>\n",
       "      <td>1</td>\n",
       "      <td>0</td>\n",
       "      <td>1</td>\n",
       "      <td>마감 프로그램 매도 우위</td>\n",
       "      <td>-4687.534820</td>\n",
       "      <td>0</td>\n",
       "    </tr>\n",
       "    <tr>\n",
       "      <th>...</th>\n",
       "      <td>...</td>\n",
       "      <td>...</td>\n",
       "      <td>...</td>\n",
       "      <td>...</td>\n",
       "      <td>...</td>\n",
       "      <td>...</td>\n",
       "      <td>...</td>\n",
       "      <td>...</td>\n",
       "      <td>...</td>\n",
       "      <td>...</td>\n",
       "      <td>...</td>\n",
       "      <td>...</td>\n",
       "    </tr>\n",
       "    <tr>\n",
       "      <th>364467</th>\n",
       "      <td>2022-06-29</td>\n",
       "      <td>수젠텍  원숭이두창 분자진단제품 개발 중 분자진단 플렛폼기술 확보</td>\n",
       "      <td>2022-06-30</td>\n",
       "      <td>-6.67</td>\n",
       "      <td>-1</td>\n",
       "      <td>1</td>\n",
       "      <td>1</td>\n",
       "      <td>0</td>\n",
       "      <td>1</td>\n",
       "      <td>수젠텍 원숭이 두창 분자 진단 제품 개발 중 분자 진단 플렛 폼 기술 확보</td>\n",
       "      <td>-612.281888</td>\n",
       "      <td>0</td>\n",
       "    </tr>\n",
       "    <tr>\n",
       "      <th>364468</th>\n",
       "      <td>2022-06-29</td>\n",
       "      <td>LS 주가 하락장서 역주행  모든 사업부가 호황</td>\n",
       "      <td>2022-06-30</td>\n",
       "      <td>-6.67</td>\n",
       "      <td>-1</td>\n",
       "      <td>1</td>\n",
       "      <td>1</td>\n",
       "      <td>0</td>\n",
       "      <td>1</td>\n",
       "      <td>주가 하락 장서 역주행 모든 사업 부가 호황</td>\n",
       "      <td>-5804.924109</td>\n",
       "      <td>0</td>\n",
       "    </tr>\n",
       "    <tr>\n",
       "      <th>364469</th>\n",
       "      <td>2022-06-29</td>\n",
       "      <td>SK바사  토종 백신 1호  식약처 승인 소식에 3 대 강세</td>\n",
       "      <td>2022-06-30</td>\n",
       "      <td>-6.67</td>\n",
       "      <td>-1</td>\n",
       "      <td>1</td>\n",
       "      <td>0</td>\n",
       "      <td>0</td>\n",
       "      <td>1</td>\n",
       "      <td>바사 토종 백신 호 식약처 승인 소식 강세</td>\n",
       "      <td>-79.121030</td>\n",
       "      <td>0</td>\n",
       "    </tr>\n",
       "    <tr>\n",
       "      <th>364470</th>\n",
       "      <td>2022-06-29</td>\n",
       "      <td>장중시황  코스피  1 4  내린 2389선 경기 침체 우려에 약세</td>\n",
       "      <td>2022-06-30</td>\n",
       "      <td>-6.67</td>\n",
       "      <td>-1</td>\n",
       "      <td>0</td>\n",
       "      <td>1</td>\n",
       "      <td>0</td>\n",
       "      <td>-1</td>\n",
       "      <td>장 황 코스피 선 경기 침체 우려 약세</td>\n",
       "      <td>-3643.460386</td>\n",
       "      <td>0</td>\n",
       "    </tr>\n",
       "    <tr>\n",
       "      <th>364471</th>\n",
       "      <td>2022-06-29</td>\n",
       "      <td>새빗켐  증권신고서 제출 코스닥 상장 본격화</td>\n",
       "      <td>2022-06-30</td>\n",
       "      <td>-6.67</td>\n",
       "      <td>-1</td>\n",
       "      <td>1</td>\n",
       "      <td>0</td>\n",
       "      <td>0</td>\n",
       "      <td>1</td>\n",
       "      <td>새빗켐 증권 신고 제출 코스닥 상장 본격</td>\n",
       "      <td>-950.904195</td>\n",
       "      <td>0</td>\n",
       "    </tr>\n",
       "  </tbody>\n",
       "</table>\n",
       "<p>364333 rows × 12 columns</p>\n",
       "</div>"
      ],
      "text/plain": [
       "              Date                                   Title      주가의 날짜   등락률  \\\n",
       "0       2021-01-04                 정영채 NH證 대표  고객과의 신뢰 중요   2021-01-05  2.24   \n",
       "1       2021-01-04                 마감 국채선물 상승  111 52 증가5틱  2021-01-05  2.24   \n",
       "2       2021-01-04    새해 첫날 주식시장 축포   2900  돌파   3000  초읽기  2021-01-05  2.24   \n",
       "3       2021-01-04                   프로스테믹스  시설 증설에 55억 투자  2021-01-05  2.24   \n",
       "4       2021-01-04                      마감 프로그램 5841억 매도우위  2021-01-05  2.24   \n",
       "...            ...                                     ...         ...   ...   \n",
       "364467  2022-06-29    수젠텍  원숭이두창 분자진단제품 개발 중 분자진단 플렛폼기술 확보  2022-06-30 -6.67   \n",
       "364468  2022-06-29             LS 주가 하락장서 역주행  모든 사업부가 호황   2022-06-30 -6.67   \n",
       "364469  2022-06-29       SK바사  토종 백신 1호  식약처 승인 소식에 3 대 강세  2022-06-30 -6.67   \n",
       "364470  2022-06-29   장중시황  코스피  1 4  내린 2389선 경기 침체 우려에 약세  2022-06-30 -6.67   \n",
       "364471  2022-06-29                새빗켐  증권신고서 제출 코스닥 상장 본격화  2022-06-30 -6.67   \n",
       "\n",
       "        updown  Pos  Neg  Mid  감성지수  \\\n",
       "0            1    1    0    0     1   \n",
       "1            1    1    0    0     1   \n",
       "2            1    1    0    0     1   \n",
       "3            1    1    0    0     1   \n",
       "4            1    1    1    0     1   \n",
       "...        ...  ...  ...  ...   ...   \n",
       "364467      -1    1    1    0     1   \n",
       "364468      -1    1    1    0     1   \n",
       "364469      -1    1    0    0     1   \n",
       "364470      -1    0    1    0    -1   \n",
       "364471      -1    1    0    0     1   \n",
       "\n",
       "                                            nouns   sent_score  sent_label  \n",
       "0                                정 영채 대표 고객 신뢰 중요  -110.182936           0  \n",
       "1                                   마감 국채선물 상승 증가 -2072.636422           0  \n",
       "2                            새해 첫날 주식시장 축포 돌파 초읽기   101.621105           0  \n",
       "3                               프로 스테 믹스 시설 증설 투자  -253.157015           0  \n",
       "4                                   마감 프로그램 매도 우위 -4687.534820           0  \n",
       "...                                           ...          ...         ...  \n",
       "364467  수젠텍 원숭이 두창 분자 진단 제품 개발 중 분자 진단 플렛 폼 기술 확보  -612.281888           0  \n",
       "364468                   주가 하락 장서 역주행 모든 사업 부가 호황 -5804.924109           0  \n",
       "364469                    바사 토종 백신 호 식약처 승인 소식 강세   -79.121030           0  \n",
       "364470                      장 황 코스피 선 경기 침체 우려 약세 -3643.460386           0  \n",
       "364471                     새빗켐 증권 신고 제출 코스닥 상장 본격  -950.904195           0  \n",
       "\n",
       "[364333 rows x 12 columns]"
      ]
     },
     "execution_count": 36,
     "metadata": {},
     "output_type": "execute_result"
    }
   ],
   "source": [
    "## 평균값 이상인 경우 1, 아닌 경우 0\n",
    "df['sent_label'] = 0\n",
    "df"
   ]
  },
  {
   "cell_type": "code",
   "execution_count": 37,
   "id": "6fda9e34",
   "metadata": {
    "ExecuteTime": {
     "end_time": "2022-07-12T01:35:51.657464Z",
     "start_time": "2022-07-12T01:34:10.345164Z"
    },
    "colab": {
     "base_uri": "https://localhost:8080/"
    },
    "id": "6fda9e34",
    "outputId": "68df6daa-26d4-4219-a36c-17dd6d61d6cd"
   },
   "outputs": [
    {
     "name": "stderr",
     "output_type": "stream",
     "text": [
      "100%|██████████████████████████████████████████████████████████████████████████| 31170/31170 [00:18<00:00, 1693.82it/s]\n",
      "100%|████████████████████████████████████████████████████████████████████████| 364333/364333 [01:22<00:00, 4408.23it/s]\n"
     ]
    },
    {
     "name": "stdout",
     "output_type": "stream",
     "text": [
      "sent_mean : -29.47454411649045\n"
     ]
    },
    {
     "data": {
      "text/html": [
       "<div>\n",
       "<style scoped>\n",
       "    .dataframe tbody tr th:only-of-type {\n",
       "        vertical-align: middle;\n",
       "    }\n",
       "\n",
       "    .dataframe tbody tr th {\n",
       "        vertical-align: top;\n",
       "    }\n",
       "\n",
       "    .dataframe thead th {\n",
       "        text-align: right;\n",
       "    }\n",
       "</style>\n",
       "<table border=\"1\" class=\"dataframe\">\n",
       "  <thead>\n",
       "    <tr style=\"text-align: right;\">\n",
       "      <th></th>\n",
       "      <th>Date</th>\n",
       "      <th>Title</th>\n",
       "      <th>주가의 날짜</th>\n",
       "      <th>등락률</th>\n",
       "      <th>updown</th>\n",
       "      <th>Pos</th>\n",
       "      <th>Neg</th>\n",
       "      <th>Mid</th>\n",
       "      <th>감성지수</th>\n",
       "      <th>nouns</th>\n",
       "      <th>sent_score</th>\n",
       "      <th>sent_label</th>\n",
       "    </tr>\n",
       "  </thead>\n",
       "  <tbody>\n",
       "    <tr>\n",
       "      <th>0</th>\n",
       "      <td>2021-01-04</td>\n",
       "      <td>정영채 NH證 대표  고객과의 신뢰 중요</td>\n",
       "      <td>2021-01-05</td>\n",
       "      <td>2.24</td>\n",
       "      <td>1</td>\n",
       "      <td>1</td>\n",
       "      <td>0</td>\n",
       "      <td>0</td>\n",
       "      <td>1</td>\n",
       "      <td>정 영채 대표 고객 신뢰 중요</td>\n",
       "      <td>-110.182936</td>\n",
       "      <td>0</td>\n",
       "    </tr>\n",
       "    <tr>\n",
       "      <th>1</th>\n",
       "      <td>2021-01-04</td>\n",
       "      <td>마감 국채선물 상승  111 52 증가5틱</td>\n",
       "      <td>2021-01-05</td>\n",
       "      <td>2.24</td>\n",
       "      <td>1</td>\n",
       "      <td>1</td>\n",
       "      <td>0</td>\n",
       "      <td>0</td>\n",
       "      <td>1</td>\n",
       "      <td>마감 국채선물 상승 증가</td>\n",
       "      <td>-2072.636422</td>\n",
       "      <td>0</td>\n",
       "    </tr>\n",
       "    <tr>\n",
       "      <th>2</th>\n",
       "      <td>2021-01-04</td>\n",
       "      <td>새해 첫날 주식시장 축포   2900  돌파   3000  초읽기</td>\n",
       "      <td>2021-01-05</td>\n",
       "      <td>2.24</td>\n",
       "      <td>1</td>\n",
       "      <td>1</td>\n",
       "      <td>0</td>\n",
       "      <td>0</td>\n",
       "      <td>1</td>\n",
       "      <td>새해 첫날 주식시장 축포 돌파 초읽기</td>\n",
       "      <td>101.621105</td>\n",
       "      <td>1</td>\n",
       "    </tr>\n",
       "    <tr>\n",
       "      <th>3</th>\n",
       "      <td>2021-01-04</td>\n",
       "      <td>프로스테믹스  시설 증설에 55억 투자</td>\n",
       "      <td>2021-01-05</td>\n",
       "      <td>2.24</td>\n",
       "      <td>1</td>\n",
       "      <td>1</td>\n",
       "      <td>0</td>\n",
       "      <td>0</td>\n",
       "      <td>1</td>\n",
       "      <td>프로 스테 믹스 시설 증설 투자</td>\n",
       "      <td>-253.157015</td>\n",
       "      <td>0</td>\n",
       "    </tr>\n",
       "    <tr>\n",
       "      <th>4</th>\n",
       "      <td>2021-01-04</td>\n",
       "      <td>마감 프로그램 5841억 매도우위</td>\n",
       "      <td>2021-01-05</td>\n",
       "      <td>2.24</td>\n",
       "      <td>1</td>\n",
       "      <td>1</td>\n",
       "      <td>1</td>\n",
       "      <td>0</td>\n",
       "      <td>1</td>\n",
       "      <td>마감 프로그램 매도 우위</td>\n",
       "      <td>-4687.534820</td>\n",
       "      <td>0</td>\n",
       "    </tr>\n",
       "  </tbody>\n",
       "</table>\n",
       "</div>"
      ],
      "text/plain": [
       "         Date                                 Title      주가의 날짜   등락률  updown  \\\n",
       "0  2021-01-04               정영채 NH證 대표  고객과의 신뢰 중요   2021-01-05  2.24       1   \n",
       "1  2021-01-04               마감 국채선물 상승  111 52 증가5틱  2021-01-05  2.24       1   \n",
       "2  2021-01-04  새해 첫날 주식시장 축포   2900  돌파   3000  초읽기  2021-01-05  2.24       1   \n",
       "3  2021-01-04                 프로스테믹스  시설 증설에 55억 투자  2021-01-05  2.24       1   \n",
       "4  2021-01-04                    마감 프로그램 5841억 매도우위  2021-01-05  2.24       1   \n",
       "\n",
       "   Pos  Neg  Mid  감성지수                 nouns   sent_score  sent_label  \n",
       "0    1    0    0     1      정 영채 대표 고객 신뢰 중요  -110.182936           0  \n",
       "1    1    0    0     1         마감 국채선물 상승 증가 -2072.636422           0  \n",
       "2    1    0    0     1  새해 첫날 주식시장 축포 돌파 초읽기   101.621105           1  \n",
       "3    1    0    0     1     프로 스테 믹스 시설 증설 투자  -253.157015           0  \n",
       "4    1    1    0     1         마감 프로그램 매도 우위 -4687.534820           0  "
      ]
     },
     "execution_count": 37,
     "metadata": {},
     "output_type": "execute_result"
    }
   ],
   "source": [
    "sum = 0\n",
    "for i in tqdm(range(len(vocab))):\n",
    "    sum = sum + list(vocab.values())[i]\n",
    "sent_mean = sum/len(vocab)\n",
    "\n",
    "a_ = []\n",
    "for i in tqdm(range(len(df))):\n",
    "    if(df.iloc[i]['sent_score']>sent_mean):\n",
    "        a_.append(1)\n",
    "    else:\n",
    "        a_.append(0)\n",
    "\n",
    "df['sent_label'] = a_\n",
    "print(\"sent_mean :\", sent_mean)\n",
    "df.head(5)"
   ]
  },
  {
   "cell_type": "code",
   "execution_count": 38,
   "id": "f640e671",
   "metadata": {
    "ExecuteTime": {
     "end_time": "2022-07-12T01:36:33.146612Z",
     "start_time": "2022-07-12T01:36:33.119366Z"
    }
   },
   "outputs": [
    {
     "data": {
      "text/plain": [
       "0    343903\n",
       "1     20430\n",
       "Name: sent_label, dtype: int64"
      ]
     },
     "execution_count": 38,
     "metadata": {},
     "output_type": "execute_result"
    }
   ],
   "source": [
    "df['sent_label'].value_counts()"
   ]
  },
  {
   "cell_type": "code",
   "execution_count": null,
   "id": "e721b31e",
   "metadata": {
    "ExecuteTime": {
     "end_time": "2022-07-11T02:04:14.246586Z",
     "start_time": "2022-07-11T02:04:14.246586Z"
    },
    "id": "e721b31e"
   },
   "outputs": [],
   "source": [
    "# Mecab 은 colab!"
   ]
  },
  {
   "cell_type": "code",
   "execution_count": 39,
   "id": "6e45b23e",
   "metadata": {
    "ExecuteTime": {
     "end_time": "2022-07-12T01:36:35.654695Z",
     "start_time": "2022-07-12T01:36:35.609225Z"
    },
    "id": "6e45b23e"
   },
   "outputs": [],
   "source": [
    "df['tokenized'] = 0"
   ]
  },
  {
   "cell_type": "code",
   "execution_count": 40,
   "id": "7c1812a4",
   "metadata": {
    "ExecuteTime": {
     "end_time": "2022-07-12T01:39:39.972608Z",
     "start_time": "2022-07-12T01:36:37.417026Z"
    },
    "colab": {
     "background_save": true
    },
    "id": "7c1812a4",
    "outputId": "cd11c587-7c8f-4a0f-dcb6-2d98b1838c1a",
    "scrolled": true
   },
   "outputs": [
    {
     "ename": "KeyboardInterrupt",
     "evalue": "",
     "output_type": "error",
     "traceback": [
      "\u001b[1;31m---------------------------------------------------------------------------\u001b[0m",
      "\u001b[1;31mKeyboardInterrupt\u001b[0m                         Traceback (most recent call last)",
      "Input \u001b[1;32mIn [40]\u001b[0m, in \u001b[0;36m<cell line: 6>\u001b[1;34m()\u001b[0m\n\u001b[0;32m      4\u001b[0m df\u001b[38;5;241m.\u001b[39mdropna(how\u001b[38;5;241m=\u001b[39m\u001b[38;5;124m'\u001b[39m\u001b[38;5;124many\u001b[39m\u001b[38;5;124m'\u001b[39m,inplace\u001b[38;5;241m=\u001b[39m \u001b[38;5;28;01mTrue\u001b[39;00m)\n\u001b[0;32m      5\u001b[0m \u001b[38;5;66;03m# validation_data.dropna(how='any', inplace=True)\u001b[39;00m\n\u001b[1;32m----> 6\u001b[0m df[\u001b[38;5;124m'\u001b[39m\u001b[38;5;124mtokenized\u001b[39m\u001b[38;5;124m'\u001b[39m] \u001b[38;5;241m=\u001b[39m \u001b[43mdf\u001b[49m\u001b[43m[\u001b[49m\u001b[38;5;124;43m'\u001b[39;49m\u001b[38;5;124;43mTitle\u001b[39;49m\u001b[38;5;124;43m'\u001b[39;49m\u001b[43m]\u001b[49m\u001b[38;5;241;43m.\u001b[39;49m\u001b[43mapply\u001b[49m\u001b[43m(\u001b[49m\u001b[43mokt\u001b[49m\u001b[38;5;241;43m.\u001b[39;49m\u001b[43mmorphs\u001b[49m\u001b[43m)\u001b[49m   \u001b[38;5;66;03m# 또는 자유롭게 라이브러리 사용\u001b[39;00m\n\u001b[0;32m      7\u001b[0m \u001b[38;5;66;03m# mecab = Mecab() \u001b[39;00m\n\u001b[0;32m      8\u001b[0m \u001b[38;5;66;03m# validation_data['tokenized'] = validation_data['제목'].apply(mecab.morphs)\u001b[39;00m\n\u001b[0;32m      9\u001b[0m X_train \u001b[38;5;241m=\u001b[39m df[\u001b[38;5;124m'\u001b[39m\u001b[38;5;124mtokenized\u001b[39m\u001b[38;5;124m'\u001b[39m]\u001b[38;5;241m.\u001b[39mvalues\n",
      "File \u001b[1;32m~\\.conda\\envs\\py123\\lib\\site-packages\\pandas\\core\\series.py:4433\u001b[0m, in \u001b[0;36mSeries.apply\u001b[1;34m(self, func, convert_dtype, args, **kwargs)\u001b[0m\n\u001b[0;32m   4323\u001b[0m \u001b[38;5;28;01mdef\u001b[39;00m \u001b[38;5;21mapply\u001b[39m(\n\u001b[0;32m   4324\u001b[0m     \u001b[38;5;28mself\u001b[39m,\n\u001b[0;32m   4325\u001b[0m     func: AggFuncType,\n\u001b[1;32m   (...)\u001b[0m\n\u001b[0;32m   4328\u001b[0m     \u001b[38;5;241m*\u001b[39m\u001b[38;5;241m*\u001b[39mkwargs,\n\u001b[0;32m   4329\u001b[0m ) \u001b[38;5;241m-\u001b[39m\u001b[38;5;241m>\u001b[39m DataFrame \u001b[38;5;241m|\u001b[39m Series:\n\u001b[0;32m   4330\u001b[0m     \u001b[38;5;124;03m\"\"\"\u001b[39;00m\n\u001b[0;32m   4331\u001b[0m \u001b[38;5;124;03m    Invoke function on values of Series.\u001b[39;00m\n\u001b[0;32m   4332\u001b[0m \n\u001b[1;32m   (...)\u001b[0m\n\u001b[0;32m   4431\u001b[0m \u001b[38;5;124;03m    dtype: float64\u001b[39;00m\n\u001b[0;32m   4432\u001b[0m \u001b[38;5;124;03m    \"\"\"\u001b[39;00m\n\u001b[1;32m-> 4433\u001b[0m     \u001b[38;5;28;01mreturn\u001b[39;00m \u001b[43mSeriesApply\u001b[49m\u001b[43m(\u001b[49m\u001b[38;5;28;43mself\u001b[39;49m\u001b[43m,\u001b[49m\u001b[43m \u001b[49m\u001b[43mfunc\u001b[49m\u001b[43m,\u001b[49m\u001b[43m \u001b[49m\u001b[43mconvert_dtype\u001b[49m\u001b[43m,\u001b[49m\u001b[43m \u001b[49m\u001b[43margs\u001b[49m\u001b[43m,\u001b[49m\u001b[43m \u001b[49m\u001b[43mkwargs\u001b[49m\u001b[43m)\u001b[49m\u001b[38;5;241;43m.\u001b[39;49m\u001b[43mapply\u001b[49m\u001b[43m(\u001b[49m\u001b[43m)\u001b[49m\n",
      "File \u001b[1;32m~\\.conda\\envs\\py123\\lib\\site-packages\\pandas\\core\\apply.py:1082\u001b[0m, in \u001b[0;36mSeriesApply.apply\u001b[1;34m(self)\u001b[0m\n\u001b[0;32m   1078\u001b[0m \u001b[38;5;28;01mif\u001b[39;00m \u001b[38;5;28misinstance\u001b[39m(\u001b[38;5;28mself\u001b[39m\u001b[38;5;241m.\u001b[39mf, \u001b[38;5;28mstr\u001b[39m):\n\u001b[0;32m   1079\u001b[0m     \u001b[38;5;66;03m# if we are a string, try to dispatch\u001b[39;00m\n\u001b[0;32m   1080\u001b[0m     \u001b[38;5;28;01mreturn\u001b[39;00m \u001b[38;5;28mself\u001b[39m\u001b[38;5;241m.\u001b[39mapply_str()\n\u001b[1;32m-> 1082\u001b[0m \u001b[38;5;28;01mreturn\u001b[39;00m \u001b[38;5;28;43mself\u001b[39;49m\u001b[38;5;241;43m.\u001b[39;49m\u001b[43mapply_standard\u001b[49m\u001b[43m(\u001b[49m\u001b[43m)\u001b[49m\n",
      "File \u001b[1;32m~\\.conda\\envs\\py123\\lib\\site-packages\\pandas\\core\\apply.py:1137\u001b[0m, in \u001b[0;36mSeriesApply.apply_standard\u001b[1;34m(self)\u001b[0m\n\u001b[0;32m   1131\u001b[0m         values \u001b[38;5;241m=\u001b[39m obj\u001b[38;5;241m.\u001b[39mastype(\u001b[38;5;28mobject\u001b[39m)\u001b[38;5;241m.\u001b[39m_values\n\u001b[0;32m   1132\u001b[0m         \u001b[38;5;66;03m# error: Argument 2 to \"map_infer\" has incompatible type\u001b[39;00m\n\u001b[0;32m   1133\u001b[0m         \u001b[38;5;66;03m# \"Union[Callable[..., Any], str, List[Union[Callable[..., Any], str]],\u001b[39;00m\n\u001b[0;32m   1134\u001b[0m         \u001b[38;5;66;03m# Dict[Hashable, Union[Union[Callable[..., Any], str],\u001b[39;00m\n\u001b[0;32m   1135\u001b[0m         \u001b[38;5;66;03m# List[Union[Callable[..., Any], str]]]]]\"; expected\u001b[39;00m\n\u001b[0;32m   1136\u001b[0m         \u001b[38;5;66;03m# \"Callable[[Any], Any]\"\u001b[39;00m\n\u001b[1;32m-> 1137\u001b[0m         mapped \u001b[38;5;241m=\u001b[39m \u001b[43mlib\u001b[49m\u001b[38;5;241;43m.\u001b[39;49m\u001b[43mmap_infer\u001b[49m\u001b[43m(\u001b[49m\n\u001b[0;32m   1138\u001b[0m \u001b[43m            \u001b[49m\u001b[43mvalues\u001b[49m\u001b[43m,\u001b[49m\n\u001b[0;32m   1139\u001b[0m \u001b[43m            \u001b[49m\u001b[43mf\u001b[49m\u001b[43m,\u001b[49m\u001b[43m  \u001b[49m\u001b[38;5;66;43;03m# type: ignore[arg-type]\u001b[39;49;00m\n\u001b[0;32m   1140\u001b[0m \u001b[43m            \u001b[49m\u001b[43mconvert\u001b[49m\u001b[38;5;241;43m=\u001b[39;49m\u001b[38;5;28;43mself\u001b[39;49m\u001b[38;5;241;43m.\u001b[39;49m\u001b[43mconvert_dtype\u001b[49m\u001b[43m,\u001b[49m\n\u001b[0;32m   1141\u001b[0m \u001b[43m        \u001b[49m\u001b[43m)\u001b[49m\n\u001b[0;32m   1143\u001b[0m \u001b[38;5;28;01mif\u001b[39;00m \u001b[38;5;28mlen\u001b[39m(mapped) \u001b[38;5;129;01mand\u001b[39;00m \u001b[38;5;28misinstance\u001b[39m(mapped[\u001b[38;5;241m0\u001b[39m], ABCSeries):\n\u001b[0;32m   1144\u001b[0m     \u001b[38;5;66;03m# GH#43986 Need to do list(mapped) in order to get treated as nested\u001b[39;00m\n\u001b[0;32m   1145\u001b[0m     \u001b[38;5;66;03m#  See also GH#25959 regarding EA support\u001b[39;00m\n\u001b[0;32m   1146\u001b[0m     \u001b[38;5;28;01mreturn\u001b[39;00m obj\u001b[38;5;241m.\u001b[39m_constructor_expanddim(\u001b[38;5;28mlist\u001b[39m(mapped), index\u001b[38;5;241m=\u001b[39mobj\u001b[38;5;241m.\u001b[39mindex)\n",
      "File \u001b[1;32m~\\.conda\\envs\\py123\\lib\\site-packages\\pandas\\_libs\\lib.pyx:2870\u001b[0m, in \u001b[0;36mpandas._libs.lib.map_infer\u001b[1;34m()\u001b[0m\n",
      "File \u001b[1;32m~\\.conda\\envs\\py123\\lib\\site-packages\\konlpy\\tag\\_okt.py:89\u001b[0m, in \u001b[0;36mOkt.morphs\u001b[1;34m(self, phrase, norm, stem)\u001b[0m\n\u001b[0;32m     86\u001b[0m \u001b[38;5;28;01mdef\u001b[39;00m \u001b[38;5;21mmorphs\u001b[39m(\u001b[38;5;28mself\u001b[39m, phrase, norm\u001b[38;5;241m=\u001b[39m\u001b[38;5;28;01mFalse\u001b[39;00m, stem\u001b[38;5;241m=\u001b[39m\u001b[38;5;28;01mFalse\u001b[39;00m):\n\u001b[0;32m     87\u001b[0m     \u001b[38;5;124;03m\"\"\"Parse phrase to morphemes.\"\"\"\u001b[39;00m\n\u001b[1;32m---> 89\u001b[0m     \u001b[38;5;28;01mreturn\u001b[39;00m [s \u001b[38;5;28;01mfor\u001b[39;00m s, t \u001b[38;5;129;01min\u001b[39;00m \u001b[38;5;28;43mself\u001b[39;49m\u001b[38;5;241;43m.\u001b[39;49m\u001b[43mpos\u001b[49m\u001b[43m(\u001b[49m\u001b[43mphrase\u001b[49m\u001b[43m,\u001b[49m\u001b[43m \u001b[49m\u001b[43mnorm\u001b[49m\u001b[38;5;241;43m=\u001b[39;49m\u001b[43mnorm\u001b[49m\u001b[43m,\u001b[49m\u001b[43m \u001b[49m\u001b[43mstem\u001b[49m\u001b[38;5;241;43m=\u001b[39;49m\u001b[43mstem\u001b[49m\u001b[43m)\u001b[49m]\n",
      "File \u001b[1;32m~\\.conda\\envs\\py123\\lib\\site-packages\\konlpy\\tag\\_okt.py:71\u001b[0m, in \u001b[0;36mOkt.pos\u001b[1;34m(self, phrase, norm, stem, join)\u001b[0m\n\u001b[0;32m     59\u001b[0m \u001b[38;5;124;03m\"\"\"POS tagger.\u001b[39;00m\n\u001b[0;32m     60\u001b[0m \u001b[38;5;124;03mIn contrast to other classes in this subpackage,\u001b[39;00m\n\u001b[0;32m     61\u001b[0m \u001b[38;5;124;03mthis POS tagger doesn't have a `flatten` option,\u001b[39;00m\n\u001b[1;32m   (...)\u001b[0m\n\u001b[0;32m     67\u001b[0m \u001b[38;5;124;03m:param join: If True, returns joined sets of morph and tag.\u001b[39;00m\n\u001b[0;32m     68\u001b[0m \u001b[38;5;124;03m\"\"\"\u001b[39;00m\n\u001b[0;32m     69\u001b[0m validate_phrase_inputs(phrase)\n\u001b[1;32m---> 71\u001b[0m tokens \u001b[38;5;241m=\u001b[39m \u001b[38;5;28;43mself\u001b[39;49m\u001b[38;5;241;43m.\u001b[39;49m\u001b[43mjki\u001b[49m\u001b[38;5;241;43m.\u001b[39;49m\u001b[43mtokenize\u001b[49m\u001b[43m(\u001b[49m\n\u001b[0;32m     72\u001b[0m \u001b[43m            \u001b[49m\u001b[43mphrase\u001b[49m\u001b[43m,\u001b[49m\n\u001b[0;32m     73\u001b[0m \u001b[43m            \u001b[49m\u001b[43mjpype\u001b[49m\u001b[38;5;241;43m.\u001b[39;49m\u001b[43mjava\u001b[49m\u001b[38;5;241;43m.\u001b[39;49m\u001b[43mlang\u001b[49m\u001b[38;5;241;43m.\u001b[39;49m\u001b[43mBoolean\u001b[49m\u001b[43m(\u001b[49m\u001b[43mnorm\u001b[49m\u001b[43m)\u001b[49m\u001b[43m,\u001b[49m\n\u001b[0;32m     74\u001b[0m \u001b[43m            \u001b[49m\u001b[43mjpype\u001b[49m\u001b[38;5;241;43m.\u001b[39;49m\u001b[43mjava\u001b[49m\u001b[38;5;241;43m.\u001b[39;49m\u001b[43mlang\u001b[49m\u001b[38;5;241;43m.\u001b[39;49m\u001b[43mBoolean\u001b[49m\u001b[43m(\u001b[49m\u001b[43mstem\u001b[49m\u001b[43m)\u001b[49m\u001b[43m)\u001b[49m\u001b[38;5;241m.\u001b[39mtoArray()\n\u001b[0;32m     75\u001b[0m \u001b[38;5;28;01mif\u001b[39;00m join:\n\u001b[0;32m     76\u001b[0m     \u001b[38;5;28;01mreturn\u001b[39;00m [t \u001b[38;5;28;01mfor\u001b[39;00m t \u001b[38;5;129;01min\u001b[39;00m tokens]\n",
      "\u001b[1;31mKeyboardInterrupt\u001b[0m: "
     ]
    }
   ],
   "source": [
    "# from konlpy.tag import Mecab\n",
    "# train_data, validation_data = train_test_split(df_train, test_size = 0.2, random_state = 42)\n",
    "\n",
    "df.dropna(how='any',inplace= True)\n",
    "# validation_data.dropna(how='any', inplace=True)\n",
    "df['tokenized'] = df['Title'].apply(okt.morphs)   # 또는 자유롭게 라이브러리 사용\n",
    "# mecab = Mecab() \n",
    "# validation_data['tokenized'] = validation_data['제목'].apply(mecab.morphs)\n",
    "X_train = df['tokenized'].values\n",
    "Y_train = df['sent_label'].values\n",
    "# X_vali= validation_data['tokenized'].values\n",
    "# Y_vali = validation_data['sent_label'].values"
   ]
  },
  {
   "cell_type": "code",
   "execution_count": null,
   "id": "65d1a908",
   "metadata": {
    "ExecuteTime": {
     "end_time": "2022-07-11T02:04:14.262390Z",
     "start_time": "2022-07-11T02:04:14.262390Z"
    },
    "colab": {
     "background_save": true
    },
    "id": "65d1a908"
   },
   "outputs": [],
   "source": [
    "tokenizer = Tokenizer()\n",
    "tokenizer.fit_on_texts(X_train)\n",
    "\n",
    "# 빈도 수가 낮은 단어 제거\n",
    "threshold = 3 # 3개 미만이면 제거\n",
    "\n",
    "words_cnt = len(tokenizer.word_index)\n",
    "rare_cnt = 0\n",
    "words_freq = 0\n",
    "rare_freq = 0\n",
    "\n",
    "for key, value in tqdm(tokenizer.word_counts.items()):\n",
    "    words_freq = words_freq + value\n",
    "\n",
    "    if value < threshold:\n",
    "        rare_cnt += 1\n",
    "        rare_freq = rare_freq + value\n",
    "\n",
    "print(\"전체 단어 수 :\", words_cnt)\n",
    "print(\"빈도가 {} 이하인 희귀 단어 수 : {}\".format(threshold-1, rare_cnt))\n",
    "print(\"희귀 단어 비율 : {}\".format((rare_cnt/words_cnt) * 100))\n",
    "print(\"희귀 단어 등장 빈도 비율 : {}\".format((rare_freq / words_freq) * 100))"
   ]
  },
  {
   "cell_type": "code",
   "execution_count": null,
   "id": "770cce3a",
   "metadata": {
    "ExecuteTime": {
     "end_time": "2022-07-11T02:04:14.267358Z",
     "start_time": "2022-07-11T02:04:14.267358Z"
    },
    "colab": {
     "background_save": true
    },
    "id": "770cce3a"
   },
   "outputs": [],
   "source": [
    "vocab_size = words_cnt - rare_cnt + 2\n",
    "print(vocab_size)"
   ]
  },
  {
   "cell_type": "code",
   "execution_count": null,
   "id": "a4cc7099",
   "metadata": {
    "ExecuteTime": {
     "end_time": "2022-07-11T02:04:14.273163Z",
     "start_time": "2022-07-11T02:04:14.272664Z"
    },
    "colab": {
     "background_save": true
    },
    "id": "a4cc7099"
   },
   "outputs": [],
   "source": [
    "tokenizer = Tokenizer(vocab_size, oov_token = 'OOV') \n",
    "tokenizer.fit_on_texts(X_train)\n",
    "X_train = tokenizer.texts_to_sequences(X_train)\n",
    "# X_vali = tokenizer.texts_to_sequences(X_vali)"
   ]
  },
  {
   "cell_type": "code",
   "execution_count": null,
   "id": "58aba707",
   "metadata": {
    "ExecuteTime": {
     "end_time": "2022-07-11T02:04:14.279006Z",
     "start_time": "2022-07-11T02:04:14.279006Z"
    },
    "colab": {
     "background_save": true
    },
    "id": "58aba707"
   },
   "outputs": [],
   "source": [
    "print('리뷰 최대 길이 :', max(len(i) for i in X_train))\n",
    "# print('리뷰 평균 길이 :', sum(map(len, X_train))/ len(X_train))"
   ]
  },
  {
   "cell_type": "code",
   "execution_count": null,
   "id": "ed5f9478",
   "metadata": {
    "ExecuteTime": {
     "end_time": "2022-07-11T02:04:14.285220Z",
     "start_time": "2022-07-11T02:04:14.285220Z"
    },
    "id": "ed5f9478"
   },
   "outputs": [],
   "source": [
    "from tensorflow.keras.preprocessing.sequence import pad_sequences\n",
    "\n",
    "def below_threshold_len(max_len, nested_list):\n",
    "    cnt = 0\n",
    "    for s in tqdm(nested_list):\n",
    "        if(len(s) <= max_len):\n",
    "            cnt = cnt + 1\n",
    "    print('전체 샘플 중 길이가 %s 이하인 샘플의 비율: %s'%(max_len, (cnt / len(nested_list))*100))\n",
    "\n",
    "max_len = max(len(i) for i in X_train)\n",
    "below_threshold_len(max_len, X_train)\n",
    "\n",
    "# 패딩\n",
    "X_train = pad_sequences(X_train, maxlen = max_len)\n",
    "# X_vali = pad_sequences(X_vali, maxlen = max_len)"
   ]
  },
  {
   "cell_type": "markdown",
   "id": "4879484f",
   "metadata": {
    "id": "4879484f"
   },
   "source": [
    "#### 모델링-LSTM"
   ]
  },
  {
   "cell_type": "code",
   "execution_count": 94,
   "id": "d909c417",
   "metadata": {
    "ExecuteTime": {
     "end_time": "2022-07-12T03:42:12.180546Z",
     "start_time": "2022-07-12T03:42:11.299576Z"
    },
    "id": "d909c417"
   },
   "outputs": [
    {
     "name": "stdout",
     "output_type": "stream",
     "text": [
      "Epoch 1/15\n"
     ]
    },
    {
     "ename": "ValueError",
     "evalue": "in user code:\n\n    File \"C:\\Users\\jinyo\\.conda\\envs\\py123\\lib\\site-packages\\keras\\engine\\training.py\", line 1021, in train_function  *\n        return step_function(self, iterator)\n    File \"C:\\Users\\jinyo\\.conda\\envs\\py123\\lib\\site-packages\\keras\\engine\\training.py\", line 1010, in step_function  **\n        outputs = model.distribute_strategy.run(run_step, args=(data,))\n    File \"C:\\Users\\jinyo\\.conda\\envs\\py123\\lib\\site-packages\\keras\\engine\\training.py\", line 1000, in run_step  **\n        outputs = model.train_step(data)\n    File \"C:\\Users\\jinyo\\.conda\\envs\\py123\\lib\\site-packages\\keras\\engine\\training.py\", line 860, in train_step\n        loss = self.compute_loss(x, y, y_pred, sample_weight)\n    File \"C:\\Users\\jinyo\\.conda\\envs\\py123\\lib\\site-packages\\keras\\engine\\training.py\", line 918, in compute_loss\n        return self.compiled_loss(\n    File \"C:\\Users\\jinyo\\.conda\\envs\\py123\\lib\\site-packages\\keras\\engine\\compile_utils.py\", line 201, in __call__\n        loss_value = loss_obj(y_t, y_p, sample_weight=sw)\n    File \"C:\\Users\\jinyo\\.conda\\envs\\py123\\lib\\site-packages\\keras\\losses.py\", line 141, in __call__\n        losses = call_fn(y_true, y_pred)\n    File \"C:\\Users\\jinyo\\.conda\\envs\\py123\\lib\\site-packages\\keras\\losses.py\", line 245, in call  **\n        return ag_fn(y_true, y_pred, **self._fn_kwargs)\n    File \"C:\\Users\\jinyo\\.conda\\envs\\py123\\lib\\site-packages\\keras\\losses.py\", line 1789, in categorical_crossentropy\n        return backend.categorical_crossentropy(\n    File \"C:\\Users\\jinyo\\.conda\\envs\\py123\\lib\\site-packages\\keras\\backend.py\", line 5083, in categorical_crossentropy\n        target.shape.assert_is_compatible_with(output.shape)\n\n    ValueError: Shapes (None, 3) and (None, 1) are incompatible\n",
     "output_type": "error",
     "traceback": [
      "\u001b[1;31m---------------------------------------------------------------------------\u001b[0m",
      "\u001b[1;31mValueError\u001b[0m                                Traceback (most recent call last)",
      "Input \u001b[1;32mIn [94]\u001b[0m, in \u001b[0;36m<cell line: 17>\u001b[1;34m()\u001b[0m\n\u001b[0;32m     15\u001b[0m \u001b[38;5;66;03m# model.compile(optimizer='adam', loss='sparse_categorical_crossentropy', metrics=['acc'])    # multinominal\u001b[39;00m\n\u001b[0;32m     16\u001b[0m model\u001b[38;5;241m.\u001b[39mcompile(optimizer\u001b[38;5;241m=\u001b[39m\u001b[38;5;124m'\u001b[39m\u001b[38;5;124mrmsprop\u001b[39m\u001b[38;5;124m'\u001b[39m, loss\u001b[38;5;241m=\u001b[39m\u001b[38;5;124m'\u001b[39m\u001b[38;5;124mcategorical_crossentropy\u001b[39m\u001b[38;5;124m'\u001b[39m, metrics\u001b[38;5;241m=\u001b[39m[\u001b[38;5;124m'\u001b[39m\u001b[38;5;124macc\u001b[39m\u001b[38;5;124m'\u001b[39m])  \u001b[38;5;66;03m# binary\u001b[39;00m\n\u001b[1;32m---> 17\u001b[0m history \u001b[38;5;241m=\u001b[39m \u001b[43mmodel\u001b[49m\u001b[38;5;241;43m.\u001b[39;49m\u001b[43mfit\u001b[49m\u001b[43m(\u001b[49m\u001b[43mX_train\u001b[49m\u001b[43m,\u001b[49m\u001b[43m \u001b[49m\u001b[43mY_train\u001b[49m\u001b[43m,\u001b[49m\u001b[43m \u001b[49m\u001b[43mepochs\u001b[49m\u001b[38;5;241;43m=\u001b[39;49m\u001b[38;5;241;43m15\u001b[39;49m\u001b[43m,\u001b[49m\u001b[43m \u001b[49m\u001b[43mcallbacks\u001b[49m\u001b[38;5;241;43m=\u001b[39;49m\u001b[43m[\u001b[49m\u001b[43mes\u001b[49m\u001b[43m,\u001b[49m\u001b[43m \u001b[49m\u001b[43mmc\u001b[49m\u001b[43m]\u001b[49m\u001b[43m,\u001b[49m\u001b[43m \u001b[49m\u001b[43mbatch_size\u001b[49m\u001b[38;5;241;43m=\u001b[39;49m\u001b[38;5;241;43m256\u001b[39;49m\u001b[43m,\u001b[49m\u001b[43m \u001b[49m\u001b[43mvalidation_split\u001b[49m\u001b[38;5;241;43m=\u001b[39;49m\u001b[38;5;241;43m0.2\u001b[39;49m\u001b[43m)\u001b[49m\n\u001b[0;32m     19\u001b[0m model\u001b[38;5;241m.\u001b[39msummary()\n",
      "File \u001b[1;32m~\\.conda\\envs\\py123\\lib\\site-packages\\keras\\utils\\traceback_utils.py:67\u001b[0m, in \u001b[0;36mfilter_traceback.<locals>.error_handler\u001b[1;34m(*args, **kwargs)\u001b[0m\n\u001b[0;32m     65\u001b[0m \u001b[38;5;28;01mexcept\u001b[39;00m \u001b[38;5;167;01mException\u001b[39;00m \u001b[38;5;28;01mas\u001b[39;00m e:  \u001b[38;5;66;03m# pylint: disable=broad-except\u001b[39;00m\n\u001b[0;32m     66\u001b[0m   filtered_tb \u001b[38;5;241m=\u001b[39m _process_traceback_frames(e\u001b[38;5;241m.\u001b[39m__traceback__)\n\u001b[1;32m---> 67\u001b[0m   \u001b[38;5;28;01mraise\u001b[39;00m e\u001b[38;5;241m.\u001b[39mwith_traceback(filtered_tb) \u001b[38;5;28;01mfrom\u001b[39;00m \u001b[38;5;28mNone\u001b[39m\n\u001b[0;32m     68\u001b[0m \u001b[38;5;28;01mfinally\u001b[39;00m:\n\u001b[0;32m     69\u001b[0m   \u001b[38;5;28;01mdel\u001b[39;00m filtered_tb\n",
      "File \u001b[1;32m~\\.conda\\envs\\py123\\lib\\site-packages\\tensorflow\\python\\framework\\func_graph.py:1147\u001b[0m, in \u001b[0;36mfunc_graph_from_py_func.<locals>.autograph_handler\u001b[1;34m(*args, **kwargs)\u001b[0m\n\u001b[0;32m   1145\u001b[0m \u001b[38;5;28;01mexcept\u001b[39;00m \u001b[38;5;167;01mException\u001b[39;00m \u001b[38;5;28;01mas\u001b[39;00m e:  \u001b[38;5;66;03m# pylint:disable=broad-except\u001b[39;00m\n\u001b[0;32m   1146\u001b[0m   \u001b[38;5;28;01mif\u001b[39;00m \u001b[38;5;28mhasattr\u001b[39m(e, \u001b[38;5;124m\"\u001b[39m\u001b[38;5;124mag_error_metadata\u001b[39m\u001b[38;5;124m\"\u001b[39m):\n\u001b[1;32m-> 1147\u001b[0m     \u001b[38;5;28;01mraise\u001b[39;00m e\u001b[38;5;241m.\u001b[39mag_error_metadata\u001b[38;5;241m.\u001b[39mto_exception(e)\n\u001b[0;32m   1148\u001b[0m   \u001b[38;5;28;01melse\u001b[39;00m:\n\u001b[0;32m   1149\u001b[0m     \u001b[38;5;28;01mraise\u001b[39;00m\n",
      "\u001b[1;31mValueError\u001b[0m: in user code:\n\n    File \"C:\\Users\\jinyo\\.conda\\envs\\py123\\lib\\site-packages\\keras\\engine\\training.py\", line 1021, in train_function  *\n        return step_function(self, iterator)\n    File \"C:\\Users\\jinyo\\.conda\\envs\\py123\\lib\\site-packages\\keras\\engine\\training.py\", line 1010, in step_function  **\n        outputs = model.distribute_strategy.run(run_step, args=(data,))\n    File \"C:\\Users\\jinyo\\.conda\\envs\\py123\\lib\\site-packages\\keras\\engine\\training.py\", line 1000, in run_step  **\n        outputs = model.train_step(data)\n    File \"C:\\Users\\jinyo\\.conda\\envs\\py123\\lib\\site-packages\\keras\\engine\\training.py\", line 860, in train_step\n        loss = self.compute_loss(x, y, y_pred, sample_weight)\n    File \"C:\\Users\\jinyo\\.conda\\envs\\py123\\lib\\site-packages\\keras\\engine\\training.py\", line 918, in compute_loss\n        return self.compiled_loss(\n    File \"C:\\Users\\jinyo\\.conda\\envs\\py123\\lib\\site-packages\\keras\\engine\\compile_utils.py\", line 201, in __call__\n        loss_value = loss_obj(y_t, y_p, sample_weight=sw)\n    File \"C:\\Users\\jinyo\\.conda\\envs\\py123\\lib\\site-packages\\keras\\losses.py\", line 141, in __call__\n        losses = call_fn(y_true, y_pred)\n    File \"C:\\Users\\jinyo\\.conda\\envs\\py123\\lib\\site-packages\\keras\\losses.py\", line 245, in call  **\n        return ag_fn(y_true, y_pred, **self._fn_kwargs)\n    File \"C:\\Users\\jinyo\\.conda\\envs\\py123\\lib\\site-packages\\keras\\losses.py\", line 1789, in categorical_crossentropy\n        return backend.categorical_crossentropy(\n    File \"C:\\Users\\jinyo\\.conda\\envs\\py123\\lib\\site-packages\\keras\\backend.py\", line 5083, in categorical_crossentropy\n        target.shape.assert_is_compatible_with(output.shape)\n\n    ValueError: Shapes (None, 3) and (None, 1) are incompatible\n"
     ]
    }
   ],
   "source": [
    "from tensorflow.keras.layers import Embedding, Dense, GRU, LSTM, Bidirectional\n",
    "from tensorflow.keras.models import Sequential, load_model\n",
    "from tensorflow.keras.callbacks import EarlyStopping, ModelCheckpoint\n",
    "\n",
    "model = Sequential()\n",
    "model.add(Embedding(vocab_size, 100))\n",
    "model.add(Bidirectional(LSTM(100)))\n",
    "model.add(Dense(1, activation='sigmoid'))\n",
    "\n",
    "# es = EarlyStopping(monitor='val_loss', mode='min', verbose=1, patience=4)\n",
    "mc = ModelCheckpoint('best_model.h5', \n",
    "#                      monitor='val_acc', \n",
    "                     mode='max', verbose=1, save_best_only=True)\n",
    "\n",
    "# model.compile(optimizer='adam', loss='sparse_categorical_crossentropy', metrics=['acc'])    # multinominal\n",
    "model.compile(optimizer='rmsprop', loss='categorical_crossentropy', metrics=['acc'])  # binary\n",
    "history = model.fit(X_train, Y_train, epochs=15, callbacks=[es, mc], batch_size=256, validation_split=0.2)\n",
    "\n",
    "model.summary()"
   ]
  },
  {
   "cell_type": "code",
   "execution_count": 91,
   "id": "9f1ba741",
   "metadata": {
    "ExecuteTime": {
     "end_time": "2022-07-12T03:40:12.209804Z",
     "start_time": "2022-07-12T03:40:12.195168Z"
    }
   },
   "outputs": [],
   "source": [
    "Y_result = df['updown'].values"
   ]
  },
  {
   "cell_type": "code",
   "execution_count": 93,
   "id": "fbc358d8",
   "metadata": {
    "ExecuteTime": {
     "end_time": "2022-07-12T03:41:46.943224Z",
     "start_time": "2022-07-12T03:40:23.198266Z"
    },
    "id": "fbc358d8",
    "scrolled": true
   },
   "outputs": [
    {
     "name": "stdout",
     "output_type": "stream",
     "text": [
      "11386/11386 [==============================] - 83s 7ms/step - loss: 3.5623 - acc: 0.3650\n"
     ]
    },
    {
     "data": {
      "text/plain": [
       "[3.5623388290405273, 0.3650369346141815]"
      ]
     },
     "execution_count": 93,
     "metadata": {},
     "output_type": "execute_result"
    }
   ],
   "source": [
    "# 저장된 모델 불러오기, 평가\n",
    "loaded_model = load_model('best_model.h5')\n",
    "loaded_model.evaluate(X_train, Y_result)"
   ]
  },
  {
   "cell_type": "code",
   "execution_count": 2,
   "id": "95c7075d",
   "metadata": {
    "ExecuteTime": {
     "end_time": "2022-07-11T07:48:35.595172Z",
     "start_time": "2022-07-11T07:48:35.587717Z"
    },
    "id": "95c7075d"
   },
   "outputs": [],
   "source": [
    "# # 시각화\n",
    "\n",
    "# hist_dict = history.history\n",
    "# loss = hist_dict['loss']\n",
    "# val_loss = hist_dict['val_loss']\n",
    "# acc = hist_dict['acc']\n",
    "# val_acc = hist_dict['val_acc']\n",
    "\n",
    "# plt.plot(loss, 'b--', label = 'training loss')\n",
    "# plt.plot(val_loss, 'r--', label = 'validation loss')\n",
    "# plt.legend()\n",
    "# plt.grid()\n",
    "\n",
    "# plt.figure()\n",
    "# plt.plot(acc, 'b--', label = 'training accuracy')\n",
    "# plt.plot(val_acc, 'r--', label = 'validation accuracy')\n",
    "# plt.legend()\n",
    "# plt.grid()\n",
    "\n",
    "# plt.show()"
   ]
  },
  {
   "cell_type": "code",
   "execution_count": 47,
   "id": "a9173542",
   "metadata": {
    "ExecuteTime": {
     "end_time": "2022-07-09T12:00:18.234259Z",
     "start_time": "2022-07-09T12:00:18.223645Z"
    },
    "id": "a9173542"
   },
   "outputs": [],
   "source": [
    "# 임의 불용어\n",
    "stopwords1 = ['의','가','이','은','들','는','좀','잘','걍','과','도','를','으로','자','에','와','한','하다']\n",
    "stopwords2 = ['도', '는', '다', '의', '가', '이', '은', '한', '에', '하', '고', '을', '를', '인', '듯', '과', '와', '네', '들', '듯', '지', '임', '게']\n",
    "stopwords = list(set(stopwords1 + stopwords2))\n",
    "\n",
    "def sentiment_predict(new_sentence):\n",
    "    new_token = [word for word in okt.morphs(new_sentence) if not word in stopwords]\n",
    "    new_sequences = tokenizer.texts_to_sequences([new_token])\n",
    "    new_pad = pad_sequences(new_sequences, maxlen = max_len)\n",
    "    score = float(loaded_model.predict(new_pad))\n",
    "\n",
    "    if score > 0.5:\n",
    "        print(\"{} -> 긍정 ({:.2f}%)\".format(new_sentence, score * 100))\n",
    "    else:\n",
    "        print(\"{} -> 부정 ({:.2f}%)\".format(new_sentence, (1-score) * 100))"
   ]
  },
  {
   "cell_type": "code",
   "execution_count": 48,
   "id": "99600b3a",
   "metadata": {
    "ExecuteTime": {
     "end_time": "2022-07-09T12:00:20.136585Z",
     "start_time": "2022-07-09T12:00:19.492032Z"
    },
    "id": "99600b3a"
   },
   "outputs": [
    {
     "name": "stdout",
     "output_type": "stream",
     "text": [
      "[유럽개장] 장초반 상승세…英 1.03%↑ -> 긍정 (100.00%)\n",
      "[시황종합] 코스피, '침체우려'에 장중 연저점 경신…2300선 턱걸이 마감 -> 부정 (100.00%)\n"
     ]
    }
   ],
   "source": [
    "sentiment_predict(\"[유럽개장] 장초반 상승세…英 1.03%↑\")\n",
    "sentiment_predict(\"[시황종합] 코스피, '침체우려'에 장중 연저점 경신…2300선 턱걸이 마감\")"
   ]
  },
  {
   "cell_type": "markdown",
   "id": "866c0e1f",
   "metadata": {
    "id": "29197bea"
   },
   "source": [
    "### multi"
   ]
  },
  {
   "cell_type": "code",
   "execution_count": 53,
   "id": "f73f0581",
   "metadata": {
    "ExecuteTime": {
     "end_time": "2022-07-12T02:19:41.175973Z",
     "start_time": "2022-07-12T02:17:26.630766Z"
    }
   },
   "outputs": [
    {
     "name": "stdout",
     "output_type": "stream",
     "text": [
      "up_ratio :  0.7027703366000566\n",
      "down_ratio :  0.29722966339994344\n"
     ]
    },
    {
     "name": "stderr",
     "output_type": "stream",
     "text": [
      "364333it [02:14, 2709.98it/s]\n"
     ]
    }
   ],
   "source": [
    "up = len(df[df['감성지수'] == 1])\n",
    "down = len(df[df['감성지수'] == -1])\n",
    "up_ratio = up/(up + down)\n",
    "down_ratio = down/(up + down)\n",
    "\n",
    "print('up_ratio : ', up_ratio)\n",
    "print('down_ratio : ', down_ratio)\n",
    "\n",
    "for i, w in tqdm(enumerate(df['nouns'])) : \n",
    "    w = w.split(' ') # 공백 기준으로 분리한 기사 제목 단어들의 리스트\n",
    "\n",
    "    if df.iloc[i]['감성지수'] == 1 : # 등락률이 양수면 \n",
    "        for j in range(len(w)) : # 리스트의 길이만큼 반복문을 돌려서\n",
    "            noun = w[j] # 단어를 뽑아내고\n",
    "            if len(noun) <=1 : # 단어가 없거나 1개 뿐이라면\n",
    "                continue\n",
    "            vocab[noun] += down_ratio # vocab의 noun키에 값 할당\n",
    "            \n",
    "    elif df.iloc[i]['감성지수'] == 0 :   # 등락률이 0이면\n",
    "        for j in range(len(w)) : # 리스트의 길이만큼 반복문을 돌려서\n",
    "            noun = w[j] # 단어를 뽑아내고\n",
    "            if len(noun) <=1 : # 단어가 없거나 1개 뿐이라면\n",
    "                continue\n",
    "            vocab[noun] = vocab[noun]\n",
    "\n",
    "    elif df.iloc[i]['감성지수'] == -1 : \n",
    "        for j in range(len(w)) : \n",
    "            noun = w[j]\n",
    "            if len(noun) <= 1:\n",
    "                continue\n",
    "            vocab[noun] -= up_ratio # vocab의 noun키에 값 할당"
   ]
  },
  {
   "cell_type": "code",
   "execution_count": null,
   "id": "fff0c168",
   "metadata": {},
   "outputs": [],
   "source": [
    "# # 단어 점수 csv 저장\n",
    "\n",
    "# with open('./data/[Model4]vocab_score.csv', 'w', newline='', encoding = 'utf-8-sig') as f:\n",
    "#     w = csv.writer(f)\n",
    "#     w.writerow(vocab.keys())\n",
    "#     w.writerow(vocab.values())"
   ]
  },
  {
   "cell_type": "code",
   "execution_count": 54,
   "id": "4f47f4a5",
   "metadata": {
    "ExecuteTime": {
     "end_time": "2022-07-12T02:23:26.827383Z",
     "start_time": "2022-07-12T02:23:23.238372Z"
    }
   },
   "outputs": [
    {
     "name": "stderr",
     "output_type": "stream",
     "text": [
      "364333it [00:03, 106352.38it/s]\n"
     ]
    }
   ],
   "source": [
    "sent_dictionary = vocab\n",
    "total = []\n",
    "\n",
    "for i, w in tqdm(enumerate(df['nouns'])):\n",
    "    sent_score = 0\n",
    "    w = w.split(' ')\n",
    "\n",
    "    for j in w : \n",
    "        if len(j) <= 1 :\n",
    "            continue\n",
    "        elif j not in sent_dictionary : \n",
    "            continue\n",
    "        else : \n",
    "            sent_score = sent_score + sent_dictionary[j]\n",
    "\n",
    "    total.append(sent_score/len(w))\n",
    "df['sent_score'] = total"
   ]
  },
  {
   "cell_type": "code",
   "execution_count": 55,
   "id": "20b5e67b",
   "metadata": {
    "ExecuteTime": {
     "end_time": "2022-07-12T02:23:28.276261Z",
     "start_time": "2022-07-12T02:23:28.218266Z"
    }
   },
   "outputs": [],
   "source": [
    "# 평균값 초과인 경우 1, 비슷한 경우 0, 미만인 경우 -1\n",
    "df['sent_label'] = 0"
   ]
  },
  {
   "cell_type": "code",
   "execution_count": 57,
   "id": "b4a81ca3",
   "metadata": {
    "ExecuteTime": {
     "end_time": "2022-07-12T02:23:45.050994Z",
     "start_time": "2022-07-12T02:23:45.022771Z"
    }
   },
   "outputs": [
    {
     "name": "stdout",
     "output_type": "stream",
     "text": [
      "sent_mean :  0.3879093539772399\n"
     ]
    }
   ],
   "source": [
    "sums = pd.DataFrame(vocab.values()).sum()[0]\n",
    "sent_mean = sums/len(vocab.keys())\n",
    "print('sent_mean : ', sent_mean)"
   ]
  },
  {
   "cell_type": "code",
   "execution_count": 58,
   "id": "ad59e0ad",
   "metadata": {
    "ExecuteTime": {
     "end_time": "2022-07-12T02:23:46.490952Z",
     "start_time": "2022-07-12T02:23:46.433711Z"
    }
   },
   "outputs": [
    {
     "data": {
      "text/plain": [
       "count    364333.000000\n",
       "mean        -46.641585\n",
       "std        1064.349745\n",
       "min      -12788.110947\n",
       "25%        -209.605544\n",
       "50%          79.879445\n",
       "75%         415.603017\n",
       "max        8111.940766\n",
       "Name: sent_score, dtype: float64"
      ]
     },
     "execution_count": 58,
     "metadata": {},
     "output_type": "execute_result"
    }
   ],
   "source": [
    "df['sent_score'].describe()"
   ]
  },
  {
   "cell_type": "code",
   "execution_count": 59,
   "id": "18103581",
   "metadata": {
    "ExecuteTime": {
     "end_time": "2022-07-12T02:25:38.522566Z",
     "start_time": "2022-07-12T02:23:47.875343Z"
    }
   },
   "outputs": [
    {
     "name": "stderr",
     "output_type": "stream",
     "text": [
      "100%|████████████████████████████████████████████████████████████████████████| 364333/364333 [01:50<00:00, 3300.01it/s]\n"
     ]
    },
    {
     "data": {
      "text/html": [
       "<div>\n",
       "<style scoped>\n",
       "    .dataframe tbody tr th:only-of-type {\n",
       "        vertical-align: middle;\n",
       "    }\n",
       "\n",
       "    .dataframe tbody tr th {\n",
       "        vertical-align: top;\n",
       "    }\n",
       "\n",
       "    .dataframe thead th {\n",
       "        text-align: right;\n",
       "    }\n",
       "</style>\n",
       "<table border=\"1\" class=\"dataframe\">\n",
       "  <thead>\n",
       "    <tr style=\"text-align: right;\">\n",
       "      <th></th>\n",
       "      <th>Date</th>\n",
       "      <th>Title</th>\n",
       "      <th>주가의 날짜</th>\n",
       "      <th>등락률</th>\n",
       "      <th>updown</th>\n",
       "      <th>Pos</th>\n",
       "      <th>Neg</th>\n",
       "      <th>Mid</th>\n",
       "      <th>감성지수</th>\n",
       "      <th>nouns</th>\n",
       "      <th>sent_score</th>\n",
       "      <th>sent_label</th>\n",
       "    </tr>\n",
       "  </thead>\n",
       "  <tbody>\n",
       "    <tr>\n",
       "      <th>0</th>\n",
       "      <td>2021-01-04</td>\n",
       "      <td>정영채 NH證 대표  고객과의 신뢰 중요</td>\n",
       "      <td>2021-01-05</td>\n",
       "      <td>2.24</td>\n",
       "      <td>1</td>\n",
       "      <td>1</td>\n",
       "      <td>0</td>\n",
       "      <td>0</td>\n",
       "      <td>1</td>\n",
       "      <td>정 영채 대표 고객 신뢰 중요</td>\n",
       "      <td>52.637560</td>\n",
       "      <td>1</td>\n",
       "    </tr>\n",
       "    <tr>\n",
       "      <th>1</th>\n",
       "      <td>2021-01-04</td>\n",
       "      <td>마감 국채선물 상승  111 52 증가5틱</td>\n",
       "      <td>2021-01-05</td>\n",
       "      <td>2.24</td>\n",
       "      <td>1</td>\n",
       "      <td>1</td>\n",
       "      <td>0</td>\n",
       "      <td>0</td>\n",
       "      <td>1</td>\n",
       "      <td>마감 국채선물 상승 증가</td>\n",
       "      <td>2113.599047</td>\n",
       "      <td>1</td>\n",
       "    </tr>\n",
       "    <tr>\n",
       "      <th>2</th>\n",
       "      <td>2021-01-04</td>\n",
       "      <td>새해 첫날 주식시장 축포   2900  돌파   3000  초읽기</td>\n",
       "      <td>2021-01-05</td>\n",
       "      <td>2.24</td>\n",
       "      <td>1</td>\n",
       "      <td>1</td>\n",
       "      <td>0</td>\n",
       "      <td>0</td>\n",
       "      <td>1</td>\n",
       "      <td>새해 첫날 주식시장 축포 돌파 초읽기</td>\n",
       "      <td>265.428439</td>\n",
       "      <td>1</td>\n",
       "    </tr>\n",
       "    <tr>\n",
       "      <th>3</th>\n",
       "      <td>2021-01-04</td>\n",
       "      <td>프로스테믹스  시설 증설에 55억 투자</td>\n",
       "      <td>2021-01-05</td>\n",
       "      <td>2.24</td>\n",
       "      <td>1</td>\n",
       "      <td>1</td>\n",
       "      <td>0</td>\n",
       "      <td>0</td>\n",
       "      <td>1</td>\n",
       "      <td>프로 스테 믹스 시설 증설 투자</td>\n",
       "      <td>701.723391</td>\n",
       "      <td>1</td>\n",
       "    </tr>\n",
       "    <tr>\n",
       "      <th>4</th>\n",
       "      <td>2021-01-04</td>\n",
       "      <td>마감 프로그램 5841억 매도우위</td>\n",
       "      <td>2021-01-05</td>\n",
       "      <td>2.24</td>\n",
       "      <td>1</td>\n",
       "      <td>1</td>\n",
       "      <td>1</td>\n",
       "      <td>0</td>\n",
       "      <td>1</td>\n",
       "      <td>마감 프로그램 매도 우위</td>\n",
       "      <td>-1310.488684</td>\n",
       "      <td>-1</td>\n",
       "    </tr>\n",
       "    <tr>\n",
       "      <th>...</th>\n",
       "      <td>...</td>\n",
       "      <td>...</td>\n",
       "      <td>...</td>\n",
       "      <td>...</td>\n",
       "      <td>...</td>\n",
       "      <td>...</td>\n",
       "      <td>...</td>\n",
       "      <td>...</td>\n",
       "      <td>...</td>\n",
       "      <td>...</td>\n",
       "      <td>...</td>\n",
       "      <td>...</td>\n",
       "    </tr>\n",
       "    <tr>\n",
       "      <th>364467</th>\n",
       "      <td>2022-06-29</td>\n",
       "      <td>수젠텍  원숭이두창 분자진단제품 개발 중 분자진단 플렛폼기술 확보</td>\n",
       "      <td>2022-06-30</td>\n",
       "      <td>-6.67</td>\n",
       "      <td>-1</td>\n",
       "      <td>1</td>\n",
       "      <td>1</td>\n",
       "      <td>0</td>\n",
       "      <td>1</td>\n",
       "      <td>수젠텍 원숭이 두창 분자 진단 제품 개발 중 분자 진단 플렛 폼 기술 확보</td>\n",
       "      <td>-54.156842</td>\n",
       "      <td>-1</td>\n",
       "    </tr>\n",
       "    <tr>\n",
       "      <th>364468</th>\n",
       "      <td>2022-06-29</td>\n",
       "      <td>LS 주가 하락장서 역주행  모든 사업부가 호황</td>\n",
       "      <td>2022-06-30</td>\n",
       "      <td>-6.67</td>\n",
       "      <td>-1</td>\n",
       "      <td>1</td>\n",
       "      <td>1</td>\n",
       "      <td>0</td>\n",
       "      <td>1</td>\n",
       "      <td>주가 하락 장서 역주행 모든 사업 부가 호황</td>\n",
       "      <td>-1642.033698</td>\n",
       "      <td>-1</td>\n",
       "    </tr>\n",
       "    <tr>\n",
       "      <th>364469</th>\n",
       "      <td>2022-06-29</td>\n",
       "      <td>SK바사  토종 백신 1호  식약처 승인 소식에 3 대 강세</td>\n",
       "      <td>2022-06-30</td>\n",
       "      <td>-6.67</td>\n",
       "      <td>-1</td>\n",
       "      <td>1</td>\n",
       "      <td>0</td>\n",
       "      <td>0</td>\n",
       "      <td>1</td>\n",
       "      <td>바사 토종 백신 호 식약처 승인 소식 강세</td>\n",
       "      <td>388.689351</td>\n",
       "      <td>1</td>\n",
       "    </tr>\n",
       "    <tr>\n",
       "      <th>364470</th>\n",
       "      <td>2022-06-29</td>\n",
       "      <td>장중시황  코스피  1 4  내린 2389선 경기 침체 우려에 약세</td>\n",
       "      <td>2022-06-30</td>\n",
       "      <td>-6.67</td>\n",
       "      <td>-1</td>\n",
       "      <td>0</td>\n",
       "      <td>1</td>\n",
       "      <td>0</td>\n",
       "      <td>-1</td>\n",
       "      <td>장 황 코스피 선 경기 침체 우려 약세</td>\n",
       "      <td>-832.257109</td>\n",
       "      <td>-1</td>\n",
       "    </tr>\n",
       "    <tr>\n",
       "      <th>364471</th>\n",
       "      <td>2022-06-29</td>\n",
       "      <td>새빗켐  증권신고서 제출 코스닥 상장 본격화</td>\n",
       "      <td>2022-06-30</td>\n",
       "      <td>-6.67</td>\n",
       "      <td>-1</td>\n",
       "      <td>1</td>\n",
       "      <td>0</td>\n",
       "      <td>0</td>\n",
       "      <td>1</td>\n",
       "      <td>새빗켐 증권 신고 제출 코스닥 상장 본격</td>\n",
       "      <td>850.834095</td>\n",
       "      <td>1</td>\n",
       "    </tr>\n",
       "  </tbody>\n",
       "</table>\n",
       "<p>364333 rows × 12 columns</p>\n",
       "</div>"
      ],
      "text/plain": [
       "              Date                                   Title      주가의 날짜   등락률  \\\n",
       "0       2021-01-04                 정영채 NH證 대표  고객과의 신뢰 중요   2021-01-05  2.24   \n",
       "1       2021-01-04                 마감 국채선물 상승  111 52 증가5틱  2021-01-05  2.24   \n",
       "2       2021-01-04    새해 첫날 주식시장 축포   2900  돌파   3000  초읽기  2021-01-05  2.24   \n",
       "3       2021-01-04                   프로스테믹스  시설 증설에 55억 투자  2021-01-05  2.24   \n",
       "4       2021-01-04                      마감 프로그램 5841억 매도우위  2021-01-05  2.24   \n",
       "...            ...                                     ...         ...   ...   \n",
       "364467  2022-06-29    수젠텍  원숭이두창 분자진단제품 개발 중 분자진단 플렛폼기술 확보  2022-06-30 -6.67   \n",
       "364468  2022-06-29             LS 주가 하락장서 역주행  모든 사업부가 호황   2022-06-30 -6.67   \n",
       "364469  2022-06-29       SK바사  토종 백신 1호  식약처 승인 소식에 3 대 강세  2022-06-30 -6.67   \n",
       "364470  2022-06-29   장중시황  코스피  1 4  내린 2389선 경기 침체 우려에 약세  2022-06-30 -6.67   \n",
       "364471  2022-06-29                새빗켐  증권신고서 제출 코스닥 상장 본격화  2022-06-30 -6.67   \n",
       "\n",
       "        updown  Pos  Neg  Mid  감성지수  \\\n",
       "0            1    1    0    0     1   \n",
       "1            1    1    0    0     1   \n",
       "2            1    1    0    0     1   \n",
       "3            1    1    0    0     1   \n",
       "4            1    1    1    0     1   \n",
       "...        ...  ...  ...  ...   ...   \n",
       "364467      -1    1    1    0     1   \n",
       "364468      -1    1    1    0     1   \n",
       "364469      -1    1    0    0     1   \n",
       "364470      -1    0    1    0    -1   \n",
       "364471      -1    1    0    0     1   \n",
       "\n",
       "                                            nouns   sent_score  sent_label  \n",
       "0                                정 영채 대표 고객 신뢰 중요    52.637560           1  \n",
       "1                                   마감 국채선물 상승 증가  2113.599047           1  \n",
       "2                            새해 첫날 주식시장 축포 돌파 초읽기   265.428439           1  \n",
       "3                               프로 스테 믹스 시설 증설 투자   701.723391           1  \n",
       "4                                   마감 프로그램 매도 우위 -1310.488684          -1  \n",
       "...                                           ...          ...         ...  \n",
       "364467  수젠텍 원숭이 두창 분자 진단 제품 개발 중 분자 진단 플렛 폼 기술 확보   -54.156842          -1  \n",
       "364468                   주가 하락 장서 역주행 모든 사업 부가 호황 -1642.033698          -1  \n",
       "364469                    바사 토종 백신 호 식약처 승인 소식 강세   388.689351           1  \n",
       "364470                      장 황 코스피 선 경기 침체 우려 약세  -832.257109          -1  \n",
       "364471                     새빗켐 증권 신고 제출 코스닥 상장 본격   850.834095           1  \n",
       "\n",
       "[364333 rows x 12 columns]"
      ]
     },
     "execution_count": 59,
     "metadata": {},
     "output_type": "execute_result"
    }
   ],
   "source": [
    "a_ = []\n",
    "for i in tqdm(range(len(df))) :  \n",
    "    if df.iloc[i]['sent_score'] > 5 :    # ========================================================================숫자 확정 필요!!!\n",
    "        a_.append(1)\n",
    "    elif df.iloc[i]['sent_score'] < sent_mean :\n",
    "        a_.append(-1)\n",
    "    else :\n",
    "        a_.append(0)\n",
    "df['sent_label'] = a_\n",
    "df"
   ]
  },
  {
   "cell_type": "code",
   "execution_count": 60,
   "id": "1d3fe83e",
   "metadata": {
    "ExecuteTime": {
     "end_time": "2022-07-12T02:25:39.947549Z",
     "start_time": "2022-07-12T02:25:39.921584Z"
    }
   },
   "outputs": [
    {
     "data": {
      "text/plain": [
       " 1    218300\n",
       "-1    143064\n",
       " 0      2969\n",
       "Name: sent_label, dtype: int64"
      ]
     },
     "execution_count": 60,
     "metadata": {},
     "output_type": "execute_result"
    }
   ],
   "source": [
    "df['sent_label'].value_counts()"
   ]
  },
  {
   "cell_type": "code",
   "execution_count": 61,
   "id": "92935d5f",
   "metadata": {
    "ExecuteTime": {
     "end_time": "2022-07-12T02:29:02.022762Z",
     "start_time": "2022-07-12T02:29:01.966302Z"
    }
   },
   "outputs": [],
   "source": [
    "df['tokenized'] = 0"
   ]
  },
  {
   "cell_type": "code",
   "execution_count": 63,
   "id": "1734c2c3",
   "metadata": {
    "ExecuteTime": {
     "end_time": "2022-07-12T02:49:49.152563Z",
     "start_time": "2022-07-12T02:29:33.583062Z"
    }
   },
   "outputs": [],
   "source": [
    "df.dropna(how = 'any', inplace = True)\n",
    "\n",
    "# 형태소 분석\n",
    "df['tokenized'] = df['Title'].apply(okt.morphs)  # 또는 자유롭게 라이브러리 사용\n",
    "\n",
    "# X_train = df['tokenized'].values\n",
    "# Y_train = df['sent_label'].values\n",
    "\n",
    "# df.to_csv('./data/[Model4]tokenized_added_df.csv', encoding = 'utf-8-sig')"
   ]
  },
  {
   "cell_type": "code",
   "execution_count": 77,
   "id": "21786d93",
   "metadata": {
    "ExecuteTime": {
     "end_time": "2022-07-12T03:09:55.094891Z",
     "start_time": "2022-07-12T03:09:55.081602Z"
    }
   },
   "outputs": [],
   "source": [
    "X_train = df['tokenized']\n",
    "Y_train = df['sent_label']"
   ]
  },
  {
   "cell_type": "code",
   "execution_count": 78,
   "id": "dd167f6d",
   "metadata": {
    "ExecuteTime": {
     "end_time": "2022-07-12T03:10:02.379906Z",
     "start_time": "2022-07-12T03:09:58.669363Z"
    }
   },
   "outputs": [],
   "source": [
    "tokenizer = Tokenizer()\n",
    "tokenizer.fit_on_texts(X_train)"
   ]
  },
  {
   "cell_type": "code",
   "execution_count": 79,
   "id": "a7acf303",
   "metadata": {
    "ExecuteTime": {
     "end_time": "2022-07-12T03:10:03.046146Z",
     "start_time": "2022-07-12T03:10:02.971505Z"
    }
   },
   "outputs": [
    {
     "name": "stderr",
     "output_type": "stream",
     "text": [
      "100%|███████████████████████████████████████████████████████████████████████| 74145/74145 [00:00<00:00, 1183408.25it/s]"
     ]
    },
    {
     "name": "stdout",
     "output_type": "stream",
     "text": [
      "전체 단어 수 : 74145\n",
      "빈도가 2 이하인 희귀 단어 수 : 38647\n",
      "희귀 단어 비율 : 52.12354170881382\n",
      "희귀 단어 등장 빈도 비율 : 1.2027451867060537\n"
     ]
    },
    {
     "name": "stderr",
     "output_type": "stream",
     "text": [
      "\n"
     ]
    }
   ],
   "source": [
    "# 빈도 수가 낮은 단어 제거\n",
    "threshold = 3     # 3개 미만으로 등장하는 단어 제거\n",
    "\n",
    "words_cnt = len(tokenizer.word_index)\n",
    "rare_cnt = 0\n",
    "words_freq = 0\n",
    "rare_freq = 0\n",
    "\n",
    "for key, value in tqdm(tokenizer.word_counts.items()) : \n",
    "    words_freq = words_freq + value\n",
    "\n",
    "    if value < threshold : \n",
    "        rare_cnt += 1\n",
    "        rare_freq += value\n",
    "\n",
    "print(\"전체 단어 수 :\", words_cnt)\n",
    "print(\"빈도가 {} 이하인 희귀 단어 수 : {}\".format(threshold-1, rare_cnt))\n",
    "print(\"희귀 단어 비율 : {}\".format((rare_cnt/words_cnt) * 100))\n",
    "print(\"희귀 단어 등장 빈도 비율 : {}\".format((rare_freq / words_freq) * 100))"
   ]
  },
  {
   "cell_type": "code",
   "execution_count": 80,
   "id": "a8619ef9",
   "metadata": {
    "ExecuteTime": {
     "end_time": "2022-07-12T03:10:03.683693Z",
     "start_time": "2022-07-12T03:10:03.669514Z"
    }
   },
   "outputs": [
    {
     "name": "stdout",
     "output_type": "stream",
     "text": [
      "35500\n"
     ]
    }
   ],
   "source": [
    "vocab_size = words_cnt - rare_cnt + 2\n",
    "# vocab_size = words_cnt - rare_cnt     # +2 는 패딩, OOV???\n",
    "print(vocab_size)"
   ]
  },
  {
   "cell_type": "code",
   "execution_count": 81,
   "id": "22a790a3",
   "metadata": {
    "ExecuteTime": {
     "end_time": "2022-07-12T03:10:13.479302Z",
     "start_time": "2022-07-12T03:10:04.242293Z"
    }
   },
   "outputs": [],
   "source": [
    "tokenizer = Tokenizer(vocab_size, oov_token = 'OOV') \n",
    "tokenizer.fit_on_texts(X_train)\n",
    "X_train = tokenizer.texts_to_sequences(X_train)"
   ]
  },
  {
   "cell_type": "code",
   "execution_count": 82,
   "id": "36cd4b21",
   "metadata": {
    "ExecuteTime": {
     "end_time": "2022-07-12T03:10:14.518073Z",
     "start_time": "2022-07-12T03:10:14.488926Z"
    }
   },
   "outputs": [
    {
     "name": "stdout",
     "output_type": "stream",
     "text": [
      "리뷰 최대 길이 : 42\n"
     ]
    }
   ],
   "source": [
    "print('리뷰 최대 길이 :', max(len(i) for i in X_train))"
   ]
  },
  {
   "cell_type": "code",
   "execution_count": 83,
   "id": "cceefed1",
   "metadata": {
    "ExecuteTime": {
     "end_time": "2022-07-12T03:10:16.581211Z",
     "start_time": "2022-07-12T03:10:15.571274Z"
    }
   },
   "outputs": [],
   "source": [
    "# 패딩\n",
    "max_len = max(len(i) for i in X_train)\n",
    "\n",
    "X_train = pad_sequences(X_train, maxlen = max_len)"
   ]
  },
  {
   "cell_type": "code",
   "execution_count": 84,
   "id": "ad617a8d",
   "metadata": {
    "ExecuteTime": {
     "end_time": "2022-07-12T03:10:17.173620Z",
     "start_time": "2022-07-12T03:10:17.159580Z"
    }
   },
   "outputs": [],
   "source": [
    "from tensorflow.keras.utils import to_categorical\n",
    "Y_train = to_categorical(Y_train, 3)"
   ]
  },
  {
   "cell_type": "markdown",
   "id": "796280f3",
   "metadata": {},
   "source": [
    "#### 모델링-LSTM"
   ]
  },
  {
   "cell_type": "code",
   "execution_count": 75,
   "id": "6e82572a",
   "metadata": {
    "ExecuteTime": {
     "end_time": "2022-07-12T03:08:51.083780Z",
     "start_time": "2022-07-12T03:08:51.060779Z"
    }
   },
   "outputs": [],
   "source": [
    "from tensorflow.keras.layers import Embedding, Dense, LSTM, Bidirectional\n",
    "from tensorflow.keras.models import Sequential, load_model\n",
    "from tensorflow.keras.callbacks import EarlyStopping, ModelCheckpoint"
   ]
  },
  {
   "cell_type": "code",
   "execution_count": 86,
   "id": "8a7af88f",
   "metadata": {
    "ExecuteTime": {
     "end_time": "2022-07-12T03:32:12.896775Z",
     "start_time": "2022-07-12T03:11:04.498599Z"
    }
   },
   "outputs": [
    {
     "name": "stdout",
     "output_type": "stream",
     "text": [
      "Epoch 1/15\n",
      "1139/1139 [==============================] - ETA: 0s - loss: 0.1572 - acc: 0.9403\n",
      "Epoch 1: val_acc improved from -inf to 0.96963, saving model to 2real_lstm_model4.h5\n",
      "1139/1139 [==============================] - 160s 137ms/step - loss: 0.1572 - acc: 0.9403 - val_loss: 0.0851 - val_acc: 0.9696\n",
      "Epoch 2/15\n",
      "1139/1139 [==============================] - ETA: 0s - loss: 0.0744 - acc: 0.9747\n",
      "Epoch 2: val_acc improved from 0.96963 to 0.97512, saving model to 2real_lstm_model4.h5\n",
      "1139/1139 [==============================] - 162s 142ms/step - loss: 0.0744 - acc: 0.9747 - val_loss: 0.0740 - val_acc: 0.9751\n",
      "Epoch 3/15\n",
      "1139/1139 [==============================] - ETA: 0s - loss: 0.0621 - acc: 0.9793\n",
      "Epoch 3: val_acc improved from 0.97512 to 0.97572, saving model to 2real_lstm_model4.h5\n",
      "1139/1139 [==============================] - 156s 137ms/step - loss: 0.0621 - acc: 0.9793 - val_loss: 0.0685 - val_acc: 0.9757\n",
      "Epoch 4/15\n",
      "1139/1139 [==============================] - ETA: 0s - loss: 0.0548 - acc: 0.9821\n",
      "Epoch 4: val_acc improved from 0.97572 to 0.97578, saving model to 2real_lstm_model4.h5\n",
      "1139/1139 [==============================] - 154s 136ms/step - loss: 0.0548 - acc: 0.9821 - val_loss: 0.0711 - val_acc: 0.9758\n",
      "Epoch 5/15\n",
      "1139/1139 [==============================] - ETA: 0s - loss: 0.0486 - acc: 0.9842\n",
      "Epoch 5: val_acc did not improve from 0.97578\n",
      "1139/1139 [==============================] - 162s 142ms/step - loss: 0.0486 - acc: 0.9842 - val_loss: 0.0762 - val_acc: 0.9735\n",
      "Epoch 6/15\n",
      "1139/1139 [==============================] - ETA: 0s - loss: 0.0430 - acc: 0.9860\n",
      "Epoch 6: val_acc did not improve from 0.97578\n",
      "1139/1139 [==============================] - 157s 138ms/step - loss: 0.0430 - acc: 0.9860 - val_loss: 0.0840 - val_acc: 0.9730\n",
      "Epoch 7/15\n",
      "1139/1139 [==============================] - ETA: 0s - loss: 0.0382 - acc: 0.9876\n",
      "Epoch 7: val_acc did not improve from 0.97578\n",
      "1139/1139 [==============================] - 158s 139ms/step - loss: 0.0382 - acc: 0.9876 - val_loss: 0.0828 - val_acc: 0.9724\n",
      "Epoch 8/15\n",
      "1139/1139 [==============================] - ETA: 0s - loss: 0.0339 - acc: 0.9890\n",
      "Epoch 8: val_acc did not improve from 0.97578\n",
      "1139/1139 [==============================] - 158s 138ms/step - loss: 0.0339 - acc: 0.9890 - val_loss: 0.0822 - val_acc: 0.9742\n",
      "Epoch 8: early stopping\n",
      "Model: \"sequential_2\"\n",
      "_________________________________________________________________\n",
      " Layer (type)                Output Shape              Param #   \n",
      "=================================================================\n",
      " embedding_2 (Embedding)     (None, None, 100)         3550000   \n",
      "                                                                 \n",
      " bidirectional_2 (Bidirectio  (None, 200)              160800    \n",
      " nal)                                                            \n",
      "                                                                 \n",
      " dense_2 (Dense)             (None, 3)                 603       \n",
      "                                                                 \n",
      "=================================================================\n",
      "Total params: 3,711,403\n",
      "Trainable params: 3,711,403\n",
      "Non-trainable params: 0\n",
      "_________________________________________________________________\n"
     ]
    }
   ],
   "source": [
    "model = Sequential()\n",
    "model.add(Embedding(vocab_size, 100))\n",
    "model.add(Bidirectional(LSTM(100)))\n",
    "# model.add(Dense(60))\n",
    "model.add(Dense(3, activation = 'softmax'))\n",
    "\n",
    "# val_loss를 관찰값으로 설정, 그 값이 감소하는 걸 멈출 때 학습 종료\n",
    "es = EarlyStopping(monitor = 'val_loss', mode = 'min', verbose=1, patience=5)\n",
    "\n",
    "mc = ModelCheckpoint('2real_lstm_model4.h5', monitor = 'val_acc', mode = 'max', verbose = 1, save_best_only=True)\n",
    "\n",
    "model.compile(optimizer='rmsprop', loss='categorical_crossentropy', metrics=['acc'])\n",
    "history = model.fit(X_train, Y_train, epochs=15, callbacks=[es, mc], batch_size=256, validation_split=0.2)\n",
    "\n",
    "model.summary()"
   ]
  },
  {
   "cell_type": "code",
   "execution_count": 96,
   "id": "ff40cade",
   "metadata": {
    "ExecuteTime": {
     "end_time": "2022-07-12T03:43:08.731527Z",
     "start_time": "2022-07-12T03:43:08.716073Z"
    }
   },
   "outputs": [],
   "source": [
    "Y_result = df['updown'].values"
   ]
  },
  {
   "cell_type": "code",
   "execution_count": 97,
   "id": "5f9ff178",
   "metadata": {
    "ExecuteTime": {
     "end_time": "2022-07-12T03:45:12.001853Z",
     "start_time": "2022-07-12T03:43:10.452932Z"
    }
   },
   "outputs": [
    {
     "name": "stdout",
     "output_type": "stream",
     "text": [
      "11386/11386 [==============================] - 121s 10ms/step - loss: 0.0497 - acc: 0.9840\n"
     ]
    },
    {
     "data": {
      "text/plain": [
       "[0.04971154406666756, 0.9839679598808289]"
      ]
     },
     "execution_count": 97,
     "metadata": {},
     "output_type": "execute_result"
    }
   ],
   "source": [
    "# 저장된 모델 불러오기, 평가\n",
    "loaded_model = load_model('2real_lstm_model4.h5')\n",
    "loaded_model.evaluate(X_train, Y_train)"
   ]
  },
  {
   "cell_type": "code",
   "execution_count": 99,
   "id": "722e0cf1",
   "metadata": {
    "ExecuteTime": {
     "end_time": "2022-07-12T03:45:53.140559Z",
     "start_time": "2022-07-12T03:45:51.842523Z"
    }
   },
   "outputs": [
    {
     "ename": "ValueError",
     "evalue": "in user code:\n\n    File \"C:\\Users\\jinyo\\.conda\\envs\\py123\\lib\\site-packages\\keras\\engine\\training.py\", line 1525, in test_function  *\n        return step_function(self, iterator)\n    File \"C:\\Users\\jinyo\\.conda\\envs\\py123\\lib\\site-packages\\keras\\engine\\training.py\", line 1514, in step_function  **\n        outputs = model.distribute_strategy.run(run_step, args=(data,))\n    File \"C:\\Users\\jinyo\\.conda\\envs\\py123\\lib\\site-packages\\keras\\engine\\training.py\", line 1507, in run_step  **\n        outputs = model.test_step(data)\n    File \"C:\\Users\\jinyo\\.conda\\envs\\py123\\lib\\site-packages\\keras\\engine\\training.py\", line 1473, in test_step\n        self.compute_loss(x, y, y_pred, sample_weight)\n    File \"C:\\Users\\jinyo\\.conda\\envs\\py123\\lib\\site-packages\\keras\\engine\\training.py\", line 918, in compute_loss\n        return self.compiled_loss(\n    File \"C:\\Users\\jinyo\\.conda\\envs\\py123\\lib\\site-packages\\keras\\engine\\compile_utils.py\", line 201, in __call__\n        loss_value = loss_obj(y_t, y_p, sample_weight=sw)\n    File \"C:\\Users\\jinyo\\.conda\\envs\\py123\\lib\\site-packages\\keras\\losses.py\", line 141, in __call__\n        losses = call_fn(y_true, y_pred)\n    File \"C:\\Users\\jinyo\\.conda\\envs\\py123\\lib\\site-packages\\keras\\losses.py\", line 245, in call  **\n        return ag_fn(y_true, y_pred, **self._fn_kwargs)\n    File \"C:\\Users\\jinyo\\.conda\\envs\\py123\\lib\\site-packages\\keras\\losses.py\", line 1789, in categorical_crossentropy\n        return backend.categorical_crossentropy(\n    File \"C:\\Users\\jinyo\\.conda\\envs\\py123\\lib\\site-packages\\keras\\backend.py\", line 5083, in categorical_crossentropy\n        target.shape.assert_is_compatible_with(output.shape)\n\n    ValueError: Shapes (None, 1) and (None, 3) are incompatible\n",
     "output_type": "error",
     "traceback": [
      "\u001b[1;31m---------------------------------------------------------------------------\u001b[0m",
      "\u001b[1;31mValueError\u001b[0m                                Traceback (most recent call last)",
      "Input \u001b[1;32mIn [99]\u001b[0m, in \u001b[0;36m<cell line: 2>\u001b[1;34m()\u001b[0m\n\u001b[0;32m      1\u001b[0m loaded_model \u001b[38;5;241m=\u001b[39m load_model(\u001b[38;5;124m'\u001b[39m\u001b[38;5;124m2real_lstm_model4.h5\u001b[39m\u001b[38;5;124m'\u001b[39m)\n\u001b[1;32m----> 2\u001b[0m \u001b[43mloaded_model\u001b[49m\u001b[38;5;241;43m.\u001b[39;49m\u001b[43mevaluate\u001b[49m\u001b[43m(\u001b[49m\u001b[43mX_train\u001b[49m\u001b[43m,\u001b[49m\u001b[43m \u001b[49m\u001b[43mY_result\u001b[49m\u001b[43m)\u001b[49m\n",
      "File \u001b[1;32m~\\.conda\\envs\\py123\\lib\\site-packages\\keras\\utils\\traceback_utils.py:67\u001b[0m, in \u001b[0;36mfilter_traceback.<locals>.error_handler\u001b[1;34m(*args, **kwargs)\u001b[0m\n\u001b[0;32m     65\u001b[0m \u001b[38;5;28;01mexcept\u001b[39;00m \u001b[38;5;167;01mException\u001b[39;00m \u001b[38;5;28;01mas\u001b[39;00m e:  \u001b[38;5;66;03m# pylint: disable=broad-except\u001b[39;00m\n\u001b[0;32m     66\u001b[0m   filtered_tb \u001b[38;5;241m=\u001b[39m _process_traceback_frames(e\u001b[38;5;241m.\u001b[39m__traceback__)\n\u001b[1;32m---> 67\u001b[0m   \u001b[38;5;28;01mraise\u001b[39;00m e\u001b[38;5;241m.\u001b[39mwith_traceback(filtered_tb) \u001b[38;5;28;01mfrom\u001b[39;00m \u001b[38;5;28mNone\u001b[39m\n\u001b[0;32m     68\u001b[0m \u001b[38;5;28;01mfinally\u001b[39;00m:\n\u001b[0;32m     69\u001b[0m   \u001b[38;5;28;01mdel\u001b[39;00m filtered_tb\n",
      "File \u001b[1;32m~\\.conda\\envs\\py123\\lib\\site-packages\\tensorflow\\python\\framework\\func_graph.py:1147\u001b[0m, in \u001b[0;36mfunc_graph_from_py_func.<locals>.autograph_handler\u001b[1;34m(*args, **kwargs)\u001b[0m\n\u001b[0;32m   1145\u001b[0m \u001b[38;5;28;01mexcept\u001b[39;00m \u001b[38;5;167;01mException\u001b[39;00m \u001b[38;5;28;01mas\u001b[39;00m e:  \u001b[38;5;66;03m# pylint:disable=broad-except\u001b[39;00m\n\u001b[0;32m   1146\u001b[0m   \u001b[38;5;28;01mif\u001b[39;00m \u001b[38;5;28mhasattr\u001b[39m(e, \u001b[38;5;124m\"\u001b[39m\u001b[38;5;124mag_error_metadata\u001b[39m\u001b[38;5;124m\"\u001b[39m):\n\u001b[1;32m-> 1147\u001b[0m     \u001b[38;5;28;01mraise\u001b[39;00m e\u001b[38;5;241m.\u001b[39mag_error_metadata\u001b[38;5;241m.\u001b[39mto_exception(e)\n\u001b[0;32m   1148\u001b[0m   \u001b[38;5;28;01melse\u001b[39;00m:\n\u001b[0;32m   1149\u001b[0m     \u001b[38;5;28;01mraise\u001b[39;00m\n",
      "\u001b[1;31mValueError\u001b[0m: in user code:\n\n    File \"C:\\Users\\jinyo\\.conda\\envs\\py123\\lib\\site-packages\\keras\\engine\\training.py\", line 1525, in test_function  *\n        return step_function(self, iterator)\n    File \"C:\\Users\\jinyo\\.conda\\envs\\py123\\lib\\site-packages\\keras\\engine\\training.py\", line 1514, in step_function  **\n        outputs = model.distribute_strategy.run(run_step, args=(data,))\n    File \"C:\\Users\\jinyo\\.conda\\envs\\py123\\lib\\site-packages\\keras\\engine\\training.py\", line 1507, in run_step  **\n        outputs = model.test_step(data)\n    File \"C:\\Users\\jinyo\\.conda\\envs\\py123\\lib\\site-packages\\keras\\engine\\training.py\", line 1473, in test_step\n        self.compute_loss(x, y, y_pred, sample_weight)\n    File \"C:\\Users\\jinyo\\.conda\\envs\\py123\\lib\\site-packages\\keras\\engine\\training.py\", line 918, in compute_loss\n        return self.compiled_loss(\n    File \"C:\\Users\\jinyo\\.conda\\envs\\py123\\lib\\site-packages\\keras\\engine\\compile_utils.py\", line 201, in __call__\n        loss_value = loss_obj(y_t, y_p, sample_weight=sw)\n    File \"C:\\Users\\jinyo\\.conda\\envs\\py123\\lib\\site-packages\\keras\\losses.py\", line 141, in __call__\n        losses = call_fn(y_true, y_pred)\n    File \"C:\\Users\\jinyo\\.conda\\envs\\py123\\lib\\site-packages\\keras\\losses.py\", line 245, in call  **\n        return ag_fn(y_true, y_pred, **self._fn_kwargs)\n    File \"C:\\Users\\jinyo\\.conda\\envs\\py123\\lib\\site-packages\\keras\\losses.py\", line 1789, in categorical_crossentropy\n        return backend.categorical_crossentropy(\n    File \"C:\\Users\\jinyo\\.conda\\envs\\py123\\lib\\site-packages\\keras\\backend.py\", line 5083, in categorical_crossentropy\n        target.shape.assert_is_compatible_with(output.shape)\n\n    ValueError: Shapes (None, 1) and (None, 3) are incompatible\n"
     ]
    }
   ],
   "source": [
    "loaded_model = load_model('2real_lstm_model4.h5')\n",
    "loaded_model.evaluate(X_train, Y_result)   # 실제 값과 비교???"
   ]
  },
  {
   "cell_type": "code",
   "execution_count": 100,
   "id": "0852fac5",
   "metadata": {
    "ExecuteTime": {
     "end_time": "2022-07-12T03:46:19.811057Z",
     "start_time": "2022-07-12T03:46:19.802232Z"
    }
   },
   "outputs": [],
   "source": [
    "# 임의 불용어\n",
    "stopwords1 = ['의','가','이','은','들','는','좀','잘','걍','과','도','를','으로','자','에','와','한','하다']\n",
    "stopwords2 = ['도', '는', '다', '의', '가', '이', '은', '한', '에', '하', '고', '을', '를', '인', '듯', '과', '와', '네', '들', '듯', '지', '임', '게']\n",
    "stopwords = list(set(stopwords1 + stopwords2))\n",
    "\n",
    "def sentiment_predict(new_sentence):\n",
    "    new_token = [word for word in okt.morphs(new_sentence) if not word in stopwords]\n",
    "    new_sequences = tokenizer.texts_to_sequences([new_token])\n",
    "    new_pad = pad_sequences(new_sequences, maxlen = max_len)\n",
    "    # score = float(loaded_model.predict(new_pad))\n",
    "    score = loaded_model.predict(new_pad)\n",
    "\n",
    "    if np.argmax(score) == 0 :\n",
    "        print(\"{} -> 긍정 ({:.2f}%)\\n\".format(new_sentence, score.max() * 100))\n",
    "    elif np.argmax(score) == 1 :\n",
    "        print(\"{} -> 모름 ({:.2f}%)\\n\".format(new_sentence, score.max() * 100))\n",
    "    elif np.argmax(score) == 2 :\n",
    "        print(\"{} -> 부정 ({:.2f}%)\\n\".format(new_sentence, score.max() * 100))"
   ]
  },
  {
   "cell_type": "code",
   "execution_count": 101,
   "id": "7dc755a0",
   "metadata": {
    "ExecuteTime": {
     "end_time": "2022-07-12T03:46:21.114975Z",
     "start_time": "2022-07-12T03:46:20.391571Z"
    }
   },
   "outputs": [
    {
     "name": "stdout",
     "output_type": "stream",
     "text": [
      "[유럽개장] 장초반 상승세…英 1.03%↑ -> 모름 (99.96%)\n",
      "\n",
      "[시황종합] 코스피, '침체우려'에 장중 연저점 경신…2300선 턱걸이 마감 -> 부정 (100.00%)\n",
      "\n",
      "[이번주 증시] 경기침체 우려 지속…반등시 포트폴리오 재정비 -> 부정 (100.00%)\n",
      "\n",
      "'2차전지 너마저'…인플레·경기침체에 장사 없나 [한경우의 케이스스터디] -> 부정 (99.95%)\n",
      "\n",
      "기관 매도 연일 증시 폭락 -> 부정 (100.00%)\n",
      "\n"
     ]
    }
   ],
   "source": [
    "sentiment_predict(\"[유럽개장] 장초반 상승세…英 1.03%↑\")\n",
    "sentiment_predict(\"[시황종합] 코스피, '침체우려'에 장중 연저점 경신…2300선 턱걸이 마감\")\n",
    "sentiment_predict(\"[이번주 증시] 경기침체 우려 지속…반등시 포트폴리오 재정비\")\n",
    "sentiment_predict(\"'2차전지 너마저'…인플레·경기침체에 장사 없나 [한경우의 케이스스터디]\")\n",
    "sentiment_predict(\"기관 매도 연일 증시 폭락\")"
   ]
  },
  {
   "cell_type": "code",
   "execution_count": null,
   "id": "b584b794",
   "metadata": {},
   "outputs": [],
   "source": []
  }
 ],
 "metadata": {
  "colab": {
   "collapsed_sections": [],
   "name": "220707 [Model2] (SP based Dict LSTM) sentiment analysis.ipynb",
   "provenance": []
  },
  "kernelspec": {
   "display_name": "Python 3 (ipykernel)",
   "language": "python",
   "name": "python3"
  },
  "language_info": {
   "codemirror_mode": {
    "name": "ipython",
    "version": 3
   },
   "file_extension": ".py",
   "mimetype": "text/x-python",
   "name": "python",
   "nbconvert_exporter": "python",
   "pygments_lexer": "ipython3",
   "version": "3.9.12"
  },
  "toc": {
   "base_numbering": 1,
   "nav_menu": {},
   "number_sections": true,
   "sideBar": true,
   "skip_h1_title": false,
   "title_cell": "Table of Contents",
   "title_sidebar": "Contents",
   "toc_cell": false,
   "toc_position": {
    "height": "calc(100% - 180px)",
    "left": "10px",
    "top": "150px",
    "width": "341.333px"
   },
   "toc_section_display": true,
   "toc_window_display": true
  },
  "varInspector": {
   "cols": {
    "lenName": 16,
    "lenType": 16,
    "lenVar": 40
   },
   "kernels_config": {
    "python": {
     "delete_cmd_postfix": "",
     "delete_cmd_prefix": "del ",
     "library": "var_list.py",
     "varRefreshCmd": "print(var_dic_list())"
    },
    "r": {
     "delete_cmd_postfix": ") ",
     "delete_cmd_prefix": "rm(",
     "library": "var_list.r",
     "varRefreshCmd": "cat(var_dic_list()) "
    }
   },
   "types_to_exclude": [
    "module",
    "function",
    "builtin_function_or_method",
    "instance",
    "_Feature"
   ],
   "window_display": false
  }
 },
 "nbformat": 4,
 "nbformat_minor": 5
}
